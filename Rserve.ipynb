{
 "cells": [
  {
   "cell_type": "code",
   "execution_count": 1,
   "id": "86ef0fbb",
   "metadata": {},
   "outputs": [],
   "source": [
    "library(Rserve)"
   ]
  },
  {
   "cell_type": "code",
   "execution_count": 2,
   "id": "55964928",
   "metadata": {},
   "outputs": [
    {
     "name": "stdout",
     "output_type": "stream",
     "text": [
      "Starting Rserve on port 6311 :\n",
      " /Users/tj/opt/anaconda3/envs/RBase/lib/R/bin/R CMD /Users/tj/opt/anaconda3/envs/RBase/lib/R/library/Rserve/libs//Rserve --RS-encoding utf8 --no-save --RS-port 6311 \n",
      "\n"
     ]
    }
   ],
   "source": [
    "Rserve(FALSE,port=6311, args ='--RS-encoding utf8 --no-save');"
   ]
  },
  {
   "cell_type": "code",
   "execution_count": null,
   "id": "81e13b39",
   "metadata": {},
   "outputs": [],
   "source": []
  }
 ],
 "metadata": {
  "kernelspec": {
   "display_name": "R",
   "language": "R",
   "name": "ir"
  },
  "language_info": {
   "codemirror_mode": "r",
   "file_extension": ".r",
   "mimetype": "text/x-r-source",
   "name": "R",
   "pygments_lexer": "r",
   "version": "3.6.1"
  }
 },
 "nbformat": 4,
 "nbformat_minor": 5
}

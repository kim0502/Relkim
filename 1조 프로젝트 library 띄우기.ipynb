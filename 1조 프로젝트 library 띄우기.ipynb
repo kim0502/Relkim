{
 "cells": [
  {
   "cell_type": "code",
   "execution_count": 1,
   "id": "f83b0eb1",
   "metadata": {},
   "outputs": [
    {
     "name": "stdout",
     "output_type": "stream",
     "text": [
      "Starting Rserve on port 6311 :\n",
      " /Users/tj/opt/anaconda3/envs/RBase/lib/R/bin/R CMD /Users/tj/opt/anaconda3/envs/RBase/lib/R/library/Rserve/libs//Rserve --RS-encoding utf8 --slave --encoding utf8 --internet2 --RS-port 6311 \n",
      "\n",
      "Starting Rserve:\n",
      " /Users/tj/opt/anaconda3/envs/RBase/lib/R/bin/R CMD /Users/tj/opt/anaconda3/envs/RBase/lib/R/library/Rserve/libs//Rserve --RS- encoding utf8 \n",
      "\n"
     ]
    }
   ],
   "source": [
    "library(Rserve)\n",
    "Rserve(debug =  FALSE, port = 6311,args = '--RS-encoding utf8 --slave --encoding utf8 --internet2')\n",
    "Rserve(args = \"--RS- encoding utf8\")"
   ]
  },
  {
   "cell_type": "code",
   "execution_count": null,
   "id": "00eea23b",
   "metadata": {},
   "outputs": [],
   "source": []
  }
 ],
 "metadata": {
  "kernelspec": {
   "display_name": "R",
   "language": "R",
   "name": "ir"
  },
  "language_info": {
   "codemirror_mode": "r",
   "file_extension": ".r",
   "mimetype": "text/x-r-source",
   "name": "R",
   "pygments_lexer": "r",
   "version": "3.6.1"
  }
 },
 "nbformat": 4,
 "nbformat_minor": 5
}

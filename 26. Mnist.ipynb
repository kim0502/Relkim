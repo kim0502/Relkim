{
 "cells": [
  {
   "cell_type": "code",
   "execution_count": 1,
   "id": "c6bab371",
   "metadata": {},
   "outputs": [],
   "source": [
    "# 지도학습은 분류만 가능하다."
   ]
  },
  {
   "cell_type": "code",
   "execution_count": 2,
   "id": "37c0c32c",
   "metadata": {
    "scrolled": false
   },
   "outputs": [
    {
     "data": {
      "text/html": [
       "<table>\n",
       "<thead><tr><th scope=col>V1</th><th scope=col>V2</th><th scope=col>V3</th><th scope=col>V4</th><th scope=col>V5</th><th scope=col>V6</th><th scope=col>V7</th><th scope=col>V8</th><th scope=col>V9</th><th scope=col>V10</th><th scope=col>...</th><th scope=col>V776</th><th scope=col>V777</th><th scope=col>V778</th><th scope=col>V779</th><th scope=col>V780</th><th scope=col>V781</th><th scope=col>V782</th><th scope=col>V783</th><th scope=col>V784</th><th scope=col>V785</th></tr></thead>\n",
       "<tbody>\n",
       "\t<tr><td>5  </td><td>0  </td><td>0  </td><td>0  </td><td>0  </td><td>0  </td><td>0  </td><td>0  </td><td>0  </td><td>0  </td><td>...</td><td>0  </td><td>0  </td><td>0  </td><td>0  </td><td>0  </td><td>0  </td><td>0  </td><td>0  </td><td>0  </td><td>0  </td></tr>\n",
       "\t<tr><td>0  </td><td>0  </td><td>0  </td><td>0  </td><td>0  </td><td>0  </td><td>0  </td><td>0  </td><td>0  </td><td>0  </td><td>...</td><td>0  </td><td>0  </td><td>0  </td><td>0  </td><td>0  </td><td>0  </td><td>0  </td><td>0  </td><td>0  </td><td>0  </td></tr>\n",
       "\t<tr><td>4  </td><td>0  </td><td>0  </td><td>0  </td><td>0  </td><td>0  </td><td>0  </td><td>0  </td><td>0  </td><td>0  </td><td>...</td><td>0  </td><td>0  </td><td>0  </td><td>0  </td><td>0  </td><td>0  </td><td>0  </td><td>0  </td><td>0  </td><td>0  </td></tr>\n",
       "\t<tr><td>1  </td><td>0  </td><td>0  </td><td>0  </td><td>0  </td><td>0  </td><td>0  </td><td>0  </td><td>0  </td><td>0  </td><td>...</td><td>0  </td><td>0  </td><td>0  </td><td>0  </td><td>0  </td><td>0  </td><td>0  </td><td>0  </td><td>0  </td><td>0  </td></tr>\n",
       "\t<tr><td>9  </td><td>0  </td><td>0  </td><td>0  </td><td>0  </td><td>0  </td><td>0  </td><td>0  </td><td>0  </td><td>0  </td><td>...</td><td>0  </td><td>0  </td><td>0  </td><td>0  </td><td>0  </td><td>0  </td><td>0  </td><td>0  </td><td>0  </td><td>0  </td></tr>\n",
       "\t<tr><td>2  </td><td>0  </td><td>0  </td><td>0  </td><td>0  </td><td>0  </td><td>0  </td><td>0  </td><td>0  </td><td>0  </td><td>...</td><td>0  </td><td>0  </td><td>0  </td><td>0  </td><td>0  </td><td>0  </td><td>0  </td><td>0  </td><td>0  </td><td>0  </td></tr>\n",
       "</tbody>\n",
       "</table>\n"
      ],
      "text/latex": [
       "\\begin{tabular}{r|lllllllllllllllllllllllllllllllllllllllllllllllllllllllllllllllllllllllllllllllllllllllllllllllllllllllllllllllllllllllllllllllllllllllllllllllllllllllllllllllllllllllllllllllllllllllllllllllllllllllllllllllllllllllllllllllllllllllllllllllllllllllllllllllllllllllllllllllllllllllllllllllllllllllllllllllllllllllllllllllllllllllllllllllllllllllllllllllllllllllllllllllllllllllllllllllllllllllllllllllllllllllllllllllllllllllllllllllllllllllllllllllllllllllllllllllllllllllllllllllllllllllllllllllllllllllllllllllllllllllllllllllllllllllllllllllllllllllllllllllllllllllllllllllllllllllllllllllllllllllllllllllllllllllllllllllllllllllllllllllllllllllllllllllllllllllllllllllllllllllllllllllllllllllllllllllllllllllllllllllllllllllllllllllllllllllllllllllllllllllllllllllllllllllllllllllll}\n",
       " V1 & V2 & V3 & V4 & V5 & V6 & V7 & V8 & V9 & V10 & ... & V776 & V777 & V778 & V779 & V780 & V781 & V782 & V783 & V784 & V785\\\\\n",
       "\\hline\n",
       "\t 5   & 0   & 0   & 0   & 0   & 0   & 0   & 0   & 0   & 0   & ... & 0   & 0   & 0   & 0   & 0   & 0   & 0   & 0   & 0   & 0  \\\\\n",
       "\t 0   & 0   & 0   & 0   & 0   & 0   & 0   & 0   & 0   & 0   & ... & 0   & 0   & 0   & 0   & 0   & 0   & 0   & 0   & 0   & 0  \\\\\n",
       "\t 4   & 0   & 0   & 0   & 0   & 0   & 0   & 0   & 0   & 0   & ... & 0   & 0   & 0   & 0   & 0   & 0   & 0   & 0   & 0   & 0  \\\\\n",
       "\t 1   & 0   & 0   & 0   & 0   & 0   & 0   & 0   & 0   & 0   & ... & 0   & 0   & 0   & 0   & 0   & 0   & 0   & 0   & 0   & 0  \\\\\n",
       "\t 9   & 0   & 0   & 0   & 0   & 0   & 0   & 0   & 0   & 0   & ... & 0   & 0   & 0   & 0   & 0   & 0   & 0   & 0   & 0   & 0  \\\\\n",
       "\t 2   & 0   & 0   & 0   & 0   & 0   & 0   & 0   & 0   & 0   & ... & 0   & 0   & 0   & 0   & 0   & 0   & 0   & 0   & 0   & 0  \\\\\n",
       "\\end{tabular}\n"
      ],
      "text/markdown": [
       "\n",
       "| V1 | V2 | V3 | V4 | V5 | V6 | V7 | V8 | V9 | V10 | ... | V776 | V777 | V778 | V779 | V780 | V781 | V782 | V783 | V784 | V785 |\n",
       "|---|---|---|---|---|---|---|---|---|---|---|---|---|---|---|---|---|---|---|---|---|\n",
       "| 5   | 0   | 0   | 0   | 0   | 0   | 0   | 0   | 0   | 0   | ... | 0   | 0   | 0   | 0   | 0   | 0   | 0   | 0   | 0   | 0   |\n",
       "| 0   | 0   | 0   | 0   | 0   | 0   | 0   | 0   | 0   | 0   | ... | 0   | 0   | 0   | 0   | 0   | 0   | 0   | 0   | 0   | 0   |\n",
       "| 4   | 0   | 0   | 0   | 0   | 0   | 0   | 0   | 0   | 0   | ... | 0   | 0   | 0   | 0   | 0   | 0   | 0   | 0   | 0   | 0   |\n",
       "| 1   | 0   | 0   | 0   | 0   | 0   | 0   | 0   | 0   | 0   | ... | 0   | 0   | 0   | 0   | 0   | 0   | 0   | 0   | 0   | 0   |\n",
       "| 9   | 0   | 0   | 0   | 0   | 0   | 0   | 0   | 0   | 0   | ... | 0   | 0   | 0   | 0   | 0   | 0   | 0   | 0   | 0   | 0   |\n",
       "| 2   | 0   | 0   | 0   | 0   | 0   | 0   | 0   | 0   | 0   | ... | 0   | 0   | 0   | 0   | 0   | 0   | 0   | 0   | 0   | 0   |\n",
       "\n"
      ],
      "text/plain": [
       "  V1 V2 V3 V4 V5 V6 V7 V8 V9 V10 ... V776 V777 V778 V779 V780 V781 V782 V783\n",
       "1 5  0  0  0  0  0  0  0  0  0   ... 0    0    0    0    0    0    0    0   \n",
       "2 0  0  0  0  0  0  0  0  0  0   ... 0    0    0    0    0    0    0    0   \n",
       "3 4  0  0  0  0  0  0  0  0  0   ... 0    0    0    0    0    0    0    0   \n",
       "4 1  0  0  0  0  0  0  0  0  0   ... 0    0    0    0    0    0    0    0   \n",
       "5 9  0  0  0  0  0  0  0  0  0   ... 0    0    0    0    0    0    0    0   \n",
       "6 2  0  0  0  0  0  0  0  0  0   ... 0    0    0    0    0    0    0    0   \n",
       "  V784 V785\n",
       "1 0    0   \n",
       "2 0    0   \n",
       "3 0    0   \n",
       "4 0    0   \n",
       "5 0    0   \n",
       "6 0    0   "
      ]
     },
     "metadata": {},
     "output_type": "display_data"
    }
   ],
   "source": [
    "mnist<-read.csv(\"../Data/train_1k.csv\",header =F)\n",
    "head(mnist)"
   ]
  },
  {
   "cell_type": "code",
   "execution_count": 3,
   "id": "7ffae987",
   "metadata": {
    "scrolled": true
   },
   "outputs": [
    {
     "name": "stdout",
     "output_type": "stream",
     "text": [
      "'data.frame':\t1001 obs. of  785 variables:\n",
      " $ V1  : int  5 0 4 1 9 2 1 3 1 4 ...\n",
      " $ V2  : int  0 0 0 0 0 0 0 0 0 0 ...\n",
      " $ V3  : int  0 0 0 0 0 0 0 0 0 0 ...\n",
      " $ V4  : int  0 0 0 0 0 0 0 0 0 0 ...\n",
      " $ V5  : int  0 0 0 0 0 0 0 0 0 0 ...\n",
      " $ V6  : int  0 0 0 0 0 0 0 0 0 0 ...\n",
      " $ V7  : int  0 0 0 0 0 0 0 0 0 0 ...\n",
      " $ V8  : int  0 0 0 0 0 0 0 0 0 0 ...\n",
      " $ V9  : int  0 0 0 0 0 0 0 0 0 0 ...\n",
      " $ V10 : int  0 0 0 0 0 0 0 0 0 0 ...\n",
      " $ V11 : int  0 0 0 0 0 0 0 0 0 0 ...\n",
      " $ V12 : int  0 0 0 0 0 0 0 0 0 0 ...\n",
      " $ V13 : int  0 0 0 0 0 0 0 0 0 0 ...\n",
      " $ V14 : int  0 0 0 0 0 0 0 0 0 0 ...\n",
      " $ V15 : int  0 0 0 0 0 0 0 0 0 0 ...\n",
      " $ V16 : int  0 0 0 0 0 0 0 0 0 0 ...\n",
      " $ V17 : int  0 0 0 0 0 0 0 0 0 0 ...\n",
      " $ V18 : int  0 0 0 0 0 0 0 0 0 0 ...\n",
      " $ V19 : int  0 0 0 0 0 0 0 0 0 0 ...\n",
      " $ V20 : int  0 0 0 0 0 0 0 0 0 0 ...\n",
      " $ V21 : int  0 0 0 0 0 0 0 0 0 0 ...\n",
      " $ V22 : int  0 0 0 0 0 0 0 0 0 0 ...\n",
      " $ V23 : int  0 0 0 0 0 0 0 0 0 0 ...\n",
      " $ V24 : int  0 0 0 0 0 0 0 0 0 0 ...\n",
      " $ V25 : int  0 0 0 0 0 0 0 0 0 0 ...\n",
      " $ V26 : int  0 0 0 0 0 0 0 0 0 0 ...\n",
      " $ V27 : int  0 0 0 0 0 0 0 0 0 0 ...\n",
      " $ V28 : int  0 0 0 0 0 0 0 0 0 0 ...\n",
      " $ V29 : int  0 0 0 0 0 0 0 0 0 0 ...\n",
      " $ V30 : int  0 0 0 0 0 0 0 0 0 0 ...\n",
      " $ V31 : int  0 0 0 0 0 0 0 0 0 0 ...\n",
      " $ V32 : int  0 0 0 0 0 0 0 0 0 0 ...\n",
      " $ V33 : int  0 0 0 0 0 0 0 0 0 0 ...\n",
      " $ V34 : int  0 0 0 0 0 0 0 0 0 0 ...\n",
      " $ V35 : int  0 0 0 0 0 0 0 0 0 0 ...\n",
      " $ V36 : int  0 0 0 0 0 0 0 0 0 0 ...\n",
      " $ V37 : int  0 0 0 0 0 0 0 0 0 0 ...\n",
      " $ V38 : int  0 0 0 0 0 0 0 0 0 0 ...\n",
      " $ V39 : int  0 0 0 0 0 0 0 0 0 0 ...\n",
      " $ V40 : int  0 0 0 0 0 0 0 0 0 0 ...\n",
      " $ V41 : int  0 0 0 0 0 0 0 0 0 0 ...\n",
      " $ V42 : int  0 0 0 0 0 0 0 0 0 0 ...\n",
      " $ V43 : int  0 0 0 0 0 0 0 0 0 0 ...\n",
      " $ V44 : int  0 0 0 0 0 0 0 0 0 0 ...\n",
      " $ V45 : int  0 0 0 0 0 0 0 0 0 0 ...\n",
      " $ V46 : int  0 0 0 0 0 0 0 0 0 0 ...\n",
      " $ V47 : int  0 0 0 0 0 0 0 0 0 0 ...\n",
      " $ V48 : int  0 0 0 0 0 0 0 0 0 0 ...\n",
      " $ V49 : int  0 0 0 0 0 0 0 0 0 0 ...\n",
      " $ V50 : int  0 0 0 0 0 0 0 0 0 0 ...\n",
      " $ V51 : int  0 0 0 0 0 0 0 0 0 0 ...\n",
      " $ V52 : int  0 0 0 0 0 0 0 0 0 0 ...\n",
      " $ V53 : int  0 0 0 0 0 0 0 0 0 0 ...\n",
      " $ V54 : int  0 0 0 0 0 0 0 0 0 0 ...\n",
      " $ V55 : int  0 0 0 0 0 0 0 0 0 0 ...\n",
      " $ V56 : int  0 0 0 0 0 0 0 0 0 0 ...\n",
      " $ V57 : int  0 0 0 0 0 0 0 0 0 0 ...\n",
      " $ V58 : int  0 0 0 0 0 0 0 0 0 0 ...\n",
      " $ V59 : int  0 0 0 0 0 0 0 0 0 0 ...\n",
      " $ V60 : int  0 0 0 0 0 0 0 0 0 0 ...\n",
      " $ V61 : int  0 0 0 0 0 0 0 0 0 0 ...\n",
      " $ V62 : int  0 0 0 0 0 0 0 0 0 0 ...\n",
      " $ V63 : int  0 0 0 0 0 0 0 0 0 0 ...\n",
      " $ V64 : int  0 0 0 0 0 0 0 0 0 0 ...\n",
      " $ V65 : int  0 0 0 0 0 0 0 0 0 0 ...\n",
      " $ V66 : int  0 0 0 0 0 0 0 0 0 0 ...\n",
      " $ V67 : int  0 0 0 0 0 0 0 0 0 0 ...\n",
      " $ V68 : int  0 0 0 0 0 0 0 0 0 0 ...\n",
      " $ V69 : int  0 0 0 0 0 0 0 0 0 0 ...\n",
      " $ V70 : int  0 0 0 0 0 0 0 0 0 0 ...\n",
      " $ V71 : int  0 0 0 0 0 0 0 0 0 0 ...\n",
      " $ V72 : int  0 0 0 0 0 0 0 0 0 0 ...\n",
      " $ V73 : int  0 0 0 0 0 0 0 0 0 0 ...\n",
      " $ V74 : int  0 0 0 0 0 0 0 0 0 0 ...\n",
      " $ V75 : int  0 0 0 0 0 0 0 0 0 0 ...\n",
      " $ V76 : int  0 0 0 0 0 0 0 0 0 0 ...\n",
      " $ V77 : int  0 0 0 0 0 0 0 0 0 0 ...\n",
      " $ V78 : int  0 0 0 0 0 0 0 0 0 0 ...\n",
      " $ V79 : int  0 0 0 0 0 0 0 0 0 0 ...\n",
      " $ V80 : int  0 0 0 0 0 0 0 0 0 0 ...\n",
      " $ V81 : int  0 0 0 0 0 0 0 0 0 0 ...\n",
      " $ V82 : int  0 0 0 0 0 0 0 0 0 0 ...\n",
      " $ V83 : int  0 0 0 0 0 0 0 0 0 0 ...\n",
      " $ V84 : int  0 0 0 0 0 0 0 0 0 0 ...\n",
      " $ V85 : int  0 0 0 0 0 0 0 0 0 0 ...\n",
      " $ V86 : int  0 0 0 0 0 0 0 0 0 0 ...\n",
      " $ V87 : int  0 0 0 0 0 0 0 0 0 0 ...\n",
      " $ V88 : int  0 0 0 0 0 0 0 0 0 0 ...\n",
      " $ V89 : int  0 0 0 0 0 0 0 0 0 0 ...\n",
      " $ V90 : int  0 0 0 0 0 0 0 0 0 0 ...\n",
      " $ V91 : int  0 0 0 0 0 0 0 0 0 0 ...\n",
      " $ V92 : int  0 0 0 0 0 0 0 0 0 0 ...\n",
      " $ V93 : int  0 0 0 0 0 0 0 0 0 0 ...\n",
      " $ V94 : int  0 0 0 0 0 0 0 0 0 0 ...\n",
      " $ V95 : int  0 0 0 0 0 0 0 0 0 0 ...\n",
      " $ V96 : int  0 0 0 0 0 0 0 0 0 0 ...\n",
      " $ V97 : int  0 0 0 0 0 0 0 0 0 0 ...\n",
      " $ V98 : int  0 0 0 0 0 0 0 0 0 0 ...\n",
      " $ V99 : int  0 0 0 0 0 0 0 0 0 0 ...\n",
      "  [list output truncated]\n"
     ]
    }
   ],
   "source": [
    "str(mnist)"
   ]
  },
  {
   "cell_type": "code",
   "execution_count": 4,
   "id": "a71771e6",
   "metadata": {},
   "outputs": [
    {
     "name": "stdout",
     "output_type": "stream",
     "text": [
      "'data.frame':\t1001 obs. of  51 variables:\n",
      " $ V100: int  0 0 0 0 0 0 0 0 0 0 ...\n",
      " $ V101: int  0 0 0 0 0 0 0 0 0 0 ...\n",
      " $ V102: int  0 0 0 0 0 0 0 0 0 0 ...\n",
      " $ V103: int  0 0 0 0 0 0 0 0 0 0 ...\n",
      " $ V104: int  0 0 0 0 0 0 0 0 0 0 ...\n",
      " $ V105: int  0 0 0 0 0 0 0 0 0 0 ...\n",
      " $ V106: int  0 0 0 0 0 0 0 0 0 0 ...\n",
      " $ V107: int  0 0 0 0 0 0 0 0 0 0 ...\n",
      " $ V108: int  0 0 0 0 0 0 0 0 0 0 ...\n",
      " $ V109: int  0 0 0 0 0 0 0 0 0 0 ...\n",
      " $ V110: int  0 0 0 0 0 0 0 0 0 0 ...\n",
      " $ V111: int  0 0 0 0 0 0 0 0 0 0 ...\n",
      " $ V112: int  0 0 0 0 0 0 0 0 0 0 ...\n",
      " $ V113: int  0 0 0 0 0 0 0 0 0 0 ...\n",
      " $ V114: int  0 0 0 0 0 0 0 0 0 0 ...\n",
      " $ V115: int  0 0 0 0 0 0 0 0 0 0 ...\n",
      " $ V116: int  0 0 0 0 0 0 0 0 0 0 ...\n",
      " $ V117: int  0 0 0 0 0 0 0 0 0 0 ...\n",
      " $ V118: int  0 0 0 0 0 0 0 0 0 0 ...\n",
      " $ V119: int  0 0 0 0 0 0 0 0 0 0 ...\n",
      " $ V120: int  0 0 0 0 0 0 0 0 0 0 ...\n",
      " $ V121: int  0 0 0 0 0 0 0 0 0 0 ...\n",
      " $ V122: int  0 0 0 0 0 0 0 0 0 0 ...\n",
      " $ V123: int  0 0 0 0 0 0 0 0 0 0 ...\n",
      " $ V124: int  0 0 0 0 0 0 0 0 0 0 ...\n",
      " $ V125: int  0 0 0 0 0 0 0 0 0 0 ...\n",
      " $ V126: int  0 0 0 0 0 0 145 0 0 0 ...\n",
      " $ V127: int  0 0 0 0 0 0 255 0 0 0 ...\n",
      " $ V128: int  0 0 0 0 0 0 211 0 0 0 ...\n",
      " $ V129: int  0 51 0 0 0 0 31 0 0 0 ...\n",
      " $ V130: int  0 159 0 0 0 0 0 0 0 0 ...\n",
      " $ V131: int  0 253 0 0 0 0 0 0 0 0 ...\n",
      " $ V132: int  0 159 0 0 0 0 0 0 0 0 ...\n",
      " $ V133: int  0 50 0 0 0 0 0 0 0 0 ...\n",
      " $ V134: int  0 0 0 0 0 0 0 0 0 0 ...\n",
      " $ V135: int  0 0 0 0 0 0 0 0 0 0 ...\n",
      " $ V136: int  0 0 0 0 0 0 0 0 0 189 ...\n",
      " $ V137: int  0 0 0 0 0 0 0 0 0 190 ...\n",
      " $ V138: int  0 0 0 0 0 0 0 0 0 0 ...\n",
      " $ V139: int  0 0 0 0 0 0 0 0 0 0 ...\n",
      " $ V140: int  0 0 0 0 0 0 0 0 0 0 ...\n",
      " $ V141: int  0 0 0 0 0 0 0 0 0 0 ...\n",
      " $ V142: int  0 0 0 0 0 0 0 0 0 0 ...\n",
      " $ V143: int  0 0 0 0 0 0 0 0 0 0 ...\n",
      " $ V144: int  0 0 0 0 0 0 0 0 0 0 ...\n",
      " $ V145: int  0 0 0 0 0 0 0 0 0 0 ...\n",
      " $ V146: int  0 0 0 0 0 0 0 0 0 0 ...\n",
      " $ V147: int  0 0 0 0 0 0 0 0 0 0 ...\n",
      " $ V148: int  0 0 0 0 0 0 0 0 0 0 ...\n",
      " $ V149: int  0 0 0 0 0 0 0 0 0 0 ...\n",
      " $ V150: int  0 0 0 0 0 0 0 0 0 0 ...\n"
     ]
    }
   ],
   "source": [
    "str(mnist[,100:150])"
   ]
  },
  {
   "cell_type": "code",
   "execution_count": 5,
   "id": "721f85db",
   "metadata": {
    "scrolled": true
   },
   "outputs": [
    {
     "data": {
      "text/html": [
       "28"
      ],
      "text/latex": [
       "28"
      ],
      "text/markdown": [
       "28"
      ],
      "text/plain": [
       "[1] 28"
      ]
     },
     "metadata": {},
     "output_type": "display_data"
    }
   ],
   "source": [
    "sqrt(784)"
   ]
  },
  {
   "cell_type": "code",
   "execution_count": 6,
   "id": "6783e716",
   "metadata": {},
   "outputs": [
    {
     "name": "stdout",
     "output_type": "stream",
     "text": [
      "\n",
      "\n",
      "\n",
      "\n",
      "\n",
      "\n",
      "\n",
      "\n",
      "\n",
      "\n",
      "**\n",
      "**********\n",
      "******\n",
      "**********\n",
      "*******\n",
      "*********\n",
      "*******\n",
      "****\n",
      "******\n",
      "***\n",
      "*****\n",
      "\n",
      "***\n",
      "*\n",
      "***\n",
      "*\n",
      "**\n",
      "****\n",
      "*\n",
      "*****\n",
      "\n",
      "******\n",
      "\n",
      "*****\n",
      "\n",
      "****\n",
      "\n",
      "*******\n",
      "**\n",
      "******\n",
      "****\n",
      "*****\n",
      "******\n",
      "****\n",
      "********\n",
      "**\n",
      "**********\n",
      "\n",
      "********\n",
      "\n",
      "\n",
      "\n",
      "\n",
      "\n",
      "\n",
      "\n"
     ]
    }
   ],
   "source": [
    "# Data 내용 확인하기\n",
    "num1 <- seq(2,785,28) # 시작\n",
    "num2 <- seq(29,785,28) #끝\n",
    "cnt=0\n",
    "for(j in 1:28){\n",
    "    n1 = as.numeric(num1[j])\n",
    "    n2 = as.numeric(num2[j])\n",
    "    for(i in seq(n1,n2,1)){\n",
    "        if(mnist[1,i] !=0){\n",
    "            cat(\"*\")\n",
    "        }else{\n",
    "            cat(\"\")\n",
    "        }\n",
    "        cnt = cnt + 2\n",
    "        if(cnt >27){\n",
    "            cat(\"\\n\")\n",
    "            cnt = 0\n",
    "        }\n",
    "    }\n",
    "}"
   ]
  },
  {
   "cell_type": "code",
   "execution_count": 7,
   "id": "f37cb4e4",
   "metadata": {
    "scrolled": true
   },
   "outputs": [
    {
     "name": "stderr",
     "output_type": "stream",
     "text": [
      "\n",
      "Attaching package: ‘dplyr’\n",
      "\n",
      "The following objects are masked from ‘package:stats’:\n",
      "\n",
      "    filter, lag\n",
      "\n",
      "The following objects are masked from ‘package:base’:\n",
      "\n",
      "    intersect, setdiff, setequal, union\n",
      "\n"
     ]
    },
    {
     "data": {
      "text/html": [
       "<table>\n",
       "<thead><tr><th scope=col>V1</th><th scope=col>V2</th><th scope=col>V3</th><th scope=col>V4</th><th scope=col>V5</th><th scope=col>V6</th><th scope=col>V7</th><th scope=col>V8</th><th scope=col>V9</th><th scope=col>V10</th><th scope=col>...</th><th scope=col>V776</th><th scope=col>V777</th><th scope=col>V778</th><th scope=col>V779</th><th scope=col>V780</th><th scope=col>V781</th><th scope=col>V782</th><th scope=col>V783</th><th scope=col>V784</th><th scope=col>V785</th></tr></thead>\n",
       "<tbody>\n",
       "\t<tr><td>0  </td><td>0  </td><td>0  </td><td>0  </td><td>0  </td><td>0  </td><td>0  </td><td>0  </td><td>0  </td><td>0  </td><td>...</td><td>0  </td><td>0  </td><td>0  </td><td>0  </td><td>0  </td><td>0  </td><td>0  </td><td>0  </td><td>0  </td><td>0  </td></tr>\n",
       "\t<tr><td>0  </td><td>0  </td><td>0  </td><td>0  </td><td>0  </td><td>0  </td><td>0  </td><td>0  </td><td>0  </td><td>0  </td><td>...</td><td>0  </td><td>0  </td><td>0  </td><td>0  </td><td>0  </td><td>0  </td><td>0  </td><td>0  </td><td>0  </td><td>0  </td></tr>\n",
       "\t<tr><td>0  </td><td>0  </td><td>0  </td><td>0  </td><td>0  </td><td>0  </td><td>0  </td><td>0  </td><td>0  </td><td>0  </td><td>...</td><td>0  </td><td>0  </td><td>0  </td><td>0  </td><td>0  </td><td>0  </td><td>0  </td><td>0  </td><td>0  </td><td>0  </td></tr>\n",
       "\t<tr><td>0  </td><td>0  </td><td>0  </td><td>0  </td><td>0  </td><td>0  </td><td>0  </td><td>0  </td><td>0  </td><td>0  </td><td>...</td><td>0  </td><td>0  </td><td>0  </td><td>0  </td><td>0  </td><td>0  </td><td>0  </td><td>0  </td><td>0  </td><td>0  </td></tr>\n",
       "\t<tr><td>0  </td><td>0  </td><td>0  </td><td>0  </td><td>0  </td><td>0  </td><td>0  </td><td>0  </td><td>0  </td><td>0  </td><td>...</td><td>0  </td><td>0  </td><td>0  </td><td>0  </td><td>0  </td><td>0  </td><td>0  </td><td>0  </td><td>0  </td><td>0  </td></tr>\n",
       "\t<tr><td>0  </td><td>0  </td><td>0  </td><td>0  </td><td>0  </td><td>0  </td><td>0  </td><td>0  </td><td>0  </td><td>0  </td><td>...</td><td>0  </td><td>0  </td><td>0  </td><td>0  </td><td>0  </td><td>0  </td><td>0  </td><td>0  </td><td>0  </td><td>0  </td></tr>\n",
       "\t<tr><td>0  </td><td>0  </td><td>0  </td><td>0  </td><td>0  </td><td>0  </td><td>0  </td><td>0  </td><td>0  </td><td>0  </td><td>...</td><td>0  </td><td>0  </td><td>0  </td><td>0  </td><td>0  </td><td>0  </td><td>0  </td><td>0  </td><td>0  </td><td>0  </td></tr>\n",
       "\t<tr><td>0  </td><td>0  </td><td>0  </td><td>0  </td><td>0  </td><td>0  </td><td>0  </td><td>0  </td><td>0  </td><td>0  </td><td>...</td><td>0  </td><td>0  </td><td>0  </td><td>0  </td><td>0  </td><td>0  </td><td>0  </td><td>0  </td><td>0  </td><td>0  </td></tr>\n",
       "\t<tr><td>0  </td><td>0  </td><td>0  </td><td>0  </td><td>0  </td><td>0  </td><td>0  </td><td>0  </td><td>0  </td><td>0  </td><td>...</td><td>0  </td><td>0  </td><td>0  </td><td>0  </td><td>0  </td><td>0  </td><td>0  </td><td>0  </td><td>0  </td><td>0  </td></tr>\n",
       "\t<tr><td>0  </td><td>0  </td><td>0  </td><td>0  </td><td>0  </td><td>0  </td><td>0  </td><td>0  </td><td>0  </td><td>0  </td><td>...</td><td>0  </td><td>0  </td><td>0  </td><td>0  </td><td>0  </td><td>0  </td><td>0  </td><td>0  </td><td>0  </td><td>0  </td></tr>\n",
       "\t<tr><td>0  </td><td>0  </td><td>0  </td><td>0  </td><td>0  </td><td>0  </td><td>0  </td><td>0  </td><td>0  </td><td>0  </td><td>...</td><td>0  </td><td>0  </td><td>0  </td><td>0  </td><td>0  </td><td>0  </td><td>0  </td><td>0  </td><td>0  </td><td>0  </td></tr>\n",
       "\t<tr><td>0  </td><td>0  </td><td>0  </td><td>0  </td><td>0  </td><td>0  </td><td>0  </td><td>0  </td><td>0  </td><td>0  </td><td>...</td><td>0  </td><td>0  </td><td>0  </td><td>0  </td><td>0  </td><td>0  </td><td>0  </td><td>0  </td><td>0  </td><td>0  </td></tr>\n",
       "\t<tr><td>0  </td><td>0  </td><td>0  </td><td>0  </td><td>0  </td><td>0  </td><td>0  </td><td>0  </td><td>0  </td><td>0  </td><td>...</td><td>0  </td><td>0  </td><td>0  </td><td>0  </td><td>0  </td><td>0  </td><td>0  </td><td>0  </td><td>0  </td><td>0  </td></tr>\n",
       "\t<tr><td>0  </td><td>0  </td><td>0  </td><td>0  </td><td>0  </td><td>0  </td><td>0  </td><td>0  </td><td>0  </td><td>0  </td><td>...</td><td>0  </td><td>0  </td><td>0  </td><td>0  </td><td>0  </td><td>0  </td><td>0  </td><td>0  </td><td>0  </td><td>0  </td></tr>\n",
       "\t<tr><td>0  </td><td>0  </td><td>0  </td><td>0  </td><td>0  </td><td>0  </td><td>0  </td><td>0  </td><td>0  </td><td>0  </td><td>...</td><td>0  </td><td>0  </td><td>0  </td><td>0  </td><td>0  </td><td>0  </td><td>0  </td><td>0  </td><td>0  </td><td>0  </td></tr>\n",
       "\t<tr><td>0  </td><td>0  </td><td>0  </td><td>0  </td><td>0  </td><td>0  </td><td>0  </td><td>0  </td><td>0  </td><td>0  </td><td>...</td><td>0  </td><td>0  </td><td>0  </td><td>0  </td><td>0  </td><td>0  </td><td>0  </td><td>0  </td><td>0  </td><td>0  </td></tr>\n",
       "\t<tr><td>0  </td><td>0  </td><td>0  </td><td>0  </td><td>0  </td><td>0  </td><td>0  </td><td>0  </td><td>0  </td><td>0  </td><td>...</td><td>0  </td><td>0  </td><td>0  </td><td>0  </td><td>0  </td><td>0  </td><td>0  </td><td>0  </td><td>0  </td><td>0  </td></tr>\n",
       "\t<tr><td>0  </td><td>0  </td><td>0  </td><td>0  </td><td>0  </td><td>0  </td><td>0  </td><td>0  </td><td>0  </td><td>0  </td><td>...</td><td>0  </td><td>0  </td><td>0  </td><td>0  </td><td>0  </td><td>0  </td><td>0  </td><td>0  </td><td>0  </td><td>0  </td></tr>\n",
       "\t<tr><td>0  </td><td>0  </td><td>0  </td><td>0  </td><td>0  </td><td>0  </td><td>0  </td><td>0  </td><td>0  </td><td>0  </td><td>...</td><td>0  </td><td>0  </td><td>0  </td><td>0  </td><td>0  </td><td>0  </td><td>0  </td><td>0  </td><td>0  </td><td>0  </td></tr>\n",
       "\t<tr><td>0  </td><td>0  </td><td>0  </td><td>0  </td><td>0  </td><td>0  </td><td>0  </td><td>0  </td><td>0  </td><td>0  </td><td>...</td><td>0  </td><td>0  </td><td>0  </td><td>0  </td><td>0  </td><td>0  </td><td>0  </td><td>0  </td><td>0  </td><td>0  </td></tr>\n",
       "\t<tr><td>0  </td><td>0  </td><td>0  </td><td>0  </td><td>0  </td><td>0  </td><td>0  </td><td>0  </td><td>0  </td><td>0  </td><td>...</td><td>0  </td><td>0  </td><td>0  </td><td>0  </td><td>0  </td><td>0  </td><td>0  </td><td>0  </td><td>0  </td><td>0  </td></tr>\n",
       "\t<tr><td>0  </td><td>0  </td><td>0  </td><td>0  </td><td>0  </td><td>0  </td><td>0  </td><td>0  </td><td>0  </td><td>0  </td><td>...</td><td>0  </td><td>0  </td><td>0  </td><td>0  </td><td>0  </td><td>0  </td><td>0  </td><td>0  </td><td>0  </td><td>0  </td></tr>\n",
       "\t<tr><td>0  </td><td>0  </td><td>0  </td><td>0  </td><td>0  </td><td>0  </td><td>0  </td><td>0  </td><td>0  </td><td>0  </td><td>...</td><td>0  </td><td>0  </td><td>0  </td><td>0  </td><td>0  </td><td>0  </td><td>0  </td><td>0  </td><td>0  </td><td>0  </td></tr>\n",
       "\t<tr><td>0  </td><td>0  </td><td>0  </td><td>0  </td><td>0  </td><td>0  </td><td>0  </td><td>0  </td><td>0  </td><td>0  </td><td>...</td><td>0  </td><td>0  </td><td>0  </td><td>0  </td><td>0  </td><td>0  </td><td>0  </td><td>0  </td><td>0  </td><td>0  </td></tr>\n",
       "\t<tr><td>0  </td><td>0  </td><td>0  </td><td>0  </td><td>0  </td><td>0  </td><td>0  </td><td>0  </td><td>0  </td><td>0  </td><td>...</td><td>0  </td><td>0  </td><td>0  </td><td>0  </td><td>0  </td><td>0  </td><td>0  </td><td>0  </td><td>0  </td><td>0  </td></tr>\n",
       "\t<tr><td>0  </td><td>0  </td><td>0  </td><td>0  </td><td>0  </td><td>0  </td><td>0  </td><td>0  </td><td>0  </td><td>0  </td><td>...</td><td>0  </td><td>0  </td><td>0  </td><td>0  </td><td>0  </td><td>0  </td><td>0  </td><td>0  </td><td>0  </td><td>0  </td></tr>\n",
       "\t<tr><td>0  </td><td>0  </td><td>0  </td><td>0  </td><td>0  </td><td>0  </td><td>0  </td><td>0  </td><td>0  </td><td>0  </td><td>...</td><td>0  </td><td>0  </td><td>0  </td><td>0  </td><td>0  </td><td>0  </td><td>0  </td><td>0  </td><td>0  </td><td>0  </td></tr>\n",
       "\t<tr><td>0  </td><td>0  </td><td>0  </td><td>0  </td><td>0  </td><td>0  </td><td>0  </td><td>0  </td><td>0  </td><td>0  </td><td>...</td><td>0  </td><td>0  </td><td>0  </td><td>0  </td><td>0  </td><td>0  </td><td>0  </td><td>0  </td><td>0  </td><td>0  </td></tr>\n",
       "\t<tr><td>0  </td><td>0  </td><td>0  </td><td>0  </td><td>0  </td><td>0  </td><td>0  </td><td>0  </td><td>0  </td><td>0  </td><td>...</td><td>0  </td><td>0  </td><td>0  </td><td>0  </td><td>0  </td><td>0  </td><td>0  </td><td>0  </td><td>0  </td><td>0  </td></tr>\n",
       "\t<tr><td>0  </td><td>0  </td><td>0  </td><td>0  </td><td>0  </td><td>0  </td><td>0  </td><td>0  </td><td>0  </td><td>0  </td><td>...</td><td>0  </td><td>0  </td><td>0  </td><td>0  </td><td>0  </td><td>0  </td><td>0  </td><td>0  </td><td>0  </td><td>0  </td></tr>\n",
       "\t<tr><td>...</td><td>...</td><td>...</td><td>...</td><td>...</td><td>...</td><td>...</td><td>...</td><td>...</td><td>...</td><td>   </td><td>...</td><td>...</td><td>...</td><td>...</td><td>...</td><td>...</td><td>...</td><td>...</td><td>...</td><td>...</td></tr>\n",
       "\t<tr><td>9  </td><td>0  </td><td>0  </td><td>0  </td><td>0  </td><td>0  </td><td>0  </td><td>0  </td><td>0  </td><td>0  </td><td>...</td><td>0  </td><td>0  </td><td>0  </td><td>0  </td><td>0  </td><td>0  </td><td>0  </td><td>0  </td><td>0  </td><td>0  </td></tr>\n",
       "\t<tr><td>9  </td><td>0  </td><td>0  </td><td>0  </td><td>0  </td><td>0  </td><td>0  </td><td>0  </td><td>0  </td><td>0  </td><td>...</td><td>0  </td><td>0  </td><td>0  </td><td>0  </td><td>0  </td><td>0  </td><td>0  </td><td>0  </td><td>0  </td><td>0  </td></tr>\n",
       "\t<tr><td>9  </td><td>0  </td><td>0  </td><td>0  </td><td>0  </td><td>0  </td><td>0  </td><td>0  </td><td>0  </td><td>0  </td><td>...</td><td>0  </td><td>0  </td><td>0  </td><td>0  </td><td>0  </td><td>0  </td><td>0  </td><td>0  </td><td>0  </td><td>0  </td></tr>\n",
       "\t<tr><td>9  </td><td>0  </td><td>0  </td><td>0  </td><td>0  </td><td>0  </td><td>0  </td><td>0  </td><td>0  </td><td>0  </td><td>...</td><td>0  </td><td>0  </td><td>0  </td><td>0  </td><td>0  </td><td>0  </td><td>0  </td><td>0  </td><td>0  </td><td>0  </td></tr>\n",
       "\t<tr><td>9  </td><td>0  </td><td>0  </td><td>0  </td><td>0  </td><td>0  </td><td>0  </td><td>0  </td><td>0  </td><td>0  </td><td>...</td><td>0  </td><td>0  </td><td>0  </td><td>0  </td><td>0  </td><td>0  </td><td>0  </td><td>0  </td><td>0  </td><td>0  </td></tr>\n",
       "\t<tr><td>9  </td><td>0  </td><td>0  </td><td>0  </td><td>0  </td><td>0  </td><td>0  </td><td>0  </td><td>0  </td><td>0  </td><td>...</td><td>0  </td><td>0  </td><td>0  </td><td>0  </td><td>0  </td><td>0  </td><td>0  </td><td>0  </td><td>0  </td><td>0  </td></tr>\n",
       "\t<tr><td>9  </td><td>0  </td><td>0  </td><td>0  </td><td>0  </td><td>0  </td><td>0  </td><td>0  </td><td>0  </td><td>0  </td><td>...</td><td>0  </td><td>0  </td><td>0  </td><td>0  </td><td>0  </td><td>0  </td><td>0  </td><td>0  </td><td>0  </td><td>0  </td></tr>\n",
       "\t<tr><td>9  </td><td>0  </td><td>0  </td><td>0  </td><td>0  </td><td>0  </td><td>0  </td><td>0  </td><td>0  </td><td>0  </td><td>...</td><td>0  </td><td>0  </td><td>0  </td><td>0  </td><td>0  </td><td>0  </td><td>0  </td><td>0  </td><td>0  </td><td>0  </td></tr>\n",
       "\t<tr><td>9  </td><td>0  </td><td>0  </td><td>0  </td><td>0  </td><td>0  </td><td>0  </td><td>0  </td><td>0  </td><td>0  </td><td>...</td><td>0  </td><td>0  </td><td>0  </td><td>0  </td><td>0  </td><td>0  </td><td>0  </td><td>0  </td><td>0  </td><td>0  </td></tr>\n",
       "\t<tr><td>9  </td><td>0  </td><td>0  </td><td>0  </td><td>0  </td><td>0  </td><td>0  </td><td>0  </td><td>0  </td><td>0  </td><td>...</td><td>0  </td><td>0  </td><td>0  </td><td>0  </td><td>0  </td><td>0  </td><td>0  </td><td>0  </td><td>0  </td><td>0  </td></tr>\n",
       "\t<tr><td>9  </td><td>0  </td><td>0  </td><td>0  </td><td>0  </td><td>0  </td><td>0  </td><td>0  </td><td>0  </td><td>0  </td><td>...</td><td>0  </td><td>0  </td><td>0  </td><td>0  </td><td>0  </td><td>0  </td><td>0  </td><td>0  </td><td>0  </td><td>0  </td></tr>\n",
       "\t<tr><td>9  </td><td>0  </td><td>0  </td><td>0  </td><td>0  </td><td>0  </td><td>0  </td><td>0  </td><td>0  </td><td>0  </td><td>...</td><td>0  </td><td>0  </td><td>0  </td><td>0  </td><td>0  </td><td>0  </td><td>0  </td><td>0  </td><td>0  </td><td>0  </td></tr>\n",
       "\t<tr><td>9  </td><td>0  </td><td>0  </td><td>0  </td><td>0  </td><td>0  </td><td>0  </td><td>0  </td><td>0  </td><td>0  </td><td>...</td><td>0  </td><td>0  </td><td>0  </td><td>0  </td><td>0  </td><td>0  </td><td>0  </td><td>0  </td><td>0  </td><td>0  </td></tr>\n",
       "\t<tr><td>9  </td><td>0  </td><td>0  </td><td>0  </td><td>0  </td><td>0  </td><td>0  </td><td>0  </td><td>0  </td><td>0  </td><td>...</td><td>0  </td><td>0  </td><td>0  </td><td>0  </td><td>0  </td><td>0  </td><td>0  </td><td>0  </td><td>0  </td><td>0  </td></tr>\n",
       "\t<tr><td>9  </td><td>0  </td><td>0  </td><td>0  </td><td>0  </td><td>0  </td><td>0  </td><td>0  </td><td>0  </td><td>0  </td><td>...</td><td>0  </td><td>0  </td><td>0  </td><td>0  </td><td>0  </td><td>0  </td><td>0  </td><td>0  </td><td>0  </td><td>0  </td></tr>\n",
       "\t<tr><td>9  </td><td>0  </td><td>0  </td><td>0  </td><td>0  </td><td>0  </td><td>0  </td><td>0  </td><td>0  </td><td>0  </td><td>...</td><td>0  </td><td>0  </td><td>0  </td><td>0  </td><td>0  </td><td>0  </td><td>0  </td><td>0  </td><td>0  </td><td>0  </td></tr>\n",
       "\t<tr><td>9  </td><td>0  </td><td>0  </td><td>0  </td><td>0  </td><td>0  </td><td>0  </td><td>0  </td><td>0  </td><td>0  </td><td>...</td><td>0  </td><td>0  </td><td>0  </td><td>0  </td><td>0  </td><td>0  </td><td>0  </td><td>0  </td><td>0  </td><td>0  </td></tr>\n",
       "\t<tr><td>9  </td><td>0  </td><td>0  </td><td>0  </td><td>0  </td><td>0  </td><td>0  </td><td>0  </td><td>0  </td><td>0  </td><td>...</td><td>0  </td><td>0  </td><td>0  </td><td>0  </td><td>0  </td><td>0  </td><td>0  </td><td>0  </td><td>0  </td><td>0  </td></tr>\n",
       "\t<tr><td>9  </td><td>0  </td><td>0  </td><td>0  </td><td>0  </td><td>0  </td><td>0  </td><td>0  </td><td>0  </td><td>0  </td><td>...</td><td>0  </td><td>0  </td><td>0  </td><td>0  </td><td>0  </td><td>0  </td><td>0  </td><td>0  </td><td>0  </td><td>0  </td></tr>\n",
       "\t<tr><td>9  </td><td>0  </td><td>0  </td><td>0  </td><td>0  </td><td>0  </td><td>0  </td><td>0  </td><td>0  </td><td>0  </td><td>...</td><td>0  </td><td>0  </td><td>0  </td><td>0  </td><td>0  </td><td>0  </td><td>0  </td><td>0  </td><td>0  </td><td>0  </td></tr>\n",
       "\t<tr><td>9  </td><td>0  </td><td>0  </td><td>0  </td><td>0  </td><td>0  </td><td>0  </td><td>0  </td><td>0  </td><td>0  </td><td>...</td><td>0  </td><td>0  </td><td>0  </td><td>0  </td><td>0  </td><td>0  </td><td>0  </td><td>0  </td><td>0  </td><td>0  </td></tr>\n",
       "\t<tr><td>9  </td><td>0  </td><td>0  </td><td>0  </td><td>0  </td><td>0  </td><td>0  </td><td>0  </td><td>0  </td><td>0  </td><td>...</td><td>0  </td><td>0  </td><td>0  </td><td>0  </td><td>0  </td><td>0  </td><td>0  </td><td>0  </td><td>0  </td><td>0  </td></tr>\n",
       "\t<tr><td>9  </td><td>0  </td><td>0  </td><td>0  </td><td>0  </td><td>0  </td><td>0  </td><td>0  </td><td>0  </td><td>0  </td><td>...</td><td>0  </td><td>0  </td><td>0  </td><td>0  </td><td>0  </td><td>0  </td><td>0  </td><td>0  </td><td>0  </td><td>0  </td></tr>\n",
       "\t<tr><td>9  </td><td>0  </td><td>0  </td><td>0  </td><td>0  </td><td>0  </td><td>0  </td><td>0  </td><td>0  </td><td>0  </td><td>...</td><td>0  </td><td>0  </td><td>0  </td><td>0  </td><td>0  </td><td>0  </td><td>0  </td><td>0  </td><td>0  </td><td>0  </td></tr>\n",
       "\t<tr><td>9  </td><td>0  </td><td>0  </td><td>0  </td><td>0  </td><td>0  </td><td>0  </td><td>0  </td><td>0  </td><td>0  </td><td>...</td><td>0  </td><td>0  </td><td>0  </td><td>0  </td><td>0  </td><td>0  </td><td>0  </td><td>0  </td><td>0  </td><td>0  </td></tr>\n",
       "\t<tr><td>9  </td><td>0  </td><td>0  </td><td>0  </td><td>0  </td><td>0  </td><td>0  </td><td>0  </td><td>0  </td><td>0  </td><td>...</td><td>0  </td><td>0  </td><td>0  </td><td>0  </td><td>0  </td><td>0  </td><td>0  </td><td>0  </td><td>0  </td><td>0  </td></tr>\n",
       "\t<tr><td>9  </td><td>0  </td><td>0  </td><td>0  </td><td>0  </td><td>0  </td><td>0  </td><td>0  </td><td>0  </td><td>0  </td><td>...</td><td>0  </td><td>0  </td><td>0  </td><td>0  </td><td>0  </td><td>0  </td><td>0  </td><td>0  </td><td>0  </td><td>0  </td></tr>\n",
       "\t<tr><td>9  </td><td>0  </td><td>0  </td><td>0  </td><td>0  </td><td>0  </td><td>0  </td><td>0  </td><td>0  </td><td>0  </td><td>...</td><td>0  </td><td>0  </td><td>0  </td><td>0  </td><td>0  </td><td>0  </td><td>0  </td><td>0  </td><td>0  </td><td>0  </td></tr>\n",
       "\t<tr><td>9  </td><td>0  </td><td>0  </td><td>0  </td><td>0  </td><td>0  </td><td>0  </td><td>0  </td><td>0  </td><td>0  </td><td>...</td><td>0  </td><td>0  </td><td>0  </td><td>0  </td><td>0  </td><td>0  </td><td>0  </td><td>0  </td><td>0  </td><td>0  </td></tr>\n",
       "\t<tr><td>9  </td><td>0  </td><td>0  </td><td>0  </td><td>0  </td><td>0  </td><td>0  </td><td>0  </td><td>0  </td><td>0  </td><td>...</td><td>0  </td><td>0  </td><td>0  </td><td>0  </td><td>0  </td><td>0  </td><td>0  </td><td>0  </td><td>0  </td><td>0  </td></tr>\n",
       "</tbody>\n",
       "</table>\n"
      ],
      "text/latex": [
       "\\begin{tabular}{r|lllllllllllllllllllllllllllllllllllllllllllllllllllllllllllllllllllllllllllllllllllllllllllllllllllllllllllllllllllllllllllllllllllllllllllllllllllllllllllllllllllllllllllllllllllllllllllllllllllllllllllllllllllllllllllllllllllllllllllllllllllllllllllllllllllllllllllllllllllllllllllllllllllllllllllllllllllllllllllllllllllllllllllllllllllllllllllllllllllllllllllllllllllllllllllllllllllllllllllllllllllllllllllllllllllllllllllllllllllllllllllllllllllllllllllllllllllllllllllllllllllllllllllllllllllllllllllllllllllllllllllllllllllllllllllllllllllllllllllllllllllllllllllllllllllllllllllllllllllllllllllllllllllllllllllllllllllllllllllllllllllllllllllllllllllllllllllllllllllllllllllllllllllllllllllllllllllllllllllllllllllllllllllllllllllllllllllllllllllllllllllllllllllllllllllllllll}\n",
       " V1 & V2 & V3 & V4 & V5 & V6 & V7 & V8 & V9 & V10 & ... & V776 & V777 & V778 & V779 & V780 & V781 & V782 & V783 & V784 & V785\\\\\n",
       "\\hline\n",
       "\t 0   & 0   & 0   & 0   & 0   & 0   & 0   & 0   & 0   & 0   & ... & 0   & 0   & 0   & 0   & 0   & 0   & 0   & 0   & 0   & 0  \\\\\n",
       "\t 0   & 0   & 0   & 0   & 0   & 0   & 0   & 0   & 0   & 0   & ... & 0   & 0   & 0   & 0   & 0   & 0   & 0   & 0   & 0   & 0  \\\\\n",
       "\t 0   & 0   & 0   & 0   & 0   & 0   & 0   & 0   & 0   & 0   & ... & 0   & 0   & 0   & 0   & 0   & 0   & 0   & 0   & 0   & 0  \\\\\n",
       "\t 0   & 0   & 0   & 0   & 0   & 0   & 0   & 0   & 0   & 0   & ... & 0   & 0   & 0   & 0   & 0   & 0   & 0   & 0   & 0   & 0  \\\\\n",
       "\t 0   & 0   & 0   & 0   & 0   & 0   & 0   & 0   & 0   & 0   & ... & 0   & 0   & 0   & 0   & 0   & 0   & 0   & 0   & 0   & 0  \\\\\n",
       "\t 0   & 0   & 0   & 0   & 0   & 0   & 0   & 0   & 0   & 0   & ... & 0   & 0   & 0   & 0   & 0   & 0   & 0   & 0   & 0   & 0  \\\\\n",
       "\t 0   & 0   & 0   & 0   & 0   & 0   & 0   & 0   & 0   & 0   & ... & 0   & 0   & 0   & 0   & 0   & 0   & 0   & 0   & 0   & 0  \\\\\n",
       "\t 0   & 0   & 0   & 0   & 0   & 0   & 0   & 0   & 0   & 0   & ... & 0   & 0   & 0   & 0   & 0   & 0   & 0   & 0   & 0   & 0  \\\\\n",
       "\t 0   & 0   & 0   & 0   & 0   & 0   & 0   & 0   & 0   & 0   & ... & 0   & 0   & 0   & 0   & 0   & 0   & 0   & 0   & 0   & 0  \\\\\n",
       "\t 0   & 0   & 0   & 0   & 0   & 0   & 0   & 0   & 0   & 0   & ... & 0   & 0   & 0   & 0   & 0   & 0   & 0   & 0   & 0   & 0  \\\\\n",
       "\t 0   & 0   & 0   & 0   & 0   & 0   & 0   & 0   & 0   & 0   & ... & 0   & 0   & 0   & 0   & 0   & 0   & 0   & 0   & 0   & 0  \\\\\n",
       "\t 0   & 0   & 0   & 0   & 0   & 0   & 0   & 0   & 0   & 0   & ... & 0   & 0   & 0   & 0   & 0   & 0   & 0   & 0   & 0   & 0  \\\\\n",
       "\t 0   & 0   & 0   & 0   & 0   & 0   & 0   & 0   & 0   & 0   & ... & 0   & 0   & 0   & 0   & 0   & 0   & 0   & 0   & 0   & 0  \\\\\n",
       "\t 0   & 0   & 0   & 0   & 0   & 0   & 0   & 0   & 0   & 0   & ... & 0   & 0   & 0   & 0   & 0   & 0   & 0   & 0   & 0   & 0  \\\\\n",
       "\t 0   & 0   & 0   & 0   & 0   & 0   & 0   & 0   & 0   & 0   & ... & 0   & 0   & 0   & 0   & 0   & 0   & 0   & 0   & 0   & 0  \\\\\n",
       "\t 0   & 0   & 0   & 0   & 0   & 0   & 0   & 0   & 0   & 0   & ... & 0   & 0   & 0   & 0   & 0   & 0   & 0   & 0   & 0   & 0  \\\\\n",
       "\t 0   & 0   & 0   & 0   & 0   & 0   & 0   & 0   & 0   & 0   & ... & 0   & 0   & 0   & 0   & 0   & 0   & 0   & 0   & 0   & 0  \\\\\n",
       "\t 0   & 0   & 0   & 0   & 0   & 0   & 0   & 0   & 0   & 0   & ... & 0   & 0   & 0   & 0   & 0   & 0   & 0   & 0   & 0   & 0  \\\\\n",
       "\t 0   & 0   & 0   & 0   & 0   & 0   & 0   & 0   & 0   & 0   & ... & 0   & 0   & 0   & 0   & 0   & 0   & 0   & 0   & 0   & 0  \\\\\n",
       "\t 0   & 0   & 0   & 0   & 0   & 0   & 0   & 0   & 0   & 0   & ... & 0   & 0   & 0   & 0   & 0   & 0   & 0   & 0   & 0   & 0  \\\\\n",
       "\t 0   & 0   & 0   & 0   & 0   & 0   & 0   & 0   & 0   & 0   & ... & 0   & 0   & 0   & 0   & 0   & 0   & 0   & 0   & 0   & 0  \\\\\n",
       "\t 0   & 0   & 0   & 0   & 0   & 0   & 0   & 0   & 0   & 0   & ... & 0   & 0   & 0   & 0   & 0   & 0   & 0   & 0   & 0   & 0  \\\\\n",
       "\t 0   & 0   & 0   & 0   & 0   & 0   & 0   & 0   & 0   & 0   & ... & 0   & 0   & 0   & 0   & 0   & 0   & 0   & 0   & 0   & 0  \\\\\n",
       "\t 0   & 0   & 0   & 0   & 0   & 0   & 0   & 0   & 0   & 0   & ... & 0   & 0   & 0   & 0   & 0   & 0   & 0   & 0   & 0   & 0  \\\\\n",
       "\t 0   & 0   & 0   & 0   & 0   & 0   & 0   & 0   & 0   & 0   & ... & 0   & 0   & 0   & 0   & 0   & 0   & 0   & 0   & 0   & 0  \\\\\n",
       "\t 0   & 0   & 0   & 0   & 0   & 0   & 0   & 0   & 0   & 0   & ... & 0   & 0   & 0   & 0   & 0   & 0   & 0   & 0   & 0   & 0  \\\\\n",
       "\t 0   & 0   & 0   & 0   & 0   & 0   & 0   & 0   & 0   & 0   & ... & 0   & 0   & 0   & 0   & 0   & 0   & 0   & 0   & 0   & 0  \\\\\n",
       "\t 0   & 0   & 0   & 0   & 0   & 0   & 0   & 0   & 0   & 0   & ... & 0   & 0   & 0   & 0   & 0   & 0   & 0   & 0   & 0   & 0  \\\\\n",
       "\t 0   & 0   & 0   & 0   & 0   & 0   & 0   & 0   & 0   & 0   & ... & 0   & 0   & 0   & 0   & 0   & 0   & 0   & 0   & 0   & 0  \\\\\n",
       "\t 0   & 0   & 0   & 0   & 0   & 0   & 0   & 0   & 0   & 0   & ... & 0   & 0   & 0   & 0   & 0   & 0   & 0   & 0   & 0   & 0  \\\\\n",
       "\t ... & ... & ... & ... & ... & ... & ... & ... & ... & ... &     & ... & ... & ... & ... & ... & ... & ... & ... & ... & ...\\\\\n",
       "\t 9   & 0   & 0   & 0   & 0   & 0   & 0   & 0   & 0   & 0   & ... & 0   & 0   & 0   & 0   & 0   & 0   & 0   & 0   & 0   & 0  \\\\\n",
       "\t 9   & 0   & 0   & 0   & 0   & 0   & 0   & 0   & 0   & 0   & ... & 0   & 0   & 0   & 0   & 0   & 0   & 0   & 0   & 0   & 0  \\\\\n",
       "\t 9   & 0   & 0   & 0   & 0   & 0   & 0   & 0   & 0   & 0   & ... & 0   & 0   & 0   & 0   & 0   & 0   & 0   & 0   & 0   & 0  \\\\\n",
       "\t 9   & 0   & 0   & 0   & 0   & 0   & 0   & 0   & 0   & 0   & ... & 0   & 0   & 0   & 0   & 0   & 0   & 0   & 0   & 0   & 0  \\\\\n",
       "\t 9   & 0   & 0   & 0   & 0   & 0   & 0   & 0   & 0   & 0   & ... & 0   & 0   & 0   & 0   & 0   & 0   & 0   & 0   & 0   & 0  \\\\\n",
       "\t 9   & 0   & 0   & 0   & 0   & 0   & 0   & 0   & 0   & 0   & ... & 0   & 0   & 0   & 0   & 0   & 0   & 0   & 0   & 0   & 0  \\\\\n",
       "\t 9   & 0   & 0   & 0   & 0   & 0   & 0   & 0   & 0   & 0   & ... & 0   & 0   & 0   & 0   & 0   & 0   & 0   & 0   & 0   & 0  \\\\\n",
       "\t 9   & 0   & 0   & 0   & 0   & 0   & 0   & 0   & 0   & 0   & ... & 0   & 0   & 0   & 0   & 0   & 0   & 0   & 0   & 0   & 0  \\\\\n",
       "\t 9   & 0   & 0   & 0   & 0   & 0   & 0   & 0   & 0   & 0   & ... & 0   & 0   & 0   & 0   & 0   & 0   & 0   & 0   & 0   & 0  \\\\\n",
       "\t 9   & 0   & 0   & 0   & 0   & 0   & 0   & 0   & 0   & 0   & ... & 0   & 0   & 0   & 0   & 0   & 0   & 0   & 0   & 0   & 0  \\\\\n",
       "\t 9   & 0   & 0   & 0   & 0   & 0   & 0   & 0   & 0   & 0   & ... & 0   & 0   & 0   & 0   & 0   & 0   & 0   & 0   & 0   & 0  \\\\\n",
       "\t 9   & 0   & 0   & 0   & 0   & 0   & 0   & 0   & 0   & 0   & ... & 0   & 0   & 0   & 0   & 0   & 0   & 0   & 0   & 0   & 0  \\\\\n",
       "\t 9   & 0   & 0   & 0   & 0   & 0   & 0   & 0   & 0   & 0   & ... & 0   & 0   & 0   & 0   & 0   & 0   & 0   & 0   & 0   & 0  \\\\\n",
       "\t 9   & 0   & 0   & 0   & 0   & 0   & 0   & 0   & 0   & 0   & ... & 0   & 0   & 0   & 0   & 0   & 0   & 0   & 0   & 0   & 0  \\\\\n",
       "\t 9   & 0   & 0   & 0   & 0   & 0   & 0   & 0   & 0   & 0   & ... & 0   & 0   & 0   & 0   & 0   & 0   & 0   & 0   & 0   & 0  \\\\\n",
       "\t 9   & 0   & 0   & 0   & 0   & 0   & 0   & 0   & 0   & 0   & ... & 0   & 0   & 0   & 0   & 0   & 0   & 0   & 0   & 0   & 0  \\\\\n",
       "\t 9   & 0   & 0   & 0   & 0   & 0   & 0   & 0   & 0   & 0   & ... & 0   & 0   & 0   & 0   & 0   & 0   & 0   & 0   & 0   & 0  \\\\\n",
       "\t 9   & 0   & 0   & 0   & 0   & 0   & 0   & 0   & 0   & 0   & ... & 0   & 0   & 0   & 0   & 0   & 0   & 0   & 0   & 0   & 0  \\\\\n",
       "\t 9   & 0   & 0   & 0   & 0   & 0   & 0   & 0   & 0   & 0   & ... & 0   & 0   & 0   & 0   & 0   & 0   & 0   & 0   & 0   & 0  \\\\\n",
       "\t 9   & 0   & 0   & 0   & 0   & 0   & 0   & 0   & 0   & 0   & ... & 0   & 0   & 0   & 0   & 0   & 0   & 0   & 0   & 0   & 0  \\\\\n",
       "\t 9   & 0   & 0   & 0   & 0   & 0   & 0   & 0   & 0   & 0   & ... & 0   & 0   & 0   & 0   & 0   & 0   & 0   & 0   & 0   & 0  \\\\\n",
       "\t 9   & 0   & 0   & 0   & 0   & 0   & 0   & 0   & 0   & 0   & ... & 0   & 0   & 0   & 0   & 0   & 0   & 0   & 0   & 0   & 0  \\\\\n",
       "\t 9   & 0   & 0   & 0   & 0   & 0   & 0   & 0   & 0   & 0   & ... & 0   & 0   & 0   & 0   & 0   & 0   & 0   & 0   & 0   & 0  \\\\\n",
       "\t 9   & 0   & 0   & 0   & 0   & 0   & 0   & 0   & 0   & 0   & ... & 0   & 0   & 0   & 0   & 0   & 0   & 0   & 0   & 0   & 0  \\\\\n",
       "\t 9   & 0   & 0   & 0   & 0   & 0   & 0   & 0   & 0   & 0   & ... & 0   & 0   & 0   & 0   & 0   & 0   & 0   & 0   & 0   & 0  \\\\\n",
       "\t 9   & 0   & 0   & 0   & 0   & 0   & 0   & 0   & 0   & 0   & ... & 0   & 0   & 0   & 0   & 0   & 0   & 0   & 0   & 0   & 0  \\\\\n",
       "\t 9   & 0   & 0   & 0   & 0   & 0   & 0   & 0   & 0   & 0   & ... & 0   & 0   & 0   & 0   & 0   & 0   & 0   & 0   & 0   & 0  \\\\\n",
       "\t 9   & 0   & 0   & 0   & 0   & 0   & 0   & 0   & 0   & 0   & ... & 0   & 0   & 0   & 0   & 0   & 0   & 0   & 0   & 0   & 0  \\\\\n",
       "\t 9   & 0   & 0   & 0   & 0   & 0   & 0   & 0   & 0   & 0   & ... & 0   & 0   & 0   & 0   & 0   & 0   & 0   & 0   & 0   & 0  \\\\\n",
       "\t 9   & 0   & 0   & 0   & 0   & 0   & 0   & 0   & 0   & 0   & ... & 0   & 0   & 0   & 0   & 0   & 0   & 0   & 0   & 0   & 0  \\\\\n",
       "\\end{tabular}\n"
      ],
      "text/markdown": [
       "\n",
       "| V1 | V2 | V3 | V4 | V5 | V6 | V7 | V8 | V9 | V10 | ... | V776 | V777 | V778 | V779 | V780 | V781 | V782 | V783 | V784 | V785 |\n",
       "|---|---|---|---|---|---|---|---|---|---|---|---|---|---|---|---|---|---|---|---|---|\n",
       "| 0   | 0   | 0   | 0   | 0   | 0   | 0   | 0   | 0   | 0   | ... | 0   | 0   | 0   | 0   | 0   | 0   | 0   | 0   | 0   | 0   |\n",
       "| 0   | 0   | 0   | 0   | 0   | 0   | 0   | 0   | 0   | 0   | ... | 0   | 0   | 0   | 0   | 0   | 0   | 0   | 0   | 0   | 0   |\n",
       "| 0   | 0   | 0   | 0   | 0   | 0   | 0   | 0   | 0   | 0   | ... | 0   | 0   | 0   | 0   | 0   | 0   | 0   | 0   | 0   | 0   |\n",
       "| 0   | 0   | 0   | 0   | 0   | 0   | 0   | 0   | 0   | 0   | ... | 0   | 0   | 0   | 0   | 0   | 0   | 0   | 0   | 0   | 0   |\n",
       "| 0   | 0   | 0   | 0   | 0   | 0   | 0   | 0   | 0   | 0   | ... | 0   | 0   | 0   | 0   | 0   | 0   | 0   | 0   | 0   | 0   |\n",
       "| 0   | 0   | 0   | 0   | 0   | 0   | 0   | 0   | 0   | 0   | ... | 0   | 0   | 0   | 0   | 0   | 0   | 0   | 0   | 0   | 0   |\n",
       "| 0   | 0   | 0   | 0   | 0   | 0   | 0   | 0   | 0   | 0   | ... | 0   | 0   | 0   | 0   | 0   | 0   | 0   | 0   | 0   | 0   |\n",
       "| 0   | 0   | 0   | 0   | 0   | 0   | 0   | 0   | 0   | 0   | ... | 0   | 0   | 0   | 0   | 0   | 0   | 0   | 0   | 0   | 0   |\n",
       "| 0   | 0   | 0   | 0   | 0   | 0   | 0   | 0   | 0   | 0   | ... | 0   | 0   | 0   | 0   | 0   | 0   | 0   | 0   | 0   | 0   |\n",
       "| 0   | 0   | 0   | 0   | 0   | 0   | 0   | 0   | 0   | 0   | ... | 0   | 0   | 0   | 0   | 0   | 0   | 0   | 0   | 0   | 0   |\n",
       "| 0   | 0   | 0   | 0   | 0   | 0   | 0   | 0   | 0   | 0   | ... | 0   | 0   | 0   | 0   | 0   | 0   | 0   | 0   | 0   | 0   |\n",
       "| 0   | 0   | 0   | 0   | 0   | 0   | 0   | 0   | 0   | 0   | ... | 0   | 0   | 0   | 0   | 0   | 0   | 0   | 0   | 0   | 0   |\n",
       "| 0   | 0   | 0   | 0   | 0   | 0   | 0   | 0   | 0   | 0   | ... | 0   | 0   | 0   | 0   | 0   | 0   | 0   | 0   | 0   | 0   |\n",
       "| 0   | 0   | 0   | 0   | 0   | 0   | 0   | 0   | 0   | 0   | ... | 0   | 0   | 0   | 0   | 0   | 0   | 0   | 0   | 0   | 0   |\n",
       "| 0   | 0   | 0   | 0   | 0   | 0   | 0   | 0   | 0   | 0   | ... | 0   | 0   | 0   | 0   | 0   | 0   | 0   | 0   | 0   | 0   |\n",
       "| 0   | 0   | 0   | 0   | 0   | 0   | 0   | 0   | 0   | 0   | ... | 0   | 0   | 0   | 0   | 0   | 0   | 0   | 0   | 0   | 0   |\n",
       "| 0   | 0   | 0   | 0   | 0   | 0   | 0   | 0   | 0   | 0   | ... | 0   | 0   | 0   | 0   | 0   | 0   | 0   | 0   | 0   | 0   |\n",
       "| 0   | 0   | 0   | 0   | 0   | 0   | 0   | 0   | 0   | 0   | ... | 0   | 0   | 0   | 0   | 0   | 0   | 0   | 0   | 0   | 0   |\n",
       "| 0   | 0   | 0   | 0   | 0   | 0   | 0   | 0   | 0   | 0   | ... | 0   | 0   | 0   | 0   | 0   | 0   | 0   | 0   | 0   | 0   |\n",
       "| 0   | 0   | 0   | 0   | 0   | 0   | 0   | 0   | 0   | 0   | ... | 0   | 0   | 0   | 0   | 0   | 0   | 0   | 0   | 0   | 0   |\n",
       "| 0   | 0   | 0   | 0   | 0   | 0   | 0   | 0   | 0   | 0   | ... | 0   | 0   | 0   | 0   | 0   | 0   | 0   | 0   | 0   | 0   |\n",
       "| 0   | 0   | 0   | 0   | 0   | 0   | 0   | 0   | 0   | 0   | ... | 0   | 0   | 0   | 0   | 0   | 0   | 0   | 0   | 0   | 0   |\n",
       "| 0   | 0   | 0   | 0   | 0   | 0   | 0   | 0   | 0   | 0   | ... | 0   | 0   | 0   | 0   | 0   | 0   | 0   | 0   | 0   | 0   |\n",
       "| 0   | 0   | 0   | 0   | 0   | 0   | 0   | 0   | 0   | 0   | ... | 0   | 0   | 0   | 0   | 0   | 0   | 0   | 0   | 0   | 0   |\n",
       "| 0   | 0   | 0   | 0   | 0   | 0   | 0   | 0   | 0   | 0   | ... | 0   | 0   | 0   | 0   | 0   | 0   | 0   | 0   | 0   | 0   |\n",
       "| 0   | 0   | 0   | 0   | 0   | 0   | 0   | 0   | 0   | 0   | ... | 0   | 0   | 0   | 0   | 0   | 0   | 0   | 0   | 0   | 0   |\n",
       "| 0   | 0   | 0   | 0   | 0   | 0   | 0   | 0   | 0   | 0   | ... | 0   | 0   | 0   | 0   | 0   | 0   | 0   | 0   | 0   | 0   |\n",
       "| 0   | 0   | 0   | 0   | 0   | 0   | 0   | 0   | 0   | 0   | ... | 0   | 0   | 0   | 0   | 0   | 0   | 0   | 0   | 0   | 0   |\n",
       "| 0   | 0   | 0   | 0   | 0   | 0   | 0   | 0   | 0   | 0   | ... | 0   | 0   | 0   | 0   | 0   | 0   | 0   | 0   | 0   | 0   |\n",
       "| 0   | 0   | 0   | 0   | 0   | 0   | 0   | 0   | 0   | 0   | ... | 0   | 0   | 0   | 0   | 0   | 0   | 0   | 0   | 0   | 0   |\n",
       "| ... | ... | ... | ... | ... | ... | ... | ... | ... | ... |     | ... | ... | ... | ... | ... | ... | ... | ... | ... | ... |\n",
       "| 9   | 0   | 0   | 0   | 0   | 0   | 0   | 0   | 0   | 0   | ... | 0   | 0   | 0   | 0   | 0   | 0   | 0   | 0   | 0   | 0   |\n",
       "| 9   | 0   | 0   | 0   | 0   | 0   | 0   | 0   | 0   | 0   | ... | 0   | 0   | 0   | 0   | 0   | 0   | 0   | 0   | 0   | 0   |\n",
       "| 9   | 0   | 0   | 0   | 0   | 0   | 0   | 0   | 0   | 0   | ... | 0   | 0   | 0   | 0   | 0   | 0   | 0   | 0   | 0   | 0   |\n",
       "| 9   | 0   | 0   | 0   | 0   | 0   | 0   | 0   | 0   | 0   | ... | 0   | 0   | 0   | 0   | 0   | 0   | 0   | 0   | 0   | 0   |\n",
       "| 9   | 0   | 0   | 0   | 0   | 0   | 0   | 0   | 0   | 0   | ... | 0   | 0   | 0   | 0   | 0   | 0   | 0   | 0   | 0   | 0   |\n",
       "| 9   | 0   | 0   | 0   | 0   | 0   | 0   | 0   | 0   | 0   | ... | 0   | 0   | 0   | 0   | 0   | 0   | 0   | 0   | 0   | 0   |\n",
       "| 9   | 0   | 0   | 0   | 0   | 0   | 0   | 0   | 0   | 0   | ... | 0   | 0   | 0   | 0   | 0   | 0   | 0   | 0   | 0   | 0   |\n",
       "| 9   | 0   | 0   | 0   | 0   | 0   | 0   | 0   | 0   | 0   | ... | 0   | 0   | 0   | 0   | 0   | 0   | 0   | 0   | 0   | 0   |\n",
       "| 9   | 0   | 0   | 0   | 0   | 0   | 0   | 0   | 0   | 0   | ... | 0   | 0   | 0   | 0   | 0   | 0   | 0   | 0   | 0   | 0   |\n",
       "| 9   | 0   | 0   | 0   | 0   | 0   | 0   | 0   | 0   | 0   | ... | 0   | 0   | 0   | 0   | 0   | 0   | 0   | 0   | 0   | 0   |\n",
       "| 9   | 0   | 0   | 0   | 0   | 0   | 0   | 0   | 0   | 0   | ... | 0   | 0   | 0   | 0   | 0   | 0   | 0   | 0   | 0   | 0   |\n",
       "| 9   | 0   | 0   | 0   | 0   | 0   | 0   | 0   | 0   | 0   | ... | 0   | 0   | 0   | 0   | 0   | 0   | 0   | 0   | 0   | 0   |\n",
       "| 9   | 0   | 0   | 0   | 0   | 0   | 0   | 0   | 0   | 0   | ... | 0   | 0   | 0   | 0   | 0   | 0   | 0   | 0   | 0   | 0   |\n",
       "| 9   | 0   | 0   | 0   | 0   | 0   | 0   | 0   | 0   | 0   | ... | 0   | 0   | 0   | 0   | 0   | 0   | 0   | 0   | 0   | 0   |\n",
       "| 9   | 0   | 0   | 0   | 0   | 0   | 0   | 0   | 0   | 0   | ... | 0   | 0   | 0   | 0   | 0   | 0   | 0   | 0   | 0   | 0   |\n",
       "| 9   | 0   | 0   | 0   | 0   | 0   | 0   | 0   | 0   | 0   | ... | 0   | 0   | 0   | 0   | 0   | 0   | 0   | 0   | 0   | 0   |\n",
       "| 9   | 0   | 0   | 0   | 0   | 0   | 0   | 0   | 0   | 0   | ... | 0   | 0   | 0   | 0   | 0   | 0   | 0   | 0   | 0   | 0   |\n",
       "| 9   | 0   | 0   | 0   | 0   | 0   | 0   | 0   | 0   | 0   | ... | 0   | 0   | 0   | 0   | 0   | 0   | 0   | 0   | 0   | 0   |\n",
       "| 9   | 0   | 0   | 0   | 0   | 0   | 0   | 0   | 0   | 0   | ... | 0   | 0   | 0   | 0   | 0   | 0   | 0   | 0   | 0   | 0   |\n",
       "| 9   | 0   | 0   | 0   | 0   | 0   | 0   | 0   | 0   | 0   | ... | 0   | 0   | 0   | 0   | 0   | 0   | 0   | 0   | 0   | 0   |\n",
       "| 9   | 0   | 0   | 0   | 0   | 0   | 0   | 0   | 0   | 0   | ... | 0   | 0   | 0   | 0   | 0   | 0   | 0   | 0   | 0   | 0   |\n",
       "| 9   | 0   | 0   | 0   | 0   | 0   | 0   | 0   | 0   | 0   | ... | 0   | 0   | 0   | 0   | 0   | 0   | 0   | 0   | 0   | 0   |\n",
       "| 9   | 0   | 0   | 0   | 0   | 0   | 0   | 0   | 0   | 0   | ... | 0   | 0   | 0   | 0   | 0   | 0   | 0   | 0   | 0   | 0   |\n",
       "| 9   | 0   | 0   | 0   | 0   | 0   | 0   | 0   | 0   | 0   | ... | 0   | 0   | 0   | 0   | 0   | 0   | 0   | 0   | 0   | 0   |\n",
       "| 9   | 0   | 0   | 0   | 0   | 0   | 0   | 0   | 0   | 0   | ... | 0   | 0   | 0   | 0   | 0   | 0   | 0   | 0   | 0   | 0   |\n",
       "| 9   | 0   | 0   | 0   | 0   | 0   | 0   | 0   | 0   | 0   | ... | 0   | 0   | 0   | 0   | 0   | 0   | 0   | 0   | 0   | 0   |\n",
       "| 9   | 0   | 0   | 0   | 0   | 0   | 0   | 0   | 0   | 0   | ... | 0   | 0   | 0   | 0   | 0   | 0   | 0   | 0   | 0   | 0   |\n",
       "| 9   | 0   | 0   | 0   | 0   | 0   | 0   | 0   | 0   | 0   | ... | 0   | 0   | 0   | 0   | 0   | 0   | 0   | 0   | 0   | 0   |\n",
       "| 9   | 0   | 0   | 0   | 0   | 0   | 0   | 0   | 0   | 0   | ... | 0   | 0   | 0   | 0   | 0   | 0   | 0   | 0   | 0   | 0   |\n",
       "| 9   | 0   | 0   | 0   | 0   | 0   | 0   | 0   | 0   | 0   | ... | 0   | 0   | 0   | 0   | 0   | 0   | 0   | 0   | 0   | 0   |\n",
       "\n"
      ],
      "text/plain": [
       "     V1  V2  V3  V4  V5  V6  V7  V8  V9  V10 ... V776 V777 V778 V779 V780 V781\n",
       "1    0   0   0   0   0   0   0   0   0   0   ... 0    0    0    0    0    0   \n",
       "2    0   0   0   0   0   0   0   0   0   0   ... 0    0    0    0    0    0   \n",
       "3    0   0   0   0   0   0   0   0   0   0   ... 0    0    0    0    0    0   \n",
       "4    0   0   0   0   0   0   0   0   0   0   ... 0    0    0    0    0    0   \n",
       "5    0   0   0   0   0   0   0   0   0   0   ... 0    0    0    0    0    0   \n",
       "6    0   0   0   0   0   0   0   0   0   0   ... 0    0    0    0    0    0   \n",
       "7    0   0   0   0   0   0   0   0   0   0   ... 0    0    0    0    0    0   \n",
       "8    0   0   0   0   0   0   0   0   0   0   ... 0    0    0    0    0    0   \n",
       "9    0   0   0   0   0   0   0   0   0   0   ... 0    0    0    0    0    0   \n",
       "10   0   0   0   0   0   0   0   0   0   0   ... 0    0    0    0    0    0   \n",
       "11   0   0   0   0   0   0   0   0   0   0   ... 0    0    0    0    0    0   \n",
       "12   0   0   0   0   0   0   0   0   0   0   ... 0    0    0    0    0    0   \n",
       "13   0   0   0   0   0   0   0   0   0   0   ... 0    0    0    0    0    0   \n",
       "14   0   0   0   0   0   0   0   0   0   0   ... 0    0    0    0    0    0   \n",
       "15   0   0   0   0   0   0   0   0   0   0   ... 0    0    0    0    0    0   \n",
       "16   0   0   0   0   0   0   0   0   0   0   ... 0    0    0    0    0    0   \n",
       "17   0   0   0   0   0   0   0   0   0   0   ... 0    0    0    0    0    0   \n",
       "18   0   0   0   0   0   0   0   0   0   0   ... 0    0    0    0    0    0   \n",
       "19   0   0   0   0   0   0   0   0   0   0   ... 0    0    0    0    0    0   \n",
       "20   0   0   0   0   0   0   0   0   0   0   ... 0    0    0    0    0    0   \n",
       "21   0   0   0   0   0   0   0   0   0   0   ... 0    0    0    0    0    0   \n",
       "22   0   0   0   0   0   0   0   0   0   0   ... 0    0    0    0    0    0   \n",
       "23   0   0   0   0   0   0   0   0   0   0   ... 0    0    0    0    0    0   \n",
       "24   0   0   0   0   0   0   0   0   0   0   ... 0    0    0    0    0    0   \n",
       "25   0   0   0   0   0   0   0   0   0   0   ... 0    0    0    0    0    0   \n",
       "26   0   0   0   0   0   0   0   0   0   0   ... 0    0    0    0    0    0   \n",
       "27   0   0   0   0   0   0   0   0   0   0   ... 0    0    0    0    0    0   \n",
       "28   0   0   0   0   0   0   0   0   0   0   ... 0    0    0    0    0    0   \n",
       "29   0   0   0   0   0   0   0   0   0   0   ... 0    0    0    0    0    0   \n",
       "30   0   0   0   0   0   0   0   0   0   0   ... 0    0    0    0    0    0   \n",
       "...  ... ... ... ... ... ... ... ... ... ...     ...  ...  ...  ...  ...  ... \n",
       "972  9   0   0   0   0   0   0   0   0   0   ... 0    0    0    0    0    0   \n",
       "973  9   0   0   0   0   0   0   0   0   0   ... 0    0    0    0    0    0   \n",
       "974  9   0   0   0   0   0   0   0   0   0   ... 0    0    0    0    0    0   \n",
       "975  9   0   0   0   0   0   0   0   0   0   ... 0    0    0    0    0    0   \n",
       "976  9   0   0   0   0   0   0   0   0   0   ... 0    0    0    0    0    0   \n",
       "977  9   0   0   0   0   0   0   0   0   0   ... 0    0    0    0    0    0   \n",
       "978  9   0   0   0   0   0   0   0   0   0   ... 0    0    0    0    0    0   \n",
       "979  9   0   0   0   0   0   0   0   0   0   ... 0    0    0    0    0    0   \n",
       "980  9   0   0   0   0   0   0   0   0   0   ... 0    0    0    0    0    0   \n",
       "981  9   0   0   0   0   0   0   0   0   0   ... 0    0    0    0    0    0   \n",
       "982  9   0   0   0   0   0   0   0   0   0   ... 0    0    0    0    0    0   \n",
       "983  9   0   0   0   0   0   0   0   0   0   ... 0    0    0    0    0    0   \n",
       "984  9   0   0   0   0   0   0   0   0   0   ... 0    0    0    0    0    0   \n",
       "985  9   0   0   0   0   0   0   0   0   0   ... 0    0    0    0    0    0   \n",
       "986  9   0   0   0   0   0   0   0   0   0   ... 0    0    0    0    0    0   \n",
       "987  9   0   0   0   0   0   0   0   0   0   ... 0    0    0    0    0    0   \n",
       "988  9   0   0   0   0   0   0   0   0   0   ... 0    0    0    0    0    0   \n",
       "989  9   0   0   0   0   0   0   0   0   0   ... 0    0    0    0    0    0   \n",
       "990  9   0   0   0   0   0   0   0   0   0   ... 0    0    0    0    0    0   \n",
       "991  9   0   0   0   0   0   0   0   0   0   ... 0    0    0    0    0    0   \n",
       "992  9   0   0   0   0   0   0   0   0   0   ... 0    0    0    0    0    0   \n",
       "993  9   0   0   0   0   0   0   0   0   0   ... 0    0    0    0    0    0   \n",
       "994  9   0   0   0   0   0   0   0   0   0   ... 0    0    0    0    0    0   \n",
       "995  9   0   0   0   0   0   0   0   0   0   ... 0    0    0    0    0    0   \n",
       "996  9   0   0   0   0   0   0   0   0   0   ... 0    0    0    0    0    0   \n",
       "997  9   0   0   0   0   0   0   0   0   0   ... 0    0    0    0    0    0   \n",
       "998  9   0   0   0   0   0   0   0   0   0   ... 0    0    0    0    0    0   \n",
       "999  9   0   0   0   0   0   0   0   0   0   ... 0    0    0    0    0    0   \n",
       "1000 9   0   0   0   0   0   0   0   0   0   ... 0    0    0    0    0    0   \n",
       "1001 9   0   0   0   0   0   0   0   0   0   ... 0    0    0    0    0    0   \n",
       "     V782 V783 V784 V785\n",
       "1    0    0    0    0   \n",
       "2    0    0    0    0   \n",
       "3    0    0    0    0   \n",
       "4    0    0    0    0   \n",
       "5    0    0    0    0   \n",
       "6    0    0    0    0   \n",
       "7    0    0    0    0   \n",
       "8    0    0    0    0   \n",
       "9    0    0    0    0   \n",
       "10   0    0    0    0   \n",
       "11   0    0    0    0   \n",
       "12   0    0    0    0   \n",
       "13   0    0    0    0   \n",
       "14   0    0    0    0   \n",
       "15   0    0    0    0   \n",
       "16   0    0    0    0   \n",
       "17   0    0    0    0   \n",
       "18   0    0    0    0   \n",
       "19   0    0    0    0   \n",
       "20   0    0    0    0   \n",
       "21   0    0    0    0   \n",
       "22   0    0    0    0   \n",
       "23   0    0    0    0   \n",
       "24   0    0    0    0   \n",
       "25   0    0    0    0   \n",
       "26   0    0    0    0   \n",
       "27   0    0    0    0   \n",
       "28   0    0    0    0   \n",
       "29   0    0    0    0   \n",
       "30   0    0    0    0   \n",
       "...  ...  ...  ...  ... \n",
       "972  0    0    0    0   \n",
       "973  0    0    0    0   \n",
       "974  0    0    0    0   \n",
       "975  0    0    0    0   \n",
       "976  0    0    0    0   \n",
       "977  0    0    0    0   \n",
       "978  0    0    0    0   \n",
       "979  0    0    0    0   \n",
       "980  0    0    0    0   \n",
       "981  0    0    0    0   \n",
       "982  0    0    0    0   \n",
       "983  0    0    0    0   \n",
       "984  0    0    0    0   \n",
       "985  0    0    0    0   \n",
       "986  0    0    0    0   \n",
       "987  0    0    0    0   \n",
       "988  0    0    0    0   \n",
       "989  0    0    0    0   \n",
       "990  0    0    0    0   \n",
       "991  0    0    0    0   \n",
       "992  0    0    0    0   \n",
       "993  0    0    0    0   \n",
       "994  0    0    0    0   \n",
       "995  0    0    0    0   \n",
       "996  0    0    0    0   \n",
       "997  0    0    0    0   \n",
       "998  0    0    0    0   \n",
       "999  0    0    0    0   \n",
       "1000 0    0    0    0   \n",
       "1001 0    0    0    0   "
      ]
     },
     "metadata": {},
     "output_type": "display_data"
    }
   ],
   "source": [
    "# 숫자 순서대로 정렬하기\n",
    "library(dplyr)\n",
    "mnist1<-arrange(mnist,V1)\n",
    "mnist1"
   ]
  },
  {
   "cell_type": "code",
   "execution_count": 8,
   "id": "807f0d93",
   "metadata": {},
   "outputs": [
    {
     "name": "stdout",
     "output_type": "stream",
     "text": [
      "1 = 116 \n",
      "2 = 99 \n",
      "3 = 93 \n",
      "4 = 105 \n",
      "5 = 92 \n",
      "6 = 94 \n",
      "7 = 117 \n",
      "8 = 87 \n",
      "9 = 100 \n"
     ]
    },
    {
     "data": {
      "text/plain": [
       "\n",
       "  0   1   2   3   4   5   6   7   8   9 \n",
       " 98 116  99  93 105  92  94 117  87 100 "
      ]
     },
     "metadata": {},
     "output_type": "display_data"
    }
   ],
   "source": [
    "# 0~9가 몇개씩 ..\n",
    "for(i in 1:9){\n",
    "    cat(i,\"=\",nrow(subset(mnist1,V1 ==i)),\"\\n\")\n",
    "}\n",
    "table(mnist1$V1)"
   ]
  },
  {
   "cell_type": "code",
   "execution_count": 9,
   "id": "3c6a16ec",
   "metadata": {},
   "outputs": [
    {
     "data": {
      "text/html": [
       "'data.frame'"
      ],
      "text/latex": [
       "'data.frame'"
      ],
      "text/markdown": [
       "'data.frame'"
      ],
      "text/plain": [
       "[1] \"data.frame\""
      ]
     },
     "metadata": {},
     "output_type": "display_data"
    }
   ],
   "source": [
    "# V1을 factor로 변경\n",
    "\n",
    "mnist1$V1 <- as.factor(mnist1$V1)\n",
    "class(mnist1)"
   ]
  },
  {
   "cell_type": "code",
   "execution_count": 10,
   "id": "e819ab0a",
   "metadata": {},
   "outputs": [
    {
     "name": "stderr",
     "output_type": "stream",
     "text": [
      "Loading required package: lattice\n",
      "Loading required package: ggplot2\n",
      "Registered S3 methods overwritten by 'ggplot2':\n",
      "  method         from \n",
      "  [.quosures     rlang\n",
      "  c.quosures     rlang\n",
      "  print.quosures rlang\n",
      "randomForest 4.6-14\n",
      "Type rfNews() to see new features/changes/bug fixes.\n",
      "\n",
      "Attaching package: ‘randomForest’\n",
      "\n",
      "The following object is masked from ‘package:ggplot2’:\n",
      "\n",
      "    margin\n",
      "\n",
      "The following object is masked from ‘package:dplyr’:\n",
      "\n",
      "    combine\n",
      "\n",
      "Loading required package: grid\n",
      "Loading required package: mvtnorm\n",
      "Loading required package: modeltools\n",
      "Loading required package: stats4\n",
      "Loading required package: strucchange\n",
      "Loading required package: zoo\n",
      "\n",
      "Attaching package: ‘zoo’\n",
      "\n",
      "The following objects are masked from ‘package:base’:\n",
      "\n",
      "    as.Date, as.Date.numeric\n",
      "\n",
      "Loading required package: sandwich\n"
     ]
    }
   ],
   "source": [
    "library(caret) #sample\n",
    "library(nnet) #인공신경망 , 다항 로지스틱 회귀분석\n",
    "library(e1071) # svm\n",
    "library(randomForest) # randomForest\n",
    "library(party) # 의사결정나무 ctree"
   ]
  },
  {
   "cell_type": "code",
   "execution_count": 11,
   "id": "d33e333d",
   "metadata": {},
   "outputs": [
    {
     "data": {
      "text/html": [
       "<table>\n",
       "<thead><tr><th scope=col>Resample1</th></tr></thead>\n",
       "<tbody>\n",
       "\t<tr><td>2</td></tr>\n",
       "\t<tr><td>3</td></tr>\n",
       "\t<tr><td>4</td></tr>\n",
       "\t<tr><td>5</td></tr>\n",
       "\t<tr><td>6</td></tr>\n",
       "\t<tr><td>7</td></tr>\n",
       "</tbody>\n",
       "</table>\n"
      ],
      "text/latex": [
       "\\begin{tabular}{l}\n",
       " Resample1\\\\\n",
       "\\hline\n",
       "\t 2\\\\\n",
       "\t 3\\\\\n",
       "\t 4\\\\\n",
       "\t 5\\\\\n",
       "\t 6\\\\\n",
       "\t 7\\\\\n",
       "\\end{tabular}\n"
      ],
      "text/markdown": [
       "\n",
       "| Resample1 |\n",
       "|---|\n",
       "| 2 |\n",
       "| 3 |\n",
       "| 4 |\n",
       "| 5 |\n",
       "| 6 |\n",
       "| 7 |\n",
       "\n"
      ],
      "text/plain": [
       "     Resample1\n",
       "[1,] 2        \n",
       "[2,] 3        \n",
       "[3,] 4        \n",
       "[4,] 5        \n",
       "[5,] 6        \n",
       "[6,] 7        "
      ]
     },
     "metadata": {},
     "output_type": "display_data"
    }
   ],
   "source": [
    "#sampling하기\n",
    "\n",
    "set.seed(1234) # sampling할때 계속 값이 바뀌기에 값을 고정 시켜서 분석할수있는 내용, 회사에서 사용X\n",
    "sampling <- function(){\n",
    "samp <<- createDataPartition(mnist1$V1 , p = 0.7,list = F) \n",
    "data.tr <<- mnist1[samp,]                                       \n",
    "data.test <<- mnist1[-samp,]\n",
    "\n",
    "x <<- subset(data.test, select = -V1)\n",
    "y <<- data.test$V1\n",
    "    \n",
    "}    \n",
    "sampling() \n",
    "head(samp)"
   ]
  },
  {
   "cell_type": "code",
   "execution_count": 14,
   "id": "a5ebf303",
   "metadata": {},
   "outputs": [],
   "source": [
    "#인공신경망 테스트 =값을 낼때\n",
    "ANN <- function(data.tr , data.test , x , y ){\n",
    "    model.nnet <- nnet(V1 ~. , data = data.tr , size = 1)\n",
    "    pred <- predict(model.nnet , x , type = \"class\")\n",
    "    #cat(\"예측력\" ,mean(pred == y), \"입니다.\")\n",
    "    table(pred,y)\n",
    "    return(mean(pred == y))\n",
    "}\n",
    "\n",
    "#의사결정 나무 = 분류\n",
    "CTREE <-function(data.tr , data.test , x , y ){\n",
    "    model.ctree <- ctree(V1 ~ . , data=data.tr)\n",
    "    pred <- predict(model.ctree , x )\n",
    "    #cat(\"예측력\" ,mean(pred == y), \"입니다.\")\n",
    "    table(pred,y)\n",
    "    return(mean(pred == y))\n",
    "}\n",
    "\n",
    "#RandomForesst = 분류\n",
    "RandomForest<-function(data.tr , data.test , x , y ){\n",
    "    model.rf <- randomForest(V1 ~ . , data=data.tr, ntree = 100)\n",
    "    pred <- predict(model.rf , x )\n",
    "    #cat(\"예측력\" ,mean(pred == y), \"입니다.\")\n",
    "    table(pred,y)\n",
    "    return(mean(pred == y))\n",
    "} \n",
    "\n",
    "#SVM\n",
    "SVM <-function(data.tr , data.test , x , y ){\n",
    "    model.svm <- svm(V1 ~ . , data=data.tr)\n",
    "    pred <- predict(model.svm , x )\n",
    "    #cat(\"예측력\" ,mean(pred == y), \"입니다.\")\n",
    "    table(pred,y)\n",
    "    return(mean(pred == y))\n",
    "} \n",
    "\n",
    "#Logistic regression =값을 낼때\n",
    "\n",
    "Logisticreg <-function(data.tr , data.test , x , y ){\n",
    "    model.log <- multinom(V1 ~ . , data=data.tr)\n",
    "    pred <- predict(model.log , x )\n",
    "    #cat(\"예측력\" ,mean(pred == y), \"입니다.\")\n",
    "    table(pred,y)\n",
    "    return(mean(pred == y))\n",
    "} "
   ]
  },
  {
   "cell_type": "code",
   "execution_count": 15,
   "id": "408be607",
   "metadata": {},
   "outputs": [
    {
     "name": "stdout",
     "output_type": "stream",
     "text": [
      "# weights:  805\n",
      "initial  value 1698.002318 \n",
      "iter  10 value 1578.692976\n",
      "iter  20 value 1473.469694\n",
      "iter  30 value 1463.023870\n",
      "iter  40 value 1462.275819\n",
      "iter  50 value 1453.508181\n",
      "iter  60 value 1447.722862\n",
      "iter  70 value 1446.128415\n",
      "iter  80 value 1445.966961\n",
      "iter  90 value 1445.878038\n",
      "iter 100 value 1443.450748\n",
      "final  value 1443.450748 \n",
      "stopped after 100 iterations\n"
     ]
    },
    {
     "data": {
      "text/html": [
       "0.179054054054054"
      ],
      "text/latex": [
       "0.179054054054054"
      ],
      "text/markdown": [
       "0.179054054054054"
      ],
      "text/plain": [
       "[1] 0.1790541"
      ]
     },
     "metadata": {},
     "output_type": "display_data"
    },
    {
     "data": {
      "text/html": [
       "0.567567567567568"
      ],
      "text/latex": [
       "0.567567567567568"
      ],
      "text/markdown": [
       "0.567567567567568"
      ],
      "text/plain": [
       "[1] 0.5675676"
      ]
     },
     "metadata": {},
     "output_type": "display_data"
    },
    {
     "data": {
      "text/html": [
       "0.891891891891892"
      ],
      "text/latex": [
       "0.891891891891892"
      ],
      "text/markdown": [
       "0.891891891891892"
      ],
      "text/plain": [
       "[1] 0.8918919"
      ]
     },
     "metadata": {},
     "output_type": "display_data"
    },
    {
     "name": "stderr",
     "output_type": "stream",
     "text": [
      "Warning message in svm.default(x, y, scale = scale, ..., na.action = na.action):\n",
      "“Variable(s) ‘V2’ and ‘V3’ and ‘V4’ and ‘V5’ and ‘V6’ and ‘V7’ and ‘V8’ and ‘V9’ and ‘V10’ and ‘V11’ and ‘V12’ and ‘V13’ and ‘V14’ and ‘V15’ and ‘V16’ and ‘V17’ and ‘V18’ and ‘V19’ and ‘V20’ and ‘V21’ and ‘V22’ and ‘V23’ and ‘V24’ and ‘V25’ and ‘V26’ and ‘V27’ and ‘V28’ and ‘V29’ and ‘V30’ and ‘V31’ and ‘V32’ and ‘V33’ and ‘V34’ and ‘V35’ and ‘V36’ and ‘V37’ and ‘V38’ and ‘V39’ and ‘V42’ and ‘V48’ and ‘V49’ and ‘V50’ and ‘V51’ and ‘V52’ and ‘V53’ and ‘V54’ and ‘V55’ and ‘V56’ and ‘V57’ and ‘V58’ and ‘V59’ and ‘V60’ and ‘V61’ and ‘V62’ and ‘V63’ and ‘V64’ and ‘V65’ and ‘V66’ and ‘V67’ and ‘V82’ and ‘V83’ and ‘V84’ and ‘V85’ and ‘V86’ and ‘V87’ and ‘V88’ and ‘V89’ and ‘V90’ and ‘V91’ and ‘V110’ and ‘V111’ and ‘V112’ and ‘V113’ and ‘V114’ and ‘V115’ and ‘V116’ and ‘V117’ and ‘V139’ and ‘V140’ and ‘V141’ and ‘V142’ and ‘V143’ and ‘V144’ and ‘V169’ and ‘V170’ and ‘V171’ and ‘V172’ and ‘V198’ and ‘V199’ and ‘V226’ and ‘V227’ and ‘V253’ and ‘V254’ and ‘V281’ and ‘V282’ and ‘V309’ and ‘V310’ and ‘V311’ and ‘V337’ and ‘V338’ and ‘V339’ and ‘V365’ and ‘V366’ and ‘V367’ and ‘V393’ and ‘V394’ and ‘V395’ and ‘V396’ and ‘V421’ and ‘V422’ and ‘V423’ and ‘V424’ and ‘V449’ and ‘V450’ and ‘V451’ and ‘V477’ and ‘V478’ and ‘V479’ and ‘V504’ and ‘V505’ and ‘V506’ and ‘V507’ and ‘V532’ and ‘V533’ and ‘V534’ and ‘V535’ and ‘V560’ and ‘V561’ and ‘V562’ and ‘V563’ and ‘V589’ and ‘V590’ and ‘V591’ and ‘V617’ and ‘V618’ and ‘V619’ and ‘V645’ and ‘V646’ and ‘V647’ and ‘V671’ and ‘V672’ and ‘V673’ and ‘V674’ and ‘V675’ and ‘V676’ and ‘V699’ and ‘V700’ and ‘V701’ and ‘V702’ and ‘V703’ and ‘V704’ and ‘V705’ and ‘V727’ and ‘V728’ and ‘V729’ and ‘V730’ and ‘V731’ and ‘V732’ and ‘V733’ and ‘V750’ and ‘V751’ and ‘V752’ and ‘V753’ and ‘V754’ and ‘V755’ and ‘V756’ and ‘V757’ and ‘V758’ and ‘V759’ and ‘V760’ and ‘V761’ and ‘V762’ and ‘V763’ and ‘V769’ and ‘V777’ and ‘V778’ and ‘V779’ and ‘V780’ and ‘V781’ and ‘V782’ and ‘V783’ and ‘V784’ and ‘V785’ constant. Cannot scale data.”"
     ]
    },
    {
     "data": {
      "text/html": [
       "0.192567567567568"
      ],
      "text/latex": [
       "0.192567567567568"
      ],
      "text/markdown": [
       "0.192567567567568"
      ],
      "text/plain": [
       "[1] 0.1925676"
      ]
     },
     "metadata": {},
     "output_type": "display_data"
    },
    {
     "ename": "ERROR",
     "evalue": "Error in nnet.default(X, Y, w, mask = mask, size = 0, skip = TRUE, softmax = TRUE, : too many (7860) weights\n",
     "output_type": "error",
     "traceback": [
      "Error in nnet.default(X, Y, w, mask = mask, size = 0, skip = TRUE, softmax = TRUE, : too many (7860) weights\nTraceback:\n",
      "1. Logisticreg(data.tr, data.test, x, y)",
      "2. multinom(V1 ~ ., data = data.tr)   # at line 40 of file <text>",
      "3. nnet.default(X, Y, w, mask = mask, size = 0, skip = TRUE, softmax = TRUE, \n .     censored = censored, rang = 0, ...)",
      "4. stop(gettextf(\"too many (%d) weights\", nwts), domain = NA)"
     ]
    }
   ],
   "source": [
    "ANN(data.tr , data.test , x , y )\n",
    "CTREE(data.tr , data.test , x , y )\n",
    "RandomForest(data.tr , data.test , x , y )\n",
    "SVM(data.tr , data.test , x , y )\n",
    "Logisticreg(data.tr , data.test , x , y )"
   ]
  },
  {
   "cell_type": "code",
   "execution_count": null,
   "id": "f63fa100",
   "metadata": {},
   "outputs": [],
   "source": []
  }
 ],
 "metadata": {
  "kernelspec": {
   "display_name": "R",
   "language": "R",
   "name": "ir"
  },
  "language_info": {
   "codemirror_mode": "r",
   "file_extension": ".r",
   "mimetype": "text/x-r-source",
   "name": "R",
   "pygments_lexer": "r",
   "version": "3.6.1"
  }
 },
 "nbformat": 4,
 "nbformat_minor": 5
}

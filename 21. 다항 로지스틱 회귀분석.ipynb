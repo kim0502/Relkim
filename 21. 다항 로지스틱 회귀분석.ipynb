{
 "cells": [
  {
   "cell_type": "code",
   "execution_count": 1,
   "id": "0b695902",
   "metadata": {},
   "outputs": [],
   "source": [
    "library(nnet)"
   ]
  },
  {
   "cell_type": "code",
   "execution_count": 2,
   "id": "19f69500",
   "metadata": {},
   "outputs": [
    {
     "data": {
      "text/html": [
       "<table>\n",
       "<thead><tr><th scope=col>Sepal.Length</th><th scope=col>Sepal.Width</th><th scope=col>Petal.Length</th><th scope=col>Petal.Width</th><th scope=col>Species</th></tr></thead>\n",
       "<tbody>\n",
       "\t<tr><td>5.1   </td><td>3.5   </td><td>1.4   </td><td>0.2   </td><td>setosa</td></tr>\n",
       "\t<tr><td>4.9   </td><td>3.0   </td><td>1.4   </td><td>0.2   </td><td>setosa</td></tr>\n",
       "\t<tr><td>4.7   </td><td>3.2   </td><td>1.3   </td><td>0.2   </td><td>setosa</td></tr>\n",
       "\t<tr><td>4.6   </td><td>3.1   </td><td>1.5   </td><td>0.2   </td><td>setosa</td></tr>\n",
       "\t<tr><td>5.0   </td><td>3.6   </td><td>1.4   </td><td>0.2   </td><td>setosa</td></tr>\n",
       "\t<tr><td>5.4   </td><td>3.9   </td><td>1.7   </td><td>0.4   </td><td>setosa</td></tr>\n",
       "</tbody>\n",
       "</table>\n"
      ],
      "text/latex": [
       "\\begin{tabular}{r|lllll}\n",
       " Sepal.Length & Sepal.Width & Petal.Length & Petal.Width & Species\\\\\n",
       "\\hline\n",
       "\t 5.1    & 3.5    & 1.4    & 0.2    & setosa\\\\\n",
       "\t 4.9    & 3.0    & 1.4    & 0.2    & setosa\\\\\n",
       "\t 4.7    & 3.2    & 1.3    & 0.2    & setosa\\\\\n",
       "\t 4.6    & 3.1    & 1.5    & 0.2    & setosa\\\\\n",
       "\t 5.0    & 3.6    & 1.4    & 0.2    & setosa\\\\\n",
       "\t 5.4    & 3.9    & 1.7    & 0.4    & setosa\\\\\n",
       "\\end{tabular}\n"
      ],
      "text/markdown": [
       "\n",
       "| Sepal.Length | Sepal.Width | Petal.Length | Petal.Width | Species |\n",
       "|---|---|---|---|---|\n",
       "| 5.1    | 3.5    | 1.4    | 0.2    | setosa |\n",
       "| 4.9    | 3.0    | 1.4    | 0.2    | setosa |\n",
       "| 4.7    | 3.2    | 1.3    | 0.2    | setosa |\n",
       "| 4.6    | 3.1    | 1.5    | 0.2    | setosa |\n",
       "| 5.0    | 3.6    | 1.4    | 0.2    | setosa |\n",
       "| 5.4    | 3.9    | 1.7    | 0.4    | setosa |\n",
       "\n"
      ],
      "text/plain": [
       "  Sepal.Length Sepal.Width Petal.Length Petal.Width Species\n",
       "1 5.1          3.5         1.4          0.2         setosa \n",
       "2 4.9          3.0         1.4          0.2         setosa \n",
       "3 4.7          3.2         1.3          0.2         setosa \n",
       "4 4.6          3.1         1.5          0.2         setosa \n",
       "5 5.0          3.6         1.4          0.2         setosa \n",
       "6 5.4          3.9         1.7          0.4         setosa "
      ]
     },
     "metadata": {},
     "output_type": "display_data"
    },
    {
     "data": {
      "text/html": [
       "<table>\n",
       "<thead><tr><th></th><th scope=col>Sepal.Length</th><th scope=col>Sepal.Width</th><th scope=col>Petal.Length</th><th scope=col>Petal.Width</th><th scope=col>Species</th></tr></thead>\n",
       "<tbody>\n",
       "\t<tr><th scope=row>145</th><td>6.7      </td><td>3.3      </td><td>5.7      </td><td>2.5      </td><td>virginica</td></tr>\n",
       "\t<tr><th scope=row>146</th><td>6.7      </td><td>3.0      </td><td>5.2      </td><td>2.3      </td><td>virginica</td></tr>\n",
       "\t<tr><th scope=row>147</th><td>6.3      </td><td>2.5      </td><td>5.0      </td><td>1.9      </td><td>virginica</td></tr>\n",
       "\t<tr><th scope=row>148</th><td>6.5      </td><td>3.0      </td><td>5.2      </td><td>2.0      </td><td>virginica</td></tr>\n",
       "\t<tr><th scope=row>149</th><td>6.2      </td><td>3.4      </td><td>5.4      </td><td>2.3      </td><td>virginica</td></tr>\n",
       "\t<tr><th scope=row>150</th><td>5.9      </td><td>3.0      </td><td>5.1      </td><td>1.8      </td><td>virginica</td></tr>\n",
       "</tbody>\n",
       "</table>\n"
      ],
      "text/latex": [
       "\\begin{tabular}{r|lllll}\n",
       "  & Sepal.Length & Sepal.Width & Petal.Length & Petal.Width & Species\\\\\n",
       "\\hline\n",
       "\t145 & 6.7       & 3.3       & 5.7       & 2.5       & virginica\\\\\n",
       "\t146 & 6.7       & 3.0       & 5.2       & 2.3       & virginica\\\\\n",
       "\t147 & 6.3       & 2.5       & 5.0       & 1.9       & virginica\\\\\n",
       "\t148 & 6.5       & 3.0       & 5.2       & 2.0       & virginica\\\\\n",
       "\t149 & 6.2       & 3.4       & 5.4       & 2.3       & virginica\\\\\n",
       "\t150 & 5.9       & 3.0       & 5.1       & 1.8       & virginica\\\\\n",
       "\\end{tabular}\n"
      ],
      "text/markdown": [
       "\n",
       "| <!--/--> | Sepal.Length | Sepal.Width | Petal.Length | Petal.Width | Species |\n",
       "|---|---|---|---|---|---|\n",
       "| 145 | 6.7       | 3.3       | 5.7       | 2.5       | virginica |\n",
       "| 146 | 6.7       | 3.0       | 5.2       | 2.3       | virginica |\n",
       "| 147 | 6.3       | 2.5       | 5.0       | 1.9       | virginica |\n",
       "| 148 | 6.5       | 3.0       | 5.2       | 2.0       | virginica |\n",
       "| 149 | 6.2       | 3.4       | 5.4       | 2.3       | virginica |\n",
       "| 150 | 5.9       | 3.0       | 5.1       | 1.8       | virginica |\n",
       "\n"
      ],
      "text/plain": [
       "    Sepal.Length Sepal.Width Petal.Length Petal.Width Species  \n",
       "145 6.7          3.3         5.7          2.5         virginica\n",
       "146 6.7          3.0         5.2          2.3         virginica\n",
       "147 6.3          2.5         5.0          1.9         virginica\n",
       "148 6.5          3.0         5.2          2.0         virginica\n",
       "149 6.2          3.4         5.4          2.3         virginica\n",
       "150 5.9          3.0         5.1          1.8         virginica"
      ]
     },
     "metadata": {},
     "output_type": "display_data"
    }
   ],
   "source": [
    "head(iris)\n",
    "tail(iris)"
   ]
  },
  {
   "cell_type": "code",
   "execution_count": 3,
   "id": "97084990",
   "metadata": {},
   "outputs": [
    {
     "name": "stdout",
     "output_type": "stream",
     "text": [
      "'data.frame':\t150 obs. of  5 variables:\n",
      " $ Sepal.Length: num  5.1 4.9 4.7 4.6 5 5.4 4.6 5 4.4 4.9 ...\n",
      " $ Sepal.Width : num  3.5 3 3.2 3.1 3.6 3.9 3.4 3.4 2.9 3.1 ...\n",
      " $ Petal.Length: num  1.4 1.4 1.3 1.5 1.4 1.7 1.4 1.5 1.4 1.5 ...\n",
      " $ Petal.Width : num  0.2 0.2 0.2 0.2 0.2 0.4 0.3 0.2 0.2 0.1 ...\n",
      " $ Species     : Factor w/ 3 levels \"setosa\",\"versicolor\",..: 1 1 1 1 1 1 1 1 1 1 ...\n"
     ]
    }
   ],
   "source": [
    "str(iris)"
   ]
  },
  {
   "cell_type": "code",
   "execution_count": 4,
   "id": "4b845a8c",
   "metadata": {
    "scrolled": true
   },
   "outputs": [
    {
     "data": {
      "text/plain": [
       "  Sepal.Length    Sepal.Width     Petal.Length    Petal.Width   \n",
       " Min.   :4.300   Min.   :2.000   Min.   :1.000   Min.   :0.100  \n",
       " 1st Qu.:5.100   1st Qu.:2.800   1st Qu.:1.600   1st Qu.:0.300  \n",
       " Median :5.800   Median :3.000   Median :4.350   Median :1.300  \n",
       " Mean   :5.843   Mean   :3.057   Mean   :3.758   Mean   :1.199  \n",
       " 3rd Qu.:6.400   3rd Qu.:3.300   3rd Qu.:5.100   3rd Qu.:1.800  \n",
       " Max.   :7.900   Max.   :4.400   Max.   :6.900   Max.   :2.500  \n",
       "       Species  \n",
       " setosa    :50  \n",
       " versicolor:50  \n",
       " virginica :50  \n",
       "                \n",
       "                \n",
       "                "
      ]
     },
     "metadata": {},
     "output_type": "display_data"
    }
   ],
   "source": [
    "summary(iris)"
   ]
  },
  {
   "cell_type": "code",
   "execution_count": 5,
   "id": "e7c9d9bc",
   "metadata": {},
   "outputs": [
    {
     "data": {
      "text/html": [
       "'data.frame'"
      ],
      "text/latex": [
       "'data.frame'"
      ],
      "text/markdown": [
       "'data.frame'"
      ],
      "text/plain": [
       "[1] \"data.frame\""
      ]
     },
     "metadata": {},
     "output_type": "display_data"
    }
   ],
   "source": [
    "class(iris)"
   ]
  },
  {
   "cell_type": "code",
   "execution_count": 6,
   "id": "24993ee3",
   "metadata": {},
   "outputs": [
    {
     "data": {
      "text/html": [
       "<ol class=list-inline>\n",
       "\t<li>34</li>\n",
       "\t<li>42</li>\n",
       "\t<li>48</li>\n",
       "\t<li>22</li>\n",
       "\t<li>38</li>\n",
       "\t<li>19</li>\n",
       "\t<li>29</li>\n",
       "\t<li>13</li>\n",
       "\t<li>45</li>\n",
       "\t<li>11</li>\n",
       "\t<li>26</li>\n",
       "\t<li>3</li>\n",
       "\t<li>31</li>\n",
       "\t<li>35</li>\n",
       "\t<li>46</li>\n",
       "\t<li>27</li>\n",
       "\t<li>25</li>\n",
       "\t<li>36</li>\n",
       "\t<li>7</li>\n",
       "\t<li>21</li>\n",
       "\t<li>5</li>\n",
       "\t<li>23</li>\n",
       "\t<li>40</li>\n",
       "\t<li>50</li>\n",
       "\t<li>44</li>\n",
       "\t<li>33</li>\n",
       "\t<li>28</li>\n",
       "\t<li>4</li>\n",
       "\t<li>37</li>\n",
       "\t<li>10</li>\n",
       "\t<li>30</li>\n",
       "\t<li>24</li>\n",
       "\t<li>41</li>\n",
       "\t<li>20</li>\n",
       "\t<li>47</li>\n",
       "\t<li>57</li>\n",
       "\t<li>73</li>\n",
       "\t<li>95</li>\n",
       "\t<li>86</li>\n",
       "\t<li>84</li>\n",
       "\t<li>82</li>\n",
       "\t<li>56</li>\n",
       "\t<li>68</li>\n",
       "\t<li>54</li>\n",
       "\t<li>65</li>\n",
       "\t<li>80</li>\n",
       "\t<li>58</li>\n",
       "\t<li>100</li>\n",
       "\t<li>55</li>\n",
       "\t<li>88</li>\n",
       "\t<li>52</li>\n",
       "\t<li>62</li>\n",
       "\t<li>89</li>\n",
       "\t<li>59</li>\n",
       "\t<li>92</li>\n",
       "\t<li>74</li>\n",
       "\t<li>60</li>\n",
       "\t<li>67</li>\n",
       "\t<li>51</li>\n",
       "\t<li>66</li>\n",
       "\t<li>81</li>\n",
       "\t<li>61</li>\n",
       "\t<li>85</li>\n",
       "\t<li>90</li>\n",
       "\t<li>64</li>\n",
       "\t<li>77</li>\n",
       "\t<li>97</li>\n",
       "\t<li>71</li>\n",
       "\t<li>79</li>\n",
       "\t<li>78</li>\n",
       "\t<li>139</li>\n",
       "\t<li>116</li>\n",
       "\t<li>107</li>\n",
       "\t<li>108</li>\n",
       "\t<li>125</li>\n",
       "\t<li>141</li>\n",
       "\t<li>114</li>\n",
       "\t<li>113</li>\n",
       "\t<li>142</li>\n",
       "\t<li>148</li>\n",
       "\t<li>121</li>\n",
       "\t<li>137</li>\n",
       "\t<li>133</li>\n",
       "\t<li>131</li>\n",
       "\t<li>138</li>\n",
       "\t<li>118</li>\n",
       "\t<li>149</li>\n",
       "\t<li>115</li>\n",
       "\t<li>104</li>\n",
       "\t<li>124</li>\n",
       "\t<li>127</li>\n",
       "\t<li>101</li>\n",
       "\t<li>130</li>\n",
       "\t<li>136</li>\n",
       "\t<li>111</li>\n",
       "\t<li>122</li>\n",
       "\t<li>129</li>\n",
       "\t<li>146</li>\n",
       "\t<li>143</li>\n",
       "\t<li>109</li>\n",
       "\t<li>119</li>\n",
       "\t<li>123</li>\n",
       "\t<li>106</li>\n",
       "\t<li>150</li>\n",
       "\t<li>103</li>\n",
       "</ol>\n"
      ],
      "text/latex": [
       "\\begin{enumerate*}\n",
       "\\item 34\n",
       "\\item 42\n",
       "\\item 48\n",
       "\\item 22\n",
       "\\item 38\n",
       "\\item 19\n",
       "\\item 29\n",
       "\\item 13\n",
       "\\item 45\n",
       "\\item 11\n",
       "\\item 26\n",
       "\\item 3\n",
       "\\item 31\n",
       "\\item 35\n",
       "\\item 46\n",
       "\\item 27\n",
       "\\item 25\n",
       "\\item 36\n",
       "\\item 7\n",
       "\\item 21\n",
       "\\item 5\n",
       "\\item 23\n",
       "\\item 40\n",
       "\\item 50\n",
       "\\item 44\n",
       "\\item 33\n",
       "\\item 28\n",
       "\\item 4\n",
       "\\item 37\n",
       "\\item 10\n",
       "\\item 30\n",
       "\\item 24\n",
       "\\item 41\n",
       "\\item 20\n",
       "\\item 47\n",
       "\\item 57\n",
       "\\item 73\n",
       "\\item 95\n",
       "\\item 86\n",
       "\\item 84\n",
       "\\item 82\n",
       "\\item 56\n",
       "\\item 68\n",
       "\\item 54\n",
       "\\item 65\n",
       "\\item 80\n",
       "\\item 58\n",
       "\\item 100\n",
       "\\item 55\n",
       "\\item 88\n",
       "\\item 52\n",
       "\\item 62\n",
       "\\item 89\n",
       "\\item 59\n",
       "\\item 92\n",
       "\\item 74\n",
       "\\item 60\n",
       "\\item 67\n",
       "\\item 51\n",
       "\\item 66\n",
       "\\item 81\n",
       "\\item 61\n",
       "\\item 85\n",
       "\\item 90\n",
       "\\item 64\n",
       "\\item 77\n",
       "\\item 97\n",
       "\\item 71\n",
       "\\item 79\n",
       "\\item 78\n",
       "\\item 139\n",
       "\\item 116\n",
       "\\item 107\n",
       "\\item 108\n",
       "\\item 125\n",
       "\\item 141\n",
       "\\item 114\n",
       "\\item 113\n",
       "\\item 142\n",
       "\\item 148\n",
       "\\item 121\n",
       "\\item 137\n",
       "\\item 133\n",
       "\\item 131\n",
       "\\item 138\n",
       "\\item 118\n",
       "\\item 149\n",
       "\\item 115\n",
       "\\item 104\n",
       "\\item 124\n",
       "\\item 127\n",
       "\\item 101\n",
       "\\item 130\n",
       "\\item 136\n",
       "\\item 111\n",
       "\\item 122\n",
       "\\item 129\n",
       "\\item 146\n",
       "\\item 143\n",
       "\\item 109\n",
       "\\item 119\n",
       "\\item 123\n",
       "\\item 106\n",
       "\\item 150\n",
       "\\item 103\n",
       "\\end{enumerate*}\n"
      ],
      "text/markdown": [
       "1. 34\n",
       "2. 42\n",
       "3. 48\n",
       "4. 22\n",
       "5. 38\n",
       "6. 19\n",
       "7. 29\n",
       "8. 13\n",
       "9. 45\n",
       "10. 11\n",
       "11. 26\n",
       "12. 3\n",
       "13. 31\n",
       "14. 35\n",
       "15. 46\n",
       "16. 27\n",
       "17. 25\n",
       "18. 36\n",
       "19. 7\n",
       "20. 21\n",
       "21. 5\n",
       "22. 23\n",
       "23. 40\n",
       "24. 50\n",
       "25. 44\n",
       "26. 33\n",
       "27. 28\n",
       "28. 4\n",
       "29. 37\n",
       "30. 10\n",
       "31. 30\n",
       "32. 24\n",
       "33. 41\n",
       "34. 20\n",
       "35. 47\n",
       "36. 57\n",
       "37. 73\n",
       "38. 95\n",
       "39. 86\n",
       "40. 84\n",
       "41. 82\n",
       "42. 56\n",
       "43. 68\n",
       "44. 54\n",
       "45. 65\n",
       "46. 80\n",
       "47. 58\n",
       "48. 100\n",
       "49. 55\n",
       "50. 88\n",
       "51. 52\n",
       "52. 62\n",
       "53. 89\n",
       "54. 59\n",
       "55. 92\n",
       "56. 74\n",
       "57. 60\n",
       "58. 67\n",
       "59. 51\n",
       "60. 66\n",
       "61. 81\n",
       "62. 61\n",
       "63. 85\n",
       "64. 90\n",
       "65. 64\n",
       "66. 77\n",
       "67. 97\n",
       "68. 71\n",
       "69. 79\n",
       "70. 78\n",
       "71. 139\n",
       "72. 116\n",
       "73. 107\n",
       "74. 108\n",
       "75. 125\n",
       "76. 141\n",
       "77. 114\n",
       "78. 113\n",
       "79. 142\n",
       "80. 148\n",
       "81. 121\n",
       "82. 137\n",
       "83. 133\n",
       "84. 131\n",
       "85. 138\n",
       "86. 118\n",
       "87. 149\n",
       "88. 115\n",
       "89. 104\n",
       "90. 124\n",
       "91. 127\n",
       "92. 101\n",
       "93. 130\n",
       "94. 136\n",
       "95. 111\n",
       "96. 122\n",
       "97. 129\n",
       "98. 146\n",
       "99. 143\n",
       "100. 109\n",
       "101. 119\n",
       "102. 123\n",
       "103. 106\n",
       "104. 150\n",
       "105. 103\n",
       "\n",
       "\n"
      ],
      "text/plain": [
       "  [1]  34  42  48  22  38  19  29  13  45  11  26   3  31  35  46  27  25  36\n",
       " [19]   7  21   5  23  40  50  44  33  28   4  37  10  30  24  41  20  47  57\n",
       " [37]  73  95  86  84  82  56  68  54  65  80  58 100  55  88  52  62  89  59\n",
       " [55]  92  74  60  67  51  66  81  61  85  90  64  77  97  71  79  78 139 116\n",
       " [73] 107 108 125 141 114 113 142 148 121 137 133 131 138 118 149 115 104 124\n",
       " [91] 127 101 130 136 111 122 129 146 143 109 119 123 106 150 103"
      ]
     },
     "metadata": {},
     "output_type": "display_data"
    }
   ],
   "source": [
    "samp<-c(sample(1:50,35), sample(51:100,35), sample(101:150,35))\n",
    "samp"
   ]
  },
  {
   "cell_type": "code",
   "execution_count": 7,
   "id": "34aa10dc",
   "metadata": {},
   "outputs": [],
   "source": [
    "data.tr<- iris[samp,]\n",
    "data.test<- iris[-samp,]"
   ]
  },
  {
   "cell_type": "code",
   "execution_count": 8,
   "id": "76d5c2f7",
   "metadata": {},
   "outputs": [
    {
     "name": "stdout",
     "output_type": "stream",
     "text": [
      "# weights:  18 (10 variable)\n",
      "initial  value 115.354290 \n",
      "iter  10 value 11.481251\n",
      "iter  20 value 2.636278\n",
      "iter  30 value 1.894807\n",
      "iter  40 value 1.591639\n",
      "iter  50 value 1.315660\n",
      "iter  60 value 1.203668\n",
      "iter  70 value 1.141746\n",
      "iter  80 value 1.072233\n",
      "iter  90 value 1.007461\n",
      "iter 100 value 0.956486\n",
      "final  value 0.956486 \n",
      "stopped after 100 iterations\n"
     ]
    }
   ],
   "source": [
    "model <- multinom(Species ~ ., data=data.tr)"
   ]
  },
  {
   "cell_type": "code",
   "execution_count": 9,
   "id": "ee446548",
   "metadata": {},
   "outputs": [],
   "source": [
    "x <- subset(data.test, select = -Species)\n",
    "y <- data.test$Species"
   ]
  },
  {
   "cell_type": "code",
   "execution_count": 10,
   "id": "55b900e2",
   "metadata": {},
   "outputs": [
    {
     "data": {
      "text/html": [
       "<ol class=list-inline>\n",
       "\t<li>setosa</li>\n",
       "\t<li>setosa</li>\n",
       "\t<li>setosa</li>\n",
       "\t<li>setosa</li>\n",
       "\t<li>setosa</li>\n",
       "\t<li>setosa</li>\n",
       "</ol>\n",
       "\n",
       "<details>\n",
       "\t<summary style=display:list-item;cursor:pointer>\n",
       "\t\t<strong>Levels</strong>:\n",
       "\t</summary>\n",
       "\t<ol class=list-inline>\n",
       "\t\t<li>'setosa'</li>\n",
       "\t\t<li>'versicolor'</li>\n",
       "\t\t<li>'virginica'</li>\n",
       "\t</ol>\n",
       "</details>"
      ],
      "text/latex": [
       "\\begin{enumerate*}\n",
       "\\item setosa\n",
       "\\item setosa\n",
       "\\item setosa\n",
       "\\item setosa\n",
       "\\item setosa\n",
       "\\item setosa\n",
       "\\end{enumerate*}\n",
       "\n",
       "\\emph{Levels}: \\begin{enumerate*}\n",
       "\\item 'setosa'\n",
       "\\item 'versicolor'\n",
       "\\item 'virginica'\n",
       "\\end{enumerate*}\n"
      ],
      "text/markdown": [
       "1. setosa\n",
       "2. setosa\n",
       "3. setosa\n",
       "4. setosa\n",
       "5. setosa\n",
       "6. setosa\n",
       "\n",
       "\n",
       "\n",
       "**Levels**: 1. 'setosa'\n",
       "2. 'versicolor'\n",
       "3. 'virginica'\n",
       "\n",
       "\n"
      ],
      "text/plain": [
       "[1] setosa setosa setosa setosa setosa setosa\n",
       "Levels: setosa versicolor virginica"
      ]
     },
     "metadata": {},
     "output_type": "display_data"
    }
   ],
   "source": [
    "pred <- predict(model,x,type=\"class\")\n",
    "head(pred)"
   ]
  },
  {
   "cell_type": "code",
   "execution_count": 11,
   "id": "3841b4dc",
   "metadata": {},
   "outputs": [
    {
     "data": {
      "text/html": [
       "0.955555555555556"
      ],
      "text/latex": [
       "0.955555555555556"
      ],
      "text/markdown": [
       "0.955555555555556"
      ],
      "text/plain": [
       "[1] 0.9555556"
      ]
     },
     "metadata": {},
     "output_type": "display_data"
    },
    {
     "data": {
      "text/plain": [
       "            y\n",
       "pred         setosa versicolor virginica\n",
       "  setosa         15          0         0\n",
       "  versicolor      0         15         2\n",
       "  virginica       0          0        13"
      ]
     },
     "metadata": {},
     "output_type": "display_data"
    }
   ],
   "source": [
    "mean(pred ==y)\n",
    "table (pred ,y)"
   ]
  },
  {
   "cell_type": "code",
   "execution_count": null,
   "id": "d4fa712d",
   "metadata": {},
   "outputs": [],
   "source": []
  }
 ],
 "metadata": {
  "kernelspec": {
   "display_name": "R",
   "language": "R",
   "name": "ir"
  },
  "language_info": {
   "codemirror_mode": "r",
   "file_extension": ".r",
   "mimetype": "text/x-r-source",
   "name": "R",
   "pygments_lexer": "r",
   "version": "3.6.1"
  }
 },
 "nbformat": 4,
 "nbformat_minor": 5
}

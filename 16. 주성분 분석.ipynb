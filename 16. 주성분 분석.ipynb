{
 "cells": [
  {
   "cell_type": "markdown",
   "id": "bf95b869",
   "metadata": {},
   "source": [
    "# 주성분 분석\n",
    "- 서로 연관되어 있는 변수들이 관측되었을때, 이 변수들이 전체적으로 가지고 있는 정보를 최대한 확보하는 적은 수의 새로운 변수를 생성하는 방법.\n",
    "- 차원을 줄이는 방법으로 성능 향상과 컬럼들의 결합에 목적이 있음."
   ]
  },
  {
   "cell_type": "code",
   "execution_count": 1,
   "id": "3f87ba9a",
   "metadata": {},
   "outputs": [
    {
     "data": {
      "text/html": [
       "<table>\n",
       "<thead><tr><th></th><th scope=col>noodle</th><th scope=col>dishes</th><th scope=col>sauce</th></tr></thead>\n",
       "<tbody>\n",
       "\t<tr><th scope=row>pesto_alla_Genovese</th><td>2</td><td>4</td><td>5</td></tr>\n",
       "\t<tr><th scope=row>Marinara</th><td>1</td><td>5</td><td>1</td></tr>\n",
       "\t<tr><th scope=row>Puttanesca</th><td>5</td><td>3</td><td>4</td></tr>\n",
       "\t<tr><th scope=row>Primavera</th><td>2</td><td>2</td><td>3</td></tr>\n",
       "\t<tr><th scope=row>Vongole</th><td>3</td><td>5</td><td>5</td></tr>\n",
       "\t<tr><th scope=row>Boscaiola</th><td>4</td><td>3</td><td>2</td></tr>\n",
       "</tbody>\n",
       "</table>\n"
      ],
      "text/latex": [
       "\\begin{tabular}{r|lll}\n",
       "  & noodle & dishes & sauce\\\\\n",
       "\\hline\n",
       "\tpesto\\_alla\\_Genovese & 2 & 4 & 5\\\\\n",
       "\tMarinara & 1 & 5 & 1\\\\\n",
       "\tPuttanesca & 5 & 3 & 4\\\\\n",
       "\tPrimavera & 2 & 2 & 3\\\\\n",
       "\tVongole & 3 & 5 & 5\\\\\n",
       "\tBoscaiola & 4 & 3 & 2\\\\\n",
       "\\end{tabular}\n"
      ],
      "text/markdown": [
       "\n",
       "| <!--/--> | noodle | dishes | sauce |\n",
       "|---|---|---|---|\n",
       "| pesto_alla_Genovese | 2 | 4 | 5 |\n",
       "| Marinara | 1 | 5 | 1 |\n",
       "| Puttanesca | 5 | 3 | 4 |\n",
       "| Primavera | 2 | 2 | 3 |\n",
       "| Vongole | 3 | 5 | 5 |\n",
       "| Boscaiola | 4 | 3 | 2 |\n",
       "\n"
      ],
      "text/plain": [
       "                    noodle dishes sauce\n",
       "pesto_alla_Genovese 2      4      5    \n",
       "Marinara            1      5      1    \n",
       "Puttanesca          5      3      4    \n",
       "Primavera           2      2      3    \n",
       "Vongole             3      5      5    \n",
       "Boscaiola           4      3      2    "
      ]
     },
     "metadata": {},
     "output_type": "display_data"
    }
   ],
   "source": [
    "# 설문지를 이용한 주성분 분석\n",
    "\n",
    "data <- read.table(\"../Data/pasta.txt\")\n",
    "head(data)"
   ]
  },
  {
   "cell_type": "code",
   "execution_count": 2,
   "id": "d3e5ed52",
   "metadata": {},
   "outputs": [
    {
     "data": {
      "text/html": [
       "<table>\n",
       "<thead><tr><th></th><th scope=col>noodle</th><th scope=col>dishes</th><th scope=col>sauce</th></tr></thead>\n",
       "<tbody>\n",
       "\t<tr><th scope=row>noodle</th><td>1.0000000</td><td>0.1905002</td><td>0.3600411</td></tr>\n",
       "\t<tr><th scope=row>dishes</th><td>0.1905002</td><td>1.0000000</td><td>0.3004804</td></tr>\n",
       "\t<tr><th scope=row>sauce</th><td>0.3600411</td><td>0.3004804</td><td>1.0000000</td></tr>\n",
       "</tbody>\n",
       "</table>\n"
      ],
      "text/latex": [
       "\\begin{tabular}{r|lll}\n",
       "  & noodle & dishes & sauce\\\\\n",
       "\\hline\n",
       "\tnoodle & 1.0000000 & 0.1905002 & 0.3600411\\\\\n",
       "\tdishes & 0.1905002 & 1.0000000 & 0.3004804\\\\\n",
       "\tsauce & 0.3600411 & 0.3004804 & 1.0000000\\\\\n",
       "\\end{tabular}\n"
      ],
      "text/markdown": [
       "\n",
       "| <!--/--> | noodle | dishes | sauce |\n",
       "|---|---|---|---|\n",
       "| noodle | 1.0000000 | 0.1905002 | 0.3600411 |\n",
       "| dishes | 0.1905002 | 1.0000000 | 0.3004804 |\n",
       "| sauce | 0.3600411 | 0.3004804 | 1.0000000 |\n",
       "\n"
      ],
      "text/plain": [
       "       noodle    dishes    sauce    \n",
       "noodle 1.0000000 0.1905002 0.3600411\n",
       "dishes 0.1905002 1.0000000 0.3004804\n",
       "sauce  0.3600411 0.3004804 1.0000000"
      ]
     },
     "metadata": {},
     "output_type": "display_data"
    }
   ],
   "source": [
    "# 다중 공선성 확인 : 너무 상관이 높아서 마치 쌍둥이인 데이터 찾기\n",
    "cor(data)"
   ]
  },
  {
   "cell_type": "code",
   "execution_count": 3,
   "id": "54cdb4fe",
   "metadata": {},
   "outputs": [
    {
     "data": {
      "text/plain": [
       "     noodle            dishes             sauce         \n",
       " Min.   :-1.3416   Min.   :-1.36311   Min.   :-1.31112  \n",
       " 1st Qu.:-0.6708   1st Qu.:-0.51117   1st Qu.:-0.62106  \n",
       " Median : 0.0000   Median :-0.08519   Median : 0.06901  \n",
       " Mean   : 0.0000   Mean   : 0.00000   Mean   : 0.00000  \n",
       " 3rd Qu.: 0.6708   3rd Qu.: 0.97973   3rd Qu.: 0.58656  \n",
       " Max.   : 1.3416   Max.   : 1.19272   Max.   : 1.44914  "
      ]
     },
     "metadata": {},
     "output_type": "display_data"
    }
   ],
   "source": [
    "# 표준화 : 평균을 0으로 표준편차는 1로 변경 \n",
    "#여러컬럼을 한컬럼위치에 모아두는것\n",
    "data1<-scale(data)\n",
    "summary(data1)"
   ]
  },
  {
   "cell_type": "code",
   "execution_count": 4,
   "id": "1da53e7e",
   "metadata": {},
   "outputs": [
    {
     "data": {
      "text/plain": [
       "     noodle      dishes         sauce     \n",
       " Min.   :1   Min.   :2.00   Min.   :1.00  \n",
       " 1st Qu.:2   1st Qu.:3.00   1st Qu.:2.00  \n",
       " Median :3   Median :3.50   Median :3.00  \n",
       " Mean   :3   Mean   :3.60   Mean   :2.90  \n",
       " 3rd Qu.:4   3rd Qu.:4.75   3rd Qu.:3.75  \n",
       " Max.   :5   Max.   :5.00   Max.   :5.00  "
      ]
     },
     "metadata": {},
     "output_type": "display_data"
    }
   ],
   "source": [
    "summary(data)"
   ]
  },
  {
   "cell_type": "code",
   "execution_count": 5,
   "id": "b293448e",
   "metadata": {},
   "outputs": [
    {
     "data": {
      "text/html": [
       "1"
      ],
      "text/latex": [
       "1"
      ],
      "text/markdown": [
       "1"
      ],
      "text/plain": [
       "[1] 1"
      ]
     },
     "metadata": {},
     "output_type": "display_data"
    }
   ],
   "source": [
    "sd(data1[,3])"
   ]
  },
  {
   "cell_type": "code",
   "execution_count": 6,
   "id": "a4f6e539",
   "metadata": {},
   "outputs": [
    {
     "data": {
      "text/html": [
       "<dl class=dl-horizontal>\n",
       "\t<dt>noodle</dt>\n",
       "\t\t<dd>1</dd>\n",
       "\t<dt>dishes</dt>\n",
       "\t\t<dd>1</dd>\n",
       "\t<dt>sauce</dt>\n",
       "\t\t<dd>1</dd>\n",
       "</dl>\n"
      ],
      "text/latex": [
       "\\begin{description*}\n",
       "\\item[noodle] 1\n",
       "\\item[dishes] 1\n",
       "\\item[sauce] 1\n",
       "\\end{description*}\n"
      ],
      "text/markdown": [
       "noodle\n",
       ":   1dishes\n",
       ":   1sauce\n",
       ":   1\n",
       "\n"
      ],
      "text/plain": [
       "noodle dishes  sauce \n",
       "     1      1      1 "
      ]
     },
     "metadata": {},
     "output_type": "display_data"
    }
   ],
   "source": [
    "apply(data1,2,sd)"
   ]
  },
  {
   "cell_type": "code",
   "execution_count": 7,
   "id": "b85fc809",
   "metadata": {},
   "outputs": [
    {
     "data": {
      "image/png": "[encoded data removed]",
      "text/plain": [
       "plot without title"
      ]
     },
     "metadata": {},
     "output_type": "display_data"
    }
   ],
   "source": [
    "# 주성분 분석\n",
    "p1 <- prcomp(data,scale=T)\n",
    "biplot(p1)\n",
    "#dishes는 + 이고, 나머지는 -이다."
   ]
  },
  {
   "cell_type": "code",
   "execution_count": 8,
   "id": "ecc8f6e6",
   "metadata": {},
   "outputs": [
    {
     "data": {
      "text/html": [
       "<table>\n",
       "<thead><tr><th></th><th scope=col>면발</th><th scope=col>포장재</th><th scope=col>국물</th></tr></thead>\n",
       "<tbody>\n",
       "\t<tr><th scope=row>신라면</th><td>2</td><td>4</td><td>5</td></tr>\n",
       "\t<tr><th scope=row>짜파게티</th><td>5</td><td>2</td><td>1</td></tr>\n",
       "\t<tr><th scope=row>쌀사리곰탕면</th><td>3</td><td>4</td><td>3</td></tr>\n",
       "\t<tr><th scope=row>무파마</th><td>3</td><td>3</td><td>5</td></tr>\n",
       "\t<tr><th scope=row>안성탕면</th><td>1</td><td>2</td><td>3</td></tr>\n",
       "\t<tr><th scope=row>오징어짬뽕</th><td>1</td><td>3</td><td>4</td></tr>\n",
       "\t<tr><th scope=row>너구리</th><td>3</td><td>3</td><td>4</td></tr>\n",
       "\t<tr><th scope=row>육계장</th><td>2</td><td>3</td><td>5</td></tr>\n",
       "</tbody>\n",
       "</table>\n"
      ],
      "text/latex": [
       "\\begin{tabular}{r|lll}\n",
       "  & 면발 & 포장재 & 국물\\\\\n",
       "\\hline\n",
       "\t신라면 & 2 & 4 & 5\\\\\n",
       "\t짜파게티 & 5 & 2 & 1\\\\\n",
       "\t쌀사리곰탕면 & 3 & 4 & 3\\\\\n",
       "\t무파마 & 3 & 3 & 5\\\\\n",
       "\t안성탕면 & 1 & 2 & 3\\\\\n",
       "\t오징어짬뽕 & 1 & 3 & 4\\\\\n",
       "\t너구리 & 3 & 3 & 4\\\\\n",
       "\t육계장 & 2 & 3 & 5\\\\\n",
       "\\end{tabular}\n"
      ],
      "text/markdown": [
       "\n",
       "| <!--/--> | 면발 | 포장재 | 국물 |\n",
       "|---|---|---|---|\n",
       "| 신라면 | 2 | 4 | 5 |\n",
       "| 짜파게티 | 5 | 2 | 1 |\n",
       "| 쌀사리곰탕면 | 3 | 4 | 3 |\n",
       "| 무파마 | 3 | 3 | 5 |\n",
       "| 안성탕면 | 1 | 2 | 3 |\n",
       "| 오징어짬뽕 | 1 | 3 | 4 |\n",
       "| 너구리 | 3 | 3 | 4 |\n",
       "| 육계장 | 2 | 3 | 5 |\n",
       "\n"
      ],
      "text/plain": [
       "             면발 포장재 국물\n",
       "신라면       2    4      5   \n",
       "짜파게티     5    2      1   \n",
       "쌀사리곰탕면 3    4      3   \n",
       "무파마       3    3      5   \n",
       "안성탕면     1    2      3   \n",
       "오징어짬뽕   1    3      4   \n",
       "너구리       3    3      4   \n",
       "육계장       2    3      5   "
      ]
     },
     "metadata": {},
     "output_type": "display_data"
    }
   ],
   "source": [
    "# 라면 설문지를 이용한 주성분 분석\n",
    "\n",
    "noodle <- read.table(\"../Data/라면.txt\", header = T,  fileEncoding=\"utf-8\")\n",
    "\n",
    "colnames(noodle)= c('면발','포장재','국물')\n",
    "\n",
    "noodle"
   ]
  },
  {
   "cell_type": "code",
   "execution_count": 10,
   "id": "c9934cc9",
   "metadata": {},
   "outputs": [
    {
     "data": {
      "text/html": [
       "<table>\n",
       "<thead><tr><th></th><th scope=col>면발</th><th scope=col>포장재</th><th scope=col>국물</th></tr></thead>\n",
       "<tbody>\n",
       "\t<tr><th scope=row>신라면</th><td>-0.3818813</td><td> 1.322876 </td><td> 0.9001029</td></tr>\n",
       "\t<tr><th scope=row>짜파게티</th><td> 1.9094065</td><td>-1.322876 </td><td>-1.9802263</td></tr>\n",
       "\t<tr><th scope=row>쌀사리곰탕면</th><td> 0.3818813</td><td> 1.322876 </td><td>-0.5400617</td></tr>\n",
       "\t<tr><th scope=row>무파마</th><td> 0.3818813</td><td> 0.000000 </td><td> 0.9001029</td></tr>\n",
       "\t<tr><th scope=row>안성탕면</th><td>-1.1456439</td><td>-1.322876 </td><td>-0.5400617</td></tr>\n",
       "\t<tr><th scope=row>오징어짬뽕</th><td>-1.1456439</td><td> 0.000000 </td><td> 0.1800206</td></tr>\n",
       "\t<tr><th scope=row>너구리</th><td> 0.3818813</td><td> 0.000000 </td><td> 0.1800206</td></tr>\n",
       "\t<tr><th scope=row>육계장</th><td>-0.3818813</td><td> 0.000000 </td><td> 0.9001029</td></tr>\n",
       "</tbody>\n",
       "</table>\n"
      ],
      "text/latex": [
       "\\begin{tabular}{r|lll}\n",
       "  & 면발 & 포장재 & 국물\\\\\n",
       "\\hline\n",
       "\t신라면 & -0.3818813 &  1.322876  &  0.9001029\\\\\n",
       "\t짜파게티 &  1.9094065 & -1.322876  & -1.9802263\\\\\n",
       "\t쌀사리곰탕면 &  0.3818813 &  1.322876  & -0.5400617\\\\\n",
       "\t무파마 &  0.3818813 &  0.000000  &  0.9001029\\\\\n",
       "\t안성탕면 & -1.1456439 & -1.322876  & -0.5400617\\\\\n",
       "\t오징어짬뽕 & -1.1456439 &  0.000000  &  0.1800206\\\\\n",
       "\t너구리 &  0.3818813 &  0.000000  &  0.1800206\\\\\n",
       "\t육계장 & -0.3818813 &  0.000000  &  0.9001029\\\\\n",
       "\\end{tabular}\n"
      ],
      "text/markdown": [
       "\n",
       "| <!--/--> | 면발 | 포장재 | 국물 |\n",
       "|---|---|---|---|\n",
       "| 신라면 | -0.3818813 |  1.322876  |  0.9001029 |\n",
       "| 짜파게티 |  1.9094065 | -1.322876  | -1.9802263 |\n",
       "| 쌀사리곰탕면 |  0.3818813 |  1.322876  | -0.5400617 |\n",
       "| 무파마 |  0.3818813 |  0.000000  |  0.9001029 |\n",
       "| 안성탕면 | -1.1456439 | -1.322876  | -0.5400617 |\n",
       "| 오징어짬뽕 | -1.1456439 |  0.000000  |  0.1800206 |\n",
       "| 너구리 |  0.3818813 |  0.000000  |  0.1800206 |\n",
       "| 육계장 | -0.3818813 |  0.000000  |  0.9001029 |\n",
       "\n"
      ],
      "text/plain": [
       "             면발       포장재    국물      \n",
       "신라면       -0.3818813  1.322876  0.9001029\n",
       "짜파게티      1.9094065 -1.322876 -1.9802263\n",
       "쌀사리곰탕면  0.3818813  1.322876 -0.5400617\n",
       "무파마        0.3818813  0.000000  0.9001029\n",
       "안성탕면     -1.1456439 -1.322876 -0.5400617\n",
       "오징어짬뽕   -1.1456439  0.000000  0.1800206\n",
       "너구리        0.3818813  0.000000  0.1800206\n",
       "육계장       -0.3818813  0.000000  0.9001029"
      ]
     },
     "metadata": {},
     "output_type": "display_data"
    }
   ],
   "source": [
    "noodle<-scale(noodle)  #!!!!!!!!!!!!!!!!!!!\n",
    "noodle"
   ]
  },
  {
   "cell_type": "markdown",
   "id": "583f7af2",
   "metadata": {},
   "source": [
    "---\n",
    "# USArrests\n",
    "- 1973년 미국50개주에서 각각 10만명당 폭해ㅇ,살인,강간으로 체포된 통계 데이터\n",
    "- 또한 도시 지역에서 살고 있는 인구의 비울도 주어진다."
   ]
  },
  {
   "cell_type": "code",
   "execution_count": 11,
   "id": "87736b8e",
   "metadata": {},
   "outputs": [
    {
     "data": {
      "text/html": [
       "<table>\n",
       "<thead><tr><th></th><th scope=col>Murder</th><th scope=col>Assault</th><th scope=col>UrbanPop</th><th scope=col>Rape</th></tr></thead>\n",
       "<tbody>\n",
       "\t<tr><th scope=row>Alabama</th><td>13.2</td><td>236 </td><td>58  </td><td>21.2</td></tr>\n",
       "\t<tr><th scope=row>Alaska</th><td>10.0</td><td>263 </td><td>48  </td><td>44.5</td></tr>\n",
       "\t<tr><th scope=row>Arizona</th><td> 8.1</td><td>294 </td><td>80  </td><td>31.0</td></tr>\n",
       "\t<tr><th scope=row>Arkansas</th><td> 8.8</td><td>190 </td><td>50  </td><td>19.5</td></tr>\n",
       "\t<tr><th scope=row>California</th><td> 9.0</td><td>276 </td><td>91  </td><td>40.6</td></tr>\n",
       "\t<tr><th scope=row>Colorado</th><td> 7.9</td><td>204 </td><td>78  </td><td>38.7</td></tr>\n",
       "</tbody>\n",
       "</table>\n"
      ],
      "text/latex": [
       "\\begin{tabular}{r|llll}\n",
       "  & Murder & Assault & UrbanPop & Rape\\\\\n",
       "\\hline\n",
       "\tAlabama & 13.2 & 236  & 58   & 21.2\\\\\n",
       "\tAlaska & 10.0 & 263  & 48   & 44.5\\\\\n",
       "\tArizona &  8.1 & 294  & 80   & 31.0\\\\\n",
       "\tArkansas &  8.8 & 190  & 50   & 19.5\\\\\n",
       "\tCalifornia &  9.0 & 276  & 91   & 40.6\\\\\n",
       "\tColorado &  7.9 & 204  & 78   & 38.7\\\\\n",
       "\\end{tabular}\n"
      ],
      "text/markdown": [
       "\n",
       "| <!--/--> | Murder | Assault | UrbanPop | Rape |\n",
       "|---|---|---|---|---|\n",
       "| Alabama | 13.2 | 236  | 58   | 21.2 |\n",
       "| Alaska | 10.0 | 263  | 48   | 44.5 |\n",
       "| Arizona |  8.1 | 294  | 80   | 31.0 |\n",
       "| Arkansas |  8.8 | 190  | 50   | 19.5 |\n",
       "| California |  9.0 | 276  | 91   | 40.6 |\n",
       "| Colorado |  7.9 | 204  | 78   | 38.7 |\n",
       "\n"
      ],
      "text/plain": [
       "           Murder Assault UrbanPop Rape\n",
       "Alabama    13.2   236     58       21.2\n",
       "Alaska     10.0   263     48       44.5\n",
       "Arizona     8.1   294     80       31.0\n",
       "Arkansas    8.8   190     50       19.5\n",
       "California  9.0   276     91       40.6\n",
       "Colorado    7.9   204     78       38.7"
      ]
     },
     "metadata": {},
     "output_type": "display_data"
    }
   ],
   "source": [
    "head(USArrests)"
   ]
  },
  {
   "cell_type": "markdown",
   "id": "14e47106",
   "metadata": {},
   "source": [
    "- Murder : 살인\n",
    "- Assault : 폭행\n",
    "- UrbanPop : 도시 인구밀도\n",
    "- Rape : 강간"
   ]
  },
  {
   "cell_type": "code",
   "execution_count": 12,
   "id": "2ac66baa",
   "metadata": {},
   "outputs": [
    {
     "data": {
      "text/html": [
       "<table>\n",
       "<thead><tr><th></th><th scope=col>Murder</th><th scope=col>Assault</th><th scope=col>UrbanPop</th><th scope=col>Rape</th></tr></thead>\n",
       "<tbody>\n",
       "\t<tr><th scope=row>Murder</th><td>1.00000000</td><td>0.8018733 </td><td>0.06957262</td><td>0.5635788 </td></tr>\n",
       "\t<tr><th scope=row>Assault</th><td>0.80187331</td><td>1.0000000 </td><td>0.25887170</td><td>0.6652412 </td></tr>\n",
       "\t<tr><th scope=row>UrbanPop</th><td>0.06957262</td><td>0.2588717 </td><td>1.00000000</td><td>0.4113412 </td></tr>\n",
       "\t<tr><th scope=row>Rape</th><td>0.56357883</td><td>0.6652412 </td><td>0.41134124</td><td>1.0000000 </td></tr>\n",
       "</tbody>\n",
       "</table>\n"
      ],
      "text/latex": [
       "\\begin{tabular}{r|llll}\n",
       "  & Murder & Assault & UrbanPop & Rape\\\\\n",
       "\\hline\n",
       "\tMurder & 1.00000000 & 0.8018733  & 0.06957262 & 0.5635788 \\\\\n",
       "\tAssault & 0.80187331 & 1.0000000  & 0.25887170 & 0.6652412 \\\\\n",
       "\tUrbanPop & 0.06957262 & 0.2588717  & 1.00000000 & 0.4113412 \\\\\n",
       "\tRape & 0.56357883 & 0.6652412  & 0.41134124 & 1.0000000 \\\\\n",
       "\\end{tabular}\n"
      ],
      "text/markdown": [
       "\n",
       "| <!--/--> | Murder | Assault | UrbanPop | Rape |\n",
       "|---|---|---|---|---|\n",
       "| Murder | 1.00000000 | 0.8018733  | 0.06957262 | 0.5635788  |\n",
       "| Assault | 0.80187331 | 1.0000000  | 0.25887170 | 0.6652412  |\n",
       "| UrbanPop | 0.06957262 | 0.2588717  | 1.00000000 | 0.4113412  |\n",
       "| Rape | 0.56357883 | 0.6652412  | 0.41134124 | 1.0000000  |\n",
       "\n"
      ],
      "text/plain": [
       "         Murder     Assault   UrbanPop   Rape     \n",
       "Murder   1.00000000 0.8018733 0.06957262 0.5635788\n",
       "Assault  0.80187331 1.0000000 0.25887170 0.6652412\n",
       "UrbanPop 0.06957262 0.2588717 1.00000000 0.4113412\n",
       "Rape     0.56357883 0.6652412 0.41134124 1.0000000"
      ]
     },
     "metadata": {},
     "output_type": "display_data"
    }
   ],
   "source": [
    "# 데이터의 상관 관계\n",
    "cor(USArrests)\n",
    "# 살인은 인구밀도와 연관이 없다.\n",
    "# 인구 밀도는 강간과 연관이 있다."
   ]
  },
  {
   "cell_type": "code",
   "execution_count": 13,
   "id": "c5e1f40d",
   "metadata": {},
   "outputs": [
    {
     "data": {
      "text/plain": [
       "Importance of components:\n",
       "                          Comp.1    Comp.2    Comp.3     Comp.4\n",
       "Standard deviation     1.5748783 0.9948694 0.5971291 0.41644938\n",
       "Proportion of Variance 0.6200604 0.2474413 0.0891408 0.04335752\n",
       "Cumulative Proportion  0.6200604 0.8675017 0.9566425 1.00000000"
      ]
     },
     "metadata": {},
     "output_type": "display_data"
    }
   ],
   "source": [
    "# 주성분 분석: 4개컬럼중에서 대표값4개를 찾기\n",
    "result <- princomp(USArrests,cor=T)\n",
    "summary(result)\n",
    "#Comp. 라는 컬럼을 가지고 식을 만든다."
   ]
  },
  {
   "cell_type": "code",
   "execution_count": 14,
   "id": "823a8d31",
   "metadata": {},
   "outputs": [
    {
     "data": {
      "image/png": "[encoded data removed]",
      "text/plain": [
       "plot without title"
      ]
     },
     "metadata": {},
     "output_type": "display_data"
    }
   ],
   "source": [
    "biplot(result)"
   ]
  },
  {
   "cell_type": "code",
   "execution_count": 15,
   "id": "1f3fbe2a",
   "metadata": {},
   "outputs": [
    {
     "data": {
      "text/plain": [
       "\n",
       "Loadings:\n",
       "         Comp.1 Comp.2 Comp.3 Comp.4\n",
       "Murder    0.536  0.418  0.341  0.649\n",
       "Assault   0.583  0.188  0.268 -0.743\n",
       "UrbanPop  0.278 -0.873  0.378  0.134\n",
       "Rape      0.543 -0.167 -0.818       \n",
       "\n",
       "               Comp.1 Comp.2 Comp.3 Comp.4\n",
       "SS loadings      1.00   1.00   1.00   1.00\n",
       "Proportion Var   0.25   0.25   0.25   0.25\n",
       "Cumulative Var   0.25   0.50   0.75   1.00"
      ]
     },
     "metadata": {},
     "output_type": "display_data"
    }
   ],
   "source": [
    "result$loadings"
   ]
  },
  {
   "cell_type": "markdown",
   "id": "f0efeb7a",
   "metadata": {},
   "source": [
    "- 1주성분 = 0.536 * Murder + 0.583 * Assault + ..."
   ]
  },
  {
   "cell_type": "code",
   "execution_count": 16,
   "id": "dab42eda",
   "metadata": {},
   "outputs": [
    {
     "data": {
      "text/html": [
       "<ol class=list-inline>\n",
       "\t<li>172.2988</li>\n",
       "\t<li>196.1965</li>\n",
       "\t<li>214.8166</li>\n",
       "\t<li>139.9753</li>\n",
       "\t<li>213.0758</li>\n",
       "\t<li>165.8645</li>\n",
       "</ol>\n"
      ],
      "text/latex": [
       "\\begin{enumerate*}\n",
       "\\item 172.2988\n",
       "\\item 196.1965\n",
       "\\item 214.8166\n",
       "\\item 139.9753\n",
       "\\item 213.0758\n",
       "\\item 165.8645\n",
       "\\end{enumerate*}\n"
      ],
      "text/markdown": [
       "1. 172.2988\n",
       "2. 196.1965\n",
       "3. 214.8166\n",
       "4. 139.9753\n",
       "5. 213.0758\n",
       "6. 165.8645\n",
       "\n",
       "\n"
      ],
      "text/plain": [
       "[1] 172.2988 196.1965 214.8166 139.9753 213.0758 165.8645"
      ]
     },
     "metadata": {},
     "output_type": "display_data"
    }
   ],
   "source": [
    "# 1주성분으로 새로운 변수 값 생성\n",
    "score <- 0.536 * USArrests$Murder + 0.583 * USArrests$Assault + 0.278 * USArrests$UrbanPop + 0.543 * USArrests$Rape\n",
    "head(score)"
   ]
  },
  {
   "cell_type": "code",
   "execution_count": 17,
   "id": "b7ff5b7b",
   "metadata": {},
   "outputs": [
    {
     "data": {
      "text/html": [
       "<table>\n",
       "<thead><tr><th scope=col>States</th><th scope=col>Score</th></tr></thead>\n",
       "<tbody>\n",
       "\t<tr><td>Alabama   </td><td>172.2988  </td></tr>\n",
       "\t<tr><td>Alaska    </td><td>196.1965  </td></tr>\n",
       "\t<tr><td>Arizona   </td><td>214.8166  </td></tr>\n",
       "\t<tr><td>Arkansas  </td><td>139.9753  </td></tr>\n",
       "\t<tr><td>California</td><td>213.0758  </td></tr>\n",
       "\t<tr><td>Colorado  </td><td>165.8645  </td></tr>\n",
       "</tbody>\n",
       "</table>\n"
      ],
      "text/latex": [
       "\\begin{tabular}{r|ll}\n",
       " States & Score\\\\\n",
       "\\hline\n",
       "\t Alabama    & 172.2988  \\\\\n",
       "\t Alaska     & 196.1965  \\\\\n",
       "\t Arizona    & 214.8166  \\\\\n",
       "\t Arkansas   & 139.9753  \\\\\n",
       "\t California & 213.0758  \\\\\n",
       "\t Colorado   & 165.8645  \\\\\n",
       "\\end{tabular}\n"
      ],
      "text/markdown": [
       "\n",
       "| States | Score |\n",
       "|---|---|\n",
       "| Alabama    | 172.2988   |\n",
       "| Alaska     | 196.1965   |\n",
       "| Arizona    | 214.8166   |\n",
       "| Arkansas   | 139.9753   |\n",
       "| California | 213.0758   |\n",
       "| Colorado   | 165.8645   |\n",
       "\n"
      ],
      "text/plain": [
       "  States     Score   \n",
       "1 Alabama    172.2988\n",
       "2 Alaska     196.1965\n",
       "3 Arizona    214.8166\n",
       "4 Arkansas   139.9753\n",
       "5 California 213.0758\n",
       "6 Colorado   165.8645"
      ]
     },
     "metadata": {},
     "output_type": "display_data"
    }
   ],
   "source": [
    "#State\n",
    "Result<- data.frame(States=rownames(USArrests), Score = score)\n",
    "head(Result)"
   ]
  },
  {
   "cell_type": "code",
   "execution_count": 18,
   "id": "b5ff0efb",
   "metadata": {},
   "outputs": [
    {
     "name": "stderr",
     "output_type": "stream",
     "text": [
      "\n",
      "Attaching package: 'dplyr'\n",
      "\n",
      "The following objects are masked from 'package:stats':\n",
      "\n",
      "    filter, lag\n",
      "\n",
      "The following objects are masked from 'package:base':\n",
      "\n",
      "    intersect, setdiff, setequal, union\n",
      "\n"
     ]
    }
   ],
   "source": [
    "# 우선 순위 알아보기\n",
    "library(dplyr)"
   ]
  },
  {
   "cell_type": "code",
   "execution_count": 19,
   "id": "5ba068f7",
   "metadata": {},
   "outputs": [
    {
     "data": {
      "text/html": [
       "<table>\n",
       "<thead><tr><th scope=col>States</th><th scope=col>Score</th></tr></thead>\n",
       "<tbody>\n",
       "\t<tr><td>Florida       </td><td>243.1211      </td></tr>\n",
       "\t<tr><td>North Carolina</td><td>224.6913      </td></tr>\n",
       "\t<tr><td>Arizona       </td><td>214.8166      </td></tr>\n",
       "\t<tr><td>Maryland      </td><td>214.6782      </td></tr>\n",
       "\t<tr><td>California    </td><td>213.0758      </td></tr>\n",
       "\t<tr><td>New Mexico    </td><td>209.1557      </td></tr>\n",
       "\t<tr><td>Nevada        </td><td>200.9512      </td></tr>\n",
       "\t<tr><td>Alaska        </td><td>196.1965      </td></tr>\n",
       "\t<tr><td>South Carolina</td><td>195.9369      </td></tr>\n",
       "\t<tr><td>Michigan      </td><td>194.7819      </td></tr>\n",
       "</tbody>\n",
       "</table>\n"
      ],
      "text/latex": [
       "\\begin{tabular}{r|ll}\n",
       " States & Score\\\\\n",
       "\\hline\n",
       "\t Florida        & 243.1211      \\\\\n",
       "\t North Carolina & 224.6913      \\\\\n",
       "\t Arizona        & 214.8166      \\\\\n",
       "\t Maryland       & 214.6782      \\\\\n",
       "\t California     & 213.0758      \\\\\n",
       "\t New Mexico     & 209.1557      \\\\\n",
       "\t Nevada         & 200.9512      \\\\\n",
       "\t Alaska         & 196.1965      \\\\\n",
       "\t South Carolina & 195.9369      \\\\\n",
       "\t Michigan       & 194.7819      \\\\\n",
       "\\end{tabular}\n"
      ],
      "text/markdown": [
       "\n",
       "| States | Score |\n",
       "|---|---|\n",
       "| Florida        | 243.1211       |\n",
       "| North Carolina | 224.6913       |\n",
       "| Arizona        | 214.8166       |\n",
       "| Maryland       | 214.6782       |\n",
       "| California     | 213.0758       |\n",
       "| New Mexico     | 209.1557       |\n",
       "| Nevada         | 200.9512       |\n",
       "| Alaska         | 196.1965       |\n",
       "| South Carolina | 195.9369       |\n",
       "| Michigan       | 194.7819       |\n",
       "\n"
      ],
      "text/plain": [
       "   States         Score   \n",
       "1  Florida        243.1211\n",
       "2  North Carolina 224.6913\n",
       "3  Arizona        214.8166\n",
       "4  Maryland       214.6782\n",
       "5  California     213.0758\n",
       "6  New Mexico     209.1557\n",
       "7  Nevada         200.9512\n",
       "8  Alaska         196.1965\n",
       "9  South Carolina 195.9369\n",
       "10 Michigan       194.7819"
      ]
     },
     "metadata": {},
     "output_type": "display_data"
    }
   ],
   "source": [
    "head(arrange(Result, desc(Score)),10)"
   ]
  },
  {
   "cell_type": "code",
   "execution_count": null,
   "id": "ef19f849",
   "metadata": {},
   "outputs": [],
   "source": []
  },
  {
   "cell_type": "code",
   "execution_count": null,
   "id": "10fe0609",
   "metadata": {},
   "outputs": [],
   "source": []
  },
  {
   "cell_type": "code",
   "execution_count": null,
   "id": "62676008",
   "metadata": {},
   "outputs": [],
   "source": []
  }
 ],
 "metadata": {
  "kernelspec": {
   "display_name": "R",
   "language": "R",
   "name": "ir"
  },
  "language_info": {
   "codemirror_mode": "r",
   "file_extension": ".r",
   "mimetype": "text/x-r-source",
   "name": "R",
   "pygments_lexer": "r",
   "version": "3.6.1"
  }
 },
 "nbformat": 4,
 "nbformat_minor": 5
}

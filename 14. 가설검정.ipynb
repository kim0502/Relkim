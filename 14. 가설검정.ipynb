{
 "cells": [
  {
   "cell_type": "markdown",
   "id": "5b7be448",
   "metadata": {},
   "source": [
    "# 가설검정\n",
    " - 가설=시나리오\n",
    " \n",
    " - 검정=text"
   ]
  },
  {
   "cell_type": "markdown",
   "id": "09299bf3",
   "metadata": {},
   "source": [
    "# 카이제곱 검정\n",
    ": 두 범주형(남,여 등 카테고리의미) 변수가 서로 상관이 있는지 판단하는 통계적 검정 방법.\n",
    "예) 학력, 성별, 직업의 만족도.\n",
    "\n",
    "### 아동별 장난감 보유 현황\n",
    "- 귀무가설 : 뭐라고 분석하든 결국 원위치이다.분석할 가치가 없이 당연한것\n",
    "          child1과 child2의 장난감 보유수에 대한 만족도는 차이가 없다.\n",
    "         \n",
    "- 대립가설 : 분석가가 대립가설을 해야 분석을 한다.\n",
    "          child1과 child2의 장난감 보유수에 대한 만족도는 차이가 있다.\n",
    "         \n"
   ]
  },
  {
   "cell_type": "code",
   "execution_count": 1,
   "id": "d22489f8",
   "metadata": {},
   "outputs": [],
   "source": [
    "# child별 장난감 보유 현황\n",
    "child1 <- c(5,11,1)\n",
    "child2 <- c(4,7,3)"
   ]
  },
  {
   "cell_type": "code",
   "execution_count": 2,
   "id": "1c9df042",
   "metadata": {},
   "outputs": [
    {
     "data": {
      "text/html": [
       "<table>\n",
       "<thead><tr><th scope=col>child1</th><th scope=col>child2</th></tr></thead>\n",
       "<tbody>\n",
       "\t<tr><td> 5</td><td>4 </td></tr>\n",
       "\t<tr><td>11</td><td>7 </td></tr>\n",
       "\t<tr><td> 1</td><td>3 </td></tr>\n",
       "</tbody>\n",
       "</table>\n"
      ],
      "text/latex": [
       "\\begin{tabular}{ll}\n",
       " child1 & child2\\\\\n",
       "\\hline\n",
       "\t  5 & 4 \\\\\n",
       "\t 11 & 7 \\\\\n",
       "\t  1 & 3 \\\\\n",
       "\\end{tabular}\n"
      ],
      "text/markdown": [
       "\n",
       "| child1 | child2 |\n",
       "|---|---|\n",
       "|  5 | 4  |\n",
       "| 11 | 7  |\n",
       "|  1 | 3  |\n",
       "\n"
      ],
      "text/plain": [
       "     child1 child2\n",
       "[1,]  5     4     \n",
       "[2,] 11     7     \n",
       "[3,]  1     3     "
      ]
     },
     "metadata": {},
     "output_type": "display_data"
    }
   ],
   "source": [
    "# 분석을 위해 데이터 합치기\n",
    "Toy <- cbind(child1,child2)\n",
    "Toy"
   ]
  },
  {
   "cell_type": "code",
   "execution_count": 3,
   "id": "f24383df",
   "metadata": {},
   "outputs": [
    {
     "data": {
      "text/html": [
       "<table>\n",
       "<thead><tr><th></th><th scope=col>child1</th><th scope=col>child2</th></tr></thead>\n",
       "<tbody>\n",
       "\t<tr><th scope=row>car</th><td> 5</td><td>4 </td></tr>\n",
       "\t<tr><th scope=row>truck</th><td>11</td><td>7 </td></tr>\n",
       "\t<tr><th scope=row>doll</th><td> 1</td><td>3 </td></tr>\n",
       "</tbody>\n",
       "</table>\n"
      ],
      "text/latex": [
       "\\begin{tabular}{r|ll}\n",
       "  & child1 & child2\\\\\n",
       "\\hline\n",
       "\tcar &  5 & 4 \\\\\n",
       "\ttruck & 11 & 7 \\\\\n",
       "\tdoll &  1 & 3 \\\\\n",
       "\\end{tabular}\n"
      ],
      "text/markdown": [
       "\n",
       "| <!--/--> | child1 | child2 |\n",
       "|---|---|---|\n",
       "| car |  5 | 4  |\n",
       "| truck | 11 | 7  |\n",
       "| doll |  1 | 3  |\n",
       "\n"
      ],
      "text/plain": [
       "      child1 child2\n",
       "car    5     4     \n",
       "truck 11     7     \n",
       "doll   1     3     "
      ]
     },
     "metadata": {},
     "output_type": "display_data"
    }
   ],
   "source": [
    "# 장난감 종류\n",
    "rownames(Toy)<-c(\"car\",\"truck\",\"doll\")\n",
    "Toy"
   ]
  },
  {
   "cell_type": "code",
   "execution_count": 4,
   "id": "5c6e35f1",
   "metadata": {},
   "outputs": [
    {
     "ename": "ERROR",
     "evalue": "Error in parse(text = x, srcfile = src): <text>:5:9: 예상하지 못한 기호(symbol)입니다.\n4: #!!!!!!!!!!!!!!!!!!!!!!!!!!!!!!!!!!!!!!!!!!!!!!!!!!!!!!!!!!!!!!!!!!!!!!!!!!!!!!!!!!!!!!!!!!!!!!!!!!!!!!!!!!!!!!!!!!!!!!!!!!!!!!\n5: X제곱이 어떤건지\n           ^\n",
     "output_type": "error",
     "traceback": [
      "Error in parse(text = x, srcfile = src): <text>:5:9: 예상하지 못한 기호(symbol)입니다.\n4: #!!!!!!!!!!!!!!!!!!!!!!!!!!!!!!!!!!!!!!!!!!!!!!!!!!!!!!!!!!!!!!!!!!!!!!!!!!!!!!!!!!!!!!!!!!!!!!!!!!!!!!!!!!!!!!!!!!!!!!!!!!!!!!\n5: X제곱이 어떤건지\n           ^\nTraceback:\n"
     ]
    }
   ],
   "source": [
    "# 카이제곱 검정 실시\n",
    "chisq.test(Toy)\n",
    "\n",
    "#!!!!!!!!!!!!!!!!!!!!!!!!!!!!!!!!!!!!!!!!!!!!!!!!!!!!!!!!!!!!!!!!!!!!!!!!!!!!!!!!!!!!!!!!!!!!!!!!!!!!!!!!!!!!!!!!!!!!!!!!!!!!!!\n",
    "X제곱이 어떤건지, p-Value 0.05Z크면\n",
    "알의 결론을 이해X"
   ]
  },
  {
   "cell_type": "markdown",
   "id": "9e51b451",
   "metadata": {},
   "source": [
    "### 결론\n",
    "p-value = 0.4219 > 0.05(95% 신뢰구간) -> 귀무가설 채택\n",
    "> child1과 child2의 데이터는 통계적으로 큰 차이가 없다. <br>\n",
    "\n",
    "p-value는 0에 가까울수록 좋다. 미리 정해진 유의수준(일반적으로 0.05 보다 작으면 대립가설을 채택하고 유의 수준보다 크면 귀무가설을 채택)                          "
   ]
  },
  {
   "cell_type": "code",
   "execution_count": null,
   "id": "f9581fbb",
   "metadata": {},
   "outputs": [],
   "source": [
    "cor(child1,child2) # 결과값을 보면 분석할 필요 없다."
   ]
  },
  {
   "cell_type": "markdown",
   "id": "87f600d0",
   "metadata": {},
   "source": [
    "### 메세지 : 카이제곱의 근사값이 정확하지 않을 수도 있다.\n",
    "- 데이터량이 적은 경우 발생"
   ]
  },
  {
   "cell_type": "markdown",
   "id": "469bc96a",
   "metadata": {},
   "source": [
    "### 피셔검정\n",
    "\n",
    "- 초기하 분포 기반의 정확한 p-value를 계산하는 검정방법 <br>\n",
    "- 초기하 분포는 모집단을 비 복원 추출해서 뽑은 n개 중 x개인 확률변수가 갖는 확률분포를 의미<br>\n",
    "- 피셔 정확 검정 조건<br>\n",
    " > 샘플 수가 너무 적을때 <br>\n",
    " > 기대 빈도가 5이하의 셀이 20%를 넘는 경우 <br>\n",
    " : 위의 조건에서 카이제곱 검정을 진행하게 되면 정확도가 떨어지기 떄문에 샘플 수와 기대 빈도를 확인하는 것이 중요"
   ]
  },
  {
   "cell_type": "code",
   "execution_count": null,
   "id": "8cc0631f",
   "metadata": {},
   "outputs": [],
   "source": [
    "fisher.test(Toy) "
   ]
  },
  {
   "cell_type": "markdown",
   "id": "3992d9c3",
   "metadata": {},
   "source": [
    "- p-value = 0.5165 >0.05 --> 귀무가설"
   ]
  },
  {
   "cell_type": "markdown",
   "id": "d1624aec",
   "metadata": {},
   "source": [
    "---\n",
    "# t-검정"
   ]
  },
  {
   "cell_type": "markdown",
   "id": "75e04fab",
   "metadata": {},
   "source": [
    "- ex)소비자 보험\n",
    "- 다른사람 말이 맞는지 확인하는것, 힌트(평균값)데이터를 가지고 확인하는것\n"
   ]
  },
  {
   "cell_type": "markdown",
   "id": "6816425d",
   "metadata": {},
   "source": [
    "귀무가설 : 건전지의 수명은 1000시간이다.\n",
    "\n",
    "대립가설 : 건전지의 수명은 1000시간 아니다."
   ]
  },
  {
   "cell_type": "code",
   "execution_count": 6,
   "id": "617124d4",
   "metadata": {},
   "outputs": [],
   "source": [
    "bat <- c(980, 1008, 968, 1032, 1012, 1002, 996, 1017)"
   ]
  },
  {
   "cell_type": "code",
   "execution_count": 7,
   "id": "498d6288",
   "metadata": {},
   "outputs": [],
   "source": [
    "# 데이터의 분포가 정규분포인지 확인 --> Shapiro-Wilk 검정 실시\n",
    "# 귀무가설 : 자료가 정규분포를 따른다.\n",
    "# 대립가설 : 자료가 정규분포를 따르지 않는다."
   ]
  },
  {
   "cell_type": "code",
   "execution_count": 8,
   "id": "7bd3ee2b",
   "metadata": {},
   "outputs": [
    {
     "data": {
      "text/plain": [
       "\n",
       "\tShapiro-Wilk normality test\n",
       "\n",
       "data:  bat\n",
       "W = 0.97706, p-value = 0.9469\n"
      ]
     },
     "metadata": {},
     "output_type": "display_data"
    }
   ],
   "source": [
    "shapiro.test(bat) #W 의미를 모르겠음"
   ]
  },
  {
   "cell_type": "markdown",
   "id": "ea12615e",
   "metadata": {},
   "source": [
    "- p-value = 0.9469>0.05 --> 귀무가설"
   ]
  },
  {
   "cell_type": "code",
   "execution_count": null,
   "id": "c0978dd4",
   "metadata": {},
   "outputs": [],
   "source": [
    "# t-검정 실시???????????????????????????????????????????????????????????대안\n",
    "t.test(bat, mu=1000, alternative = \"two.sided\")\n",
    "\n",
    "# mu : 비교하는 대상의 평균\n",
    "# alternative\n",
    "# - two.sided : 데이터가 평균보다 다르다.\n",
    "# - greater : 데이터가 평균보다 크다.\n",
    "# - less : 데이터가 평균보다 적다."
   ]
  },
  {
   "cell_type": "markdown",
   "id": "25b74a9f",
   "metadata": {},
   "source": [
    "- p-value = 0.8032 >0.05 --> 귀무가설 : 건전지의 수명은 1000시간이다."
   ]
  },
  {
   "cell_type": "code",
   "execution_count": null,
   "id": "0d58a5d0",
   "metadata": {},
   "outputs": [],
   "source": []
  }
 ],
 "metadata": {
  "kernelspec": {
   "display_name": "R",
   "language": "R",
   "name": "ir"
  },
  "language_info": {
   "codemirror_mode": "r",
   "file_extension": ".r",
   "mimetype": "text/x-r-source",
   "name": "R",
   "pygments_lexer": "r",
   "version": "3.6.1"
  }
 },
 "nbformat": 4,
 "nbformat_minor": 5
}

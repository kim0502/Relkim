{
 "cells": [
  {
   "cell_type": "markdown",
   "id": "406efb97",
   "metadata": {},
   "source": [
    "# 각 시군구별 실제 투표율과 가장 유사한 지역 Top 5를 뽑아서 오차의 합을 막대 그래프로 그려라   \n",
    "## 조건1 : 각 후보별 순위 변동 없음,   \n",
    "## 조건 2 : 각 후보별 오차 1프로 이내,   \n",
    "## 조건 3 : 오차의 합이 최소인 지역 순서대로 정렬   \n",
    "## 실제 득표율 : 이재명 47.83, 윤석열 48.56, 심상정 2.37"
   ]
  },
  {
   "cell_type": "code",
   "execution_count": 1,
   "id": "d14475c4",
   "metadata": {},
   "outputs": [
    {
     "data": {
      "text/html": [
       "<table>\n",
       "<thead><tr><th scope=col>광역시도</th><th scope=col>시군구</th><th scope=col>선거인수</th><th scope=col>투표수</th><th scope=col>이재명</th><th scope=col>윤석열</th><th scope=col>심상정</th></tr></thead>\n",
       "<tbody>\n",
       "\t<tr><td>서울특별시</td><td>종로구    </td><td>129968    </td><td>100629    </td><td> 46130    </td><td> 49172    </td><td>3115      </td></tr>\n",
       "\t<tr><td>서울특별시</td><td>중구      </td><td>111448    </td><td> 84998    </td><td> 38244    </td><td> 42906    </td><td>2310      </td></tr>\n",
       "\t<tr><td>서울특별시</td><td>용산구    </td><td>199077    </td><td>152068    </td><td> 60063    </td><td> 85047    </td><td>4374      </td></tr>\n",
       "\t<tr><td>서울특별시</td><td>성동구    </td><td>252087    </td><td>197240    </td><td> 84411    </td><td>103880    </td><td>5365      </td></tr>\n",
       "\t<tr><td>서울특별시</td><td>광진구    </td><td>303582    </td><td>235471    </td><td>109922    </td><td>113733    </td><td>7072      </td></tr>\n",
       "\t<tr><td>서울특별시</td><td>동대문구  </td><td>300928    </td><td>232106    </td><td>108171    </td><td>112890    </td><td>6416      </td></tr>\n",
       "</tbody>\n",
       "</table>\n"
      ],
      "text/latex": [
       "\\begin{tabular}{r|lllllll}\n",
       " 광역시도 & 시군구 & 선거인수 & 투표수 & 이재명 & 윤석열 & 심상정\\\\\n",
       "\\hline\n",
       "\t 서울특별시 & 종로구     & 129968     & 100629     &  46130     &  49172     & 3115      \\\\\n",
       "\t 서울특별시 & 중구       & 111448     &  84998     &  38244     &  42906     & 2310      \\\\\n",
       "\t 서울특별시 & 용산구     & 199077     & 152068     &  60063     &  85047     & 4374      \\\\\n",
       "\t 서울특별시 & 성동구     & 252087     & 197240     &  84411     & 103880     & 5365      \\\\\n",
       "\t 서울특별시 & 광진구     & 303582     & 235471     & 109922     & 113733     & 7072      \\\\\n",
       "\t 서울특별시 & 동대문구   & 300928     & 232106     & 108171     & 112890     & 6416      \\\\\n",
       "\\end{tabular}\n"
      ],
      "text/markdown": [
       "\n",
       "| 광역시도 | 시군구 | 선거인수 | 투표수 | 이재명 | 윤석열 | 심상정 |\n",
       "|---|---|---|---|---|---|---|\n",
       "| 서울특별시 | 종로구     | 129968     | 100629     |  46130     |  49172     | 3115       |\n",
       "| 서울특별시 | 중구       | 111448     |  84998     |  38244     |  42906     | 2310       |\n",
       "| 서울특별시 | 용산구     | 199077     | 152068     |  60063     |  85047     | 4374       |\n",
       "| 서울특별시 | 성동구     | 252087     | 197240     |  84411     | 103880     | 5365       |\n",
       "| 서울특별시 | 광진구     | 303582     | 235471     | 109922     | 113733     | 7072       |\n",
       "| 서울특별시 | 동대문구   | 300928     | 232106     | 108171     | 112890     | 6416       |\n",
       "\n"
      ],
      "text/plain": [
       "  광역시도   시군구   선거인수 투표수 이재명 윤석열 심상정\n",
       "1 서울특별시 종로구   129968   100629  46130  49172 3115  \n",
       "2 서울특별시 중구     111448    84998  38244  42906 2310  \n",
       "3 서울특별시 용산구   199077   152068  60063  85047 4374  \n",
       "4 서울특별시 성동구   252087   197240  84411 103880 5365  \n",
       "5 서울특별시 광진구   303582   235471 109922 113733 7072  \n",
       "6 서울특별시 동대문구 300928   232106 108171 112890 6416  "
      ]
     },
     "metadata": {},
     "output_type": "display_data"
    },
    {
     "name": "stderr",
     "output_type": "stream",
     "text": [
      "\n",
      "Attaching package: ‘dplyr’\n",
      "\n",
      "The following objects are masked from ‘package:stats’:\n",
      "\n",
      "    filter, lag\n",
      "\n",
      "The following objects are masked from ‘package:base’:\n",
      "\n",
      "    intersect, setdiff, setequal, union\n",
      "\n"
     ]
    }
   ],
   "source": [
    "# 데이터 불러오기\n",
    "election <- read.csv(\"../Data/election_2022.csv\", stringsAsFactors = F)\n",
    "head(election)\n",
    "library(dplyr) #aggregate,arrange\n",
    "#library(plotrix) #pie3D"
   ]
  },
  {
   "cell_type": "code",
   "execution_count": 2,
   "id": "568c57f7",
   "metadata": {},
   "outputs": [],
   "source": [
    "vote.전체투표율 <- c(47.83, 48.56,2.37 )"
   ]
  },
  {
   "cell_type": "code",
   "execution_count": 3,
   "id": "f21284ec",
   "metadata": {},
   "outputs": [
    {
     "data": {
      "text/html": [
       "<ol class=list-inline>\n",
       "\t<li>47.83</li>\n",
       "\t<li>48.56</li>\n",
       "\t<li>2.37</li>\n",
       "</ol>\n"
      ],
      "text/latex": [
       "\\begin{enumerate*}\n",
       "\\item 47.83\n",
       "\\item 48.56\n",
       "\\item 2.37\n",
       "\\end{enumerate*}\n"
      ],
      "text/markdown": [
       "1. 47.83\n",
       "2. 48.56\n",
       "3. 2.37\n",
       "\n",
       "\n"
      ],
      "text/plain": [
       "[1] 47.83 48.56  2.37"
      ]
     },
     "metadata": {},
     "output_type": "display_data"
    }
   ],
   "source": [
    "vote.전체투표율"
   ]
  },
  {
   "cell_type": "code",
   "execution_count": 4,
   "id": "5f6a0b52",
   "metadata": {},
   "outputs": [],
   "source": [
    "vote.투표율 <- election[,5:7]/ election[,4] * 100\n",
    "vote.투표율  <- cbind(시군구=election$시군구, vote.투표율 )"
   ]
  },
  {
   "cell_type": "code",
   "execution_count": 5,
   "id": "663fc579",
   "metadata": {
    "scrolled": true
   },
   "outputs": [
    {
     "data": {
      "text/html": [
       "<table>\n",
       "<thead><tr><th scope=col>시군구</th><th scope=col>이재명</th><th scope=col>윤석열</th><th scope=col>심상정</th></tr></thead>\n",
       "<tbody>\n",
       "\t<tr><td>종로구  </td><td>45.84166</td><td>48.86464</td><td>3.095529</td></tr>\n",
       "\t<tr><td>중구    </td><td>44.99400</td><td>50.47883</td><td>2.717711</td></tr>\n",
       "\t<tr><td>용산구  </td><td>39.49746</td><td>55.92695</td><td>2.876345</td></tr>\n",
       "\t<tr><td>성동구  </td><td>42.79609</td><td>52.66680</td><td>2.720037</td></tr>\n",
       "\t<tr><td>광진구  </td><td>46.68176</td><td>48.30022</td><td>3.003342</td></tr>\n",
       "\t<tr><td>동대문구</td><td>46.60414</td><td>48.63726</td><td>2.764254</td></tr>\n",
       "\t<tr><td>중랑구  </td><td>49.98083</td><td>45.31170</td><td>2.644693</td></tr>\n",
       "\t<tr><td>성북구  </td><td>48.83927</td><td>46.21835</td><td>3.063791</td></tr>\n",
       "\t<tr><td>강북구  </td><td>51.80949</td><td>43.38976</td><td>2.629758</td></tr>\n",
       "\t<tr><td>도봉구  </td><td>49.31863</td><td>46.18675</td><td>2.594475</td></tr>\n",
       "\t<tr><td>노원구  </td><td>48.46162</td><td>46.76250</td><td>2.868905</td></tr>\n",
       "\t<tr><td>은평구  </td><td>50.79394</td><td>44.23863</td><td>3.055310</td></tr>\n",
       "\t<tr><td>서대문구</td><td>47.84852</td><td>47.00371</td><td>3.271881</td></tr>\n",
       "\t<tr><td>마포구  </td><td>46.02175</td><td>48.52391</td><td>3.632844</td></tr>\n",
       "\t<tr><td>양천구  </td><td>45.98396</td><td>49.69822</td><td>2.595071</td></tr>\n",
       "\t<tr><td>강서구  </td><td>48.68711</td><td>46.51157</td><td>2.844352</td></tr>\n",
       "\t<tr><td>구로구  </td><td>48.74212</td><td>46.58105</td><td>2.762348</td></tr>\n",
       "\t<tr><td>금천구  </td><td>51.07651</td><td>44.08380</td><td>2.724233</td></tr>\n",
       "\t<tr><td>영등포구</td><td>44.17731</td><td>51.15923</td><td>2.893608</td></tr>\n",
       "\t<tr><td>동작구  </td><td>45.27052</td><td>49.99190</td><td>2.897131</td></tr>\n",
       "\t<tr><td>관악구  </td><td>49.67647</td><td>44.58804</td><td>3.299851</td></tr>\n",
       "\t<tr><td>서초구  </td><td>31.91544</td><td>64.58662</td><td>2.110279</td></tr>\n",
       "\t<tr><td>강남구  </td><td>30.12165</td><td>66.49144</td><td>1.978702</td></tr>\n",
       "\t<tr><td>송파구  </td><td>39.79618</td><td>56.26147</td><td>2.348656</td></tr>\n",
       "\t<tr><td>강동구  </td><td>44.43508</td><td>51.27441</td><td>2.563513</td></tr>\n",
       "\t<tr><td>중구    </td><td>36.22665</td><td>58.93535</td><td>2.189142</td></tr>\n",
       "\t<tr><td>서구    </td><td>36.04448</td><td>59.42453</td><td>2.160892</td></tr>\n",
       "\t<tr><td>동구    </td><td>36.33820</td><td>59.13259</td><td>2.005866</td></tr>\n",
       "\t<tr><td>영도구  </td><td>41.23661</td><td>54.47724</td><td>1.908056</td></tr>\n",
       "\t<tr><td>부산진구</td><td>38.21967</td><td>57.08773</td><td>2.233225</td></tr>\n",
       "\t<tr><td>...</td><td>...</td><td>...</td><td>...</td></tr>\n",
       "\t<tr><td>의성군          </td><td>16.38680        </td><td>79.43942        </td><td>1.388712        </td></tr>\n",
       "\t<tr><td>청송군          </td><td>19.77753        </td><td>75.93805        </td><td>1.586034        </td></tr>\n",
       "\t<tr><td>영양군          </td><td>23.14177        </td><td>72.69190        </td><td>1.685985        </td></tr>\n",
       "\t<tr><td>영덕군          </td><td>16.76642        </td><td>79.58837        </td><td>1.197050        </td></tr>\n",
       "\t<tr><td>봉화군          </td><td>23.12943        </td><td>72.44902        </td><td>1.589818        </td></tr>\n",
       "\t<tr><td>울진군          </td><td>20.53422        </td><td>75.38457        </td><td>1.419032        </td></tr>\n",
       "\t<tr><td>창원시의창구    </td><td>36.54963        </td><td>57.95628        </td><td>2.659667        </td></tr>\n",
       "\t<tr><td>창원시성산구    </td><td>39.49892        </td><td>54.73062        </td><td>3.191571        </td></tr>\n",
       "\t<tr><td>창원시마산합포구</td><td>31.14002        </td><td>64.10261        </td><td>2.164925        </td></tr>\n",
       "\t<tr><td>창원시마산회원구</td><td>33.15979        </td><td>61.71057        </td><td>2.324467        </td></tr>\n",
       "\t<tr><td>창원시진해구    </td><td>38.49445        </td><td>55.61353        </td><td>2.579438        </td></tr>\n",
       "\t<tr><td>진주시          </td><td>32.84948        </td><td>61.96733        </td><td>2.443940        </td></tr>\n",
       "\t<tr><td>통영시          </td><td>32.95080        </td><td>62.15285        </td><td>1.964286        </td></tr>\n",
       "\t<tr><td>고성군          </td><td>30.14537        </td><td>64.71000        </td><td>1.878987        </td></tr>\n",
       "\t<tr><td>사천시          </td><td>32.63668        </td><td>62.21925        </td><td>2.202809        </td></tr>\n",
       "\t<tr><td>김해시          </td><td>45.76207        </td><td>48.82519        </td><td>2.613836        </td></tr>\n",
       "\t<tr><td>밀양시          </td><td>31.18336        </td><td>63.88845        </td><td>2.074051        </td></tr>\n",
       "\t<tr><td>거제시          </td><td>44.23602        </td><td>49.33428        </td><td>2.877352        </td></tr>\n",
       "\t<tr><td>의령군          </td><td>28.26759        </td><td>66.13757        </td><td>1.828278        </td></tr>\n",
       "\t<tr><td>함안군          </td><td>32.31318        </td><td>62.37228        </td><td>2.203824        </td></tr>\n",
       "\t<tr><td>창녕군          </td><td>26.40999        </td><td>68.81959        </td><td>1.729427        </td></tr>\n",
       "\t<tr><td>양산시          </td><td>41.78530        </td><td>53.01745        </td><td>2.432642        </td></tr>\n",
       "\t<tr><td>하동군          </td><td>34.95902        </td><td>59.12930        </td><td>2.253109        </td></tr>\n",
       "\t<tr><td>남해군          </td><td>33.47856        </td><td>61.07205        </td><td>2.231244        </td></tr>\n",
       "\t<tr><td>함양군          </td><td>31.63050        </td><td>62.90855        </td><td>1.958820        </td></tr>\n",
       "\t<tr><td>산청군          </td><td>28.59953        </td><td>66.65998        </td><td>1.862481        </td></tr>\n",
       "\t<tr><td>거창군          </td><td>28.89683        </td><td>65.83251        </td><td>2.161888        </td></tr>\n",
       "\t<tr><td>합천군          </td><td>22.10106        </td><td>72.72785        </td><td>1.634154        </td></tr>\n",
       "\t<tr><td>제주시          </td><td>53.12708        </td><td>41.12982        </td><td>3.371335        </td></tr>\n",
       "\t<tr><td>서귀포시        </td><td>49.13448        </td><td>45.14150        </td><td>3.182862        </td></tr>\n",
       "</tbody>\n",
       "</table>\n"
      ],
      "text/latex": [
       "\\begin{tabular}{r|llll}\n",
       " 시군구 & 이재명 & 윤석열 & 심상정\\\\\n",
       "\\hline\n",
       "\t 종로구   & 45.84166 & 48.86464 & 3.095529\\\\\n",
       "\t 중구     & 44.99400 & 50.47883 & 2.717711\\\\\n",
       "\t 용산구   & 39.49746 & 55.92695 & 2.876345\\\\\n",
       "\t 성동구   & 42.79609 & 52.66680 & 2.720037\\\\\n",
       "\t 광진구   & 46.68176 & 48.30022 & 3.003342\\\\\n",
       "\t 동대문구 & 46.60414 & 48.63726 & 2.764254\\\\\n",
       "\t 중랑구   & 49.98083 & 45.31170 & 2.644693\\\\\n",
       "\t 성북구   & 48.83927 & 46.21835 & 3.063791\\\\\n",
       "\t 강북구   & 51.80949 & 43.38976 & 2.629758\\\\\n",
       "\t 도봉구   & 49.31863 & 46.18675 & 2.594475\\\\\n",
       "\t 노원구   & 48.46162 & 46.76250 & 2.868905\\\\\n",
       "\t 은평구   & 50.79394 & 44.23863 & 3.055310\\\\\n",
       "\t 서대문구 & 47.84852 & 47.00371 & 3.271881\\\\\n",
       "\t 마포구   & 46.02175 & 48.52391 & 3.632844\\\\\n",
       "\t 양천구   & 45.98396 & 49.69822 & 2.595071\\\\\n",
       "\t 강서구   & 48.68711 & 46.51157 & 2.844352\\\\\n",
       "\t 구로구   & 48.74212 & 46.58105 & 2.762348\\\\\n",
       "\t 금천구   & 51.07651 & 44.08380 & 2.724233\\\\\n",
       "\t 영등포구 & 44.17731 & 51.15923 & 2.893608\\\\\n",
       "\t 동작구   & 45.27052 & 49.99190 & 2.897131\\\\\n",
       "\t 관악구   & 49.67647 & 44.58804 & 3.299851\\\\\n",
       "\t 서초구   & 31.91544 & 64.58662 & 2.110279\\\\\n",
       "\t 강남구   & 30.12165 & 66.49144 & 1.978702\\\\\n",
       "\t 송파구   & 39.79618 & 56.26147 & 2.348656\\\\\n",
       "\t 강동구   & 44.43508 & 51.27441 & 2.563513\\\\\n",
       "\t 중구     & 36.22665 & 58.93535 & 2.189142\\\\\n",
       "\t 서구     & 36.04448 & 59.42453 & 2.160892\\\\\n",
       "\t 동구     & 36.33820 & 59.13259 & 2.005866\\\\\n",
       "\t 영도구   & 41.23661 & 54.47724 & 1.908056\\\\\n",
       "\t 부산진구 & 38.21967 & 57.08773 & 2.233225\\\\\n",
       "\t ... & ... & ... & ...\\\\\n",
       "\t 의성군           & 16.38680         & 79.43942         & 1.388712        \\\\\n",
       "\t 청송군           & 19.77753         & 75.93805         & 1.586034        \\\\\n",
       "\t 영양군           & 23.14177         & 72.69190         & 1.685985        \\\\\n",
       "\t 영덕군           & 16.76642         & 79.58837         & 1.197050        \\\\\n",
       "\t 봉화군           & 23.12943         & 72.44902         & 1.589818        \\\\\n",
       "\t 울진군           & 20.53422         & 75.38457         & 1.419032        \\\\\n",
       "\t 창원시의창구     & 36.54963         & 57.95628         & 2.659667        \\\\\n",
       "\t 창원시성산구     & 39.49892         & 54.73062         & 3.191571        \\\\\n",
       "\t 창원시마산합포구 & 31.14002         & 64.10261         & 2.164925        \\\\\n",
       "\t 창원시마산회원구 & 33.15979         & 61.71057         & 2.324467        \\\\\n",
       "\t 창원시진해구     & 38.49445         & 55.61353         & 2.579438        \\\\\n",
       "\t 진주시           & 32.84948         & 61.96733         & 2.443940        \\\\\n",
       "\t 통영시           & 32.95080         & 62.15285         & 1.964286        \\\\\n",
       "\t 고성군           & 30.14537         & 64.71000         & 1.878987        \\\\\n",
       "\t 사천시           & 32.63668         & 62.21925         & 2.202809        \\\\\n",
       "\t 김해시           & 45.76207         & 48.82519         & 2.613836        \\\\\n",
       "\t 밀양시           & 31.18336         & 63.88845         & 2.074051        \\\\\n",
       "\t 거제시           & 44.23602         & 49.33428         & 2.877352        \\\\\n",
       "\t 의령군           & 28.26759         & 66.13757         & 1.828278        \\\\\n",
       "\t 함안군           & 32.31318         & 62.37228         & 2.203824        \\\\\n",
       "\t 창녕군           & 26.40999         & 68.81959         & 1.729427        \\\\\n",
       "\t 양산시           & 41.78530         & 53.01745         & 2.432642        \\\\\n",
       "\t 하동군           & 34.95902         & 59.12930         & 2.253109        \\\\\n",
       "\t 남해군           & 33.47856         & 61.07205         & 2.231244        \\\\\n",
       "\t 함양군           & 31.63050         & 62.90855         & 1.958820        \\\\\n",
       "\t 산청군           & 28.59953         & 66.65998         & 1.862481        \\\\\n",
       "\t 거창군           & 28.89683         & 65.83251         & 2.161888        \\\\\n",
       "\t 합천군           & 22.10106         & 72.72785         & 1.634154        \\\\\n",
       "\t 제주시           & 53.12708         & 41.12982         & 3.371335        \\\\\n",
       "\t 서귀포시         & 49.13448         & 45.14150         & 3.182862        \\\\\n",
       "\\end{tabular}\n"
      ],
      "text/markdown": [
       "\n",
       "| 시군구 | 이재명 | 윤석열 | 심상정 |\n",
       "|---|---|---|---|\n",
       "| 종로구   | 45.84166 | 48.86464 | 3.095529 |\n",
       "| 중구     | 44.99400 | 50.47883 | 2.717711 |\n",
       "| 용산구   | 39.49746 | 55.92695 | 2.876345 |\n",
       "| 성동구   | 42.79609 | 52.66680 | 2.720037 |\n",
       "| 광진구   | 46.68176 | 48.30022 | 3.003342 |\n",
       "| 동대문구 | 46.60414 | 48.63726 | 2.764254 |\n",
       "| 중랑구   | 49.98083 | 45.31170 | 2.644693 |\n",
       "| 성북구   | 48.83927 | 46.21835 | 3.063791 |\n",
       "| 강북구   | 51.80949 | 43.38976 | 2.629758 |\n",
       "| 도봉구   | 49.31863 | 46.18675 | 2.594475 |\n",
       "| 노원구   | 48.46162 | 46.76250 | 2.868905 |\n",
       "| 은평구   | 50.79394 | 44.23863 | 3.055310 |\n",
       "| 서대문구 | 47.84852 | 47.00371 | 3.271881 |\n",
       "| 마포구   | 46.02175 | 48.52391 | 3.632844 |\n",
       "| 양천구   | 45.98396 | 49.69822 | 2.595071 |\n",
       "| 강서구   | 48.68711 | 46.51157 | 2.844352 |\n",
       "| 구로구   | 48.74212 | 46.58105 | 2.762348 |\n",
       "| 금천구   | 51.07651 | 44.08380 | 2.724233 |\n",
       "| 영등포구 | 44.17731 | 51.15923 | 2.893608 |\n",
       "| 동작구   | 45.27052 | 49.99190 | 2.897131 |\n",
       "| 관악구   | 49.67647 | 44.58804 | 3.299851 |\n",
       "| 서초구   | 31.91544 | 64.58662 | 2.110279 |\n",
       "| 강남구   | 30.12165 | 66.49144 | 1.978702 |\n",
       "| 송파구   | 39.79618 | 56.26147 | 2.348656 |\n",
       "| 강동구   | 44.43508 | 51.27441 | 2.563513 |\n",
       "| 중구     | 36.22665 | 58.93535 | 2.189142 |\n",
       "| 서구     | 36.04448 | 59.42453 | 2.160892 |\n",
       "| 동구     | 36.33820 | 59.13259 | 2.005866 |\n",
       "| 영도구   | 41.23661 | 54.47724 | 1.908056 |\n",
       "| 부산진구 | 38.21967 | 57.08773 | 2.233225 |\n",
       "| ... | ... | ... | ... |\n",
       "| 의성군           | 16.38680         | 79.43942         | 1.388712         |\n",
       "| 청송군           | 19.77753         | 75.93805         | 1.586034         |\n",
       "| 영양군           | 23.14177         | 72.69190         | 1.685985         |\n",
       "| 영덕군           | 16.76642         | 79.58837         | 1.197050         |\n",
       "| 봉화군           | 23.12943         | 72.44902         | 1.589818         |\n",
       "| 울진군           | 20.53422         | 75.38457         | 1.419032         |\n",
       "| 창원시의창구     | 36.54963         | 57.95628         | 2.659667         |\n",
       "| 창원시성산구     | 39.49892         | 54.73062         | 3.191571         |\n",
       "| 창원시마산합포구 | 31.14002         | 64.10261         | 2.164925         |\n",
       "| 창원시마산회원구 | 33.15979         | 61.71057         | 2.324467         |\n",
       "| 창원시진해구     | 38.49445         | 55.61353         | 2.579438         |\n",
       "| 진주시           | 32.84948         | 61.96733         | 2.443940         |\n",
       "| 통영시           | 32.95080         | 62.15285         | 1.964286         |\n",
       "| 고성군           | 30.14537         | 64.71000         | 1.878987         |\n",
       "| 사천시           | 32.63668         | 62.21925         | 2.202809         |\n",
       "| 김해시           | 45.76207         | 48.82519         | 2.613836         |\n",
       "| 밀양시           | 31.18336         | 63.88845         | 2.074051         |\n",
       "| 거제시           | 44.23602         | 49.33428         | 2.877352         |\n",
       "| 의령군           | 28.26759         | 66.13757         | 1.828278         |\n",
       "| 함안군           | 32.31318         | 62.37228         | 2.203824         |\n",
       "| 창녕군           | 26.40999         | 68.81959         | 1.729427         |\n",
       "| 양산시           | 41.78530         | 53.01745         | 2.432642         |\n",
       "| 하동군           | 34.95902         | 59.12930         | 2.253109         |\n",
       "| 남해군           | 33.47856         | 61.07205         | 2.231244         |\n",
       "| 함양군           | 31.63050         | 62.90855         | 1.958820         |\n",
       "| 산청군           | 28.59953         | 66.65998         | 1.862481         |\n",
       "| 거창군           | 28.89683         | 65.83251         | 2.161888         |\n",
       "| 합천군           | 22.10106         | 72.72785         | 1.634154         |\n",
       "| 제주시           | 53.12708         | 41.12982         | 3.371335         |\n",
       "| 서귀포시         | 49.13448         | 45.14150         | 3.182862         |\n",
       "\n"
      ],
      "text/plain": [
       "    시군구           이재명   윤석열   심상정  \n",
       "1   종로구           45.84166 48.86464 3.095529\n",
       "2   중구             44.99400 50.47883 2.717711\n",
       "3   용산구           39.49746 55.92695 2.876345\n",
       "4   성동구           42.79609 52.66680 2.720037\n",
       "5   광진구           46.68176 48.30022 3.003342\n",
       "6   동대문구         46.60414 48.63726 2.764254\n",
       "7   중랑구           49.98083 45.31170 2.644693\n",
       "8   성북구           48.83927 46.21835 3.063791\n",
       "9   강북구           51.80949 43.38976 2.629758\n",
       "10  도봉구           49.31863 46.18675 2.594475\n",
       "11  노원구           48.46162 46.76250 2.868905\n",
       "12  은평구           50.79394 44.23863 3.055310\n",
       "13  서대문구         47.84852 47.00371 3.271881\n",
       "14  마포구           46.02175 48.52391 3.632844\n",
       "15  양천구           45.98396 49.69822 2.595071\n",
       "16  강서구           48.68711 46.51157 2.844352\n",
       "17  구로구           48.74212 46.58105 2.762348\n",
       "18  금천구           51.07651 44.08380 2.724233\n",
       "19  영등포구         44.17731 51.15923 2.893608\n",
       "20  동작구           45.27052 49.99190 2.897131\n",
       "21  관악구           49.67647 44.58804 3.299851\n",
       "22  서초구           31.91544 64.58662 2.110279\n",
       "23  강남구           30.12165 66.49144 1.978702\n",
       "24  송파구           39.79618 56.26147 2.348656\n",
       "25  강동구           44.43508 51.27441 2.563513\n",
       "26  중구             36.22665 58.93535 2.189142\n",
       "27  서구             36.04448 59.42453 2.160892\n",
       "28  동구             36.33820 59.13259 2.005866\n",
       "29  영도구           41.23661 54.47724 1.908056\n",
       "30  부산진구         38.21967 57.08773 2.233225\n",
       "... ...              ...      ...      ...     \n",
       "219 의성군           16.38680 79.43942 1.388712\n",
       "220 청송군           19.77753 75.93805 1.586034\n",
       "221 영양군           23.14177 72.69190 1.685985\n",
       "222 영덕군           16.76642 79.58837 1.197050\n",
       "223 봉화군           23.12943 72.44902 1.589818\n",
       "224 울진군           20.53422 75.38457 1.419032\n",
       "225 창원시의창구     36.54963 57.95628 2.659667\n",
       "226 창원시성산구     39.49892 54.73062 3.191571\n",
       "227 창원시마산합포구 31.14002 64.10261 2.164925\n",
       "228 창원시마산회원구 33.15979 61.71057 2.324467\n",
       "229 창원시진해구     38.49445 55.61353 2.579438\n",
       "230 진주시           32.84948 61.96733 2.443940\n",
       "231 통영시           32.95080 62.15285 1.964286\n",
       "232 고성군           30.14537 64.71000 1.878987\n",
       "233 사천시           32.63668 62.21925 2.202809\n",
       "234 김해시           45.76207 48.82519 2.613836\n",
       "235 밀양시           31.18336 63.88845 2.074051\n",
       "236 거제시           44.23602 49.33428 2.877352\n",
       "237 의령군           28.26759 66.13757 1.828278\n",
       "238 함안군           32.31318 62.37228 2.203824\n",
       "239 창녕군           26.40999 68.81959 1.729427\n",
       "240 양산시           41.78530 53.01745 2.432642\n",
       "241 하동군           34.95902 59.12930 2.253109\n",
       "242 남해군           33.47856 61.07205 2.231244\n",
       "243 함양군           31.63050 62.90855 1.958820\n",
       "244 산청군           28.59953 66.65998 1.862481\n",
       "245 거창군           28.89683 65.83251 2.161888\n",
       "246 합천군           22.10106 72.72785 1.634154\n",
       "247 제주시           53.12708 41.12982 3.371335\n",
       "248 서귀포시         49.13448 45.14150 3.182862"
      ]
     },
     "metadata": {},
     "output_type": "display_data"
    }
   ],
   "source": [
    "vote.투표율"
   ]
  },
  {
   "cell_type": "code",
   "execution_count": 6,
   "id": "3d3b47c0",
   "metadata": {},
   "outputs": [],
   "source": [
    "vote.투표율  <- vote.투표율 [((abs(vote.투표율 [,2]- vote.전체투표율[1]) < 1) \n",
    "                & (abs(vote.투표율 [,3]-vote.전체투표율[2]) < 1) \n",
    "                & (abs(vote.투표율 [,4]-vote.전체투표율[3]) < 1) \n",
    "                & (vote.투표율 [,2] < vote.투표율 [,3])),] # 윤석열이 큰조건 이재명보다"
   ]
  },
  {
   "cell_type": "code",
   "execution_count": 7,
   "id": "711552e9",
   "metadata": {},
   "outputs": [
    {
     "data": {
      "text/html": [
       "<table>\n",
       "<thead><tr><th></th><th scope=col>시군구</th><th scope=col>이재명</th><th scope=col>윤석열</th><th scope=col>심상정</th></tr></thead>\n",
       "<tbody>\n",
       "\t<tr><th scope=row>51</th><td>동구        </td><td>46.91089    </td><td>48.04976    </td><td>2.922919    </td></tr>\n",
       "\t<tr><th scope=row>52</th><td>미추홀구    </td><td>47.08443    </td><td>47.80874    </td><td>2.743668    </td></tr>\n",
       "\t<tr><th scope=row>68</th><td>유성구      </td><td>47.05121    </td><td>48.19437    </td><td>2.810061    </td></tr>\n",
       "\t<tr><th scope=row>69</th><td>대덕구      </td><td>46.89525    </td><td>47.79644    </td><td>2.721743    </td></tr>\n",
       "\t<tr><th scope=row>137</th><td>청주시흥덕구</td><td>47.00549    </td><td>47.62376    </td><td>2.914169    </td></tr>\n",
       "</tbody>\n",
       "</table>\n"
      ],
      "text/latex": [
       "\\begin{tabular}{r|llll}\n",
       "  & 시군구 & 이재명 & 윤석열 & 심상정\\\\\n",
       "\\hline\n",
       "\t51 & 동구         & 46.91089     & 48.04976     & 2.922919    \\\\\n",
       "\t52 & 미추홀구     & 47.08443     & 47.80874     & 2.743668    \\\\\n",
       "\t68 & 유성구       & 47.05121     & 48.19437     & 2.810061    \\\\\n",
       "\t69 & 대덕구       & 46.89525     & 47.79644     & 2.721743    \\\\\n",
       "\t137 & 청주시흥덕구 & 47.00549     & 47.62376     & 2.914169    \\\\\n",
       "\\end{tabular}\n"
      ],
      "text/markdown": [
       "\n",
       "| <!--/--> | 시군구 | 이재명 | 윤석열 | 심상정 |\n",
       "|---|---|---|---|---|\n",
       "| 51 | 동구         | 46.91089     | 48.04976     | 2.922919     |\n",
       "| 52 | 미추홀구     | 47.08443     | 47.80874     | 2.743668     |\n",
       "| 68 | 유성구       | 47.05121     | 48.19437     | 2.810061     |\n",
       "| 69 | 대덕구       | 46.89525     | 47.79644     | 2.721743     |\n",
       "| 137 | 청주시흥덕구 | 47.00549     | 47.62376     | 2.914169     |\n",
       "\n"
      ],
      "text/plain": [
       "    시군구       이재명   윤석열   심상정  \n",
       "51  동구         46.91089 48.04976 2.922919\n",
       "52  미추홀구     47.08443 47.80874 2.743668\n",
       "68  유성구       47.05121 48.19437 2.810061\n",
       "69  대덕구       46.89525 47.79644 2.721743\n",
       "137 청주시흥덕구 47.00549 47.62376 2.914169"
      ]
     },
     "metadata": {},
     "output_type": "display_data"
    }
   ],
   "source": [
    "vote.투표율"
   ]
  },
  {
   "cell_type": "code",
   "execution_count": 8,
   "id": "c34e7e7d",
   "metadata": {},
   "outputs": [],
   "source": [
    "vote.투표율$투표율오차 <- (abs(vote.투표율[,2] - vote.전체투표율[1]) + abs(vote.투표율 [,3] - vote.전체투표율[2]) + abs(vote.투표율 [,4] - vote.전체투표율[3]))\n",
    "vote.투표율  <- arrange(vote.투표율 ,투표율오차) #절대값을 각각씌어서 투표율 오차를 만들었음"
   ]
  },
  {
   "cell_type": "code",
   "execution_count": 9,
   "id": "5d136681",
   "metadata": {},
   "outputs": [
    {
     "data": {
      "text/html": [
       "<table>\n",
       "<thead><tr><th scope=col>시군구</th><th scope=col>이재명</th><th scope=col>윤석열</th><th scope=col>심상정</th><th scope=col>투표율오차</th></tr></thead>\n",
       "<tbody>\n",
       "\t<tr><td>유성구      </td><td>47.05121    </td><td>48.19437    </td><td>2.810061    </td><td>1.584484    </td></tr>\n",
       "\t<tr><td>미추홀구    </td><td>47.08443    </td><td>47.80874    </td><td>2.743668    </td><td>1.870498    </td></tr>\n",
       "\t<tr><td>동구        </td><td>46.91089    </td><td>48.04976    </td><td>2.922919    </td><td>1.982266    </td></tr>\n",
       "\t<tr><td>대덕구      </td><td>46.89525    </td><td>47.79644    </td><td>2.721743    </td><td>2.050051    </td></tr>\n",
       "\t<tr><td>청주시흥덕구</td><td>47.00549    </td><td>47.62376    </td><td>2.914169    </td><td>2.304917    </td></tr>\n",
       "</tbody>\n",
       "</table>\n"
      ],
      "text/latex": [
       "\\begin{tabular}{r|lllll}\n",
       " 시군구 & 이재명 & 윤석열 & 심상정 & 투표율오차\\\\\n",
       "\\hline\n",
       "\t 유성구       & 47.05121     & 48.19437     & 2.810061     & 1.584484    \\\\\n",
       "\t 미추홀구     & 47.08443     & 47.80874     & 2.743668     & 1.870498    \\\\\n",
       "\t 동구         & 46.91089     & 48.04976     & 2.922919     & 1.982266    \\\\\n",
       "\t 대덕구       & 46.89525     & 47.79644     & 2.721743     & 2.050051    \\\\\n",
       "\t 청주시흥덕구 & 47.00549     & 47.62376     & 2.914169     & 2.304917    \\\\\n",
       "\\end{tabular}\n"
      ],
      "text/markdown": [
       "\n",
       "| 시군구 | 이재명 | 윤석열 | 심상정 | 투표율오차 |\n",
       "|---|---|---|---|---|\n",
       "| 유성구       | 47.05121     | 48.19437     | 2.810061     | 1.584484     |\n",
       "| 미추홀구     | 47.08443     | 47.80874     | 2.743668     | 1.870498     |\n",
       "| 동구         | 46.91089     | 48.04976     | 2.922919     | 1.982266     |\n",
       "| 대덕구       | 46.89525     | 47.79644     | 2.721743     | 2.050051     |\n",
       "| 청주시흥덕구 | 47.00549     | 47.62376     | 2.914169     | 2.304917     |\n",
       "\n"
      ],
      "text/plain": [
       "  시군구       이재명   윤석열   심상정   투표율오차\n",
       "1 유성구       47.05121 48.19437 2.810061 1.584484  \n",
       "2 미추홀구     47.08443 47.80874 2.743668 1.870498  \n",
       "3 동구         46.91089 48.04976 2.922919 1.982266  \n",
       "4 대덕구       46.89525 47.79644 2.721743 2.050051  \n",
       "5 청주시흥덕구 47.00549 47.62376 2.914169 2.304917  "
      ]
     },
     "metadata": {},
     "output_type": "display_data"
    }
   ],
   "source": [
    "vote.투표율"
   ]
  },
  {
   "cell_type": "code",
   "execution_count": 10,
   "id": "ed6ffe8b",
   "metadata": {},
   "outputs": [
    {
     "data": {
      "image/png": "[encoded data removed]",
      "text/plain": [
       "Plot with title “각 시군구별 실제 투표율과 가장 유사한 지역 Top 5”"
      ]
     },
     "metadata": {},
     "output_type": "display_data"
    }
   ],
   "source": [
    "par(family = \"AppleGothic\")\n",
    "options(warn = -1)\n",
    "barplot(vote.투표율$투표율오차,\n",
    "        main = \"각 시군구별 실제 투표율과 가장 유사한 지역 Top 5\",\n",
    "        ylim = c(0,2.5),\n",
    "        col = \"darkblue\",\n",
    "        names = vote.투표율$시군구,\n",
    "        cex.names = 0.7\n",
    "       )"
   ]
  },
  {
   "cell_type": "code",
   "execution_count": null,
   "id": "7e557e96",
   "metadata": {},
   "outputs": [],
   "source": []
  }
 ],
 "metadata": {
  "kernelspec": {
   "display_name": "R",
   "language": "R",
   "name": "ir"
  },
  "language_info": {
   "codemirror_mode": "r",
   "file_extension": ".r",
   "mimetype": "text/x-r-source",
   "name": "R",
   "pygments_lexer": "r",
   "version": "3.6.1"
  }
 },
 "nbformat": 4,
 "nbformat_minor": 5
}

{
 "cells": [
  {
   "cell_type": "markdown",
   "id": "f92d8437",
   "metadata": {},
   "source": [
    "# 기술 통계량을 계산하는 함수 정의"
   ]
  },
  {
   "cell_type": "code",
   "execution_count": 5,
   "id": "9ee9e974",
   "metadata": {},
   "outputs": [
    {
     "data": {
      "text/html": [
       "<table>\n",
       "<thead><tr><th scope=col>A</th><th scope=col>B</th><th scope=col>C</th><th scope=col>D</th><th scope=col>E</th></tr></thead>\n",
       "<tbody>\n",
       "\t<tr><td>2</td><td>4</td><td>4</td><td>2</td><td>2</td></tr>\n",
       "\t<tr><td>1</td><td>2</td><td>2</td><td>2</td><td>2</td></tr>\n",
       "\t<tr><td>2</td><td>3</td><td>4</td><td>3</td><td>3</td></tr>\n",
       "\t<tr><td>3</td><td>5</td><td>5</td><td>3</td><td>3</td></tr>\n",
       "\t<tr><td>3</td><td>2</td><td>4</td><td>4</td><td>4</td></tr>\n",
       "\t<tr><td>4</td><td>3</td><td>3</td><td>4</td><td>2</td></tr>\n",
       "</tbody>\n",
       "</table>\n"
      ],
      "text/latex": [
       "\\begin{tabular}{r|lllll}\n",
       " A & B & C & D & E\\\\\n",
       "\\hline\n",
       "\t 2 & 4 & 4 & 2 & 2\\\\\n",
       "\t 1 & 2 & 2 & 2 & 2\\\\\n",
       "\t 2 & 3 & 4 & 3 & 3\\\\\n",
       "\t 3 & 5 & 5 & 3 & 3\\\\\n",
       "\t 3 & 2 & 4 & 4 & 4\\\\\n",
       "\t 4 & 3 & 3 & 4 & 2\\\\\n",
       "\\end{tabular}\n"
      ],
      "text/markdown": [
       "\n",
       "| A | B | C | D | E |\n",
       "|---|---|---|---|---|\n",
       "| 2 | 4 | 4 | 2 | 2 |\n",
       "| 1 | 2 | 2 | 2 | 2 |\n",
       "| 2 | 3 | 4 | 3 | 3 |\n",
       "| 3 | 5 | 5 | 3 | 3 |\n",
       "| 3 | 2 | 4 | 4 | 4 |\n",
       "| 4 | 3 | 3 | 4 | 2 |\n",
       "\n"
      ],
      "text/plain": [
       "  A B C D E\n",
       "1 2 4 4 2 2\n",
       "2 1 2 2 2 2\n",
       "3 2 3 4 3 3\n",
       "4 3 5 5 3 3\n",
       "5 3 2 4 4 4\n",
       "6 4 3 3 4 2"
      ]
     },
     "metadata": {},
     "output_type": "display_data"
    }
   ],
   "source": [
    "test <- read.csv(\"../../Data/test.csv\")\n",
    "head(test)"
   ]
  },
  {
   "cell_type": "code",
   "execution_count": 6,
   "id": "733778e6",
   "metadata": {},
   "outputs": [
    {
     "name": "stdout",
     "output_type": "stream",
     "text": [
      "'data.frame':\t402 obs. of  5 variables:\n",
      " $ A: int  2 1 2 3 3 4 3 4 4 4 ...\n",
      " $ B: int  4 2 3 5 2 3 4 2 4 2 ...\n",
      " $ C: int  4 2 4 5 4 3 4 4 5 4 ...\n",
      " $ D: int  2 2 3 3 4 4 2 4 3 2 ...\n",
      " $ E: int  2 2 3 3 4 2 2 4 4 3 ...\n"
     ]
    }
   ],
   "source": [
    "str(test)"
   ]
  },
  {
   "cell_type": "code",
   "execution_count": 7,
   "id": "2a9fa395",
   "metadata": {},
   "outputs": [
    {
     "data": {
      "text/plain": [
       "       A               B               C               D              E        \n",
       " Min.   :1.000   Min.   :1.000   Min.   :1.000   Min.   :1.00   Min.   :1.000  \n",
       " 1st Qu.:2.000   1st Qu.:2.000   1st Qu.:3.000   1st Qu.:2.00   1st Qu.:3.000  \n",
       " Median :3.000   Median :3.000   Median :4.000   Median :2.00   Median :4.000  \n",
       " Mean   :2.734   Mean   :2.908   Mean   :3.622   Mean   :2.51   Mean   :3.386  \n",
       " 3rd Qu.:3.000   3rd Qu.:4.000   3rd Qu.:4.000   3rd Qu.:3.00   3rd Qu.:4.000  \n",
       " Max.   :5.000   Max.   :5.000   Max.   :5.000   Max.   :4.00   Max.   :5.000  "
      ]
     },
     "metadata": {},
     "output_type": "display_data"
    }
   ],
   "source": [
    "summary(test)"
   ]
  },
  {
   "cell_type": "code",
   "execution_count": 8,
   "id": "338eadbe",
   "metadata": {},
   "outputs": [
    {
     "data": {
      "text/html": [
       "5"
      ],
      "text/latex": [
       "5"
      ],
      "text/markdown": [
       "5"
      ],
      "text/plain": [
       "[1] 5"
      ]
     },
     "metadata": {},
     "output_type": "display_data"
    },
    {
     "data": {
      "text/html": [
       "1"
      ],
      "text/latex": [
       "1"
      ],
      "text/markdown": [
       "1"
      ],
      "text/plain": [
       "[1] 1"
      ]
     },
     "metadata": {},
     "output_type": "display_data"
    },
    {
     "name": "stdout",
     "output_type": "stream",
     "text": [
      "\n",
      "  1   2   3   4   5 \n",
      " 30 133 156  80   3 \n"
     ]
    }
   ],
   "source": [
    "# A 컬럼의 최대값, 최소값, 빈도수 구하기\n",
    "\n",
    "max(test$A)\n",
    "min(test$A)\n",
    "print(table(test$A))"
   ]
  },
  {
   "cell_type": "code",
   "execution_count": 21,
   "id": "052d4398",
   "metadata": {},
   "outputs": [
    {
     "name": "stdout",
     "output_type": "stream",
     "text": [
      "A 번째 컬럼의 빈도 분석 결과\n",
      "  1   2   3   4   5 \n",
      " 30 133 156  80   3 \n",
      "---------------------\n",
      "B 번째 컬럼의 빈도 분석 결과\n",
      "  1   2   3   4   5 \n",
      " 16 150  98 131   7 \n",
      "---------------------\n",
      "C 번째 컬럼의 빈도 분석 결과\n",
      "  1   2   3   4   5 \n",
      "  3  74  72 176  77 \n",
      "---------------------\n",
      "D 번째 컬럼의 빈도 분석 결과\n",
      "  1   2   3   4 \n",
      " 30 178 153  41 \n",
      "---------------------\n",
      "E 번째 컬럼의 빈도 분석 결과\n",
      "  1   2   3   4   5 \n",
      "  8  81 107 160  46 \n",
      "---------------------\n"
     ]
    }
   ],
   "source": [
    "# 각 컬럼의 빈도수 구하기\n",
    "#test[,1]\n",
    "#ncol(test) # nrow(test) 데이터 갯수\n",
    "\n",
    "for(i in 1:ncol(test)){\n",
    "    cat(colnames(test)[i],\"번째 컬럼의 빈도 분석 결과\")\n",
    "    print(table(test[,i]))\n",
    "    cat(\"---------------------\\n\")\n",
    "    \n",
    "    }\n"
   ]
  },
  {
   "cell_type": "code",
   "execution_count": 16,
   "id": "c5da82eb",
   "metadata": {},
   "outputs": [
    {
     "data": {
      "text/html": [
       "<table>\n",
       "<thead><tr><th scope=col>A</th><th scope=col>B</th><th scope=col>C</th><th scope=col>D</th><th scope=col>E</th></tr></thead>\n",
       "<tbody>\n",
       "\t<tr><td>2</td><td>4</td><td>4</td><td>2</td><td>2</td></tr>\n",
       "\t<tr><td>1</td><td>2</td><td>2</td><td>2</td><td>2</td></tr>\n",
       "\t<tr><td>2</td><td>3</td><td>4</td><td>3</td><td>3</td></tr>\n",
       "\t<tr><td>3</td><td>5</td><td>5</td><td>3</td><td>3</td></tr>\n",
       "\t<tr><td>3</td><td>2</td><td>4</td><td>4</td><td>4</td></tr>\n",
       "\t<tr><td>4</td><td>3</td><td>3</td><td>4</td><td>2</td></tr>\n",
       "</tbody>\n",
       "</table>\n"
      ],
      "text/latex": [
       "\\begin{tabular}{r|lllll}\n",
       " A & B & C & D & E\\\\\n",
       "\\hline\n",
       "\t 2 & 4 & 4 & 2 & 2\\\\\n",
       "\t 1 & 2 & 2 & 2 & 2\\\\\n",
       "\t 2 & 3 & 4 & 3 & 3\\\\\n",
       "\t 3 & 5 & 5 & 3 & 3\\\\\n",
       "\t 3 & 2 & 4 & 4 & 4\\\\\n",
       "\t 4 & 3 & 3 & 4 & 2\\\\\n",
       "\\end{tabular}\n"
      ],
      "text/markdown": [
       "\n",
       "| A | B | C | D | E |\n",
       "|---|---|---|---|---|\n",
       "| 2 | 4 | 4 | 2 | 2 |\n",
       "| 1 | 2 | 2 | 2 | 2 |\n",
       "| 2 | 3 | 4 | 3 | 3 |\n",
       "| 3 | 5 | 5 | 3 | 3 |\n",
       "| 3 | 2 | 4 | 4 | 4 |\n",
       "| 4 | 3 | 3 | 4 | 2 |\n",
       "\n"
      ],
      "text/plain": [
       "  A B C D E\n",
       "1 2 4 4 2 2\n",
       "2 1 2 2 2 2\n",
       "3 2 3 4 3 3\n",
       "4 3 5 5 3 3\n",
       "5 3 2 4 4 4\n",
       "6 4 3 3 4 2"
      ]
     },
     "metadata": {},
     "output_type": "display_data"
    }
   ],
   "source": [
    "head(test)"
   ]
  },
  {
   "cell_type": "code",
   "execution_count": 42,
   "id": "1b2c9c1c",
   "metadata": {},
   "outputs": [
    {
     "name": "stdout",
     "output_type": "stream",
     "text": [
      "A 번째 컬럼 빈도수의 최대값과 최소값\n",
      "최대값: 156 ,최소값 : 3 \n",
      "---------------------\n",
      "B 번째 컬럼 빈도수의 최대값과 최소값\n",
      "최대값: 150 ,최소값 : 7 \n",
      "---------------------\n",
      "C 번째 컬럼 빈도수의 최대값과 최소값\n",
      "최대값: 176 ,최소값 : 3 \n",
      "---------------------\n",
      "D 번째 컬럼 빈도수의 최대값과 최소값\n",
      "최대값: 178 ,최소값 : 30 \n",
      "---------------------\n",
      "E 번째 컬럼 빈도수의 최대값과 최소값\n",
      "최대값: 160 ,최소값 : 8 \n",
      "---------------------\n"
     ]
    }
   ],
   "source": [
    "# 각 컬럼 빈도수의 최대값, 최솟값 구하기\n",
    "\n",
    "for(i in 1:ncol(test)){\n",
    "    cat(colnames(test)[i],\"번째 컬럼 빈도수의 최대값과 최소값\\n\")\n",
    "    f <- table(test[,i])\n",
    "    cat(\"최대값:\" , max(f),\",최소값 :\", min(f),\"\\n\")\n",
    "    cat(\"---------------------\\n\")\n",
    "    \n",
    "    }\n",
    "\n"
   ]
  },
  {
   "cell_type": "code",
   "execution_count": 46,
   "id": "d21cd264",
   "metadata": {},
   "outputs": [],
   "source": [
    "# 각 컬럼의 빈도수 구하기와 각 걸럼의 최대값,최소값 구하는 함수 만들기\n",
    "\n",
    "tableMaxMin <- function(x){\n",
    "    for(i in 1:ncol(x)){\n",
    "    cat(colnames(x)[i],\"번째 컬럼의 빈도 분석 결과\")\n",
    "    print(table(x[,i]))\n",
    "    cat(\"---------------------\\n\") \n",
    "    cat(colnames(x)[i],\"번째 컬럼 빈도수의 최대값과 최소값\\n\")\n",
    "    f <- table(x[,i])\n",
    "    cat(\"최대값:\" , max(f),\",최소값 :\", min(f),\"\\n\")\n",
    "    cat(\"---------------------\\n\")\n",
    "    \n",
    "    }\n",
    "   \n",
    "}"
   ]
  },
  {
   "cell_type": "code",
   "execution_count": 47,
   "id": "41428467",
   "metadata": {},
   "outputs": [
    {
     "name": "stdout",
     "output_type": "stream",
     "text": [
      "A 번째 컬럼의 빈도 분석 결과\n",
      "  1   2   3   4   5 \n",
      " 30 133 156  80   3 \n",
      "---------------------\n",
      "A 번째 컬럼 빈도수의 최대값과 최소값\n",
      "최대값: 156 ,최소값 : 3 \n",
      "---------------------\n",
      "B 번째 컬럼의 빈도 분석 결과\n",
      "  1   2   3   4   5 \n",
      " 16 150  98 131   7 \n",
      "---------------------\n",
      "B 번째 컬럼 빈도수의 최대값과 최소값\n",
      "최대값: 150 ,최소값 : 7 \n",
      "---------------------\n",
      "C 번째 컬럼의 빈도 분석 결과\n",
      "  1   2   3   4   5 \n",
      "  3  74  72 176  77 \n",
      "---------------------\n",
      "C 번째 컬럼 빈도수의 최대값과 최소값\n",
      "최대값: 176 ,최소값 : 3 \n",
      "---------------------\n",
      "D 번째 컬럼의 빈도 분석 결과\n",
      "  1   2   3   4 \n",
      " 30 178 153  41 \n",
      "---------------------\n",
      "D 번째 컬럼 빈도수의 최대값과 최소값\n",
      "최대값: 178 ,최소값 : 30 \n",
      "---------------------\n",
      "E 번째 컬럼의 빈도 분석 결과\n",
      "  1   2   3   4   5 \n",
      "  8  81 107 160  46 \n",
      "---------------------\n",
      "E 번째 컬럼 빈도수의 최대값과 최소값\n",
      "최대값: 160 ,최소값 : 8 \n",
      "---------------------\n"
     ]
    }
   ],
   "source": [
    "tableMaxMin(test)"
   ]
  },
  {
   "cell_type": "code",
   "execution_count": null,
   "id": "f3283bb0",
   "metadata": {},
   "outputs": [],
   "source": []
  }
 ],
 "metadata": {
  "kernelspec": {
   "display_name": "R",
   "language": "R",
   "name": "ir"
  },
  "language_info": {
   "codemirror_mode": "r",
   "file_extension": ".r",
   "mimetype": "text/x-r-source",
   "name": "R",
   "pygments_lexer": "r",
   "version": "3.6.1"
  }
 },
 "nbformat": 4,
 "nbformat_minor": 5
}

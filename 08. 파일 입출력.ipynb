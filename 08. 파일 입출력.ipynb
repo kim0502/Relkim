{
 "cells": [
  {
   "cell_type": "code",
   "execution_count": 123,
   "id": "b90e0b4b",
   "metadata": {
    "vscode": {
     "languageId": "r"
    }
   },
   "outputs": [],
   "source": [
    "no <- 1:4\n",
    "name <- c(\"Apple\", \"Banana\",\"Peach\",\"Berry\")\n",
    "price <- c(500,200,200,50)\n",
    "qty <- c(5,4,3,2)"
   ]
  },
  {
   "cell_type": "code",
   "execution_count": 124,
   "id": "043c5fa2",
   "metadata": {
    "vscode": {
     "languageId": "r"
    }
   },
   "outputs": [
    {
     "data": {
      "text/html": [
       "<table>\n",
       "<thead><tr><th scope=col>번호</th><th scope=col>제품</th><th scope=col>금액</th><th scope=col>수량</th></tr></thead>\n",
       "<tbody>\n",
       "\t<tr><td>1     </td><td>Apple </td><td>500   </td><td>5     </td></tr>\n",
       "\t<tr><td>2     </td><td>Banana</td><td>200   </td><td>4     </td></tr>\n",
       "\t<tr><td>3     </td><td>Peach </td><td>200   </td><td>3     </td></tr>\n",
       "\t<tr><td>4     </td><td>Berry </td><td> 50   </td><td>2     </td></tr>\n",
       "</tbody>\n",
       "</table>\n"
      ],
      "text/latex": [
       "\\begin{tabular}{r|llll}\n",
       " 번호 & 제품 & 금액 & 수량\\\\\n",
       "\\hline\n",
       "\t 1      & Apple  & 500    & 5     \\\\\n",
       "\t 2      & Banana & 200    & 4     \\\\\n",
       "\t 3      & Peach  & 200    & 3     \\\\\n",
       "\t 4      & Berry  &  50    & 2     \\\\\n",
       "\\end{tabular}\n"
      ],
      "text/markdown": [
       "\n",
       "| 번호 | 제품 | 금액 | 수량 |\n",
       "|---|---|---|---|\n",
       "| 1      | Apple  | 500    | 5      |\n",
       "| 2      | Banana | 200    | 4      |\n",
       "| 3      | Peach  | 200    | 3      |\n",
       "| 4      | Berry  |  50    | 2      |\n",
       "\n"
      ],
      "text/plain": [
       "  번호 제품   금액 수량\n",
       "1 1    Apple  500  5   \n",
       "2 2    Banana 200  4   \n",
       "3 3    Peach  200  3   \n",
       "4 4    Berry   50  2   "
      ]
     },
     "metadata": {},
     "output_type": "display_data"
    }
   ],
   "source": [
    "# 벡터를 이용항 데이터프레임 만들기\n",
    "\n",
    "fruit <- data.frame(번호=no, 제품=name, 금액=price, 수량=qty)  #컬럼명=벡터\n",
    "fruit\n"
   ]
  },
  {
   "cell_type": "code",
   "execution_count": 125,
   "id": "ff45986e",
   "metadata": {
    "vscode": {
     "languageId": "r"
    }
   },
   "outputs": [
    {
     "data": {
      "text/html": [
       "<ol class=list-inline>\n",
       "\t<li>'fruit'</li>\n",
       "\t<li>'fruit2'</li>\n",
       "\t<li>'GDP_ranking'</li>\n",
       "\t<li>'GDP_ranking15'</li>\n",
       "\t<li>'GDP_ranking2'</li>\n",
       "\t<li>'i'</li>\n",
       "\t<li>'iris.test'</li>\n",
       "\t<li>'iris.train'</li>\n",
       "\t<li>'iris_setosa'</li>\n",
       "\t<li>'irisSamp'</li>\n",
       "\t<li>'irisSample'</li>\n",
       "\t<li>'name'</li>\n",
       "\t<li>'no'</li>\n",
       "\t<li>'price'</li>\n",
       "\t<li>'qty'</li>\n",
       "\t<li>'samp'</li>\n",
       "\t<li>'sample'</li>\n",
       "</ol>\n"
      ],
      "text/latex": [
       "\\begin{enumerate*}\n",
       "\\item 'fruit'\n",
       "\\item 'fruit2'\n",
       "\\item 'GDP\\_ranking'\n",
       "\\item 'GDP\\_ranking15'\n",
       "\\item 'GDP\\_ranking2'\n",
       "\\item 'i'\n",
       "\\item 'iris.test'\n",
       "\\item 'iris.train'\n",
       "\\item 'iris\\_setosa'\n",
       "\\item 'irisSamp'\n",
       "\\item 'irisSample'\n",
       "\\item 'name'\n",
       "\\item 'no'\n",
       "\\item 'price'\n",
       "\\item 'qty'\n",
       "\\item 'samp'\n",
       "\\item 'sample'\n",
       "\\end{enumerate*}\n"
      ],
      "text/markdown": [
       "1. 'fruit'\n",
       "2. 'fruit2'\n",
       "3. 'GDP_ranking'\n",
       "4. 'GDP_ranking15'\n",
       "5. 'GDP_ranking2'\n",
       "6. 'i'\n",
       "7. 'iris.test'\n",
       "8. 'iris.train'\n",
       "9. 'iris_setosa'\n",
       "10. 'irisSamp'\n",
       "11. 'irisSample'\n",
       "12. 'name'\n",
       "13. 'no'\n",
       "14. 'price'\n",
       "15. 'qty'\n",
       "16. 'samp'\n",
       "17. 'sample'\n",
       "\n",
       "\n"
      ],
      "text/plain": [
       " [1] \"fruit\"         \"fruit2\"        \"GDP_ranking\"   \"GDP_ranking15\"\n",
       " [5] \"GDP_ranking2\"  \"i\"             \"iris.test\"     \"iris.train\"   \n",
       " [9] \"iris_setosa\"   \"irisSamp\"      \"irisSample\"    \"name\"         \n",
       "[13] \"no\"            \"price\"         \"qty\"           \"samp\"         \n",
       "[17] \"sample\"       "
      ]
     },
     "metadata": {},
     "output_type": "display_data"
    }
   ],
   "source": [
    "# 현재 메모리에 있는 변수 보기\n",
    "\n",
    "ls()"
   ]
  },
  {
   "cell_type": "code",
   "execution_count": 126,
   "id": "d2b90e0d",
   "metadata": {
    "vscode": {
     "languageId": "r"
    }
   },
   "outputs": [],
   "source": [
    "# 메모리 형태로 파일 보관\n",
    "\n",
    "save(no, fruit, name, file = \"../Data/testFruit.txt\")\n"
   ]
  },
  {
   "cell_type": "code",
   "execution_count": 127,
   "id": "606282ed",
   "metadata": {
    "vscode": {
     "languageId": "r"
    }
   },
   "outputs": [],
   "source": [
    "rm(no, fruit, name)"
   ]
  },
  {
   "cell_type": "code",
   "execution_count": 128,
   "id": "6395bd87",
   "metadata": {
    "vscode": {
     "languageId": "r"
    }
   },
   "outputs": [
    {
     "data": {
      "text/html": [
       "<ol class=list-inline>\n",
       "\t<li>'fruit2'</li>\n",
       "\t<li>'GDP_ranking'</li>\n",
       "\t<li>'GDP_ranking15'</li>\n",
       "\t<li>'GDP_ranking2'</li>\n",
       "\t<li>'i'</li>\n",
       "\t<li>'iris.test'</li>\n",
       "\t<li>'iris.train'</li>\n",
       "\t<li>'iris_setosa'</li>\n",
       "\t<li>'irisSamp'</li>\n",
       "\t<li>'irisSample'</li>\n",
       "\t<li>'price'</li>\n",
       "\t<li>'qty'</li>\n",
       "\t<li>'samp'</li>\n",
       "\t<li>'sample'</li>\n",
       "</ol>\n"
      ],
      "text/latex": [
       "\\begin{enumerate*}\n",
       "\\item 'fruit2'\n",
       "\\item 'GDP\\_ranking'\n",
       "\\item 'GDP\\_ranking15'\n",
       "\\item 'GDP\\_ranking2'\n",
       "\\item 'i'\n",
       "\\item 'iris.test'\n",
       "\\item 'iris.train'\n",
       "\\item 'iris\\_setosa'\n",
       "\\item 'irisSamp'\n",
       "\\item 'irisSample'\n",
       "\\item 'price'\n",
       "\\item 'qty'\n",
       "\\item 'samp'\n",
       "\\item 'sample'\n",
       "\\end{enumerate*}\n"
      ],
      "text/markdown": [
       "1. 'fruit2'\n",
       "2. 'GDP_ranking'\n",
       "3. 'GDP_ranking15'\n",
       "4. 'GDP_ranking2'\n",
       "5. 'i'\n",
       "6. 'iris.test'\n",
       "7. 'iris.train'\n",
       "8. 'iris_setosa'\n",
       "9. 'irisSamp'\n",
       "10. 'irisSample'\n",
       "11. 'price'\n",
       "12. 'qty'\n",
       "13. 'samp'\n",
       "14. 'sample'\n",
       "\n",
       "\n"
      ],
      "text/plain": [
       " [1] \"fruit2\"        \"GDP_ranking\"   \"GDP_ranking15\" \"GDP_ranking2\" \n",
       " [5] \"i\"             \"iris.test\"     \"iris.train\"    \"iris_setosa\"  \n",
       " [9] \"irisSamp\"      \"irisSample\"    \"price\"         \"qty\"          \n",
       "[13] \"samp\"          \"sample\"       "
      ]
     },
     "metadata": {},
     "output_type": "display_data"
    }
   ],
   "source": [
    "ls()"
   ]
  },
  {
   "cell_type": "code",
   "execution_count": 129,
   "id": "cca7c5a3",
   "metadata": {
    "vscode": {
     "languageId": "r"
    }
   },
   "outputs": [],
   "source": [
    "# fruit를 csv로 저장하기\n",
    "\n",
    "write.csv(fruit,\"../Data/fruit.csv\") # csv는 엑셀로도 볼수있다. 콤마로 나눌 수 있다."
   ]
  },
  {
   "cell_type": "code",
   "execution_count": 130,
   "id": "b83f2e58",
   "metadata": {
    "vscode": {
     "languageId": "r"
    }
   },
   "outputs": [],
   "source": [
    "fruit <- read.csv(\"../Data/fruit.csv\") #rowname"
   ]
  },
  {
   "cell_type": "code",
   "execution_count": 131,
   "id": "8a404548",
   "metadata": {
    "vscode": {
     "languageId": "r"
    }
   },
   "outputs": [],
   "source": [
    "write.csv(fruit,\"../Data/fruit2.csv\", fileEncoding=\"utf-8\")"
   ]
  },
  {
   "cell_type": "code",
   "execution_count": 132,
   "id": "29b95ecd",
   "metadata": {
    "vscode": {
     "languageId": "r"
    }
   },
   "outputs": [
    {
     "data": {
      "text/html": [
       "<table>\n",
       "<thead><tr><th scope=col>X.1</th><th scope=col>X</th><th scope=col>x</th></tr></thead>\n",
       "<tbody>\n",
       "\t<tr><td> 1          </td><td> 1          </td><td>apple       </td></tr>\n",
       "\t<tr><td> 2          </td><td> 2          </td><td>apricot     </td></tr>\n",
       "\t<tr><td> 3          </td><td> 3          </td><td>avocado     </td></tr>\n",
       "\t<tr><td> 4          </td><td> 4          </td><td>banana      </td></tr>\n",
       "\t<tr><td> 5          </td><td> 5          </td><td>bell pepper </td></tr>\n",
       "\t<tr><td> 6          </td><td> 6          </td><td>bilberry    </td></tr>\n",
       "\t<tr><td> 7          </td><td> 7          </td><td>blackberry  </td></tr>\n",
       "\t<tr><td> 8          </td><td> 8          </td><td>blackcurrant</td></tr>\n",
       "\t<tr><td> 9          </td><td> 9          </td><td>blood orange</td></tr>\n",
       "\t<tr><td>10          </td><td>10          </td><td>blueberry   </td></tr>\n",
       "\t<tr><td>11          </td><td>11          </td><td>boysenberry </td></tr>\n",
       "\t<tr><td>12          </td><td>12          </td><td>breadfruit  </td></tr>\n",
       "\t<tr><td>13          </td><td>13          </td><td>canary melon</td></tr>\n",
       "\t<tr><td>14          </td><td>14          </td><td>cantaloupe  </td></tr>\n",
       "\t<tr><td>15          </td><td>15          </td><td>cherimoya   </td></tr>\n",
       "\t<tr><td>16          </td><td>16          </td><td>cherry      </td></tr>\n",
       "\t<tr><td>17          </td><td>17          </td><td>chili pepper</td></tr>\n",
       "\t<tr><td>18          </td><td>18          </td><td>clementine  </td></tr>\n",
       "\t<tr><td>19          </td><td>19          </td><td>cloudberry  </td></tr>\n",
       "\t<tr><td>20          </td><td>20          </td><td>coconut     </td></tr>\n",
       "\t<tr><td>21          </td><td>21          </td><td>cranberry   </td></tr>\n",
       "\t<tr><td>22          </td><td>22          </td><td>cucumber    </td></tr>\n",
       "\t<tr><td>23          </td><td>23          </td><td>currant     </td></tr>\n",
       "\t<tr><td>24          </td><td>24          </td><td>damson      </td></tr>\n",
       "\t<tr><td>25          </td><td>25          </td><td>date        </td></tr>\n",
       "\t<tr><td>26          </td><td>26          </td><td>dragonfruit </td></tr>\n",
       "\t<tr><td>27          </td><td>27          </td><td>durian      </td></tr>\n",
       "\t<tr><td>28          </td><td>28          </td><td>eggplant    </td></tr>\n",
       "\t<tr><td>29          </td><td>29          </td><td>elderberry  </td></tr>\n",
       "\t<tr><td>30          </td><td>30          </td><td>feijoa      </td></tr>\n",
       "\t<tr><td>...</td><td>...</td><td>...</td></tr>\n",
       "\t<tr><td>51               </td><td>51               </td><td>nectarine        </td></tr>\n",
       "\t<tr><td>52               </td><td>52               </td><td>nut              </td></tr>\n",
       "\t<tr><td>53               </td><td>53               </td><td>olive            </td></tr>\n",
       "\t<tr><td>54               </td><td>54               </td><td>orange           </td></tr>\n",
       "\t<tr><td>55               </td><td>55               </td><td>pamelo           </td></tr>\n",
       "\t<tr><td>56               </td><td>56               </td><td>papaya           </td></tr>\n",
       "\t<tr><td>57               </td><td>57               </td><td>passionfruit     </td></tr>\n",
       "\t<tr><td>58               </td><td>58               </td><td>peach            </td></tr>\n",
       "\t<tr><td>59               </td><td>59               </td><td>pear             </td></tr>\n",
       "\t<tr><td>60               </td><td>60               </td><td>persimmon        </td></tr>\n",
       "\t<tr><td>61               </td><td>61               </td><td>physalis         </td></tr>\n",
       "\t<tr><td>62               </td><td>62               </td><td>pineapple        </td></tr>\n",
       "\t<tr><td>63               </td><td>63               </td><td>plum             </td></tr>\n",
       "\t<tr><td>64               </td><td>64               </td><td>pomegranate      </td></tr>\n",
       "\t<tr><td>65               </td><td>65               </td><td>pomelo           </td></tr>\n",
       "\t<tr><td>66               </td><td>66               </td><td>purple mangosteen</td></tr>\n",
       "\t<tr><td>67               </td><td>67               </td><td>quince           </td></tr>\n",
       "\t<tr><td>68               </td><td>68               </td><td>raisin           </td></tr>\n",
       "\t<tr><td>69               </td><td>69               </td><td>rambutan         </td></tr>\n",
       "\t<tr><td>70               </td><td>70               </td><td>raspberry        </td></tr>\n",
       "\t<tr><td>71               </td><td>71               </td><td>redcurrant       </td></tr>\n",
       "\t<tr><td>72               </td><td>72               </td><td>rock melon       </td></tr>\n",
       "\t<tr><td>73               </td><td>73               </td><td>salal berry      </td></tr>\n",
       "\t<tr><td>74               </td><td>74               </td><td>satsuma          </td></tr>\n",
       "\t<tr><td>75               </td><td>75               </td><td>star fruit       </td></tr>\n",
       "\t<tr><td>76               </td><td>76               </td><td>strawberry       </td></tr>\n",
       "\t<tr><td>77               </td><td>77               </td><td>tamarillo        </td></tr>\n",
       "\t<tr><td>78               </td><td>78               </td><td>tangerine        </td></tr>\n",
       "\t<tr><td>79               </td><td>79               </td><td>ugli fruit       </td></tr>\n",
       "\t<tr><td>80               </td><td>80               </td><td>watermelon       </td></tr>\n",
       "</tbody>\n",
       "</table>\n"
      ],
      "text/latex": [
       "\\begin{tabular}{r|lll}\n",
       " X.1 & X & x\\\\\n",
       "\\hline\n",
       "\t  1           &  1           & apple       \\\\\n",
       "\t  2           &  2           & apricot     \\\\\n",
       "\t  3           &  3           & avocado     \\\\\n",
       "\t  4           &  4           & banana      \\\\\n",
       "\t  5           &  5           & bell pepper \\\\\n",
       "\t  6           &  6           & bilberry    \\\\\n",
       "\t  7           &  7           & blackberry  \\\\\n",
       "\t  8           &  8           & blackcurrant\\\\\n",
       "\t  9           &  9           & blood orange\\\\\n",
       "\t 10           & 10           & blueberry   \\\\\n",
       "\t 11           & 11           & boysenberry \\\\\n",
       "\t 12           & 12           & breadfruit  \\\\\n",
       "\t 13           & 13           & canary melon\\\\\n",
       "\t 14           & 14           & cantaloupe  \\\\\n",
       "\t 15           & 15           & cherimoya   \\\\\n",
       "\t 16           & 16           & cherry      \\\\\n",
       "\t 17           & 17           & chili pepper\\\\\n",
       "\t 18           & 18           & clementine  \\\\\n",
       "\t 19           & 19           & cloudberry  \\\\\n",
       "\t 20           & 20           & coconut     \\\\\n",
       "\t 21           & 21           & cranberry   \\\\\n",
       "\t 22           & 22           & cucumber    \\\\\n",
       "\t 23           & 23           & currant     \\\\\n",
       "\t 24           & 24           & damson      \\\\\n",
       "\t 25           & 25           & date        \\\\\n",
       "\t 26           & 26           & dragonfruit \\\\\n",
       "\t 27           & 27           & durian      \\\\\n",
       "\t 28           & 28           & eggplant    \\\\\n",
       "\t 29           & 29           & elderberry  \\\\\n",
       "\t 30           & 30           & feijoa      \\\\\n",
       "\t ... & ... & ...\\\\\n",
       "\t 51                & 51                & nectarine        \\\\\n",
       "\t 52                & 52                & nut              \\\\\n",
       "\t 53                & 53                & olive            \\\\\n",
       "\t 54                & 54                & orange           \\\\\n",
       "\t 55                & 55                & pamelo           \\\\\n",
       "\t 56                & 56                & papaya           \\\\\n",
       "\t 57                & 57                & passionfruit     \\\\\n",
       "\t 58                & 58                & peach            \\\\\n",
       "\t 59                & 59                & pear             \\\\\n",
       "\t 60                & 60                & persimmon        \\\\\n",
       "\t 61                & 61                & physalis         \\\\\n",
       "\t 62                & 62                & pineapple        \\\\\n",
       "\t 63                & 63                & plum             \\\\\n",
       "\t 64                & 64                & pomegranate      \\\\\n",
       "\t 65                & 65                & pomelo           \\\\\n",
       "\t 66                & 66                & purple mangosteen\\\\\n",
       "\t 67                & 67                & quince           \\\\\n",
       "\t 68                & 68                & raisin           \\\\\n",
       "\t 69                & 69                & rambutan         \\\\\n",
       "\t 70                & 70                & raspberry        \\\\\n",
       "\t 71                & 71                & redcurrant       \\\\\n",
       "\t 72                & 72                & rock melon       \\\\\n",
       "\t 73                & 73                & salal berry      \\\\\n",
       "\t 74                & 74                & satsuma          \\\\\n",
       "\t 75                & 75                & star fruit       \\\\\n",
       "\t 76                & 76                & strawberry       \\\\\n",
       "\t 77                & 77                & tamarillo        \\\\\n",
       "\t 78                & 78                & tangerine        \\\\\n",
       "\t 79                & 79                & ugli fruit       \\\\\n",
       "\t 80                & 80                & watermelon       \\\\\n",
       "\\end{tabular}\n"
      ],
      "text/markdown": [
       "\n",
       "| X.1 | X | x |\n",
       "|---|---|---|\n",
       "|  1           |  1           | apple        |\n",
       "|  2           |  2           | apricot      |\n",
       "|  3           |  3           | avocado      |\n",
       "|  4           |  4           | banana       |\n",
       "|  5           |  5           | bell pepper  |\n",
       "|  6           |  6           | bilberry     |\n",
       "|  7           |  7           | blackberry   |\n",
       "|  8           |  8           | blackcurrant |\n",
       "|  9           |  9           | blood orange |\n",
       "| 10           | 10           | blueberry    |\n",
       "| 11           | 11           | boysenberry  |\n",
       "| 12           | 12           | breadfruit   |\n",
       "| 13           | 13           | canary melon |\n",
       "| 14           | 14           | cantaloupe   |\n",
       "| 15           | 15           | cherimoya    |\n",
       "| 16           | 16           | cherry       |\n",
       "| 17           | 17           | chili pepper |\n",
       "| 18           | 18           | clementine   |\n",
       "| 19           | 19           | cloudberry   |\n",
       "| 20           | 20           | coconut      |\n",
       "| 21           | 21           | cranberry    |\n",
       "| 22           | 22           | cucumber     |\n",
       "| 23           | 23           | currant      |\n",
       "| 24           | 24           | damson       |\n",
       "| 25           | 25           | date         |\n",
       "| 26           | 26           | dragonfruit  |\n",
       "| 27           | 27           | durian       |\n",
       "| 28           | 28           | eggplant     |\n",
       "| 29           | 29           | elderberry   |\n",
       "| 30           | 30           | feijoa       |\n",
       "| ... | ... | ... |\n",
       "| 51                | 51                | nectarine         |\n",
       "| 52                | 52                | nut               |\n",
       "| 53                | 53                | olive             |\n",
       "| 54                | 54                | orange            |\n",
       "| 55                | 55                | pamelo            |\n",
       "| 56                | 56                | papaya            |\n",
       "| 57                | 57                | passionfruit      |\n",
       "| 58                | 58                | peach             |\n",
       "| 59                | 59                | pear              |\n",
       "| 60                | 60                | persimmon         |\n",
       "| 61                | 61                | physalis          |\n",
       "| 62                | 62                | pineapple         |\n",
       "| 63                | 63                | plum              |\n",
       "| 64                | 64                | pomegranate       |\n",
       "| 65                | 65                | pomelo            |\n",
       "| 66                | 66                | purple mangosteen |\n",
       "| 67                | 67                | quince            |\n",
       "| 68                | 68                | raisin            |\n",
       "| 69                | 69                | rambutan          |\n",
       "| 70                | 70                | raspberry         |\n",
       "| 71                | 71                | redcurrant        |\n",
       "| 72                | 72                | rock melon        |\n",
       "| 73                | 73                | salal berry       |\n",
       "| 74                | 74                | satsuma           |\n",
       "| 75                | 75                | star fruit        |\n",
       "| 76                | 76                | strawberry        |\n",
       "| 77                | 77                | tamarillo         |\n",
       "| 78                | 78                | tangerine         |\n",
       "| 79                | 79                | ugli fruit        |\n",
       "| 80                | 80                | watermelon        |\n",
       "\n"
      ],
      "text/plain": [
       "    X.1 X   x                \n",
       "1    1   1  apple            \n",
       "2    2   2  apricot          \n",
       "3    3   3  avocado          \n",
       "4    4   4  banana           \n",
       "5    5   5  bell pepper      \n",
       "6    6   6  bilberry         \n",
       "7    7   7  blackberry       \n",
       "8    8   8  blackcurrant     \n",
       "9    9   9  blood orange     \n",
       "10  10  10  blueberry        \n",
       "11  11  11  boysenberry      \n",
       "12  12  12  breadfruit       \n",
       "13  13  13  canary melon     \n",
       "14  14  14  cantaloupe       \n",
       "15  15  15  cherimoya        \n",
       "16  16  16  cherry           \n",
       "17  17  17  chili pepper     \n",
       "18  18  18  clementine       \n",
       "19  19  19  cloudberry       \n",
       "20  20  20  coconut          \n",
       "21  21  21  cranberry        \n",
       "22  22  22  cucumber         \n",
       "23  23  23  currant          \n",
       "24  24  24  damson           \n",
       "25  25  25  date             \n",
       "26  26  26  dragonfruit      \n",
       "27  27  27  durian           \n",
       "28  28  28  eggplant         \n",
       "29  29  29  elderberry       \n",
       "30  30  30  feijoa           \n",
       "... ... ... ...              \n",
       "51  51  51  nectarine        \n",
       "52  52  52  nut              \n",
       "53  53  53  olive            \n",
       "54  54  54  orange           \n",
       "55  55  55  pamelo           \n",
       "56  56  56  papaya           \n",
       "57  57  57  passionfruit     \n",
       "58  58  58  peach            \n",
       "59  59  59  pear             \n",
       "60  60  60  persimmon        \n",
       "61  61  61  physalis         \n",
       "62  62  62  pineapple        \n",
       "63  63  63  plum             \n",
       "64  64  64  pomegranate      \n",
       "65  65  65  pomelo           \n",
       "66  66  66  purple mangosteen\n",
       "67  67  67  quince           \n",
       "68  68  68  raisin           \n",
       "69  69  69  rambutan         \n",
       "70  70  70  raspberry        \n",
       "71  71  71  redcurrant       \n",
       "72  72  72  rock melon       \n",
       "73  73  73  salal berry      \n",
       "74  74  74  satsuma          \n",
       "75  75  75  star fruit       \n",
       "76  76  76  strawberry       \n",
       "77  77  77  tamarillo        \n",
       "78  78  78  tangerine        \n",
       "79  79  79  ugli fruit       \n",
       "80  80  80  watermelon       "
      ]
     },
     "metadata": {},
     "output_type": "display_data"
    }
   ],
   "source": [
    "fruit2 <-read.csv(\"../Data/fruit2.csv\", fileEncoding=\"utf-8\")\n",
    "fruit2"
   ]
  },
  {
   "cell_type": "code",
   "execution_count": 133,
   "id": "ccae2b48",
   "metadata": {
    "vscode": {
     "languageId": "r"
    }
   },
   "outputs": [
    {
     "data": {
      "text/html": [
       "<table>\n",
       "<thead><tr><th scope=col>X.1</th><th scope=col>X</th><th scope=col>x</th></tr></thead>\n",
       "<tbody>\n",
       "\t<tr><td> 1          </td><td> 1          </td><td>apple       </td></tr>\n",
       "\t<tr><td> 2          </td><td> 2          </td><td>apricot     </td></tr>\n",
       "\t<tr><td> 3          </td><td> 3          </td><td>avocado     </td></tr>\n",
       "\t<tr><td> 4          </td><td> 4          </td><td>banana      </td></tr>\n",
       "\t<tr><td> 5          </td><td> 5          </td><td>bell pepper </td></tr>\n",
       "\t<tr><td> 6          </td><td> 6          </td><td>bilberry    </td></tr>\n",
       "\t<tr><td> 7          </td><td> 7          </td><td>blackberry  </td></tr>\n",
       "\t<tr><td> 8          </td><td> 8          </td><td>blackcurrant</td></tr>\n",
       "\t<tr><td> 9          </td><td> 9          </td><td>blood orange</td></tr>\n",
       "\t<tr><td>10          </td><td>10          </td><td>blueberry   </td></tr>\n",
       "\t<tr><td>11          </td><td>11          </td><td>boysenberry </td></tr>\n",
       "\t<tr><td>12          </td><td>12          </td><td>breadfruit  </td></tr>\n",
       "\t<tr><td>13          </td><td>13          </td><td>canary melon</td></tr>\n",
       "\t<tr><td>14          </td><td>14          </td><td>cantaloupe  </td></tr>\n",
       "\t<tr><td>15          </td><td>15          </td><td>cherimoya   </td></tr>\n",
       "\t<tr><td>16          </td><td>16          </td><td>cherry      </td></tr>\n",
       "\t<tr><td>17          </td><td>17          </td><td>chili pepper</td></tr>\n",
       "\t<tr><td>18          </td><td>18          </td><td>clementine  </td></tr>\n",
       "\t<tr><td>19          </td><td>19          </td><td>cloudberry  </td></tr>\n",
       "\t<tr><td>20          </td><td>20          </td><td>coconut     </td></tr>\n",
       "\t<tr><td>21          </td><td>21          </td><td>cranberry   </td></tr>\n",
       "\t<tr><td>22          </td><td>22          </td><td>cucumber    </td></tr>\n",
       "\t<tr><td>23          </td><td>23          </td><td>currant     </td></tr>\n",
       "\t<tr><td>24          </td><td>24          </td><td>damson      </td></tr>\n",
       "\t<tr><td>25          </td><td>25          </td><td>date        </td></tr>\n",
       "\t<tr><td>26          </td><td>26          </td><td>dragonfruit </td></tr>\n",
       "\t<tr><td>27          </td><td>27          </td><td>durian      </td></tr>\n",
       "\t<tr><td>28          </td><td>28          </td><td>eggplant    </td></tr>\n",
       "\t<tr><td>29          </td><td>29          </td><td>elderberry  </td></tr>\n",
       "\t<tr><td>30          </td><td>30          </td><td>feijoa      </td></tr>\n",
       "\t<tr><td>...</td><td>...</td><td>...</td></tr>\n",
       "\t<tr><td>51               </td><td>51               </td><td>nectarine        </td></tr>\n",
       "\t<tr><td>52               </td><td>52               </td><td>nut              </td></tr>\n",
       "\t<tr><td>53               </td><td>53               </td><td>olive            </td></tr>\n",
       "\t<tr><td>54               </td><td>54               </td><td>orange           </td></tr>\n",
       "\t<tr><td>55               </td><td>55               </td><td>pamelo           </td></tr>\n",
       "\t<tr><td>56               </td><td>56               </td><td>papaya           </td></tr>\n",
       "\t<tr><td>57               </td><td>57               </td><td>passionfruit     </td></tr>\n",
       "\t<tr><td>58               </td><td>58               </td><td>peach            </td></tr>\n",
       "\t<tr><td>59               </td><td>59               </td><td>pear             </td></tr>\n",
       "\t<tr><td>60               </td><td>60               </td><td>persimmon        </td></tr>\n",
       "\t<tr><td>61               </td><td>61               </td><td>physalis         </td></tr>\n",
       "\t<tr><td>62               </td><td>62               </td><td>pineapple        </td></tr>\n",
       "\t<tr><td>63               </td><td>63               </td><td>plum             </td></tr>\n",
       "\t<tr><td>64               </td><td>64               </td><td>pomegranate      </td></tr>\n",
       "\t<tr><td>65               </td><td>65               </td><td>pomelo           </td></tr>\n",
       "\t<tr><td>66               </td><td>66               </td><td>purple mangosteen</td></tr>\n",
       "\t<tr><td>67               </td><td>67               </td><td>quince           </td></tr>\n",
       "\t<tr><td>68               </td><td>68               </td><td>raisin           </td></tr>\n",
       "\t<tr><td>69               </td><td>69               </td><td>rambutan         </td></tr>\n",
       "\t<tr><td>70               </td><td>70               </td><td>raspberry        </td></tr>\n",
       "\t<tr><td>71               </td><td>71               </td><td>redcurrant       </td></tr>\n",
       "\t<tr><td>72               </td><td>72               </td><td>rock melon       </td></tr>\n",
       "\t<tr><td>73               </td><td>73               </td><td>salal berry      </td></tr>\n",
       "\t<tr><td>74               </td><td>74               </td><td>satsuma          </td></tr>\n",
       "\t<tr><td>75               </td><td>75               </td><td>star fruit       </td></tr>\n",
       "\t<tr><td>76               </td><td>76               </td><td>strawberry       </td></tr>\n",
       "\t<tr><td>77               </td><td>77               </td><td>tamarillo        </td></tr>\n",
       "\t<tr><td>78               </td><td>78               </td><td>tangerine        </td></tr>\n",
       "\t<tr><td>79               </td><td>79               </td><td>ugli fruit       </td></tr>\n",
       "\t<tr><td>80               </td><td>80               </td><td>watermelon       </td></tr>\n",
       "</tbody>\n",
       "</table>\n"
      ],
      "text/latex": [
       "\\begin{tabular}{r|lll}\n",
       " X.1 & X & x\\\\\n",
       "\\hline\n",
       "\t  1           &  1           & apple       \\\\\n",
       "\t  2           &  2           & apricot     \\\\\n",
       "\t  3           &  3           & avocado     \\\\\n",
       "\t  4           &  4           & banana      \\\\\n",
       "\t  5           &  5           & bell pepper \\\\\n",
       "\t  6           &  6           & bilberry    \\\\\n",
       "\t  7           &  7           & blackberry  \\\\\n",
       "\t  8           &  8           & blackcurrant\\\\\n",
       "\t  9           &  9           & blood orange\\\\\n",
       "\t 10           & 10           & blueberry   \\\\\n",
       "\t 11           & 11           & boysenberry \\\\\n",
       "\t 12           & 12           & breadfruit  \\\\\n",
       "\t 13           & 13           & canary melon\\\\\n",
       "\t 14           & 14           & cantaloupe  \\\\\n",
       "\t 15           & 15           & cherimoya   \\\\\n",
       "\t 16           & 16           & cherry      \\\\\n",
       "\t 17           & 17           & chili pepper\\\\\n",
       "\t 18           & 18           & clementine  \\\\\n",
       "\t 19           & 19           & cloudberry  \\\\\n",
       "\t 20           & 20           & coconut     \\\\\n",
       "\t 21           & 21           & cranberry   \\\\\n",
       "\t 22           & 22           & cucumber    \\\\\n",
       "\t 23           & 23           & currant     \\\\\n",
       "\t 24           & 24           & damson      \\\\\n",
       "\t 25           & 25           & date        \\\\\n",
       "\t 26           & 26           & dragonfruit \\\\\n",
       "\t 27           & 27           & durian      \\\\\n",
       "\t 28           & 28           & eggplant    \\\\\n",
       "\t 29           & 29           & elderberry  \\\\\n",
       "\t 30           & 30           & feijoa      \\\\\n",
       "\t ... & ... & ...\\\\\n",
       "\t 51                & 51                & nectarine        \\\\\n",
       "\t 52                & 52                & nut              \\\\\n",
       "\t 53                & 53                & olive            \\\\\n",
       "\t 54                & 54                & orange           \\\\\n",
       "\t 55                & 55                & pamelo           \\\\\n",
       "\t 56                & 56                & papaya           \\\\\n",
       "\t 57                & 57                & passionfruit     \\\\\n",
       "\t 58                & 58                & peach            \\\\\n",
       "\t 59                & 59                & pear             \\\\\n",
       "\t 60                & 60                & persimmon        \\\\\n",
       "\t 61                & 61                & physalis         \\\\\n",
       "\t 62                & 62                & pineapple        \\\\\n",
       "\t 63                & 63                & plum             \\\\\n",
       "\t 64                & 64                & pomegranate      \\\\\n",
       "\t 65                & 65                & pomelo           \\\\\n",
       "\t 66                & 66                & purple mangosteen\\\\\n",
       "\t 67                & 67                & quince           \\\\\n",
       "\t 68                & 68                & raisin           \\\\\n",
       "\t 69                & 69                & rambutan         \\\\\n",
       "\t 70                & 70                & raspberry        \\\\\n",
       "\t 71                & 71                & redcurrant       \\\\\n",
       "\t 72                & 72                & rock melon       \\\\\n",
       "\t 73                & 73                & salal berry      \\\\\n",
       "\t 74                & 74                & satsuma          \\\\\n",
       "\t 75                & 75                & star fruit       \\\\\n",
       "\t 76                & 76                & strawberry       \\\\\n",
       "\t 77                & 77                & tamarillo        \\\\\n",
       "\t 78                & 78                & tangerine        \\\\\n",
       "\t 79                & 79                & ugli fruit       \\\\\n",
       "\t 80                & 80                & watermelon       \\\\\n",
       "\\end{tabular}\n"
      ],
      "text/markdown": [
       "\n",
       "| X.1 | X | x |\n",
       "|---|---|---|\n",
       "|  1           |  1           | apple        |\n",
       "|  2           |  2           | apricot      |\n",
       "|  3           |  3           | avocado      |\n",
       "|  4           |  4           | banana       |\n",
       "|  5           |  5           | bell pepper  |\n",
       "|  6           |  6           | bilberry     |\n",
       "|  7           |  7           | blackberry   |\n",
       "|  8           |  8           | blackcurrant |\n",
       "|  9           |  9           | blood orange |\n",
       "| 10           | 10           | blueberry    |\n",
       "| 11           | 11           | boysenberry  |\n",
       "| 12           | 12           | breadfruit   |\n",
       "| 13           | 13           | canary melon |\n",
       "| 14           | 14           | cantaloupe   |\n",
       "| 15           | 15           | cherimoya    |\n",
       "| 16           | 16           | cherry       |\n",
       "| 17           | 17           | chili pepper |\n",
       "| 18           | 18           | clementine   |\n",
       "| 19           | 19           | cloudberry   |\n",
       "| 20           | 20           | coconut      |\n",
       "| 21           | 21           | cranberry    |\n",
       "| 22           | 22           | cucumber     |\n",
       "| 23           | 23           | currant      |\n",
       "| 24           | 24           | damson       |\n",
       "| 25           | 25           | date         |\n",
       "| 26           | 26           | dragonfruit  |\n",
       "| 27           | 27           | durian       |\n",
       "| 28           | 28           | eggplant     |\n",
       "| 29           | 29           | elderberry   |\n",
       "| 30           | 30           | feijoa       |\n",
       "| ... | ... | ... |\n",
       "| 51                | 51                | nectarine         |\n",
       "| 52                | 52                | nut               |\n",
       "| 53                | 53                | olive             |\n",
       "| 54                | 54                | orange            |\n",
       "| 55                | 55                | pamelo            |\n",
       "| 56                | 56                | papaya            |\n",
       "| 57                | 57                | passionfruit      |\n",
       "| 58                | 58                | peach             |\n",
       "| 59                | 59                | pear              |\n",
       "| 60                | 60                | persimmon         |\n",
       "| 61                | 61                | physalis          |\n",
       "| 62                | 62                | pineapple         |\n",
       "| 63                | 63                | plum              |\n",
       "| 64                | 64                | pomegranate       |\n",
       "| 65                | 65                | pomelo            |\n",
       "| 66                | 66                | purple mangosteen |\n",
       "| 67                | 67                | quince            |\n",
       "| 68                | 68                | raisin            |\n",
       "| 69                | 69                | rambutan          |\n",
       "| 70                | 70                | raspberry         |\n",
       "| 71                | 71                | redcurrant        |\n",
       "| 72                | 72                | rock melon        |\n",
       "| 73                | 73                | salal berry       |\n",
       "| 74                | 74                | satsuma           |\n",
       "| 75                | 75                | star fruit        |\n",
       "| 76                | 76                | strawberry        |\n",
       "| 77                | 77                | tamarillo         |\n",
       "| 78                | 78                | tangerine         |\n",
       "| 79                | 79                | ugli fruit        |\n",
       "| 80                | 80                | watermelon        |\n",
       "\n"
      ],
      "text/plain": [
       "    X.1 X   x                \n",
       "1    1   1  apple            \n",
       "2    2   2  apricot          \n",
       "3    3   3  avocado          \n",
       "4    4   4  banana           \n",
       "5    5   5  bell pepper      \n",
       "6    6   6  bilberry         \n",
       "7    7   7  blackberry       \n",
       "8    8   8  blackcurrant     \n",
       "9    9   9  blood orange     \n",
       "10  10  10  blueberry        \n",
       "11  11  11  boysenberry      \n",
       "12  12  12  breadfruit       \n",
       "13  13  13  canary melon     \n",
       "14  14  14  cantaloupe       \n",
       "15  15  15  cherimoya        \n",
       "16  16  16  cherry           \n",
       "17  17  17  chili pepper     \n",
       "18  18  18  clementine       \n",
       "19  19  19  cloudberry       \n",
       "20  20  20  coconut          \n",
       "21  21  21  cranberry        \n",
       "22  22  22  cucumber         \n",
       "23  23  23  currant          \n",
       "24  24  24  damson           \n",
       "25  25  25  date             \n",
       "26  26  26  dragonfruit      \n",
       "27  27  27  durian           \n",
       "28  28  28  eggplant         \n",
       "29  29  29  elderberry       \n",
       "30  30  30  feijoa           \n",
       "... ... ... ...              \n",
       "51  51  51  nectarine        \n",
       "52  52  52  nut              \n",
       "53  53  53  olive            \n",
       "54  54  54  orange           \n",
       "55  55  55  pamelo           \n",
       "56  56  56  papaya           \n",
       "57  57  57  passionfruit     \n",
       "58  58  58  peach            \n",
       "59  59  59  pear             \n",
       "60  60  60  persimmon        \n",
       "61  61  61  physalis         \n",
       "62  62  62  pineapple        \n",
       "63  63  63  plum             \n",
       "64  64  64  pomegranate      \n",
       "65  65  65  pomelo           \n",
       "66  66  66  purple mangosteen\n",
       "67  67  67  quince           \n",
       "68  68  68  raisin           \n",
       "69  69  69  rambutan         \n",
       "70  70  70  raspberry        \n",
       "71  71  71  redcurrant       \n",
       "72  72  72  rock melon       \n",
       "73  73  73  salal berry      \n",
       "74  74  74  satsuma          \n",
       "75  75  75  star fruit       \n",
       "76  76  76  strawberry       \n",
       "77  77  77  tamarillo        \n",
       "78  78  78  tangerine        \n",
       "79  79  79  ugli fruit       \n",
       "80  80  80  watermelon       "
      ]
     },
     "metadata": {},
     "output_type": "display_data"
    }
   ],
   "source": [
    "read.csv(\"../Data/fruit2.csv\", fileEncoding=\"utf-8\")"
   ]
  },
  {
   "cell_type": "code",
   "execution_count": 134,
   "id": "9cdaff11",
   "metadata": {
    "vscode": {
     "languageId": "r"
    }
   },
   "outputs": [],
   "source": [
    "# 저장시 주의 사항 : row names가 필요치 않으면 저장하지 말아야한다.\n",
    "\n",
    "write.csv(fruit, \"../Data/fruit.csv\", row.names=F, fileEncoding=\"utf-8\")"
   ]
  },
  {
   "cell_type": "code",
   "execution_count": 135,
   "id": "9fd72f90",
   "metadata": {
    "vscode": {
     "languageId": "r"
    }
   },
   "outputs": [
    {
     "data": {
      "text/html": [
       "<table>\n",
       "<thead><tr><th scope=col>X</th><th scope=col>x</th></tr></thead>\n",
       "<tbody>\n",
       "\t<tr><td> 1          </td><td>apple       </td></tr>\n",
       "\t<tr><td> 2          </td><td>apricot     </td></tr>\n",
       "\t<tr><td> 3          </td><td>avocado     </td></tr>\n",
       "\t<tr><td> 4          </td><td>banana      </td></tr>\n",
       "\t<tr><td> 5          </td><td>bell pepper </td></tr>\n",
       "\t<tr><td> 6          </td><td>bilberry    </td></tr>\n",
       "\t<tr><td> 7          </td><td>blackberry  </td></tr>\n",
       "\t<tr><td> 8          </td><td>blackcurrant</td></tr>\n",
       "\t<tr><td> 9          </td><td>blood orange</td></tr>\n",
       "\t<tr><td>10          </td><td>blueberry   </td></tr>\n",
       "\t<tr><td>11          </td><td>boysenberry </td></tr>\n",
       "\t<tr><td>12          </td><td>breadfruit  </td></tr>\n",
       "\t<tr><td>13          </td><td>canary melon</td></tr>\n",
       "\t<tr><td>14          </td><td>cantaloupe  </td></tr>\n",
       "\t<tr><td>15          </td><td>cherimoya   </td></tr>\n",
       "\t<tr><td>16          </td><td>cherry      </td></tr>\n",
       "\t<tr><td>17          </td><td>chili pepper</td></tr>\n",
       "\t<tr><td>18          </td><td>clementine  </td></tr>\n",
       "\t<tr><td>19          </td><td>cloudberry  </td></tr>\n",
       "\t<tr><td>20          </td><td>coconut     </td></tr>\n",
       "\t<tr><td>21          </td><td>cranberry   </td></tr>\n",
       "\t<tr><td>22          </td><td>cucumber    </td></tr>\n",
       "\t<tr><td>23          </td><td>currant     </td></tr>\n",
       "\t<tr><td>24          </td><td>damson      </td></tr>\n",
       "\t<tr><td>25          </td><td>date        </td></tr>\n",
       "\t<tr><td>26          </td><td>dragonfruit </td></tr>\n",
       "\t<tr><td>27          </td><td>durian      </td></tr>\n",
       "\t<tr><td>28          </td><td>eggplant    </td></tr>\n",
       "\t<tr><td>29          </td><td>elderberry  </td></tr>\n",
       "\t<tr><td>30          </td><td>feijoa      </td></tr>\n",
       "\t<tr><td>...</td><td>...</td></tr>\n",
       "\t<tr><td>51               </td><td>nectarine        </td></tr>\n",
       "\t<tr><td>52               </td><td>nut              </td></tr>\n",
       "\t<tr><td>53               </td><td>olive            </td></tr>\n",
       "\t<tr><td>54               </td><td>orange           </td></tr>\n",
       "\t<tr><td>55               </td><td>pamelo           </td></tr>\n",
       "\t<tr><td>56               </td><td>papaya           </td></tr>\n",
       "\t<tr><td>57               </td><td>passionfruit     </td></tr>\n",
       "\t<tr><td>58               </td><td>peach            </td></tr>\n",
       "\t<tr><td>59               </td><td>pear             </td></tr>\n",
       "\t<tr><td>60               </td><td>persimmon        </td></tr>\n",
       "\t<tr><td>61               </td><td>physalis         </td></tr>\n",
       "\t<tr><td>62               </td><td>pineapple        </td></tr>\n",
       "\t<tr><td>63               </td><td>plum             </td></tr>\n",
       "\t<tr><td>64               </td><td>pomegranate      </td></tr>\n",
       "\t<tr><td>65               </td><td>pomelo           </td></tr>\n",
       "\t<tr><td>66               </td><td>purple mangosteen</td></tr>\n",
       "\t<tr><td>67               </td><td>quince           </td></tr>\n",
       "\t<tr><td>68               </td><td>raisin           </td></tr>\n",
       "\t<tr><td>69               </td><td>rambutan         </td></tr>\n",
       "\t<tr><td>70               </td><td>raspberry        </td></tr>\n",
       "\t<tr><td>71               </td><td>redcurrant       </td></tr>\n",
       "\t<tr><td>72               </td><td>rock melon       </td></tr>\n",
       "\t<tr><td>73               </td><td>salal berry      </td></tr>\n",
       "\t<tr><td>74               </td><td>satsuma          </td></tr>\n",
       "\t<tr><td>75               </td><td>star fruit       </td></tr>\n",
       "\t<tr><td>76               </td><td>strawberry       </td></tr>\n",
       "\t<tr><td>77               </td><td>tamarillo        </td></tr>\n",
       "\t<tr><td>78               </td><td>tangerine        </td></tr>\n",
       "\t<tr><td>79               </td><td>ugli fruit       </td></tr>\n",
       "\t<tr><td>80               </td><td>watermelon       </td></tr>\n",
       "</tbody>\n",
       "</table>\n"
      ],
      "text/latex": [
       "\\begin{tabular}{r|ll}\n",
       " X & x\\\\\n",
       "\\hline\n",
       "\t  1           & apple       \\\\\n",
       "\t  2           & apricot     \\\\\n",
       "\t  3           & avocado     \\\\\n",
       "\t  4           & banana      \\\\\n",
       "\t  5           & bell pepper \\\\\n",
       "\t  6           & bilberry    \\\\\n",
       "\t  7           & blackberry  \\\\\n",
       "\t  8           & blackcurrant\\\\\n",
       "\t  9           & blood orange\\\\\n",
       "\t 10           & blueberry   \\\\\n",
       "\t 11           & boysenberry \\\\\n",
       "\t 12           & breadfruit  \\\\\n",
       "\t 13           & canary melon\\\\\n",
       "\t 14           & cantaloupe  \\\\\n",
       "\t 15           & cherimoya   \\\\\n",
       "\t 16           & cherry      \\\\\n",
       "\t 17           & chili pepper\\\\\n",
       "\t 18           & clementine  \\\\\n",
       "\t 19           & cloudberry  \\\\\n",
       "\t 20           & coconut     \\\\\n",
       "\t 21           & cranberry   \\\\\n",
       "\t 22           & cucumber    \\\\\n",
       "\t 23           & currant     \\\\\n",
       "\t 24           & damson      \\\\\n",
       "\t 25           & date        \\\\\n",
       "\t 26           & dragonfruit \\\\\n",
       "\t 27           & durian      \\\\\n",
       "\t 28           & eggplant    \\\\\n",
       "\t 29           & elderberry  \\\\\n",
       "\t 30           & feijoa      \\\\\n",
       "\t ... & ...\\\\\n",
       "\t 51                & nectarine        \\\\\n",
       "\t 52                & nut              \\\\\n",
       "\t 53                & olive            \\\\\n",
       "\t 54                & orange           \\\\\n",
       "\t 55                & pamelo           \\\\\n",
       "\t 56                & papaya           \\\\\n",
       "\t 57                & passionfruit     \\\\\n",
       "\t 58                & peach            \\\\\n",
       "\t 59                & pear             \\\\\n",
       "\t 60                & persimmon        \\\\\n",
       "\t 61                & physalis         \\\\\n",
       "\t 62                & pineapple        \\\\\n",
       "\t 63                & plum             \\\\\n",
       "\t 64                & pomegranate      \\\\\n",
       "\t 65                & pomelo           \\\\\n",
       "\t 66                & purple mangosteen\\\\\n",
       "\t 67                & quince           \\\\\n",
       "\t 68                & raisin           \\\\\n",
       "\t 69                & rambutan         \\\\\n",
       "\t 70                & raspberry        \\\\\n",
       "\t 71                & redcurrant       \\\\\n",
       "\t 72                & rock melon       \\\\\n",
       "\t 73                & salal berry      \\\\\n",
       "\t 74                & satsuma          \\\\\n",
       "\t 75                & star fruit       \\\\\n",
       "\t 76                & strawberry       \\\\\n",
       "\t 77                & tamarillo        \\\\\n",
       "\t 78                & tangerine        \\\\\n",
       "\t 79                & ugli fruit       \\\\\n",
       "\t 80                & watermelon       \\\\\n",
       "\\end{tabular}\n"
      ],
      "text/markdown": [
       "\n",
       "| X | x |\n",
       "|---|---|\n",
       "|  1           | apple        |\n",
       "|  2           | apricot      |\n",
       "|  3           | avocado      |\n",
       "|  4           | banana       |\n",
       "|  5           | bell pepper  |\n",
       "|  6           | bilberry     |\n",
       "|  7           | blackberry   |\n",
       "|  8           | blackcurrant |\n",
       "|  9           | blood orange |\n",
       "| 10           | blueberry    |\n",
       "| 11           | boysenberry  |\n",
       "| 12           | breadfruit   |\n",
       "| 13           | canary melon |\n",
       "| 14           | cantaloupe   |\n",
       "| 15           | cherimoya    |\n",
       "| 16           | cherry       |\n",
       "| 17           | chili pepper |\n",
       "| 18           | clementine   |\n",
       "| 19           | cloudberry   |\n",
       "| 20           | coconut      |\n",
       "| 21           | cranberry    |\n",
       "| 22           | cucumber     |\n",
       "| 23           | currant      |\n",
       "| 24           | damson       |\n",
       "| 25           | date         |\n",
       "| 26           | dragonfruit  |\n",
       "| 27           | durian       |\n",
       "| 28           | eggplant     |\n",
       "| 29           | elderberry   |\n",
       "| 30           | feijoa       |\n",
       "| ... | ... |\n",
       "| 51                | nectarine         |\n",
       "| 52                | nut               |\n",
       "| 53                | olive             |\n",
       "| 54                | orange            |\n",
       "| 55                | pamelo            |\n",
       "| 56                | papaya            |\n",
       "| 57                | passionfruit      |\n",
       "| 58                | peach             |\n",
       "| 59                | pear              |\n",
       "| 60                | persimmon         |\n",
       "| 61                | physalis          |\n",
       "| 62                | pineapple         |\n",
       "| 63                | plum              |\n",
       "| 64                | pomegranate       |\n",
       "| 65                | pomelo            |\n",
       "| 66                | purple mangosteen |\n",
       "| 67                | quince            |\n",
       "| 68                | raisin            |\n",
       "| 69                | rambutan          |\n",
       "| 70                | raspberry         |\n",
       "| 71                | redcurrant        |\n",
       "| 72                | rock melon        |\n",
       "| 73                | salal berry       |\n",
       "| 74                | satsuma           |\n",
       "| 75                | star fruit        |\n",
       "| 76                | strawberry        |\n",
       "| 77                | tamarillo         |\n",
       "| 78                | tangerine         |\n",
       "| 79                | ugli fruit        |\n",
       "| 80                | watermelon        |\n",
       "\n"
      ],
      "text/plain": [
       "    X   x                \n",
       "1    1  apple            \n",
       "2    2  apricot          \n",
       "3    3  avocado          \n",
       "4    4  banana           \n",
       "5    5  bell pepper      \n",
       "6    6  bilberry         \n",
       "7    7  blackberry       \n",
       "8    8  blackcurrant     \n",
       "9    9  blood orange     \n",
       "10  10  blueberry        \n",
       "11  11  boysenberry      \n",
       "12  12  breadfruit       \n",
       "13  13  canary melon     \n",
       "14  14  cantaloupe       \n",
       "15  15  cherimoya        \n",
       "16  16  cherry           \n",
       "17  17  chili pepper     \n",
       "18  18  clementine       \n",
       "19  19  cloudberry       \n",
       "20  20  coconut          \n",
       "21  21  cranberry        \n",
       "22  22  cucumber         \n",
       "23  23  currant          \n",
       "24  24  damson           \n",
       "25  25  date             \n",
       "26  26  dragonfruit      \n",
       "27  27  durian           \n",
       "28  28  eggplant         \n",
       "29  29  elderberry       \n",
       "30  30  feijoa           \n",
       "... ... ...              \n",
       "51  51  nectarine        \n",
       "52  52  nut              \n",
       "53  53  olive            \n",
       "54  54  orange           \n",
       "55  55  pamelo           \n",
       "56  56  papaya           \n",
       "57  57  passionfruit     \n",
       "58  58  peach            \n",
       "59  59  pear             \n",
       "60  60  persimmon        \n",
       "61  61  physalis         \n",
       "62  62  pineapple        \n",
       "63  63  plum             \n",
       "64  64  pomegranate      \n",
       "65  65  pomelo           \n",
       "66  66  purple mangosteen\n",
       "67  67  quince           \n",
       "68  68  raisin           \n",
       "69  69  rambutan         \n",
       "70  70  raspberry        \n",
       "71  71  redcurrant       \n",
       "72  72  rock melon       \n",
       "73  73  salal berry      \n",
       "74  74  satsuma          \n",
       "75  75  star fruit       \n",
       "76  76  strawberry       \n",
       "77  77  tamarillo        \n",
       "78  78  tangerine        \n",
       "79  79  ugli fruit       \n",
       "80  80  watermelon       "
      ]
     },
     "metadata": {},
     "output_type": "display_data"
    }
   ],
   "source": [
    "read.csv(\"../Data/fruit.csv\", fileEncoding=\"utf-8\")"
   ]
  },
  {
   "cell_type": "markdown",
   "id": "b701ae03",
   "metadata": {},
   "source": [
    "---\n",
    "## 세계 GDP 순위 데이터 정제 및 차트 만들기"
   ]
  },
  {
   "cell_type": "code",
   "execution_count": 136,
   "id": "94f5d441",
   "metadata": {
    "vscode": {
     "languageId": "r"
    }
   },
   "outputs": [
    {
     "data": {
      "text/html": [
       "<table>\n",
       "<thead><tr><th scope=col>X</th><th scope=col>Gross.domestic.product.2018</th><th scope=col>X.1</th><th scope=col>X.2</th><th scope=col>X.3</th><th scope=col>X.4</th></tr></thead>\n",
       "<tbody>\n",
       "\t<tr><td>              </td><td>              </td><td>NA            </td><td>              </td><td>              </td><td>              </td></tr>\n",
       "\t<tr><td>              </td><td>              </td><td>NA            </td><td>              </td><td>(millions of  </td><td>              </td></tr>\n",
       "\t<tr><td>              </td><td>Ranking       </td><td>NA            </td><td>Economy       </td><td>US dollars)   </td><td>              </td></tr>\n",
       "\t<tr><td>              </td><td>              </td><td>NA            </td><td>              </td><td>              </td><td>              </td></tr>\n",
       "\t<tr><td>USA           </td><td>1             </td><td>NA            </td><td>United States </td><td> 20,494,100   </td><td>              </td></tr>\n",
       "\t<tr><td>CHN           </td><td>2             </td><td>NA            </td><td>China         </td><td> 13,608,152   </td><td>              </td></tr>\n",
       "\t<tr><td>JPN           </td><td>3             </td><td>NA            </td><td>Japan         </td><td> 4,970,916    </td><td>              </td></tr>\n",
       "\t<tr><td>DEU           </td><td>4             </td><td>NA            </td><td>Germany       </td><td> 3,996,759    </td><td>              </td></tr>\n",
       "\t<tr><td>GBR           </td><td>5             </td><td>NA            </td><td>United Kingdom</td><td> 2,825,208    </td><td>              </td></tr>\n",
       "\t<tr><td>FRA           </td><td>6             </td><td>NA            </td><td>France        </td><td> 2,777,535    </td><td>              </td></tr>\n",
       "</tbody>\n",
       "</table>\n"
      ],
      "text/latex": [
       "\\begin{tabular}{r|llllll}\n",
       " X & Gross.domestic.product.2018 & X.1 & X.2 & X.3 & X.4\\\\\n",
       "\\hline\n",
       "\t                &                & NA             &                &                &               \\\\\n",
       "\t                &                & NA             &                & (millions of   &               \\\\\n",
       "\t                & Ranking        & NA             & Economy        & US dollars)    &               \\\\\n",
       "\t                &                & NA             &                &                &               \\\\\n",
       "\t USA            & 1              & NA             & United States  &  20,494,100    &               \\\\\n",
       "\t CHN            & 2              & NA             & China          &  13,608,152    &               \\\\\n",
       "\t JPN            & 3              & NA             & Japan          &  4,970,916     &               \\\\\n",
       "\t DEU            & 4              & NA             & Germany        &  3,996,759     &               \\\\\n",
       "\t GBR            & 5              & NA             & United Kingdom &  2,825,208     &               \\\\\n",
       "\t FRA            & 6              & NA             & France         &  2,777,535     &               \\\\\n",
       "\\end{tabular}\n"
      ],
      "text/markdown": [
       "\n",
       "| X | Gross.domestic.product.2018 | X.1 | X.2 | X.3 | X.4 |\n",
       "|---|---|---|---|---|---|\n",
       "|                |                | NA             |                |                |                |\n",
       "|                |                | NA             |                | (millions of   |                |\n",
       "|                | Ranking        | NA             | Economy        | US dollars)    |                |\n",
       "|                |                | NA             |                |                |                |\n",
       "| USA            | 1              | NA             | United States  |  20,494,100    |                |\n",
       "| CHN            | 2              | NA             | China          |  13,608,152    |                |\n",
       "| JPN            | 3              | NA             | Japan          |  4,970,916     |                |\n",
       "| DEU            | 4              | NA             | Germany        |  3,996,759     |                |\n",
       "| GBR            | 5              | NA             | United Kingdom |  2,825,208     |                |\n",
       "| FRA            | 6              | NA             | France         |  2,777,535     |                |\n",
       "\n"
      ],
      "text/plain": [
       "   X   Gross.domestic.product.2018 X.1 X.2            X.3          X.4\n",
       "1                                  NA                                 \n",
       "2                                  NA                 (millions of    \n",
       "3      Ranking                     NA  Economy        US dollars)     \n",
       "4                                  NA                                 \n",
       "5  USA 1                           NA  United States   20,494,100     \n",
       "6  CHN 2                           NA  China           13,608,152     \n",
       "7  JPN 3                           NA  Japan           4,970,916      \n",
       "8  DEU 4                           NA  Germany         3,996,759      \n",
       "9  GBR 5                           NA  United Kingdom  2,825,208      \n",
       "10 FRA 6                           NA  France          2,777,535      "
      ]
     },
     "metadata": {},
     "output_type": "display_data"
    }
   ],
   "source": [
    "# Data Set 불러오기\n",
    "GDP_ranking <- read.csv(\"../Data/GDP.csv\", fileEncoding=\"utf-8\")\n",
    "head(GDP_ranking, 10)\n"
   ]
  },
  {
   "cell_type": "code",
   "execution_count": 137,
   "id": "8a6f4ea7",
   "metadata": {
    "vscode": {
     "languageId": "r"
    }
   },
   "outputs": [
    {
     "data": {
      "text/html": [
       "<table>\n",
       "<thead><tr><th></th><th scope=col>X</th><th scope=col>Gross.domestic.product.2018</th><th scope=col>X.2</th><th scope=col>X.3</th></tr></thead>\n",
       "<tbody>\n",
       "\t<tr><th scope=row>5</th><td>USA           </td><td>1             </td><td>United States </td><td> 20,494,100   </td></tr>\n",
       "\t<tr><th scope=row>6</th><td>CHN           </td><td>2             </td><td>China         </td><td> 13,608,152   </td></tr>\n",
       "\t<tr><th scope=row>7</th><td>JPN           </td><td>3             </td><td>Japan         </td><td> 4,970,916    </td></tr>\n",
       "\t<tr><th scope=row>8</th><td>DEU           </td><td>4             </td><td>Germany       </td><td> 3,996,759    </td></tr>\n",
       "\t<tr><th scope=row>9</th><td>GBR           </td><td>5             </td><td>United Kingdom</td><td> 2,825,208    </td></tr>\n",
       "\t<tr><th scope=row>10</th><td>FRA           </td><td>6             </td><td>France        </td><td> 2,777,535    </td></tr>\n",
       "</tbody>\n",
       "</table>\n"
      ],
      "text/latex": [
       "\\begin{tabular}{r|llll}\n",
       "  & X & Gross.domestic.product.2018 & X.2 & X.3\\\\\n",
       "\\hline\n",
       "\t5 & USA            & 1              & United States  &  20,494,100   \\\\\n",
       "\t6 & CHN            & 2              & China          &  13,608,152   \\\\\n",
       "\t7 & JPN            & 3              & Japan          &  4,970,916    \\\\\n",
       "\t8 & DEU            & 4              & Germany        &  3,996,759    \\\\\n",
       "\t9 & GBR            & 5              & United Kingdom &  2,825,208    \\\\\n",
       "\t10 & FRA            & 6              & France         &  2,777,535    \\\\\n",
       "\\end{tabular}\n"
      ],
      "text/markdown": [
       "\n",
       "| <!--/--> | X | Gross.domestic.product.2018 | X.2 | X.3 |\n",
       "|---|---|---|---|---|\n",
       "| 5 | USA            | 1              | United States  |  20,494,100    |\n",
       "| 6 | CHN            | 2              | China          |  13,608,152    |\n",
       "| 7 | JPN            | 3              | Japan          |  4,970,916     |\n",
       "| 8 | DEU            | 4              | Germany        |  3,996,759     |\n",
       "| 9 | GBR            | 5              | United Kingdom |  2,825,208     |\n",
       "| 10 | FRA            | 6              | France         |  2,777,535     |\n",
       "\n"
      ],
      "text/plain": [
       "   X   Gross.domestic.product.2018 X.2            X.3         \n",
       "5  USA 1                           United States   20,494,100 \n",
       "6  CHN 2                           China           13,608,152 \n",
       "7  JPN 3                           Japan           4,970,916  \n",
       "8  DEU 4                           Germany         3,996,759  \n",
       "9  GBR 5                           United Kingdom  2,825,208  \n",
       "10 FRA 6                           France          2,777,535  "
      ]
     },
     "metadata": {},
     "output_type": "display_data"
    }
   ],
   "source": [
    "# 1-4줄 삭제, (1,2,4,5)컬럼만 발췌\n",
    "GDP_ranking2 <- GDP_ranking[-c(1:4), c(1,2,4,5)]\n",
    "head(GDP_ranking2)"
   ]
  },
  {
   "cell_type": "code",
   "execution_count": 138,
   "id": "ef1b8918",
   "metadata": {
    "vscode": {
     "languageId": "r"
    }
   },
   "outputs": [
    {
     "data": {
      "text/html": [
       "<table>\n",
       "<thead><tr><th></th><th scope=col>X</th><th scope=col>Gross.domestic.product.2018</th><th scope=col>X.2</th><th scope=col>X.3</th></tr></thead>\n",
       "<tbody>\n",
       "\t<tr><th scope=row>5</th><td>USA               </td><td>1                 </td><td>United States     </td><td> 20,494,100       </td></tr>\n",
       "\t<tr><th scope=row>6</th><td>CHN               </td><td>2                 </td><td>China             </td><td> 13,608,152       </td></tr>\n",
       "\t<tr><th scope=row>7</th><td>JPN               </td><td>3                 </td><td>Japan             </td><td> 4,970,916        </td></tr>\n",
       "\t<tr><th scope=row>8</th><td>DEU               </td><td>4                 </td><td>Germany           </td><td> 3,996,759        </td></tr>\n",
       "\t<tr><th scope=row>9</th><td>GBR               </td><td>5                 </td><td>United Kingdom    </td><td> 2,825,208        </td></tr>\n",
       "\t<tr><th scope=row>10</th><td>FRA               </td><td>6                 </td><td>France            </td><td> 2,777,535        </td></tr>\n",
       "\t<tr><th scope=row>11</th><td>IND               </td><td>7                 </td><td>India             </td><td> 2,726,323        </td></tr>\n",
       "\t<tr><th scope=row>12</th><td>ITA               </td><td>8                 </td><td>Italy             </td><td> 2,073,902        </td></tr>\n",
       "\t<tr><th scope=row>13</th><td>BRA               </td><td>9                 </td><td>Brazil            </td><td> 1,868,626        </td></tr>\n",
       "\t<tr><th scope=row>14</th><td>CAN               </td><td>10                </td><td>Canada            </td><td> 1,712,510        </td></tr>\n",
       "\t<tr><th scope=row>15</th><td>RUS               </td><td>11                </td><td>Russian Federation</td><td> 1,657,554        </td></tr>\n",
       "\t<tr><th scope=row>16</th><td>KOR               </td><td>12                </td><td>Korea, Rep.       </td><td> 1,619,424        </td></tr>\n",
       "\t<tr><th scope=row>17</th><td>AUS               </td><td>13                </td><td>Australia         </td><td> 1,432,195        </td></tr>\n",
       "\t<tr><th scope=row>18</th><td>ESP               </td><td>14                </td><td>Spain             </td><td> 1,426,189        </td></tr>\n",
       "\t<tr><th scope=row>19</th><td>MEX               </td><td>15                </td><td>Mexico            </td><td> 1,223,809        </td></tr>\n",
       "</tbody>\n",
       "</table>\n"
      ],
      "text/latex": [
       "\\begin{tabular}{r|llll}\n",
       "  & X & Gross.domestic.product.2018 & X.2 & X.3\\\\\n",
       "\\hline\n",
       "\t5 & USA                & 1                  & United States      &  20,494,100       \\\\\n",
       "\t6 & CHN                & 2                  & China              &  13,608,152       \\\\\n",
       "\t7 & JPN                & 3                  & Japan              &  4,970,916        \\\\\n",
       "\t8 & DEU                & 4                  & Germany            &  3,996,759        \\\\\n",
       "\t9 & GBR                & 5                  & United Kingdom     &  2,825,208        \\\\\n",
       "\t10 & FRA                & 6                  & France             &  2,777,535        \\\\\n",
       "\t11 & IND                & 7                  & India              &  2,726,323        \\\\\n",
       "\t12 & ITA                & 8                  & Italy              &  2,073,902        \\\\\n",
       "\t13 & BRA                & 9                  & Brazil             &  1,868,626        \\\\\n",
       "\t14 & CAN                & 10                 & Canada             &  1,712,510        \\\\\n",
       "\t15 & RUS                & 11                 & Russian Federation &  1,657,554        \\\\\n",
       "\t16 & KOR                & 12                 & Korea, Rep.        &  1,619,424        \\\\\n",
       "\t17 & AUS                & 13                 & Australia          &  1,432,195        \\\\\n",
       "\t18 & ESP                & 14                 & Spain              &  1,426,189        \\\\\n",
       "\t19 & MEX                & 15                 & Mexico             &  1,223,809        \\\\\n",
       "\\end{tabular}\n"
      ],
      "text/markdown": [
       "\n",
       "| <!--/--> | X | Gross.domestic.product.2018 | X.2 | X.3 |\n",
       "|---|---|---|---|---|\n",
       "| 5 | USA                | 1                  | United States      |  20,494,100        |\n",
       "| 6 | CHN                | 2                  | China              |  13,608,152        |\n",
       "| 7 | JPN                | 3                  | Japan              |  4,970,916         |\n",
       "| 8 | DEU                | 4                  | Germany            |  3,996,759         |\n",
       "| 9 | GBR                | 5                  | United Kingdom     |  2,825,208         |\n",
       "| 10 | FRA                | 6                  | France             |  2,777,535         |\n",
       "| 11 | IND                | 7                  | India              |  2,726,323         |\n",
       "| 12 | ITA                | 8                  | Italy              |  2,073,902         |\n",
       "| 13 | BRA                | 9                  | Brazil             |  1,868,626         |\n",
       "| 14 | CAN                | 10                 | Canada             |  1,712,510         |\n",
       "| 15 | RUS                | 11                 | Russian Federation |  1,657,554         |\n",
       "| 16 | KOR                | 12                 | Korea, Rep.        |  1,619,424         |\n",
       "| 17 | AUS                | 13                 | Australia          |  1,432,195         |\n",
       "| 18 | ESP                | 14                 | Spain              |  1,426,189         |\n",
       "| 19 | MEX                | 15                 | Mexico             |  1,223,809         |\n",
       "\n"
      ],
      "text/plain": [
       "   X   Gross.domestic.product.2018 X.2                X.3         \n",
       "5  USA 1                           United States       20,494,100 \n",
       "6  CHN 2                           China               13,608,152 \n",
       "7  JPN 3                           Japan               4,970,916  \n",
       "8  DEU 4                           Germany             3,996,759  \n",
       "9  GBR 5                           United Kingdom      2,825,208  \n",
       "10 FRA 6                           France              2,777,535  \n",
       "11 IND 7                           India               2,726,323  \n",
       "12 ITA 8                           Italy               2,073,902  \n",
       "13 BRA 9                           Brazil              1,868,626  \n",
       "14 CAN 10                          Canada              1,712,510  \n",
       "15 RUS 11                          Russian Federation  1,657,554  \n",
       "16 KOR 12                          Korea, Rep.         1,619,424  \n",
       "17 AUS 13                          Australia           1,432,195  \n",
       "18 ESP 14                          Spain               1,426,189  \n",
       "19 MEX 15                          Mexico              1,223,809  "
      ]
     },
     "metadata": {},
     "output_type": "display_data"
    }
   ],
   "source": [
    "# 상위 15개국만 선별한다.\n",
    "\n",
    "GDP_ranking15 <- head(GDP_ranking2, 15)\n",
    "GDP_ranking15\n"
   ]
  },
  {
   "cell_type": "code",
   "execution_count": 139,
   "id": "2b6dc331",
   "metadata": {
    "vscode": {
     "languageId": "r"
    }
   },
   "outputs": [
    {
     "data": {
      "text/html": [
       "<table>\n",
       "<thead><tr><th></th><th scope=col>Code</th><th scope=col>Ranking</th><th scope=col>Nation</th><th scope=col>GDP</th></tr></thead>\n",
       "<tbody>\n",
       "\t<tr><th scope=row>5</th><td>USA               </td><td>1                 </td><td>United States     </td><td> 20,494,100       </td></tr>\n",
       "\t<tr><th scope=row>6</th><td>CHN               </td><td>2                 </td><td>China             </td><td> 13,608,152       </td></tr>\n",
       "\t<tr><th scope=row>7</th><td>JPN               </td><td>3                 </td><td>Japan             </td><td> 4,970,916        </td></tr>\n",
       "\t<tr><th scope=row>8</th><td>DEU               </td><td>4                 </td><td>Germany           </td><td> 3,996,759        </td></tr>\n",
       "\t<tr><th scope=row>9</th><td>GBR               </td><td>5                 </td><td>United Kingdom    </td><td> 2,825,208        </td></tr>\n",
       "\t<tr><th scope=row>10</th><td>FRA               </td><td>6                 </td><td>France            </td><td> 2,777,535        </td></tr>\n",
       "\t<tr><th scope=row>11</th><td>IND               </td><td>7                 </td><td>India             </td><td> 2,726,323        </td></tr>\n",
       "\t<tr><th scope=row>12</th><td>ITA               </td><td>8                 </td><td>Italy             </td><td> 2,073,902        </td></tr>\n",
       "\t<tr><th scope=row>13</th><td>BRA               </td><td>9                 </td><td>Brazil            </td><td> 1,868,626        </td></tr>\n",
       "\t<tr><th scope=row>14</th><td>CAN               </td><td>10                </td><td>Canada            </td><td> 1,712,510        </td></tr>\n",
       "\t<tr><th scope=row>15</th><td>RUS               </td><td>11                </td><td>Russian Federation</td><td> 1,657,554        </td></tr>\n",
       "\t<tr><th scope=row>16</th><td>KOR               </td><td>12                </td><td>Korea, Rep.       </td><td> 1,619,424        </td></tr>\n",
       "\t<tr><th scope=row>17</th><td>AUS               </td><td>13                </td><td>Australia         </td><td> 1,432,195        </td></tr>\n",
       "\t<tr><th scope=row>18</th><td>ESP               </td><td>14                </td><td>Spain             </td><td> 1,426,189        </td></tr>\n",
       "\t<tr><th scope=row>19</th><td>MEX               </td><td>15                </td><td>Mexico            </td><td> 1,223,809        </td></tr>\n",
       "</tbody>\n",
       "</table>\n"
      ],
      "text/latex": [
       "\\begin{tabular}{r|llll}\n",
       "  & Code & Ranking & Nation & GDP\\\\\n",
       "\\hline\n",
       "\t5 & USA                & 1                  & United States      &  20,494,100       \\\\\n",
       "\t6 & CHN                & 2                  & China              &  13,608,152       \\\\\n",
       "\t7 & JPN                & 3                  & Japan              &  4,970,916        \\\\\n",
       "\t8 & DEU                & 4                  & Germany            &  3,996,759        \\\\\n",
       "\t9 & GBR                & 5                  & United Kingdom     &  2,825,208        \\\\\n",
       "\t10 & FRA                & 6                  & France             &  2,777,535        \\\\\n",
       "\t11 & IND                & 7                  & India              &  2,726,323        \\\\\n",
       "\t12 & ITA                & 8                  & Italy              &  2,073,902        \\\\\n",
       "\t13 & BRA                & 9                  & Brazil             &  1,868,626        \\\\\n",
       "\t14 & CAN                & 10                 & Canada             &  1,712,510        \\\\\n",
       "\t15 & RUS                & 11                 & Russian Federation &  1,657,554        \\\\\n",
       "\t16 & KOR                & 12                 & Korea, Rep.        &  1,619,424        \\\\\n",
       "\t17 & AUS                & 13                 & Australia          &  1,432,195        \\\\\n",
       "\t18 & ESP                & 14                 & Spain              &  1,426,189        \\\\\n",
       "\t19 & MEX                & 15                 & Mexico             &  1,223,809        \\\\\n",
       "\\end{tabular}\n"
      ],
      "text/markdown": [
       "\n",
       "| <!--/--> | Code | Ranking | Nation | GDP |\n",
       "|---|---|---|---|---|\n",
       "| 5 | USA                | 1                  | United States      |  20,494,100        |\n",
       "| 6 | CHN                | 2                  | China              |  13,608,152        |\n",
       "| 7 | JPN                | 3                  | Japan              |  4,970,916         |\n",
       "| 8 | DEU                | 4                  | Germany            |  3,996,759         |\n",
       "| 9 | GBR                | 5                  | United Kingdom     |  2,825,208         |\n",
       "| 10 | FRA                | 6                  | France             |  2,777,535         |\n",
       "| 11 | IND                | 7                  | India              |  2,726,323         |\n",
       "| 12 | ITA                | 8                  | Italy              |  2,073,902         |\n",
       "| 13 | BRA                | 9                  | Brazil             |  1,868,626         |\n",
       "| 14 | CAN                | 10                 | Canada             |  1,712,510         |\n",
       "| 15 | RUS                | 11                 | Russian Federation |  1,657,554         |\n",
       "| 16 | KOR                | 12                 | Korea, Rep.        |  1,619,424         |\n",
       "| 17 | AUS                | 13                 | Australia          |  1,432,195         |\n",
       "| 18 | ESP                | 14                 | Spain              |  1,426,189         |\n",
       "| 19 | MEX                | 15                 | Mexico             |  1,223,809         |\n",
       "\n"
      ],
      "text/plain": [
       "   Code Ranking Nation             GDP         \n",
       "5  USA  1       United States       20,494,100 \n",
       "6  CHN  2       China               13,608,152 \n",
       "7  JPN  3       Japan               4,970,916  \n",
       "8  DEU  4       Germany             3,996,759  \n",
       "9  GBR  5       United Kingdom      2,825,208  \n",
       "10 FRA  6       France              2,777,535  \n",
       "11 IND  7       India               2,726,323  \n",
       "12 ITA  8       Italy               2,073,902  \n",
       "13 BRA  9       Brazil              1,868,626  \n",
       "14 CAN  10      Canada              1,712,510  \n",
       "15 RUS  11      Russian Federation  1,657,554  \n",
       "16 KOR  12      Korea, Rep.         1,619,424  \n",
       "17 AUS  13      Australia           1,432,195  \n",
       "18 ESP  14      Spain               1,426,189  \n",
       "19 MEX  15      Mexico              1,223,809  "
      ]
     },
     "metadata": {},
     "output_type": "display_data"
    }
   ],
   "source": [
    "# 컬럼 이름 정의 : Code, Ranking, Nation, GDP !!!!!!!!!!!!!!!!!!!!!!!!!!!!!!!!!!!!!!!!!!!!!!!!!!!!!!!!!!!!!!!!!!!!!!!11행렬수정부분!!!!!!!!!!!!!!!!!!!!!!!!!!!!!!!!!!!!!\n",
    "\n",
    "colnames(GDP_ranking15) <- c('Code', 'Ranking', 'Nation', 'GDP')\n",
    "#rownames(GDP_ranking15) <- c()\n",
    "GDP_ranking15"
   ]
  },
  {
   "cell_type": "code",
   "execution_count": 140,
   "id": "fd143132",
   "metadata": {
    "vscode": {
     "languageId": "r"
    }
   },
   "outputs": [
    {
     "name": "stdout",
     "output_type": "stream",
     "text": [
      "   Code Ranking             Nation          GDP\n",
      "1   USA       1      United States  20,494,100 \n",
      "2   CHN       2              China  13,608,152 \n",
      "3   JPN       3              Japan   4,970,916 \n",
      "4   DEU       4            Germany   3,996,759 \n",
      "5   GBR       5     United Kingdom   2,825,208 \n",
      "6   FRA       6             France   2,777,535 \n",
      "7   IND       7              India   2,726,323 \n",
      "8   ITA       8              Italy   2,073,902 \n",
      "9   BRA       9             Brazil   1,868,626 \n",
      "10  CAN      10             Canada   1,712,510 \n",
      "11  RUS      11 Russian Federation   1,657,554 \n",
      "12  KOR      12        Korea, Rep.   1,619,424 \n",
      "13  AUS      13          Australia   1,432,195 \n",
      "14  ESP      14              Spain   1,426,189 \n",
      "15  MEX      15             Mexico   1,223,809 \n"
     ]
    }
   ],
   "source": [
    "# rownames 새로 구성하기\n",
    "rownames(GDP_ranking15) <- c()\n",
    "print(GDP_ranking15)"
   ]
  },
  {
   "cell_type": "code",
   "execution_count": 141,
   "id": "8f149bb3",
   "metadata": {
    "vscode": {
     "languageId": "r"
    }
   },
   "outputs": [
    {
     "name": "stdout",
     "output_type": "stream",
     "text": [
      "'data.frame':\t15 obs. of  4 variables:\n",
      " $ Code   : Factor w/ 230 levels \"\",\"ABW\",\"AFG\",..: 216 38 103 52 72 68 94 100 28 34 ...\n",
      " $ Ranking: Factor w/ 212 levels \"\",\".. Not available.  \",..: 3 114 131 142 153 164 175 186 197 4 ...\n",
      " $ Nation : Factor w/ 231 levels \"\",\"Afghanistan\",..: 219 43 104 78 218 73 95 102 28 37 ...\n",
      " $ GDP    : Factor w/ 220 levels \"\",\" .. \",\" 1,022 \",..: 78 44 137 113 77 75 74 67 20 19 ...\n"
     ]
    }
   ],
   "source": [
    "# 구조 확인하기\n",
    "\n",
    "str(GDP_ranking15)"
   ]
  },
  {
   "cell_type": "code",
   "execution_count": 179,
   "id": "0ef72709",
   "metadata": {
    "vscode": {
     "languageId": "r"
    }
   },
   "outputs": [
    {
     "data": {
      "text/html": [
       "<ol class=list-inline>\n",
       "\t<li>USA</li>\n",
       "\t<li>CHN</li>\n",
       "\t<li>JPN</li>\n",
       "\t<li>DEU</li>\n",
       "\t<li>GBR</li>\n",
       "\t<li>FRA</li>\n",
       "\t<li>IND</li>\n",
       "\t<li>ITA</li>\n",
       "\t<li>BRA</li>\n",
       "\t<li>CAN</li>\n",
       "\t<li>RUS</li>\n",
       "\t<li>KOR</li>\n",
       "\t<li>AUS</li>\n",
       "\t<li>ESP</li>\n",
       "\t<li>MEX</li>\n",
       "</ol>\n",
       "\n",
       "<details>\n",
       "\t<summary style=display:list-item;cursor:pointer>\n",
       "\t\t<strong>Levels</strong>:\n",
       "\t</summary>\n",
       "\t<ol class=list-inline>\n",
       "\t\t<li>'AUS'</li>\n",
       "\t\t<li>'BRA'</li>\n",
       "\t\t<li>'CAN'</li>\n",
       "\t\t<li>'CHN'</li>\n",
       "\t\t<li>'DEU'</li>\n",
       "\t\t<li>'ESP'</li>\n",
       "\t\t<li>'FRA'</li>\n",
       "\t\t<li>'GBR'</li>\n",
       "\t\t<li>'IND'</li>\n",
       "\t\t<li>'ITA'</li>\n",
       "\t\t<li>'JPN'</li>\n",
       "\t\t<li>'KOR'</li>\n",
       "\t\t<li>'MEX'</li>\n",
       "\t\t<li>'RUS'</li>\n",
       "\t\t<li>'USA'</li>\n",
       "\t</ol>\n",
       "</details>"
      ],
      "text/latex": [
       "\\begin{enumerate*}\n",
       "\\item USA\n",
       "\\item CHN\n",
       "\\item JPN\n",
       "\\item DEU\n",
       "\\item GBR\n",
       "\\item FRA\n",
       "\\item IND\n",
       "\\item ITA\n",
       "\\item BRA\n",
       "\\item CAN\n",
       "\\item RUS\n",
       "\\item KOR\n",
       "\\item AUS\n",
       "\\item ESP\n",
       "\\item MEX\n",
       "\\end{enumerate*}\n",
       "\n",
       "\\emph{Levels}: \\begin{enumerate*}\n",
       "\\item 'AUS'\n",
       "\\item 'BRA'\n",
       "\\item 'CAN'\n",
       "\\item 'CHN'\n",
       "\\item 'DEU'\n",
       "\\item 'ESP'\n",
       "\\item 'FRA'\n",
       "\\item 'GBR'\n",
       "\\item 'IND'\n",
       "\\item 'ITA'\n",
       "\\item 'JPN'\n",
       "\\item 'KOR'\n",
       "\\item 'MEX'\n",
       "\\item 'RUS'\n",
       "\\item 'USA'\n",
       "\\end{enumerate*}\n"
      ],
      "text/markdown": [
       "1. USA\n",
       "2. CHN\n",
       "3. JPN\n",
       "4. DEU\n",
       "5. GBR\n",
       "6. FRA\n",
       "7. IND\n",
       "8. ITA\n",
       "9. BRA\n",
       "10. CAN\n",
       "11. RUS\n",
       "12. KOR\n",
       "13. AUS\n",
       "14. ESP\n",
       "15. MEX\n",
       "\n",
       "\n",
       "\n",
       "**Levels**: 1. 'AUS'\n",
       "2. 'BRA'\n",
       "3. 'CAN'\n",
       "4. 'CHN'\n",
       "5. 'DEU'\n",
       "6. 'ESP'\n",
       "7. 'FRA'\n",
       "8. 'GBR'\n",
       "9. 'IND'\n",
       "10. 'ITA'\n",
       "11. 'JPN'\n",
       "12. 'KOR'\n",
       "13. 'MEX'\n",
       "14. 'RUS'\n",
       "15. 'USA'\n",
       "\n",
       "\n"
      ],
      "text/plain": [
       " [1] USA CHN JPN DEU GBR FRA IND ITA BRA CAN RUS KOR AUS ESP MEX\n",
       "Levels: AUS BRA CAN CHN DEU ESP FRA GBR IND ITA JPN KOR MEX RUS USA"
      ]
     },
     "metadata": {},
     "output_type": "display_data"
    }
   ],
   "source": [
    "# Factor의 갯수가 15개가 정상일텐데 이상하다, -> 재구성!!!!!!!!!!!!!!!!!!!!!!!!!!!!!!!!!!!!!!!!!!!!!!!!!!!!!!!!!!!!!!!!!!!!!!!!!!!!!!!!!!!!!!!!!!!!!!!!!!!!!!!!!!!!!!!!!!\n",
    "# data frame에서 사용,matrix에서는 사용안함\n",
    "GDP_ranking15$Code <- factor(GDP_ranking15$Code)\n",
    "GDP_ranking15$Code    #?????????????????????????????????????????????"
   ]
  },
  {
   "cell_type": "code",
   "execution_count": 143,
   "id": "1a2a530f",
   "metadata": {
    "vscode": {
     "languageId": "r"
    }
   },
   "outputs": [
    {
     "name": "stdout",
     "output_type": "stream",
     "text": [
      "'data.frame':\t15 obs. of  4 variables:\n",
      " $ Code   : Factor w/ 15 levels \"AUS\",\"BRA\",\"CAN\",..: 15 4 11 5 8 7 9 10 2 3 ...\n",
      " $ Ranking: Factor w/ 15 levels \"1\",\"10\",\"11\",..: 1 8 9 10 11 12 13 14 15 2 ...\n",
      " $ Nation : Factor w/ 15 levels \"Australia\",\"Brazil\",..: 15 4 9 6 14 5 7 8 2 3 ...\n",
      " $ GDP    : Factor w/ 15 levels \" 1,223,809 \",..: 13 8 15 14 12 11 10 9 7 6 ...\n"
     ]
    }
   ],
   "source": [
    "# for문을 이용한 factor 조정\n",
    "# ncol : 열의 갯수, 데이터 프레임에서만 가능 \n",
    "# nrow : 행의 갯수, 데이터 프레임에서만 가능\n",
    "\n",
    "\n",
    "for( i in 1:ncol(GDP_ranking15)){\n",
    "    GDP_ranking15[,i] = factor(GDP_ranking15[,i])\n",
    "\n",
    "}\n",
    "str(GDP_ranking15)"
   ]
  },
  {
   "cell_type": "code",
   "execution_count": 144,
   "id": "38c51d6f",
   "metadata": {
    "vscode": {
     "languageId": "r"
    }
   },
   "outputs": [
    {
     "name": "stdout",
     "output_type": "stream",
     "text": [
      "   Code Ranking             Nation          GDP\n",
      "1   USA       1      United States  20,494,100 \n",
      "2   CHN       2              China  13,608,152 \n",
      "3   JPN       3              Japan   4,970,916 \n",
      "4   DEU       4            Germany   3,996,759 \n",
      "5   GBR       5     United Kingdom   2,825,208 \n",
      "6   FRA       6             France   2,777,535 \n",
      "7   IND       7              India   2,726,323 \n",
      "8   ITA       8              Italy   2,073,902 \n",
      "9   BRA       9             Brazil   1,868,626 \n",
      "10  CAN      10             Canada   1,712,510 \n",
      "11  RUS      11 Russian Federation   1,657,554 \n",
      "12  KOR      12        Korea, Rep.   1,619,424 \n",
      "13  AUS      13          Australia   1,432,195 \n",
      "14  ESP      14              Spain   1,426,189 \n",
      "15  MEX      15             Mexico   1,223,809 \n"
     ]
    }
   ],
   "source": [
    "print(GDP_ranking15)"
   ]
  },
  {
   "cell_type": "code",
   "execution_count": 145,
   "id": "56d6c44b",
   "metadata": {
    "vscode": {
     "languageId": "r"
    }
   },
   "outputs": [],
   "source": [
    "library(stringr) # str_remove_all를 불러오기위해"
   ]
  },
  {
   "cell_type": "code",
   "execution_count": 146,
   "id": "69a1c3ba",
   "metadata": {
    "vscode": {
     "languageId": "r"
    }
   },
   "outputs": [
    {
     "name": "stdout",
     "output_type": "stream",
     "text": [
      "'data.frame':\t15 obs. of  4 variables:\n",
      " $ Code   : Factor w/ 15 levels \"AUS\",\"BRA\",\"CAN\",..: 15 4 11 5 8 7 9 10 2 3 ...\n",
      " $ Ranking: Factor w/ 15 levels \"1\",\"10\",\"11\",..: 1 8 9 10 11 12 13 14 15 2 ...\n",
      " $ Nation : Factor w/ 15 levels \"Australia\",\"Brazil\",..: 15 4 9 6 14 5 7 8 2 3 ...\n",
      " $ GDP    : num  20494100 13608152 4970916 3996759 2825208 ...\n"
     ]
    }
   ],
   "source": [
    "GDP_ranking15$GDP <- as.numeric(str_remove_all(GDP_ranking15$GDP,\",\"))\n",
    "str(GDP_ranking15)"
   ]
  },
  {
   "cell_type": "code",
   "execution_count": 147,
   "id": "2b0c8639",
   "metadata": {
    "vscode": {
     "languageId": "r"
    }
   },
   "outputs": [],
   "source": [
    "#structure\n",
    "#stringr_remove_all"
   ]
  },
  {
   "cell_type": "code",
   "execution_count": 148,
   "id": "7b6f2aa6",
   "metadata": {
    "scrolled": false,
    "vscode": {
     "languageId": "r"
    }
   },
   "outputs": [
    {
     "data": {
      "image/png": "[encoded data removed]",
      "text/plain": [
       "Plot with title \"2018년 GDP 세계 15위 국가\""
      ]
     },
     "metadata": {},
     "output_type": "display_data"
    }
   ],
   "source": [
    "options(scipen = 0) #!!!!!!!!!!!!!!!!!!!!!!!!!!!!!!!!!!! 지수??!!!!!!!!!!!!!!!!!!!!!!!!!!!!!!!!!!!!!!!!!!!!!!!!!!!!!!!!!!!!!!!!!!!!!!!!!!!!!!!!!!!!!!!!!!!!!!!!!!!!!!!!!!\n",
    "options(warn = -1)  # x,y축의 약간의 공간 추가?\n",
    "par(family = \"AppleGothic\")\n",
    "barplot(GDP_ranking15$GDP/1000, #GDP상위 15개국 Data\n",
    "       main = \"2018년 GDP 세계 15위 국가\",\n",
    "       xlab = \"국가(nation)\",\n",
    "       ylab = \"단위(천달러)\" ,\n",
    "       names = GDP_ranking15$Code, # x축의 코드 가지고오기\n",
    "        cex.names = 0.5,\n",
    "        # GDP가 3000 이상인 국가만 빨간색으로 표시하기\n",
    "        col = ifelse(GDP_ranking15$GDP>=3000000, 'red', 'blue'),\n",
    "        #미국,중국,한국 빨강\n",
    "        ylim = c(0,25000)\n",
    "        #xlim = c(0,250)\n",
    "        \n",
    "       )\n"
   ]
  },
  {
   "cell_type": "markdown",
   "id": "772b0cbd",
   "metadata": {},
   "source": [
    "---\n",
    "### 데이터 처리"
   ]
  },
  {
   "cell_type": "code",
   "execution_count": 180,
   "id": "90f74494",
   "metadata": {
    "vscode": {
     "languageId": "r"
    }
   },
   "outputs": [],
   "source": [
    "# 데이터 정렬!!!!!!!!!!!!!!!!!!!!!!!!!!!!!!!!!!!!!!!!!!!!!!!!!!!!!!!!!!!!!!!!!!!!!!!!!!!!!!!!!!!!!!!!!!!!!!!!!!!!!!!!!!!!!!!arrange?!!!!!!!!!!!!!!!!!!!!!!!!!!!!!!!!!!!!\n",
    "\n",
    "library(dplyr)"
   ]
  },
  {
   "cell_type": "code",
   "execution_count": 150,
   "id": "1d89cf05",
   "metadata": {
    "vscode": {
     "languageId": "r"
    }
   },
   "outputs": [
    {
     "data": {
      "text/html": [
       "<table>\n",
       "<thead><tr><th scope=col>Sepal.Length</th><th scope=col>Sepal.Width</th><th scope=col>Petal.Length</th><th scope=col>Petal.Width</th><th scope=col>Species</th></tr></thead>\n",
       "<tbody>\n",
       "\t<tr><td>4.3   </td><td>3.0   </td><td>1.1   </td><td>0.1   </td><td>setosa</td></tr>\n",
       "\t<tr><td>4.4   </td><td>2.9   </td><td>1.4   </td><td>0.2   </td><td>setosa</td></tr>\n",
       "\t<tr><td>4.4   </td><td>3.0   </td><td>1.3   </td><td>0.2   </td><td>setosa</td></tr>\n",
       "\t<tr><td>4.4   </td><td>3.2   </td><td>1.3   </td><td>0.2   </td><td>setosa</td></tr>\n",
       "\t<tr><td>4.5   </td><td>2.3   </td><td>1.3   </td><td>0.3   </td><td>setosa</td></tr>\n",
       "\t<tr><td>4.6   </td><td>3.1   </td><td>1.5   </td><td>0.2   </td><td>setosa</td></tr>\n",
       "</tbody>\n",
       "</table>\n"
      ],
      "text/latex": [
       "\\begin{tabular}{r|lllll}\n",
       " Sepal.Length & Sepal.Width & Petal.Length & Petal.Width & Species\\\\\n",
       "\\hline\n",
       "\t 4.3    & 3.0    & 1.1    & 0.1    & setosa\\\\\n",
       "\t 4.4    & 2.9    & 1.4    & 0.2    & setosa\\\\\n",
       "\t 4.4    & 3.0    & 1.3    & 0.2    & setosa\\\\\n",
       "\t 4.4    & 3.2    & 1.3    & 0.2    & setosa\\\\\n",
       "\t 4.5    & 2.3    & 1.3    & 0.3    & setosa\\\\\n",
       "\t 4.6    & 3.1    & 1.5    & 0.2    & setosa\\\\\n",
       "\\end{tabular}\n"
      ],
      "text/markdown": [
       "\n",
       "| Sepal.Length | Sepal.Width | Petal.Length | Petal.Width | Species |\n",
       "|---|---|---|---|---|\n",
       "| 4.3    | 3.0    | 1.1    | 0.1    | setosa |\n",
       "| 4.4    | 2.9    | 1.4    | 0.2    | setosa |\n",
       "| 4.4    | 3.0    | 1.3    | 0.2    | setosa |\n",
       "| 4.4    | 3.2    | 1.3    | 0.2    | setosa |\n",
       "| 4.5    | 2.3    | 1.3    | 0.3    | setosa |\n",
       "| 4.6    | 3.1    | 1.5    | 0.2    | setosa |\n",
       "\n"
      ],
      "text/plain": [
       "  Sepal.Length Sepal.Width Petal.Length Petal.Width Species\n",
       "1 4.3          3.0         1.1          0.1         setosa \n",
       "2 4.4          2.9         1.4          0.2         setosa \n",
       "3 4.4          3.0         1.3          0.2         setosa \n",
       "4 4.4          3.2         1.3          0.2         setosa \n",
       "5 4.5          2.3         1.3          0.3         setosa \n",
       "6 4.6          3.1         1.5          0.2         setosa "
      ]
     },
     "metadata": {},
     "output_type": "display_data"
    }
   ],
   "source": [
    "# Sepal.Length 기준으로 오름차순 정렬하기\n",
    "head(arrange(iris, Sepal.Length))   #arrange 정렬"
   ]
  },
  {
   "cell_type": "code",
   "execution_count": 151,
   "id": "2f1cba4f",
   "metadata": {
    "vscode": {
     "languageId": "r"
    }
   },
   "outputs": [
    {
     "data": {
      "text/html": [
       "<table>\n",
       "<thead><tr><th scope=col>Sepal.Length</th><th scope=col>Sepal.Width</th><th scope=col>Petal.Length</th><th scope=col>Petal.Width</th><th scope=col>Species</th></tr></thead>\n",
       "<tbody>\n",
       "\t<tr><td>4.3   </td><td>3.0   </td><td>1.1   </td><td>0.1   </td><td>setosa</td></tr>\n",
       "\t<tr><td>4.4   </td><td>3.0   </td><td>1.3   </td><td>0.2   </td><td>setosa</td></tr>\n",
       "\t<tr><td>4.4   </td><td>3.2   </td><td>1.3   </td><td>0.2   </td><td>setosa</td></tr>\n",
       "\t<tr><td>4.4   </td><td>2.9   </td><td>1.4   </td><td>0.2   </td><td>setosa</td></tr>\n",
       "\t<tr><td>4.5   </td><td>2.3   </td><td>1.3   </td><td>0.3   </td><td>setosa</td></tr>\n",
       "\t<tr><td>4.6   </td><td>3.6   </td><td>1.0   </td><td>0.2   </td><td>setosa</td></tr>\n",
       "</tbody>\n",
       "</table>\n"
      ],
      "text/latex": [
       "\\begin{tabular}{r|lllll}\n",
       " Sepal.Length & Sepal.Width & Petal.Length & Petal.Width & Species\\\\\n",
       "\\hline\n",
       "\t 4.3    & 3.0    & 1.1    & 0.1    & setosa\\\\\n",
       "\t 4.4    & 3.0    & 1.3    & 0.2    & setosa\\\\\n",
       "\t 4.4    & 3.2    & 1.3    & 0.2    & setosa\\\\\n",
       "\t 4.4    & 2.9    & 1.4    & 0.2    & setosa\\\\\n",
       "\t 4.5    & 2.3    & 1.3    & 0.3    & setosa\\\\\n",
       "\t 4.6    & 3.6    & 1.0    & 0.2    & setosa\\\\\n",
       "\\end{tabular}\n"
      ],
      "text/markdown": [
       "\n",
       "| Sepal.Length | Sepal.Width | Petal.Length | Petal.Width | Species |\n",
       "|---|---|---|---|---|\n",
       "| 4.3    | 3.0    | 1.1    | 0.1    | setosa |\n",
       "| 4.4    | 3.0    | 1.3    | 0.2    | setosa |\n",
       "| 4.4    | 3.2    | 1.3    | 0.2    | setosa |\n",
       "| 4.4    | 2.9    | 1.4    | 0.2    | setosa |\n",
       "| 4.5    | 2.3    | 1.3    | 0.3    | setosa |\n",
       "| 4.6    | 3.6    | 1.0    | 0.2    | setosa |\n",
       "\n"
      ],
      "text/plain": [
       "  Sepal.Length Sepal.Width Petal.Length Petal.Width Species\n",
       "1 4.3          3.0         1.1          0.1         setosa \n",
       "2 4.4          3.0         1.3          0.2         setosa \n",
       "3 4.4          3.2         1.3          0.2         setosa \n",
       "4 4.4          2.9         1.4          0.2         setosa \n",
       "5 4.5          2.3         1.3          0.3         setosa \n",
       "6 4.6          3.6         1.0          0.2         setosa "
      ]
     },
     "metadata": {},
     "output_type": "display_data"
    }
   ],
   "source": [
    "# SePal.Length 기준으로 정렬후 동일한 크기를 가진 데이터 발생시 Petal.Length기준으로 오름차순으로 정렬\n",
    "\n",
    "head(arrange(iris,Sepal.Length,Petal.Length))"
   ]
  },
  {
   "cell_type": "code",
   "execution_count": 152,
   "id": "8421a045",
   "metadata": {
    "vscode": {
     "languageId": "r"
    }
   },
   "outputs": [
    {
     "data": {
      "text/html": [
       "<table>\n",
       "<thead><tr><th scope=col>Sepal.Length</th><th scope=col>Sepal.Width</th><th scope=col>Petal.Length</th><th scope=col>Petal.Width</th><th scope=col>Species</th></tr></thead>\n",
       "<tbody>\n",
       "\t<tr><td>7.9      </td><td>3.8      </td><td>6.4      </td><td>2.0      </td><td>virginica</td></tr>\n",
       "\t<tr><td>7.7      </td><td>3.8      </td><td>6.7      </td><td>2.2      </td><td>virginica</td></tr>\n",
       "\t<tr><td>7.7      </td><td>2.6      </td><td>6.9      </td><td>2.3      </td><td>virginica</td></tr>\n",
       "\t<tr><td>7.7      </td><td>2.8      </td><td>6.7      </td><td>2.0      </td><td>virginica</td></tr>\n",
       "\t<tr><td>7.7      </td><td>3.0      </td><td>6.1      </td><td>2.3      </td><td>virginica</td></tr>\n",
       "\t<tr><td>7.6      </td><td>3.0      </td><td>6.6      </td><td>2.1      </td><td>virginica</td></tr>\n",
       "</tbody>\n",
       "</table>\n"
      ],
      "text/latex": [
       "\\begin{tabular}{r|lllll}\n",
       " Sepal.Length & Sepal.Width & Petal.Length & Petal.Width & Species\\\\\n",
       "\\hline\n",
       "\t 7.9       & 3.8       & 6.4       & 2.0       & virginica\\\\\n",
       "\t 7.7       & 3.8       & 6.7       & 2.2       & virginica\\\\\n",
       "\t 7.7       & 2.6       & 6.9       & 2.3       & virginica\\\\\n",
       "\t 7.7       & 2.8       & 6.7       & 2.0       & virginica\\\\\n",
       "\t 7.7       & 3.0       & 6.1       & 2.3       & virginica\\\\\n",
       "\t 7.6       & 3.0       & 6.6       & 2.1       & virginica\\\\\n",
       "\\end{tabular}\n"
      ],
      "text/markdown": [
       "\n",
       "| Sepal.Length | Sepal.Width | Petal.Length | Petal.Width | Species |\n",
       "|---|---|---|---|---|\n",
       "| 7.9       | 3.8       | 6.4       | 2.0       | virginica |\n",
       "| 7.7       | 3.8       | 6.7       | 2.2       | virginica |\n",
       "| 7.7       | 2.6       | 6.9       | 2.3       | virginica |\n",
       "| 7.7       | 2.8       | 6.7       | 2.0       | virginica |\n",
       "| 7.7       | 3.0       | 6.1       | 2.3       | virginica |\n",
       "| 7.6       | 3.0       | 6.6       | 2.1       | virginica |\n",
       "\n"
      ],
      "text/plain": [
       "  Sepal.Length Sepal.Width Petal.Length Petal.Width Species  \n",
       "1 7.9          3.8         6.4          2.0         virginica\n",
       "2 7.7          3.8         6.7          2.2         virginica\n",
       "3 7.7          2.6         6.9          2.3         virginica\n",
       "4 7.7          2.8         6.7          2.0         virginica\n",
       "5 7.7          3.0         6.1          2.3         virginica\n",
       "6 7.6          3.0         6.6          2.1         virginica"
      ]
     },
     "metadata": {},
     "output_type": "display_data"
    }
   ],
   "source": [
    "# Sepal.Length 기준으로 내름차순 정렬하기  \n",
    "\n",
    "head(arrange(iris, desc(Sepal.Length)))"
   ]
  },
  {
   "cell_type": "code",
   "execution_count": 153,
   "id": "95623ed3",
   "metadata": {
    "vscode": {
     "languageId": "r"
    }
   },
   "outputs": [
    {
     "data": {
      "text/html": [
       "<table>\n",
       "<thead><tr><th scope=col>Sepal.Length</th><th scope=col>Sepal.Width</th></tr></thead>\n",
       "<tbody>\n",
       "\t<tr><td>7.9</td><td>3.8</td></tr>\n",
       "\t<tr><td>7.7</td><td>3.8</td></tr>\n",
       "\t<tr><td>7.7</td><td>2.6</td></tr>\n",
       "\t<tr><td>7.7</td><td>2.8</td></tr>\n",
       "\t<tr><td>7.7</td><td>3.0</td></tr>\n",
       "\t<tr><td>7.6</td><td>3.0</td></tr>\n",
       "</tbody>\n",
       "</table>\n"
      ],
      "text/latex": [
       "\\begin{tabular}{r|ll}\n",
       " Sepal.Length & Sepal.Width\\\\\n",
       "\\hline\n",
       "\t 7.9 & 3.8\\\\\n",
       "\t 7.7 & 3.8\\\\\n",
       "\t 7.7 & 2.6\\\\\n",
       "\t 7.7 & 2.8\\\\\n",
       "\t 7.7 & 3.0\\\\\n",
       "\t 7.6 & 3.0\\\\\n",
       "\\end{tabular}\n"
      ],
      "text/markdown": [
       "\n",
       "| Sepal.Length | Sepal.Width |\n",
       "|---|---|\n",
       "| 7.9 | 3.8 |\n",
       "| 7.7 | 3.8 |\n",
       "| 7.7 | 2.6 |\n",
       "| 7.7 | 2.8 |\n",
       "| 7.7 | 3.0 |\n",
       "| 7.6 | 3.0 |\n",
       "\n"
      ],
      "text/plain": [
       "  Sepal.Length Sepal.Width\n",
       "1 7.9          3.8        \n",
       "2 7.7          3.8        \n",
       "3 7.7          2.6        \n",
       "4 7.7          2.8        \n",
       "5 7.7          3.0        \n",
       "6 7.6          3.0        "
      ]
     },
     "metadata": {},
     "output_type": "display_data"
    }
   ],
   "source": [
    "# Sepal.Length 기준으로 내림차순 정렬후 Sepal.Length와 Sepal.Width 만 보기\n",
    "\n",
    "head(arrange(iris[,1:2],desc(Sepal.Length))) #iris자체가 범위이다.그래서 그안에 적어주면된다."
   ]
  },
  {
   "cell_type": "markdown",
   "id": "30582463",
   "metadata": {},
   "source": [
    "### 샘플링(Sampling)"
   ]
  },
  {
   "cell_type": "code",
   "execution_count": 154,
   "id": "825df1dd",
   "metadata": {
    "vscode": {
     "languageId": "r"
    }
   },
   "outputs": [
    {
     "data": {
      "text/html": [
       "<ol class=list-inline>\n",
       "\t<li>35</li>\n",
       "\t<li>43</li>\n",
       "\t<li>11</li>\n",
       "\t<li>3</li>\n",
       "\t<li>31</li>\n",
       "\t<li>6</li>\n",
       "</ol>\n"
      ],
      "text/latex": [
       "\\begin{enumerate*}\n",
       "\\item 35\n",
       "\\item 43\n",
       "\\item 11\n",
       "\\item 3\n",
       "\\item 31\n",
       "\\item 6\n",
       "\\end{enumerate*}\n"
      ],
      "text/markdown": [
       "1. 35\n",
       "2. 43\n",
       "3. 11\n",
       "4. 3\n",
       "5. 31\n",
       "6. 6\n",
       "\n",
       "\n"
      ],
      "text/plain": [
       "[1] 35 43 11  3 31  6"
      ]
     },
     "metadata": {},
     "output_type": "display_data"
    }
   ],
   "source": [
    "# 랜덤 샘플링(중복값을 허용하지 않음)\n",
    "sample(1:45,6)  #1에서45중 6개를 랜덤을 가져올게"
   ]
  },
  {
   "cell_type": "code",
   "execution_count": 155,
   "id": "3b7b81b2",
   "metadata": {
    "vscode": {
     "languageId": "r"
    }
   },
   "outputs": [
    {
     "data": {
      "text/html": [
       "150"
      ],
      "text/latex": [
       "150"
      ],
      "text/markdown": [
       "150"
      ],
      "text/plain": [
       "[1] 150"
      ]
     },
     "metadata": {},
     "output_type": "display_data"
    },
    {
     "data": {
      "text/html": [
       "5"
      ],
      "text/latex": [
       "5"
      ],
      "text/markdown": [
       "5"
      ],
      "text/plain": [
       "[1] 5"
      ]
     },
     "metadata": {},
     "output_type": "display_data"
    },
    {
     "data": {
      "text/html": [
       "<table>\n",
       "<thead><tr><th scope=col>Sepal.Length</th><th scope=col>Sepal.Width</th><th scope=col>Petal.Length</th><th scope=col>Petal.Width</th><th scope=col>Species</th></tr></thead>\n",
       "<tbody>\n",
       "\t<tr><td>5.1   </td><td>3.5   </td><td>1.4   </td><td>0.2   </td><td>setosa</td></tr>\n",
       "\t<tr><td>4.9   </td><td>3.0   </td><td>1.4   </td><td>0.2   </td><td>setosa</td></tr>\n",
       "\t<tr><td>4.7   </td><td>3.2   </td><td>1.3   </td><td>0.2   </td><td>setosa</td></tr>\n",
       "\t<tr><td>4.6   </td><td>3.1   </td><td>1.5   </td><td>0.2   </td><td>setosa</td></tr>\n",
       "\t<tr><td>5.0   </td><td>3.6   </td><td>1.4   </td><td>0.2   </td><td>setosa</td></tr>\n",
       "\t<tr><td>5.4   </td><td>3.9   </td><td>1.7   </td><td>0.4   </td><td>setosa</td></tr>\n",
       "\t<tr><td>4.6   </td><td>3.4   </td><td>1.4   </td><td>0.3   </td><td>setosa</td></tr>\n",
       "\t<tr><td>5.0   </td><td>3.4   </td><td>1.5   </td><td>0.2   </td><td>setosa</td></tr>\n",
       "\t<tr><td>4.4   </td><td>2.9   </td><td>1.4   </td><td>0.2   </td><td>setosa</td></tr>\n",
       "\t<tr><td>4.9   </td><td>3.1   </td><td>1.5   </td><td>0.1   </td><td>setosa</td></tr>\n",
       "\t<tr><td>5.4   </td><td>3.7   </td><td>1.5   </td><td>0.2   </td><td>setosa</td></tr>\n",
       "\t<tr><td>4.8   </td><td>3.4   </td><td>1.6   </td><td>0.2   </td><td>setosa</td></tr>\n",
       "\t<tr><td>4.8   </td><td>3.0   </td><td>1.4   </td><td>0.1   </td><td>setosa</td></tr>\n",
       "\t<tr><td>4.3   </td><td>3.0   </td><td>1.1   </td><td>0.1   </td><td>setosa</td></tr>\n",
       "\t<tr><td>5.8   </td><td>4.0   </td><td>1.2   </td><td>0.2   </td><td>setosa</td></tr>\n",
       "\t<tr><td>5.7   </td><td>4.4   </td><td>1.5   </td><td>0.4   </td><td>setosa</td></tr>\n",
       "\t<tr><td>5.4   </td><td>3.9   </td><td>1.3   </td><td>0.4   </td><td>setosa</td></tr>\n",
       "\t<tr><td>5.1   </td><td>3.5   </td><td>1.4   </td><td>0.3   </td><td>setosa</td></tr>\n",
       "\t<tr><td>5.7   </td><td>3.8   </td><td>1.7   </td><td>0.3   </td><td>setosa</td></tr>\n",
       "\t<tr><td>5.1   </td><td>3.8   </td><td>1.5   </td><td>0.3   </td><td>setosa</td></tr>\n",
       "\t<tr><td>5.4   </td><td>3.4   </td><td>1.7   </td><td>0.2   </td><td>setosa</td></tr>\n",
       "\t<tr><td>5.1   </td><td>3.7   </td><td>1.5   </td><td>0.4   </td><td>setosa</td></tr>\n",
       "\t<tr><td>4.6   </td><td>3.6   </td><td>1.0   </td><td>0.2   </td><td>setosa</td></tr>\n",
       "\t<tr><td>5.1   </td><td>3.3   </td><td>1.7   </td><td>0.5   </td><td>setosa</td></tr>\n",
       "\t<tr><td>4.8   </td><td>3.4   </td><td>1.9   </td><td>0.2   </td><td>setosa</td></tr>\n",
       "\t<tr><td>5.0   </td><td>3.0   </td><td>1.6   </td><td>0.2   </td><td>setosa</td></tr>\n",
       "\t<tr><td>5.0   </td><td>3.4   </td><td>1.6   </td><td>0.4   </td><td>setosa</td></tr>\n",
       "\t<tr><td>5.2   </td><td>3.5   </td><td>1.5   </td><td>0.2   </td><td>setosa</td></tr>\n",
       "\t<tr><td>5.2   </td><td>3.4   </td><td>1.4   </td><td>0.2   </td><td>setosa</td></tr>\n",
       "\t<tr><td>4.7   </td><td>3.2   </td><td>1.6   </td><td>0.2   </td><td>setosa</td></tr>\n",
       "\t<tr><td>...</td><td>...</td><td>...</td><td>...</td><td>...</td></tr>\n",
       "\t<tr><td>6.9      </td><td>3.2      </td><td>5.7      </td><td>2.3      </td><td>virginica</td></tr>\n",
       "\t<tr><td>5.6      </td><td>2.8      </td><td>4.9      </td><td>2.0      </td><td>virginica</td></tr>\n",
       "\t<tr><td>7.7      </td><td>2.8      </td><td>6.7      </td><td>2.0      </td><td>virginica</td></tr>\n",
       "\t<tr><td>6.3      </td><td>2.7      </td><td>4.9      </td><td>1.8      </td><td>virginica</td></tr>\n",
       "\t<tr><td>6.7      </td><td>3.3      </td><td>5.7      </td><td>2.1      </td><td>virginica</td></tr>\n",
       "\t<tr><td>7.2      </td><td>3.2      </td><td>6.0      </td><td>1.8      </td><td>virginica</td></tr>\n",
       "\t<tr><td>6.2      </td><td>2.8      </td><td>4.8      </td><td>1.8      </td><td>virginica</td></tr>\n",
       "\t<tr><td>6.1      </td><td>3.0      </td><td>4.9      </td><td>1.8      </td><td>virginica</td></tr>\n",
       "\t<tr><td>6.4      </td><td>2.8      </td><td>5.6      </td><td>2.1      </td><td>virginica</td></tr>\n",
       "\t<tr><td>7.2      </td><td>3.0      </td><td>5.8      </td><td>1.6      </td><td>virginica</td></tr>\n",
       "\t<tr><td>7.4      </td><td>2.8      </td><td>6.1      </td><td>1.9      </td><td>virginica</td></tr>\n",
       "\t<tr><td>7.9      </td><td>3.8      </td><td>6.4      </td><td>2.0      </td><td>virginica</td></tr>\n",
       "\t<tr><td>6.4      </td><td>2.8      </td><td>5.6      </td><td>2.2      </td><td>virginica</td></tr>\n",
       "\t<tr><td>6.3      </td><td>2.8      </td><td>5.1      </td><td>1.5      </td><td>virginica</td></tr>\n",
       "\t<tr><td>6.1      </td><td>2.6      </td><td>5.6      </td><td>1.4      </td><td>virginica</td></tr>\n",
       "\t<tr><td>7.7      </td><td>3.0      </td><td>6.1      </td><td>2.3      </td><td>virginica</td></tr>\n",
       "\t<tr><td>6.3      </td><td>3.4      </td><td>5.6      </td><td>2.4      </td><td>virginica</td></tr>\n",
       "\t<tr><td>6.4      </td><td>3.1      </td><td>5.5      </td><td>1.8      </td><td>virginica</td></tr>\n",
       "\t<tr><td>6.0      </td><td>3.0      </td><td>4.8      </td><td>1.8      </td><td>virginica</td></tr>\n",
       "\t<tr><td>6.9      </td><td>3.1      </td><td>5.4      </td><td>2.1      </td><td>virginica</td></tr>\n",
       "\t<tr><td>6.7      </td><td>3.1      </td><td>5.6      </td><td>2.4      </td><td>virginica</td></tr>\n",
       "\t<tr><td>6.9      </td><td>3.1      </td><td>5.1      </td><td>2.3      </td><td>virginica</td></tr>\n",
       "\t<tr><td>5.8      </td><td>2.7      </td><td>5.1      </td><td>1.9      </td><td>virginica</td></tr>\n",
       "\t<tr><td>6.8      </td><td>3.2      </td><td>5.9      </td><td>2.3      </td><td>virginica</td></tr>\n",
       "\t<tr><td>6.7      </td><td>3.3      </td><td>5.7      </td><td>2.5      </td><td>virginica</td></tr>\n",
       "\t<tr><td>6.7      </td><td>3.0      </td><td>5.2      </td><td>2.3      </td><td>virginica</td></tr>\n",
       "\t<tr><td>6.3      </td><td>2.5      </td><td>5.0      </td><td>1.9      </td><td>virginica</td></tr>\n",
       "\t<tr><td>6.5      </td><td>3.0      </td><td>5.2      </td><td>2.0      </td><td>virginica</td></tr>\n",
       "\t<tr><td>6.2      </td><td>3.4      </td><td>5.4      </td><td>2.3      </td><td>virginica</td></tr>\n",
       "\t<tr><td>5.9      </td><td>3.0      </td><td>5.1      </td><td>1.8      </td><td>virginica</td></tr>\n",
       "</tbody>\n",
       "</table>\n"
      ],
      "text/latex": [
       "\\begin{tabular}{r|lllll}\n",
       " Sepal.Length & Sepal.Width & Petal.Length & Petal.Width & Species\\\\\n",
       "\\hline\n",
       "\t 5.1    & 3.5    & 1.4    & 0.2    & setosa\\\\\n",
       "\t 4.9    & 3.0    & 1.4    & 0.2    & setosa\\\\\n",
       "\t 4.7    & 3.2    & 1.3    & 0.2    & setosa\\\\\n",
       "\t 4.6    & 3.1    & 1.5    & 0.2    & setosa\\\\\n",
       "\t 5.0    & 3.6    & 1.4    & 0.2    & setosa\\\\\n",
       "\t 5.4    & 3.9    & 1.7    & 0.4    & setosa\\\\\n",
       "\t 4.6    & 3.4    & 1.4    & 0.3    & setosa\\\\\n",
       "\t 5.0    & 3.4    & 1.5    & 0.2    & setosa\\\\\n",
       "\t 4.4    & 2.9    & 1.4    & 0.2    & setosa\\\\\n",
       "\t 4.9    & 3.1    & 1.5    & 0.1    & setosa\\\\\n",
       "\t 5.4    & 3.7    & 1.5    & 0.2    & setosa\\\\\n",
       "\t 4.8    & 3.4    & 1.6    & 0.2    & setosa\\\\\n",
       "\t 4.8    & 3.0    & 1.4    & 0.1    & setosa\\\\\n",
       "\t 4.3    & 3.0    & 1.1    & 0.1    & setosa\\\\\n",
       "\t 5.8    & 4.0    & 1.2    & 0.2    & setosa\\\\\n",
       "\t 5.7    & 4.4    & 1.5    & 0.4    & setosa\\\\\n",
       "\t 5.4    & 3.9    & 1.3    & 0.4    & setosa\\\\\n",
       "\t 5.1    & 3.5    & 1.4    & 0.3    & setosa\\\\\n",
       "\t 5.7    & 3.8    & 1.7    & 0.3    & setosa\\\\\n",
       "\t 5.1    & 3.8    & 1.5    & 0.3    & setosa\\\\\n",
       "\t 5.4    & 3.4    & 1.7    & 0.2    & setosa\\\\\n",
       "\t 5.1    & 3.7    & 1.5    & 0.4    & setosa\\\\\n",
       "\t 4.6    & 3.6    & 1.0    & 0.2    & setosa\\\\\n",
       "\t 5.1    & 3.3    & 1.7    & 0.5    & setosa\\\\\n",
       "\t 4.8    & 3.4    & 1.9    & 0.2    & setosa\\\\\n",
       "\t 5.0    & 3.0    & 1.6    & 0.2    & setosa\\\\\n",
       "\t 5.0    & 3.4    & 1.6    & 0.4    & setosa\\\\\n",
       "\t 5.2    & 3.5    & 1.5    & 0.2    & setosa\\\\\n",
       "\t 5.2    & 3.4    & 1.4    & 0.2    & setosa\\\\\n",
       "\t 4.7    & 3.2    & 1.6    & 0.2    & setosa\\\\\n",
       "\t ... & ... & ... & ... & ...\\\\\n",
       "\t 6.9       & 3.2       & 5.7       & 2.3       & virginica\\\\\n",
       "\t 5.6       & 2.8       & 4.9       & 2.0       & virginica\\\\\n",
       "\t 7.7       & 2.8       & 6.7       & 2.0       & virginica\\\\\n",
       "\t 6.3       & 2.7       & 4.9       & 1.8       & virginica\\\\\n",
       "\t 6.7       & 3.3       & 5.7       & 2.1       & virginica\\\\\n",
       "\t 7.2       & 3.2       & 6.0       & 1.8       & virginica\\\\\n",
       "\t 6.2       & 2.8       & 4.8       & 1.8       & virginica\\\\\n",
       "\t 6.1       & 3.0       & 4.9       & 1.8       & virginica\\\\\n",
       "\t 6.4       & 2.8       & 5.6       & 2.1       & virginica\\\\\n",
       "\t 7.2       & 3.0       & 5.8       & 1.6       & virginica\\\\\n",
       "\t 7.4       & 2.8       & 6.1       & 1.9       & virginica\\\\\n",
       "\t 7.9       & 3.8       & 6.4       & 2.0       & virginica\\\\\n",
       "\t 6.4       & 2.8       & 5.6       & 2.2       & virginica\\\\\n",
       "\t 6.3       & 2.8       & 5.1       & 1.5       & virginica\\\\\n",
       "\t 6.1       & 2.6       & 5.6       & 1.4       & virginica\\\\\n",
       "\t 7.7       & 3.0       & 6.1       & 2.3       & virginica\\\\\n",
       "\t 6.3       & 3.4       & 5.6       & 2.4       & virginica\\\\\n",
       "\t 6.4       & 3.1       & 5.5       & 1.8       & virginica\\\\\n",
       "\t 6.0       & 3.0       & 4.8       & 1.8       & virginica\\\\\n",
       "\t 6.9       & 3.1       & 5.4       & 2.1       & virginica\\\\\n",
       "\t 6.7       & 3.1       & 5.6       & 2.4       & virginica\\\\\n",
       "\t 6.9       & 3.1       & 5.1       & 2.3       & virginica\\\\\n",
       "\t 5.8       & 2.7       & 5.1       & 1.9       & virginica\\\\\n",
       "\t 6.8       & 3.2       & 5.9       & 2.3       & virginica\\\\\n",
       "\t 6.7       & 3.3       & 5.7       & 2.5       & virginica\\\\\n",
       "\t 6.7       & 3.0       & 5.2       & 2.3       & virginica\\\\\n",
       "\t 6.3       & 2.5       & 5.0       & 1.9       & virginica\\\\\n",
       "\t 6.5       & 3.0       & 5.2       & 2.0       & virginica\\\\\n",
       "\t 6.2       & 3.4       & 5.4       & 2.3       & virginica\\\\\n",
       "\t 5.9       & 3.0       & 5.1       & 1.8       & virginica\\\\\n",
       "\\end{tabular}\n"
      ],
      "text/markdown": [
       "\n",
       "| Sepal.Length | Sepal.Width | Petal.Length | Petal.Width | Species |\n",
       "|---|---|---|---|---|\n",
       "| 5.1    | 3.5    | 1.4    | 0.2    | setosa |\n",
       "| 4.9    | 3.0    | 1.4    | 0.2    | setosa |\n",
       "| 4.7    | 3.2    | 1.3    | 0.2    | setosa |\n",
       "| 4.6    | 3.1    | 1.5    | 0.2    | setosa |\n",
       "| 5.0    | 3.6    | 1.4    | 0.2    | setosa |\n",
       "| 5.4    | 3.9    | 1.7    | 0.4    | setosa |\n",
       "| 4.6    | 3.4    | 1.4    | 0.3    | setosa |\n",
       "| 5.0    | 3.4    | 1.5    | 0.2    | setosa |\n",
       "| 4.4    | 2.9    | 1.4    | 0.2    | setosa |\n",
       "| 4.9    | 3.1    | 1.5    | 0.1    | setosa |\n",
       "| 5.4    | 3.7    | 1.5    | 0.2    | setosa |\n",
       "| 4.8    | 3.4    | 1.6    | 0.2    | setosa |\n",
       "| 4.8    | 3.0    | 1.4    | 0.1    | setosa |\n",
       "| 4.3    | 3.0    | 1.1    | 0.1    | setosa |\n",
       "| 5.8    | 4.0    | 1.2    | 0.2    | setosa |\n",
       "| 5.7    | 4.4    | 1.5    | 0.4    | setosa |\n",
       "| 5.4    | 3.9    | 1.3    | 0.4    | setosa |\n",
       "| 5.1    | 3.5    | 1.4    | 0.3    | setosa |\n",
       "| 5.7    | 3.8    | 1.7    | 0.3    | setosa |\n",
       "| 5.1    | 3.8    | 1.5    | 0.3    | setosa |\n",
       "| 5.4    | 3.4    | 1.7    | 0.2    | setosa |\n",
       "| 5.1    | 3.7    | 1.5    | 0.4    | setosa |\n",
       "| 4.6    | 3.6    | 1.0    | 0.2    | setosa |\n",
       "| 5.1    | 3.3    | 1.7    | 0.5    | setosa |\n",
       "| 4.8    | 3.4    | 1.9    | 0.2    | setosa |\n",
       "| 5.0    | 3.0    | 1.6    | 0.2    | setosa |\n",
       "| 5.0    | 3.4    | 1.6    | 0.4    | setosa |\n",
       "| 5.2    | 3.5    | 1.5    | 0.2    | setosa |\n",
       "| 5.2    | 3.4    | 1.4    | 0.2    | setosa |\n",
       "| 4.7    | 3.2    | 1.6    | 0.2    | setosa |\n",
       "| ... | ... | ... | ... | ... |\n",
       "| 6.9       | 3.2       | 5.7       | 2.3       | virginica |\n",
       "| 5.6       | 2.8       | 4.9       | 2.0       | virginica |\n",
       "| 7.7       | 2.8       | 6.7       | 2.0       | virginica |\n",
       "| 6.3       | 2.7       | 4.9       | 1.8       | virginica |\n",
       "| 6.7       | 3.3       | 5.7       | 2.1       | virginica |\n",
       "| 7.2       | 3.2       | 6.0       | 1.8       | virginica |\n",
       "| 6.2       | 2.8       | 4.8       | 1.8       | virginica |\n",
       "| 6.1       | 3.0       | 4.9       | 1.8       | virginica |\n",
       "| 6.4       | 2.8       | 5.6       | 2.1       | virginica |\n",
       "| 7.2       | 3.0       | 5.8       | 1.6       | virginica |\n",
       "| 7.4       | 2.8       | 6.1       | 1.9       | virginica |\n",
       "| 7.9       | 3.8       | 6.4       | 2.0       | virginica |\n",
       "| 6.4       | 2.8       | 5.6       | 2.2       | virginica |\n",
       "| 6.3       | 2.8       | 5.1       | 1.5       | virginica |\n",
       "| 6.1       | 2.6       | 5.6       | 1.4       | virginica |\n",
       "| 7.7       | 3.0       | 6.1       | 2.3       | virginica |\n",
       "| 6.3       | 3.4       | 5.6       | 2.4       | virginica |\n",
       "| 6.4       | 3.1       | 5.5       | 1.8       | virginica |\n",
       "| 6.0       | 3.0       | 4.8       | 1.8       | virginica |\n",
       "| 6.9       | 3.1       | 5.4       | 2.1       | virginica |\n",
       "| 6.7       | 3.1       | 5.6       | 2.4       | virginica |\n",
       "| 6.9       | 3.1       | 5.1       | 2.3       | virginica |\n",
       "| 5.8       | 2.7       | 5.1       | 1.9       | virginica |\n",
       "| 6.8       | 3.2       | 5.9       | 2.3       | virginica |\n",
       "| 6.7       | 3.3       | 5.7       | 2.5       | virginica |\n",
       "| 6.7       | 3.0       | 5.2       | 2.3       | virginica |\n",
       "| 6.3       | 2.5       | 5.0       | 1.9       | virginica |\n",
       "| 6.5       | 3.0       | 5.2       | 2.0       | virginica |\n",
       "| 6.2       | 3.4       | 5.4       | 2.3       | virginica |\n",
       "| 5.9       | 3.0       | 5.1       | 1.8       | virginica |\n",
       "\n"
      ],
      "text/plain": [
       "    Sepal.Length Sepal.Width Petal.Length Petal.Width Species  \n",
       "1   5.1          3.5         1.4          0.2         setosa   \n",
       "2   4.9          3.0         1.4          0.2         setosa   \n",
       "3   4.7          3.2         1.3          0.2         setosa   \n",
       "4   4.6          3.1         1.5          0.2         setosa   \n",
       "5   5.0          3.6         1.4          0.2         setosa   \n",
       "6   5.4          3.9         1.7          0.4         setosa   \n",
       "7   4.6          3.4         1.4          0.3         setosa   \n",
       "8   5.0          3.4         1.5          0.2         setosa   \n",
       "9   4.4          2.9         1.4          0.2         setosa   \n",
       "10  4.9          3.1         1.5          0.1         setosa   \n",
       "11  5.4          3.7         1.5          0.2         setosa   \n",
       "12  4.8          3.4         1.6          0.2         setosa   \n",
       "13  4.8          3.0         1.4          0.1         setosa   \n",
       "14  4.3          3.0         1.1          0.1         setosa   \n",
       "15  5.8          4.0         1.2          0.2         setosa   \n",
       "16  5.7          4.4         1.5          0.4         setosa   \n",
       "17  5.4          3.9         1.3          0.4         setosa   \n",
       "18  5.1          3.5         1.4          0.3         setosa   \n",
       "19  5.7          3.8         1.7          0.3         setosa   \n",
       "20  5.1          3.8         1.5          0.3         setosa   \n",
       "21  5.4          3.4         1.7          0.2         setosa   \n",
       "22  5.1          3.7         1.5          0.4         setosa   \n",
       "23  4.6          3.6         1.0          0.2         setosa   \n",
       "24  5.1          3.3         1.7          0.5         setosa   \n",
       "25  4.8          3.4         1.9          0.2         setosa   \n",
       "26  5.0          3.0         1.6          0.2         setosa   \n",
       "27  5.0          3.4         1.6          0.4         setosa   \n",
       "28  5.2          3.5         1.5          0.2         setosa   \n",
       "29  5.2          3.4         1.4          0.2         setosa   \n",
       "30  4.7          3.2         1.6          0.2         setosa   \n",
       "... ...          ...         ...          ...         ...      \n",
       "121 6.9          3.2         5.7          2.3         virginica\n",
       "122 5.6          2.8         4.9          2.0         virginica\n",
       "123 7.7          2.8         6.7          2.0         virginica\n",
       "124 6.3          2.7         4.9          1.8         virginica\n",
       "125 6.7          3.3         5.7          2.1         virginica\n",
       "126 7.2          3.2         6.0          1.8         virginica\n",
       "127 6.2          2.8         4.8          1.8         virginica\n",
       "128 6.1          3.0         4.9          1.8         virginica\n",
       "129 6.4          2.8         5.6          2.1         virginica\n",
       "130 7.2          3.0         5.8          1.6         virginica\n",
       "131 7.4          2.8         6.1          1.9         virginica\n",
       "132 7.9          3.8         6.4          2.0         virginica\n",
       "133 6.4          2.8         5.6          2.2         virginica\n",
       "134 6.3          2.8         5.1          1.5         virginica\n",
       "135 6.1          2.6         5.6          1.4         virginica\n",
       "136 7.7          3.0         6.1          2.3         virginica\n",
       "137 6.3          3.4         5.6          2.4         virginica\n",
       "138 6.4          3.1         5.5          1.8         virginica\n",
       "139 6.0          3.0         4.8          1.8         virginica\n",
       "140 6.9          3.1         5.4          2.1         virginica\n",
       "141 6.7          3.1         5.6          2.4         virginica\n",
       "142 6.9          3.1         5.1          2.3         virginica\n",
       "143 5.8          2.7         5.1          1.9         virginica\n",
       "144 6.8          3.2         5.9          2.3         virginica\n",
       "145 6.7          3.3         5.7          2.5         virginica\n",
       "146 6.7          3.0         5.2          2.3         virginica\n",
       "147 6.3          2.5         5.0          1.9         virginica\n",
       "148 6.5          3.0         5.2          2.0         virginica\n",
       "149 6.2          3.4         5.4          2.3         virginica\n",
       "150 5.9          3.0         5.1          1.8         virginica"
      ]
     },
     "metadata": {},
     "output_type": "display_data"
    }
   ],
   "source": [
    "nrow(iris)\n",
    "ncol(iris)\n",
    "iris"
   ]
  },
  {
   "cell_type": "code",
   "execution_count": 156,
   "id": "623bd5d3",
   "metadata": {
    "vscode": {
     "languageId": "r"
    }
   },
   "outputs": [
    {
     "data": {
      "text/html": [
       "<ol class=list-inline>\n",
       "\t<li>35</li>\n",
       "\t<li>131</li>\n",
       "\t<li>6</li>\n",
       "\t<li>89</li>\n",
       "\t<li>142</li>\n",
       "\t<li>50</li>\n",
       "\t<li>113</li>\n",
       "\t<li>69</li>\n",
       "\t<li>80</li>\n",
       "\t<li>33</li>\n",
       "\t<li>10</li>\n",
       "\t<li>26</li>\n",
       "\t<li>107</li>\n",
       "\t<li>63</li>\n",
       "\t<li>76</li>\n",
       "\t<li>12</li>\n",
       "\t<li>30</li>\n",
       "\t<li>101</li>\n",
       "\t<li>133</li>\n",
       "\t<li>39</li>\n",
       "\t<li>36</li>\n",
       "\t<li>119</li>\n",
       "\t<li>47</li>\n",
       "\t<li>3</li>\n",
       "\t<li>93</li>\n",
       "\t<li>25</li>\n",
       "\t<li>45</li>\n",
       "\t<li>147</li>\n",
       "\t<li>83</li>\n",
       "\t<li>48</li>\n",
       "\t<li>21</li>\n",
       "\t<li>67</li>\n",
       "\t<li>137</li>\n",
       "\t<li>41</li>\n",
       "\t<li>134</li>\n",
       "\t<li>8</li>\n",
       "\t<li>11</li>\n",
       "\t<li>120</li>\n",
       "\t<li>98</li>\n",
       "\t<li>136</li>\n",
       "\t<li>54</li>\n",
       "\t<li>75</li>\n",
       "\t<li>7</li>\n",
       "\t<li>62</li>\n",
       "\t<li>55</li>\n",
       "\t<li>115</li>\n",
       "\t<li>73</li>\n",
       "\t<li>102</li>\n",
       "\t<li>72</li>\n",
       "\t<li>86</li>\n",
       "\t<li>79</li>\n",
       "\t<li>5</li>\n",
       "\t<li>114</li>\n",
       "\t<li>53</li>\n",
       "\t<li>51</li>\n",
       "\t<li>96</li>\n",
       "\t<li>22</li>\n",
       "\t<li>150</li>\n",
       "\t<li>2</li>\n",
       "\t<li>37</li>\n",
       "\t<li>141</li>\n",
       "\t<li>66</li>\n",
       "\t<li>34</li>\n",
       "\t<li>104</li>\n",
       "\t<li>82</li>\n",
       "\t<li>88</li>\n",
       "\t<li>94</li>\n",
       "\t<li>58</li>\n",
       "\t<li>28</li>\n",
       "\t<li>122</li>\n",
       "\t<li>138</li>\n",
       "\t<li>18</li>\n",
       "\t<li>77</li>\n",
       "\t<li>124</li>\n",
       "\t<li>125</li>\n",
       "\t<li>123</li>\n",
       "\t<li>91</li>\n",
       "\t<li>95</li>\n",
       "\t<li>27</li>\n",
       "\t<li>112</li>\n",
       "\t<li>14</li>\n",
       "\t<li>117</li>\n",
       "\t<li>116</li>\n",
       "\t<li>31</li>\n",
       "\t<li>57</li>\n",
       "\t<li>109</li>\n",
       "\t<li>110</li>\n",
       "\t<li>46</li>\n",
       "\t<li>38</li>\n",
       "\t<li>146</li>\n",
       "\t<li>81</li>\n",
       "\t<li>24</li>\n",
       "\t<li>143</li>\n",
       "\t<li>144</li>\n",
       "\t<li>129</li>\n",
       "\t<li>29</li>\n",
       "\t<li>23</li>\n",
       "\t<li>15</li>\n",
       "\t<li>135</li>\n",
       "\t<li>121</li>\n",
       "\t<li>43</li>\n",
       "\t<li>74</li>\n",
       "\t<li>9</li>\n",
       "\t<li>106</li>\n",
       "\t<li>70</li>\n",
       "</ol>\n"
      ],
      "text/latex": [
       "\\begin{enumerate*}\n",
       "\\item 35\n",
       "\\item 131\n",
       "\\item 6\n",
       "\\item 89\n",
       "\\item 142\n",
       "\\item 50\n",
       "\\item 113\n",
       "\\item 69\n",
       "\\item 80\n",
       "\\item 33\n",
       "\\item 10\n",
       "\\item 26\n",
       "\\item 107\n",
       "\\item 63\n",
       "\\item 76\n",
       "\\item 12\n",
       "\\item 30\n",
       "\\item 101\n",
       "\\item 133\n",
       "\\item 39\n",
       "\\item 36\n",
       "\\item 119\n",
       "\\item 47\n",
       "\\item 3\n",
       "\\item 93\n",
       "\\item 25\n",
       "\\item 45\n",
       "\\item 147\n",
       "\\item 83\n",
       "\\item 48\n",
       "\\item 21\n",
       "\\item 67\n",
       "\\item 137\n",
       "\\item 41\n",
       "\\item 134\n",
       "\\item 8\n",
       "\\item 11\n",
       "\\item 120\n",
       "\\item 98\n",
       "\\item 136\n",
       "\\item 54\n",
       "\\item 75\n",
       "\\item 7\n",
       "\\item 62\n",
       "\\item 55\n",
       "\\item 115\n",
       "\\item 73\n",
       "\\item 102\n",
       "\\item 72\n",
       "\\item 86\n",
       "\\item 79\n",
       "\\item 5\n",
       "\\item 114\n",
       "\\item 53\n",
       "\\item 51\n",
       "\\item 96\n",
       "\\item 22\n",
       "\\item 150\n",
       "\\item 2\n",
       "\\item 37\n",
       "\\item 141\n",
       "\\item 66\n",
       "\\item 34\n",
       "\\item 104\n",
       "\\item 82\n",
       "\\item 88\n",
       "\\item 94\n",
       "\\item 58\n",
       "\\item 28\n",
       "\\item 122\n",
       "\\item 138\n",
       "\\item 18\n",
       "\\item 77\n",
       "\\item 124\n",
       "\\item 125\n",
       "\\item 123\n",
       "\\item 91\n",
       "\\item 95\n",
       "\\item 27\n",
       "\\item 112\n",
       "\\item 14\n",
       "\\item 117\n",
       "\\item 116\n",
       "\\item 31\n",
       "\\item 57\n",
       "\\item 109\n",
       "\\item 110\n",
       "\\item 46\n",
       "\\item 38\n",
       "\\item 146\n",
       "\\item 81\n",
       "\\item 24\n",
       "\\item 143\n",
       "\\item 144\n",
       "\\item 129\n",
       "\\item 29\n",
       "\\item 23\n",
       "\\item 15\n",
       "\\item 135\n",
       "\\item 121\n",
       "\\item 43\n",
       "\\item 74\n",
       "\\item 9\n",
       "\\item 106\n",
       "\\item 70\n",
       "\\end{enumerate*}\n"
      ],
      "text/markdown": [
       "1. 35\n",
       "2. 131\n",
       "3. 6\n",
       "4. 89\n",
       "5. 142\n",
       "6. 50\n",
       "7. 113\n",
       "8. 69\n",
       "9. 80\n",
       "10. 33\n",
       "11. 10\n",
       "12. 26\n",
       "13. 107\n",
       "14. 63\n",
       "15. 76\n",
       "16. 12\n",
       "17. 30\n",
       "18. 101\n",
       "19. 133\n",
       "20. 39\n",
       "21. 36\n",
       "22. 119\n",
       "23. 47\n",
       "24. 3\n",
       "25. 93\n",
       "26. 25\n",
       "27. 45\n",
       "28. 147\n",
       "29. 83\n",
       "30. 48\n",
       "31. 21\n",
       "32. 67\n",
       "33. 137\n",
       "34. 41\n",
       "35. 134\n",
       "36. 8\n",
       "37. 11\n",
       "38. 120\n",
       "39. 98\n",
       "40. 136\n",
       "41. 54\n",
       "42. 75\n",
       "43. 7\n",
       "44. 62\n",
       "45. 55\n",
       "46. 115\n",
       "47. 73\n",
       "48. 102\n",
       "49. 72\n",
       "50. 86\n",
       "51. 79\n",
       "52. 5\n",
       "53. 114\n",
       "54. 53\n",
       "55. 51\n",
       "56. 96\n",
       "57. 22\n",
       "58. 150\n",
       "59. 2\n",
       "60. 37\n",
       "61. 141\n",
       "62. 66\n",
       "63. 34\n",
       "64. 104\n",
       "65. 82\n",
       "66. 88\n",
       "67. 94\n",
       "68. 58\n",
       "69. 28\n",
       "70. 122\n",
       "71. 138\n",
       "72. 18\n",
       "73. 77\n",
       "74. 124\n",
       "75. 125\n",
       "76. 123\n",
       "77. 91\n",
       "78. 95\n",
       "79. 27\n",
       "80. 112\n",
       "81. 14\n",
       "82. 117\n",
       "83. 116\n",
       "84. 31\n",
       "85. 57\n",
       "86. 109\n",
       "87. 110\n",
       "88. 46\n",
       "89. 38\n",
       "90. 146\n",
       "91. 81\n",
       "92. 24\n",
       "93. 143\n",
       "94. 144\n",
       "95. 129\n",
       "96. 29\n",
       "97. 23\n",
       "98. 15\n",
       "99. 135\n",
       "100. 121\n",
       "101. 43\n",
       "102. 74\n",
       "103. 9\n",
       "104. 106\n",
       "105. 70\n",
       "\n",
       "\n"
      ],
      "text/plain": [
       "  [1]  35 131   6  89 142  50 113  69  80  33  10  26 107  63  76  12  30 101\n",
       " [19] 133  39  36 119  47   3  93  25  45 147  83  48  21  67 137  41 134   8\n",
       " [37]  11 120  98 136  54  75   7  62  55 115  73 102  72  86  79   5 114  53\n",
       " [55]  51  96  22 150   2  37 141  66  34 104  82  88  94  58  28 122 138  18\n",
       " [73]  77 124 125 123  91  95  27 112  14 117 116  31  57 109 110  46  38 146\n",
       " [91]  81  24 143 144 129  29  23  15 135 121  43  74   9 106  70"
      ]
     },
     "metadata": {},
     "output_type": "display_data"
    }
   ],
   "source": [
    "sample <- sample(1:nrow(iris), nrow(iris)*0.7) #!!!!!!!!!!!!!!!!!!!!!!!!!!!!!!!!!!!!!!!!!!!!!!!!!!!!!!!!!!!!!!!!!!!!!!!!!!!!!!!!!!!!!!!!!!!!!!!!!!!!!!!!!!!!!!!!!!!!!!!!!!!!\n",
    "sample"
   ]
  },
  {
   "cell_type": "code",
   "execution_count": 157,
   "id": "07f48151",
   "metadata": {
    "vscode": {
     "languageId": "r"
    }
   },
   "outputs": [
    {
     "data": {
      "text/html": [
       "<table>\n",
       "<thead><tr><th></th><th scope=col>Sepal.Length</th><th scope=col>Sepal.Width</th><th scope=col>Petal.Length</th><th scope=col>Petal.Width</th><th scope=col>Species</th></tr></thead>\n",
       "<tbody>\n",
       "\t<tr><th scope=row>35</th><td>4.9       </td><td>3.1       </td><td>1.5       </td><td>0.2       </td><td>setosa    </td></tr>\n",
       "\t<tr><th scope=row>131</th><td>7.4       </td><td>2.8       </td><td>6.1       </td><td>1.9       </td><td>virginica </td></tr>\n",
       "\t<tr><th scope=row>6</th><td>5.4       </td><td>3.9       </td><td>1.7       </td><td>0.4       </td><td>setosa    </td></tr>\n",
       "\t<tr><th scope=row>89</th><td>5.6       </td><td>3.0       </td><td>4.1       </td><td>1.3       </td><td>versicolor</td></tr>\n",
       "\t<tr><th scope=row>142</th><td>6.9       </td><td>3.1       </td><td>5.1       </td><td>2.3       </td><td>virginica </td></tr>\n",
       "\t<tr><th scope=row>50</th><td>5.0       </td><td>3.3       </td><td>1.4       </td><td>0.2       </td><td>setosa    </td></tr>\n",
       "</tbody>\n",
       "</table>\n"
      ],
      "text/latex": [
       "\\begin{tabular}{r|lllll}\n",
       "  & Sepal.Length & Sepal.Width & Petal.Length & Petal.Width & Species\\\\\n",
       "\\hline\n",
       "\t35 & 4.9        & 3.1        & 1.5        & 0.2        & setosa    \\\\\n",
       "\t131 & 7.4        & 2.8        & 6.1        & 1.9        & virginica \\\\\n",
       "\t6 & 5.4        & 3.9        & 1.7        & 0.4        & setosa    \\\\\n",
       "\t89 & 5.6        & 3.0        & 4.1        & 1.3        & versicolor\\\\\n",
       "\t142 & 6.9        & 3.1        & 5.1        & 2.3        & virginica \\\\\n",
       "\t50 & 5.0        & 3.3        & 1.4        & 0.2        & setosa    \\\\\n",
       "\\end{tabular}\n"
      ],
      "text/markdown": [
       "\n",
       "| <!--/--> | Sepal.Length | Sepal.Width | Petal.Length | Petal.Width | Species |\n",
       "|---|---|---|---|---|---|\n",
       "| 35 | 4.9        | 3.1        | 1.5        | 0.2        | setosa     |\n",
       "| 131 | 7.4        | 2.8        | 6.1        | 1.9        | virginica  |\n",
       "| 6 | 5.4        | 3.9        | 1.7        | 0.4        | setosa     |\n",
       "| 89 | 5.6        | 3.0        | 4.1        | 1.3        | versicolor |\n",
       "| 142 | 6.9        | 3.1        | 5.1        | 2.3        | virginica  |\n",
       "| 50 | 5.0        | 3.3        | 1.4        | 0.2        | setosa     |\n",
       "\n"
      ],
      "text/plain": [
       "    Sepal.Length Sepal.Width Petal.Length Petal.Width Species   \n",
       "35  4.9          3.1         1.5          0.2         setosa    \n",
       "131 7.4          2.8         6.1          1.9         virginica \n",
       "6   5.4          3.9         1.7          0.4         setosa    \n",
       "89  5.6          3.0         4.1          1.3         versicolor\n",
       "142 6.9          3.1         5.1          2.3         virginica \n",
       "50  5.0          3.3         1.4          0.2         setosa    "
      ]
     },
     "metadata": {},
     "output_type": "display_data"
    }
   ],
   "source": [
    "irisSample <- iris[sample,] #!!!!!!!!!!!!!!!!!!!!!!!!!!!!!!!!!!!!!!!!!!!!!!!!!!!!!!!!!!!!!!!!!!!!!!!!!!!!!!!!!!!!!!!!!!!!!!!!!!!!!!!!!!!행렬Sample의 대해 위치\n",
    "head(irisSample)"
   ]
  },
  {
   "cell_type": "code",
   "execution_count": 158,
   "id": "239631d4",
   "metadata": {
    "vscode": {
     "languageId": "r"
    }
   },
   "outputs": [
    {
     "data": {
      "text/plain": [
       "  Sepal.Length    Sepal.Width     Petal.Length    Petal.Width   \n",
       " Min.   :4.300   Min.   :2.200   Min.   :1.000   Min.   :0.100  \n",
       " 1st Qu.:5.000   1st Qu.:2.800   1st Qu.:1.500   1st Qu.:0.200  \n",
       " Median :5.800   Median :3.000   Median :4.200   Median :1.300  \n",
       " Mean   :5.787   Mean   :3.033   Mean   :3.661   Mean   :1.158  \n",
       " 3rd Qu.:6.400   3rd Qu.:3.300   3rd Qu.:5.100   3rd Qu.:1.800  \n",
       " Max.   :7.700   Max.   :4.200   Max.   :6.900   Max.   :2.500  \n",
       "       Species  \n",
       " setosa    :38  \n",
       " versicolor:32  \n",
       " virginica :35  \n",
       "                \n",
       "                \n",
       "                "
      ]
     },
     "metadata": {},
     "output_type": "display_data"
    }
   ],
   "source": [
    "summary(irisSample)"
   ]
  },
  {
   "cell_type": "code",
   "execution_count": 159,
   "id": "f18ea692",
   "metadata": {
    "vscode": {
     "languageId": "r"
    }
   },
   "outputs": [
    {
     "data": {
      "text/plain": [
       "  Sepal.Length    Sepal.Width     Petal.Length    Petal.Width   \n",
       " Min.   :4.300   Min.   :2.000   Min.   :1.000   Min.   :0.100  \n",
       " 1st Qu.:5.100   1st Qu.:2.800   1st Qu.:1.600   1st Qu.:0.300  \n",
       " Median :5.800   Median :3.000   Median :4.350   Median :1.300  \n",
       " Mean   :5.843   Mean   :3.057   Mean   :3.758   Mean   :1.199  \n",
       " 3rd Qu.:6.400   3rd Qu.:3.300   3rd Qu.:5.100   3rd Qu.:1.800  \n",
       " Max.   :7.900   Max.   :4.400   Max.   :6.900   Max.   :2.500  \n",
       "       Species  \n",
       " setosa    :50  \n",
       " versicolor:50  \n",
       " virginica :50  \n",
       "                \n",
       "                \n",
       "                "
      ]
     },
     "metadata": {},
     "output_type": "display_data"
    }
   ],
   "source": [
    "summary(iris)"
   ]
  },
  {
   "cell_type": "code",
   "execution_count": 160,
   "id": "483669d2",
   "metadata": {
    "vscode": {
     "languageId": "r"
    }
   },
   "outputs": [
    {
     "data": {
      "text/plain": [
       "\n",
       "    setosa versicolor  virginica \n",
       "        38         32         35 "
      ]
     },
     "metadata": {},
     "output_type": "display_data"
    }
   ],
   "source": [
    "table(irisSample$Species)  # 집계표같음 갯수를 확인할수있음\n"
   ]
  },
  {
   "cell_type": "code",
   "execution_count": 161,
   "id": "a8edaabb",
   "metadata": {
    "vscode": {
     "languageId": "r"
    }
   },
   "outputs": [],
   "source": [
    "# iris Sampleing시 Species별로 Sampling !!!!!!!!!!!!!!!!!!!!!!!!!!!!!!!!!!!!!!!!!!!!!!!!!!!!!!!!!!!!!!!!!summary까지!!!!!!!!!!!!!!!!!!!!!!!!!!!!!!!!!!!!!!!!!!!!!!!!!!!!!\n",
    "samp <- c(sample(1:50,35),sample(51:100,35),sample(101:150,35))"
   ]
  },
  {
   "cell_type": "code",
   "execution_count": 162,
   "id": "9769c223",
   "metadata": {
    "vscode": {
     "languageId": "r"
    }
   },
   "outputs": [
    {
     "data": {
      "text/plain": [
       "\n",
       "    setosa versicolor  virginica \n",
       "        35         35         35 "
      ]
     },
     "metadata": {},
     "output_type": "display_data"
    }
   ],
   "source": [
    "irisSamp <- iris[samp,] #35개씩 뽑아냈으니깐\n",
    "table(irisSamp$Species)"
   ]
  },
  {
   "cell_type": "code",
   "execution_count": 163,
   "id": "73659721",
   "metadata": {
    "vscode": {
     "languageId": "r"
    }
   },
   "outputs": [],
   "source": [
    "# Training Data와 Test Data 분리하기\n",
    "\n",
    "iris.train <- iris[samp,]\n",
    "iris.test <- iris[-samp,]"
   ]
  },
  {
   "cell_type": "code",
   "execution_count": 164,
   "id": "6745fedb",
   "metadata": {
    "vscode": {
     "languageId": "r"
    }
   },
   "outputs": [
    {
     "data": {
      "text/plain": [
       "  Sepal.Length    Sepal.Width     Petal.Length    Petal.Width   \n",
       " Min.   :4.400   Min.   :2.200   Min.   :1.000   Min.   :0.100  \n",
       " 1st Qu.:5.100   1st Qu.:2.800   1st Qu.:1.600   1st Qu.:0.300  \n",
       " Median :5.800   Median :3.000   Median :4.300   Median :1.300  \n",
       " Mean   :5.863   Mean   :3.083   Mean   :3.791   Mean   :1.214  \n",
       " 3rd Qu.:6.400   3rd Qu.:3.400   3rd Qu.:5.200   3rd Qu.:1.800  \n",
       " Max.   :7.900   Max.   :4.400   Max.   :6.900   Max.   :2.500  \n",
       "       Species  \n",
       " setosa    :35  \n",
       " versicolor:35  \n",
       " virginica :35  \n",
       "                \n",
       "                \n",
       "                "
      ]
     },
     "metadata": {},
     "output_type": "display_data"
    },
    {
     "data": {
      "text/html": [
       "<table>\n",
       "<thead><tr><th></th><th scope=col>Sepal.Length</th><th scope=col>Sepal.Width</th><th scope=col>Petal.Length</th><th scope=col>Petal.Width</th><th scope=col>Species</th></tr></thead>\n",
       "<tbody>\n",
       "\t<tr><th scope=row>5</th><td>5.0   </td><td>3.6   </td><td>1.4   </td><td>0.2   </td><td>setosa</td></tr>\n",
       "\t<tr><th scope=row>41</th><td>5.0   </td><td>3.5   </td><td>1.3   </td><td>0.3   </td><td>setosa</td></tr>\n",
       "\t<tr><th scope=row>1</th><td>5.1   </td><td>3.5   </td><td>1.4   </td><td>0.2   </td><td>setosa</td></tr>\n",
       "\t<tr><th scope=row>6</th><td>5.4   </td><td>3.9   </td><td>1.7   </td><td>0.4   </td><td>setosa</td></tr>\n",
       "\t<tr><th scope=row>46</th><td>4.8   </td><td>3.0   </td><td>1.4   </td><td>0.3   </td><td>setosa</td></tr>\n",
       "\t<tr><th scope=row>11</th><td>5.4   </td><td>3.7   </td><td>1.5   </td><td>0.2   </td><td>setosa</td></tr>\n",
       "\t<tr><th scope=row>50</th><td>5.0   </td><td>3.3   </td><td>1.4   </td><td>0.2   </td><td>setosa</td></tr>\n",
       "\t<tr><th scope=row>19</th><td>5.7   </td><td>3.8   </td><td>1.7   </td><td>0.3   </td><td>setosa</td></tr>\n",
       "\t<tr><th scope=row>40</th><td>5.1   </td><td>3.4   </td><td>1.5   </td><td>0.2   </td><td>setosa</td></tr>\n",
       "\t<tr><th scope=row>45</th><td>5.1   </td><td>3.8   </td><td>1.9   </td><td>0.4   </td><td>setosa</td></tr>\n",
       "\t<tr><th scope=row>48</th><td>4.6   </td><td>3.2   </td><td>1.4   </td><td>0.2   </td><td>setosa</td></tr>\n",
       "\t<tr><th scope=row>24</th><td>5.1   </td><td>3.3   </td><td>1.7   </td><td>0.5   </td><td>setosa</td></tr>\n",
       "\t<tr><th scope=row>4</th><td>4.6   </td><td>3.1   </td><td>1.5   </td><td>0.2   </td><td>setosa</td></tr>\n",
       "\t<tr><th scope=row>42</th><td>4.5   </td><td>2.3   </td><td>1.3   </td><td>0.3   </td><td>setosa</td></tr>\n",
       "\t<tr><th scope=row>13</th><td>4.8   </td><td>3.0   </td><td>1.4   </td><td>0.1   </td><td>setosa</td></tr>\n",
       "\t<tr><th scope=row>26</th><td>5.0   </td><td>3.0   </td><td>1.6   </td><td>0.2   </td><td>setosa</td></tr>\n",
       "\t<tr><th scope=row>39</th><td>4.4   </td><td>3.0   </td><td>1.3   </td><td>0.2   </td><td>setosa</td></tr>\n",
       "\t<tr><th scope=row>16</th><td>5.7   </td><td>4.4   </td><td>1.5   </td><td>0.4   </td><td>setosa</td></tr>\n",
       "\t<tr><th scope=row>7</th><td>4.6   </td><td>3.4   </td><td>1.4   </td><td>0.3   </td><td>setosa</td></tr>\n",
       "\t<tr><th scope=row>44</th><td>5.0   </td><td>3.5   </td><td>1.6   </td><td>0.6   </td><td>setosa</td></tr>\n",
       "\t<tr><th scope=row>36</th><td>5.0   </td><td>3.2   </td><td>1.2   </td><td>0.2   </td><td>setosa</td></tr>\n",
       "\t<tr><th scope=row>23</th><td>4.6   </td><td>3.6   </td><td>1.0   </td><td>0.2   </td><td>setosa</td></tr>\n",
       "\t<tr><th scope=row>18</th><td>5.1   </td><td>3.5   </td><td>1.4   </td><td>0.3   </td><td>setosa</td></tr>\n",
       "\t<tr><th scope=row>9</th><td>4.4   </td><td>2.9   </td><td>1.4   </td><td>0.2   </td><td>setosa</td></tr>\n",
       "\t<tr><th scope=row>38</th><td>4.9   </td><td>3.6   </td><td>1.4   </td><td>0.1   </td><td>setosa</td></tr>\n",
       "\t<tr><th scope=row>20</th><td>5.1   </td><td>3.8   </td><td>1.5   </td><td>0.3   </td><td>setosa</td></tr>\n",
       "\t<tr><th scope=row>25</th><td>4.8   </td><td>3.4   </td><td>1.9   </td><td>0.2   </td><td>setosa</td></tr>\n",
       "\t<tr><th scope=row>28</th><td>5.2   </td><td>3.5   </td><td>1.5   </td><td>0.2   </td><td>setosa</td></tr>\n",
       "\t<tr><th scope=row>8</th><td>5.0   </td><td>3.4   </td><td>1.5   </td><td>0.2   </td><td>setosa</td></tr>\n",
       "\t<tr><th scope=row>21</th><td>5.4   </td><td>3.4   </td><td>1.7   </td><td>0.2   </td><td>setosa</td></tr>\n",
       "\t<tr><th scope=row>...</th><td>...</td><td>...</td><td>...</td><td>...</td><td>...</td></tr>\n",
       "\t<tr><th scope=row>102</th><td>5.8      </td><td>2.7      </td><td>5.1      </td><td>1.9      </td><td>virginica</td></tr>\n",
       "\t<tr><th scope=row>141</th><td>6.7      </td><td>3.1      </td><td>5.6      </td><td>2.4      </td><td>virginica</td></tr>\n",
       "\t<tr><th scope=row>142</th><td>6.9      </td><td>3.1      </td><td>5.1      </td><td>2.3      </td><td>virginica</td></tr>\n",
       "\t<tr><th scope=row>144</th><td>6.8      </td><td>3.2      </td><td>5.9      </td><td>2.3      </td><td>virginica</td></tr>\n",
       "\t<tr><th scope=row>109</th><td>6.7      </td><td>2.5      </td><td>5.8      </td><td>1.8      </td><td>virginica</td></tr>\n",
       "\t<tr><th scope=row>116</th><td>6.4      </td><td>3.2      </td><td>5.3      </td><td>2.3      </td><td>virginica</td></tr>\n",
       "\t<tr><th scope=row>106</th><td>7.6      </td><td>3.0      </td><td>6.6      </td><td>2.1      </td><td>virginica</td></tr>\n",
       "\t<tr><th scope=row>103</th><td>7.1      </td><td>3.0      </td><td>5.9      </td><td>2.1      </td><td>virginica</td></tr>\n",
       "\t<tr><th scope=row>123</th><td>7.7      </td><td>2.8      </td><td>6.7      </td><td>2.0      </td><td>virginica</td></tr>\n",
       "\t<tr><th scope=row>126</th><td>7.2      </td><td>3.2      </td><td>6.0      </td><td>1.8      </td><td>virginica</td></tr>\n",
       "\t<tr><th scope=row>121</th><td>6.9      </td><td>3.2      </td><td>5.7      </td><td>2.3      </td><td>virginica</td></tr>\n",
       "\t<tr><th scope=row>129</th><td>6.4      </td><td>2.8      </td><td>5.6      </td><td>2.1      </td><td>virginica</td></tr>\n",
       "\t<tr><th scope=row>127</th><td>6.2      </td><td>2.8      </td><td>4.8      </td><td>1.8      </td><td>virginica</td></tr>\n",
       "\t<tr><th scope=row>117</th><td>6.5      </td><td>3.0      </td><td>5.5      </td><td>1.8      </td><td>virginica</td></tr>\n",
       "\t<tr><th scope=row>138</th><td>6.4      </td><td>3.1      </td><td>5.5      </td><td>1.8      </td><td>virginica</td></tr>\n",
       "\t<tr><th scope=row>104</th><td>6.3      </td><td>2.9      </td><td>5.6      </td><td>1.8      </td><td>virginica</td></tr>\n",
       "\t<tr><th scope=row>148</th><td>6.5      </td><td>3.0      </td><td>5.2      </td><td>2.0      </td><td>virginica</td></tr>\n",
       "\t<tr><th scope=row>133</th><td>6.4      </td><td>2.8      </td><td>5.6      </td><td>2.2      </td><td>virginica</td></tr>\n",
       "\t<tr><th scope=row>112</th><td>6.4      </td><td>2.7      </td><td>5.3      </td><td>1.9      </td><td>virginica</td></tr>\n",
       "\t<tr><th scope=row>146</th><td>6.7      </td><td>3.0      </td><td>5.2      </td><td>2.3      </td><td>virginica</td></tr>\n",
       "\t<tr><th scope=row>135</th><td>6.1      </td><td>2.6      </td><td>5.6      </td><td>1.4      </td><td>virginica</td></tr>\n",
       "\t<tr><th scope=row>134</th><td>6.3      </td><td>2.8      </td><td>5.1      </td><td>1.5      </td><td>virginica</td></tr>\n",
       "\t<tr><th scope=row>137</th><td>6.3      </td><td>3.4      </td><td>5.6      </td><td>2.4      </td><td>virginica</td></tr>\n",
       "\t<tr><th scope=row>125</th><td>6.7      </td><td>3.3      </td><td>5.7      </td><td>2.1      </td><td>virginica</td></tr>\n",
       "\t<tr><th scope=row>110</th><td>7.2      </td><td>3.6      </td><td>6.1      </td><td>2.5      </td><td>virginica</td></tr>\n",
       "\t<tr><th scope=row>115</th><td>5.8      </td><td>2.8      </td><td>5.1      </td><td>2.4      </td><td>virginica</td></tr>\n",
       "\t<tr><th scope=row>132</th><td>7.9      </td><td>3.8      </td><td>6.4      </td><td>2.0      </td><td>virginica</td></tr>\n",
       "\t<tr><th scope=row>145</th><td>6.7      </td><td>3.3      </td><td>5.7      </td><td>2.5      </td><td>virginica</td></tr>\n",
       "\t<tr><th scope=row>120</th><td>6.0      </td><td>2.2      </td><td>5.0      </td><td>1.5      </td><td>virginica</td></tr>\n",
       "\t<tr><th scope=row>119</th><td>7.7      </td><td>2.6      </td><td>6.9      </td><td>2.3      </td><td>virginica</td></tr>\n",
       "</tbody>\n",
       "</table>\n"
      ],
      "text/latex": [
       "\\begin{tabular}{r|lllll}\n",
       "  & Sepal.Length & Sepal.Width & Petal.Length & Petal.Width & Species\\\\\n",
       "\\hline\n",
       "\t5 & 5.0    & 3.6    & 1.4    & 0.2    & setosa\\\\\n",
       "\t41 & 5.0    & 3.5    & 1.3    & 0.3    & setosa\\\\\n",
       "\t1 & 5.1    & 3.5    & 1.4    & 0.2    & setosa\\\\\n",
       "\t6 & 5.4    & 3.9    & 1.7    & 0.4    & setosa\\\\\n",
       "\t46 & 4.8    & 3.0    & 1.4    & 0.3    & setosa\\\\\n",
       "\t11 & 5.4    & 3.7    & 1.5    & 0.2    & setosa\\\\\n",
       "\t50 & 5.0    & 3.3    & 1.4    & 0.2    & setosa\\\\\n",
       "\t19 & 5.7    & 3.8    & 1.7    & 0.3    & setosa\\\\\n",
       "\t40 & 5.1    & 3.4    & 1.5    & 0.2    & setosa\\\\\n",
       "\t45 & 5.1    & 3.8    & 1.9    & 0.4    & setosa\\\\\n",
       "\t48 & 4.6    & 3.2    & 1.4    & 0.2    & setosa\\\\\n",
       "\t24 & 5.1    & 3.3    & 1.7    & 0.5    & setosa\\\\\n",
       "\t4 & 4.6    & 3.1    & 1.5    & 0.2    & setosa\\\\\n",
       "\t42 & 4.5    & 2.3    & 1.3    & 0.3    & setosa\\\\\n",
       "\t13 & 4.8    & 3.0    & 1.4    & 0.1    & setosa\\\\\n",
       "\t26 & 5.0    & 3.0    & 1.6    & 0.2    & setosa\\\\\n",
       "\t39 & 4.4    & 3.0    & 1.3    & 0.2    & setosa\\\\\n",
       "\t16 & 5.7    & 4.4    & 1.5    & 0.4    & setosa\\\\\n",
       "\t7 & 4.6    & 3.4    & 1.4    & 0.3    & setosa\\\\\n",
       "\t44 & 5.0    & 3.5    & 1.6    & 0.6    & setosa\\\\\n",
       "\t36 & 5.0    & 3.2    & 1.2    & 0.2    & setosa\\\\\n",
       "\t23 & 4.6    & 3.6    & 1.0    & 0.2    & setosa\\\\\n",
       "\t18 & 5.1    & 3.5    & 1.4    & 0.3    & setosa\\\\\n",
       "\t9 & 4.4    & 2.9    & 1.4    & 0.2    & setosa\\\\\n",
       "\t38 & 4.9    & 3.6    & 1.4    & 0.1    & setosa\\\\\n",
       "\t20 & 5.1    & 3.8    & 1.5    & 0.3    & setosa\\\\\n",
       "\t25 & 4.8    & 3.4    & 1.9    & 0.2    & setosa\\\\\n",
       "\t28 & 5.2    & 3.5    & 1.5    & 0.2    & setosa\\\\\n",
       "\t8 & 5.0    & 3.4    & 1.5    & 0.2    & setosa\\\\\n",
       "\t21 & 5.4    & 3.4    & 1.7    & 0.2    & setosa\\\\\n",
       "\t... & ... & ... & ... & ... & ...\\\\\n",
       "\t102 & 5.8       & 2.7       & 5.1       & 1.9       & virginica\\\\\n",
       "\t141 & 6.7       & 3.1       & 5.6       & 2.4       & virginica\\\\\n",
       "\t142 & 6.9       & 3.1       & 5.1       & 2.3       & virginica\\\\\n",
       "\t144 & 6.8       & 3.2       & 5.9       & 2.3       & virginica\\\\\n",
       "\t109 & 6.7       & 2.5       & 5.8       & 1.8       & virginica\\\\\n",
       "\t116 & 6.4       & 3.2       & 5.3       & 2.3       & virginica\\\\\n",
       "\t106 & 7.6       & 3.0       & 6.6       & 2.1       & virginica\\\\\n",
       "\t103 & 7.1       & 3.0       & 5.9       & 2.1       & virginica\\\\\n",
       "\t123 & 7.7       & 2.8       & 6.7       & 2.0       & virginica\\\\\n",
       "\t126 & 7.2       & 3.2       & 6.0       & 1.8       & virginica\\\\\n",
       "\t121 & 6.9       & 3.2       & 5.7       & 2.3       & virginica\\\\\n",
       "\t129 & 6.4       & 2.8       & 5.6       & 2.1       & virginica\\\\\n",
       "\t127 & 6.2       & 2.8       & 4.8       & 1.8       & virginica\\\\\n",
       "\t117 & 6.5       & 3.0       & 5.5       & 1.8       & virginica\\\\\n",
       "\t138 & 6.4       & 3.1       & 5.5       & 1.8       & virginica\\\\\n",
       "\t104 & 6.3       & 2.9       & 5.6       & 1.8       & virginica\\\\\n",
       "\t148 & 6.5       & 3.0       & 5.2       & 2.0       & virginica\\\\\n",
       "\t133 & 6.4       & 2.8       & 5.6       & 2.2       & virginica\\\\\n",
       "\t112 & 6.4       & 2.7       & 5.3       & 1.9       & virginica\\\\\n",
       "\t146 & 6.7       & 3.0       & 5.2       & 2.3       & virginica\\\\\n",
       "\t135 & 6.1       & 2.6       & 5.6       & 1.4       & virginica\\\\\n",
       "\t134 & 6.3       & 2.8       & 5.1       & 1.5       & virginica\\\\\n",
       "\t137 & 6.3       & 3.4       & 5.6       & 2.4       & virginica\\\\\n",
       "\t125 & 6.7       & 3.3       & 5.7       & 2.1       & virginica\\\\\n",
       "\t110 & 7.2       & 3.6       & 6.1       & 2.5       & virginica\\\\\n",
       "\t115 & 5.8       & 2.8       & 5.1       & 2.4       & virginica\\\\\n",
       "\t132 & 7.9       & 3.8       & 6.4       & 2.0       & virginica\\\\\n",
       "\t145 & 6.7       & 3.3       & 5.7       & 2.5       & virginica\\\\\n",
       "\t120 & 6.0       & 2.2       & 5.0       & 1.5       & virginica\\\\\n",
       "\t119 & 7.7       & 2.6       & 6.9       & 2.3       & virginica\\\\\n",
       "\\end{tabular}\n"
      ],
      "text/markdown": [
       "\n",
       "| <!--/--> | Sepal.Length | Sepal.Width | Petal.Length | Petal.Width | Species |\n",
       "|---|---|---|---|---|---|\n",
       "| 5 | 5.0    | 3.6    | 1.4    | 0.2    | setosa |\n",
       "| 41 | 5.0    | 3.5    | 1.3    | 0.3    | setosa |\n",
       "| 1 | 5.1    | 3.5    | 1.4    | 0.2    | setosa |\n",
       "| 6 | 5.4    | 3.9    | 1.7    | 0.4    | setosa |\n",
       "| 46 | 4.8    | 3.0    | 1.4    | 0.3    | setosa |\n",
       "| 11 | 5.4    | 3.7    | 1.5    | 0.2    | setosa |\n",
       "| 50 | 5.0    | 3.3    | 1.4    | 0.2    | setosa |\n",
       "| 19 | 5.7    | 3.8    | 1.7    | 0.3    | setosa |\n",
       "| 40 | 5.1    | 3.4    | 1.5    | 0.2    | setosa |\n",
       "| 45 | 5.1    | 3.8    | 1.9    | 0.4    | setosa |\n",
       "| 48 | 4.6    | 3.2    | 1.4    | 0.2    | setosa |\n",
       "| 24 | 5.1    | 3.3    | 1.7    | 0.5    | setosa |\n",
       "| 4 | 4.6    | 3.1    | 1.5    | 0.2    | setosa |\n",
       "| 42 | 4.5    | 2.3    | 1.3    | 0.3    | setosa |\n",
       "| 13 | 4.8    | 3.0    | 1.4    | 0.1    | setosa |\n",
       "| 26 | 5.0    | 3.0    | 1.6    | 0.2    | setosa |\n",
       "| 39 | 4.4    | 3.0    | 1.3    | 0.2    | setosa |\n",
       "| 16 | 5.7    | 4.4    | 1.5    | 0.4    | setosa |\n",
       "| 7 | 4.6    | 3.4    | 1.4    | 0.3    | setosa |\n",
       "| 44 | 5.0    | 3.5    | 1.6    | 0.6    | setosa |\n",
       "| 36 | 5.0    | 3.2    | 1.2    | 0.2    | setosa |\n",
       "| 23 | 4.6    | 3.6    | 1.0    | 0.2    | setosa |\n",
       "| 18 | 5.1    | 3.5    | 1.4    | 0.3    | setosa |\n",
       "| 9 | 4.4    | 2.9    | 1.4    | 0.2    | setosa |\n",
       "| 38 | 4.9    | 3.6    | 1.4    | 0.1    | setosa |\n",
       "| 20 | 5.1    | 3.8    | 1.5    | 0.3    | setosa |\n",
       "| 25 | 4.8    | 3.4    | 1.9    | 0.2    | setosa |\n",
       "| 28 | 5.2    | 3.5    | 1.5    | 0.2    | setosa |\n",
       "| 8 | 5.0    | 3.4    | 1.5    | 0.2    | setosa |\n",
       "| 21 | 5.4    | 3.4    | 1.7    | 0.2    | setosa |\n",
       "| ... | ... | ... | ... | ... | ... |\n",
       "| 102 | 5.8       | 2.7       | 5.1       | 1.9       | virginica |\n",
       "| 141 | 6.7       | 3.1       | 5.6       | 2.4       | virginica |\n",
       "| 142 | 6.9       | 3.1       | 5.1       | 2.3       | virginica |\n",
       "| 144 | 6.8       | 3.2       | 5.9       | 2.3       | virginica |\n",
       "| 109 | 6.7       | 2.5       | 5.8       | 1.8       | virginica |\n",
       "| 116 | 6.4       | 3.2       | 5.3       | 2.3       | virginica |\n",
       "| 106 | 7.6       | 3.0       | 6.6       | 2.1       | virginica |\n",
       "| 103 | 7.1       | 3.0       | 5.9       | 2.1       | virginica |\n",
       "| 123 | 7.7       | 2.8       | 6.7       | 2.0       | virginica |\n",
       "| 126 | 7.2       | 3.2       | 6.0       | 1.8       | virginica |\n",
       "| 121 | 6.9       | 3.2       | 5.7       | 2.3       | virginica |\n",
       "| 129 | 6.4       | 2.8       | 5.6       | 2.1       | virginica |\n",
       "| 127 | 6.2       | 2.8       | 4.8       | 1.8       | virginica |\n",
       "| 117 | 6.5       | 3.0       | 5.5       | 1.8       | virginica |\n",
       "| 138 | 6.4       | 3.1       | 5.5       | 1.8       | virginica |\n",
       "| 104 | 6.3       | 2.9       | 5.6       | 1.8       | virginica |\n",
       "| 148 | 6.5       | 3.0       | 5.2       | 2.0       | virginica |\n",
       "| 133 | 6.4       | 2.8       | 5.6       | 2.2       | virginica |\n",
       "| 112 | 6.4       | 2.7       | 5.3       | 1.9       | virginica |\n",
       "| 146 | 6.7       | 3.0       | 5.2       | 2.3       | virginica |\n",
       "| 135 | 6.1       | 2.6       | 5.6       | 1.4       | virginica |\n",
       "| 134 | 6.3       | 2.8       | 5.1       | 1.5       | virginica |\n",
       "| 137 | 6.3       | 3.4       | 5.6       | 2.4       | virginica |\n",
       "| 125 | 6.7       | 3.3       | 5.7       | 2.1       | virginica |\n",
       "| 110 | 7.2       | 3.6       | 6.1       | 2.5       | virginica |\n",
       "| 115 | 5.8       | 2.8       | 5.1       | 2.4       | virginica |\n",
       "| 132 | 7.9       | 3.8       | 6.4       | 2.0       | virginica |\n",
       "| 145 | 6.7       | 3.3       | 5.7       | 2.5       | virginica |\n",
       "| 120 | 6.0       | 2.2       | 5.0       | 1.5       | virginica |\n",
       "| 119 | 7.7       | 2.6       | 6.9       | 2.3       | virginica |\n",
       "\n"
      ],
      "text/plain": [
       "    Sepal.Length Sepal.Width Petal.Length Petal.Width Species  \n",
       "5   5.0          3.6         1.4          0.2         setosa   \n",
       "41  5.0          3.5         1.3          0.3         setosa   \n",
       "1   5.1          3.5         1.4          0.2         setosa   \n",
       "6   5.4          3.9         1.7          0.4         setosa   \n",
       "46  4.8          3.0         1.4          0.3         setosa   \n",
       "11  5.4          3.7         1.5          0.2         setosa   \n",
       "50  5.0          3.3         1.4          0.2         setosa   \n",
       "19  5.7          3.8         1.7          0.3         setosa   \n",
       "40  5.1          3.4         1.5          0.2         setosa   \n",
       "45  5.1          3.8         1.9          0.4         setosa   \n",
       "48  4.6          3.2         1.4          0.2         setosa   \n",
       "24  5.1          3.3         1.7          0.5         setosa   \n",
       "4   4.6          3.1         1.5          0.2         setosa   \n",
       "42  4.5          2.3         1.3          0.3         setosa   \n",
       "13  4.8          3.0         1.4          0.1         setosa   \n",
       "26  5.0          3.0         1.6          0.2         setosa   \n",
       "39  4.4          3.0         1.3          0.2         setosa   \n",
       "16  5.7          4.4         1.5          0.4         setosa   \n",
       "7   4.6          3.4         1.4          0.3         setosa   \n",
       "44  5.0          3.5         1.6          0.6         setosa   \n",
       "36  5.0          3.2         1.2          0.2         setosa   \n",
       "23  4.6          3.6         1.0          0.2         setosa   \n",
       "18  5.1          3.5         1.4          0.3         setosa   \n",
       "9   4.4          2.9         1.4          0.2         setosa   \n",
       "38  4.9          3.6         1.4          0.1         setosa   \n",
       "20  5.1          3.8         1.5          0.3         setosa   \n",
       "25  4.8          3.4         1.9          0.2         setosa   \n",
       "28  5.2          3.5         1.5          0.2         setosa   \n",
       "8   5.0          3.4         1.5          0.2         setosa   \n",
       "21  5.4          3.4         1.7          0.2         setosa   \n",
       "... ...          ...         ...          ...         ...      \n",
       "102 5.8          2.7         5.1          1.9         virginica\n",
       "141 6.7          3.1         5.6          2.4         virginica\n",
       "142 6.9          3.1         5.1          2.3         virginica\n",
       "144 6.8          3.2         5.9          2.3         virginica\n",
       "109 6.7          2.5         5.8          1.8         virginica\n",
       "116 6.4          3.2         5.3          2.3         virginica\n",
       "106 7.6          3.0         6.6          2.1         virginica\n",
       "103 7.1          3.0         5.9          2.1         virginica\n",
       "123 7.7          2.8         6.7          2.0         virginica\n",
       "126 7.2          3.2         6.0          1.8         virginica\n",
       "121 6.9          3.2         5.7          2.3         virginica\n",
       "129 6.4          2.8         5.6          2.1         virginica\n",
       "127 6.2          2.8         4.8          1.8         virginica\n",
       "117 6.5          3.0         5.5          1.8         virginica\n",
       "138 6.4          3.1         5.5          1.8         virginica\n",
       "104 6.3          2.9         5.6          1.8         virginica\n",
       "148 6.5          3.0         5.2          2.0         virginica\n",
       "133 6.4          2.8         5.6          2.2         virginica\n",
       "112 6.4          2.7         5.3          1.9         virginica\n",
       "146 6.7          3.0         5.2          2.3         virginica\n",
       "135 6.1          2.6         5.6          1.4         virginica\n",
       "134 6.3          2.8         5.1          1.5         virginica\n",
       "137 6.3          3.4         5.6          2.4         virginica\n",
       "125 6.7          3.3         5.7          2.1         virginica\n",
       "110 7.2          3.6         6.1          2.5         virginica\n",
       "115 5.8          2.8         5.1          2.4         virginica\n",
       "132 7.9          3.8         6.4          2.0         virginica\n",
       "145 6.7          3.3         5.7          2.5         virginica\n",
       "120 6.0          2.2         5.0          1.5         virginica\n",
       "119 7.7          2.6         6.9          2.3         virginica"
      ]
     },
     "metadata": {},
     "output_type": "display_data"
    }
   ],
   "source": [
    "summary(iris.train)\n",
    "iris.train"
   ]
  },
  {
   "cell_type": "code",
   "execution_count": 165,
   "id": "e5762cb6",
   "metadata": {
    "vscode": {
     "languageId": "r"
    }
   },
   "outputs": [
    {
     "data": {
      "text/plain": [
       "  Sepal.Length    Sepal.Width     Petal.Length   Petal.Width          Species  \n",
       " Min.   :4.300   Min.   :2.000   Min.   :1.10   Min.   :0.100   setosa    :15  \n",
       " 1st Qu.:5.200   1st Qu.:2.800   1st Qu.:1.60   1st Qu.:0.200   versicolor:15  \n",
       " Median :5.700   Median :3.000   Median :4.40   Median :1.400   virginica :15  \n",
       " Mean   :5.798   Mean   :2.998   Mean   :3.68   Mean   :1.164                  \n",
       " 3rd Qu.:6.300   3rd Qu.:3.200   3rd Qu.:4.90   3rd Qu.:1.800                  \n",
       " Max.   :7.700   Max.   :4.200   Max.   :6.30   Max.   :2.300                  "
      ]
     },
     "metadata": {},
     "output_type": "display_data"
    }
   ],
   "source": [
    "summary(iris.test)"
   ]
  },
  {
   "cell_type": "markdown",
   "id": "befe2184",
   "metadata": {},
   "source": [
    "---\n",
    "### 부분집합"
   ]
  },
  {
   "cell_type": "code",
   "execution_count": 166,
   "id": "f3644766",
   "metadata": {
    "vscode": {
     "languageId": "r"
    }
   },
   "outputs": [
    {
     "data": {
      "text/html": [
       "<table>\n",
       "<thead><tr><th></th><th scope=col>Sepal.Length</th><th scope=col>Sepal.Width</th><th scope=col>Petal.Length</th><th scope=col>Petal.Width</th><th scope=col>Species</th></tr></thead>\n",
       "<tbody>\n",
       "\t<tr><th scope=row>45</th><td>5.1   </td><td>3.8   </td><td>1.9   </td><td>0.4   </td><td>setosa</td></tr>\n",
       "\t<tr><th scope=row>46</th><td>4.8   </td><td>3.0   </td><td>1.4   </td><td>0.3   </td><td>setosa</td></tr>\n",
       "\t<tr><th scope=row>47</th><td>5.1   </td><td>3.8   </td><td>1.6   </td><td>0.2   </td><td>setosa</td></tr>\n",
       "\t<tr><th scope=row>48</th><td>4.6   </td><td>3.2   </td><td>1.4   </td><td>0.2   </td><td>setosa</td></tr>\n",
       "\t<tr><th scope=row>49</th><td>5.3   </td><td>3.7   </td><td>1.5   </td><td>0.2   </td><td>setosa</td></tr>\n",
       "\t<tr><th scope=row>50</th><td>5.0   </td><td>3.3   </td><td>1.4   </td><td>0.2   </td><td>setosa</td></tr>\n",
       "</tbody>\n",
       "</table>\n"
      ],
      "text/latex": [
       "\\begin{tabular}{r|lllll}\n",
       "  & Sepal.Length & Sepal.Width & Petal.Length & Petal.Width & Species\\\\\n",
       "\\hline\n",
       "\t45 & 5.1    & 3.8    & 1.9    & 0.4    & setosa\\\\\n",
       "\t46 & 4.8    & 3.0    & 1.4    & 0.3    & setosa\\\\\n",
       "\t47 & 5.1    & 3.8    & 1.6    & 0.2    & setosa\\\\\n",
       "\t48 & 4.6    & 3.2    & 1.4    & 0.2    & setosa\\\\\n",
       "\t49 & 5.3    & 3.7    & 1.5    & 0.2    & setosa\\\\\n",
       "\t50 & 5.0    & 3.3    & 1.4    & 0.2    & setosa\\\\\n",
       "\\end{tabular}\n"
      ],
      "text/markdown": [
       "\n",
       "| <!--/--> | Sepal.Length | Sepal.Width | Petal.Length | Petal.Width | Species |\n",
       "|---|---|---|---|---|---|\n",
       "| 45 | 5.1    | 3.8    | 1.9    | 0.4    | setosa |\n",
       "| 46 | 4.8    | 3.0    | 1.4    | 0.3    | setosa |\n",
       "| 47 | 5.1    | 3.8    | 1.6    | 0.2    | setosa |\n",
       "| 48 | 4.6    | 3.2    | 1.4    | 0.2    | setosa |\n",
       "| 49 | 5.3    | 3.7    | 1.5    | 0.2    | setosa |\n",
       "| 50 | 5.0    | 3.3    | 1.4    | 0.2    | setosa |\n",
       "\n"
      ],
      "text/plain": [
       "   Sepal.Length Sepal.Width Petal.Length Petal.Width Species\n",
       "45 5.1          3.8         1.9          0.4         setosa \n",
       "46 4.8          3.0         1.4          0.3         setosa \n",
       "47 5.1          3.8         1.6          0.2         setosa \n",
       "48 4.6          3.2         1.4          0.2         setosa \n",
       "49 5.3          3.7         1.5          0.2         setosa \n",
       "50 5.0          3.3         1.4          0.2         setosa "
      ]
     },
     "metadata": {},
     "output_type": "display_data"
    }
   ],
   "source": [
    "#iris 에서 Species가 setosa인것만 추출하여 iris_setosa라는 데이터프레임 만들기\n",
    "\n",
    "iris_setosa <-subset(iris,Species =='setosa') # iris라고 이미 지정했기에 $를 안써도 된다. subset에 지정한 컬럼을 뽑아낼때 사용\n",
    "tail(iris_setosa)"
   ]
  },
  {
   "cell_type": "code",
   "execution_count": 167,
   "id": "d778f781",
   "metadata": {
    "vscode": {
     "languageId": "r"
    }
   },
   "outputs": [
    {
     "name": "stdout",
     "output_type": "stream",
     "text": [
      "'data.frame':\t50 obs. of  5 variables:\n",
      " $ Sepal.Length: num  5.1 4.9 4.7 4.6 5 5.4 4.6 5 4.4 4.9 ...\n",
      " $ Sepal.Width : num  3.5 3 3.2 3.1 3.6 3.9 3.4 3.4 2.9 3.1 ...\n",
      " $ Petal.Length: num  1.4 1.4 1.3 1.5 1.4 1.7 1.4 1.5 1.4 1.5 ...\n",
      " $ Petal.Width : num  0.2 0.2 0.2 0.2 0.2 0.4 0.3 0.2 0.2 0.1 ...\n",
      " $ Species     : Factor w/ 3 levels \"setosa\",\"versicolor\",..: 1 1 1 1 1 1 1 1 1 1 ...\n"
     ]
    }
   ],
   "source": [
    "str(iris_setosa)   #!!!!!!!!!!!!!!!!!!!!!!!!!!!!!!!!!!!!!!!!!!!!!!!!!!!!!!!!!!!!!!!!!!!!!!!!!!!!!!!!!!!!!!!!!!!!!!!!!!!!!!!!!!!!!!!!!!!!!!!!!!!!!!!!!!!!!!!!!!!!\n",
    "iris_setosa$Species <- factor(iris_setosa$Species) \n",
    "# 분명 setosa만 지정하였는데 Species에는 3개 모두있다 그러므로 setosa만 지정해준다. \n"
   ]
  },
  {
   "cell_type": "code",
   "execution_count": 168,
   "id": "7f4dfb86",
   "metadata": {
    "vscode": {
     "languageId": "r"
    }
   },
   "outputs": [
    {
     "name": "stdout",
     "output_type": "stream",
     "text": [
      "'data.frame':\t50 obs. of  5 variables:\n",
      " $ Sepal.Length: num  5.1 4.9 4.7 4.6 5 5.4 4.6 5 4.4 4.9 ...\n",
      " $ Sepal.Width : num  3.5 3 3.2 3.1 3.6 3.9 3.4 3.4 2.9 3.1 ...\n",
      " $ Petal.Length: num  1.4 1.4 1.3 1.5 1.4 1.7 1.4 1.5 1.4 1.5 ...\n",
      " $ Petal.Width : num  0.2 0.2 0.2 0.2 0.2 0.4 0.3 0.2 0.2 0.1 ...\n",
      " $ Species     : Factor w/ 1 level \"setosa\": 1 1 1 1 1 1 1 1 1 1 ...\n"
     ]
    }
   ],
   "source": [
    "str(iris_setosa)"
   ]
  },
  {
   "cell_type": "code",
   "execution_count": 169,
   "id": "29914ed3",
   "metadata": {
    "vscode": {
     "languageId": "r"
    }
   },
   "outputs": [
    {
     "name": "stdout",
     "output_type": "stream",
     "text": [
      "'data.frame':\t50 obs. of  5 variables:\n",
      " $ Sepal.Length: num  7 6.4 6.9 5.5 6.5 5.7 6.3 4.9 6.6 5.2 ...\n",
      " $ Sepal.Width : num  3.2 3.2 3.1 2.3 2.8 2.8 3.3 2.4 2.9 2.7 ...\n",
      " $ Petal.Length: num  4.7 4.5 4.9 4 4.6 4.5 4.7 3.3 4.6 3.9 ...\n",
      " $ Petal.Width : num  1.4 1.5 1.5 1.3 1.5 1.3 1.6 1 1.3 1.4 ...\n",
      " $ Species     : Factor w/ 1 level \"versicolor\": 1 1 1 1 1 1 1 1 1 1 ...\n",
      "   Sepal.Length Sepal.Width Petal.Length Petal.Width    Species\n",
      "1           7.0         3.2          4.7         1.4 versicolor\n",
      "2           6.4         3.2          4.5         1.5 versicolor\n",
      "3           6.9         3.1          4.9         1.5 versicolor\n",
      "4           5.5         2.3          4.0         1.3 versicolor\n",
      "5           6.5         2.8          4.6         1.5 versicolor\n",
      "6           5.7         2.8          4.5         1.3 versicolor\n",
      "7           6.3         3.3          4.7         1.6 versicolor\n",
      "8           4.9         2.4          3.3         1.0 versicolor\n",
      "9           6.6         2.9          4.6         1.3 versicolor\n",
      "10          5.2         2.7          3.9         1.4 versicolor\n",
      "11          5.0         2.0          3.5         1.0 versicolor\n",
      "12          5.9         3.0          4.2         1.5 versicolor\n",
      "13          6.0         2.2          4.0         1.0 versicolor\n",
      "14          6.1         2.9          4.7         1.4 versicolor\n",
      "15          5.6         2.9          3.6         1.3 versicolor\n",
      "16          6.7         3.1          4.4         1.4 versicolor\n",
      "17          5.6         3.0          4.5         1.5 versicolor\n",
      "18          5.8         2.7          4.1         1.0 versicolor\n",
      "19          6.2         2.2          4.5         1.5 versicolor\n",
      "20          5.6         2.5          3.9         1.1 versicolor\n",
      "21          5.9         3.2          4.8         1.8 versicolor\n",
      "22          6.1         2.8          4.0         1.3 versicolor\n",
      "23          6.3         2.5          4.9         1.5 versicolor\n",
      "24          6.1         2.8          4.7         1.2 versicolor\n",
      "25          6.4         2.9          4.3         1.3 versicolor\n",
      "26          6.6         3.0          4.4         1.4 versicolor\n",
      "27          6.8         2.8          4.8         1.4 versicolor\n",
      "28          6.7         3.0          5.0         1.7 versicolor\n",
      "29          6.0         2.9          4.5         1.5 versicolor\n",
      "30          5.7         2.6          3.5         1.0 versicolor\n",
      "31          5.5         2.4          3.8         1.1 versicolor\n",
      "32          5.5         2.4          3.7         1.0 versicolor\n",
      "33          5.8         2.7          3.9         1.2 versicolor\n",
      "34          6.0         2.7          5.1         1.6 versicolor\n",
      "35          5.4         3.0          4.5         1.5 versicolor\n",
      "36          6.0         3.4          4.5         1.6 versicolor\n",
      "37          6.7         3.1          4.7         1.5 versicolor\n",
      "38          6.3         2.3          4.4         1.3 versicolor\n",
      "39          5.6         3.0          4.1         1.3 versicolor\n",
      "40          5.5         2.5          4.0         1.3 versicolor\n",
      "41          5.5         2.6          4.4         1.2 versicolor\n",
      "42          6.1         3.0          4.6         1.4 versicolor\n",
      "43          5.8         2.6          4.0         1.2 versicolor\n",
      "44          5.0         2.3          3.3         1.0 versicolor\n",
      "45          5.6         2.7          4.2         1.3 versicolor\n",
      "46          5.7         3.0          4.2         1.2 versicolor\n",
      "47          5.7         2.9          4.2         1.3 versicolor\n",
      "48          6.2         2.9          4.3         1.3 versicolor\n",
      "49          5.1         2.5          3.0         1.1 versicolor\n",
      "50          5.7         2.8          4.1         1.3 versicolor\n"
     ]
    }
   ],
   "source": [
    "# iris에서 Species가 versicolor인것만 추출하여 iris_versicolor이라는 데이터 프레임 만들기 !!!!!!!!!!!!!!!!!!!!!!!!!!!!!!11데이터프레임 factor\n",
    "iris_versicolor <- subset(iris,Species == 'versicolor')\n",
    "#iris_versicolor\n",
    "#str(iris_versicolor)\n",
    "iris_versicolor$Species <- factor(iris_versicolor$Species)\n",
    "#iris_versicolor\n",
    "str(iris_versicolor)\n",
    "rownames(iris_versicolor)<-c()\n",
    "print(iris_versicolor)"
   ]
  },
  {
   "cell_type": "code",
   "execution_count": 170,
   "id": "08407801",
   "metadata": {
    "vscode": {
     "languageId": "r"
    }
   },
   "outputs": [
    {
     "data": {
      "text/html": [
       "22"
      ],
      "text/latex": [
       "22"
      ],
      "text/markdown": [
       "22"
      ],
      "text/plain": [
       "[1] 22"
      ]
     },
     "metadata": {},
     "output_type": "display_data"
    }
   ],
   "source": [
    "# iris에서 Species가 setosa이고 Sepal.Length가 5보다 큰 Sample(Data)의 갯수는?\n",
    "iris_setosa$Species <- factor(iris_setosa$Species)   \n",
    "nrow(subset(iris, Species == 'setosa' & Sepal.Length >5))"
   ]
  },
  {
   "cell_type": "code",
   "execution_count": 171,
   "id": "61674756",
   "metadata": {
    "vscode": {
     "languageId": "r"
    }
   },
   "outputs": [
    {
     "data": {
      "text/html": [
       "118"
      ],
      "text/latex": [
       "118"
      ],
      "text/markdown": [
       "118"
      ],
      "text/plain": [
       "[1] 118"
      ]
     },
     "metadata": {},
     "output_type": "display_data"
    }
   ],
   "source": [
    "#str(iris_setosa$Species)\n",
    "sum(iris$Sepal.Length>5)"
   ]
  },
  {
   "cell_type": "code",
   "execution_count": 172,
   "id": "a96fd303",
   "metadata": {
    "vscode": {
     "languageId": "r"
    }
   },
   "outputs": [
    {
     "data": {
      "text/html": [
       "<table>\n",
       "<thead><tr><th scope=col>Sepal.Length</th><th scope=col>Sepal.Width</th><th scope=col>Petal.Length</th><th scope=col>Petal.Width</th></tr></thead>\n",
       "<tbody>\n",
       "\t<tr><td>5.1</td><td>3.5</td><td>1.4</td><td>0.2</td></tr>\n",
       "\t<tr><td>4.9</td><td>3.0</td><td>1.4</td><td>0.2</td></tr>\n",
       "\t<tr><td>4.7</td><td>3.2</td><td>1.3</td><td>0.2</td></tr>\n",
       "\t<tr><td>4.6</td><td>3.1</td><td>1.5</td><td>0.2</td></tr>\n",
       "\t<tr><td>5.0</td><td>3.6</td><td>1.4</td><td>0.2</td></tr>\n",
       "\t<tr><td>5.4</td><td>3.9</td><td>1.7</td><td>0.4</td></tr>\n",
       "\t<tr><td>4.6</td><td>3.4</td><td>1.4</td><td>0.3</td></tr>\n",
       "\t<tr><td>5.0</td><td>3.4</td><td>1.5</td><td>0.2</td></tr>\n",
       "\t<tr><td>4.4</td><td>2.9</td><td>1.4</td><td>0.2</td></tr>\n",
       "\t<tr><td>4.9</td><td>3.1</td><td>1.5</td><td>0.1</td></tr>\n",
       "\t<tr><td>5.4</td><td>3.7</td><td>1.5</td><td>0.2</td></tr>\n",
       "\t<tr><td>4.8</td><td>3.4</td><td>1.6</td><td>0.2</td></tr>\n",
       "\t<tr><td>4.8</td><td>3.0</td><td>1.4</td><td>0.1</td></tr>\n",
       "\t<tr><td>4.3</td><td>3.0</td><td>1.1</td><td>0.1</td></tr>\n",
       "\t<tr><td>5.8</td><td>4.0</td><td>1.2</td><td>0.2</td></tr>\n",
       "\t<tr><td>5.7</td><td>4.4</td><td>1.5</td><td>0.4</td></tr>\n",
       "\t<tr><td>5.4</td><td>3.9</td><td>1.3</td><td>0.4</td></tr>\n",
       "\t<tr><td>5.1</td><td>3.5</td><td>1.4</td><td>0.3</td></tr>\n",
       "\t<tr><td>5.7</td><td>3.8</td><td>1.7</td><td>0.3</td></tr>\n",
       "\t<tr><td>5.1</td><td>3.8</td><td>1.5</td><td>0.3</td></tr>\n",
       "\t<tr><td>5.4</td><td>3.4</td><td>1.7</td><td>0.2</td></tr>\n",
       "\t<tr><td>5.1</td><td>3.7</td><td>1.5</td><td>0.4</td></tr>\n",
       "\t<tr><td>4.6</td><td>3.6</td><td>1.0</td><td>0.2</td></tr>\n",
       "\t<tr><td>5.1</td><td>3.3</td><td>1.7</td><td>0.5</td></tr>\n",
       "\t<tr><td>4.8</td><td>3.4</td><td>1.9</td><td>0.2</td></tr>\n",
       "\t<tr><td>5.0</td><td>3.0</td><td>1.6</td><td>0.2</td></tr>\n",
       "\t<tr><td>5.0</td><td>3.4</td><td>1.6</td><td>0.4</td></tr>\n",
       "\t<tr><td>5.2</td><td>3.5</td><td>1.5</td><td>0.2</td></tr>\n",
       "\t<tr><td>5.2</td><td>3.4</td><td>1.4</td><td>0.2</td></tr>\n",
       "\t<tr><td>4.7</td><td>3.2</td><td>1.6</td><td>0.2</td></tr>\n",
       "\t<tr><td>...</td><td>...</td><td>...</td><td>...</td></tr>\n",
       "\t<tr><td>6.9</td><td>3.2</td><td>5.7</td><td>2.3</td></tr>\n",
       "\t<tr><td>5.6</td><td>2.8</td><td>4.9</td><td>2.0</td></tr>\n",
       "\t<tr><td>7.7</td><td>2.8</td><td>6.7</td><td>2.0</td></tr>\n",
       "\t<tr><td>6.3</td><td>2.7</td><td>4.9</td><td>1.8</td></tr>\n",
       "\t<tr><td>6.7</td><td>3.3</td><td>5.7</td><td>2.1</td></tr>\n",
       "\t<tr><td>7.2</td><td>3.2</td><td>6.0</td><td>1.8</td></tr>\n",
       "\t<tr><td>6.2</td><td>2.8</td><td>4.8</td><td>1.8</td></tr>\n",
       "\t<tr><td>6.1</td><td>3.0</td><td>4.9</td><td>1.8</td></tr>\n",
       "\t<tr><td>6.4</td><td>2.8</td><td>5.6</td><td>2.1</td></tr>\n",
       "\t<tr><td>7.2</td><td>3.0</td><td>5.8</td><td>1.6</td></tr>\n",
       "\t<tr><td>7.4</td><td>2.8</td><td>6.1</td><td>1.9</td></tr>\n",
       "\t<tr><td>7.9</td><td>3.8</td><td>6.4</td><td>2.0</td></tr>\n",
       "\t<tr><td>6.4</td><td>2.8</td><td>5.6</td><td>2.2</td></tr>\n",
       "\t<tr><td>6.3</td><td>2.8</td><td>5.1</td><td>1.5</td></tr>\n",
       "\t<tr><td>6.1</td><td>2.6</td><td>5.6</td><td>1.4</td></tr>\n",
       "\t<tr><td>7.7</td><td>3.0</td><td>6.1</td><td>2.3</td></tr>\n",
       "\t<tr><td>6.3</td><td>3.4</td><td>5.6</td><td>2.4</td></tr>\n",
       "\t<tr><td>6.4</td><td>3.1</td><td>5.5</td><td>1.8</td></tr>\n",
       "\t<tr><td>6.0</td><td>3.0</td><td>4.8</td><td>1.8</td></tr>\n",
       "\t<tr><td>6.9</td><td>3.1</td><td>5.4</td><td>2.1</td></tr>\n",
       "\t<tr><td>6.7</td><td>3.1</td><td>5.6</td><td>2.4</td></tr>\n",
       "\t<tr><td>6.9</td><td>3.1</td><td>5.1</td><td>2.3</td></tr>\n",
       "\t<tr><td>5.8</td><td>2.7</td><td>5.1</td><td>1.9</td></tr>\n",
       "\t<tr><td>6.8</td><td>3.2</td><td>5.9</td><td>2.3</td></tr>\n",
       "\t<tr><td>6.7</td><td>3.3</td><td>5.7</td><td>2.5</td></tr>\n",
       "\t<tr><td>6.7</td><td>3.0</td><td>5.2</td><td>2.3</td></tr>\n",
       "\t<tr><td>6.3</td><td>2.5</td><td>5.0</td><td>1.9</td></tr>\n",
       "\t<tr><td>6.5</td><td>3.0</td><td>5.2</td><td>2.0</td></tr>\n",
       "\t<tr><td>6.2</td><td>3.4</td><td>5.4</td><td>2.3</td></tr>\n",
       "\t<tr><td>5.9</td><td>3.0</td><td>5.1</td><td>1.8</td></tr>\n",
       "</tbody>\n",
       "</table>\n"
      ],
      "text/latex": [
       "\\begin{tabular}{r|llll}\n",
       " Sepal.Length & Sepal.Width & Petal.Length & Petal.Width\\\\\n",
       "\\hline\n",
       "\t 5.1 & 3.5 & 1.4 & 0.2\\\\\n",
       "\t 4.9 & 3.0 & 1.4 & 0.2\\\\\n",
       "\t 4.7 & 3.2 & 1.3 & 0.2\\\\\n",
       "\t 4.6 & 3.1 & 1.5 & 0.2\\\\\n",
       "\t 5.0 & 3.6 & 1.4 & 0.2\\\\\n",
       "\t 5.4 & 3.9 & 1.7 & 0.4\\\\\n",
       "\t 4.6 & 3.4 & 1.4 & 0.3\\\\\n",
       "\t 5.0 & 3.4 & 1.5 & 0.2\\\\\n",
       "\t 4.4 & 2.9 & 1.4 & 0.2\\\\\n",
       "\t 4.9 & 3.1 & 1.5 & 0.1\\\\\n",
       "\t 5.4 & 3.7 & 1.5 & 0.2\\\\\n",
       "\t 4.8 & 3.4 & 1.6 & 0.2\\\\\n",
       "\t 4.8 & 3.0 & 1.4 & 0.1\\\\\n",
       "\t 4.3 & 3.0 & 1.1 & 0.1\\\\\n",
       "\t 5.8 & 4.0 & 1.2 & 0.2\\\\\n",
       "\t 5.7 & 4.4 & 1.5 & 0.4\\\\\n",
       "\t 5.4 & 3.9 & 1.3 & 0.4\\\\\n",
       "\t 5.1 & 3.5 & 1.4 & 0.3\\\\\n",
       "\t 5.7 & 3.8 & 1.7 & 0.3\\\\\n",
       "\t 5.1 & 3.8 & 1.5 & 0.3\\\\\n",
       "\t 5.4 & 3.4 & 1.7 & 0.2\\\\\n",
       "\t 5.1 & 3.7 & 1.5 & 0.4\\\\\n",
       "\t 4.6 & 3.6 & 1.0 & 0.2\\\\\n",
       "\t 5.1 & 3.3 & 1.7 & 0.5\\\\\n",
       "\t 4.8 & 3.4 & 1.9 & 0.2\\\\\n",
       "\t 5.0 & 3.0 & 1.6 & 0.2\\\\\n",
       "\t 5.0 & 3.4 & 1.6 & 0.4\\\\\n",
       "\t 5.2 & 3.5 & 1.5 & 0.2\\\\\n",
       "\t 5.2 & 3.4 & 1.4 & 0.2\\\\\n",
       "\t 4.7 & 3.2 & 1.6 & 0.2\\\\\n",
       "\t ... & ... & ... & ...\\\\\n",
       "\t 6.9 & 3.2 & 5.7 & 2.3\\\\\n",
       "\t 5.6 & 2.8 & 4.9 & 2.0\\\\\n",
       "\t 7.7 & 2.8 & 6.7 & 2.0\\\\\n",
       "\t 6.3 & 2.7 & 4.9 & 1.8\\\\\n",
       "\t 6.7 & 3.3 & 5.7 & 2.1\\\\\n",
       "\t 7.2 & 3.2 & 6.0 & 1.8\\\\\n",
       "\t 6.2 & 2.8 & 4.8 & 1.8\\\\\n",
       "\t 6.1 & 3.0 & 4.9 & 1.8\\\\\n",
       "\t 6.4 & 2.8 & 5.6 & 2.1\\\\\n",
       "\t 7.2 & 3.0 & 5.8 & 1.6\\\\\n",
       "\t 7.4 & 2.8 & 6.1 & 1.9\\\\\n",
       "\t 7.9 & 3.8 & 6.4 & 2.0\\\\\n",
       "\t 6.4 & 2.8 & 5.6 & 2.2\\\\\n",
       "\t 6.3 & 2.8 & 5.1 & 1.5\\\\\n",
       "\t 6.1 & 2.6 & 5.6 & 1.4\\\\\n",
       "\t 7.7 & 3.0 & 6.1 & 2.3\\\\\n",
       "\t 6.3 & 3.4 & 5.6 & 2.4\\\\\n",
       "\t 6.4 & 3.1 & 5.5 & 1.8\\\\\n",
       "\t 6.0 & 3.0 & 4.8 & 1.8\\\\\n",
       "\t 6.9 & 3.1 & 5.4 & 2.1\\\\\n",
       "\t 6.7 & 3.1 & 5.6 & 2.4\\\\\n",
       "\t 6.9 & 3.1 & 5.1 & 2.3\\\\\n",
       "\t 5.8 & 2.7 & 5.1 & 1.9\\\\\n",
       "\t 6.8 & 3.2 & 5.9 & 2.3\\\\\n",
       "\t 6.7 & 3.3 & 5.7 & 2.5\\\\\n",
       "\t 6.7 & 3.0 & 5.2 & 2.3\\\\\n",
       "\t 6.3 & 2.5 & 5.0 & 1.9\\\\\n",
       "\t 6.5 & 3.0 & 5.2 & 2.0\\\\\n",
       "\t 6.2 & 3.4 & 5.4 & 2.3\\\\\n",
       "\t 5.9 & 3.0 & 5.1 & 1.8\\\\\n",
       "\\end{tabular}\n"
      ],
      "text/markdown": [
       "\n",
       "| Sepal.Length | Sepal.Width | Petal.Length | Petal.Width |\n",
       "|---|---|---|---|\n",
       "| 5.1 | 3.5 | 1.4 | 0.2 |\n",
       "| 4.9 | 3.0 | 1.4 | 0.2 |\n",
       "| 4.7 | 3.2 | 1.3 | 0.2 |\n",
       "| 4.6 | 3.1 | 1.5 | 0.2 |\n",
       "| 5.0 | 3.6 | 1.4 | 0.2 |\n",
       "| 5.4 | 3.9 | 1.7 | 0.4 |\n",
       "| 4.6 | 3.4 | 1.4 | 0.3 |\n",
       "| 5.0 | 3.4 | 1.5 | 0.2 |\n",
       "| 4.4 | 2.9 | 1.4 | 0.2 |\n",
       "| 4.9 | 3.1 | 1.5 | 0.1 |\n",
       "| 5.4 | 3.7 | 1.5 | 0.2 |\n",
       "| 4.8 | 3.4 | 1.6 | 0.2 |\n",
       "| 4.8 | 3.0 | 1.4 | 0.1 |\n",
       "| 4.3 | 3.0 | 1.1 | 0.1 |\n",
       "| 5.8 | 4.0 | 1.2 | 0.2 |\n",
       "| 5.7 | 4.4 | 1.5 | 0.4 |\n",
       "| 5.4 | 3.9 | 1.3 | 0.4 |\n",
       "| 5.1 | 3.5 | 1.4 | 0.3 |\n",
       "| 5.7 | 3.8 | 1.7 | 0.3 |\n",
       "| 5.1 | 3.8 | 1.5 | 0.3 |\n",
       "| 5.4 | 3.4 | 1.7 | 0.2 |\n",
       "| 5.1 | 3.7 | 1.5 | 0.4 |\n",
       "| 4.6 | 3.6 | 1.0 | 0.2 |\n",
       "| 5.1 | 3.3 | 1.7 | 0.5 |\n",
       "| 4.8 | 3.4 | 1.9 | 0.2 |\n",
       "| 5.0 | 3.0 | 1.6 | 0.2 |\n",
       "| 5.0 | 3.4 | 1.6 | 0.4 |\n",
       "| 5.2 | 3.5 | 1.5 | 0.2 |\n",
       "| 5.2 | 3.4 | 1.4 | 0.2 |\n",
       "| 4.7 | 3.2 | 1.6 | 0.2 |\n",
       "| ... | ... | ... | ... |\n",
       "| 6.9 | 3.2 | 5.7 | 2.3 |\n",
       "| 5.6 | 2.8 | 4.9 | 2.0 |\n",
       "| 7.7 | 2.8 | 6.7 | 2.0 |\n",
       "| 6.3 | 2.7 | 4.9 | 1.8 |\n",
       "| 6.7 | 3.3 | 5.7 | 2.1 |\n",
       "| 7.2 | 3.2 | 6.0 | 1.8 |\n",
       "| 6.2 | 2.8 | 4.8 | 1.8 |\n",
       "| 6.1 | 3.0 | 4.9 | 1.8 |\n",
       "| 6.4 | 2.8 | 5.6 | 2.1 |\n",
       "| 7.2 | 3.0 | 5.8 | 1.6 |\n",
       "| 7.4 | 2.8 | 6.1 | 1.9 |\n",
       "| 7.9 | 3.8 | 6.4 | 2.0 |\n",
       "| 6.4 | 2.8 | 5.6 | 2.2 |\n",
       "| 6.3 | 2.8 | 5.1 | 1.5 |\n",
       "| 6.1 | 2.6 | 5.6 | 1.4 |\n",
       "| 7.7 | 3.0 | 6.1 | 2.3 |\n",
       "| 6.3 | 3.4 | 5.6 | 2.4 |\n",
       "| 6.4 | 3.1 | 5.5 | 1.8 |\n",
       "| 6.0 | 3.0 | 4.8 | 1.8 |\n",
       "| 6.9 | 3.1 | 5.4 | 2.1 |\n",
       "| 6.7 | 3.1 | 5.6 | 2.4 |\n",
       "| 6.9 | 3.1 | 5.1 | 2.3 |\n",
       "| 5.8 | 2.7 | 5.1 | 1.9 |\n",
       "| 6.8 | 3.2 | 5.9 | 2.3 |\n",
       "| 6.7 | 3.3 | 5.7 | 2.5 |\n",
       "| 6.7 | 3.0 | 5.2 | 2.3 |\n",
       "| 6.3 | 2.5 | 5.0 | 1.9 |\n",
       "| 6.5 | 3.0 | 5.2 | 2.0 |\n",
       "| 6.2 | 3.4 | 5.4 | 2.3 |\n",
       "| 5.9 | 3.0 | 5.1 | 1.8 |\n",
       "\n"
      ],
      "text/plain": [
       "    Sepal.Length Sepal.Width Petal.Length Petal.Width\n",
       "1   5.1          3.5         1.4          0.2        \n",
       "2   4.9          3.0         1.4          0.2        \n",
       "3   4.7          3.2         1.3          0.2        \n",
       "4   4.6          3.1         1.5          0.2        \n",
       "5   5.0          3.6         1.4          0.2        \n",
       "6   5.4          3.9         1.7          0.4        \n",
       "7   4.6          3.4         1.4          0.3        \n",
       "8   5.0          3.4         1.5          0.2        \n",
       "9   4.4          2.9         1.4          0.2        \n",
       "10  4.9          3.1         1.5          0.1        \n",
       "11  5.4          3.7         1.5          0.2        \n",
       "12  4.8          3.4         1.6          0.2        \n",
       "13  4.8          3.0         1.4          0.1        \n",
       "14  4.3          3.0         1.1          0.1        \n",
       "15  5.8          4.0         1.2          0.2        \n",
       "16  5.7          4.4         1.5          0.4        \n",
       "17  5.4          3.9         1.3          0.4        \n",
       "18  5.1          3.5         1.4          0.3        \n",
       "19  5.7          3.8         1.7          0.3        \n",
       "20  5.1          3.8         1.5          0.3        \n",
       "21  5.4          3.4         1.7          0.2        \n",
       "22  5.1          3.7         1.5          0.4        \n",
       "23  4.6          3.6         1.0          0.2        \n",
       "24  5.1          3.3         1.7          0.5        \n",
       "25  4.8          3.4         1.9          0.2        \n",
       "26  5.0          3.0         1.6          0.2        \n",
       "27  5.0          3.4         1.6          0.4        \n",
       "28  5.2          3.5         1.5          0.2        \n",
       "29  5.2          3.4         1.4          0.2        \n",
       "30  4.7          3.2         1.6          0.2        \n",
       "... ...          ...         ...          ...        \n",
       "121 6.9          3.2         5.7          2.3        \n",
       "122 5.6          2.8         4.9          2.0        \n",
       "123 7.7          2.8         6.7          2.0        \n",
       "124 6.3          2.7         4.9          1.8        \n",
       "125 6.7          3.3         5.7          2.1        \n",
       "126 7.2          3.2         6.0          1.8        \n",
       "127 6.2          2.8         4.8          1.8        \n",
       "128 6.1          3.0         4.9          1.8        \n",
       "129 6.4          2.8         5.6          2.1        \n",
       "130 7.2          3.0         5.8          1.6        \n",
       "131 7.4          2.8         6.1          1.9        \n",
       "132 7.9          3.8         6.4          2.0        \n",
       "133 6.4          2.8         5.6          2.2        \n",
       "134 6.3          2.8         5.1          1.5        \n",
       "135 6.1          2.6         5.6          1.4        \n",
       "136 7.7          3.0         6.1          2.3        \n",
       "137 6.3          3.4         5.6          2.4        \n",
       "138 6.4          3.1         5.5          1.8        \n",
       "139 6.0          3.0         4.8          1.8        \n",
       "140 6.9          3.1         5.4          2.1        \n",
       "141 6.7          3.1         5.6          2.4        \n",
       "142 6.9          3.1         5.1          2.3        \n",
       "143 5.8          2.7         5.1          1.9        \n",
       "144 6.8          3.2         5.9          2.3        \n",
       "145 6.7          3.3         5.7          2.5        \n",
       "146 6.7          3.0         5.2          2.3        \n",
       "147 6.3          2.5         5.0          1.9        \n",
       "148 6.5          3.0         5.2          2.0        \n",
       "149 6.2          3.4         5.4          2.3        \n",
       "150 5.9          3.0         5.1          1.8        "
      ]
     },
     "metadata": {},
     "output_type": "display_data"
    }
   ],
   "source": [
    "# subset으로 컬럼 지우기\n",
    "subset(iris,select = -Species) #선택해서 지우기"
   ]
  },
  {
   "cell_type": "markdown",
   "id": "e2e79d01",
   "metadata": {},
   "source": [
    "---\n",
    "# 그룹연산 함수"
   ]
  },
  {
   "cell_type": "code",
   "execution_count": 175,
   "id": "36e43ba1",
   "metadata": {
    "vscode": {
     "languageId": "r"
    }
   },
   "outputs": [
    {
     "data": {
      "text/html": [
       "<table>\n",
       "<thead><tr><th scope=col>Species</th><th scope=col>Sepal.Width</th></tr></thead>\n",
       "<tbody>\n",
       "\t<tr><td>setosa    </td><td>3.428     </td></tr>\n",
       "\t<tr><td>versicolor</td><td>2.770     </td></tr>\n",
       "\t<tr><td>virginica </td><td>2.974     </td></tr>\n",
       "</tbody>\n",
       "</table>\n"
      ],
      "text/latex": [
       "\\begin{tabular}{r|ll}\n",
       " Species & Sepal.Width\\\\\n",
       "\\hline\n",
       "\t setosa     & 3.428     \\\\\n",
       "\t versicolor & 2.770     \\\\\n",
       "\t virginica  & 2.974     \\\\\n",
       "\\end{tabular}\n"
      ],
      "text/markdown": [
       "\n",
       "| Species | Sepal.Width |\n",
       "|---|---|\n",
       "| setosa     | 3.428      |\n",
       "| versicolor | 2.770      |\n",
       "| virginica  | 2.974      |\n",
       "\n"
      ],
      "text/plain": [
       "  Species    Sepal.Width\n",
       "1 setosa     3.428      \n",
       "2 versicolor 2.770      \n",
       "3 virginica  2.974      "
      ]
     },
     "metadata": {},
     "output_type": "display_data"
    }
   ],
   "source": [
    "# iris에서 Species 기준으로 Sepal.Width의 평균 구하기  엄청 많이 씀 자주씀 Species기준으로 작성한다. 그럼 그종류의 평균값이 나온다.\n",
    "\n",
    "aggregate(Sepal.Width~ Species, iris, mean)"
   ]
  },
  {
   "cell_type": "markdown",
   "id": "483aea06",
   "metadata": {},
   "source": [
    "---\n",
    "# 서울시 교통사고 조사 테이터셋"
   ]
  },
  {
   "cell_type": "code",
   "execution_count": 182,
   "id": "7c793cb2",
   "metadata": {
    "vscode": {
     "languageId": "r"
    }
   },
   "outputs": [
    {
     "ename": "ERROR",
     "evalue": "Error in read.table(file = file, header = header, sep = sep, quote = quote, : more columns than column names\n",
     "output_type": "error",
     "traceback": [
      "Error in read.table(file = file, header = header, sep = sep, quote = quote, : more columns than column names\nTraceback:\n",
      "1. read.csv(\"../Data/newSeoul2019.csv\")",
      "2. read.table(file = file, header = header, sep = sep, quote = quote, \n .     dec = dec, fill = fill, comment.char = comment.char, ...)",
      "3. stop(\"more columns than column names\")"
     ]
    }
   ],
   "source": [
    "# 데이터셋을 불러와서 seoul이라는 변수에 넣기\n",
    "seoul <- read.csv(\"../Data/newSeoul2019.csv\", fileEncoding=\"utf-8\")\n",
    "\n",
    "head(seoul)"
   ]
  },
  {
   "cell_type": "code",
   "execution_count": 183,
   "id": "a9d27126",
   "metadata": {
    "vscode": {
     "languageId": "r"
    }
   },
   "outputs": [
    {
     "ename": "ERROR",
     "evalue": "Error in tail(seoul): 객체 'seoul'를 찾을 수 없습니다\n",
     "output_type": "error",
     "traceback": [
      "Error in tail(seoul): 객체 'seoul'를 찾을 수 없습니다\nTraceback:\n",
      "1. tail(seoul)"
     ]
    }
   ],
   "source": [
    "tail(seoul) # 끝에 본다"
   ]
  },
  {
   "cell_type": "code",
   "execution_count": null,
   "id": "797c34fa",
   "metadata": {
    "vscode": {
     "languageId": "r"
    }
   },
   "outputs": [
    {
     "name": "stdout",
     "output_type": "stream",
     "text": [
      "'data.frame':\t2700 obs. of  6 variables:\n",
      " $ 년도    : int  2011 2011 2011 2011 2011 2011 2011 2011 2011 2011 ...\n",
      " $ 월      : int  1 2 3 4 5 6 7 8 9 10 ...\n",
      " $ 자치구명: Factor w/ 25 levels \"강남구\",\"강동구\",..: 23 23 23 23 23 23 23 23 23 23 ...\n",
      " $ 발생건수: int  115 99 116 110 122 116 103 122 121 135 ...\n",
      " $ 사망자수: int  2 0 0 1 0 3 1 1 2 2 ...\n",
      " $ 부상자수: int  165 134 162 153 157 163 154 171 166 193 ...\n"
     ]
    }
   ],
   "source": [
    "str(seoul)"
   ]
  },
  {
   "cell_type": "code",
   "execution_count": null,
   "id": "a5886c7a",
   "metadata": {
    "vscode": {
     "languageId": "r"
    }
   },
   "outputs": [
    {
     "ename": "ERROR",
     "evalue": "Error in parse(text = x, srcfile = src): <text>:4:51: 예상하지 못한 문자열 상수(string constant)입니다.\n3: for(i in 1:ncol(seoul)){ \n4:     cat(colname(seoul)[i],\":\",sum(is.na(seoul[,1])\"\\n\"\n                                                     ^\n",
     "output_type": "error",
     "traceback": [
      "Error in parse(text = x, srcfile = src): <text>:4:51: 예상하지 못한 문자열 상수(string constant)입니다.\n3: for(i in 1:ncol(seoul)){ \n4:     cat(colname(seoul)[i],\":\",sum(is.na(seoul[,1])\"\\n\"\n                                                     ^\nTraceback:\n"
     ]
    }
   ],
   "source": [
    "# Na 확인\n",
    "\n",
    "for(i in 1:ncol(seoul)){ \n",
    "    cat(colname(seoul)[i],\":\",sum(is.na(seoul[,1])\"\\n\")\n",
    "    }"
   ]
  },
  {
   "cell_type": "markdown",
   "id": "aadd07c6",
   "metadata": {},
   "source": [
    "---\n",
    "### 컬럼별 데이터 확인\n"
   ]
  },
  {
   "cell_type": "code",
   "execution_count": null,
   "id": "d54f8b3d",
   "metadata": {
    "vscode": {
     "languageId": "r"
    }
   },
   "outputs": [
    {
     "ename": "ERROR",
     "evalue": "Error in table(seoul$년도): 객체 'seoul'를 찾을 수 없습니다\n",
     "output_type": "error",
     "traceback": [
      "Error in table(seoul$년도): 객체 'seoul'를 찾을 수 없습니다\nTraceback:\n",
      "1. table(seoul$년도)"
     ]
    }
   ],
   "source": [
    "#연도\n",
    "\n",
    "table(seoul$년도)"
   ]
  },
  {
   "cell_type": "code",
   "execution_count": null,
   "id": "afcdfab0",
   "metadata": {
    "vscode": {
     "languageId": "r"
    }
   },
   "outputs": [
    {
     "data": {
      "text/plain": [
       "\n",
       "  1   2   3   4   5   6   7   8   9  10  11  12 \n",
       "225 225 225 225 225 225 225 225 225 225 225 225 "
      ]
     },
     "metadata": {},
     "output_type": "display_data"
    }
   ],
   "source": [
    "#월\n",
    "\n",
    "table(seoul$월)"
   ]
  },
  {
   "cell_type": "code",
   "execution_count": null,
   "id": "fe2f5f77",
   "metadata": {
    "vscode": {
     "languageId": "r"
    }
   },
   "outputs": [
    {
     "data": {
      "text/plain": [
       "\n",
       "  강남구   강동구   강북구   강서구   관악구   광진구   구로구   금천구 \n",
       "     108      108      108      108      108      108      108      108 \n",
       "  노원구   도봉구 동대문구   동작구   마포구 서대문구   서초구   성동구 \n",
       "     108      108      108      108      108      108      108      108 \n",
       "  성북구   송파구   양천구 영등포구   용산구   은평구   종로구     중구 \n",
       "     108      108      108      108      108      108      108      108 \n",
       "  중랑구 \n",
       "     108 "
      ]
     },
     "metadata": {},
     "output_type": "display_data"
    }
   ],
   "source": [
    "# 자치구명\n",
    "\n",
    "table(seoul$자치구명)"
   ]
  },
  {
   "cell_type": "code",
   "execution_count": null,
   "id": "ff8e54ad",
   "metadata": {
    "vscode": {
     "languageId": "r"
    }
   },
   "outputs": [
    {
     "data": {
      "text/html": [
       "<table>\n",
       "<thead><tr><th scope=col>자치구명</th><th scope=col>발생건수</th></tr></thead>\n",
       "<tbody>\n",
       "\t<tr><td>강남구  </td><td>306.3611</td></tr>\n",
       "\t<tr><td>강동구  </td><td>118.5370</td></tr>\n",
       "\t<tr><td>강북구  </td><td>101.7870</td></tr>\n",
       "\t<tr><td>강서구  </td><td>145.4722</td></tr>\n",
       "\t<tr><td>관악구  </td><td>128.3889</td></tr>\n",
       "\t<tr><td>광진구  </td><td>103.0741</td></tr>\n",
       "</tbody>\n",
       "</table>\n"
      ],
      "text/latex": [
       "\\begin{tabular}{r|ll}\n",
       " 자치구명 & 발생건수\\\\\n",
       "\\hline\n",
       "\t 강남구   & 306.3611\\\\\n",
       "\t 강동구   & 118.5370\\\\\n",
       "\t 강북구   & 101.7870\\\\\n",
       "\t 강서구   & 145.4722\\\\\n",
       "\t 관악구   & 128.3889\\\\\n",
       "\t 광진구   & 103.0741\\\\\n",
       "\\end{tabular}\n"
      ],
      "text/markdown": [
       "\n",
       "| 자치구명 | 발생건수 |\n",
       "|---|---|\n",
       "| 강남구   | 306.3611 |\n",
       "| 강동구   | 118.5370 |\n",
       "| 강북구   | 101.7870 |\n",
       "| 강서구   | 145.4722 |\n",
       "| 관악구   | 128.3889 |\n",
       "| 광진구   | 103.0741 |\n",
       "\n"
      ],
      "text/plain": [
       "  자치구명 발생건수\n",
       "1 강남구   306.3611\n",
       "2 강동구   118.5370\n",
       "3 강북구   101.7870\n",
       "4 강서구   145.4722\n",
       "5 관악구   128.3889\n",
       "6 광진구   103.0741"
      ]
     },
     "metadata": {},
     "output_type": "display_data"
    }
   ],
   "source": [
    "# 자치구별 발생건수의 평균\n",
    " \n",
    "regionAcc.mean <- aggregate(발생건수 ~ 자치구명, seoul, mean)\n",
    "head(regionAcc.mean)"
   ]
  },
  {
   "cell_type": "code",
   "execution_count": null,
   "id": "8a6a5544",
   "metadata": {
    "vscode": {
     "languageId": "r"
    }
   },
   "outputs": [
    {
     "data": {
      "text/html": [
       "<table>\n",
       "<thead><tr><th scope=col>자치구명</th><th scope=col>발생건수</th></tr></thead>\n",
       "<tbody>\n",
       "\t<tr><td>강남구   </td><td>306.36111</td></tr>\n",
       "\t<tr><td>송파구   </td><td>224.75926</td></tr>\n",
       "\t<tr><td>영등포구 </td><td>194.64815</td></tr>\n",
       "\t<tr><td>서초구   </td><td>186.48148</td></tr>\n",
       "\t<tr><td>동대문구 </td><td>153.64815</td></tr>\n",
       "\t<tr><td>강서구   </td><td>145.47222</td></tr>\n",
       "\t<tr><td>마포구   </td><td>141.51852</td></tr>\n",
       "\t<tr><td>중랑구   </td><td>138.46296</td></tr>\n",
       "\t<tr><td>성북구   </td><td>130.85185</td></tr>\n",
       "\t<tr><td>노원구   </td><td>129.21296</td></tr>\n",
       "\t<tr><td>관악구   </td><td>128.38889</td></tr>\n",
       "\t<tr><td>구로구   </td><td>126.09259</td></tr>\n",
       "\t<tr><td>양천구   </td><td>120.68519</td></tr>\n",
       "\t<tr><td>강동구   </td><td>118.53704</td></tr>\n",
       "\t<tr><td>동작구   </td><td>112.64815</td></tr>\n",
       "\t<tr><td>용산구   </td><td>110.29630</td></tr>\n",
       "\t<tr><td>중구     </td><td>110.11111</td></tr>\n",
       "\t<tr><td>종로구   </td><td>106.97222</td></tr>\n",
       "\t<tr><td>은평구   </td><td>104.32407</td></tr>\n",
       "\t<tr><td>광진구   </td><td>103.07407</td></tr>\n",
       "\t<tr><td>강북구   </td><td>101.78704</td></tr>\n",
       "\t<tr><td>성동구   </td><td> 93.19444</td></tr>\n",
       "\t<tr><td>서대문구 </td><td> 89.71296</td></tr>\n",
       "\t<tr><td>금천구   </td><td> 78.69444</td></tr>\n",
       "\t<tr><td>도봉구   </td><td> 76.40741</td></tr>\n",
       "</tbody>\n",
       "</table>\n"
      ],
      "text/latex": [
       "\\begin{tabular}{r|ll}\n",
       " 자치구명 & 발생건수\\\\\n",
       "\\hline\n",
       "\t 강남구    & 306.36111\\\\\n",
       "\t 송파구    & 224.75926\\\\\n",
       "\t 영등포구  & 194.64815\\\\\n",
       "\t 서초구    & 186.48148\\\\\n",
       "\t 동대문구  & 153.64815\\\\\n",
       "\t 강서구    & 145.47222\\\\\n",
       "\t 마포구    & 141.51852\\\\\n",
       "\t 중랑구    & 138.46296\\\\\n",
       "\t 성북구    & 130.85185\\\\\n",
       "\t 노원구    & 129.21296\\\\\n",
       "\t 관악구    & 128.38889\\\\\n",
       "\t 구로구    & 126.09259\\\\\n",
       "\t 양천구    & 120.68519\\\\\n",
       "\t 강동구    & 118.53704\\\\\n",
       "\t 동작구    & 112.64815\\\\\n",
       "\t 용산구    & 110.29630\\\\\n",
       "\t 중구      & 110.11111\\\\\n",
       "\t 종로구    & 106.97222\\\\\n",
       "\t 은평구    & 104.32407\\\\\n",
       "\t 광진구    & 103.07407\\\\\n",
       "\t 강북구    & 101.78704\\\\\n",
       "\t 성동구    &  93.19444\\\\\n",
       "\t 서대문구  &  89.71296\\\\\n",
       "\t 금천구    &  78.69444\\\\\n",
       "\t 도봉구    &  76.40741\\\\\n",
       "\\end{tabular}\n"
      ],
      "text/markdown": [
       "\n",
       "| 자치구명 | 발생건수 |\n",
       "|---|---|\n",
       "| 강남구    | 306.36111 |\n",
       "| 송파구    | 224.75926 |\n",
       "| 영등포구  | 194.64815 |\n",
       "| 서초구    | 186.48148 |\n",
       "| 동대문구  | 153.64815 |\n",
       "| 강서구    | 145.47222 |\n",
       "| 마포구    | 141.51852 |\n",
       "| 중랑구    | 138.46296 |\n",
       "| 성북구    | 130.85185 |\n",
       "| 노원구    | 129.21296 |\n",
       "| 관악구    | 128.38889 |\n",
       "| 구로구    | 126.09259 |\n",
       "| 양천구    | 120.68519 |\n",
       "| 강동구    | 118.53704 |\n",
       "| 동작구    | 112.64815 |\n",
       "| 용산구    | 110.29630 |\n",
       "| 중구      | 110.11111 |\n",
       "| 종로구    | 106.97222 |\n",
       "| 은평구    | 104.32407 |\n",
       "| 광진구    | 103.07407 |\n",
       "| 강북구    | 101.78704 |\n",
       "| 성동구    |  93.19444 |\n",
       "| 서대문구  |  89.71296 |\n",
       "| 금천구    |  78.69444 |\n",
       "| 도봉구    |  76.40741 |\n",
       "\n"
      ],
      "text/plain": [
       "   자치구명 발생건수 \n",
       "1  강남구   306.36111\n",
       "2  송파구   224.75926\n",
       "3  영등포구 194.64815\n",
       "4  서초구   186.48148\n",
       "5  동대문구 153.64815\n",
       "6  강서구   145.47222\n",
       "7  마포구   141.51852\n",
       "8  중랑구   138.46296\n",
       "9  성북구   130.85185\n",
       "10 노원구   129.21296\n",
       "11 관악구   128.38889\n",
       "12 구로구   126.09259\n",
       "13 양천구   120.68519\n",
       "14 강동구   118.53704\n",
       "15 동작구   112.64815\n",
       "16 용산구   110.29630\n",
       "17 중구     110.11111\n",
       "18 종로구   106.97222\n",
       "19 은평구   104.32407\n",
       "20 광진구   103.07407\n",
       "21 강북구   101.78704\n",
       "22 성동구    93.19444\n",
       "23 서대문구  89.71296\n",
       "24 금천구    78.69444\n",
       "25 도봉구    76.40741"
      ]
     },
     "metadata": {},
     "output_type": "display_data"
    }
   ],
   "source": [
    "# regionAcc.mean을 발생건수 기준으로 내림차순 정렬하기\n",
    "arrange(regionAcc.mean, desc(발생건수))"
   ]
  },
  {
   "cell_type": "code",
   "execution_count": null,
   "id": "62f87159",
   "metadata": {
    "vscode": {
     "languageId": "r"
    }
   },
   "outputs": [],
   "source": []
  }
 ],
 "metadata": {
  "kernelspec": {
   "display_name": "R",
   "language": "R",
   "name": "ir"
  },
  "language_info": {
   "codemirror_mode": "r",
   "file_extension": ".r",
   "mimetype": "text/x-r-source",
   "name": "R",
   "pygments_lexer": "r",
   "version": "3.6.1"
  }
 },
 "nbformat": 4,
 "nbformat_minor": 5
}

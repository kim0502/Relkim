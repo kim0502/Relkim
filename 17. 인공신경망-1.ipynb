{
 "cells": [
  {
   "cell_type": "markdown",
   "id": "feb54b94",
   "metadata": {},
   "source": [
    "# Machine Learning\n",
    "\n",
    "### 인공신경망\n",
    "- 인공신경만은 Pythone에서 Deep Learning 으로 발전됨"
   ]
  },
  {
   "cell_type": "code",
   "execution_count": 1,
   "id": "8013f801",
   "metadata": {},
   "outputs": [
    {
     "name": "stdout",
     "output_type": "stream",
     "text": [
      "  Sepal.Length Sepal.Width Petal.Length Petal.Width Species\n",
      "1          5.1         3.5          1.4         0.2  setosa\n",
      "2          4.9         3.0          1.4         0.2  setosa\n",
      "3          4.7         3.2          1.3         0.2  setosa\n",
      "4          4.6         3.1          1.5         0.2  setosa\n",
      "5          5.0         3.6          1.4         0.2  setosa\n",
      "6          5.4         3.9          1.7         0.4  setosa\n"
     ]
    }
   ],
   "source": [
    "print(head(iris))"
   ]
  },
  {
   "cell_type": "code",
   "execution_count": 2,
   "id": "a0bcffaa",
   "metadata": {},
   "outputs": [
    {
     "data": {
      "text/html": [
       "<ol class=list-inline>\n",
       "\t<li>28</li>\n",
       "\t<li>16</li>\n",
       "\t<li>22</li>\n",
       "\t<li>37</li>\n",
       "\t<li>44</li>\n",
       "\t<li>9</li>\n",
       "\t<li>5</li>\n",
       "\t<li>38</li>\n",
       "\t<li>49</li>\n",
       "\t<li>4</li>\n",
       "\t<li>34</li>\n",
       "\t<li>39</li>\n",
       "\t<li>48</li>\n",
       "\t<li>26</li>\n",
       "\t<li>6</li>\n",
       "\t<li>15</li>\n",
       "\t<li>14</li>\n",
       "\t<li>40</li>\n",
       "\t<li>30</li>\n",
       "\t<li>24</li>\n",
       "\t<li>32</li>\n",
       "\t<li>41</li>\n",
       "\t<li>29</li>\n",
       "\t<li>21</li>\n",
       "\t<li>8</li>\n",
       "\t<li>20</li>\n",
       "\t<li>31</li>\n",
       "\t<li>3</li>\n",
       "\t<li>50</li>\n",
       "\t<li>46</li>\n",
       "\t<li>2</li>\n",
       "\t<li>35</li>\n",
       "\t<li>47</li>\n",
       "\t<li>42</li>\n",
       "\t<li>12</li>\n",
       "\t<li>53</li>\n",
       "\t<li>73</li>\n",
       "\t<li>91</li>\n",
       "\t<li>86</li>\n",
       "\t<li>58</li>\n",
       "\t<li>82</li>\n",
       "\t<li>92</li>\n",
       "\t<li>93</li>\n",
       "\t<li>52</li>\n",
       "\t<li>65</li>\n",
       "\t<li>88</li>\n",
       "\t<li>56</li>\n",
       "\t<li>79</li>\n",
       "\t<li>95</li>\n",
       "\t<li>96</li>\n",
       "\t<li>76</li>\n",
       "\t<li>67</li>\n",
       "\t<li>97</li>\n",
       "\t<li>60</li>\n",
       "\t<li>98</li>\n",
       "\t<li>72</li>\n",
       "\t<li>100</li>\n",
       "\t<li>59</li>\n",
       "\t<li>66</li>\n",
       "\t<li>90</li>\n",
       "\t<li>80</li>\n",
       "\t<li>87</li>\n",
       "\t<li>99</li>\n",
       "\t<li>75</li>\n",
       "\t<li>63</li>\n",
       "\t<li>85</li>\n",
       "\t<li>69</li>\n",
       "\t<li>68</li>\n",
       "\t<li>89</li>\n",
       "\t<li>62</li>\n",
       "\t<li>120</li>\n",
       "\t<li>141</li>\n",
       "\t<li>107</li>\n",
       "\t<li>132</li>\n",
       "\t<li>106</li>\n",
       "\t<li>137</li>\n",
       "\t<li>127</li>\n",
       "\t<li>112</li>\n",
       "\t<li>108</li>\n",
       "\t<li>101</li>\n",
       "\t<li>136</li>\n",
       "\t<li>128</li>\n",
       "\t<li>119</li>\n",
       "\t<li>109</li>\n",
       "\t<li>130</li>\n",
       "\t<li>117</li>\n",
       "\t<li>122</li>\n",
       "\t<li>146</li>\n",
       "\t<li>121</li>\n",
       "\t<li>147</li>\n",
       "\t<li>113</li>\n",
       "\t<li>135</li>\n",
       "\t<li>102</li>\n",
       "\t<li>133</li>\n",
       "\t<li>126</li>\n",
       "\t<li>139</li>\n",
       "\t<li>131</li>\n",
       "\t<li>116</li>\n",
       "\t<li>111</li>\n",
       "\t<li>104</li>\n",
       "\t<li>103</li>\n",
       "\t<li>124</li>\n",
       "\t<li>110</li>\n",
       "\t<li>144</li>\n",
       "\t<li>129</li>\n",
       "</ol>\n"
      ],
      "text/latex": [
       "\\begin{enumerate*}\n",
       "\\item 28\n",
       "\\item 16\n",
       "\\item 22\n",
       "\\item 37\n",
       "\\item 44\n",
       "\\item 9\n",
       "\\item 5\n",
       "\\item 38\n",
       "\\item 49\n",
       "\\item 4\n",
       "\\item 34\n",
       "\\item 39\n",
       "\\item 48\n",
       "\\item 26\n",
       "\\item 6\n",
       "\\item 15\n",
       "\\item 14\n",
       "\\item 40\n",
       "\\item 30\n",
       "\\item 24\n",
       "\\item 32\n",
       "\\item 41\n",
       "\\item 29\n",
       "\\item 21\n",
       "\\item 8\n",
       "\\item 20\n",
       "\\item 31\n",
       "\\item 3\n",
       "\\item 50\n",
       "\\item 46\n",
       "\\item 2\n",
       "\\item 35\n",
       "\\item 47\n",
       "\\item 42\n",
       "\\item 12\n",
       "\\item 53\n",
       "\\item 73\n",
       "\\item 91\n",
       "\\item 86\n",
       "\\item 58\n",
       "\\item 82\n",
       "\\item 92\n",
       "\\item 93\n",
       "\\item 52\n",
       "\\item 65\n",
       "\\item 88\n",
       "\\item 56\n",
       "\\item 79\n",
       "\\item 95\n",
       "\\item 96\n",
       "\\item 76\n",
       "\\item 67\n",
       "\\item 97\n",
       "\\item 60\n",
       "\\item 98\n",
       "\\item 72\n",
       "\\item 100\n",
       "\\item 59\n",
       "\\item 66\n",
       "\\item 90\n",
       "\\item 80\n",
       "\\item 87\n",
       "\\item 99\n",
       "\\item 75\n",
       "\\item 63\n",
       "\\item 85\n",
       "\\item 69\n",
       "\\item 68\n",
       "\\item 89\n",
       "\\item 62\n",
       "\\item 120\n",
       "\\item 141\n",
       "\\item 107\n",
       "\\item 132\n",
       "\\item 106\n",
       "\\item 137\n",
       "\\item 127\n",
       "\\item 112\n",
       "\\item 108\n",
       "\\item 101\n",
       "\\item 136\n",
       "\\item 128\n",
       "\\item 119\n",
       "\\item 109\n",
       "\\item 130\n",
       "\\item 117\n",
       "\\item 122\n",
       "\\item 146\n",
       "\\item 121\n",
       "\\item 147\n",
       "\\item 113\n",
       "\\item 135\n",
       "\\item 102\n",
       "\\item 133\n",
       "\\item 126\n",
       "\\item 139\n",
       "\\item 131\n",
       "\\item 116\n",
       "\\item 111\n",
       "\\item 104\n",
       "\\item 103\n",
       "\\item 124\n",
       "\\item 110\n",
       "\\item 144\n",
       "\\item 129\n",
       "\\end{enumerate*}\n"
      ],
      "text/markdown": [
       "1. 28\n",
       "2. 16\n",
       "3. 22\n",
       "4. 37\n",
       "5. 44\n",
       "6. 9\n",
       "7. 5\n",
       "8. 38\n",
       "9. 49\n",
       "10. 4\n",
       "11. 34\n",
       "12. 39\n",
       "13. 48\n",
       "14. 26\n",
       "15. 6\n",
       "16. 15\n",
       "17. 14\n",
       "18. 40\n",
       "19. 30\n",
       "20. 24\n",
       "21. 32\n",
       "22. 41\n",
       "23. 29\n",
       "24. 21\n",
       "25. 8\n",
       "26. 20\n",
       "27. 31\n",
       "28. 3\n",
       "29. 50\n",
       "30. 46\n",
       "31. 2\n",
       "32. 35\n",
       "33. 47\n",
       "34. 42\n",
       "35. 12\n",
       "36. 53\n",
       "37. 73\n",
       "38. 91\n",
       "39. 86\n",
       "40. 58\n",
       "41. 82\n",
       "42. 92\n",
       "43. 93\n",
       "44. 52\n",
       "45. 65\n",
       "46. 88\n",
       "47. 56\n",
       "48. 79\n",
       "49. 95\n",
       "50. 96\n",
       "51. 76\n",
       "52. 67\n",
       "53. 97\n",
       "54. 60\n",
       "55. 98\n",
       "56. 72\n",
       "57. 100\n",
       "58. 59\n",
       "59. 66\n",
       "60. 90\n",
       "61. 80\n",
       "62. 87\n",
       "63. 99\n",
       "64. 75\n",
       "65. 63\n",
       "66. 85\n",
       "67. 69\n",
       "68. 68\n",
       "69. 89\n",
       "70. 62\n",
       "71. 120\n",
       "72. 141\n",
       "73. 107\n",
       "74. 132\n",
       "75. 106\n",
       "76. 137\n",
       "77. 127\n",
       "78. 112\n",
       "79. 108\n",
       "80. 101\n",
       "81. 136\n",
       "82. 128\n",
       "83. 119\n",
       "84. 109\n",
       "85. 130\n",
       "86. 117\n",
       "87. 122\n",
       "88. 146\n",
       "89. 121\n",
       "90. 147\n",
       "91. 113\n",
       "92. 135\n",
       "93. 102\n",
       "94. 133\n",
       "95. 126\n",
       "96. 139\n",
       "97. 131\n",
       "98. 116\n",
       "99. 111\n",
       "100. 104\n",
       "101. 103\n",
       "102. 124\n",
       "103. 110\n",
       "104. 144\n",
       "105. 129\n",
       "\n",
       "\n"
      ],
      "text/plain": [
       "  [1]  28  16  22  37  44   9   5  38  49   4  34  39  48  26   6  15  14  40\n",
       " [19]  30  24  32  41  29  21   8  20  31   3  50  46   2  35  47  42  12  53\n",
       " [37]  73  91  86  58  82  92  93  52  65  88  56  79  95  96  76  67  97  60\n",
       " [55]  98  72 100  59  66  90  80  87  99  75  63  85  69  68  89  62 120 141\n",
       " [73] 107 132 106 137 127 112 108 101 136 128 119 109 130 117 122 146 121 147\n",
       " [91] 113 135 102 133 126 139 131 116 111 104 103 124 110 144 129"
      ]
     },
     "metadata": {},
     "output_type": "display_data"
    }
   ],
   "source": [
    "# 학습용 데이터와 검증용 데이터의 분리\n",
    "\n",
    "set.seed(1234) \n",
    "samp<-c(sample(1:50,35), sample(51:100,35), sample(101:150,35))\n",
    "samp"
   ]
  },
  {
   "cell_type": "code",
   "execution_count": 3,
   "id": "765b17a9",
   "metadata": {},
   "outputs": [],
   "source": [
    "# 학습용 데이터셋\n",
    "data.tr <- iris[samp,]"
   ]
  },
  {
   "cell_type": "code",
   "execution_count": 4,
   "id": "b992c7be",
   "metadata": {},
   "outputs": [],
   "source": [
    "# 검증용 데이터셋\n",
    "data.test <- iris[-samp,] # 시험볼때 여기꺼 써먹기"
   ]
  },
  {
   "cell_type": "raw",
   "id": "0a956fab",
   "metadata": {},
   "source": [
    "summary(data.tr)\n",
    "summary(data.test)"
   ]
  },
  {
   "cell_type": "markdown",
   "id": "2b078403",
   "metadata": {},
   "source": [
    "### 학습시키기"
   ]
  },
  {
   "cell_type": "code",
   "execution_count": 5,
   "id": "442c770a",
   "metadata": {},
   "outputs": [],
   "source": [
    "# 인공신경망 모델 사용\n",
    "library(nnet)"
   ]
  },
  {
   "cell_type": "code",
   "execution_count": 6,
   "id": "2a937ada",
   "metadata": {},
   "outputs": [
    {
     "name": "stdout",
     "output_type": "stream",
     "text": [
      "# weights:  27\n",
      "initial  value 121.492256 \n",
      "iter  10 value 110.581609\n",
      "iter  20 value 49.740861\n",
      "iter  30 value 26.600820\n",
      "iter  40 value 1.834814\n",
      "iter  50 value 0.008937\n",
      "final  value 0.000074 \n",
      "converged\n"
     ]
    }
   ],
   "source": [
    "# Model 만들기\n",
    "model.nnet <- nnet(Species ~., data=data.tr, size=3) # size:은닉층 갯수로 sample수보다 작아야 함.(Hyper Parameter)"
   ]
  },
  {
   "cell_type": "code",
   "execution_count": 7,
   "id": "dd1c8bbf",
   "metadata": {},
   "outputs": [],
   "source": [
    "# 문제 및 정답 만들기\n",
    "x <- subset(data.test, select = -Species)\n",
    "y <- data.test$Species"
   ]
  },
  {
   "cell_type": "code",
   "execution_count": 8,
   "id": "47b63f24",
   "metadata": {},
   "outputs": [
    {
     "data": {
      "text/html": [
       "<ol class=list-inline>\n",
       "\t<li>'setosa'</li>\n",
       "\t<li>'setosa'</li>\n",
       "\t<li>'setosa'</li>\n",
       "\t<li>'setosa'</li>\n",
       "\t<li>'setosa'</li>\n",
       "\t<li>'setosa'</li>\n",
       "</ol>\n"
      ],
      "text/latex": [
       "\\begin{enumerate*}\n",
       "\\item 'setosa'\n",
       "\\item 'setosa'\n",
       "\\item 'setosa'\n",
       "\\item 'setosa'\n",
       "\\item 'setosa'\n",
       "\\item 'setosa'\n",
       "\\end{enumerate*}\n"
      ],
      "text/markdown": [
       "1. 'setosa'\n",
       "2. 'setosa'\n",
       "3. 'setosa'\n",
       "4. 'setosa'\n",
       "5. 'setosa'\n",
       "6. 'setosa'\n",
       "\n",
       "\n"
      ],
      "text/plain": [
       "[1] \"setosa\" \"setosa\" \"setosa\" \"setosa\" \"setosa\" \"setosa\""
      ]
     },
     "metadata": {},
     "output_type": "display_data"
    }
   ],
   "source": [
    "# 검증\n",
    "\n",
    "pred<- predict(model.nnet, x, type = \"class\") #class : 분류된겟(객관식), raw : 주관식\n",
    "head(pred)"
   ]
  },
  {
   "cell_type": "code",
   "execution_count": 9,
   "id": "3a230bfc",
   "metadata": {},
   "outputs": [
    {
     "data": {
      "text/html": [
       "0.955555555555556"
      ],
      "text/latex": [
       "0.955555555555556"
      ],
      "text/markdown": [
       "0.955555555555556"
      ],
      "text/plain": [
       "[1] 0.9555556"
      ]
     },
     "metadata": {},
     "output_type": "display_data"
    }
   ],
   "source": [
    "# 정확도\n",
    "\n",
    "mean(pred == y)"
   ]
  },
  {
   "cell_type": "code",
   "execution_count": 10,
   "id": "f86c99d2",
   "metadata": {},
   "outputs": [
    {
     "data": {
      "text/plain": [
       "            y\n",
       "pred         setosa versicolor virginica\n",
       "  setosa         15          0         0\n",
       "  versicolor      0         13         0\n",
       "  virginica       0          2        15"
      ]
     },
     "metadata": {},
     "output_type": "display_data"
    }
   ],
   "source": [
    "# 정오표 확인\n",
    "# %(정확도)가 높은것보다 골고루 모두 맞아야한다.\n",
    "table(pred, y)"
   ]
  },
  {
   "cell_type": "markdown",
   "id": "ecaf1add",
   "metadata": {},
   "source": [
    "---\n",
    "# 학습시킨 머신러닝 사용하기"
   ]
  },
  {
   "cell_type": "code",
   "execution_count": 11,
   "id": "63968bc3",
   "metadata": {},
   "outputs": [],
   "source": [
    "# Sepal.Length = 5.3\n",
    "# Sepal.Width = 3.3\n",
    "# Petal.Length = 1.6\n",
    "# Petal.Width = 0.3\n",
    "# 대한 품종은?"
   ]
  },
  {
   "cell_type": "markdown",
   "id": "b66285ec",
   "metadata": {},
   "source": [
    "- 현재 AI는 105개의 데이터로 공부한 모델임.\n",
    "- Training과 Test를 통해서 정확도가 입증 되었다면 전체 Dataset으로 AI를 구성하여 사용"
   ]
  },
  {
   "cell_type": "code",
   "execution_count": 13,
   "id": "9a825a43",
   "metadata": {},
   "outputs": [
    {
     "name": "stdout",
     "output_type": "stream",
     "text": [
      "# weights:  27\n",
      "initial  value 180.656304 \n",
      "iter  10 value 58.982459\n",
      "iter  20 value 7.654091\n",
      "iter  30 value 5.476439\n",
      "iter  40 value 4.943576\n",
      "iter  50 value 4.922347\n",
      "iter  60 value 4.921965\n",
      "final  value 4.921959 \n",
      "converged\n"
     ]
    }
   ],
   "source": [
    "# 사용가능하다고 판단되면 모든 데이터를 기준으로 학습\n",
    "model.nnet <- nnet(Species ~., data=iris, size=3)"
   ]
  },
  {
   "cell_type": "code",
   "execution_count": 14,
   "id": "1b973116",
   "metadata": {},
   "outputs": [
    {
     "data": {
      "text/html": [
       "'setosa'"
      ],
      "text/latex": [
       "'setosa'"
      ],
      "text/markdown": [
       "'setosa'"
      ],
      "text/plain": [
       "[1] \"setosa\""
      ]
     },
     "metadata": {},
     "output_type": "display_data"
    }
   ],
   "source": [
    "df =data.frame(Sepal.Length = 5.3, Sepal.Width = 3.3, Petal.Length = 1.6, Petal.Width = 0.3)\n",
    "predict(model.nnet,df,type=\"class\")"
   ]
  },
  {
   "cell_type": "code",
   "execution_count": 15,
   "id": "1cf1344f",
   "metadata": {},
   "outputs": [
    {
     "data": {
      "text/html": [
       "'setosa'"
      ],
      "text/latex": [
       "'setosa'"
      ],
      "text/markdown": [
       "'setosa'"
      ],
      "text/plain": [
       "[1] \"setosa\""
      ]
     },
     "metadata": {},
     "output_type": "display_data"
    }
   ],
   "source": [
    "# list로 해도 된다.\n",
    "df =list(Sepal.Length = 5.3,Sepal.Width = 3.3, Petal.Length = 1.6, Petal.Width = 0.3)\n",
    "predict(model.nnet,df,type=\"class\")"
   ]
  },
  {
   "cell_type": "code",
   "execution_count": 16,
   "id": "c074e05d",
   "metadata": {},
   "outputs": [],
   "source": [
    "# Sepal.Length = 9.3\n",
    "# Sepal.Width = 2.2\n",
    "# Petal.Length = 7.5\n",
    "# Petal.Width = 3.5\n",
    "# 대한 품종은?"
   ]
  },
  {
   "cell_type": "code",
   "execution_count": 29,
   "id": "655c88ed",
   "metadata": {},
   "outputs": [
    {
     "data": {
      "text/plain": [
       "  Sepal.Length    Sepal.Width     Petal.Length    Petal.Width   \n",
       " Min.   :4.300   Min.   :2.000   Min.   :1.000   Min.   :0.100  \n",
       " 1st Qu.:5.100   1st Qu.:2.800   1st Qu.:1.600   1st Qu.:0.300  \n",
       " Median :5.800   Median :3.000   Median :4.350   Median :1.300  \n",
       " Mean   :5.843   Mean   :3.057   Mean   :3.758   Mean   :1.199  \n",
       " 3rd Qu.:6.400   3rd Qu.:3.300   3rd Qu.:5.100   3rd Qu.:1.800  \n",
       " Max.   :7.900   Max.   :4.400   Max.   :6.900   Max.   :2.500  \n",
       "       Species  \n",
       " setosa    :50  \n",
       " versicolor:50  \n",
       " virginica :50  \n",
       "                \n",
       "                \n",
       "                "
      ]
     },
     "metadata": {},
     "output_type": "display_data"
    }
   ],
   "source": [
    "summary(iris)"
   ]
  },
  {
   "cell_type": "code",
   "execution_count": 33,
   "id": "f0697677",
   "metadata": {
    "scrolled": true
   },
   "outputs": [
    {
     "name": "stdout",
     "output_type": "stream",
     "text": [
      "# weights:  403\n",
      "initial  value 541.232347 \n",
      "iter  10 value 28.106232\n",
      "iter  20 value 7.996882\n",
      "iter  30 value 5.871193\n",
      "iter  40 value 5.233612\n",
      "iter  50 value 2.667509\n",
      "iter  60 value 0.116338\n",
      "iter  70 value 0.000301\n",
      "final  value 0.000073 \n",
      "converged\n"
     ]
    }
   ],
   "source": [
    "model.nnet <- nnet(Species ~., data=iris, size=3)"
   ]
  },
  {
   "cell_type": "code",
   "execution_count": 34,
   "id": "6c88d793",
   "metadata": {},
   "outputs": [
    {
     "data": {
      "text/html": [
       "'virginica'"
      ],
      "text/latex": [
       "'virginica'"
      ],
      "text/markdown": [
       "'virginica'"
      ],
      "text/plain": [
       "[1] \"virginica\""
      ]
     },
     "metadata": {},
     "output_type": "display_data"
    }
   ],
   "source": [
    "df =data.frame(Sepal.Length = 9.3, Sepal.Width = 2.2, Petal.Length = 7.5, Petal.Width = 3.5)\n",
    "predict(model.nnet,df,type=\"class\")"
   ]
  },
  {
   "cell_type": "code",
   "execution_count": 32,
   "id": "7e9c99d7",
   "metadata": {},
   "outputs": [
    {
     "name": "stdout",
     "output_type": "stream",
     "text": [
      "'data.frame':\t150 obs. of  5 variables:\n",
      " $ Sepal.Length: num  5.1 4.9 4.7 4.6 5 5.4 4.6 5 4.4 4.9 ...\n",
      " $ Sepal.Width : num  3.5 3 3.2 3.1 3.6 3.9 3.4 3.4 2.9 3.1 ...\n",
      " $ Petal.Length: num  1.4 1.4 1.3 1.5 1.4 1.7 1.4 1.5 1.4 1.5 ...\n",
      " $ Petal.Width : num  0.2 0.2 0.2 0.2 0.2 0.4 0.3 0.2 0.2 0.1 ...\n",
      " $ Species     : Factor w/ 3 levels \"setosa\",\"versicolor\",..: 1 1 1 1 1 1 1 1 1 1 ...\n"
     ]
    }
   ],
   "source": [
    "str(iris)"
   ]
  },
  {
   "cell_type": "code",
   "execution_count": null,
   "id": "d740a7fa",
   "metadata": {},
   "outputs": [],
   "source": []
  },
  {
   "cell_type": "code",
   "execution_count": null,
   "id": "ea94d713",
   "metadata": {},
   "outputs": [],
   "source": []
  }
 ],
 "metadata": {
  "kernelspec": {
   "display_name": "R",
   "language": "R",
   "name": "ir"
  },
  "language_info": {
   "codemirror_mode": "r",
   "file_extension": ".r",
   "mimetype": "text/x-r-source",
   "name": "R",
   "pygments_lexer": "r",
   "version": "3.6.1"
  }
 },
 "nbformat": 4,
 "nbformat_minor": 5
}

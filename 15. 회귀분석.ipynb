{
 "cells": [
  {
   "cell_type": "markdown",
   "id": "c5fac663",
   "metadata": {},
   "source": [
    "y = ax + b\n",
    "1. 선형 : x,y 규칙적으로 생긴 선\n",
    "2. 비선형 : 그래프의 굴곡이 있는것이며 선에 하나생기면 미분이다.\n",
    "3. Machine Learning 그래프 종류\n",
    " - NN : 최근점 이웃\n",
    " - Tree 3조 :\n",
    " - 인공신경망(선형) : "
   ]
  },
  {
   "cell_type": "markdown",
   "id": "75fbbe54",
   "metadata": {},
   "source": [
    "4. Y(Target) = aX(Feature) + b\n",
    " - y,x를 반복문으로 사용하여 값을 에측한다.\n",
    " - 정답이 아닌 예측값이다.\n",
    " - Feature는 여러가지 데이터 타입이 될 수 있다. ex)문자열,숫자 등.."
   ]
  },
  {
   "cell_type": "markdown",
   "id": "332ac765",
   "metadata": {},
   "source": [
    "# 회귀분석(Regression)\n",
    "- 데이터를 이용하여 함수식 (Y=aX+b)를 구한다.\n",
    "- 기울기(DL:Weight) 와 절편(DL:Bias)을 DataSet으로 최적값을 구한다. (정답과 오차율 차이가 제일 적은것으로 선택 --> 인공신경망으로 발전)\n",
    "- 기울기와 절편으로 Y값을 예측할 수 있다.\n"
   ]
  },
  {
   "cell_type": "markdown",
   "id": "76982546",
   "metadata": {},
   "source": [
    "### 단순회귀 분석 : Y=aX+b"
   ]
  },
  {
   "cell_type": "code",
   "execution_count": 1,
   "id": "0cc15a89",
   "metadata": {},
   "outputs": [
    {
     "data": {
      "text/html": [
       "<table>\n",
       "<thead><tr><th scope=col>癤풹ge</th><th scope=col>Height</th><th scope=col>Weight</th></tr></thead>\n",
       "<tbody>\n",
       "\t<tr><td>0~3Months  </td><td>59.1       </td><td> 5.9       </td></tr>\n",
       "\t<tr><td>3~6Months  </td><td>66.7       </td><td> 8.0       </td></tr>\n",
       "\t<tr><td>6~9Months  </td><td>71.4       </td><td> 8.9       </td></tr>\n",
       "\t<tr><td>9~12Months </td><td>75.0       </td><td>10.1       </td></tr>\n",
       "\t<tr><td>12~18Months</td><td>80.1       </td><td>10.9       </td></tr>\n",
       "\t<tr><td>2Year      </td><td>87.8       </td><td>13.2       </td></tr>\n",
       "</tbody>\n",
       "</table>\n"
      ],
      "text/latex": [
       "\\begin{tabular}{r|lll}\n",
       " 癤풹ge & Height & Weight\\\\\n",
       "\\hline\n",
       "\t 0\\textasciitilde{}3Months   & 59.1                         &  5.9                        \\\\\n",
       "\t 3\\textasciitilde{}6Months   & 66.7                         &  8.0                        \\\\\n",
       "\t 6\\textasciitilde{}9Months   & 71.4                         &  8.9                        \\\\\n",
       "\t 9\\textasciitilde{}12Months  & 75.0                         & 10.1                        \\\\\n",
       "\t 12\\textasciitilde{}18Months & 80.1                         & 10.9                        \\\\\n",
       "\t 2Year       & 87.8        & 13.2       \\\\\n",
       "\\end{tabular}\n"
      ],
      "text/markdown": [
       "\n",
       "| 癤풹ge | Height | Weight |\n",
       "|---|---|---|\n",
       "| 0~3Months   | 59.1        |  5.9        |\n",
       "| 3~6Months   | 66.7        |  8.0        |\n",
       "| 6~9Months   | 71.4        |  8.9        |\n",
       "| 9~12Months  | 75.0        | 10.1        |\n",
       "| 12~18Months | 80.1        | 10.9        |\n",
       "| 2Year       | 87.8        | 13.2        |\n",
       "\n"
      ],
      "text/plain": [
       "  癤풹ge      Height Weight\n",
       "1 0~3Months   59.1    5.9  \n",
       "2 3~6Months   66.7    8.0  \n",
       "3 6~9Months   71.4    8.9  \n",
       "4 9~12Months  75.0   10.1  \n",
       "5 12~18Months 80.1   10.9  \n",
       "6 2Year       87.8   13.2  "
      ]
     },
     "metadata": {},
     "output_type": "display_data"
    },
    {
     "data": {
      "text/html": [
       "<table>\n",
       "<thead><tr><th></th><th scope=col>癤풹ge</th><th scope=col>Height</th><th scope=col>Weight</th></tr></thead>\n",
       "<tbody>\n",
       "\t<tr><th scope=row>26</th><td>30~34Year </td><td>171.3     </td><td>71.5      </td></tr>\n",
       "\t<tr><th scope=row>27</th><td>35~39Year </td><td>170.7     </td><td>72.3      </td></tr>\n",
       "\t<tr><th scope=row>28</th><td>40~49Year </td><td>168.6     </td><td>70.6      </td></tr>\n",
       "\t<tr><th scope=row>29</th><td>50~59Year </td><td>166.1     </td><td>69.1      </td></tr>\n",
       "\t<tr><th scope=row>30</th><td>60~69Year </td><td>164.4     </td><td>65.9      </td></tr>\n",
       "\t<tr><th scope=row>31</th><td>70YearOver</td><td>162.4     </td><td>61.1      </td></tr>\n",
       "</tbody>\n",
       "</table>\n"
      ],
      "text/latex": [
       "\\begin{tabular}{r|lll}\n",
       "  & 癤풹ge & Height & Weight\\\\\n",
       "\\hline\n",
       "\t26 & 30\\textasciitilde{}34Year  & 171.3                       & 71.5                       \\\\\n",
       "\t27 & 35\\textasciitilde{}39Year  & 170.7                       & 72.3                       \\\\\n",
       "\t28 & 40\\textasciitilde{}49Year  & 168.6                       & 70.6                       \\\\\n",
       "\t29 & 50\\textasciitilde{}59Year  & 166.1                       & 69.1                       \\\\\n",
       "\t30 & 60\\textasciitilde{}69Year  & 164.4                       & 65.9                       \\\\\n",
       "\t31 & 70YearOver & 162.4      & 61.1      \\\\\n",
       "\\end{tabular}\n"
      ],
      "text/markdown": [
       "\n",
       "| <!--/--> | 癤풹ge | Height | Weight |\n",
       "|---|---|---|---|\n",
       "| 26 | 30~34Year  | 171.3      | 71.5       |\n",
       "| 27 | 35~39Year  | 170.7      | 72.3       |\n",
       "| 28 | 40~49Year  | 168.6      | 70.6       |\n",
       "| 29 | 50~59Year  | 166.1      | 69.1       |\n",
       "| 30 | 60~69Year  | 164.4      | 65.9       |\n",
       "| 31 | 70YearOver | 162.4      | 61.1       |\n",
       "\n"
      ],
      "text/plain": [
       "   癤풹ge     Height Weight\n",
       "26 30~34Year  171.3  71.5  \n",
       "27 35~39Year  170.7  72.3  \n",
       "28 40~49Year  168.6  70.6  \n",
       "29 50~59Year  166.1  69.1  \n",
       "30 60~69Year  164.4  65.9  \n",
       "31 70YearOver 162.4  61.1  "
      ]
     },
     "metadata": {},
     "output_type": "display_data"
    }
   ],
   "source": [
    "regression <- read.csv(\"../Data/regression.csv\")\n",
    "head(regression)\n",
    "tail(regression)"
   ]
  },
  {
   "cell_type": "code",
   "execution_count": 2,
   "id": "3e369422",
   "metadata": {},
   "outputs": [
    {
     "name": "stdout",
     "output_type": "stream",
     "text": [
      "'data.frame':\t31 obs. of  3 variables:\n",
      " $ 癤풹ge: Factor w/ 31 levels \"0~3Months\",\"10Year\",..: 1 16 24 30 4 15 19 21 23 26 ...\n",
      " $ Height: num  59.1 66.7 71.4 75 80.1 ...\n",
      " $ Weight: num  5.9 8 8.9 10.1 10.9 13.2 14.8 16.7 19.1 21.5 ...\n"
     ]
    }
   ],
   "source": [
    "str(regression)"
   ]
  },
  {
   "cell_type": "code",
   "execution_count": 3,
   "id": "8664bd11",
   "metadata": {},
   "outputs": [
    {
     "data": {
      "text/plain": [
       "         癤풹ge       Height          Weight     \n",
       " 0~3Months  : 1   Min.   : 59.1   Min.   : 5.90  \n",
       " 10Year     : 1   1st Qu.:105.7   1st Qu.:17.90  \n",
       " 11Year     : 1   Median :150.7   Median :45.20  \n",
       " 12~18Months: 1   Mean   :135.8   Mean   :42.62  \n",
       " 12Year     : 1   3rd Qu.:169.8   3rd Qu.:66.65  \n",
       " 13Year     : 1   Max.   :173.8   Max.   :72.30  \n",
       " (Other)    :25                                  "
      ]
     },
     "metadata": {},
     "output_type": "display_data"
    }
   ],
   "source": [
    "# 기본 통계량 확인\n",
    "summary(regression)"
   ]
  },
  {
   "cell_type": "code",
   "execution_count": 4,
   "id": "85e941d0",
   "metadata": {
    "scrolled": true
   },
   "outputs": [
    {
     "data": {
      "image/png": "[encoded data removed]",
      "text/plain": [
       "Plot with title \"Histogram of regression$Height\""
      ]
     },
     "metadata": {},
     "output_type": "display_data"
    }
   ],
   "source": [
    "hist(regression$Height)"
   ]
  },
  {
   "cell_type": "code",
   "execution_count": 5,
   "id": "c0bc8c66",
   "metadata": {
    "scrolled": true
   },
   "outputs": [
    {
     "data": {
      "image/png": "[encoded data removed]",
      "text/plain": [
       "Plot with title \"Histogram of regression$Weight\""
      ]
     },
     "metadata": {},
     "output_type": "display_data"
    }
   ],
   "source": [
    "hist(regression$Weight)"
   ]
  },
  {
   "cell_type": "code",
   "execution_count": 6,
   "id": "9f2e55e3",
   "metadata": {},
   "outputs": [
    {
     "data": {
      "text/html": [
       "0.967210305922711"
      ],
      "text/latex": [
       "0.967210305922711"
      ],
      "text/markdown": [
       "0.967210305922711"
      ],
      "text/plain": [
       "[1] 0.9672103"
      ]
     },
     "metadata": {},
     "output_type": "display_data"
    }
   ],
   "source": [
    "cor(regression$Height, regression$Weight)"
   ]
  },
  {
   "cell_type": "code",
   "execution_count": 7,
   "id": "6647cb1b",
   "metadata": {},
   "outputs": [
    {
     "data": {
      "image/png": "[encoded data removed]",
      "text/plain": [
       "plot without title"
      ]
     },
     "metadata": {},
     "output_type": "display_data"
    }
   ],
   "source": [
    "boxplot(regression$Height, regression$Weight)"
   ]
  },
  {
   "cell_type": "code",
   "execution_count": 8,
   "id": "f7bf2468",
   "metadata": {},
   "outputs": [
    {
     "data": {
      "image/png": "[encoded data removed]",
      "text/plain": [
       "plot without title"
      ]
     },
     "metadata": {},
     "output_type": "display_data"
    }
   ],
   "source": [
    "plot(regression$Height, regression$Weight) "
   ]
  },
  {
   "cell_type": "code",
   "execution_count": 9,
   "id": "b1cf06d3",
   "metadata": {},
   "outputs": [
    {
     "data": {
      "image/png": "[encoded data removed]",
      "text/plain": [
       "plot without title"
      ]
     },
     "metadata": {},
     "output_type": "display_data"
    }
   ],
   "source": [
    "plot(regression$Weight ~ regression$Height) \n",
    "\n",
    "# 회귀선 (중심선, 평균선)\n",
    "r<-lm(regression$Weight ~ regression$Height) # 이 식으로 통해 a,b값을 찾았다.\n",
    "abline(r,col=\"red\") #아래 선으로 통해 키와 몸무게를 예측할 수 있다."
   ]
  },
  {
   "cell_type": "code",
   "execution_count": 10,
   "id": "27eb8e6f",
   "metadata": {},
   "outputs": [
    {
     "data": {
      "text/plain": [
       "\n",
       "Call:\n",
       "lm(formula = regression$Weight ~ regression$Height)\n",
       "\n",
       "Residuals:\n",
       "    Min      1Q  Median      3Q     Max \n",
       "-9.2327 -5.9811  0.0915  5.3125 10.4346 \n",
       "\n",
       "Coefficients:\n",
       "                   Estimate Std. Error t value Pr(>|t|)    \n",
       "(Intercept)       -40.86594    4.22768  -9.666 1.42e-10 ***\n",
       "regression$Height   0.61474    0.02998  20.508  < 2e-16 ***\n",
       "---\n",
       "Signif. codes:  0 '***' 0.001 '**' 0.01 '*' 0.05 '.' 0.1 ' ' 1\n",
       "\n",
       "Residual standard error: 6.355 on 29 degrees of freedom\n",
       "Multiple R-squared:  0.9355,\tAdjusted R-squared:  0.9333 \n",
       "F-statistic: 420.6 on 1 and 29 DF,  p-value: < 2.2e-16\n"
      ]
     },
     "metadata": {},
     "output_type": "display_data"
    }
   ],
   "source": [
    "# 분석결과 \n",
    "\n",
    "summary(r)   #defult"
   ]
  },
  {
   "cell_type": "markdown",
   "id": "8840616e",
   "metadata": {},
   "source": [
    "- p-value: < 2.2e-16 < 0.05 \n",
    "- Adjusted R-squared:  0.9333 <-- 예측력 0.9333%의 정확도가 있다.\n",
    "- Residual standard error: 6.355 <-- 표준오차 "
   ]
  },
  {
   "cell_type": "markdown",
   "id": "5e4b16c8",
   "metadata": {},
   "source": [
    "- Y=aX+b \n",
    "\n",
    "b의 값이 (Intercept)       -40.86594    4.22768  -9.666 1.42e-10 ***  이다. <br>\n",
    "자유도 : Residual standard error: 6.355 on 29 degrees of freedom  <br>"
   ]
  },
  {
   "cell_type": "code",
   "execution_count": 11,
   "id": "6fd31473",
   "metadata": {},
   "outputs": [
    {
     "data": {
      "text/plain": [
       "\n",
       "Call:\n",
       "lm(formula = regression$Weight ~ regression$Height)\n",
       "\n",
       "Coefficients:\n",
       "      (Intercept)  regression$Height  \n",
       "         -40.8659             0.6147  \n"
      ]
     },
     "metadata": {},
     "output_type": "display_data"
    }
   ],
   "source": [
    "# 회귀식\n",
    "r"
   ]
  },
  {
   "cell_type": "code",
   "execution_count": 12,
   "id": "f7e46586",
   "metadata": {},
   "outputs": [
    {
     "data": {
      "text/html": [
       "63.6331"
      ],
      "text/latex": [
       "63.6331"
      ],
      "text/markdown": [
       "63.6331"
      ],
      "text/plain": [
       "[1] 63.6331"
      ]
     },
     "metadata": {},
     "output_type": "display_data"
    },
    {
     "name": "stdout",
     "output_type": "stream",
     "text": [
      "57.2781 ~ 69.9881"
     ]
    }
   ],
   "source": [
    "# 키가 170인 사람의 몸무게\n",
    "0.6147 * 170 + (-40.8659) #이렇게 쓰면 안됨 표준오차 적용해야한다.\n",
    "\n",
    "#표준 오차를 적용한 키가 170인 사람의 몸무게\n",
    "cat(0.6147 * 170 + (-40.8659)-6.355,\"~\",0.6147 * 170 + (-40.8659)+6.355)"
   ]
  },
  {
   "cell_type": "markdown",
   "id": "bdf2a7e8",
   "metadata": {},
   "source": [
    "---\n",
    "# IQ"
   ]
  },
  {
   "cell_type": "code",
   "execution_count": 21,
   "id": "2f08a2ed",
   "metadata": {},
   "outputs": [
    {
     "data": {
      "text/html": [
       "<table>\n",
       "<thead><tr><th scope=col>이름</th><th scope=col>성적</th><th scope=col>IQ</th><th scope=col>다니는.학원수</th><th scope=col>게임하는.시간</th><th scope=col>TV시청.시간</th></tr></thead>\n",
       "<tbody>\n",
       "\t<tr><td>A  </td><td>90 </td><td>140</td><td>2  </td><td>1  </td><td>0  </td></tr>\n",
       "\t<tr><td>B  </td><td>75 </td><td>125</td><td>1  </td><td>3  </td><td>3  </td></tr>\n",
       "\t<tr><td>C  </td><td>77 </td><td>120</td><td>1  </td><td>0  </td><td>4  </td></tr>\n",
       "\t<tr><td>D  </td><td>83 </td><td>135</td><td>2  </td><td>3  </td><td>2  </td></tr>\n",
       "\t<tr><td>E  </td><td>65 </td><td>105</td><td>0  </td><td>4  </td><td>4  </td></tr>\n",
       "\t<tr><td>F  </td><td>80 </td><td>123</td><td>3  </td><td>1  </td><td>1  </td></tr>\n",
       "</tbody>\n",
       "</table>\n"
      ],
      "text/latex": [
       "\\begin{tabular}{r|llllll}\n",
       " 이름 & 성적 & IQ & 다니는.학원수 & 게임하는.시간 & TV시청.시간\\\\\n",
       "\\hline\n",
       "\t A   & 90  & 140 & 2   & 1   & 0  \\\\\n",
       "\t B   & 75  & 125 & 1   & 3   & 3  \\\\\n",
       "\t C   & 77  & 120 & 1   & 0   & 4  \\\\\n",
       "\t D   & 83  & 135 & 2   & 3   & 2  \\\\\n",
       "\t E   & 65  & 105 & 0   & 4   & 4  \\\\\n",
       "\t F   & 80  & 123 & 3   & 1   & 1  \\\\\n",
       "\\end{tabular}\n"
      ],
      "text/markdown": [
       "\n",
       "| 이름 | 성적 | IQ | 다니는.학원수 | 게임하는.시간 | TV시청.시간 |\n",
       "|---|---|---|---|---|---|\n",
       "| A   | 90  | 140 | 2   | 1   | 0   |\n",
       "| B   | 75  | 125 | 1   | 3   | 3   |\n",
       "| C   | 77  | 120 | 1   | 0   | 4   |\n",
       "| D   | 83  | 135 | 2   | 3   | 2   |\n",
       "| E   | 65  | 105 | 0   | 4   | 4   |\n",
       "| F   | 80  | 123 | 3   | 1   | 1   |\n",
       "\n"
      ],
      "text/plain": [
       "  이름 성적 IQ  다니는.학원수 게임하는.시간 TV시청.시간\n",
       "1 A    90   140 2             1             0          \n",
       "2 B    75   125 1             3             3          \n",
       "3 C    77   120 1             0             4          \n",
       "4 D    83   135 2             3             2          \n",
       "5 E    65   105 0             4             4          \n",
       "6 F    80   123 3             1             1          "
      ]
     },
     "metadata": {},
     "output_type": "display_data"
    },
    {
     "data": {
      "text/html": [
       "<table>\n",
       "<thead><tr><th></th><th scope=col>이름</th><th scope=col>성적</th><th scope=col>IQ</th><th scope=col>다니는.학원수</th><th scope=col>게임하는.시간</th><th scope=col>TV시청.시간</th></tr></thead>\n",
       "<tbody>\n",
       "\t<tr><th scope=row>5</th><td>E  </td><td>65 </td><td>105</td><td>0  </td><td>4  </td><td>4  </td></tr>\n",
       "\t<tr><th scope=row>6</th><td>F  </td><td>80 </td><td>123</td><td>3  </td><td>1  </td><td>1  </td></tr>\n",
       "\t<tr><th scope=row>7</th><td>G  </td><td>83 </td><td>132</td><td>3  </td><td>4  </td><td>1  </td></tr>\n",
       "\t<tr><th scope=row>8</th><td>H  </td><td>70 </td><td>115</td><td>1  </td><td>1  </td><td>3  </td></tr>\n",
       "\t<tr><th scope=row>9</th><td>I  </td><td>87 </td><td>128</td><td>4  </td><td>0  </td><td>0  </td></tr>\n",
       "\t<tr><th scope=row>10</th><td>J  </td><td>79 </td><td>131</td><td>2  </td><td>2  </td><td>3  </td></tr>\n",
       "</tbody>\n",
       "</table>\n"
      ],
      "text/latex": [
       "\\begin{tabular}{r|llllll}\n",
       "  & 이름 & 성적 & IQ & 다니는.학원수 & 게임하는.시간 & TV시청.시간\\\\\n",
       "\\hline\n",
       "\t5 & E   & 65  & 105 & 0   & 4   & 4  \\\\\n",
       "\t6 & F   & 80  & 123 & 3   & 1   & 1  \\\\\n",
       "\t7 & G   & 83  & 132 & 3   & 4   & 1  \\\\\n",
       "\t8 & H   & 70  & 115 & 1   & 1   & 3  \\\\\n",
       "\t9 & I   & 87  & 128 & 4   & 0   & 0  \\\\\n",
       "\t10 & J   & 79  & 131 & 2   & 2   & 3  \\\\\n",
       "\\end{tabular}\n"
      ],
      "text/markdown": [
       "\n",
       "| <!--/--> | 이름 | 성적 | IQ | 다니는.학원수 | 게임하는.시간 | TV시청.시간 |\n",
       "|---|---|---|---|---|---|---|\n",
       "| 5 | E   | 65  | 105 | 0   | 4   | 4   |\n",
       "| 6 | F   | 80  | 123 | 3   | 1   | 1   |\n",
       "| 7 | G   | 83  | 132 | 3   | 4   | 1   |\n",
       "| 8 | H   | 70  | 115 | 1   | 1   | 3   |\n",
       "| 9 | I   | 87  | 128 | 4   | 0   | 0   |\n",
       "| 10 | J   | 79  | 131 | 2   | 2   | 3   |\n",
       "\n"
      ],
      "text/plain": [
       "   이름 성적 IQ  다니는.학원수 게임하는.시간 TV시청.시간\n",
       "5  E    65   105 0             4             4          \n",
       "6  F    80   123 3             1             1          \n",
       "7  G    83   132 3             4             1          \n",
       "8  H    70   115 1             1             3          \n",
       "9  I    87   128 4             0             0          \n",
       "10 J    79   131 2             2             3          "
      ]
     },
     "metadata": {},
     "output_type": "display_data"
    }
   ],
   "source": [
    "iq <- read.csv(\"../Data/IQ.csv\", fileEncoding=\"utf-8\")\n",
    "head(iq)\n",
    "tail(iq)\n"
   ]
  },
  {
   "cell_type": "code",
   "execution_count": 14,
   "id": "12ceebb9",
   "metadata": {},
   "outputs": [],
   "source": [
    "# IQ가 126인 사람의 성적을 예측해 보시오."
   ]
  },
  {
   "cell_type": "code",
   "execution_count": 22,
   "id": "001b6eef",
   "metadata": {},
   "outputs": [
    {
     "name": "stdout",
     "output_type": "stream",
     "text": [
      "'data.frame':\t10 obs. of  6 variables:\n",
      " $ 이름         : Factor w/ 10 levels \"A\",\"B\",\"C\",\"D\",..: 1 2 3 4 5 6 7 8 9 10\n",
      " $ 성적         : int  90 75 77 83 65 80 83 70 87 79\n",
      " $ IQ           : int  140 125 120 135 105 123 132 115 128 131\n",
      " $ 다니는.학원수: int  2 1 1 2 0 3 3 1 4 2\n",
      " $ 게임하는.시간: int  1 3 0 3 4 1 4 1 0 2\n",
      " $ TV시청.시간  : int  0 3 4 2 4 1 1 3 0 3\n"
     ]
    }
   ],
   "source": [
    "str(iq)"
   ]
  },
  {
   "cell_type": "code",
   "execution_count": 23,
   "id": "faa51a91",
   "metadata": {},
   "outputs": [
    {
     "data": {
      "text/plain": [
       "      이름        성적            IQ        다니는.학원수  게임하는.시간\n",
       " A      :1   Min.   :65.0   Min.   :105.0   Min.   :0.00   Min.   :0.0  \n",
       " B      :1   1st Qu.:75.5   1st Qu.:120.8   1st Qu.:1.00   1st Qu.:1.0  \n",
       " C      :1   Median :79.5   Median :126.5   Median :2.00   Median :1.5  \n",
       " D      :1   Mean   :78.9   Mean   :125.4   Mean   :1.90   Mean   :1.9  \n",
       " E      :1   3rd Qu.:83.0   3rd Qu.:131.8   3rd Qu.:2.75   3rd Qu.:3.0  \n",
       " F      :1   Max.   :90.0   Max.   :140.0   Max.   :4.00   Max.   :4.0  \n",
       " (Other):4                                                              \n",
       "  TV시청.시간 \n",
       " Min.   :0.0  \n",
       " 1st Qu.:1.0  \n",
       " Median :2.5  \n",
       " Mean   :2.1  \n",
       " 3rd Qu.:3.0  \n",
       " Max.   :4.0  \n",
       "              "
      ]
     },
     "metadata": {},
     "output_type": "display_data"
    }
   ],
   "source": [
    "summary(iq)"
   ]
  },
  {
   "cell_type": "code",
   "execution_count": 24,
   "id": "b4528e65",
   "metadata": {},
   "outputs": [
    {
     "data": {
      "image/png": "[encoded data removed]",
      "text/plain": [
       "plot without title"
      ]
     },
     "metadata": {},
     "output_type": "display_data"
    }
   ],
   "source": [
    "options(warn = -1)\n",
    "#par(family=\"AppleGothic\")\n",
    "plot(iq$IQ,iq$성적)\n",
    "i<-lm(iq$성적~iq$IQ)\n",
    "abline(i,col=\"blue\")"
   ]
  },
  {
   "cell_type": "code",
   "execution_count": 25,
   "id": "5f3aa5a3",
   "metadata": {},
   "outputs": [
    {
     "data": {
      "text/plain": [
       "\n",
       "Call:\n",
       "lm(formula = iq$성적 ~ iq$IQ)\n",
       "\n",
       "Residuals:\n",
       "    Min      1Q  Median      3Q     Max \n",
       "-3.6598 -2.2384 -0.2674  1.6186  6.3544 \n",
       "\n",
       "Coefficients:\n",
       "            Estimate Std. Error t value Pr(>|t|)    \n",
       "(Intercept)  -5.2918    13.5832  -0.390 0.707007    \n",
       "iq$IQ         0.6714     0.1080   6.217 0.000255 ***\n",
       "---\n",
       "Signif. codes:  0 '***' 0.001 '**' 0.01 '*' 0.05 '.' 0.1 ' ' 1\n",
       "\n",
       "Residual standard error: 3.322 on 8 degrees of freedom\n",
       "Multiple R-squared:  0.8285,\tAdjusted R-squared:  0.8071 \n",
       "F-statistic: 38.65 on 1 and 8 DF,  p-value: 0.0002547\n"
      ]
     },
     "metadata": {},
     "output_type": "display_data"
    }
   ],
   "source": [
    "summary(i)"
   ]
  },
  {
   "cell_type": "markdown",
   "id": "0802b7c0",
   "metadata": {},
   "source": [
    "- p-value: 0.0002547 < 0.05 대립가설 x\n",
    "- Adjusted R-squared:  0.8071\n",
    "- Residual standard error: 3.322 on 8 degrees of freedom"
   ]
  },
  {
   "cell_type": "code",
   "execution_count": 26,
   "id": "0854093d",
   "metadata": {},
   "outputs": [
    {
     "data": {
      "text/plain": [
       "\n",
       "Call:\n",
       "lm(formula = iq$성적 ~ iq$IQ)\n",
       "\n",
       "Coefficients:\n",
       "(Intercept)        iq$IQ  \n",
       "    -5.2918       0.6714  \n"
      ]
     },
     "metadata": {},
     "output_type": "display_data"
    }
   ],
   "source": [
    "i"
   ]
  },
  {
   "cell_type": "code",
   "execution_count": 27,
   "id": "9785477b",
   "metadata": {},
   "outputs": [
    {
     "data": {
      "text/html": [
       "79.3046"
      ],
      "text/latex": [
       "79.3046"
      ],
      "text/markdown": [
       "79.3046"
      ],
      "text/plain": [
       "[1] 79.3046"
      ]
     },
     "metadata": {},
     "output_type": "display_data"
    }
   ],
   "source": [
    " 0.6714  * 126 + (-5.2918)  "
   ]
  },
  {
   "cell_type": "code",
   "execution_count": 28,
   "id": "5cd176f5",
   "metadata": {},
   "outputs": [
    {
     "name": "stdout",
     "output_type": "stream",
     "text": [
      "81.2744 ~ 87.9184"
     ]
    }
   ],
   "source": [
    "cat( 0.6714  * 126 -3.322,\"~\",0.6714  * 126  +3.322)"
   ]
  },
  {
   "cell_type": "code",
   "execution_count": 29,
   "id": "c83ad37a",
   "metadata": {},
   "outputs": [
    {
     "data": {
      "text/html": [
       "<table>\n",
       "<thead><tr><th></th><th scope=col>성적</th><th scope=col>IQ</th><th scope=col>다니는.학원수</th><th scope=col>게임하는.시간</th><th scope=col>TV시청.시간</th></tr></thead>\n",
       "<tbody>\n",
       "\t<tr><th scope=row>성적</th><td> 1.0000000</td><td> 0.9102242</td><td> 0.7840514</td><td>-0.3383549</td><td>-0.8473333</td></tr>\n",
       "\t<tr><th scope=row>IQ</th><td> 0.9102242</td><td> 1.0000000</td><td> 0.6009466</td><td>-0.1038108</td><td>-0.6783251</td></tr>\n",
       "\t<tr><th scope=row>다니는.학원수</th><td> 0.7840514</td><td> 0.6009466</td><td> 1.0000000</td><td>-0.3106005</td><td>-0.8465387</td></tr>\n",
       "\t<tr><th scope=row>게임하는.시간</th><td>-0.3383549</td><td>-0.1038108</td><td>-0.3106005</td><td> 1.0000000</td><td> 0.2440191</td></tr>\n",
       "\t<tr><th scope=row>TV시청.시간</th><td>-0.8473333</td><td>-0.6783251</td><td>-0.8465387</td><td> 0.2440191</td><td> 1.0000000</td></tr>\n",
       "</tbody>\n",
       "</table>\n"
      ],
      "text/latex": [
       "\\begin{tabular}{r|lllll}\n",
       "  & 성적 & IQ & 다니는.학원수 & 게임하는.시간 & TV시청.시간\\\\\n",
       "\\hline\n",
       "\t성적 &  1.0000000 &  0.9102242 &  0.7840514 & -0.3383549 & -0.8473333\\\\\n",
       "\tIQ &  0.9102242 &  1.0000000 &  0.6009466 & -0.1038108 & -0.6783251\\\\\n",
       "\t다니는.학원수 &  0.7840514 &  0.6009466 &  1.0000000 & -0.3106005 & -0.8465387\\\\\n",
       "\t게임하는.시간 & -0.3383549 & -0.1038108 & -0.3106005 &  1.0000000 &  0.2440191\\\\\n",
       "\tTV시청.시간 & -0.8473333 & -0.6783251 & -0.8465387 &  0.2440191 &  1.0000000\\\\\n",
       "\\end{tabular}\n"
      ],
      "text/markdown": [
       "\n",
       "| <!--/--> | 성적 | IQ | 다니는.학원수 | 게임하는.시간 | TV시청.시간 |\n",
       "|---|---|---|---|---|---|\n",
       "| 성적 |  1.0000000 |  0.9102242 |  0.7840514 | -0.3383549 | -0.8473333 |\n",
       "| IQ |  0.9102242 |  1.0000000 |  0.6009466 | -0.1038108 | -0.6783251 |\n",
       "| 다니는.학원수 |  0.7840514 |  0.6009466 |  1.0000000 | -0.3106005 | -0.8465387 |\n",
       "| 게임하는.시간 | -0.3383549 | -0.1038108 | -0.3106005 |  1.0000000 |  0.2440191 |\n",
       "| TV시청.시간 | -0.8473333 | -0.6783251 | -0.8465387 |  0.2440191 |  1.0000000 |\n",
       "\n"
      ],
      "text/plain": [
       "              성적       IQ         다니는.학원수 게임하는.시간 TV시청.시간\n",
       "성적           1.0000000  0.9102242  0.7840514    -0.3383549    -0.8473333 \n",
       "IQ             0.9102242  1.0000000  0.6009466    -0.1038108    -0.6783251 \n",
       "다니는.학원수  0.7840514  0.6009466  1.0000000    -0.3106005    -0.8465387 \n",
       "게임하는.시간 -0.3383549 -0.1038108 -0.3106005     1.0000000     0.2440191 \n",
       "TV시청.시간   -0.8473333 -0.6783251 -0.8465387     0.2440191     1.0000000 "
      ]
     },
     "metadata": {},
     "output_type": "display_data"
    }
   ],
   "source": [
    "# 성적과 가장 관련이 깊은 항목은?\n",
    "cor(iq[,-1])"
   ]
  },
  {
   "cell_type": "code",
   "execution_count": 30,
   "id": "a124059b",
   "metadata": {},
   "outputs": [
    {
     "data": {
      "image/png": "[encoded data removed]",
      "text/plain": [
       "plot without title"
      ]
     },
     "metadata": {},
     "output_type": "display_data"
    }
   ],
   "source": [
    "# 학원을 몇군데 다녀야 성적이 90점 이상이 될까?    y= 학원수, x = 성적\n",
    "options(warn = -1)\n",
    "par(family=\"AppleGothic\")\n",
    "plot(iq$다니는.학원수,iq$성적)\n",
    "a<-lm(iq$다니는.학원수~iq$성적)\n"
   ]
  },
  {
   "cell_type": "code",
   "execution_count": 31,
   "id": "e870f29f",
   "metadata": {},
   "outputs": [
    {
     "data": {
      "text/plain": [
       "\n",
       "Call:\n",
       "lm(formula = iq$다니는.학원수 ~ iq$성적)\n",
       "\n",
       "Residuals:\n",
       "    Min      1Q  Median      3Q     Max \n",
       "-1.2775 -0.4142 -0.0437  0.4945  1.0948 \n",
       "\n",
       "Coefficients:\n",
       "            Estimate Std. Error t value Pr(>|t|)   \n",
       "(Intercept) -7.89163    2.75190  -2.868  0.02090 * \n",
       "iq$성적      0.12410    0.03473   3.573  0.00726 **\n",
       "---\n",
       "Signif. codes:  0 '***' 0.001 '**' 0.01 '*' 0.05 '.' 0.1 ' ' 1\n",
       "\n",
       "Residual standard error: 0.7882 on 8 degrees of freedom\n",
       "Multiple R-squared:  0.6147,\tAdjusted R-squared:  0.5666 \n",
       "F-statistic: 12.77 on 1 and 8 DF,  p-value: 0.007264\n"
      ]
     },
     "metadata": {},
     "output_type": "display_data"
    }
   ],
   "source": [
    "summary(a)"
   ]
  },
  {
   "cell_type": "markdown",
   "id": "e5f09e0f",
   "metadata": {},
   "source": [
    "- p-value: 0.007264\n",
    "- Adjusted R-squared:  0.5666 \n",
    "- Residual standard error: 4.98 on 8 degrees of freedom"
   ]
  },
  {
   "cell_type": "code",
   "execution_count": 32,
   "id": "2f6cd1d4",
   "metadata": {},
   "outputs": [
    {
     "data": {
      "text/plain": [
       "\n",
       "Call:\n",
       "lm(formula = iq$다니는.학원수 ~ iq$성적)\n",
       "\n",
       "Coefficients:\n",
       "(Intercept)      iq$성적  \n",
       "    -7.8916       0.1241  \n"
      ]
     },
     "metadata": {},
     "output_type": "display_data"
    }
   ],
   "source": [
    "a"
   ]
  },
  {
   "cell_type": "code",
   "execution_count": 33,
   "id": "789d32df",
   "metadata": {},
   "outputs": [
    {
     "data": {
      "text/html": [
       "3.2774"
      ],
      "text/latex": [
       "3.2774"
      ],
      "text/markdown": [
       "3.2774"
      ],
      "text/plain": [
       "[1] 3.2774"
      ]
     },
     "metadata": {},
     "output_type": "display_data"
    }
   ],
   "source": [
    "0.1241 * 90 + (-7.8916)"
   ]
  },
  {
   "cell_type": "code",
   "execution_count": 34,
   "id": "d24d32fe",
   "metadata": {},
   "outputs": [
    {
     "name": "stdout",
     "output_type": "stream",
     "text": [
      "-1.7026 ~ 8.2574"
     ]
    }
   ],
   "source": [
    "cat(0.1241 * 90 + (-7.8916)-4.98,\"~\",0.1241 * 90 + (-7.8916)+4.98)"
   ]
  },
  {
   "cell_type": "code",
   "execution_count": 35,
   "id": "78c93522",
   "metadata": {},
   "outputs": [
    {
     "data": {
      "image/png": "[encoded data removed]",
      "text/plain": [
       "plot without title"
      ]
     },
     "metadata": {},
     "output_type": "display_data"
    }
   ],
   "source": [
    "# 성적이 85점 이라면 IQ는 얼마?\n",
    "options(warn = -1)\n",
    "par(family=\"AppleGothic\")\n",
    "plot(iq$IQ,iq$성적)\n",
    "b<-lm(iq$IQ~iq$성적)\n",
    "abline(b,col=\"yellow\")"
   ]
  },
  {
   "cell_type": "code",
   "execution_count": 36,
   "id": "bca2652b",
   "metadata": {},
   "outputs": [
    {
     "data": {
      "text/plain": [
       "\n",
       "Call:\n",
       "lm(formula = iq$IQ ~ iq$성적)\n",
       "\n",
       "Residuals:\n",
       "    Min      1Q  Median      3Q     Max \n",
       "-7.3956 -3.1991  0.7426  3.6946  5.4766 \n",
       "\n",
       "Coefficients:\n",
       "            Estimate Std. Error t value Pr(>|t|)    \n",
       "(Intercept)  28.0353    15.7260   1.783 0.112480    \n",
       "iq$성적       1.2340     0.1985   6.217 0.000255 ***\n",
       "---\n",
       "Signif. codes:  0 '***' 0.001 '**' 0.01 '*' 0.05 '.' 0.1 ' ' 1\n",
       "\n",
       "Residual standard error: 4.504 on 8 degrees of freedom\n",
       "Multiple R-squared:  0.8285,\tAdjusted R-squared:  0.8071 \n",
       "F-statistic: 38.65 on 1 and 8 DF,  p-value: 0.0002547\n"
      ]
     },
     "metadata": {},
     "output_type": "display_data"
    }
   ],
   "source": [
    "summary(b)"
   ]
  },
  {
   "cell_type": "markdown",
   "id": "a20917fe",
   "metadata": {},
   "source": [
    "- p-value: 0.0002547\n",
    "- Adjusted R-squared:  0.8071\n",
    "- Residual standard error: 4.504 on 8 degrees of freedom"
   ]
  },
  {
   "cell_type": "code",
   "execution_count": 37,
   "id": "d7db1d28",
   "metadata": {},
   "outputs": [
    {
     "data": {
      "text/plain": [
       "\n",
       "Call:\n",
       "lm(formula = iq$IQ ~ iq$성적)\n",
       "\n",
       "Coefficients:\n",
       "(Intercept)      iq$성적  \n",
       "     28.035        1.234  \n"
      ]
     },
     "metadata": {},
     "output_type": "display_data"
    }
   ],
   "source": [
    "b"
   ]
  },
  {
   "cell_type": "code",
   "execution_count": 38,
   "id": "42bab5b7",
   "metadata": {},
   "outputs": [
    {
     "data": {
      "text/html": [
       "132.925"
      ],
      "text/latex": [
       "132.925"
      ],
      "text/markdown": [
       "132.925"
      ],
      "text/plain": [
       "[1] 132.925"
      ]
     },
     "metadata": {},
     "output_type": "display_data"
    }
   ],
   "source": [
    "1.234 * 85 + 28.035  # ax+b "
   ]
  },
  {
   "cell_type": "code",
   "execution_count": 42,
   "id": "e5376443",
   "metadata": {},
   "outputs": [
    {
     "name": "stdout",
     "output_type": "stream",
     "text": [
      "128.386 ~ 137.394"
     ]
    }
   ],
   "source": [
    "cat(1.234 * 85 +28 -4.504,\"~\",1.234 * 85+28 +4.504) # ax+b-r <= y^ <= ax+b+r    r:오차"
   ]
  },
  {
   "cell_type": "markdown",
   "id": "7cd54894",
   "metadata": {},
   "source": [
    "---\n",
    "## 다중 회귀 분석\n",
    "- 여러개의 항목들로 구성된 식으로 예축하는 방법"
   ]
  },
  {
   "cell_type": "markdown",
   "id": "71813973",
   "metadata": {},
   "source": [
    "## attitude\n",
    "- 대형 금융기관의 사무직 대상으로 진급의 요소에 대한 설문조사 30개부서 (무작위) 약 35명을 대상으로 한 설문지 데이터\n",
    "- 각 수치는 각 부서의 7개 질문에 대한 점수를 나타낸다."
   ]
  },
  {
   "cell_type": "code",
   "execution_count": 40,
   "id": "1437bc86",
   "metadata": {},
   "outputs": [],
   "source": [
    "help(attitude)"
   ]
  },
  {
   "cell_type": "code",
   "execution_count": 41,
   "id": "f98e63ad",
   "metadata": {},
   "outputs": [
    {
     "data": {
      "text/html": [
       "<table>\n",
       "<thead><tr><th scope=col>rating</th><th scope=col>complaints</th><th scope=col>privileges</th><th scope=col>learning</th><th scope=col>raises</th><th scope=col>critical</th><th scope=col>advance</th></tr></thead>\n",
       "<tbody>\n",
       "\t<tr><td>43</td><td>51</td><td>30</td><td>39</td><td>61</td><td>92</td><td>45</td></tr>\n",
       "\t<tr><td>63</td><td>64</td><td>51</td><td>54</td><td>63</td><td>73</td><td>47</td></tr>\n",
       "\t<tr><td>71</td><td>70</td><td>68</td><td>69</td><td>76</td><td>86</td><td>48</td></tr>\n",
       "\t<tr><td>61</td><td>63</td><td>45</td><td>47</td><td>54</td><td>84</td><td>35</td></tr>\n",
       "\t<tr><td>81</td><td>78</td><td>56</td><td>66</td><td>71</td><td>83</td><td>47</td></tr>\n",
       "\t<tr><td>43</td><td>55</td><td>49</td><td>44</td><td>54</td><td>49</td><td>34</td></tr>\n",
       "</tbody>\n",
       "</table>\n"
      ],
      "text/latex": [
       "\\begin{tabular}{r|lllllll}\n",
       " rating & complaints & privileges & learning & raises & critical & advance\\\\\n",
       "\\hline\n",
       "\t 43 & 51 & 30 & 39 & 61 & 92 & 45\\\\\n",
       "\t 63 & 64 & 51 & 54 & 63 & 73 & 47\\\\\n",
       "\t 71 & 70 & 68 & 69 & 76 & 86 & 48\\\\\n",
       "\t 61 & 63 & 45 & 47 & 54 & 84 & 35\\\\\n",
       "\t 81 & 78 & 56 & 66 & 71 & 83 & 47\\\\\n",
       "\t 43 & 55 & 49 & 44 & 54 & 49 & 34\\\\\n",
       "\\end{tabular}\n"
      ],
      "text/markdown": [
       "\n",
       "| rating | complaints | privileges | learning | raises | critical | advance |\n",
       "|---|---|---|---|---|---|---|\n",
       "| 43 | 51 | 30 | 39 | 61 | 92 | 45 |\n",
       "| 63 | 64 | 51 | 54 | 63 | 73 | 47 |\n",
       "| 71 | 70 | 68 | 69 | 76 | 86 | 48 |\n",
       "| 61 | 63 | 45 | 47 | 54 | 84 | 35 |\n",
       "| 81 | 78 | 56 | 66 | 71 | 83 | 47 |\n",
       "| 43 | 55 | 49 | 44 | 54 | 49 | 34 |\n",
       "\n"
      ],
      "text/plain": [
       "  rating complaints privileges learning raises critical advance\n",
       "1 43     51         30         39       61     92       45     \n",
       "2 63     64         51         54       63     73       47     \n",
       "3 71     70         68         69       76     86       48     \n",
       "4 61     63         45         47       54     84       35     \n",
       "5 81     78         56         66       71     83       47     \n",
       "6 43     55         49         44       54     49       34     "
      ]
     },
     "metadata": {},
     "output_type": "display_data"
    }
   ],
   "source": [
    "head(attitude)"
   ]
  },
  {
   "cell_type": "code",
   "execution_count": null,
   "id": "584cd889",
   "metadata": {},
   "outputs": [],
   "source": [
    "str(attitude)"
   ]
  },
  {
   "cell_type": "code",
   "execution_count": null,
   "id": "eb9c4db8",
   "metadata": {},
   "outputs": [],
   "source": [
    "plot(attitude)"
   ]
  },
  {
   "cell_type": "code",
   "execution_count": null,
   "id": "6acdbea6",
   "metadata": {},
   "outputs": [],
   "source": [
    "# 회귀 분석 \n",
    "#lm이 ax+b를 만드는함수 \n",
    "lm(rating ~ complaints + privileges + learning + raises + critical + advance, data =attitude)\n"
   ]
  },
  {
   "cell_type": "code",
   "execution_count": null,
   "id": "680fcbd6",
   "metadata": {},
   "outputs": [],
   "source": [
    "# 회귀분석 .은 앞에 타겟 컬럼을 빼고 다 불러오겠다는 의미\n",
    "model<-lm(rating ~., data =attitude)"
   ]
  },
  {
   "cell_type": "markdown",
   "id": "7418d6ff",
   "metadata": {},
   "source": [
    "rating = 0.61319 * complaints  + -0.07305 * privileges +.....+10.78708 "
   ]
  },
  {
   "cell_type": "code",
   "execution_count": null,
   "id": "4fdf010d",
   "metadata": {},
   "outputs": [],
   "source": [
    "# Model 검토\n",
    "summary(model)"
   ]
  },
  {
   "cell_type": "markdown",
   "id": "7f73fffc",
   "metadata": {},
   "source": [
    "> Adjusted R-squared:  0.6628 "
   ]
  },
  {
   "cell_type": "code",
   "execution_count": null,
   "id": "8d6c1f74",
   "metadata": {},
   "outputs": [],
   "source": [
    "cor(attitude)"
   ]
  },
  {
   "cell_type": "code",
   "execution_count": null,
   "id": "6c3a31fa",
   "metadata": {},
   "outputs": [],
   "source": [
    "# 예측력을 높이기 위해 상대적으로 기여도가 낮은 변수를 제거\n",
    "\n",
    "reduced <- step(model,direction = \"backward\") # 필요없는거 제거하는 방법 맨마지막이 필요하다."
   ]
  },
  {
   "cell_type": "code",
   "execution_count": null,
   "id": "1b42bf1e",
   "metadata": {},
   "outputs": [],
   "source": [
    "summary(reduced)"
   ]
  },
  {
   "cell_type": "markdown",
   "id": "9428ec66",
   "metadata": {},
   "source": [
    "> Adjusted R-squared:  0.6864  # 필요없는 것을 제거했더니 예측력이 높아졌다."
   ]
  },
  {
   "cell_type": "code",
   "execution_count": null,
   "id": "34a60614",
   "metadata": {},
   "outputs": [],
   "source": [
    "reduced"
   ]
  },
  {
   "cell_type": "markdown",
   "id": "76ce117e",
   "metadata": {},
   "source": [
    "---\n",
    "# iris에 대한 다중 회귀 분석"
   ]
  },
  {
   "cell_type": "code",
   "execution_count": null,
   "id": "193b1f2e",
   "metadata": {},
   "outputs": [],
   "source": [
    "head(iris)"
   ]
  },
  {
   "cell_type": "code",
   "execution_count": null,
   "id": "cd52ef16",
   "metadata": {},
   "outputs": [],
   "source": [
    "str(iris)"
   ]
  },
  {
   "cell_type": "code",
   "execution_count": null,
   "id": "a1bd0115",
   "metadata": {},
   "outputs": [],
   "source": [
    "plot(iris)"
   ]
  },
  {
   "cell_type": "code",
   "execution_count": null,
   "id": "d6813c40",
   "metadata": {},
   "outputs": [],
   "source": [
    "airis<-lm(as.numeric(Species) ~., data =iris)"
   ]
  },
  {
   "cell_type": "code",
   "execution_count": null,
   "id": "297af88e",
   "metadata": {},
   "outputs": [],
   "source": [
    "summary(airis)"
   ]
  },
  {
   "cell_type": "markdown",
   "id": "1c80a3c4",
   "metadata": {},
   "source": [
    ">> Adjusted R-squared:  0.9285"
   ]
  },
  {
   "cell_type": "code",
   "execution_count": null,
   "id": "1a2f11ad",
   "metadata": {},
   "outputs": [],
   "source": [
    "reiris <- step(airis,direction = \"backward\")"
   ]
  },
  {
   "cell_type": "code",
   "execution_count": null,
   "id": "2c9d9af3",
   "metadata": {},
   "outputs": [],
   "source": [
    "summary(reiris)"
   ]
  },
  {
   "cell_type": "markdown",
   "id": "08bb5cb6",
   "metadata": {},
   "source": [
    ">> Adjusted R-squared:  0.9287"
   ]
  },
  {
   "cell_type": "code",
   "execution_count": null,
   "id": "3b6efbf9",
   "metadata": {},
   "outputs": [],
   "source": []
  }
 ],
 "metadata": {
  "kernelspec": {
   "display_name": "R",
   "language": "R",
   "name": "ir"
  },
  "language_info": {
   "codemirror_mode": "r",
   "file_extension": ".r",
   "mimetype": "text/x-r-source",
   "name": "R",
   "pygments_lexer": "r",
   "version": "3.6.1"
  }
 },
 "nbformat": 4,
 "nbformat_minor": 5
}

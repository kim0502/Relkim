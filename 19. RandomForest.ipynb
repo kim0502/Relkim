{
 "cells": [
  {
   "cell_type": "code",
   "execution_count": 1,
   "id": "43fe52c9",
   "metadata": {},
   "outputs": [],
   "source": [
    "# Ensemble(앙상블 기법) : Model 들을 같이 엮어서 사용하는 방법, 예측력이 아주아주 높다."
   ]
  },
  {
   "cell_type": "code",
   "execution_count": 2,
   "id": "50d90c1b",
   "metadata": {},
   "outputs": [
    {
     "name": "stderr",
     "output_type": "stream",
     "text": [
      "randomForest 4.6-14\n",
      "Type rfNews() to see new features/changes/bug fixes.\n"
     ]
    }
   ],
   "source": [
    "library(randomForest)"
   ]
  },
  {
   "cell_type": "code",
   "execution_count": 3,
   "id": "bc6ddc85",
   "metadata": {},
   "outputs": [
    {
     "name": "stderr",
     "output_type": "stream",
     "text": [
      "Loading required package: lattice\n",
      "Loading required package: ggplot2\n",
      "Registered S3 methods overwritten by 'ggplot2':\n",
      "  method         from \n",
      "  [.quosures     rlang\n",
      "  c.quosures     rlang\n",
      "  print.quosures rlang\n",
      "\n",
      "Attaching package: ‘ggplot2’\n",
      "\n",
      "The following object is masked from ‘package:randomForest’:\n",
      "\n",
      "    margin\n",
      "\n"
     ]
    }
   ],
   "source": [
    "# Sampling \n",
    "set.seed(1234)\n",
    "library(caret)\n",
    "samp <- createDataPartition(iris$Species, p =0.7, list=F) #P(퍼센트):데이터가 많을 경우 0.8\n",
    "# 학습용 데이터 만들기\n",
    "data.tr <- iris[samp,]\n",
    "# 검증용 데이터 만들기\n",
    "data.test<-iris[-samp,]\n",
    "# 문제 및 정답 만들기\n",
    "x <- subset(data.test,select =-Species)\n",
    "y <- data.test$Species"
   ]
  },
  {
   "cell_type": "code",
   "execution_count": 4,
   "id": "72ee4de3",
   "metadata": {},
   "outputs": [],
   "source": [
    "# 학습시키기\n",
    "model.rf <- randomForest(Species ~., data = data.tr, ntree = 100)"
   ]
  },
  {
   "cell_type": "code",
   "execution_count": 5,
   "id": "fd16f7af",
   "metadata": {},
   "outputs": [],
   "source": [
    "# 검증하기\n",
    "pred <- predict(model.rf, x)"
   ]
  },
  {
   "cell_type": "code",
   "execution_count": 6,
   "id": "c07de30b",
   "metadata": {},
   "outputs": [
    {
     "data": {
      "text/html": [
       "0.933333333333333"
      ],
      "text/latex": [
       "0.933333333333333"
      ],
      "text/markdown": [
       "0.933333333333333"
      ],
      "text/plain": [
       "[1] 0.9333333"
      ]
     },
     "metadata": {},
     "output_type": "display_data"
    },
    {
     "data": {
      "text/plain": [
       "            y\n",
       "pred         setosa versicolor virginica\n",
       "  setosa         15          0         0\n",
       "  versicolor      0         12         0\n",
       "  virginica       0          3        15"
      ]
     },
     "metadata": {},
     "output_type": "display_data"
    }
   ],
   "source": [
    "# 예측력과 오분류표\n",
    "mean(pred == y)\n",
    "table(pred, y)"
   ]
  },
  {
   "cell_type": "markdown",
   "id": "12cd3485",
   "metadata": {},
   "source": [
    "---\n",
    "### 교통사고 예측하기 (회귀식과 RandomForest 예측비교)"
   ]
  },
  {
   "cell_type": "code",
   "execution_count": 7,
   "id": "1f18e469",
   "metadata": {
    "scrolled": true
   },
   "outputs": [
    {
     "data": {
      "text/html": [
       "<table>\n",
       "<thead><tr><th scope=col>년도</th><th scope=col>월</th><th scope=col>자치구명</th><th scope=col>발생건수</th><th scope=col>사망자수</th><th scope=col>부상자수</th></tr></thead>\n",
       "<tbody>\n",
       "\t<tr><td>2011  </td><td>1     </td><td>종로구</td><td>115   </td><td>2     </td><td>165   </td></tr>\n",
       "\t<tr><td>2011  </td><td>2     </td><td>종로구</td><td> 99   </td><td>0     </td><td>134   </td></tr>\n",
       "\t<tr><td>2011  </td><td>3     </td><td>종로구</td><td>116   </td><td>0     </td><td>162   </td></tr>\n",
       "\t<tr><td>2011  </td><td>4     </td><td>종로구</td><td>110   </td><td>1     </td><td>153   </td></tr>\n",
       "\t<tr><td>2011  </td><td>5     </td><td>종로구</td><td>122   </td><td>0     </td><td>157   </td></tr>\n",
       "\t<tr><td>2011  </td><td>6     </td><td>종로구</td><td>116   </td><td>3     </td><td>163   </td></tr>\n",
       "</tbody>\n",
       "</table>\n"
      ],
      "text/latex": [
       "\\begin{tabular}{r|llllll}\n",
       " 년도 & 월 & 자치구명 & 발생건수 & 사망자수 & 부상자수\\\\\n",
       "\\hline\n",
       "\t 2011   & 1      & 종로구 & 115    & 2      & 165   \\\\\n",
       "\t 2011   & 2      & 종로구 &  99    & 0      & 134   \\\\\n",
       "\t 2011   & 3      & 종로구 & 116    & 0      & 162   \\\\\n",
       "\t 2011   & 4      & 종로구 & 110    & 1      & 153   \\\\\n",
       "\t 2011   & 5      & 종로구 & 122    & 0      & 157   \\\\\n",
       "\t 2011   & 6      & 종로구 & 116    & 3      & 163   \\\\\n",
       "\\end{tabular}\n"
      ],
      "text/markdown": [
       "\n",
       "| 년도 | 월 | 자치구명 | 발생건수 | 사망자수 | 부상자수 |\n",
       "|---|---|---|---|---|---|\n",
       "| 2011   | 1      | 종로구 | 115    | 2      | 165    |\n",
       "| 2011   | 2      | 종로구 |  99    | 0      | 134    |\n",
       "| 2011   | 3      | 종로구 | 116    | 0      | 162    |\n",
       "| 2011   | 4      | 종로구 | 110    | 1      | 153    |\n",
       "| 2011   | 5      | 종로구 | 122    | 0      | 157    |\n",
       "| 2011   | 6      | 종로구 | 116    | 3      | 163    |\n",
       "\n"
      ],
      "text/plain": [
       "  년도 월 자치구명 발생건수 사망자수 부상자수\n",
       "1 2011 1  종로구   115      2        165     \n",
       "2 2011 2  종로구    99      0        134     \n",
       "3 2011 3  종로구   116      0        162     \n",
       "4 2011 4  종로구   110      1        153     \n",
       "5 2011 5  종로구   122      0        157     \n",
       "6 2011 6  종로구   116      3        163     "
      ]
     },
     "metadata": {},
     "output_type": "display_data"
    },
    {
     "data": {
      "text/html": [
       "<table>\n",
       "<thead><tr><th></th><th scope=col>년도</th><th scope=col>월</th><th scope=col>자치구명</th><th scope=col>발생건수</th><th scope=col>사망자수</th><th scope=col>부상자수</th></tr></thead>\n",
       "<tbody>\n",
       "\t<tr><th scope=row>2695</th><td>2019  </td><td> 7    </td><td>강동구</td><td>146   </td><td>2     </td><td>189   </td></tr>\n",
       "\t<tr><th scope=row>2696</th><td>2019  </td><td> 8    </td><td>강동구</td><td>127   </td><td>2     </td><td>175   </td></tr>\n",
       "\t<tr><th scope=row>2697</th><td>2019  </td><td> 9    </td><td>강동구</td><td> 98   </td><td>2     </td><td>137   </td></tr>\n",
       "\t<tr><th scope=row>2698</th><td>2019  </td><td>10    </td><td>강동구</td><td>108   </td><td>1     </td><td>144   </td></tr>\n",
       "\t<tr><th scope=row>2699</th><td>2019  </td><td>11    </td><td>강동구</td><td>146   </td><td>0     </td><td>199   </td></tr>\n",
       "\t<tr><th scope=row>2700</th><td>2019  </td><td>12    </td><td>강동구</td><td>108   </td><td>1     </td><td>131   </td></tr>\n",
       "</tbody>\n",
       "</table>\n"
      ],
      "text/latex": [
       "\\begin{tabular}{r|llllll}\n",
       "  & 년도 & 월 & 자치구명 & 발생건수 & 사망자수 & 부상자수\\\\\n",
       "\\hline\n",
       "\t2695 & 2019   &  7     & 강동구 & 146    & 2      & 189   \\\\\n",
       "\t2696 & 2019   &  8     & 강동구 & 127    & 2      & 175   \\\\\n",
       "\t2697 & 2019   &  9     & 강동구 &  98    & 2      & 137   \\\\\n",
       "\t2698 & 2019   & 10     & 강동구 & 108    & 1      & 144   \\\\\n",
       "\t2699 & 2019   & 11     & 강동구 & 146    & 0      & 199   \\\\\n",
       "\t2700 & 2019   & 12     & 강동구 & 108    & 1      & 131   \\\\\n",
       "\\end{tabular}\n"
      ],
      "text/markdown": [
       "\n",
       "| <!--/--> | 년도 | 월 | 자치구명 | 발생건수 | 사망자수 | 부상자수 |\n",
       "|---|---|---|---|---|---|---|\n",
       "| 2695 | 2019   |  7     | 강동구 | 146    | 2      | 189    |\n",
       "| 2696 | 2019   |  8     | 강동구 | 127    | 2      | 175    |\n",
       "| 2697 | 2019   |  9     | 강동구 |  98    | 2      | 137    |\n",
       "| 2698 | 2019   | 10     | 강동구 | 108    | 1      | 144    |\n",
       "| 2699 | 2019   | 11     | 강동구 | 146    | 0      | 199    |\n",
       "| 2700 | 2019   | 12     | 강동구 | 108    | 1      | 131    |\n",
       "\n"
      ],
      "text/plain": [
       "     년도 월 자치구명 발생건수 사망자수 부상자수\n",
       "2695 2019  7 강동구   146      2        189     \n",
       "2696 2019  8 강동구   127      2        175     \n",
       "2697 2019  9 강동구    98      2        137     \n",
       "2698 2019 10 강동구   108      1        144     \n",
       "2699 2019 11 강동구   146      0        199     \n",
       "2700 2019 12 강동구   108      1        131     "
      ]
     },
     "metadata": {},
     "output_type": "display_data"
    }
   ],
   "source": [
    "seoul <- read.csv(\"../../Data/newSeoul2019.csv\")\n",
    "head(seoul)\n",
    "tail(seoul)"
   ]
  },
  {
   "cell_type": "code",
   "execution_count": 8,
   "id": "9a85c69e",
   "metadata": {
    "scrolled": true
   },
   "outputs": [
    {
     "data": {
      "text/html": [
       "<table>\n",
       "<thead><tr><th></th><th scope=col>년도</th><th scope=col>월</th><th scope=col>자치구명</th><th scope=col>발생건수</th><th scope=col>사망자수</th><th scope=col>부상자수</th></tr></thead>\n",
       "<tbody>\n",
       "\t<tr><th scope=row>1</th><td>2011  </td><td> 1    </td><td>종로구</td><td>115   </td><td>2     </td><td>165   </td></tr>\n",
       "\t<tr><th scope=row>2</th><td>2011  </td><td> 2    </td><td>종로구</td><td> 99   </td><td>0     </td><td>134   </td></tr>\n",
       "\t<tr><th scope=row>3</th><td>2011  </td><td> 3    </td><td>종로구</td><td>116   </td><td>0     </td><td>162   </td></tr>\n",
       "\t<tr><th scope=row>4</th><td>2011  </td><td> 4    </td><td>종로구</td><td>110   </td><td>1     </td><td>153   </td></tr>\n",
       "\t<tr><th scope=row>5</th><td>2011  </td><td> 5    </td><td>종로구</td><td>122   </td><td>0     </td><td>157   </td></tr>\n",
       "\t<tr><th scope=row>6</th><td>2011  </td><td> 6    </td><td>종로구</td><td>116   </td><td>3     </td><td>163   </td></tr>\n",
       "\t<tr><th scope=row>7</th><td>2011  </td><td> 7    </td><td>종로구</td><td>103   </td><td>1     </td><td>154   </td></tr>\n",
       "\t<tr><th scope=row>8</th><td>2011  </td><td> 8    </td><td>종로구</td><td>122   </td><td>1     </td><td>171   </td></tr>\n",
       "\t<tr><th scope=row>9</th><td>2011  </td><td> 9    </td><td>종로구</td><td>121   </td><td>2     </td><td>166   </td></tr>\n",
       "\t<tr><th scope=row>10</th><td>2011  </td><td>10    </td><td>종로구</td><td>135   </td><td>2     </td><td>193   </td></tr>\n",
       "\t<tr><th scope=row>11</th><td>2011  </td><td>11    </td><td>종로구</td><td>140   </td><td>1     </td><td>204   </td></tr>\n",
       "\t<tr><th scope=row>12</th><td>2011  </td><td>12    </td><td>종로구</td><td>122   </td><td>1     </td><td>172   </td></tr>\n",
       "\t<tr><th scope=row>301</th><td>2012  </td><td> 1    </td><td>종로구</td><td>110   </td><td>1     </td><td>154   </td></tr>\n",
       "\t<tr><th scope=row>302</th><td>2012  </td><td> 2    </td><td>종로구</td><td>118   </td><td>1     </td><td>177   </td></tr>\n",
       "\t<tr><th scope=row>303</th><td>2012  </td><td> 3    </td><td>종로구</td><td>126   </td><td>1     </td><td>186   </td></tr>\n",
       "\t<tr><th scope=row>304</th><td>2012  </td><td> 4    </td><td>종로구</td><td>121   </td><td>2     </td><td>189   </td></tr>\n",
       "\t<tr><th scope=row>305</th><td>2012  </td><td> 5    </td><td>종로구</td><td>121   </td><td>0     </td><td>179   </td></tr>\n",
       "\t<tr><th scope=row>306</th><td>2012  </td><td> 6    </td><td>종로구</td><td>109   </td><td>0     </td><td>152   </td></tr>\n",
       "\t<tr><th scope=row>307</th><td>2012  </td><td> 7    </td><td>종로구</td><td>112   </td><td>2     </td><td>153   </td></tr>\n",
       "\t<tr><th scope=row>308</th><td>2012  </td><td> 8    </td><td>종로구</td><td>106   </td><td>1     </td><td>181   </td></tr>\n",
       "\t<tr><th scope=row>309</th><td>2012  </td><td> 9    </td><td>종로구</td><td>122   </td><td>1     </td><td>168   </td></tr>\n",
       "\t<tr><th scope=row>310</th><td>2012  </td><td>10    </td><td>종로구</td><td>114   </td><td>1     </td><td>155   </td></tr>\n",
       "\t<tr><th scope=row>311</th><td>2012  </td><td>11    </td><td>종로구</td><td>123   </td><td>1     </td><td>167   </td></tr>\n",
       "\t<tr><th scope=row>312</th><td>2012  </td><td>12    </td><td>종로구</td><td> 92   </td><td>1     </td><td>133   </td></tr>\n",
       "\t<tr><th scope=row>601</th><td>2013  </td><td> 1    </td><td>종로구</td><td>109   </td><td>3     </td><td>154   </td></tr>\n",
       "\t<tr><th scope=row>602</th><td>2013  </td><td> 2    </td><td>종로구</td><td> 90   </td><td>1     </td><td>130   </td></tr>\n",
       "\t<tr><th scope=row>603</th><td>2013  </td><td> 3    </td><td>종로구</td><td>122   </td><td>1     </td><td>173   </td></tr>\n",
       "\t<tr><th scope=row>604</th><td>2013  </td><td> 4    </td><td>종로구</td><td>118   </td><td>0     </td><td>169   </td></tr>\n",
       "\t<tr><th scope=row>605</th><td>2013  </td><td> 5    </td><td>종로구</td><td>102   </td><td>1     </td><td>153   </td></tr>\n",
       "\t<tr><th scope=row>606</th><td>2013  </td><td> 6    </td><td>종로구</td><td>127   </td><td>0     </td><td>175   </td></tr>\n",
       "\t<tr><th scope=row>...</th><td>...</td><td>...</td><td>...</td><td>...</td><td>...</td><td>...</td></tr>\n",
       "\t<tr><th scope=row>1807</th><td>2017  </td><td> 7    </td><td>종로구</td><td> 87   </td><td>2     </td><td>141   </td></tr>\n",
       "\t<tr><th scope=row>1808</th><td>2017  </td><td> 8    </td><td>종로구</td><td> 81   </td><td>0     </td><td>119   </td></tr>\n",
       "\t<tr><th scope=row>1809</th><td>2017  </td><td> 9    </td><td>종로구</td><td>112   </td><td>1     </td><td>155   </td></tr>\n",
       "\t<tr><th scope=row>1810</th><td>2017  </td><td>10    </td><td>종로구</td><td> 94   </td><td>0     </td><td>145   </td></tr>\n",
       "\t<tr><th scope=row>1811</th><td>2017  </td><td>11    </td><td>종로구</td><td> 97   </td><td>2     </td><td>115   </td></tr>\n",
       "\t<tr><th scope=row>1812</th><td>2017  </td><td>12    </td><td>종로구</td><td>108   </td><td>2     </td><td>155   </td></tr>\n",
       "\t<tr><th scope=row>2101</th><td>2018  </td><td> 1    </td><td>종로구</td><td>103   </td><td>0     </td><td>133   </td></tr>\n",
       "\t<tr><th scope=row>2102</th><td>2018  </td><td> 2    </td><td>종로구</td><td> 84   </td><td>1     </td><td>111   </td></tr>\n",
       "\t<tr><th scope=row>2103</th><td>2018  </td><td> 3    </td><td>종로구</td><td>101   </td><td>0     </td><td>149   </td></tr>\n",
       "\t<tr><th scope=row>2104</th><td>2018  </td><td> 4    </td><td>종로구</td><td> 93   </td><td>0     </td><td>114   </td></tr>\n",
       "\t<tr><th scope=row>2105</th><td>2018  </td><td> 5    </td><td>종로구</td><td>102   </td><td>1     </td><td>143   </td></tr>\n",
       "\t<tr><th scope=row>2106</th><td>2018  </td><td> 6    </td><td>종로구</td><td> 96   </td><td>1     </td><td>123   </td></tr>\n",
       "\t<tr><th scope=row>2107</th><td>2018  </td><td> 7    </td><td>종로구</td><td> 89   </td><td>0     </td><td>128   </td></tr>\n",
       "\t<tr><th scope=row>2108</th><td>2018  </td><td> 8    </td><td>종로구</td><td> 90   </td><td>0     </td><td>127   </td></tr>\n",
       "\t<tr><th scope=row>2109</th><td>2018  </td><td> 9    </td><td>종로구</td><td> 91   </td><td>1     </td><td>133   </td></tr>\n",
       "\t<tr><th scope=row>2110</th><td>2018  </td><td>10    </td><td>종로구</td><td>113   </td><td>0     </td><td>166   </td></tr>\n",
       "\t<tr><th scope=row>2111</th><td>2018  </td><td>11    </td><td>종로구</td><td> 75   </td><td>1     </td><td>100   </td></tr>\n",
       "\t<tr><th scope=row>2112</th><td>2018  </td><td>12    </td><td>종로구</td><td> 97   </td><td>1     </td><td>119   </td></tr>\n",
       "\t<tr><th scope=row>2401</th><td>2019  </td><td> 1    </td><td>종로구</td><td> 87   </td><td>1     </td><td>125   </td></tr>\n",
       "\t<tr><th scope=row>2402</th><td>2019  </td><td> 2    </td><td>종로구</td><td> 66   </td><td>1     </td><td> 84   </td></tr>\n",
       "\t<tr><th scope=row>2403</th><td>2019  </td><td> 3    </td><td>종로구</td><td> 87   </td><td>2     </td><td>122   </td></tr>\n",
       "\t<tr><th scope=row>2404</th><td>2019  </td><td> 4    </td><td>종로구</td><td> 85   </td><td>0     </td><td>131   </td></tr>\n",
       "\t<tr><th scope=row>2405</th><td>2019  </td><td> 5    </td><td>종로구</td><td>112   </td><td>1     </td><td>158   </td></tr>\n",
       "\t<tr><th scope=row>2406</th><td>2019  </td><td> 6    </td><td>종로구</td><td> 95   </td><td>1     </td><td>116   </td></tr>\n",
       "\t<tr><th scope=row>2407</th><td>2019  </td><td> 7    </td><td>종로구</td><td> 83   </td><td>0     </td><td>109   </td></tr>\n",
       "\t<tr><th scope=row>2408</th><td>2019  </td><td> 8    </td><td>종로구</td><td>115   </td><td>0     </td><td>164   </td></tr>\n",
       "\t<tr><th scope=row>2409</th><td>2019  </td><td> 9    </td><td>종로구</td><td> 99   </td><td>0     </td><td>143   </td></tr>\n",
       "\t<tr><th scope=row>2410</th><td>2019  </td><td>10    </td><td>종로구</td><td>104   </td><td>0     </td><td>139   </td></tr>\n",
       "\t<tr><th scope=row>2411</th><td>2019  </td><td>11    </td><td>종로구</td><td>100   </td><td>0     </td><td>126   </td></tr>\n",
       "\t<tr><th scope=row>2412</th><td>2019  </td><td>12    </td><td>종로구</td><td>100   </td><td>0     </td><td>142   </td></tr>\n",
       "</tbody>\n",
       "</table>\n"
      ],
      "text/latex": [
       "\\begin{tabular}{r|llllll}\n",
       "  & 년도 & 월 & 자치구명 & 발생건수 & 사망자수 & 부상자수\\\\\n",
       "\\hline\n",
       "\t1 & 2011   &  1     & 종로구 & 115    & 2      & 165   \\\\\n",
       "\t2 & 2011   &  2     & 종로구 &  99    & 0      & 134   \\\\\n",
       "\t3 & 2011   &  3     & 종로구 & 116    & 0      & 162   \\\\\n",
       "\t4 & 2011   &  4     & 종로구 & 110    & 1      & 153   \\\\\n",
       "\t5 & 2011   &  5     & 종로구 & 122    & 0      & 157   \\\\\n",
       "\t6 & 2011   &  6     & 종로구 & 116    & 3      & 163   \\\\\n",
       "\t7 & 2011   &  7     & 종로구 & 103    & 1      & 154   \\\\\n",
       "\t8 & 2011   &  8     & 종로구 & 122    & 1      & 171   \\\\\n",
       "\t9 & 2011   &  9     & 종로구 & 121    & 2      & 166   \\\\\n",
       "\t10 & 2011   & 10     & 종로구 & 135    & 2      & 193   \\\\\n",
       "\t11 & 2011   & 11     & 종로구 & 140    & 1      & 204   \\\\\n",
       "\t12 & 2011   & 12     & 종로구 & 122    & 1      & 172   \\\\\n",
       "\t301 & 2012   &  1     & 종로구 & 110    & 1      & 154   \\\\\n",
       "\t302 & 2012   &  2     & 종로구 & 118    & 1      & 177   \\\\\n",
       "\t303 & 2012   &  3     & 종로구 & 126    & 1      & 186   \\\\\n",
       "\t304 & 2012   &  4     & 종로구 & 121    & 2      & 189   \\\\\n",
       "\t305 & 2012   &  5     & 종로구 & 121    & 0      & 179   \\\\\n",
       "\t306 & 2012   &  6     & 종로구 & 109    & 0      & 152   \\\\\n",
       "\t307 & 2012   &  7     & 종로구 & 112    & 2      & 153   \\\\\n",
       "\t308 & 2012   &  8     & 종로구 & 106    & 1      & 181   \\\\\n",
       "\t309 & 2012   &  9     & 종로구 & 122    & 1      & 168   \\\\\n",
       "\t310 & 2012   & 10     & 종로구 & 114    & 1      & 155   \\\\\n",
       "\t311 & 2012   & 11     & 종로구 & 123    & 1      & 167   \\\\\n",
       "\t312 & 2012   & 12     & 종로구 &  92    & 1      & 133   \\\\\n",
       "\t601 & 2013   &  1     & 종로구 & 109    & 3      & 154   \\\\\n",
       "\t602 & 2013   &  2     & 종로구 &  90    & 1      & 130   \\\\\n",
       "\t603 & 2013   &  3     & 종로구 & 122    & 1      & 173   \\\\\n",
       "\t604 & 2013   &  4     & 종로구 & 118    & 0      & 169   \\\\\n",
       "\t605 & 2013   &  5     & 종로구 & 102    & 1      & 153   \\\\\n",
       "\t606 & 2013   &  6     & 종로구 & 127    & 0      & 175   \\\\\n",
       "\t... & ... & ... & ... & ... & ... & ...\\\\\n",
       "\t1807 & 2017   &  7     & 종로구 &  87    & 2      & 141   \\\\\n",
       "\t1808 & 2017   &  8     & 종로구 &  81    & 0      & 119   \\\\\n",
       "\t1809 & 2017   &  9     & 종로구 & 112    & 1      & 155   \\\\\n",
       "\t1810 & 2017   & 10     & 종로구 &  94    & 0      & 145   \\\\\n",
       "\t1811 & 2017   & 11     & 종로구 &  97    & 2      & 115   \\\\\n",
       "\t1812 & 2017   & 12     & 종로구 & 108    & 2      & 155   \\\\\n",
       "\t2101 & 2018   &  1     & 종로구 & 103    & 0      & 133   \\\\\n",
       "\t2102 & 2018   &  2     & 종로구 &  84    & 1      & 111   \\\\\n",
       "\t2103 & 2018   &  3     & 종로구 & 101    & 0      & 149   \\\\\n",
       "\t2104 & 2018   &  4     & 종로구 &  93    & 0      & 114   \\\\\n",
       "\t2105 & 2018   &  5     & 종로구 & 102    & 1      & 143   \\\\\n",
       "\t2106 & 2018   &  6     & 종로구 &  96    & 1      & 123   \\\\\n",
       "\t2107 & 2018   &  7     & 종로구 &  89    & 0      & 128   \\\\\n",
       "\t2108 & 2018   &  8     & 종로구 &  90    & 0      & 127   \\\\\n",
       "\t2109 & 2018   &  9     & 종로구 &  91    & 1      & 133   \\\\\n",
       "\t2110 & 2018   & 10     & 종로구 & 113    & 0      & 166   \\\\\n",
       "\t2111 & 2018   & 11     & 종로구 &  75    & 1      & 100   \\\\\n",
       "\t2112 & 2018   & 12     & 종로구 &  97    & 1      & 119   \\\\\n",
       "\t2401 & 2019   &  1     & 종로구 &  87    & 1      & 125   \\\\\n",
       "\t2402 & 2019   &  2     & 종로구 &  66    & 1      &  84   \\\\\n",
       "\t2403 & 2019   &  3     & 종로구 &  87    & 2      & 122   \\\\\n",
       "\t2404 & 2019   &  4     & 종로구 &  85    & 0      & 131   \\\\\n",
       "\t2405 & 2019   &  5     & 종로구 & 112    & 1      & 158   \\\\\n",
       "\t2406 & 2019   &  6     & 종로구 &  95    & 1      & 116   \\\\\n",
       "\t2407 & 2019   &  7     & 종로구 &  83    & 0      & 109   \\\\\n",
       "\t2408 & 2019   &  8     & 종로구 & 115    & 0      & 164   \\\\\n",
       "\t2409 & 2019   &  9     & 종로구 &  99    & 0      & 143   \\\\\n",
       "\t2410 & 2019   & 10     & 종로구 & 104    & 0      & 139   \\\\\n",
       "\t2411 & 2019   & 11     & 종로구 & 100    & 0      & 126   \\\\\n",
       "\t2412 & 2019   & 12     & 종로구 & 100    & 0      & 142   \\\\\n",
       "\\end{tabular}\n"
      ],
      "text/markdown": [
       "\n",
       "| <!--/--> | 년도 | 월 | 자치구명 | 발생건수 | 사망자수 | 부상자수 |\n",
       "|---|---|---|---|---|---|---|\n",
       "| 1 | 2011   |  1     | 종로구 | 115    | 2      | 165    |\n",
       "| 2 | 2011   |  2     | 종로구 |  99    | 0      | 134    |\n",
       "| 3 | 2011   |  3     | 종로구 | 116    | 0      | 162    |\n",
       "| 4 | 2011   |  4     | 종로구 | 110    | 1      | 153    |\n",
       "| 5 | 2011   |  5     | 종로구 | 122    | 0      | 157    |\n",
       "| 6 | 2011   |  6     | 종로구 | 116    | 3      | 163    |\n",
       "| 7 | 2011   |  7     | 종로구 | 103    | 1      | 154    |\n",
       "| 8 | 2011   |  8     | 종로구 | 122    | 1      | 171    |\n",
       "| 9 | 2011   |  9     | 종로구 | 121    | 2      | 166    |\n",
       "| 10 | 2011   | 10     | 종로구 | 135    | 2      | 193    |\n",
       "| 11 | 2011   | 11     | 종로구 | 140    | 1      | 204    |\n",
       "| 12 | 2011   | 12     | 종로구 | 122    | 1      | 172    |\n",
       "| 301 | 2012   |  1     | 종로구 | 110    | 1      | 154    |\n",
       "| 302 | 2012   |  2     | 종로구 | 118    | 1      | 177    |\n",
       "| 303 | 2012   |  3     | 종로구 | 126    | 1      | 186    |\n",
       "| 304 | 2012   |  4     | 종로구 | 121    | 2      | 189    |\n",
       "| 305 | 2012   |  5     | 종로구 | 121    | 0      | 179    |\n",
       "| 306 | 2012   |  6     | 종로구 | 109    | 0      | 152    |\n",
       "| 307 | 2012   |  7     | 종로구 | 112    | 2      | 153    |\n",
       "| 308 | 2012   |  8     | 종로구 | 106    | 1      | 181    |\n",
       "| 309 | 2012   |  9     | 종로구 | 122    | 1      | 168    |\n",
       "| 310 | 2012   | 10     | 종로구 | 114    | 1      | 155    |\n",
       "| 311 | 2012   | 11     | 종로구 | 123    | 1      | 167    |\n",
       "| 312 | 2012   | 12     | 종로구 |  92    | 1      | 133    |\n",
       "| 601 | 2013   |  1     | 종로구 | 109    | 3      | 154    |\n",
       "| 602 | 2013   |  2     | 종로구 |  90    | 1      | 130    |\n",
       "| 603 | 2013   |  3     | 종로구 | 122    | 1      | 173    |\n",
       "| 604 | 2013   |  4     | 종로구 | 118    | 0      | 169    |\n",
       "| 605 | 2013   |  5     | 종로구 | 102    | 1      | 153    |\n",
       "| 606 | 2013   |  6     | 종로구 | 127    | 0      | 175    |\n",
       "| ... | ... | ... | ... | ... | ... | ... |\n",
       "| 1807 | 2017   |  7     | 종로구 |  87    | 2      | 141    |\n",
       "| 1808 | 2017   |  8     | 종로구 |  81    | 0      | 119    |\n",
       "| 1809 | 2017   |  9     | 종로구 | 112    | 1      | 155    |\n",
       "| 1810 | 2017   | 10     | 종로구 |  94    | 0      | 145    |\n",
       "| 1811 | 2017   | 11     | 종로구 |  97    | 2      | 115    |\n",
       "| 1812 | 2017   | 12     | 종로구 | 108    | 2      | 155    |\n",
       "| 2101 | 2018   |  1     | 종로구 | 103    | 0      | 133    |\n",
       "| 2102 | 2018   |  2     | 종로구 |  84    | 1      | 111    |\n",
       "| 2103 | 2018   |  3     | 종로구 | 101    | 0      | 149    |\n",
       "| 2104 | 2018   |  4     | 종로구 |  93    | 0      | 114    |\n",
       "| 2105 | 2018   |  5     | 종로구 | 102    | 1      | 143    |\n",
       "| 2106 | 2018   |  6     | 종로구 |  96    | 1      | 123    |\n",
       "| 2107 | 2018   |  7     | 종로구 |  89    | 0      | 128    |\n",
       "| 2108 | 2018   |  8     | 종로구 |  90    | 0      | 127    |\n",
       "| 2109 | 2018   |  9     | 종로구 |  91    | 1      | 133    |\n",
       "| 2110 | 2018   | 10     | 종로구 | 113    | 0      | 166    |\n",
       "| 2111 | 2018   | 11     | 종로구 |  75    | 1      | 100    |\n",
       "| 2112 | 2018   | 12     | 종로구 |  97    | 1      | 119    |\n",
       "| 2401 | 2019   |  1     | 종로구 |  87    | 1      | 125    |\n",
       "| 2402 | 2019   |  2     | 종로구 |  66    | 1      |  84    |\n",
       "| 2403 | 2019   |  3     | 종로구 |  87    | 2      | 122    |\n",
       "| 2404 | 2019   |  4     | 종로구 |  85    | 0      | 131    |\n",
       "| 2405 | 2019   |  5     | 종로구 | 112    | 1      | 158    |\n",
       "| 2406 | 2019   |  6     | 종로구 |  95    | 1      | 116    |\n",
       "| 2407 | 2019   |  7     | 종로구 |  83    | 0      | 109    |\n",
       "| 2408 | 2019   |  8     | 종로구 | 115    | 0      | 164    |\n",
       "| 2409 | 2019   |  9     | 종로구 |  99    | 0      | 143    |\n",
       "| 2410 | 2019   | 10     | 종로구 | 104    | 0      | 139    |\n",
       "| 2411 | 2019   | 11     | 종로구 | 100    | 0      | 126    |\n",
       "| 2412 | 2019   | 12     | 종로구 | 100    | 0      | 142    |\n",
       "\n"
      ],
      "text/plain": [
       "     년도 월  자치구명 발생건수 사망자수 부상자수\n",
       "1    2011  1  종로구   115      2        165     \n",
       "2    2011  2  종로구    99      0        134     \n",
       "3    2011  3  종로구   116      0        162     \n",
       "4    2011  4  종로구   110      1        153     \n",
       "5    2011  5  종로구   122      0        157     \n",
       "6    2011  6  종로구   116      3        163     \n",
       "7    2011  7  종로구   103      1        154     \n",
       "8    2011  8  종로구   122      1        171     \n",
       "9    2011  9  종로구   121      2        166     \n",
       "10   2011 10  종로구   135      2        193     \n",
       "11   2011 11  종로구   140      1        204     \n",
       "12   2011 12  종로구   122      1        172     \n",
       "301  2012  1  종로구   110      1        154     \n",
       "302  2012  2  종로구   118      1        177     \n",
       "303  2012  3  종로구   126      1        186     \n",
       "304  2012  4  종로구   121      2        189     \n",
       "305  2012  5  종로구   121      0        179     \n",
       "306  2012  6  종로구   109      0        152     \n",
       "307  2012  7  종로구   112      2        153     \n",
       "308  2012  8  종로구   106      1        181     \n",
       "309  2012  9  종로구   122      1        168     \n",
       "310  2012 10  종로구   114      1        155     \n",
       "311  2012 11  종로구   123      1        167     \n",
       "312  2012 12  종로구    92      1        133     \n",
       "601  2013  1  종로구   109      3        154     \n",
       "602  2013  2  종로구    90      1        130     \n",
       "603  2013  3  종로구   122      1        173     \n",
       "604  2013  4  종로구   118      0        169     \n",
       "605  2013  5  종로구   102      1        153     \n",
       "606  2013  6  종로구   127      0        175     \n",
       "...  ...  ... ...      ...      ...      ...     \n",
       "1807 2017  7  종로구    87      2        141     \n",
       "1808 2017  8  종로구    81      0        119     \n",
       "1809 2017  9  종로구   112      1        155     \n",
       "1810 2017 10  종로구    94      0        145     \n",
       "1811 2017 11  종로구    97      2        115     \n",
       "1812 2017 12  종로구   108      2        155     \n",
       "2101 2018  1  종로구   103      0        133     \n",
       "2102 2018  2  종로구    84      1        111     \n",
       "2103 2018  3  종로구   101      0        149     \n",
       "2104 2018  4  종로구    93      0        114     \n",
       "2105 2018  5  종로구   102      1        143     \n",
       "2106 2018  6  종로구    96      1        123     \n",
       "2107 2018  7  종로구    89      0        128     \n",
       "2108 2018  8  종로구    90      0        127     \n",
       "2109 2018  9  종로구    91      1        133     \n",
       "2110 2018 10  종로구   113      0        166     \n",
       "2111 2018 11  종로구    75      1        100     \n",
       "2112 2018 12  종로구    97      1        119     \n",
       "2401 2019  1  종로구    87      1        125     \n",
       "2402 2019  2  종로구    66      1         84     \n",
       "2403 2019  3  종로구    87      2        122     \n",
       "2404 2019  4  종로구    85      0        131     \n",
       "2405 2019  5  종로구   112      1        158     \n",
       "2406 2019  6  종로구    95      1        116     \n",
       "2407 2019  7  종로구    83      0        109     \n",
       "2408 2019  8  종로구   115      0        164     \n",
       "2409 2019  9  종로구    99      0        143     \n",
       "2410 2019 10  종로구   104      0        139     \n",
       "2411 2019 11  종로구   100      0        126     \n",
       "2412 2019 12  종로구   100      0        142     "
      ]
     },
     "metadata": {},
     "output_type": "display_data"
    }
   ],
   "source": [
    "# 종로구 데이터셋 만들기\n",
    "jungRo <- subset(seoul,자치구명=='종로구')\n",
    "jungRo"
   ]
  },
  {
   "cell_type": "code",
   "execution_count": 10,
   "id": "107449f7",
   "metadata": {},
   "outputs": [
    {
     "data": {
      "text/html": [
       "<table>\n",
       "<thead><tr><th scope=col>년도</th><th scope=col>월</th><th scope=col>자치구명</th><th scope=col>발생건수</th><th scope=col>사망자수</th><th scope=col>부상자수</th></tr></thead>\n",
       "<tbody>\n",
       "\t<tr><td>2011  </td><td>1     </td><td>종로구</td><td>115   </td><td>2     </td><td>165   </td></tr>\n",
       "\t<tr><td>2011  </td><td>2     </td><td>종로구</td><td> 99   </td><td>0     </td><td>134   </td></tr>\n",
       "\t<tr><td>2011  </td><td>3     </td><td>종로구</td><td>116   </td><td>0     </td><td>162   </td></tr>\n",
       "\t<tr><td>2011  </td><td>4     </td><td>종로구</td><td>110   </td><td>1     </td><td>153   </td></tr>\n",
       "\t<tr><td>2011  </td><td>5     </td><td>종로구</td><td>122   </td><td>0     </td><td>157   </td></tr>\n",
       "\t<tr><td>2011  </td><td>6     </td><td>종로구</td><td>116   </td><td>3     </td><td>163   </td></tr>\n",
       "</tbody>\n",
       "</table>\n"
      ],
      "text/latex": [
       "\\begin{tabular}{r|llllll}\n",
       " 년도 & 월 & 자치구명 & 발생건수 & 사망자수 & 부상자수\\\\\n",
       "\\hline\n",
       "\t 2011   & 1      & 종로구 & 115    & 2      & 165   \\\\\n",
       "\t 2011   & 2      & 종로구 &  99    & 0      & 134   \\\\\n",
       "\t 2011   & 3      & 종로구 & 116    & 0      & 162   \\\\\n",
       "\t 2011   & 4      & 종로구 & 110    & 1      & 153   \\\\\n",
       "\t 2011   & 5      & 종로구 & 122    & 0      & 157   \\\\\n",
       "\t 2011   & 6      & 종로구 & 116    & 3      & 163   \\\\\n",
       "\\end{tabular}\n"
      ],
      "text/markdown": [
       "\n",
       "| 년도 | 월 | 자치구명 | 발생건수 | 사망자수 | 부상자수 |\n",
       "|---|---|---|---|---|---|\n",
       "| 2011   | 1      | 종로구 | 115    | 2      | 165    |\n",
       "| 2011   | 2      | 종로구 |  99    | 0      | 134    |\n",
       "| 2011   | 3      | 종로구 | 116    | 0      | 162    |\n",
       "| 2011   | 4      | 종로구 | 110    | 1      | 153    |\n",
       "| 2011   | 5      | 종로구 | 122    | 0      | 157    |\n",
       "| 2011   | 6      | 종로구 | 116    | 3      | 163    |\n",
       "\n"
      ],
      "text/plain": [
       "  년도 월 자치구명 발생건수 사망자수 부상자수\n",
       "1 2011 1  종로구   115      2        165     \n",
       "2 2011 2  종로구    99      0        134     \n",
       "3 2011 3  종로구   116      0        162     \n",
       "4 2011 4  종로구   110      1        153     \n",
       "5 2011 5  종로구   122      0        157     \n",
       "6 2011 6  종로구   116      3        163     "
      ]
     },
     "metadata": {},
     "output_type": "display_data"
    },
    {
     "data": {
      "text/html": [
       "<table>\n",
       "<thead><tr><th></th><th scope=col>년도</th><th scope=col>월</th><th scope=col>자치구명</th><th scope=col>발생건수</th><th scope=col>사망자수</th><th scope=col>부상자수</th></tr></thead>\n",
       "<tbody>\n",
       "\t<tr><th scope=row>103</th><td>2019  </td><td> 7    </td><td>종로구</td><td> 83   </td><td>0     </td><td>109   </td></tr>\n",
       "\t<tr><th scope=row>104</th><td>2019  </td><td> 8    </td><td>종로구</td><td>115   </td><td>0     </td><td>164   </td></tr>\n",
       "\t<tr><th scope=row>105</th><td>2019  </td><td> 9    </td><td>종로구</td><td> 99   </td><td>0     </td><td>143   </td></tr>\n",
       "\t<tr><th scope=row>106</th><td>2019  </td><td>10    </td><td>종로구</td><td>104   </td><td>0     </td><td>139   </td></tr>\n",
       "\t<tr><th scope=row>107</th><td>2019  </td><td>11    </td><td>종로구</td><td>100   </td><td>0     </td><td>126   </td></tr>\n",
       "\t<tr><th scope=row>108</th><td>2019  </td><td>12    </td><td>종로구</td><td>100   </td><td>0     </td><td>142   </td></tr>\n",
       "</tbody>\n",
       "</table>\n"
      ],
      "text/latex": [
       "\\begin{tabular}{r|llllll}\n",
       "  & 년도 & 월 & 자치구명 & 발생건수 & 사망자수 & 부상자수\\\\\n",
       "\\hline\n",
       "\t103 & 2019   &  7     & 종로구 &  83    & 0      & 109   \\\\\n",
       "\t104 & 2019   &  8     & 종로구 & 115    & 0      & 164   \\\\\n",
       "\t105 & 2019   &  9     & 종로구 &  99    & 0      & 143   \\\\\n",
       "\t106 & 2019   & 10     & 종로구 & 104    & 0      & 139   \\\\\n",
       "\t107 & 2019   & 11     & 종로구 & 100    & 0      & 126   \\\\\n",
       "\t108 & 2019   & 12     & 종로구 & 100    & 0      & 142   \\\\\n",
       "\\end{tabular}\n"
      ],
      "text/markdown": [
       "\n",
       "| <!--/--> | 년도 | 월 | 자치구명 | 발생건수 | 사망자수 | 부상자수 |\n",
       "|---|---|---|---|---|---|---|\n",
       "| 103 | 2019   |  7     | 종로구 |  83    | 0      | 109    |\n",
       "| 104 | 2019   |  8     | 종로구 | 115    | 0      | 164    |\n",
       "| 105 | 2019   |  9     | 종로구 |  99    | 0      | 143    |\n",
       "| 106 | 2019   | 10     | 종로구 | 104    | 0      | 139    |\n",
       "| 107 | 2019   | 11     | 종로구 | 100    | 0      | 126    |\n",
       "| 108 | 2019   | 12     | 종로구 | 100    | 0      | 142    |\n",
       "\n"
      ],
      "text/plain": [
       "    년도 월 자치구명 발생건수 사망자수 부상자수\n",
       "103 2019  7 종로구    83      0        109     \n",
       "104 2019  8 종로구   115      0        164     \n",
       "105 2019  9 종로구    99      0        143     \n",
       "106 2019 10 종로구   104      0        139     \n",
       "107 2019 11 종로구   100      0        126     \n",
       "108 2019 12 종로구   100      0        142     "
      ]
     },
     "metadata": {},
     "output_type": "display_data"
    }
   ],
   "source": [
    "# row names 정리하기\n",
    "rownames(jungRo)<-c()\n",
    "head(jungRo)\n",
    "tail(jungRo)"
   ]
  },
  {
   "cell_type": "code",
   "execution_count": 11,
   "id": "fdf67052",
   "metadata": {},
   "outputs": [
    {
     "name": "stdout",
     "output_type": "stream",
     "text": [
      "'data.frame':\t108 obs. of  6 variables:\n",
      " $ 년도    : int  2011 2011 2011 2011 2011 2011 2011 2011 2011 2011 ...\n",
      " $ 월      : int  1 2 3 4 5 6 7 8 9 10 ...\n",
      " $ 자치구명: Factor w/ 25 levels \"강남구\",\"강동구\",..: 23 23 23 23 23 23 23 23 23 23 ...\n",
      " $ 발생건수: int  115 99 116 110 122 116 103 122 121 135 ...\n",
      " $ 사망자수: int  2 0 0 1 0 3 1 1 2 2 ...\n",
      " $ 부상자수: int  165 134 162 153 157 163 154 171 166 193 ...\n"
     ]
    }
   ],
   "source": [
    "str(jungRo)"
   ]
  },
  {
   "cell_type": "code",
   "execution_count": 12,
   "id": "2da6f802",
   "metadata": {},
   "outputs": [
    {
     "name": "stdout",
     "output_type": "stream",
     "text": [
      "'data.frame':\t108 obs. of  6 variables:\n",
      " $ 년도    : int  2011 2011 2011 2011 2011 2011 2011 2011 2011 2011 ...\n",
      " $ 월      : int  1 2 3 4 5 6 7 8 9 10 ...\n",
      " $ 자치구명: Factor w/ 1 level \"종로구\": 1 1 1 1 1 1 1 1 1 1 ...\n",
      " $ 발생건수: int  115 99 116 110 122 116 103 122 121 135 ...\n",
      " $ 사망자수: int  2 0 0 1 0 3 1 1 2 2 ...\n",
      " $ 부상자수: int  165 134 162 153 157 163 154 171 166 193 ...\n"
     ]
    }
   ],
   "source": [
    "# factor 정리하기\n",
    "jungRo$자치구명 <- factor(jungRo$자치구명)\n",
    "str(jungRo)"
   ]
  },
  {
   "cell_type": "code",
   "execution_count": 13,
   "id": "21bbf5fb",
   "metadata": {},
   "outputs": [
    {
     "data": {
      "text/html": [
       "0.920891438840356"
      ],
      "text/latex": [
       "0.920891438840356"
      ],
      "text/markdown": [
       "0.920891438840356"
      ],
      "text/plain": [
       "[1] 0.9208914"
      ]
     },
     "metadata": {},
     "output_type": "display_data"
    }
   ],
   "source": [
    "# 종로의 발생건수와 부상자수 상관계수\n",
    "cor(jungRo$발생건수, jungRo$부상자수)"
   ]
  },
  {
   "cell_type": "code",
   "execution_count": 14,
   "id": "1311ad93",
   "metadata": {},
   "outputs": [
    {
     "data": {
      "image/png": "[encoded data removed]",
      "text/plain": [
       "plot without title"
      ]
     },
     "metadata": {},
     "output_type": "display_data"
    }
   ],
   "source": [
    "# 종로구의 발생건수와 부상자수의 산포도와 희귀선 그리기\n",
    "options(warn = -1)\n",
    "par(family=\"AppleGothic\")\n",
    "plot(jungRo$발생건수,jungRo$부상자수)\n",
    "i<-lm(jungRo$부상자수~jungRo$발생건수)\n",
    "abline(i,col=\"green\")"
   ]
  },
  {
   "cell_type": "code",
   "execution_count": 15,
   "id": "30221188",
   "metadata": {},
   "outputs": [
    {
     "data": {
      "text/plain": [
       "\n",
       "Call:\n",
       "lm(formula = jungRo$부상자수 ~ jungRo$발생건수)\n",
       "\n",
       "Residuals:\n",
       "    Min      1Q  Median      3Q     Max \n",
       "-21.637  -5.949  -0.019   5.301  33.961 \n",
       "\n",
       "Coefficients:\n",
       "                Estimate Std. Error t value Pr(>|t|)    \n",
       "(Intercept)      2.88612    6.05535   0.477    0.635    \n",
       "jungRo$발생건수  1.35993    0.05591  24.322   <2e-16 ***\n",
       "---\n",
       "Signif. codes:  0 ‘***’ 0.001 ‘**’ 0.01 ‘*’ 0.05 ‘.’ 0.1 ‘ ’ 1\n",
       "\n",
       "Residual standard error: 9.816 on 106 degrees of freedom\n",
       "Multiple R-squared:  0.848,\tAdjusted R-squared:  0.8466 \n",
       "F-statistic: 591.6 on 1 and 106 DF,  p-value: < 2.2e-16\n"
      ]
     },
     "metadata": {},
     "output_type": "display_data"
    }
   ],
   "source": [
    "# 예측력\n",
    "summary(i)"
   ]
  },
  {
   "cell_type": "markdown",
   "id": "ef50ff6f",
   "metadata": {},
   "source": [
    "- p-value: < 2.2e-16\n",
    " \n",
    "- Adjusted R-squared:  0.8466 \n",
    "\n",
    "- Residual standard error: 9.816 on 106 degrees of freedom"
   ]
  },
  {
   "cell_type": "code",
   "execution_count": 16,
   "id": "71802fdd",
   "metadata": {},
   "outputs": [
    {
     "data": {
      "text/plain": [
       "\n",
       "Call:\n",
       "lm(formula = jungRo$부상자수 ~ jungRo$발생건수)\n",
       "\n",
       "Coefficients:\n",
       "    (Intercept)  jungRo$발생건수  \n",
       "          2.886            1.360  \n"
      ]
     },
     "metadata": {},
     "output_type": "display_data"
    }
   ],
   "source": [
    "i"
   ]
  },
  {
   "cell_type": "code",
   "execution_count": 17,
   "id": "2d1ee401",
   "metadata": {},
   "outputs": [
    {
     "name": "stdout",
     "output_type": "stream",
     "text": [
      "131.02 ~ 17.39"
     ]
    }
   ],
   "source": [
    "cat(1.360 * 100 -4.98,\"~\",0.1241 * 100+4.98)"
   ]
  },
  {
   "cell_type": "code",
   "execution_count": 18,
   "id": "a8c6ab8d",
   "metadata": {},
   "outputs": [
    {
     "data": {
      "text/html": [
       "138.886"
      ],
      "text/latex": [
       "138.886"
      ],
      "text/markdown": [
       "138.886"
      ],
      "text/plain": [
       "[1] 138.886"
      ]
     },
     "metadata": {},
     "output_type": "display_data"
    }
   ],
   "source": [
    "# 회귀식\n",
    "# - 발생건수가 100건일 경우의 부상자수 예측\n",
    "1.360 * 100 + (2.886)"
   ]
  },
  {
   "cell_type": "code",
   "execution_count": 19,
   "id": "3d5e6321",
   "metadata": {},
   "outputs": [],
   "source": [
    "jungRo1 <-lm(부상자수 ~ 발생건수, data = jungRo)"
   ]
  },
  {
   "cell_type": "code",
   "execution_count": 20,
   "id": "1e029177",
   "metadata": {},
   "outputs": [
    {
     "data": {
      "text/plain": [
       "\n",
       "Call:\n",
       "lm(formula = 부상자수 ~ 발생건수, data = jungRo)\n",
       "\n",
       "Residuals:\n",
       "    Min      1Q  Median      3Q     Max \n",
       "-21.637  -5.949  -0.019   5.301  33.961 \n",
       "\n",
       "Coefficients:\n",
       "            Estimate Std. Error t value Pr(>|t|)    \n",
       "(Intercept)  2.88612    6.05535   0.477    0.635    \n",
       "발생건수     1.35993    0.05591  24.322   <2e-16 ***\n",
       "---\n",
       "Signif. codes:  0 ‘***’ 0.001 ‘**’ 0.01 ‘*’ 0.05 ‘.’ 0.1 ‘ ’ 1\n",
       "\n",
       "Residual standard error: 9.816 on 106 degrees of freedom\n",
       "Multiple R-squared:  0.848,\tAdjusted R-squared:  0.8466 \n",
       "F-statistic: 591.6 on 1 and 106 DF,  p-value: < 2.2e-16\n"
      ]
     },
     "metadata": {},
     "output_type": "display_data"
    }
   ],
   "source": [
    "summary(jungRo1)"
   ]
  },
  {
   "cell_type": "markdown",
   "id": "499a9a5e",
   "metadata": {},
   "source": [
    "p-value: < 2.2e-16\n",
    "Adjusted R-squared:  0.8466 \n",
    "Residual standard error: 9.816 on 106 degrees of freedom"
   ]
  },
  {
   "cell_type": "code",
   "execution_count": 21,
   "id": "f4e1a906",
   "metadata": {},
   "outputs": [
    {
     "data": {
      "text/plain": [
       "\n",
       "Call:\n",
       "lm(formula = 부상자수 ~ 발생건수, data = jungRo)\n",
       "\n",
       "Coefficients:\n",
       "(Intercept)     발생건수  \n",
       "      2.886        1.360  \n"
      ]
     },
     "metadata": {},
     "output_type": "display_data"
    }
   ],
   "source": [
    "jungRo1"
   ]
  },
  {
   "cell_type": "code",
   "execution_count": 31,
   "id": "3ed4cb66",
   "metadata": {},
   "outputs": [
    {
     "data": {
      "text/html": [
       "138.886"
      ],
      "text/latex": [
       "138.886"
      ],
      "text/markdown": [
       "138.886"
      ],
      "text/plain": [
       "[1] 138.886"
      ]
     },
     "metadata": {},
     "output_type": "display_data"
    }
   ],
   "source": [
    "1.360 * 100 + 2.886"
   ]
  },
  {
   "cell_type": "code",
   "execution_count": 32,
   "id": "9071657a",
   "metadata": {},
   "outputs": [
    {
     "name": "stdout",
     "output_type": "stream",
     "text": [
      "126.184 ~ 145.816"
     ]
    }
   ],
   "source": [
    "cat(1.360 * 100 - 9.816,\"~\",1.360 * 100 + 9.816)"
   ]
  },
  {
   "cell_type": "code",
   "execution_count": 33,
   "id": "a726088b",
   "metadata": {},
   "outputs": [],
   "source": [
    "# 랜덤 포레스트로 예측\n",
    "# - 발생건수가 100건일 경우의 부상자수 예측\n",
    "# Sampling \n",
    "library(caret)\n",
    "\n",
    "# 학습용 데이터 만들기\n",
    "data.tr <- seoul[,]\n",
    "# 문제 및 정답 만들기\n",
    "x <- subset(data.test,select =-발생건수)\n",
    "y <- data.test$발생건수"
   ]
  },
  {
   "cell_type": "code",
   "execution_count": 38,
   "id": "57fa0f66",
   "metadata": {},
   "outputs": [],
   "source": [
    "# 학습시키기\n",
    "jungRo.rf <- randomForest(부상자수 ~ 발생건수, data = data.tr, ntree = 100) #ctree "
   ]
  },
  {
   "cell_type": "code",
   "execution_count": 39,
   "id": "bb3d647e",
   "metadata": {},
   "outputs": [
    {
     "data": {
      "text/plain": [
       "\n",
       "Call:\n",
       " randomForest(formula = 부상자수 ~ 발생건수, data = data.tr,      ntree = 100) \n",
       "               Type of random forest: regression\n",
       "                     Number of trees: 100\n",
       "No. of variables tried at each split: 1\n",
       "\n",
       "          Mean of squared residuals: 254.0603\n",
       "                    % Var explained: 95.85"
      ]
     },
     "metadata": {},
     "output_type": "display_data"
    }
   ],
   "source": [
    "jungRo.rf"
   ]
  },
  {
   "cell_type": "code",
   "execution_count": null,
   "id": "923a4374",
   "metadata": {
    "scrolled": true
   },
   "outputs": [],
   "source": []
  },
  {
   "cell_type": "code",
   "execution_count": null,
   "id": "59accace",
   "metadata": {},
   "outputs": [],
   "source": []
  }
 ],
 "metadata": {
  "kernelspec": {
   "display_name": "R",
   "language": "R",
   "name": "ir"
  },
  "language_info": {
   "codemirror_mode": "r",
   "file_extension": ".r",
   "mimetype": "text/x-r-source",
   "name": "R",
   "pygments_lexer": "r",
   "version": "3.6.1"
  }
 },
 "nbformat": 4,
 "nbformat_minor": 5
}

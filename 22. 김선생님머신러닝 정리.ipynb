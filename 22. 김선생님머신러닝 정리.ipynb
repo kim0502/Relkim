{
 "cells": [
  {
   "cell_type": "code",
   "execution_count": 1,
   "id": "41259daf",
   "metadata": {},
   "outputs": [
    {
     "name": "stderr",
     "output_type": "stream",
     "text": [
      "Loading required package: lattice\n",
      "Loading required package: ggplot2\n",
      "Registered S3 methods overwritten by 'ggplot2':\n",
      "  method         from \n",
      "  [.quosures     rlang\n",
      "  c.quosures     rlang\n",
      "  print.quosures rlang\n",
      "randomForest 4.6-14\n",
      "Type rfNews() to see new features/changes/bug fixes.\n",
      "\n",
      "Attaching package: ‘randomForest’\n",
      "\n",
      "The following object is masked from ‘package:ggplot2’:\n",
      "\n",
      "    margin\n",
      "\n",
      "Loading required package: grid\n",
      "Loading required package: mvtnorm\n",
      "Loading required package: modeltools\n",
      "Loading required package: stats4\n",
      "Loading required package: strucchange\n",
      "Loading required package: zoo\n",
      "\n",
      "Attaching package: ‘zoo’\n",
      "\n",
      "The following objects are masked from ‘package:base’:\n",
      "\n",
      "    as.Date, as.Date.numeric\n",
      "\n",
      "Loading required package: sandwich\n"
     ]
    }
   ],
   "source": [
    "library(caret) #sample\n",
    "library(nnet) #인공신경망 , 다항 로지스틱 회귀분석\n",
    "library(e1071) # svm\n",
    "library(randomForest) # randomForest\n",
    "library(party) # 의사결정나무 ctree"
   ]
  },
  {
   "cell_type": "code",
   "execution_count": 2,
   "id": "11297c60",
   "metadata": {},
   "outputs": [],
   "source": [
    "# 표준화\n",
    "iris2 <- iris\n",
    "iris2[,1:4] <- as.data.frame(scale(iris[,1:4]))"
   ]
  },
  {
   "cell_type": "code",
   "execution_count": 3,
   "id": "fa18a785",
   "metadata": {},
   "outputs": [],
   "source": [
    "# 샘플나누기\n",
    "\n",
    "sampling <- function(){\n",
    "samp <<- createDataPartition(iris2$Species , p = 0.7,list = F) #<<-를 하는 이유는 외부데이터를 손상되게 하지 않기 위함이다.\n",
    "data.tr <<- iris2[samp,]                                       #단, function내에서만 가능하다.\n",
    "data.test <<- iris2[-samp,]\n",
    "\n",
    "x <<- subset(data.test, select = -Species)\n",
    "y <<- data.test$Species\n",
    "    \n",
    "}    \n"
   ]
  },
  {
   "cell_type": "code",
   "execution_count": 4,
   "id": "5f30e93c",
   "metadata": {},
   "outputs": [
    {
     "data": {
      "text/html": [
       "<table>\n",
       "<thead><tr><th scope=col>Resample1</th></tr></thead>\n",
       "<tbody>\n",
       "\t<tr><td> 1</td></tr>\n",
       "\t<tr><td> 4</td></tr>\n",
       "\t<tr><td> 6</td></tr>\n",
       "\t<tr><td> 8</td></tr>\n",
       "\t<tr><td> 9</td></tr>\n",
       "\t<tr><td>11</td></tr>\n",
       "</tbody>\n",
       "</table>\n"
      ],
      "text/latex": [
       "\\begin{tabular}{l}\n",
       " Resample1\\\\\n",
       "\\hline\n",
       "\t  1\\\\\n",
       "\t  4\\\\\n",
       "\t  6\\\\\n",
       "\t  8\\\\\n",
       "\t  9\\\\\n",
       "\t 11\\\\\n",
       "\\end{tabular}\n"
      ],
      "text/markdown": [
       "\n",
       "| Resample1 |\n",
       "|---|\n",
       "|  1 |\n",
       "|  4 |\n",
       "|  6 |\n",
       "|  8 |\n",
       "|  9 |\n",
       "| 11 |\n",
       "\n"
      ],
      "text/plain": [
       "     Resample1\n",
       "[1,]  1       \n",
       "[2,]  4       \n",
       "[3,]  6       \n",
       "[4,]  8       \n",
       "[5,]  9       \n",
       "[6,] 11       "
      ]
     },
     "metadata": {},
     "output_type": "display_data"
    }
   ],
   "source": [
    "sampling() \n",
    "head(samp)"
   ]
  },
  {
   "cell_type": "code",
   "execution_count": 5,
   "id": "4d694208",
   "metadata": {},
   "outputs": [],
   "source": [
    "#인공신경망 테스트\n",
    "ANN <- function(data.tr , data.test , x , y ){\n",
    "    model.nnet <- nnet(Species ~. , data = data.tr , size = 3)\n",
    "    pred <- predict(model.nnet , x , type = \"class\")\n",
    "    cat(\"예측력\" ,mean(pred == y), \"입니다.\")\n",
    "    table(pred,y)\n",
    "    return(mean(pred == y))\n",
    "}"
   ]
  },
  {
   "cell_type": "code",
   "execution_count": 6,
   "id": "769e8e02",
   "metadata": {},
   "outputs": [
    {
     "name": "stdout",
     "output_type": "stream",
     "text": [
      "# weights:  27\n",
      "initial  value 118.942486 \n",
      "iter  10 value 9.376956\n",
      "iter  20 value 5.421462\n",
      "iter  30 value 4.848747\n",
      "iter  40 value 2.849455\n",
      "iter  50 value 2.582820\n",
      "iter  60 value 2.514409\n",
      "iter  70 value 2.512740\n",
      "iter  80 value 2.512677\n",
      "iter  90 value 2.504322\n",
      "iter 100 value 2.499741\n",
      "final  value 2.499741 \n",
      "stopped after 100 iterations\n",
      "예측력 0.9777778 입니다."
     ]
    },
    {
     "data": {
      "text/html": [
       "0.977777777777778"
      ],
      "text/latex": [
       "0.977777777777778"
      ],
      "text/markdown": [
       "0.977777777777778"
      ],
      "text/plain": [
       "[1] 0.9777778"
      ]
     },
     "metadata": {},
     "output_type": "display_data"
    }
   ],
   "source": [
    "ANN(data.tr , data.test , x , y )"
   ]
  },
  {
   "cell_type": "code",
   "execution_count": 7,
   "id": "047fa4fa",
   "metadata": {},
   "outputs": [],
   "source": [
    "#의사결정 나무 \n",
    "CTREE <-function(data.tr , data.test , x , y ){\n",
    "    model.ctree <- ctree(Species ~ . , data=data.tr)\n",
    "    pred <- predict(model.ctree , x )\n",
    "    cat(\"예측력\" ,mean(pred == y), \"입니다.\")\n",
    "    table(pred,y)\n",
    "    return(mean(pred == y))\n",
    "}"
   ]
  },
  {
   "cell_type": "code",
   "execution_count": 8,
   "id": "1072ebbd",
   "metadata": {},
   "outputs": [
    {
     "name": "stdout",
     "output_type": "stream",
     "text": [
      "예측력 0.9777778 입니다."
     ]
    },
    {
     "data": {
      "text/html": [
       "0.977777777777778"
      ],
      "text/latex": [
       "0.977777777777778"
      ],
      "text/markdown": [
       "0.977777777777778"
      ],
      "text/plain": [
       "[1] 0.9777778"
      ]
     },
     "metadata": {},
     "output_type": "display_data"
    }
   ],
   "source": [
    " CTREE(data.tr , data.test , x , y )"
   ]
  },
  {
   "cell_type": "code",
   "execution_count": 9,
   "id": "71a7c79d",
   "metadata": {},
   "outputs": [],
   "source": [
    "#RandomForesst\n",
    "RandomForest<-function(data.tr , data.test , x , y ){\n",
    "    model.rf <- randomForest(Species ~ . , data=data.tr, ntree = 100)\n",
    "    pred <- predict(model.rf , x )\n",
    "    cat(\"예측력\" ,mean(pred == y), \"입니다.\")\n",
    "    table(pred,y)\n",
    "    return(mean(pred == y))\n",
    "} "
   ]
  },
  {
   "cell_type": "code",
   "execution_count": 10,
   "id": "0d3d0d35",
   "metadata": {},
   "outputs": [],
   "source": [
    "#SVM\n",
    "SVM <-function(data.tr , data.test , x , y ){\n",
    "    model.svm <- svm(Species ~ . , data=data.tr)\n",
    "    pred <- predict(model.svm , x )\n",
    "    cat(\"예측력\" ,mean(pred == y), \"입니다.\")\n",
    "    table(pred,y)\n",
    "    return(mean(pred == y))\n",
    "} "
   ]
  },
  {
   "cell_type": "code",
   "execution_count": 11,
   "id": "632f72bb",
   "metadata": {},
   "outputs": [],
   "source": [
    "#Logistic regression\n",
    "Logisticreg <-function(data.tr , data.test , x , y ){\n",
    "    model.log <- multinom(Species ~ . , data=data.tr)\n",
    "    pred <- predict(model.log , x )\n",
    "    cat(\"예측력\" ,mean(pred == y), \"입니다.\")\n",
    "    table(pred,y)\n",
    "    return(mean(pred == y))\n",
    "} "
   ]
  },
  {
   "cell_type": "code",
   "execution_count": 12,
   "id": "04a9a96a",
   "metadata": {},
   "outputs": [
    {
     "name": "stdout",
     "output_type": "stream",
     "text": [
      "# weights:  27\n",
      "initial  value 114.293171 \n",
      "iter  10 value 10.011981\n",
      "iter  20 value 5.049550\n",
      "iter  30 value 4.769650\n",
      "iter  40 value 4.669557\n",
      "iter  50 value 4.523197\n",
      "iter  60 value 3.542283\n",
      "iter  70 value 3.285796\n",
      "iter  80 value 2.534845\n",
      "iter  90 value 2.003490\n",
      "iter 100 value 1.975240\n",
      "final  value 1.975240 \n",
      "stopped after 100 iterations\n",
      "예측력 0.9555556 입니다.예측력 0.9777778 입니다.예측력 0.9777778 입니다.예측력 1 입니다.# weights:  18 (10 variable)\n",
      "initial  value 115.354290 \n",
      "iter  10 value 13.176781\n",
      "iter  20 value 5.323601\n",
      "iter  30 value 5.308446\n",
      "iter  40 value 5.303851\n",
      "iter  50 value 5.300993\n",
      "iter  60 value 5.300580\n",
      "iter  70 value 5.299575\n",
      "iter  80 value 5.299314\n",
      "iter  90 value 5.299060\n",
      "iter 100 value 5.298901\n",
      "final  value 5.298901 \n",
      "stopped after 100 iterations\n",
      "예측력 1 입니다.# weights:  27\n",
      "initial  value 143.986036 \n",
      "iter  10 value 23.690514\n",
      "iter  20 value 6.548084\n",
      "iter  30 value 5.497091\n",
      "iter  40 value 2.264104\n",
      "iter  50 value 0.153754\n",
      "iter  60 value 0.008709\n",
      "iter  70 value 0.001569\n",
      "iter  80 value 0.000238\n",
      "iter  90 value 0.000105\n",
      "final  value 0.000095 \n",
      "converged\n",
      "예측력 0.9555556 입니다.예측력 0.9777778 입니다.예측력 0.9777778 입니다.예측력 1 입니다.# weights:  18 (10 variable)\n",
      "initial  value 115.354290 \n",
      "iter  10 value 13.176781\n",
      "iter  20 value 5.323601\n",
      "iter  30 value 5.308446\n",
      "iter  40 value 5.303851\n",
      "iter  50 value 5.300993\n",
      "iter  60 value 5.300580\n",
      "iter  70 value 5.299575\n",
      "iter  80 value 5.299314\n",
      "iter  90 value 5.299060\n",
      "iter 100 value 5.298901\n",
      "final  value 5.298901 \n",
      "stopped after 100 iterations\n",
      "예측력 1 입니다.# weights:  27\n",
      "initial  value 136.141230 \n",
      "iter  10 value 12.134838\n",
      "iter  20 value 5.760516\n",
      "iter  30 value 5.395155\n",
      "iter  40 value 5.313264\n",
      "iter  50 value 5.103735\n",
      "iter  60 value 4.994254\n",
      "iter  70 value 4.988395\n",
      "iter  80 value 4.978159\n",
      "iter  90 value 4.967870\n",
      "iter 100 value 4.959707\n",
      "final  value 4.959707 \n",
      "stopped after 100 iterations\n",
      "예측력 0.9777778 입니다.예측력 0.9777778 입니다.예측력 0.9777778 입니다.예측력 1 입니다.# weights:  18 (10 variable)\n",
      "initial  value 115.354290 \n",
      "iter  10 value 13.176781\n",
      "iter  20 value 5.323601\n",
      "iter  30 value 5.308446\n",
      "iter  40 value 5.303851\n",
      "iter  50 value 5.300993\n",
      "iter  60 value 5.300580\n",
      "iter  70 value 5.299575\n",
      "iter  80 value 5.299314\n",
      "iter  90 value 5.299060\n",
      "iter 100 value 5.298901\n",
      "final  value 5.298901 \n",
      "stopped after 100 iterations\n",
      "예측력 1 입니다.# weights:  27\n",
      "initial  value 110.590763 \n",
      "iter  10 value 11.661166\n",
      "iter  20 value 5.433791\n",
      "iter  30 value 4.889764\n",
      "iter  40 value 4.754530\n",
      "iter  50 value 4.735317\n",
      "iter  60 value 4.728761\n",
      "iter  70 value 4.728501\n",
      "iter  80 value 4.727168\n",
      "iter  90 value 4.726000\n",
      "iter 100 value 4.725702\n",
      "final  value 4.725702 \n",
      "stopped after 100 iterations\n",
      "예측력 1 입니다.예측력 0.9777778 입니다.예측력 0.9555556 입니다.예측력 1 입니다.# weights:  18 (10 variable)\n",
      "initial  value 115.354290 \n",
      "iter  10 value 13.176781\n",
      "iter  20 value 5.323601\n",
      "iter  30 value 5.308446\n",
      "iter  40 value 5.303851\n",
      "iter  50 value 5.300993\n",
      "iter  60 value 5.300580\n",
      "iter  70 value 5.299575\n",
      "iter  80 value 5.299314\n",
      "iter  90 value 5.299060\n",
      "iter 100 value 5.298901\n",
      "final  value 5.298901 \n",
      "stopped after 100 iterations\n",
      "예측력 1 입니다.# weights:  27\n",
      "initial  value 120.228461 \n",
      "iter  10 value 15.875879\n",
      "iter  20 value 5.853116\n",
      "iter  30 value 5.433895\n",
      "iter  40 value 5.327110\n",
      "iter  50 value 5.311075\n",
      "iter  60 value 5.306055\n",
      "iter  70 value 5.292523\n",
      "iter  80 value 5.270402\n",
      "iter  90 value 5.232532\n",
      "iter 100 value 5.201725\n",
      "final  value 5.201725 \n",
      "stopped after 100 iterations\n",
      "예측력 1 입니다.예측력 0.9777778 입니다.예측력 0.9555556 입니다.예측력 1 입니다.# weights:  18 (10 variable)\n",
      "initial  value 115.354290 \n",
      "iter  10 value 13.176781\n",
      "iter  20 value 5.323601\n",
      "iter  30 value 5.308446\n",
      "iter  40 value 5.303851\n",
      "iter  50 value 5.300993\n",
      "iter  60 value 5.300580\n",
      "iter  70 value 5.299575\n",
      "iter  80 value 5.299314\n",
      "iter  90 value 5.299060\n",
      "iter 100 value 5.298901\n",
      "final  value 5.298901 \n",
      "stopped after 100 iterations\n",
      "예측력 1 입니다."
     ]
    },
    {
     "data": {
      "text/html": [
       "<table>\n",
       "<thead><tr><th></th><th scope=col>예측력</th></tr></thead>\n",
       "<tbody>\n",
       "\t<tr><th scope=row>인공신경망</th><td>0.9777778</td></tr>\n",
       "\t<tr><th scope=row>의사결정나무</th><td>0.9777778</td></tr>\n",
       "\t<tr><th scope=row>RandomForest</th><td>0.9688889</td></tr>\n",
       "\t<tr><th scope=row>SVM</th><td>1.0000000</td></tr>\n",
       "\t<tr><th scope=row>로지스틱회귀분석</th><td>1.0000000</td></tr>\n",
       "</tbody>\n",
       "</table>\n"
      ],
      "text/latex": [
       "\\begin{tabular}{r|l}\n",
       "  & 예측력\\\\\n",
       "\\hline\n",
       "\t인공신경망 & 0.9777778\\\\\n",
       "\t의사결정나무 & 0.9777778\\\\\n",
       "\tRandomForest & 0.9688889\\\\\n",
       "\tSVM & 1.0000000\\\\\n",
       "\t로지스틱회귀분석 & 1.0000000\\\\\n",
       "\\end{tabular}\n"
      ],
      "text/markdown": [
       "\n",
       "| <!--/--> | 예측력 |\n",
       "|---|---|\n",
       "| 인공신경망 | 0.9777778 |\n",
       "| 의사결정나무 | 0.9777778 |\n",
       "| RandomForest | 0.9688889 |\n",
       "| SVM | 1.0000000 |\n",
       "| 로지스틱회귀분석 | 1.0000000 |\n",
       "\n"
      ],
      "text/plain": [
       "                 예측력   \n",
       "인공신경망       0.9777778\n",
       "의사결정나무     0.9777778\n",
       "RandomForest     0.9688889\n",
       "SVM              1.0000000\n",
       "로지스틱회귀분석 1.0000000"
      ]
     },
     "metadata": {},
     "output_type": "display_data"
    }
   ],
   "source": [
    "a <- rep(0,5)\n",
    "iteration <- 5\n",
    "for(i in 1:iteration){\n",
    "    \n",
    "    a = a + c(\n",
    "            ANN(data.tr , data.test , x , y ),\n",
    "            CTREE(data.tr , data.test , x , y ),\n",
    "            RandomForest(data.tr , data.test , x , y ),\n",
    "            SVM(data.tr , data.test , x , y ),\n",
    "            Logisticreg(data.tr , data.test , x , y )\n",
    "    )\n",
    "    \n",
    "}\n",
    "a<- a/iteration\n",
    "\n",
    "result<-data.frame(예측력 = a)\n",
    "rownames(result) = c(\"인공신경망\",\"의사결정나무\",\"RandomForest\",\"SVM\",\"로지스틱회귀분석\")\n",
    "result"
   ]
  },
  {
   "cell_type": "code",
   "execution_count": 14,
   "id": "f6884563",
   "metadata": {},
   "outputs": [
    {
     "data": {
      "text/html": [
       "<table>\n",
       "<thead><tr><th></th><th scope=col>예측력</th></tr></thead>\n",
       "<tbody>\n",
       "\t<tr><th scope=row>인공신경망</th><td>0.9777778</td></tr>\n",
       "\t<tr><th scope=row>의사결정나무</th><td>0.9777778</td></tr>\n",
       "\t<tr><th scope=row>RandomForest</th><td>0.9688889</td></tr>\n",
       "\t<tr><th scope=row>SVM</th><td>1.0000000</td></tr>\n",
       "\t<tr><th scope=row>로지스틱회귀분석</th><td>1.0000000</td></tr>\n",
       "</tbody>\n",
       "</table>\n"
      ],
      "text/latex": [
       "\\begin{tabular}{r|l}\n",
       "  & 예측력\\\\\n",
       "\\hline\n",
       "\t인공신경망 & 0.9777778\\\\\n",
       "\t의사결정나무 & 0.9777778\\\\\n",
       "\tRandomForest & 0.9688889\\\\\n",
       "\tSVM & 1.0000000\\\\\n",
       "\t로지스틱회귀분석 & 1.0000000\\\\\n",
       "\\end{tabular}\n"
      ],
      "text/markdown": [
       "\n",
       "| <!--/--> | 예측력 |\n",
       "|---|---|\n",
       "| 인공신경망 | 0.9777778 |\n",
       "| 의사결정나무 | 0.9777778 |\n",
       "| RandomForest | 0.9688889 |\n",
       "| SVM | 1.0000000 |\n",
       "| 로지스틱회귀분석 | 1.0000000 |\n",
       "\n"
      ],
      "text/plain": [
       "                 예측력   \n",
       "인공신경망       0.9777778\n",
       "의사결정나무     0.9777778\n",
       "RandomForest     0.9688889\n",
       "SVM              1.0000000\n",
       "로지스틱회귀분석 1.0000000"
      ]
     },
     "metadata": {},
     "output_type": "display_data"
    }
   ],
   "source": [
    "result"
   ]
  },
  {
   "cell_type": "code",
   "execution_count": null,
   "id": "f5f6b6df",
   "metadata": {},
   "outputs": [],
   "source": []
  },
  {
   "cell_type": "code",
   "execution_count": null,
   "id": "9da4cc76",
   "metadata": {},
   "outputs": [],
   "source": []
  },
  {
   "cell_type": "code",
   "execution_count": null,
   "id": "7e2f0f38",
   "metadata": {},
   "outputs": [],
   "source": []
  },
  {
   "cell_type": "code",
   "execution_count": null,
   "id": "267ade89",
   "metadata": {},
   "outputs": [],
   "source": []
  },
  {
   "cell_type": "code",
   "execution_count": null,
   "id": "46481684",
   "metadata": {},
   "outputs": [],
   "source": []
  },
  {
   "cell_type": "code",
   "execution_count": null,
   "id": "dd52a5b5",
   "metadata": {},
   "outputs": [],
   "source": []
  },
  {
   "cell_type": "code",
   "execution_count": null,
   "id": "3f1118ee",
   "metadata": {},
   "outputs": [],
   "source": []
  },
  {
   "cell_type": "code",
   "execution_count": null,
   "id": "6b42de1a",
   "metadata": {},
   "outputs": [],
   "source": []
  }
 ],
 "metadata": {
  "kernelspec": {
   "display_name": "R",
   "language": "R",
   "name": "ir"
  },
  "language_info": {
   "codemirror_mode": "r",
   "file_extension": ".r",
   "mimetype": "text/x-r-source",
   "name": "R",
   "pygments_lexer": "r",
   "version": "3.6.1"
  }
 },
 "nbformat": 4,
 "nbformat_minor": 5
}

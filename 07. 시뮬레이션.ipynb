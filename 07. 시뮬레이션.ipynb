{
 "cells": [
  {
   "cell_type": "markdown",
   "id": "6f56676f",
   "metadata": {},
   "source": [
    "# 몬테카를로 시뮬레이션"
   ]
  },
  {
   "cell_type": "markdown",
   "id": "cd5953d3",
   "metadata": {},
   "source": [
    "-데이터가 없어서 시뮬레이션을 사용한다.<br>\n",
    "-데이터가 난수(runif함수:정규분포)로 사용한다.<br>\n",
    "-분석에 쓰이는 시뮬레이션은 몬테카를로 시뮬레이션 <br>"
   ]
  },
  {
   "cell_type": "markdown",
   "id": "1f645db9",
   "metadata": {},
   "source": [
    "### 동전 앞면과 뒷면 시뮬레이션"
   ]
  },
  {
   "cell_type": "code",
   "execution_count": 6,
   "id": "e1dd93b4",
   "metadata": {
    "vscode": {
     "languageId": "r"
    }
   },
   "outputs": [
    {
     "name": "stdout",
     "output_type": "stream",
     "text": [
      "[1] 1\n"
     ]
    }
   ],
   "source": [
    "x <- runif(1)            # 난수 하나만 생성하겠다. runif(가지고 올 갯수, 최소값, 최대값).   0 < runif < 1 이다.\n",
    "if(x <= 1/2){\n",
    "    result = 0 #앞면\n",
    "}else{\n",
    "    result = 1 #뒷면\n",
    "}\n",
    "\n",
    "print(result)\n"
   ]
  },
  {
   "cell_type": "code",
   "execution_count": 14,
   "id": "c14cf307",
   "metadata": {
    "vscode": {
     "languageId": "r"
    }
   },
   "outputs": [],
   "source": [
    "coin <- function(n){\n",
    "    count1 = 0 # 앞면 \n",
    "    count2 = 0 # 뒷면\n",
    "    for(i in 1:n){\n",
    "        if(runif(1) <= 1/2){\n",
    "            count1 = count1 + 1 \n",
    "        }else{\n",
    "            count2 = count2 + 1\n",
    "        }\n",
    "    }\n",
    "    cat(\"앞면 :\", count1, \"\\n\")\n",
    "    cat(\"뒷면 :\", count2, \"\\n\")\n",
    "    cat(\"--------------------\\n\")\n",
    "}"
   ]
  },
  {
   "cell_type": "code",
   "execution_count": 15,
   "id": "605f60ba",
   "metadata": {
    "vscode": {
     "languageId": "r"
    }
   },
   "outputs": [
    {
     "name": "stdout",
     "output_type": "stream",
     "text": [
      "앞면 : 7 \n",
      "뒷면 : 3 \n",
      "--------------------\n",
      " 앞면 : 53 \n",
      "뒷면 : 47 \n",
      "--------------------\n",
      " 앞면 : 506 \n",
      "뒷면 : 494 \n",
      "--------------------\n",
      " 앞면 : 5058 \n",
      "뒷면 : 4942 \n",
      "--------------------\n",
      " 앞면 : 49942 \n",
      "뒷면 : 50058 \n",
      "--------------------\n",
      " 앞면 : 499416 \n",
      "뒷면 : 500584 \n",
      "--------------------\n",
      " "
     ]
    }
   ],
   "source": [
    "coin(10)\n",
    "coin(100)\n",
    "coin(1000)\n",
    "coin(10000)\n",
    "coin(100000)\n",
    "coin(1000000)"
   ]
  },
  {
   "cell_type": "markdown",
   "id": "766874de",
   "metadata": {},
   "source": [
    "### 가위,바위,보 시뮬레이션\n"
   ]
  },
  {
   "cell_type": "code",
   "execution_count": 7,
   "id": "1dd2df04",
   "metadata": {
    "vscode": {
     "languageId": "r"
    }
   },
   "outputs": [],
   "source": [
    "rock <- function(a){  #function(parameter)\n",
    "    count1 = 0 #묵\n",
    "    count2 = 0 #찌\n",
    "    count3 = 0 #빠\n",
    "    \n",
    "    for(i in 1:a){\n",
    "        x <- runif(1)\n",
    "        if(x <= 1/3){\n",
    "            count1 = count1 + 1 \n",
    "        }else if(x <=2/3 ){\n",
    "            count2 = count2 + 1\n",
    "        }else{ count3 = count3 + 1}\n",
    "    }\n",
    "    cat(\"묵 :\", count1, \"\\n\")\n",
    "    cat(\"찌 :\", count2, \"\\n\")\n",
    "    cat(\"빠 :\", count3, \"\\n\")\n",
    "    cat(\"--------------------\\n\")\n",
    "}"
   ]
  },
  {
   "cell_type": "code",
   "execution_count": 8,
   "id": "2dbdf217",
   "metadata": {
    "vscode": {
     "languageId": "r"
    }
   },
   "outputs": [
    {
     "name": "stdout",
     "output_type": "stream",
     "text": [
      "묵 : 4 \n",
      "찌 : 5 \n",
      "빠 : 1 \n",
      "--------------------\n",
      "묵 : 34 \n",
      "찌 : 32 \n",
      "빠 : 34 \n",
      "--------------------\n",
      "묵 : 340 \n",
      "찌 : 329 \n",
      "빠 : 331 \n",
      "--------------------\n",
      "묵 : 3326 \n",
      "찌 : 3299 \n",
      "빠 : 3375 \n",
      "--------------------\n",
      "묵 : 33319 \n",
      "찌 : 33140 \n",
      "빠 : 33541 \n",
      "--------------------\n",
      "묵 : 333105 \n",
      "찌 : 333673 \n",
      "빠 : 333222 \n",
      "--------------------\n"
     ]
    }
   ],
   "source": [
    "rock(10)\n",
    "rock(100)\n",
    "rock(1000)\n",
    "rock(10000)\n",
    "rock(100000)\n",
    "rock(1000000)"
   ]
  },
  {
   "cell_type": "code",
   "execution_count": 11,
   "id": "553858ee",
   "metadata": {
    "vscode": {
     "languageId": "r"
    }
   },
   "outputs": [],
   "source": [
    "rock1 <- function(a){\n",
    "    count1 = 0 #묵\n",
    "    count2 = 0 #찌\n",
    "    count3 = 0 #빠\n",
    "    \n",
    "    for(i in 1:a){\n",
    "        x <- trunc(runif(1) * 3) + 1\n",
    "        if(x==1) count1 = count1 +1\n",
    "        if(x==2) count2 = count2 +1\n",
    "        if(x==3) count3 = count3 +1\n",
    "        }\n",
    "    cat(\"묵 :\", count1, \"\\n\")\n",
    "    cat(\"찌 :\", count2, \"\\n\")\n",
    "    cat(\"빠 :\", count3, \"\\n\")\n",
    "    cat(\"--------------------\\n\")\n",
    "}\n"
   ]
  },
  {
   "cell_type": "code",
   "execution_count": 12,
   "id": "7f4be70c",
   "metadata": {
    "scrolled": true,
    "vscode": {
     "languageId": "r"
    }
   },
   "outputs": [
    {
     "name": "stdout",
     "output_type": "stream",
     "text": [
      "묵 : 3 \n",
      "찌 : 3 \n",
      "빠 : 4 \n",
      "--------------------\n",
      "묵 : 29 \n",
      "찌 : 34 \n",
      "빠 : 37 \n",
      "--------------------\n",
      "묵 : 329 \n",
      "찌 : 343 \n",
      "빠 : 328 \n",
      "--------------------\n",
      "묵 : 3271 \n",
      "찌 : 3336 \n",
      "빠 : 3393 \n",
      "--------------------\n",
      "묵 : 33626 \n",
      "찌 : 33298 \n",
      "빠 : 33076 \n",
      "--------------------\n",
      "묵 : 333714 \n",
      "찌 : 332552 \n",
      "빠 : 333734 \n",
      "--------------------\n"
     ]
    }
   ],
   "source": [
    "rock1(10)\n",
    "rock1(100)\n",
    "rock1(1000)\n",
    "rock1(10000)\n",
    "rock1(100000)\n",
    "rock1(1000000)"
   ]
  },
  {
   "cell_type": "markdown",
   "id": "523573fe",
   "metadata": {},
   "source": [
    "### 주사위 시뮬레이션"
   ]
  },
  {
   "cell_type": "code",
   "execution_count": 21,
   "id": "d6b891c3",
   "metadata": {
    "vscode": {
     "languageId": "r"
    }
   },
   "outputs": [],
   "source": [
    "dice <- function(d){\n",
    "    \n",
    "    c<-c(0,0,0,0,0,0)\n",
    "    \n",
    "    for(i in 1:d){\n",
    "        x <- trunc(runif(1) * 6) + 1\n",
    "        if(x==1) c = c +1\n",
    "        if(x==2) c = c +1\n",
    "        if(x==3) c = c +1\n",
    "        if(x==4) c = c +1\n",
    "        if(x==5) c = c +1\n",
    "        if(x==6) c = c +1\n",
    "}\n",
    "    cat(\"No 1 => \", c,\"\\n\")\n",
    "    cat(\"No 2 => \", c,\"\\n\")\n",
    "    cat(\"No 3 => \", c,\"\\n\")\n",
    "    cat(\"No 4 => \", c,\"\\n\")\n",
    "    cat(\"No 5 => \", c,\"\\n\")\n",
    "    cat(\"No 6 => \", c,\"\\n\")\n",
    "   \n",
    "    cat(\"--------------------\\n\")\n",
    "}"
   ]
  },
  {
   "cell_type": "code",
   "execution_count": 22,
   "id": "fe689932",
   "metadata": {
    "vscode": {
     "languageId": "r"
    }
   },
   "outputs": [
    {
     "name": "stdout",
     "output_type": "stream",
     "text": [
      "No 1 =>  10 10 10 10 10 10 \n",
      "No 2 =>  10 10 10 10 10 10 \n",
      "No 3 =>  10 10 10 10 10 10 \n",
      "No 4 =>  10 10 10 10 10 10 \n",
      "No 5 =>  10 10 10 10 10 10 \n",
      "No 6 =>  10 10 10 10 10 10 \n",
      "--------------------\n",
      "No 1 =>  100 100 100 100 100 100 \n",
      "No 2 =>  100 100 100 100 100 100 \n",
      "No 3 =>  100 100 100 100 100 100 \n",
      "No 4 =>  100 100 100 100 100 100 \n",
      "No 5 =>  100 100 100 100 100 100 \n",
      "No 6 =>  100 100 100 100 100 100 \n",
      "--------------------\n",
      "No 1 =>  1000 1000 1000 1000 1000 1000 \n",
      "No 2 =>  1000 1000 1000 1000 1000 1000 \n",
      "No 3 =>  1000 1000 1000 1000 1000 1000 \n",
      "No 4 =>  1000 1000 1000 1000 1000 1000 \n",
      "No 5 =>  1000 1000 1000 1000 1000 1000 \n",
      "No 6 =>  1000 1000 1000 1000 1000 1000 \n",
      "--------------------\n",
      "No 1 =>  10000 10000 10000 10000 10000 10000 \n",
      "No 2 =>  10000 10000 10000 10000 10000 10000 \n",
      "No 3 =>  10000 10000 10000 10000 10000 10000 \n",
      "No 4 =>  10000 10000 10000 10000 10000 10000 \n",
      "No 5 =>  10000 10000 10000 10000 10000 10000 \n",
      "No 6 =>  10000 10000 10000 10000 10000 10000 \n",
      "--------------------\n",
      "No 1 =>  1e+05 1e+05 1e+05 1e+05 1e+05 1e+05 \n",
      "No 2 =>  1e+05 1e+05 1e+05 1e+05 1e+05 1e+05 \n",
      "No 3 =>  1e+05 1e+05 1e+05 1e+05 1e+05 1e+05 \n",
      "No 4 =>  1e+05 1e+05 1e+05 1e+05 1e+05 1e+05 \n",
      "No 5 =>  1e+05 1e+05 1e+05 1e+05 1e+05 1e+05 \n",
      "No 6 =>  1e+05 1e+05 1e+05 1e+05 1e+05 1e+05 \n",
      "--------------------\n",
      "No 1 =>  1e+06 1e+06 1e+06 1e+06 1e+06 1e+06 \n",
      "No 2 =>  1e+06 1e+06 1e+06 1e+06 1e+06 1e+06 \n",
      "No 3 =>  1e+06 1e+06 1e+06 1e+06 1e+06 1e+06 \n",
      "No 4 =>  1e+06 1e+06 1e+06 1e+06 1e+06 1e+06 \n",
      "No 5 =>  1e+06 1e+06 1e+06 1e+06 1e+06 1e+06 \n",
      "No 6 =>  1e+06 1e+06 1e+06 1e+06 1e+06 1e+06 \n",
      "--------------------\n"
     ]
    }
   ],
   "source": [
    "dice(10)\n",
    "dice(100)\n",
    "dice(1000)\n",
    "dice(10000)\n",
    "dice(100000)\n",
    "dice(1000000)"
   ]
  },
  {
   "cell_type": "code",
   "execution_count": 25,
   "id": "88b55422",
   "metadata": {
    "vscode": {
     "languageId": "r"
    }
   },
   "outputs": [],
   "source": [
    "dice <- function(n){\n",
    "    diceFace <- rep(0, 6)\n",
    "    cat(\"Throw : \", n ,\"\\n\")\n",
    "    for(i in 1:n){\n",
    "        x <- trunc(runif(1)*6) + 1\n",
    "        diceFace[x] = diceFace[x] + 1\n",
    "    }\n",
    "    for(i in 1:length(diceFace)){\n",
    "        cat(\"No\", i, \"=>\", diceFace[i],\"\\n\")\n",
    "    }\n",
    "     cat(\"--------------------\\n\")\n",
    "}"
   ]
  },
  {
   "cell_type": "code",
   "execution_count": 26,
   "id": "baaa4c0e",
   "metadata": {
    "vscode": {
     "languageId": "r"
    }
   },
   "outputs": [
    {
     "name": "stdout",
     "output_type": "stream",
     "text": [
      "Throw :  10 \n",
      "No 1 => 0 \n",
      "No 2 => 3 \n",
      "No 3 => 0 \n",
      "No 4 => 2 \n",
      "No 5 => 1 \n",
      "No 6 => 4 \n",
      "--------------------\n",
      "Throw :  100 \n",
      "No 1 => 13 \n",
      "No 2 => 15 \n",
      "No 3 => 23 \n",
      "No 4 => 17 \n",
      "No 5 => 9 \n",
      "No 6 => 23 \n",
      "--------------------\n",
      "Throw :  1000 \n",
      "No 1 => 165 \n",
      "No 2 => 198 \n",
      "No 3 => 142 \n",
      "No 4 => 170 \n",
      "No 5 => 159 \n",
      "No 6 => 166 \n",
      "--------------------\n",
      "Throw :  10000 \n",
      "No 1 => 1689 \n",
      "No 2 => 1705 \n",
      "No 3 => 1705 \n",
      "No 4 => 1683 \n",
      "No 5 => 1565 \n",
      "No 6 => 1653 \n",
      "--------------------\n",
      "Throw :  1e+05 \n",
      "No 1 => 16748 \n",
      "No 2 => 16660 \n",
      "No 3 => 16766 \n",
      "No 4 => 16657 \n",
      "No 5 => 16589 \n",
      "No 6 => 16580 \n",
      "--------------------\n",
      "Throw :  1e+06 \n",
      "No 1 => 167271 \n",
      "No 2 => 166195 \n",
      "No 3 => 166517 \n",
      "No 4 => 166784 \n",
      "No 5 => 166619 \n",
      "No 6 => 166614 \n",
      "--------------------\n"
     ]
    }
   ],
   "source": [
    "dice(10)\n",
    "dice(100)\n",
    "dice(1000)\n",
    "dice(10000)\n",
    "dice(100000)\n",
    "dice(1000000)"
   ]
  },
  {
   "cell_type": "code",
   "execution_count": null,
   "id": "be66dc69",
   "metadata": {
    "vscode": {
     "languageId": "r"
    }
   },
   "outputs": [],
   "source": []
  }
 ],
 "metadata": {
  "kernelspec": {
   "display_name": "R",
   "language": "R",
   "name": "ir"
  },
  "language_info": {
   "codemirror_mode": "r",
   "file_extension": ".r",
   "mimetype": "text/x-r-source",
   "name": "R",
   "pygments_lexer": "r",
   "version": "3.6.1"
  }
 },
 "nbformat": 4,
 "nbformat_minor": 5
}

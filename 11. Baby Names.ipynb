{
 "cells": [
  {
   "cell_type": "markdown",
   "id": "eeacc717",
   "metadata": {},
   "source": [
    "### 1880년 부터 2014년까지의 미국의 아기 이름을 정리해논 데이터셋"
   ]
  },
  {
   "cell_type": "code",
   "execution_count": 1,
   "id": "a9013737",
   "metadata": {},
   "outputs": [
    {
     "data": {
      "text/html": [
       "<table>\n",
       "<thead><tr><th scope=col>Name</th><th scope=col>Gender</th><th scope=col>Count</th><th scope=col>Year</th><th scope=col>Year.Rank</th></tr></thead>\n",
       "<tbody>\n",
       "\t<tr><td>Mary                  </td><td>F                     </td><td>7065                  </td><td>01/01/1880 12:00:00 AM</td><td>1                     </td></tr>\n",
       "\t<tr><td>Anna                  </td><td>F                     </td><td>2604                  </td><td>01/01/1880 12:00:00 AM</td><td>2                     </td></tr>\n",
       "\t<tr><td>Emma                  </td><td>F                     </td><td>2003                  </td><td>01/01/1880 12:00:00 AM</td><td>3                     </td></tr>\n",
       "\t<tr><td>Elizabeth             </td><td>F                     </td><td>1939                  </td><td>01/01/1880 12:00:00 AM</td><td>4                     </td></tr>\n",
       "\t<tr><td>Minnie                </td><td>F                     </td><td>1746                  </td><td>01/01/1880 12:00:00 AM</td><td>5                     </td></tr>\n",
       "\t<tr><td>Margaret              </td><td>F                     </td><td>1578                  </td><td>01/01/1880 12:00:00 AM</td><td>6                     </td></tr>\n",
       "</tbody>\n",
       "</table>\n"
      ],
      "text/latex": [
       "\\begin{tabular}{r|lllll}\n",
       " Name & Gender & Count & Year & Year.Rank\\\\\n",
       "\\hline\n",
       "\t Mary                   & F                      & 7065                   & 01/01/1880 12:00:00 AM & 1                     \\\\\n",
       "\t Anna                   & F                      & 2604                   & 01/01/1880 12:00:00 AM & 2                     \\\\\n",
       "\t Emma                   & F                      & 2003                   & 01/01/1880 12:00:00 AM & 3                     \\\\\n",
       "\t Elizabeth              & F                      & 1939                   & 01/01/1880 12:00:00 AM & 4                     \\\\\n",
       "\t Minnie                 & F                      & 1746                   & 01/01/1880 12:00:00 AM & 5                     \\\\\n",
       "\t Margaret               & F                      & 1578                   & 01/01/1880 12:00:00 AM & 6                     \\\\\n",
       "\\end{tabular}\n"
      ],
      "text/markdown": [
       "\n",
       "| Name | Gender | Count | Year | Year.Rank |\n",
       "|---|---|---|---|---|\n",
       "| Mary                   | F                      | 7065                   | 01/01/1880 12:00:00 AM | 1                      |\n",
       "| Anna                   | F                      | 2604                   | 01/01/1880 12:00:00 AM | 2                      |\n",
       "| Emma                   | F                      | 2003                   | 01/01/1880 12:00:00 AM | 3                      |\n",
       "| Elizabeth              | F                      | 1939                   | 01/01/1880 12:00:00 AM | 4                      |\n",
       "| Minnie                 | F                      | 1746                   | 01/01/1880 12:00:00 AM | 5                      |\n",
       "| Margaret               | F                      | 1578                   | 01/01/1880 12:00:00 AM | 6                      |\n",
       "\n"
      ],
      "text/plain": [
       "  Name      Gender Count Year                   Year.Rank\n",
       "1 Mary      F      7065  01/01/1880 12:00:00 AM 1        \n",
       "2 Anna      F      2604  01/01/1880 12:00:00 AM 2        \n",
       "3 Emma      F      2003  01/01/1880 12:00:00 AM 3        \n",
       "4 Elizabeth F      1939  01/01/1880 12:00:00 AM 4        \n",
       "5 Minnie    F      1746  01/01/1880 12:00:00 AM 5        \n",
       "6 Margaret  F      1578  01/01/1880 12:00:00 AM 6        "
      ]
     },
     "metadata": {},
     "output_type": "display_data"
    }
   ],
   "source": [
    "baby <-read.csv(\"../Data/R_Baby_Names_1880-2014.csv\", stringsAsFactors = F,  fileEncoding=\"utf-8\")\n",
    "head(baby)"
   ]
  },
  {
   "cell_type": "code",
   "execution_count": 2,
   "id": "32e00b75",
   "metadata": {},
   "outputs": [
    {
     "data": {
      "text/html": [
       "<table>\n",
       "<thead><tr><th></th><th scope=col>Name</th><th scope=col>Gender</th><th scope=col>Count</th><th scope=col>Year</th><th scope=col>Year.Rank</th></tr></thead>\n",
       "<tbody>\n",
       "\t<tr><th scope=row>1825383</th><td>Zyel                  </td><td>M                     </td><td>5                     </td><td>01/01/2014 12:00:00 AM</td><td>13972                 </td></tr>\n",
       "\t<tr><th scope=row>1825384</th><td>Zykeem                </td><td>M                     </td><td>5                     </td><td>01/01/2014 12:00:00 AM</td><td>13973                 </td></tr>\n",
       "\t<tr><th scope=row>1825385</th><td>Zymeer                </td><td>M                     </td><td>5                     </td><td>01/01/2014 12:00:00 AM</td><td>13974                 </td></tr>\n",
       "\t<tr><th scope=row>1825386</th><td>Zymiere               </td><td>M                     </td><td>5                     </td><td>01/01/2014 12:00:00 AM</td><td>13975                 </td></tr>\n",
       "\t<tr><th scope=row>1825387</th><td>Zyran                 </td><td>M                     </td><td>5                     </td><td>01/01/2014 12:00:00 AM</td><td>13976                 </td></tr>\n",
       "\t<tr><th scope=row>1825388</th><td>Zyrin                 </td><td>M                     </td><td>5                     </td><td>01/01/2014 12:00:00 AM</td><td>13977                 </td></tr>\n",
       "</tbody>\n",
       "</table>\n"
      ],
      "text/latex": [
       "\\begin{tabular}{r|lllll}\n",
       "  & Name & Gender & Count & Year & Year.Rank\\\\\n",
       "\\hline\n",
       "\t1825383 & Zyel                   & M                      & 5                      & 01/01/2014 12:00:00 AM & 13972                 \\\\\n",
       "\t1825384 & Zykeem                 & M                      & 5                      & 01/01/2014 12:00:00 AM & 13973                 \\\\\n",
       "\t1825385 & Zymeer                 & M                      & 5                      & 01/01/2014 12:00:00 AM & 13974                 \\\\\n",
       "\t1825386 & Zymiere                & M                      & 5                      & 01/01/2014 12:00:00 AM & 13975                 \\\\\n",
       "\t1825387 & Zyran                  & M                      & 5                      & 01/01/2014 12:00:00 AM & 13976                 \\\\\n",
       "\t1825388 & Zyrin                  & M                      & 5                      & 01/01/2014 12:00:00 AM & 13977                 \\\\\n",
       "\\end{tabular}\n"
      ],
      "text/markdown": [
       "\n",
       "| <!--/--> | Name | Gender | Count | Year | Year.Rank |\n",
       "|---|---|---|---|---|---|\n",
       "| 1825383 | Zyel                   | M                      | 5                      | 01/01/2014 12:00:00 AM | 13972                  |\n",
       "| 1825384 | Zykeem                 | M                      | 5                      | 01/01/2014 12:00:00 AM | 13973                  |\n",
       "| 1825385 | Zymeer                 | M                      | 5                      | 01/01/2014 12:00:00 AM | 13974                  |\n",
       "| 1825386 | Zymiere                | M                      | 5                      | 01/01/2014 12:00:00 AM | 13975                  |\n",
       "| 1825387 | Zyran                  | M                      | 5                      | 01/01/2014 12:00:00 AM | 13976                  |\n",
       "| 1825388 | Zyrin                  | M                      | 5                      | 01/01/2014 12:00:00 AM | 13977                  |\n",
       "\n"
      ],
      "text/plain": [
       "        Name    Gender Count Year                   Year.Rank\n",
       "1825383 Zyel    M      5     01/01/2014 12:00:00 AM 13972    \n",
       "1825384 Zykeem  M      5     01/01/2014 12:00:00 AM 13973    \n",
       "1825385 Zymeer  M      5     01/01/2014 12:00:00 AM 13974    \n",
       "1825386 Zymiere M      5     01/01/2014 12:00:00 AM 13975    \n",
       "1825387 Zyran   M      5     01/01/2014 12:00:00 AM 13976    \n",
       "1825388 Zyrin   M      5     01/01/2014 12:00:00 AM 13977    "
      ]
     },
     "metadata": {},
     "output_type": "display_data"
    }
   ],
   "source": [
    "tail(baby)"
   ]
  },
  {
   "cell_type": "code",
   "execution_count": 3,
   "id": "9e8921cf",
   "metadata": {},
   "outputs": [
    {
     "name": "stdout",
     "output_type": "stream",
     "text": [
      "'data.frame':\t1825388 obs. of  5 variables:\n",
      " $ Name     : chr  \"Mary\" \"Anna\" \"Emma\" \"Elizabeth\" ...\n",
      " $ Gender   : chr  \"F\" \"F\" \"F\" \"F\" ...\n",
      " $ Count    : int  7065 2604 2003 1939 1746 1578 1472 1414 1320 1288 ...\n",
      " $ Year     : chr  \"01/01/1880 12:00:00 AM\" \"01/01/1880 12:00:00 AM\" \"01/01/1880 12:00:00 AM\" \"01/01/1880 12:00:00 AM\" ...\n",
      " $ Year.Rank: int  1 2 3 4 5 6 7 8 9 10 ...\n"
     ]
    }
   ],
   "source": [
    "str(baby)"
   ]
  },
  {
   "cell_type": "code",
   "execution_count": 4,
   "id": "693a75ad",
   "metadata": {},
   "outputs": [
    {
     "name": "stdout",
     "output_type": "stream",
     "text": [
      "'data.frame':\t1825388 obs. of  5 variables:\n",
      " $ Name     : chr  \"Mary\" \"Anna\" \"Emma\" \"Elizabeth\" ...\n",
      " $ Gender   : Factor w/ 2 levels \"F\",\"M\": 1 1 1 1 1 1 1 1 1 1 ...\n",
      " $ Count    : int  7065 2604 2003 1939 1746 1578 1472 1414 1320 1288 ...\n",
      " $ Year     : chr  \"01/01/1880 12:00:00 AM\" \"01/01/1880 12:00:00 AM\" \"01/01/1880 12:00:00 AM\" \"01/01/1880 12:00:00 AM\" ...\n",
      " $ Year.Rank: int  1 2 3 4 5 6 7 8 9 10 ...\n"
     ]
    }
   ],
   "source": [
    "baby$Gender <- as.factor(baby$Gender)\n",
    "str(baby)"
   ]
  },
  {
   "cell_type": "code",
   "execution_count": 5,
   "id": "cf665e49",
   "metadata": {},
   "outputs": [
    {
     "data": {
      "text/html": [
       "<table>\n",
       "<thead><tr><th scope=col>Name</th><th scope=col>Gender</th><th scope=col>Count</th><th scope=col>Year</th><th scope=col>Year.Rank</th></tr></thead>\n",
       "<tbody>\n",
       "\t<tr><td>Mary     </td><td>F        </td><td>7065     </td><td>1880     </td><td>1        </td></tr>\n",
       "\t<tr><td>Anna     </td><td>F        </td><td>2604     </td><td>1880     </td><td>2        </td></tr>\n",
       "\t<tr><td>Emma     </td><td>F        </td><td>2003     </td><td>1880     </td><td>3        </td></tr>\n",
       "\t<tr><td>Elizabeth</td><td>F        </td><td>1939     </td><td>1880     </td><td>4        </td></tr>\n",
       "\t<tr><td>Minnie   </td><td>F        </td><td>1746     </td><td>1880     </td><td>5        </td></tr>\n",
       "\t<tr><td>Margaret </td><td>F        </td><td>1578     </td><td>1880     </td><td>6        </td></tr>\n",
       "</tbody>\n",
       "</table>\n"
      ],
      "text/latex": [
       "\\begin{tabular}{r|lllll}\n",
       " Name & Gender & Count & Year & Year.Rank\\\\\n",
       "\\hline\n",
       "\t Mary      & F         & 7065      & 1880      & 1        \\\\\n",
       "\t Anna      & F         & 2604      & 1880      & 2        \\\\\n",
       "\t Emma      & F         & 2003      & 1880      & 3        \\\\\n",
       "\t Elizabeth & F         & 1939      & 1880      & 4        \\\\\n",
       "\t Minnie    & F         & 1746      & 1880      & 5        \\\\\n",
       "\t Margaret  & F         & 1578      & 1880      & 6        \\\\\n",
       "\\end{tabular}\n"
      ],
      "text/markdown": [
       "\n",
       "| Name | Gender | Count | Year | Year.Rank |\n",
       "|---|---|---|---|---|\n",
       "| Mary      | F         | 7065      | 1880      | 1         |\n",
       "| Anna      | F         | 2604      | 1880      | 2         |\n",
       "| Emma      | F         | 2003      | 1880      | 3         |\n",
       "| Elizabeth | F         | 1939      | 1880      | 4         |\n",
       "| Minnie    | F         | 1746      | 1880      | 5         |\n",
       "| Margaret  | F         | 1578      | 1880      | 6         |\n",
       "\n"
      ],
      "text/plain": [
       "  Name      Gender Count Year Year.Rank\n",
       "1 Mary      F      7065  1880 1        \n",
       "2 Anna      F      2604  1880 2        \n",
       "3 Emma      F      2003  1880 3        \n",
       "4 Elizabeth F      1939  1880 4        \n",
       "5 Minnie    F      1746  1880 5        \n",
       "6 Margaret  F      1578  1880 6        "
      ]
     },
     "metadata": {},
     "output_type": "display_data"
    }
   ],
   "source": [
    "# baby의 Year부분 정리하기\n",
    "baby$Year<-substr(baby$Year,7,10) #7~10\n",
    "head(baby)"
   ]
  },
  {
   "cell_type": "code",
   "execution_count": 6,
   "id": "c7350c09",
   "metadata": {},
   "outputs": [],
   "source": [
    "# 저장하기\n",
    "write.csv(baby,\"../Data/baby.csv\", row.names=F,  fileEncoding=\"utf-8\")"
   ]
  },
  {
   "cell_type": "code",
   "execution_count": 7,
   "id": "fdd8d403",
   "metadata": {},
   "outputs": [
    {
     "data": {
      "text/html": [
       "<table>\n",
       "<thead><tr><th scope=col>Name</th><th scope=col>Gender</th><th scope=col>Count</th><th scope=col>Year</th><th scope=col>Year.Rank</th></tr></thead>\n",
       "<tbody>\n",
       "\t<tr><td>Mary     </td><td>F        </td><td>7065     </td><td>1880     </td><td>1        </td></tr>\n",
       "\t<tr><td>Anna     </td><td>F        </td><td>2604     </td><td>1880     </td><td>2        </td></tr>\n",
       "\t<tr><td>Emma     </td><td>F        </td><td>2003     </td><td>1880     </td><td>3        </td></tr>\n",
       "\t<tr><td>Elizabeth</td><td>F        </td><td>1939     </td><td>1880     </td><td>4        </td></tr>\n",
       "\t<tr><td>Minnie   </td><td>F        </td><td>1746     </td><td>1880     </td><td>5        </td></tr>\n",
       "\t<tr><td>Margaret </td><td>F        </td><td>1578     </td><td>1880     </td><td>6        </td></tr>\n",
       "</tbody>\n",
       "</table>\n"
      ],
      "text/latex": [
       "\\begin{tabular}{r|lllll}\n",
       " Name & Gender & Count & Year & Year.Rank\\\\\n",
       "\\hline\n",
       "\t Mary      & F         & 7065      & 1880      & 1        \\\\\n",
       "\t Anna      & F         & 2604      & 1880      & 2        \\\\\n",
       "\t Emma      & F         & 2003      & 1880      & 3        \\\\\n",
       "\t Elizabeth & F         & 1939      & 1880      & 4        \\\\\n",
       "\t Minnie    & F         & 1746      & 1880      & 5        \\\\\n",
       "\t Margaret  & F         & 1578      & 1880      & 6        \\\\\n",
       "\\end{tabular}\n"
      ],
      "text/markdown": [
       "\n",
       "| Name | Gender | Count | Year | Year.Rank |\n",
       "|---|---|---|---|---|\n",
       "| Mary      | F         | 7065      | 1880      | 1         |\n",
       "| Anna      | F         | 2604      | 1880      | 2         |\n",
       "| Emma      | F         | 2003      | 1880      | 3         |\n",
       "| Elizabeth | F         | 1939      | 1880      | 4         |\n",
       "| Minnie    | F         | 1746      | 1880      | 5         |\n",
       "| Margaret  | F         | 1578      | 1880      | 6         |\n",
       "\n"
      ],
      "text/plain": [
       "  Name      Gender Count Year Year.Rank\n",
       "1 Mary      F      7065  1880 1        \n",
       "2 Anna      F      2604  1880 2        \n",
       "3 Emma      F      2003  1880 3        \n",
       "4 Elizabeth F      1939  1880 4        \n",
       "5 Minnie    F      1746  1880 5        \n",
       "6 Margaret  F      1578  1880 6        "
      ]
     },
     "metadata": {},
     "output_type": "display_data"
    }
   ],
   "source": [
    "head(baby)"
   ]
  },
  {
   "cell_type": "code",
   "execution_count": 8,
   "id": "ae75678c",
   "metadata": {},
   "outputs": [
    {
     "data": {
      "text/html": [
       "<table>\n",
       "<thead><tr><th scope=col>Name</th><th scope=col>Gender</th><th scope=col>Count</th><th scope=col>Year</th><th scope=col>Year.Rank</th></tr></thead>\n",
       "<tbody>\n",
       "\t<tr><td>Mary     </td><td>F        </td><td>7065     </td><td>1880     </td><td>1        </td></tr>\n",
       "\t<tr><td>Anna     </td><td>F        </td><td>2604     </td><td>1880     </td><td>2        </td></tr>\n",
       "\t<tr><td>Emma     </td><td>F        </td><td>2003     </td><td>1880     </td><td>3        </td></tr>\n",
       "\t<tr><td>Elizabeth</td><td>F        </td><td>1939     </td><td>1880     </td><td>4        </td></tr>\n",
       "\t<tr><td>Minnie   </td><td>F        </td><td>1746     </td><td>1880     </td><td>5        </td></tr>\n",
       "\t<tr><td>Margaret </td><td>F        </td><td>1578     </td><td>1880     </td><td>6        </td></tr>\n",
       "</tbody>\n",
       "</table>\n"
      ],
      "text/latex": [
       "\\begin{tabular}{r|lllll}\n",
       " Name & Gender & Count & Year & Year.Rank\\\\\n",
       "\\hline\n",
       "\t Mary      & F         & 7065      & 1880      & 1        \\\\\n",
       "\t Anna      & F         & 2604      & 1880      & 2        \\\\\n",
       "\t Emma      & F         & 2003      & 1880      & 3        \\\\\n",
       "\t Elizabeth & F         & 1939      & 1880      & 4        \\\\\n",
       "\t Minnie    & F         & 1746      & 1880      & 5        \\\\\n",
       "\t Margaret  & F         & 1578      & 1880      & 6        \\\\\n",
       "\\end{tabular}\n"
      ],
      "text/markdown": [
       "\n",
       "| Name | Gender | Count | Year | Year.Rank |\n",
       "|---|---|---|---|---|\n",
       "| Mary      | F         | 7065      | 1880      | 1         |\n",
       "| Anna      | F         | 2604      | 1880      | 2         |\n",
       "| Emma      | F         | 2003      | 1880      | 3         |\n",
       "| Elizabeth | F         | 1939      | 1880      | 4         |\n",
       "| Minnie    | F         | 1746      | 1880      | 5         |\n",
       "| Margaret  | F         | 1578      | 1880      | 6         |\n",
       "\n"
      ],
      "text/plain": [
       "  Name      Gender Count Year Year.Rank\n",
       "1 Mary      F      7065  1880 1        \n",
       "2 Anna      F      2604  1880 2        \n",
       "3 Emma      F      2003  1880 3        \n",
       "4 Elizabeth F      1939  1880 4        \n",
       "5 Minnie    F      1746  1880 5        \n",
       "6 Margaret  F      1578  1880 6        "
      ]
     },
     "metadata": {},
     "output_type": "display_data"
    }
   ],
   "source": [
    "#baby에서 여자 아이만 Female이라는 dataset를 만들고 row수 구하기\n",
    "\n",
    "Female <- subset(baby,Gender == \"F\")\n",
    "head(Female)"
   ]
  },
  {
   "cell_type": "code",
   "execution_count": 9,
   "id": "9b748591",
   "metadata": {},
   "outputs": [
    {
     "data": {
      "text/html": [
       "64911"
      ],
      "text/latex": [
       "64911"
      ],
      "text/markdown": [
       "64911"
      ],
      "text/plain": [
       "[1] 64911"
      ]
     },
     "metadata": {},
     "output_type": "display_data"
    }
   ],
   "source": [
    "# 여자 아이 이름중 중복 제거하고 갯수 구하기\n",
    "length(unique(Female$Name))"
   ]
  },
  {
   "cell_type": "code",
   "execution_count": 10,
   "id": "918fa66f",
   "metadata": {},
   "outputs": [
    {
     "data": {
      "text/html": [
       "<ol class=list-inline>\n",
       "\t<li>'Mary'</li>\n",
       "\t<li>'Anna'</li>\n",
       "\t<li>'Emma'</li>\n",
       "\t<li>'Elizabeth'</li>\n",
       "\t<li>'Minnie'</li>\n",
       "\t<li>'Margaret'</li>\n",
       "\t<li>'Ida'</li>\n",
       "\t<li>'Alice'</li>\n",
       "\t<li>'Bertha'</li>\n",
       "\t<li>'Sarah'</li>\n",
       "\t<li>'Annie'</li>\n",
       "\t<li>'Clara'</li>\n",
       "\t<li>'Ella'</li>\n",
       "\t<li>'Florence'</li>\n",
       "\t<li>'Cora'</li>\n",
       "\t<li>'Martha'</li>\n",
       "\t<li>'Laura'</li>\n",
       "\t<li>'Nellie'</li>\n",
       "\t<li>'Grace'</li>\n",
       "\t<li>'Carrie'</li>\n",
       "</ol>\n"
      ],
      "text/latex": [
       "\\begin{enumerate*}\n",
       "\\item 'Mary'\n",
       "\\item 'Anna'\n",
       "\\item 'Emma'\n",
       "\\item 'Elizabeth'\n",
       "\\item 'Minnie'\n",
       "\\item 'Margaret'\n",
       "\\item 'Ida'\n",
       "\\item 'Alice'\n",
       "\\item 'Bertha'\n",
       "\\item 'Sarah'\n",
       "\\item 'Annie'\n",
       "\\item 'Clara'\n",
       "\\item 'Ella'\n",
       "\\item 'Florence'\n",
       "\\item 'Cora'\n",
       "\\item 'Martha'\n",
       "\\item 'Laura'\n",
       "\\item 'Nellie'\n",
       "\\item 'Grace'\n",
       "\\item 'Carrie'\n",
       "\\end{enumerate*}\n"
      ],
      "text/markdown": [
       "1. 'Mary'\n",
       "2. 'Anna'\n",
       "3. 'Emma'\n",
       "4. 'Elizabeth'\n",
       "5. 'Minnie'\n",
       "6. 'Margaret'\n",
       "7. 'Ida'\n",
       "8. 'Alice'\n",
       "9. 'Bertha'\n",
       "10. 'Sarah'\n",
       "11. 'Annie'\n",
       "12. 'Clara'\n",
       "13. 'Ella'\n",
       "14. 'Florence'\n",
       "15. 'Cora'\n",
       "16. 'Martha'\n",
       "17. 'Laura'\n",
       "18. 'Nellie'\n",
       "19. 'Grace'\n",
       "20. 'Carrie'\n",
       "\n",
       "\n"
      ],
      "text/plain": [
       " [1] \"Mary\"      \"Anna\"      \"Emma\"      \"Elizabeth\" \"Minnie\"    \"Margaret\" \n",
       " [7] \"Ida\"       \"Alice\"     \"Bertha\"    \"Sarah\"     \"Annie\"     \"Clara\"    \n",
       "[13] \"Ella\"      \"Florence\"  \"Cora\"      \"Martha\"    \"Laura\"     \"Nellie\"   \n",
       "[19] \"Grace\"     \"Carrie\"   "
      ]
     },
     "metadata": {},
     "output_type": "display_data"
    }
   ],
   "source": [
    "# 유일한 여자 아이 이름 20개만 출력하기\n",
    "head(unique(Female$Name),20)"
   ]
  },
  {
   "cell_type": "markdown",
   "id": "b16b7548",
   "metadata": {},
   "source": [
    "---\n",
    "### 가장 많이 사용된 여자 아이 이름 10개 보여주기"
   ]
  },
  {
   "cell_type": "code",
   "execution_count": 11,
   "id": "1c641360",
   "metadata": {},
   "outputs": [
    {
     "name": "stderr",
     "output_type": "stream",
     "text": [
      "\n",
      "Attaching package: 'dplyr'\n",
      "\n",
      "The following objects are masked from 'package:stats':\n",
      "\n",
      "    filter, lag\n",
      "\n",
      "The following objects are masked from 'package:base':\n",
      "\n",
      "    intersect, setdiff, setequal, union\n",
      "\n"
     ]
    }
   ],
   "source": [
    "library(dplyr)"
   ]
  },
  {
   "cell_type": "code",
   "execution_count": 12,
   "id": "9e0eeecd",
   "metadata": {},
   "outputs": [
    {
     "data": {
      "text/html": [
       "<table>\n",
       "<thead><tr><th scope=col>Name</th><th scope=col>Count</th></tr></thead>\n",
       "<tbody>\n",
       "\t<tr><td>Mary     </td><td>4115282  </td></tr>\n",
       "\t<tr><td>Elizabeth</td><td>1601128  </td></tr>\n",
       "\t<tr><td>Patricia </td><td>1570567  </td></tr>\n",
       "\t<tr><td>Jennifer </td><td>1462742  </td></tr>\n",
       "\t<tr><td>Linda    </td><td>1450843  </td></tr>\n",
       "\t<tr><td>Barbara  </td><td>1432944  </td></tr>\n",
       "\t<tr><td>Margaret </td><td>1240006  </td></tr>\n",
       "\t<tr><td>Susan    </td><td>1120469  </td></tr>\n",
       "\t<tr><td>Dorothy  </td><td>1105680  </td></tr>\n",
       "\t<tr><td>Sarah    </td><td>1060643  </td></tr>\n",
       "</tbody>\n",
       "</table>\n"
      ],
      "text/latex": [
       "\\begin{tabular}{r|ll}\n",
       " Name & Count\\\\\n",
       "\\hline\n",
       "\t Mary      & 4115282  \\\\\n",
       "\t Elizabeth & 1601128  \\\\\n",
       "\t Patricia  & 1570567  \\\\\n",
       "\t Jennifer  & 1462742  \\\\\n",
       "\t Linda     & 1450843  \\\\\n",
       "\t Barbara   & 1432944  \\\\\n",
       "\t Margaret  & 1240006  \\\\\n",
       "\t Susan     & 1120469  \\\\\n",
       "\t Dorothy   & 1105680  \\\\\n",
       "\t Sarah     & 1060643  \\\\\n",
       "\\end{tabular}\n"
      ],
      "text/markdown": [
       "\n",
       "| Name | Count |\n",
       "|---|---|\n",
       "| Mary      | 4115282   |\n",
       "| Elizabeth | 1601128   |\n",
       "| Patricia  | 1570567   |\n",
       "| Jennifer  | 1462742   |\n",
       "| Linda     | 1450843   |\n",
       "| Barbara   | 1432944   |\n",
       "| Margaret  | 1240006   |\n",
       "| Susan     | 1120469   |\n",
       "| Dorothy   | 1105680   |\n",
       "| Sarah     | 1060643   |\n",
       "\n"
      ],
      "text/plain": [
       "   Name      Count  \n",
       "1  Mary      4115282\n",
       "2  Elizabeth 1601128\n",
       "3  Patricia  1570567\n",
       "4  Jennifer  1462742\n",
       "5  Linda     1450843\n",
       "6  Barbara   1432944\n",
       "7  Margaret  1240006\n",
       "8  Susan     1120469\n",
       "9  Dorothy   1105680\n",
       "10 Sarah     1060643"
      ]
     },
     "metadata": {},
     "output_type": "display_data"
    }
   ],
   "source": [
    "Female_count<-aggregate(Count~Name,Female,sum)\n",
    "head(arrange(Female_count,desc(Count)),10)"
   ]
  },
  {
   "cell_type": "code",
   "execution_count": 13,
   "id": "67fadfb2",
   "metadata": {},
   "outputs": [
    {
     "data": {
      "text/html": [
       "743728"
      ],
      "text/latex": [
       "743728"
      ],
      "text/markdown": [
       "743728"
      ],
      "text/plain": [
       "[1] 743728"
      ]
     },
     "metadata": {},
     "output_type": "display_data"
    }
   ],
   "source": [
    "# baby에서 남자 아이만 Male이라는 데어테넷을 만들고 row수 구하기\n",
    "\n",
    "Male <- subset(baby,Gender ==\"M\")\n",
    "nrow(Male)"
   ]
  },
  {
   "cell_type": "code",
   "execution_count": 14,
   "id": "3f0b7cfc",
   "metadata": {
    "scrolled": true
   },
   "outputs": [
    {
     "data": {
      "text/html": [
       "<table>\n",
       "<thead><tr><th scope=col>Year</th><th scope=col>Count</th></tr></thead>\n",
       "<tbody>\n",
       "\t<tr><td>1880  </td><td> 90993</td></tr>\n",
       "\t<tr><td>1881  </td><td> 91954</td></tr>\n",
       "\t<tr><td>1882  </td><td>107850</td></tr>\n",
       "\t<tr><td>1883  </td><td>112321</td></tr>\n",
       "\t<tr><td>1884  </td><td>129022</td></tr>\n",
       "\t<tr><td>1885  </td><td>133055</td></tr>\n",
       "\t<tr><td>1886  </td><td>144535</td></tr>\n",
       "\t<tr><td>1887  </td><td>145982</td></tr>\n",
       "\t<tr><td>1888  </td><td>178627</td></tr>\n",
       "\t<tr><td>1889  </td><td>178366</td></tr>\n",
       "\t<tr><td>1890  </td><td>190377</td></tr>\n",
       "\t<tr><td>1891  </td><td>185482</td></tr>\n",
       "\t<tr><td>1892  </td><td>212346</td></tr>\n",
       "\t<tr><td>1893  </td><td>212906</td></tr>\n",
       "\t<tr><td>1894  </td><td>222922</td></tr>\n",
       "\t<tr><td>1895  </td><td>233630</td></tr>\n",
       "\t<tr><td>1896  </td><td>237920</td></tr>\n",
       "\t<tr><td>1897  </td><td>234202</td></tr>\n",
       "\t<tr><td>1898  </td><td>258770</td></tr>\n",
       "\t<tr><td>1899  </td><td>233023</td></tr>\n",
       "\t<tr><td>1900  </td><td>299828</td></tr>\n",
       "\t<tr><td>1901  </td><td>239348</td></tr>\n",
       "\t<tr><td>1902  </td><td>264077</td></tr>\n",
       "\t<tr><td>1903  </td><td>261973</td></tr>\n",
       "\t<tr><td>1904  </td><td>275366</td></tr>\n",
       "\t<tr><td>1905  </td><td>291623</td></tr>\n",
       "\t<tr><td>1906  </td><td>295303</td></tr>\n",
       "\t<tr><td>1907  </td><td>318566</td></tr>\n",
       "\t<tr><td>1908  </td><td>334313</td></tr>\n",
       "\t<tr><td>1909  </td><td>347228</td></tr>\n",
       "\t<tr><td>...</td><td>...</td></tr>\n",
       "\t<tr><td>1985   </td><td>1720036</td></tr>\n",
       "\t<tr><td>1986   </td><td>1714664</td></tr>\n",
       "\t<tr><td>1987   </td><td>1737891</td></tr>\n",
       "\t<tr><td>1988   </td><td>1779839</td></tr>\n",
       "\t<tr><td>1989   </td><td>1843105</td></tr>\n",
       "\t<tr><td>1990   </td><td>1897709</td></tr>\n",
       "\t<tr><td>1991   </td><td>1874434</td></tr>\n",
       "\t<tr><td>1992   </td><td>1843304</td></tr>\n",
       "\t<tr><td>1993   </td><td>1808379</td></tr>\n",
       "\t<tr><td>1994   </td><td>1785074</td></tr>\n",
       "\t<tr><td>1995   </td><td>1757927</td></tr>\n",
       "\t<tr><td>1996   </td><td>1752249</td></tr>\n",
       "\t<tr><td>1997   </td><td>1739806</td></tr>\n",
       "\t<tr><td>1998   </td><td>1765915</td></tr>\n",
       "\t<tr><td>1999   </td><td>1772632</td></tr>\n",
       "\t<tr><td>2000   </td><td>1814601</td></tr>\n",
       "\t<tr><td>2001   </td><td>1799049</td></tr>\n",
       "\t<tr><td>2002   </td><td>1795206</td></tr>\n",
       "\t<tr><td>2003   </td><td>1825359</td></tr>\n",
       "\t<tr><td>2004   </td><td>1834145</td></tr>\n",
       "\t<tr><td>2005   </td><td>1845379</td></tr>\n",
       "\t<tr><td>2006   </td><td>1898463</td></tr>\n",
       "\t<tr><td>2007   </td><td>1919408</td></tr>\n",
       "\t<tr><td>2008   </td><td>1887234</td></tr>\n",
       "\t<tr><td>2009   </td><td>1832925</td></tr>\n",
       "\t<tr><td>2010   </td><td>1772738</td></tr>\n",
       "\t<tr><td>2011   </td><td>1753500</td></tr>\n",
       "\t<tr><td>2012   </td><td>1753922</td></tr>\n",
       "\t<tr><td>2013   </td><td>1745339</td></tr>\n",
       "\t<tr><td>2014   </td><td>1768775</td></tr>\n",
       "</tbody>\n",
       "</table>\n"
      ],
      "text/latex": [
       "\\begin{tabular}{r|ll}\n",
       " Year & Count\\\\\n",
       "\\hline\n",
       "\t 1880   &  90993\\\\\n",
       "\t 1881   &  91954\\\\\n",
       "\t 1882   & 107850\\\\\n",
       "\t 1883   & 112321\\\\\n",
       "\t 1884   & 129022\\\\\n",
       "\t 1885   & 133055\\\\\n",
       "\t 1886   & 144535\\\\\n",
       "\t 1887   & 145982\\\\\n",
       "\t 1888   & 178627\\\\\n",
       "\t 1889   & 178366\\\\\n",
       "\t 1890   & 190377\\\\\n",
       "\t 1891   & 185482\\\\\n",
       "\t 1892   & 212346\\\\\n",
       "\t 1893   & 212906\\\\\n",
       "\t 1894   & 222922\\\\\n",
       "\t 1895   & 233630\\\\\n",
       "\t 1896   & 237920\\\\\n",
       "\t 1897   & 234202\\\\\n",
       "\t 1898   & 258770\\\\\n",
       "\t 1899   & 233023\\\\\n",
       "\t 1900   & 299828\\\\\n",
       "\t 1901   & 239348\\\\\n",
       "\t 1902   & 264077\\\\\n",
       "\t 1903   & 261973\\\\\n",
       "\t 1904   & 275366\\\\\n",
       "\t 1905   & 291623\\\\\n",
       "\t 1906   & 295303\\\\\n",
       "\t 1907   & 318566\\\\\n",
       "\t 1908   & 334313\\\\\n",
       "\t 1909   & 347228\\\\\n",
       "\t ... & ...\\\\\n",
       "\t 1985    & 1720036\\\\\n",
       "\t 1986    & 1714664\\\\\n",
       "\t 1987    & 1737891\\\\\n",
       "\t 1988    & 1779839\\\\\n",
       "\t 1989    & 1843105\\\\\n",
       "\t 1990    & 1897709\\\\\n",
       "\t 1991    & 1874434\\\\\n",
       "\t 1992    & 1843304\\\\\n",
       "\t 1993    & 1808379\\\\\n",
       "\t 1994    & 1785074\\\\\n",
       "\t 1995    & 1757927\\\\\n",
       "\t 1996    & 1752249\\\\\n",
       "\t 1997    & 1739806\\\\\n",
       "\t 1998    & 1765915\\\\\n",
       "\t 1999    & 1772632\\\\\n",
       "\t 2000    & 1814601\\\\\n",
       "\t 2001    & 1799049\\\\\n",
       "\t 2002    & 1795206\\\\\n",
       "\t 2003    & 1825359\\\\\n",
       "\t 2004    & 1834145\\\\\n",
       "\t 2005    & 1845379\\\\\n",
       "\t 2006    & 1898463\\\\\n",
       "\t 2007    & 1919408\\\\\n",
       "\t 2008    & 1887234\\\\\n",
       "\t 2009    & 1832925\\\\\n",
       "\t 2010    & 1772738\\\\\n",
       "\t 2011    & 1753500\\\\\n",
       "\t 2012    & 1753922\\\\\n",
       "\t 2013    & 1745339\\\\\n",
       "\t 2014    & 1768775\\\\\n",
       "\\end{tabular}\n"
      ],
      "text/markdown": [
       "\n",
       "| Year | Count |\n",
       "|---|---|\n",
       "| 1880   |  90993 |\n",
       "| 1881   |  91954 |\n",
       "| 1882   | 107850 |\n",
       "| 1883   | 112321 |\n",
       "| 1884   | 129022 |\n",
       "| 1885   | 133055 |\n",
       "| 1886   | 144535 |\n",
       "| 1887   | 145982 |\n",
       "| 1888   | 178627 |\n",
       "| 1889   | 178366 |\n",
       "| 1890   | 190377 |\n",
       "| 1891   | 185482 |\n",
       "| 1892   | 212346 |\n",
       "| 1893   | 212906 |\n",
       "| 1894   | 222922 |\n",
       "| 1895   | 233630 |\n",
       "| 1896   | 237920 |\n",
       "| 1897   | 234202 |\n",
       "| 1898   | 258770 |\n",
       "| 1899   | 233023 |\n",
       "| 1900   | 299828 |\n",
       "| 1901   | 239348 |\n",
       "| 1902   | 264077 |\n",
       "| 1903   | 261973 |\n",
       "| 1904   | 275366 |\n",
       "| 1905   | 291623 |\n",
       "| 1906   | 295303 |\n",
       "| 1907   | 318566 |\n",
       "| 1908   | 334313 |\n",
       "| 1909   | 347228 |\n",
       "| ... | ... |\n",
       "| 1985    | 1720036 |\n",
       "| 1986    | 1714664 |\n",
       "| 1987    | 1737891 |\n",
       "| 1988    | 1779839 |\n",
       "| 1989    | 1843105 |\n",
       "| 1990    | 1897709 |\n",
       "| 1991    | 1874434 |\n",
       "| 1992    | 1843304 |\n",
       "| 1993    | 1808379 |\n",
       "| 1994    | 1785074 |\n",
       "| 1995    | 1757927 |\n",
       "| 1996    | 1752249 |\n",
       "| 1997    | 1739806 |\n",
       "| 1998    | 1765915 |\n",
       "| 1999    | 1772632 |\n",
       "| 2000    | 1814601 |\n",
       "| 2001    | 1799049 |\n",
       "| 2002    | 1795206 |\n",
       "| 2003    | 1825359 |\n",
       "| 2004    | 1834145 |\n",
       "| 2005    | 1845379 |\n",
       "| 2006    | 1898463 |\n",
       "| 2007    | 1919408 |\n",
       "| 2008    | 1887234 |\n",
       "| 2009    | 1832925 |\n",
       "| 2010    | 1772738 |\n",
       "| 2011    | 1753500 |\n",
       "| 2012    | 1753922 |\n",
       "| 2013    | 1745339 |\n",
       "| 2014    | 1768775 |\n",
       "\n"
      ],
      "text/plain": [
       "    Year Count  \n",
       "1   1880  90993 \n",
       "2   1881  91954 \n",
       "3   1882 107850 \n",
       "4   1883 112321 \n",
       "5   1884 129022 \n",
       "6   1885 133055 \n",
       "7   1886 144535 \n",
       "8   1887 145982 \n",
       "9   1888 178627 \n",
       "10  1889 178366 \n",
       "11  1890 190377 \n",
       "12  1891 185482 \n",
       "13  1892 212346 \n",
       "14  1893 212906 \n",
       "15  1894 222922 \n",
       "16  1895 233630 \n",
       "17  1896 237920 \n",
       "18  1897 234202 \n",
       "19  1898 258770 \n",
       "20  1899 233023 \n",
       "21  1900 299828 \n",
       "22  1901 239348 \n",
       "23  1902 264077 \n",
       "24  1903 261973 \n",
       "25  1904 275366 \n",
       "26  1905 291623 \n",
       "27  1906 295303 \n",
       "28  1907 318566 \n",
       "29  1908 334313 \n",
       "30  1909 347228 \n",
       "... ...  ...    \n",
       "106 1985 1720036\n",
       "107 1986 1714664\n",
       "108 1987 1737891\n",
       "109 1988 1779839\n",
       "110 1989 1843105\n",
       "111 1990 1897709\n",
       "112 1991 1874434\n",
       "113 1992 1843304\n",
       "114 1993 1808379\n",
       "115 1994 1785074\n",
       "116 1995 1757927\n",
       "117 1996 1752249\n",
       "118 1997 1739806\n",
       "119 1998 1765915\n",
       "120 1999 1772632\n",
       "121 2000 1814601\n",
       "122 2001 1799049\n",
       "123 2002 1795206\n",
       "124 2003 1825359\n",
       "125 2004 1834145\n",
       "126 2005 1845379\n",
       "127 2006 1898463\n",
       "128 2007 1919408\n",
       "129 2008 1887234\n",
       "130 2009 1832925\n",
       "131 2010 1772738\n",
       "132 2011 1753500\n",
       "133 2012 1753922\n",
       "134 2013 1745339\n",
       "135 2014 1768775"
      ]
     },
     "metadata": {},
     "output_type": "display_data"
    }
   ],
   "source": [
    "Female_y<-aggregate(Count~Year,Female,sum)\n",
    "Female_y"
   ]
  },
  {
   "cell_type": "code",
   "execution_count": 15,
   "id": "e5715360",
   "metadata": {
    "scrolled": true
   },
   "outputs": [
    {
     "data": {
      "text/html": [
       "<table>\n",
       "<thead><tr><th scope=col>Year</th><th scope=col>Count</th></tr></thead>\n",
       "<tbody>\n",
       "\t<tr><td>1880  </td><td> 90993</td></tr>\n",
       "\t<tr><td>1881  </td><td> 91954</td></tr>\n",
       "\t<tr><td>1882  </td><td>107850</td></tr>\n",
       "\t<tr><td>1883  </td><td>112321</td></tr>\n",
       "\t<tr><td>1884  </td><td>129022</td></tr>\n",
       "\t<tr><td>1885  </td><td>133055</td></tr>\n",
       "\t<tr><td>1886  </td><td>144535</td></tr>\n",
       "\t<tr><td>1887  </td><td>145982</td></tr>\n",
       "\t<tr><td>1888  </td><td>178627</td></tr>\n",
       "\t<tr><td>1889  </td><td>178366</td></tr>\n",
       "\t<tr><td>1890  </td><td>190377</td></tr>\n",
       "\t<tr><td>1891  </td><td>185482</td></tr>\n",
       "\t<tr><td>1892  </td><td>212346</td></tr>\n",
       "\t<tr><td>1893  </td><td>212906</td></tr>\n",
       "\t<tr><td>1894  </td><td>222922</td></tr>\n",
       "\t<tr><td>1895  </td><td>233630</td></tr>\n",
       "\t<tr><td>1896  </td><td>237920</td></tr>\n",
       "\t<tr><td>1897  </td><td>234202</td></tr>\n",
       "\t<tr><td>1898  </td><td>258770</td></tr>\n",
       "\t<tr><td>1899  </td><td>233023</td></tr>\n",
       "\t<tr><td>1900  </td><td>299828</td></tr>\n",
       "\t<tr><td>1901  </td><td>239348</td></tr>\n",
       "\t<tr><td>1902  </td><td>264077</td></tr>\n",
       "\t<tr><td>1903  </td><td>261973</td></tr>\n",
       "\t<tr><td>1904  </td><td>275366</td></tr>\n",
       "\t<tr><td>1905  </td><td>291623</td></tr>\n",
       "\t<tr><td>1906  </td><td>295303</td></tr>\n",
       "\t<tr><td>1907  </td><td>318566</td></tr>\n",
       "\t<tr><td>1908  </td><td>334313</td></tr>\n",
       "\t<tr><td>1909  </td><td>347228</td></tr>\n",
       "\t<tr><td>...</td><td>...</td></tr>\n",
       "\t<tr><td>1985   </td><td>1720036</td></tr>\n",
       "\t<tr><td>1986   </td><td>1714664</td></tr>\n",
       "\t<tr><td>1987   </td><td>1737891</td></tr>\n",
       "\t<tr><td>1988   </td><td>1779839</td></tr>\n",
       "\t<tr><td>1989   </td><td>1843105</td></tr>\n",
       "\t<tr><td>1990   </td><td>1897709</td></tr>\n",
       "\t<tr><td>1991   </td><td>1874434</td></tr>\n",
       "\t<tr><td>1992   </td><td>1843304</td></tr>\n",
       "\t<tr><td>1993   </td><td>1808379</td></tr>\n",
       "\t<tr><td>1994   </td><td>1785074</td></tr>\n",
       "\t<tr><td>1995   </td><td>1757927</td></tr>\n",
       "\t<tr><td>1996   </td><td>1752249</td></tr>\n",
       "\t<tr><td>1997   </td><td>1739806</td></tr>\n",
       "\t<tr><td>1998   </td><td>1765915</td></tr>\n",
       "\t<tr><td>1999   </td><td>1772632</td></tr>\n",
       "\t<tr><td>2000   </td><td>1814601</td></tr>\n",
       "\t<tr><td>2001   </td><td>1799049</td></tr>\n",
       "\t<tr><td>2002   </td><td>1795206</td></tr>\n",
       "\t<tr><td>2003   </td><td>1825359</td></tr>\n",
       "\t<tr><td>2004   </td><td>1834145</td></tr>\n",
       "\t<tr><td>2005   </td><td>1845379</td></tr>\n",
       "\t<tr><td>2006   </td><td>1898463</td></tr>\n",
       "\t<tr><td>2007   </td><td>1919408</td></tr>\n",
       "\t<tr><td>2008   </td><td>1887234</td></tr>\n",
       "\t<tr><td>2009   </td><td>1832925</td></tr>\n",
       "\t<tr><td>2010   </td><td>1772738</td></tr>\n",
       "\t<tr><td>2011   </td><td>1753500</td></tr>\n",
       "\t<tr><td>2012   </td><td>1753922</td></tr>\n",
       "\t<tr><td>2013   </td><td>1745339</td></tr>\n",
       "\t<tr><td>2014   </td><td>1768775</td></tr>\n",
       "</tbody>\n",
       "</table>\n"
      ],
      "text/latex": [
       "\\begin{tabular}{r|ll}\n",
       " Year & Count\\\\\n",
       "\\hline\n",
       "\t 1880   &  90993\\\\\n",
       "\t 1881   &  91954\\\\\n",
       "\t 1882   & 107850\\\\\n",
       "\t 1883   & 112321\\\\\n",
       "\t 1884   & 129022\\\\\n",
       "\t 1885   & 133055\\\\\n",
       "\t 1886   & 144535\\\\\n",
       "\t 1887   & 145982\\\\\n",
       "\t 1888   & 178627\\\\\n",
       "\t 1889   & 178366\\\\\n",
       "\t 1890   & 190377\\\\\n",
       "\t 1891   & 185482\\\\\n",
       "\t 1892   & 212346\\\\\n",
       "\t 1893   & 212906\\\\\n",
       "\t 1894   & 222922\\\\\n",
       "\t 1895   & 233630\\\\\n",
       "\t 1896   & 237920\\\\\n",
       "\t 1897   & 234202\\\\\n",
       "\t 1898   & 258770\\\\\n",
       "\t 1899   & 233023\\\\\n",
       "\t 1900   & 299828\\\\\n",
       "\t 1901   & 239348\\\\\n",
       "\t 1902   & 264077\\\\\n",
       "\t 1903   & 261973\\\\\n",
       "\t 1904   & 275366\\\\\n",
       "\t 1905   & 291623\\\\\n",
       "\t 1906   & 295303\\\\\n",
       "\t 1907   & 318566\\\\\n",
       "\t 1908   & 334313\\\\\n",
       "\t 1909   & 347228\\\\\n",
       "\t ... & ...\\\\\n",
       "\t 1985    & 1720036\\\\\n",
       "\t 1986    & 1714664\\\\\n",
       "\t 1987    & 1737891\\\\\n",
       "\t 1988    & 1779839\\\\\n",
       "\t 1989    & 1843105\\\\\n",
       "\t 1990    & 1897709\\\\\n",
       "\t 1991    & 1874434\\\\\n",
       "\t 1992    & 1843304\\\\\n",
       "\t 1993    & 1808379\\\\\n",
       "\t 1994    & 1785074\\\\\n",
       "\t 1995    & 1757927\\\\\n",
       "\t 1996    & 1752249\\\\\n",
       "\t 1997    & 1739806\\\\\n",
       "\t 1998    & 1765915\\\\\n",
       "\t 1999    & 1772632\\\\\n",
       "\t 2000    & 1814601\\\\\n",
       "\t 2001    & 1799049\\\\\n",
       "\t 2002    & 1795206\\\\\n",
       "\t 2003    & 1825359\\\\\n",
       "\t 2004    & 1834145\\\\\n",
       "\t 2005    & 1845379\\\\\n",
       "\t 2006    & 1898463\\\\\n",
       "\t 2007    & 1919408\\\\\n",
       "\t 2008    & 1887234\\\\\n",
       "\t 2009    & 1832925\\\\\n",
       "\t 2010    & 1772738\\\\\n",
       "\t 2011    & 1753500\\\\\n",
       "\t 2012    & 1753922\\\\\n",
       "\t 2013    & 1745339\\\\\n",
       "\t 2014    & 1768775\\\\\n",
       "\\end{tabular}\n"
      ],
      "text/markdown": [
       "\n",
       "| Year | Count |\n",
       "|---|---|\n",
       "| 1880   |  90993 |\n",
       "| 1881   |  91954 |\n",
       "| 1882   | 107850 |\n",
       "| 1883   | 112321 |\n",
       "| 1884   | 129022 |\n",
       "| 1885   | 133055 |\n",
       "| 1886   | 144535 |\n",
       "| 1887   | 145982 |\n",
       "| 1888   | 178627 |\n",
       "| 1889   | 178366 |\n",
       "| 1890   | 190377 |\n",
       "| 1891   | 185482 |\n",
       "| 1892   | 212346 |\n",
       "| 1893   | 212906 |\n",
       "| 1894   | 222922 |\n",
       "| 1895   | 233630 |\n",
       "| 1896   | 237920 |\n",
       "| 1897   | 234202 |\n",
       "| 1898   | 258770 |\n",
       "| 1899   | 233023 |\n",
       "| 1900   | 299828 |\n",
       "| 1901   | 239348 |\n",
       "| 1902   | 264077 |\n",
       "| 1903   | 261973 |\n",
       "| 1904   | 275366 |\n",
       "| 1905   | 291623 |\n",
       "| 1906   | 295303 |\n",
       "| 1907   | 318566 |\n",
       "| 1908   | 334313 |\n",
       "| 1909   | 347228 |\n",
       "| ... | ... |\n",
       "| 1985    | 1720036 |\n",
       "| 1986    | 1714664 |\n",
       "| 1987    | 1737891 |\n",
       "| 1988    | 1779839 |\n",
       "| 1989    | 1843105 |\n",
       "| 1990    | 1897709 |\n",
       "| 1991    | 1874434 |\n",
       "| 1992    | 1843304 |\n",
       "| 1993    | 1808379 |\n",
       "| 1994    | 1785074 |\n",
       "| 1995    | 1757927 |\n",
       "| 1996    | 1752249 |\n",
       "| 1997    | 1739806 |\n",
       "| 1998    | 1765915 |\n",
       "| 1999    | 1772632 |\n",
       "| 2000    | 1814601 |\n",
       "| 2001    | 1799049 |\n",
       "| 2002    | 1795206 |\n",
       "| 2003    | 1825359 |\n",
       "| 2004    | 1834145 |\n",
       "| 2005    | 1845379 |\n",
       "| 2006    | 1898463 |\n",
       "| 2007    | 1919408 |\n",
       "| 2008    | 1887234 |\n",
       "| 2009    | 1832925 |\n",
       "| 2010    | 1772738 |\n",
       "| 2011    | 1753500 |\n",
       "| 2012    | 1753922 |\n",
       "| 2013    | 1745339 |\n",
       "| 2014    | 1768775 |\n",
       "\n"
      ],
      "text/plain": [
       "    Year Count  \n",
       "1   1880  90993 \n",
       "2   1881  91954 \n",
       "3   1882 107850 \n",
       "4   1883 112321 \n",
       "5   1884 129022 \n",
       "6   1885 133055 \n",
       "7   1886 144535 \n",
       "8   1887 145982 \n",
       "9   1888 178627 \n",
       "10  1889 178366 \n",
       "11  1890 190377 \n",
       "12  1891 185482 \n",
       "13  1892 212346 \n",
       "14  1893 212906 \n",
       "15  1894 222922 \n",
       "16  1895 233630 \n",
       "17  1896 237920 \n",
       "18  1897 234202 \n",
       "19  1898 258770 \n",
       "20  1899 233023 \n",
       "21  1900 299828 \n",
       "22  1901 239348 \n",
       "23  1902 264077 \n",
       "24  1903 261973 \n",
       "25  1904 275366 \n",
       "26  1905 291623 \n",
       "27  1906 295303 \n",
       "28  1907 318566 \n",
       "29  1908 334313 \n",
       "30  1909 347228 \n",
       "... ...  ...    \n",
       "106 1985 1720036\n",
       "107 1986 1714664\n",
       "108 1987 1737891\n",
       "109 1988 1779839\n",
       "110 1989 1843105\n",
       "111 1990 1897709\n",
       "112 1991 1874434\n",
       "113 1992 1843304\n",
       "114 1993 1808379\n",
       "115 1994 1785074\n",
       "116 1995 1757927\n",
       "117 1996 1752249\n",
       "118 1997 1739806\n",
       "119 1998 1765915\n",
       "120 1999 1772632\n",
       "121 2000 1814601\n",
       "122 2001 1799049\n",
       "123 2002 1795206\n",
       "124 2003 1825359\n",
       "125 2004 1834145\n",
       "126 2005 1845379\n",
       "127 2006 1898463\n",
       "128 2007 1919408\n",
       "129 2008 1887234\n",
       "130 2009 1832925\n",
       "131 2010 1772738\n",
       "132 2011 1753500\n",
       "133 2012 1753922\n",
       "134 2013 1745339\n",
       "135 2014 1768775"
      ]
     },
     "metadata": {},
     "output_type": "display_data"
    }
   ],
   "source": [
    "Male_y<-aggregate(Count~Year,Female,sum)\n",
    "Male_y"
   ]
  },
  {
   "cell_type": "code",
   "execution_count": 16,
   "id": "4451805b",
   "metadata": {},
   "outputs": [
    {
     "ename": "ERROR",
     "evalue": "Error in xy.coords(x, y, xlabel, ylabel, log): 기본값이 없는 인수 \"x\"가 누락되어 있습니다\n",
     "output_type": "error",
     "traceback": [
      "Error in xy.coords(x, y, xlabel, ylabel, log): 기본값이 없는 인수 \"x\"가 누락되어 있습니다\nTraceback:\n",
      "1. plot(, )",
      "2. plot.default(, )",
      "3. xy.coords(x, y, xlabel, ylabel, log)"
     ]
    }
   ],
   "source": [
    "par(family = \"AppleGothic\")\n",
    "\n",
    "plot(,\n",
    ")"
   ]
  },
  {
   "cell_type": "code",
   "execution_count": null,
   "id": "e8637638",
   "metadata": {},
   "outputs": [],
   "source": []
  }
 ],
 "metadata": {
  "kernelspec": {
   "display_name": "R",
   "language": "R",
   "name": "ir"
  },
  "language_info": {
   "codemirror_mode": "r",
   "file_extension": ".r",
   "mimetype": "text/x-r-source",
   "name": "R",
   "pygments_lexer": "r",
   "version": "3.6.1"
  }
 },
 "nbformat": 4,
 "nbformat_minor": 5
}

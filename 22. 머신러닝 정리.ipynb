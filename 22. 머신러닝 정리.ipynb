{
 "cells": [
  {
   "cell_type": "code",
   "execution_count": 1,
   "id": "5756bf91",
   "metadata": {},
   "outputs": [
    {
     "name": "stderr",
     "output_type": "stream",
     "text": [
      "Loading required package: lattice\n",
      "Loading required package: ggplot2\n",
      "Registered S3 methods overwritten by 'ggplot2':\n",
      "  method         from \n",
      "  [.quosures     rlang\n",
      "  c.quosures     rlang\n",
      "  print.quosures rlang\n",
      "randomForest 4.6-14\n",
      "Type rfNews() to see new features/changes/bug fixes.\n",
      "\n",
      "Attaching package: ‘randomForest’\n",
      "\n",
      "The following object is masked from ‘package:ggplot2’:\n",
      "\n",
      "    margin\n",
      "\n",
      "Loading required package: grid\n",
      "Loading required package: mvtnorm\n",
      "Loading required package: modeltools\n",
      "Loading required package: stats4\n",
      "Loading required package: strucchange\n",
      "Loading required package: zoo\n",
      "\n",
      "Attaching package: ‘zoo’\n",
      "\n",
      "The following objects are masked from ‘package:base’:\n",
      "\n",
      "    as.Date, as.Date.numeric\n",
      "\n",
      "Loading required package: sandwich\n"
     ]
    }
   ],
   "source": [
    "library(caret) #sample\n",
    "library(nnet) #인공신경망 , 다항 로지스틱 회귀분석\n",
    "library(e1071) # svm\n",
    "library(randomForest) # randomForest\n",
    "library(party) # 의사결정나무 ctree"
   ]
  },
  {
   "cell_type": "code",
   "execution_count": 2,
   "id": "d07c6fa7",
   "metadata": {
    "scrolled": true
   },
   "outputs": [
    {
     "data": {
      "text/html": [
       "<table>\n",
       "<thead><tr><th scope=col>Sepal.Length</th><th scope=col>Sepal.Width</th><th scope=col>Petal.Length</th><th scope=col>Petal.Width</th><th scope=col>Species</th></tr></thead>\n",
       "<tbody>\n",
       "\t<tr><td>5.1   </td><td>3.5   </td><td>1.4   </td><td>0.2   </td><td>setosa</td></tr>\n",
       "\t<tr><td>4.9   </td><td>3.0   </td><td>1.4   </td><td>0.2   </td><td>setosa</td></tr>\n",
       "\t<tr><td>4.7   </td><td>3.2   </td><td>1.3   </td><td>0.2   </td><td>setosa</td></tr>\n",
       "\t<tr><td>4.6   </td><td>3.1   </td><td>1.5   </td><td>0.2   </td><td>setosa</td></tr>\n",
       "\t<tr><td>5.0   </td><td>3.6   </td><td>1.4   </td><td>0.2   </td><td>setosa</td></tr>\n",
       "\t<tr><td>5.4   </td><td>3.9   </td><td>1.7   </td><td>0.4   </td><td>setosa</td></tr>\n",
       "</tbody>\n",
       "</table>\n"
      ],
      "text/latex": [
       "\\begin{tabular}{r|lllll}\n",
       " Sepal.Length & Sepal.Width & Petal.Length & Petal.Width & Species\\\\\n",
       "\\hline\n",
       "\t 5.1    & 3.5    & 1.4    & 0.2    & setosa\\\\\n",
       "\t 4.9    & 3.0    & 1.4    & 0.2    & setosa\\\\\n",
       "\t 4.7    & 3.2    & 1.3    & 0.2    & setosa\\\\\n",
       "\t 4.6    & 3.1    & 1.5    & 0.2    & setosa\\\\\n",
       "\t 5.0    & 3.6    & 1.4    & 0.2    & setosa\\\\\n",
       "\t 5.4    & 3.9    & 1.7    & 0.4    & setosa\\\\\n",
       "\\end{tabular}\n"
      ],
      "text/markdown": [
       "\n",
       "| Sepal.Length | Sepal.Width | Petal.Length | Petal.Width | Species |\n",
       "|---|---|---|---|---|\n",
       "| 5.1    | 3.5    | 1.4    | 0.2    | setosa |\n",
       "| 4.9    | 3.0    | 1.4    | 0.2    | setosa |\n",
       "| 4.7    | 3.2    | 1.3    | 0.2    | setosa |\n",
       "| 4.6    | 3.1    | 1.5    | 0.2    | setosa |\n",
       "| 5.0    | 3.6    | 1.4    | 0.2    | setosa |\n",
       "| 5.4    | 3.9    | 1.7    | 0.4    | setosa |\n",
       "\n"
      ],
      "text/plain": [
       "  Sepal.Length Sepal.Width Petal.Length Petal.Width Species\n",
       "1 5.1          3.5         1.4          0.2         setosa \n",
       "2 4.9          3.0         1.4          0.2         setosa \n",
       "3 4.7          3.2         1.3          0.2         setosa \n",
       "4 4.6          3.1         1.5          0.2         setosa \n",
       "5 5.0          3.6         1.4          0.2         setosa \n",
       "6 5.4          3.9         1.7          0.4         setosa "
      ]
     },
     "metadata": {},
     "output_type": "display_data"
    },
    {
     "data": {
      "text/html": [
       "<table>\n",
       "<thead><tr><th></th><th scope=col>Sepal.Length</th><th scope=col>Sepal.Width</th><th scope=col>Petal.Length</th><th scope=col>Petal.Width</th><th scope=col>Species</th></tr></thead>\n",
       "<tbody>\n",
       "\t<tr><th scope=row>145</th><td>6.7      </td><td>3.3      </td><td>5.7      </td><td>2.5      </td><td>virginica</td></tr>\n",
       "\t<tr><th scope=row>146</th><td>6.7      </td><td>3.0      </td><td>5.2      </td><td>2.3      </td><td>virginica</td></tr>\n",
       "\t<tr><th scope=row>147</th><td>6.3      </td><td>2.5      </td><td>5.0      </td><td>1.9      </td><td>virginica</td></tr>\n",
       "\t<tr><th scope=row>148</th><td>6.5      </td><td>3.0      </td><td>5.2      </td><td>2.0      </td><td>virginica</td></tr>\n",
       "\t<tr><th scope=row>149</th><td>6.2      </td><td>3.4      </td><td>5.4      </td><td>2.3      </td><td>virginica</td></tr>\n",
       "\t<tr><th scope=row>150</th><td>5.9      </td><td>3.0      </td><td>5.1      </td><td>1.8      </td><td>virginica</td></tr>\n",
       "</tbody>\n",
       "</table>\n"
      ],
      "text/latex": [
       "\\begin{tabular}{r|lllll}\n",
       "  & Sepal.Length & Sepal.Width & Petal.Length & Petal.Width & Species\\\\\n",
       "\\hline\n",
       "\t145 & 6.7       & 3.3       & 5.7       & 2.5       & virginica\\\\\n",
       "\t146 & 6.7       & 3.0       & 5.2       & 2.3       & virginica\\\\\n",
       "\t147 & 6.3       & 2.5       & 5.0       & 1.9       & virginica\\\\\n",
       "\t148 & 6.5       & 3.0       & 5.2       & 2.0       & virginica\\\\\n",
       "\t149 & 6.2       & 3.4       & 5.4       & 2.3       & virginica\\\\\n",
       "\t150 & 5.9       & 3.0       & 5.1       & 1.8       & virginica\\\\\n",
       "\\end{tabular}\n"
      ],
      "text/markdown": [
       "\n",
       "| <!--/--> | Sepal.Length | Sepal.Width | Petal.Length | Petal.Width | Species |\n",
       "|---|---|---|---|---|---|\n",
       "| 145 | 6.7       | 3.3       | 5.7       | 2.5       | virginica |\n",
       "| 146 | 6.7       | 3.0       | 5.2       | 2.3       | virginica |\n",
       "| 147 | 6.3       | 2.5       | 5.0       | 1.9       | virginica |\n",
       "| 148 | 6.5       | 3.0       | 5.2       | 2.0       | virginica |\n",
       "| 149 | 6.2       | 3.4       | 5.4       | 2.3       | virginica |\n",
       "| 150 | 5.9       | 3.0       | 5.1       | 1.8       | virginica |\n",
       "\n"
      ],
      "text/plain": [
       "    Sepal.Length Sepal.Width Petal.Length Petal.Width Species  \n",
       "145 6.7          3.3         5.7          2.5         virginica\n",
       "146 6.7          3.0         5.2          2.3         virginica\n",
       "147 6.3          2.5         5.0          1.9         virginica\n",
       "148 6.5          3.0         5.2          2.0         virginica\n",
       "149 6.2          3.4         5.4          2.3         virginica\n",
       "150 5.9          3.0         5.1          1.8         virginica"
      ]
     },
     "metadata": {},
     "output_type": "display_data"
    },
    {
     "data": {
      "text/plain": [
       "  Sepal.Length    Sepal.Width     Petal.Length    Petal.Width   \n",
       " Min.   :4.300   Min.   :2.000   Min.   :1.000   Min.   :0.100  \n",
       " 1st Qu.:5.100   1st Qu.:2.800   1st Qu.:1.600   1st Qu.:0.300  \n",
       " Median :5.800   Median :3.000   Median :4.350   Median :1.300  \n",
       " Mean   :5.843   Mean   :3.057   Mean   :3.758   Mean   :1.199  \n",
       " 3rd Qu.:6.400   3rd Qu.:3.300   3rd Qu.:5.100   3rd Qu.:1.800  \n",
       " Max.   :7.900   Max.   :4.400   Max.   :6.900   Max.   :2.500  \n",
       "       Species  \n",
       " setosa    :50  \n",
       " versicolor:50  \n",
       " virginica :50  \n",
       "                \n",
       "                \n",
       "                "
      ]
     },
     "metadata": {},
     "output_type": "display_data"
    },
    {
     "data": {
      "text/html": [
       "'data.frame'"
      ],
      "text/latex": [
       "'data.frame'"
      ],
      "text/markdown": [
       "'data.frame'"
      ],
      "text/plain": [
       "[1] \"data.frame\""
      ]
     },
     "metadata": {},
     "output_type": "display_data"
    }
   ],
   "source": [
    "head(iris)\n",
    "tail(iris)\n",
    "summary(iris)\n",
    "class(iris)"
   ]
  },
  {
   "cell_type": "code",
   "execution_count": 3,
   "id": "ad05f262",
   "metadata": {
    "scrolled": true
   },
   "outputs": [
    {
     "data": {
      "text/html": [
       "<table>\n",
       "<thead><tr><th scope=col>Sepal.Length</th><th scope=col>Sepal.Width</th><th scope=col>Petal.Length</th><th scope=col>Petal.Width</th><th scope=col>Species</th></tr></thead>\n",
       "<tbody>\n",
       "\t<tr><td>-0.89767388</td><td> 1.01560199</td><td>-1.335752  </td><td>-1.3110521 </td><td>setosa     </td></tr>\n",
       "\t<tr><td>-1.13920048</td><td>-0.13153881</td><td>-1.335752  </td><td>-1.3110521 </td><td>setosa     </td></tr>\n",
       "\t<tr><td>-1.38072709</td><td> 0.32731751</td><td>-1.392399  </td><td>-1.3110521 </td><td>setosa     </td></tr>\n",
       "\t<tr><td>-1.50149039</td><td> 0.09788935</td><td>-1.279104  </td><td>-1.3110521 </td><td>setosa     </td></tr>\n",
       "\t<tr><td>-1.01843718</td><td> 1.24503015</td><td>-1.335752  </td><td>-1.3110521 </td><td>setosa     </td></tr>\n",
       "\t<tr><td>-0.53538397</td><td> 1.93331463</td><td>-1.165809  </td><td>-1.0486668 </td><td>setosa     </td></tr>\n",
       "\t<tr><td>-1.50149039</td><td> 0.78617383</td><td>-1.335752  </td><td>-1.1798595 </td><td>setosa     </td></tr>\n",
       "\t<tr><td>-1.01843718</td><td> 0.78617383</td><td>-1.279104  </td><td>-1.3110521 </td><td>setosa     </td></tr>\n",
       "\t<tr><td>-1.74301699</td><td>-0.36096697</td><td>-1.335752  </td><td>-1.3110521 </td><td>setosa     </td></tr>\n",
       "\t<tr><td>-1.13920048</td><td> 0.09788935</td><td>-1.279104  </td><td>-1.4422448 </td><td>setosa     </td></tr>\n",
       "\t<tr><td>-0.53538397</td><td> 1.47445831</td><td>-1.279104  </td><td>-1.3110521 </td><td>setosa     </td></tr>\n",
       "\t<tr><td>-1.25996379</td><td> 0.78617383</td><td>-1.222456  </td><td>-1.3110521 </td><td>setosa     </td></tr>\n",
       "\t<tr><td>-1.25996379</td><td>-0.13153881</td><td>-1.335752  </td><td>-1.4422448 </td><td>setosa     </td></tr>\n",
       "\t<tr><td>-1.86378030</td><td>-0.13153881</td><td>-1.505695  </td><td>-1.4422448 </td><td>setosa     </td></tr>\n",
       "\t<tr><td>-0.05233076</td><td> 2.16274279</td><td>-1.449047  </td><td>-1.3110521 </td><td>setosa     </td></tr>\n",
       "\t<tr><td>-0.17309407</td><td> 3.08045544</td><td>-1.279104  </td><td>-1.0486668 </td><td>setosa     </td></tr>\n",
       "\t<tr><td>-0.53538397</td><td> 1.93331463</td><td>-1.392399  </td><td>-1.0486668 </td><td>setosa     </td></tr>\n",
       "\t<tr><td>-0.89767388</td><td> 1.01560199</td><td>-1.335752  </td><td>-1.1798595 </td><td>setosa     </td></tr>\n",
       "\t<tr><td>-0.17309407</td><td> 1.70388647</td><td>-1.165809  </td><td>-1.1798595 </td><td>setosa     </td></tr>\n",
       "\t<tr><td>-0.89767388</td><td> 1.70388647</td><td>-1.279104  </td><td>-1.1798595 </td><td>setosa     </td></tr>\n",
       "\t<tr><td>-0.53538397</td><td> 0.78617383</td><td>-1.165809  </td><td>-1.3110521 </td><td>setosa     </td></tr>\n",
       "\t<tr><td>-0.89767388</td><td> 1.47445831</td><td>-1.279104  </td><td>-1.0486668 </td><td>setosa     </td></tr>\n",
       "\t<tr><td>-1.50149039</td><td> 1.24503015</td><td>-1.562342  </td><td>-1.3110521 </td><td>setosa     </td></tr>\n",
       "\t<tr><td>-0.89767388</td><td> 0.55674567</td><td>-1.165809  </td><td>-0.9174741 </td><td>setosa     </td></tr>\n",
       "\t<tr><td>-1.25996379</td><td> 0.78617383</td><td>-1.052513  </td><td>-1.3110521 </td><td>setosa     </td></tr>\n",
       "\t<tr><td>-1.01843718</td><td>-0.13153881</td><td>-1.222456  </td><td>-1.3110521 </td><td>setosa     </td></tr>\n",
       "\t<tr><td>-1.01843718</td><td> 0.78617383</td><td>-1.222456  </td><td>-1.0486668 </td><td>setosa     </td></tr>\n",
       "\t<tr><td>-0.77691058</td><td> 1.01560199</td><td>-1.279104  </td><td>-1.3110521 </td><td>setosa     </td></tr>\n",
       "\t<tr><td>-0.77691058</td><td> 0.78617383</td><td>-1.335752  </td><td>-1.3110521 </td><td>setosa     </td></tr>\n",
       "\t<tr><td>-1.38072709</td><td> 0.32731751</td><td>-1.222456  </td><td>-1.3110521 </td><td>setosa     </td></tr>\n",
       "\t<tr><td>...</td><td>...</td><td>...</td><td>...</td><td>...</td></tr>\n",
       "\t<tr><td> 1.27606556</td><td> 0.32731751</td><td>1.1000974  </td><td>1.4439941  </td><td>virginica  </td></tr>\n",
       "\t<tr><td>-0.29385737</td><td>-0.59039513</td><td>0.6469162  </td><td>1.0504160  </td><td>virginica  </td></tr>\n",
       "\t<tr><td> 2.24217198</td><td>-0.59039513</td><td>1.6665739  </td><td>1.0504160  </td><td>virginica  </td></tr>\n",
       "\t<tr><td> 0.55148575</td><td>-0.81982329</td><td>0.6469162  </td><td>0.7880307  </td><td>virginica  </td></tr>\n",
       "\t<tr><td> 1.03453895</td><td> 0.55674567</td><td>1.1000974  </td><td>1.1816087  </td><td>virginica  </td></tr>\n",
       "\t<tr><td> 1.63835547</td><td> 0.32731751</td><td>1.2700404  </td><td>0.7880307  </td><td>virginica  </td></tr>\n",
       "\t<tr><td> 0.43072244</td><td>-0.59039513</td><td>0.5902685  </td><td>0.7880307  </td><td>virginica  </td></tr>\n",
       "\t<tr><td> 0.30995914</td><td>-0.13153881</td><td>0.6469162  </td><td>0.7880307  </td><td>virginica  </td></tr>\n",
       "\t<tr><td> 0.67224905</td><td>-0.59039513</td><td>1.0434497  </td><td>1.1816087  </td><td>virginica  </td></tr>\n",
       "\t<tr><td> 1.63835547</td><td>-0.13153881</td><td>1.1567451  </td><td>0.5256453  </td><td>virginica  </td></tr>\n",
       "\t<tr><td> 1.87988207</td><td>-0.59039513</td><td>1.3266880  </td><td>0.9192234  </td><td>virginica  </td></tr>\n",
       "\t<tr><td> 2.48369858</td><td> 1.70388647</td><td>1.4966310  </td><td>1.0504160  </td><td>virginica  </td></tr>\n",
       "\t<tr><td> 0.67224905</td><td>-0.59039513</td><td>1.0434497  </td><td>1.3128014  </td><td>virginica  </td></tr>\n",
       "\t<tr><td> 0.55148575</td><td>-0.59039513</td><td>0.7602115  </td><td>0.3944526  </td><td>virginica  </td></tr>\n",
       "\t<tr><td> 0.30995914</td><td>-1.04925145</td><td>1.0434497  </td><td>0.2632600  </td><td>virginica  </td></tr>\n",
       "\t<tr><td> 2.24217198</td><td>-0.13153881</td><td>1.3266880  </td><td>1.4439941  </td><td>virginica  </td></tr>\n",
       "\t<tr><td> 0.55148575</td><td> 0.78617383</td><td>1.0434497  </td><td>1.5751867  </td><td>virginica  </td></tr>\n",
       "\t<tr><td> 0.67224905</td><td> 0.09788935</td><td>0.9868021  </td><td>0.7880307  </td><td>virginica  </td></tr>\n",
       "\t<tr><td> 0.18919584</td><td>-0.13153881</td><td>0.5902685  </td><td>0.7880307  </td><td>virginica  </td></tr>\n",
       "\t<tr><td> 1.27606556</td><td> 0.09788935</td><td>0.9301544  </td><td>1.1816087  </td><td>virginica  </td></tr>\n",
       "\t<tr><td> 1.03453895</td><td> 0.09788935</td><td>1.0434497  </td><td>1.5751867  </td><td>virginica  </td></tr>\n",
       "\t<tr><td> 1.27606556</td><td> 0.09788935</td><td>0.7602115  </td><td>1.4439941  </td><td>virginica  </td></tr>\n",
       "\t<tr><td>-0.05233076</td><td>-0.81982329</td><td>0.7602115  </td><td>0.9192234  </td><td>virginica  </td></tr>\n",
       "\t<tr><td> 1.15530226</td><td> 0.32731751</td><td>1.2133927  </td><td>1.4439941  </td><td>virginica  </td></tr>\n",
       "\t<tr><td> 1.03453895</td><td> 0.55674567</td><td>1.1000974  </td><td>1.7063794  </td><td>virginica  </td></tr>\n",
       "\t<tr><td> 1.03453895</td><td>-0.13153881</td><td>0.8168591  </td><td>1.4439941  </td><td>virginica  </td></tr>\n",
       "\t<tr><td> 0.55148575</td><td>-1.27867961</td><td>0.7035638  </td><td>0.9192234  </td><td>virginica  </td></tr>\n",
       "\t<tr><td> 0.79301235</td><td>-0.13153881</td><td>0.8168591  </td><td>1.0504160  </td><td>virginica  </td></tr>\n",
       "\t<tr><td> 0.43072244</td><td> 0.78617383</td><td>0.9301544  </td><td>1.4439941  </td><td>virginica  </td></tr>\n",
       "\t<tr><td> 0.06843254</td><td>-0.13153881</td><td>0.7602115  </td><td>0.7880307  </td><td>virginica  </td></tr>\n",
       "</tbody>\n",
       "</table>\n"
      ],
      "text/latex": [
       "\\begin{tabular}{r|lllll}\n",
       " Sepal.Length & Sepal.Width & Petal.Length & Petal.Width & Species\\\\\n",
       "\\hline\n",
       "\t -0.89767388 &  1.01560199 & -1.335752   & -1.3110521  & setosa     \\\\\n",
       "\t -1.13920048 & -0.13153881 & -1.335752   & -1.3110521  & setosa     \\\\\n",
       "\t -1.38072709 &  0.32731751 & -1.392399   & -1.3110521  & setosa     \\\\\n",
       "\t -1.50149039 &  0.09788935 & -1.279104   & -1.3110521  & setosa     \\\\\n",
       "\t -1.01843718 &  1.24503015 & -1.335752   & -1.3110521  & setosa     \\\\\n",
       "\t -0.53538397 &  1.93331463 & -1.165809   & -1.0486668  & setosa     \\\\\n",
       "\t -1.50149039 &  0.78617383 & -1.335752   & -1.1798595  & setosa     \\\\\n",
       "\t -1.01843718 &  0.78617383 & -1.279104   & -1.3110521  & setosa     \\\\\n",
       "\t -1.74301699 & -0.36096697 & -1.335752   & -1.3110521  & setosa     \\\\\n",
       "\t -1.13920048 &  0.09788935 & -1.279104   & -1.4422448  & setosa     \\\\\n",
       "\t -0.53538397 &  1.47445831 & -1.279104   & -1.3110521  & setosa     \\\\\n",
       "\t -1.25996379 &  0.78617383 & -1.222456   & -1.3110521  & setosa     \\\\\n",
       "\t -1.25996379 & -0.13153881 & -1.335752   & -1.4422448  & setosa     \\\\\n",
       "\t -1.86378030 & -0.13153881 & -1.505695   & -1.4422448  & setosa     \\\\\n",
       "\t -0.05233076 &  2.16274279 & -1.449047   & -1.3110521  & setosa     \\\\\n",
       "\t -0.17309407 &  3.08045544 & -1.279104   & -1.0486668  & setosa     \\\\\n",
       "\t -0.53538397 &  1.93331463 & -1.392399   & -1.0486668  & setosa     \\\\\n",
       "\t -0.89767388 &  1.01560199 & -1.335752   & -1.1798595  & setosa     \\\\\n",
       "\t -0.17309407 &  1.70388647 & -1.165809   & -1.1798595  & setosa     \\\\\n",
       "\t -0.89767388 &  1.70388647 & -1.279104   & -1.1798595  & setosa     \\\\\n",
       "\t -0.53538397 &  0.78617383 & -1.165809   & -1.3110521  & setosa     \\\\\n",
       "\t -0.89767388 &  1.47445831 & -1.279104   & -1.0486668  & setosa     \\\\\n",
       "\t -1.50149039 &  1.24503015 & -1.562342   & -1.3110521  & setosa     \\\\\n",
       "\t -0.89767388 &  0.55674567 & -1.165809   & -0.9174741  & setosa     \\\\\n",
       "\t -1.25996379 &  0.78617383 & -1.052513   & -1.3110521  & setosa     \\\\\n",
       "\t -1.01843718 & -0.13153881 & -1.222456   & -1.3110521  & setosa     \\\\\n",
       "\t -1.01843718 &  0.78617383 & -1.222456   & -1.0486668  & setosa     \\\\\n",
       "\t -0.77691058 &  1.01560199 & -1.279104   & -1.3110521  & setosa     \\\\\n",
       "\t -0.77691058 &  0.78617383 & -1.335752   & -1.3110521  & setosa     \\\\\n",
       "\t -1.38072709 &  0.32731751 & -1.222456   & -1.3110521  & setosa     \\\\\n",
       "\t ... & ... & ... & ... & ...\\\\\n",
       "\t  1.27606556 &  0.32731751 & 1.1000974   & 1.4439941   & virginica  \\\\\n",
       "\t -0.29385737 & -0.59039513 & 0.6469162   & 1.0504160   & virginica  \\\\\n",
       "\t  2.24217198 & -0.59039513 & 1.6665739   & 1.0504160   & virginica  \\\\\n",
       "\t  0.55148575 & -0.81982329 & 0.6469162   & 0.7880307   & virginica  \\\\\n",
       "\t  1.03453895 &  0.55674567 & 1.1000974   & 1.1816087   & virginica  \\\\\n",
       "\t  1.63835547 &  0.32731751 & 1.2700404   & 0.7880307   & virginica  \\\\\n",
       "\t  0.43072244 & -0.59039513 & 0.5902685   & 0.7880307   & virginica  \\\\\n",
       "\t  0.30995914 & -0.13153881 & 0.6469162   & 0.7880307   & virginica  \\\\\n",
       "\t  0.67224905 & -0.59039513 & 1.0434497   & 1.1816087   & virginica  \\\\\n",
       "\t  1.63835547 & -0.13153881 & 1.1567451   & 0.5256453   & virginica  \\\\\n",
       "\t  1.87988207 & -0.59039513 & 1.3266880   & 0.9192234   & virginica  \\\\\n",
       "\t  2.48369858 &  1.70388647 & 1.4966310   & 1.0504160   & virginica  \\\\\n",
       "\t  0.67224905 & -0.59039513 & 1.0434497   & 1.3128014   & virginica  \\\\\n",
       "\t  0.55148575 & -0.59039513 & 0.7602115   & 0.3944526   & virginica  \\\\\n",
       "\t  0.30995914 & -1.04925145 & 1.0434497   & 0.2632600   & virginica  \\\\\n",
       "\t  2.24217198 & -0.13153881 & 1.3266880   & 1.4439941   & virginica  \\\\\n",
       "\t  0.55148575 &  0.78617383 & 1.0434497   & 1.5751867   & virginica  \\\\\n",
       "\t  0.67224905 &  0.09788935 & 0.9868021   & 0.7880307   & virginica  \\\\\n",
       "\t  0.18919584 & -0.13153881 & 0.5902685   & 0.7880307   & virginica  \\\\\n",
       "\t  1.27606556 &  0.09788935 & 0.9301544   & 1.1816087   & virginica  \\\\\n",
       "\t  1.03453895 &  0.09788935 & 1.0434497   & 1.5751867   & virginica  \\\\\n",
       "\t  1.27606556 &  0.09788935 & 0.7602115   & 1.4439941   & virginica  \\\\\n",
       "\t -0.05233076 & -0.81982329 & 0.7602115   & 0.9192234   & virginica  \\\\\n",
       "\t  1.15530226 &  0.32731751 & 1.2133927   & 1.4439941   & virginica  \\\\\n",
       "\t  1.03453895 &  0.55674567 & 1.1000974   & 1.7063794   & virginica  \\\\\n",
       "\t  1.03453895 & -0.13153881 & 0.8168591   & 1.4439941   & virginica  \\\\\n",
       "\t  0.55148575 & -1.27867961 & 0.7035638   & 0.9192234   & virginica  \\\\\n",
       "\t  0.79301235 & -0.13153881 & 0.8168591   & 1.0504160   & virginica  \\\\\n",
       "\t  0.43072244 &  0.78617383 & 0.9301544   & 1.4439941   & virginica  \\\\\n",
       "\t  0.06843254 & -0.13153881 & 0.7602115   & 0.7880307   & virginica  \\\\\n",
       "\\end{tabular}\n"
      ],
      "text/markdown": [
       "\n",
       "| Sepal.Length | Sepal.Width | Petal.Length | Petal.Width | Species |\n",
       "|---|---|---|---|---|\n",
       "| -0.89767388 |  1.01560199 | -1.335752   | -1.3110521  | setosa      |\n",
       "| -1.13920048 | -0.13153881 | -1.335752   | -1.3110521  | setosa      |\n",
       "| -1.38072709 |  0.32731751 | -1.392399   | -1.3110521  | setosa      |\n",
       "| -1.50149039 |  0.09788935 | -1.279104   | -1.3110521  | setosa      |\n",
       "| -1.01843718 |  1.24503015 | -1.335752   | -1.3110521  | setosa      |\n",
       "| -0.53538397 |  1.93331463 | -1.165809   | -1.0486668  | setosa      |\n",
       "| -1.50149039 |  0.78617383 | -1.335752   | -1.1798595  | setosa      |\n",
       "| -1.01843718 |  0.78617383 | -1.279104   | -1.3110521  | setosa      |\n",
       "| -1.74301699 | -0.36096697 | -1.335752   | -1.3110521  | setosa      |\n",
       "| -1.13920048 |  0.09788935 | -1.279104   | -1.4422448  | setosa      |\n",
       "| -0.53538397 |  1.47445831 | -1.279104   | -1.3110521  | setosa      |\n",
       "| -1.25996379 |  0.78617383 | -1.222456   | -1.3110521  | setosa      |\n",
       "| -1.25996379 | -0.13153881 | -1.335752   | -1.4422448  | setosa      |\n",
       "| -1.86378030 | -0.13153881 | -1.505695   | -1.4422448  | setosa      |\n",
       "| -0.05233076 |  2.16274279 | -1.449047   | -1.3110521  | setosa      |\n",
       "| -0.17309407 |  3.08045544 | -1.279104   | -1.0486668  | setosa      |\n",
       "| -0.53538397 |  1.93331463 | -1.392399   | -1.0486668  | setosa      |\n",
       "| -0.89767388 |  1.01560199 | -1.335752   | -1.1798595  | setosa      |\n",
       "| -0.17309407 |  1.70388647 | -1.165809   | -1.1798595  | setosa      |\n",
       "| -0.89767388 |  1.70388647 | -1.279104   | -1.1798595  | setosa      |\n",
       "| -0.53538397 |  0.78617383 | -1.165809   | -1.3110521  | setosa      |\n",
       "| -0.89767388 |  1.47445831 | -1.279104   | -1.0486668  | setosa      |\n",
       "| -1.50149039 |  1.24503015 | -1.562342   | -1.3110521  | setosa      |\n",
       "| -0.89767388 |  0.55674567 | -1.165809   | -0.9174741  | setosa      |\n",
       "| -1.25996379 |  0.78617383 | -1.052513   | -1.3110521  | setosa      |\n",
       "| -1.01843718 | -0.13153881 | -1.222456   | -1.3110521  | setosa      |\n",
       "| -1.01843718 |  0.78617383 | -1.222456   | -1.0486668  | setosa      |\n",
       "| -0.77691058 |  1.01560199 | -1.279104   | -1.3110521  | setosa      |\n",
       "| -0.77691058 |  0.78617383 | -1.335752   | -1.3110521  | setosa      |\n",
       "| -1.38072709 |  0.32731751 | -1.222456   | -1.3110521  | setosa      |\n",
       "| ... | ... | ... | ... | ... |\n",
       "|  1.27606556 |  0.32731751 | 1.1000974   | 1.4439941   | virginica   |\n",
       "| -0.29385737 | -0.59039513 | 0.6469162   | 1.0504160   | virginica   |\n",
       "|  2.24217198 | -0.59039513 | 1.6665739   | 1.0504160   | virginica   |\n",
       "|  0.55148575 | -0.81982329 | 0.6469162   | 0.7880307   | virginica   |\n",
       "|  1.03453895 |  0.55674567 | 1.1000974   | 1.1816087   | virginica   |\n",
       "|  1.63835547 |  0.32731751 | 1.2700404   | 0.7880307   | virginica   |\n",
       "|  0.43072244 | -0.59039513 | 0.5902685   | 0.7880307   | virginica   |\n",
       "|  0.30995914 | -0.13153881 | 0.6469162   | 0.7880307   | virginica   |\n",
       "|  0.67224905 | -0.59039513 | 1.0434497   | 1.1816087   | virginica   |\n",
       "|  1.63835547 | -0.13153881 | 1.1567451   | 0.5256453   | virginica   |\n",
       "|  1.87988207 | -0.59039513 | 1.3266880   | 0.9192234   | virginica   |\n",
       "|  2.48369858 |  1.70388647 | 1.4966310   | 1.0504160   | virginica   |\n",
       "|  0.67224905 | -0.59039513 | 1.0434497   | 1.3128014   | virginica   |\n",
       "|  0.55148575 | -0.59039513 | 0.7602115   | 0.3944526   | virginica   |\n",
       "|  0.30995914 | -1.04925145 | 1.0434497   | 0.2632600   | virginica   |\n",
       "|  2.24217198 | -0.13153881 | 1.3266880   | 1.4439941   | virginica   |\n",
       "|  0.55148575 |  0.78617383 | 1.0434497   | 1.5751867   | virginica   |\n",
       "|  0.67224905 |  0.09788935 | 0.9868021   | 0.7880307   | virginica   |\n",
       "|  0.18919584 | -0.13153881 | 0.5902685   | 0.7880307   | virginica   |\n",
       "|  1.27606556 |  0.09788935 | 0.9301544   | 1.1816087   | virginica   |\n",
       "|  1.03453895 |  0.09788935 | 1.0434497   | 1.5751867   | virginica   |\n",
       "|  1.27606556 |  0.09788935 | 0.7602115   | 1.4439941   | virginica   |\n",
       "| -0.05233076 | -0.81982329 | 0.7602115   | 0.9192234   | virginica   |\n",
       "|  1.15530226 |  0.32731751 | 1.2133927   | 1.4439941   | virginica   |\n",
       "|  1.03453895 |  0.55674567 | 1.1000974   | 1.7063794   | virginica   |\n",
       "|  1.03453895 | -0.13153881 | 0.8168591   | 1.4439941   | virginica   |\n",
       "|  0.55148575 | -1.27867961 | 0.7035638   | 0.9192234   | virginica   |\n",
       "|  0.79301235 | -0.13153881 | 0.8168591   | 1.0504160   | virginica   |\n",
       "|  0.43072244 |  0.78617383 | 0.9301544   | 1.4439941   | virginica   |\n",
       "|  0.06843254 | -0.13153881 | 0.7602115   | 0.7880307   | virginica   |\n",
       "\n"
      ],
      "text/plain": [
       "    Sepal.Length Sepal.Width Petal.Length Petal.Width Species  \n",
       "1   -0.89767388   1.01560199 -1.335752    -1.3110521  setosa   \n",
       "2   -1.13920048  -0.13153881 -1.335752    -1.3110521  setosa   \n",
       "3   -1.38072709   0.32731751 -1.392399    -1.3110521  setosa   \n",
       "4   -1.50149039   0.09788935 -1.279104    -1.3110521  setosa   \n",
       "5   -1.01843718   1.24503015 -1.335752    -1.3110521  setosa   \n",
       "6   -0.53538397   1.93331463 -1.165809    -1.0486668  setosa   \n",
       "7   -1.50149039   0.78617383 -1.335752    -1.1798595  setosa   \n",
       "8   -1.01843718   0.78617383 -1.279104    -1.3110521  setosa   \n",
       "9   -1.74301699  -0.36096697 -1.335752    -1.3110521  setosa   \n",
       "10  -1.13920048   0.09788935 -1.279104    -1.4422448  setosa   \n",
       "11  -0.53538397   1.47445831 -1.279104    -1.3110521  setosa   \n",
       "12  -1.25996379   0.78617383 -1.222456    -1.3110521  setosa   \n",
       "13  -1.25996379  -0.13153881 -1.335752    -1.4422448  setosa   \n",
       "14  -1.86378030  -0.13153881 -1.505695    -1.4422448  setosa   \n",
       "15  -0.05233076   2.16274279 -1.449047    -1.3110521  setosa   \n",
       "16  -0.17309407   3.08045544 -1.279104    -1.0486668  setosa   \n",
       "17  -0.53538397   1.93331463 -1.392399    -1.0486668  setosa   \n",
       "18  -0.89767388   1.01560199 -1.335752    -1.1798595  setosa   \n",
       "19  -0.17309407   1.70388647 -1.165809    -1.1798595  setosa   \n",
       "20  -0.89767388   1.70388647 -1.279104    -1.1798595  setosa   \n",
       "21  -0.53538397   0.78617383 -1.165809    -1.3110521  setosa   \n",
       "22  -0.89767388   1.47445831 -1.279104    -1.0486668  setosa   \n",
       "23  -1.50149039   1.24503015 -1.562342    -1.3110521  setosa   \n",
       "24  -0.89767388   0.55674567 -1.165809    -0.9174741  setosa   \n",
       "25  -1.25996379   0.78617383 -1.052513    -1.3110521  setosa   \n",
       "26  -1.01843718  -0.13153881 -1.222456    -1.3110521  setosa   \n",
       "27  -1.01843718   0.78617383 -1.222456    -1.0486668  setosa   \n",
       "28  -0.77691058   1.01560199 -1.279104    -1.3110521  setosa   \n",
       "29  -0.77691058   0.78617383 -1.335752    -1.3110521  setosa   \n",
       "30  -1.38072709   0.32731751 -1.222456    -1.3110521  setosa   \n",
       "... ...          ...         ...          ...         ...      \n",
       "121  1.27606556   0.32731751 1.1000974    1.4439941   virginica\n",
       "122 -0.29385737  -0.59039513 0.6469162    1.0504160   virginica\n",
       "123  2.24217198  -0.59039513 1.6665739    1.0504160   virginica\n",
       "124  0.55148575  -0.81982329 0.6469162    0.7880307   virginica\n",
       "125  1.03453895   0.55674567 1.1000974    1.1816087   virginica\n",
       "126  1.63835547   0.32731751 1.2700404    0.7880307   virginica\n",
       "127  0.43072244  -0.59039513 0.5902685    0.7880307   virginica\n",
       "128  0.30995914  -0.13153881 0.6469162    0.7880307   virginica\n",
       "129  0.67224905  -0.59039513 1.0434497    1.1816087   virginica\n",
       "130  1.63835547  -0.13153881 1.1567451    0.5256453   virginica\n",
       "131  1.87988207  -0.59039513 1.3266880    0.9192234   virginica\n",
       "132  2.48369858   1.70388647 1.4966310    1.0504160   virginica\n",
       "133  0.67224905  -0.59039513 1.0434497    1.3128014   virginica\n",
       "134  0.55148575  -0.59039513 0.7602115    0.3944526   virginica\n",
       "135  0.30995914  -1.04925145 1.0434497    0.2632600   virginica\n",
       "136  2.24217198  -0.13153881 1.3266880    1.4439941   virginica\n",
       "137  0.55148575   0.78617383 1.0434497    1.5751867   virginica\n",
       "138  0.67224905   0.09788935 0.9868021    0.7880307   virginica\n",
       "139  0.18919584  -0.13153881 0.5902685    0.7880307   virginica\n",
       "140  1.27606556   0.09788935 0.9301544    1.1816087   virginica\n",
       "141  1.03453895   0.09788935 1.0434497    1.5751867   virginica\n",
       "142  1.27606556   0.09788935 0.7602115    1.4439941   virginica\n",
       "143 -0.05233076  -0.81982329 0.7602115    0.9192234   virginica\n",
       "144  1.15530226   0.32731751 1.2133927    1.4439941   virginica\n",
       "145  1.03453895   0.55674567 1.1000974    1.7063794   virginica\n",
       "146  1.03453895  -0.13153881 0.8168591    1.4439941   virginica\n",
       "147  0.55148575  -1.27867961 0.7035638    0.9192234   virginica\n",
       "148  0.79301235  -0.13153881 0.8168591    1.0504160   virginica\n",
       "149  0.43072244   0.78617383 0.9301544    1.4439941   virginica\n",
       "150  0.06843254  -0.13153881 0.7602115    0.7880307   virginica"
      ]
     },
     "metadata": {},
     "output_type": "display_data"
    }
   ],
   "source": [
    "# 표준화 : 인공신경망,SVM,다항 로지스틱 분석에만 사용\n",
    "iris2 <- iris\n",
    "iris2[,1:4] <- as.data.frame(scale(iris[,1:4]));iris2"
   ]
  },
  {
   "cell_type": "code",
   "execution_count": 4,
   "id": "12842f97",
   "metadata": {
    "scrolled": true
   },
   "outputs": [],
   "source": [
    "# 샘플나누기1 : 의사결정나무,RandomForest. 즉, 표준화하지 않는 iris1\n",
    "\n",
    "iris1 <- iris\n",
    "sampling1 <- function(){\n",
    "samp1 <<- createDataPartition(iris1$Species , p = 0.7,list = F) #<<-를 하는 이유는 외부데이터를 손상되게 하지 않기 위함이다.\n",
    "data.tr1 <<- iris1[samp1,]                                       #단, function내에서만 가능하다.\n",
    "data.test1 <<- iris1[-samp1,]\n",
    "\n",
    "x1 <<- subset(data.test1, select = -Species)\n",
    "y1 <<- data.test1$Species\n",
    "    \n",
    "}    \n"
   ]
  },
  {
   "cell_type": "code",
   "execution_count": 5,
   "id": "111e77c1",
   "metadata": {},
   "outputs": [
    {
     "data": {
      "text/html": [
       "<table>\n",
       "<thead><tr><th scope=col>Resample1</th></tr></thead>\n",
       "<tbody>\n",
       "\t<tr><td>1</td></tr>\n",
       "\t<tr><td>3</td></tr>\n",
       "\t<tr><td>4</td></tr>\n",
       "\t<tr><td>6</td></tr>\n",
       "\t<tr><td>7</td></tr>\n",
       "\t<tr><td>9</td></tr>\n",
       "</tbody>\n",
       "</table>\n"
      ],
      "text/latex": [
       "\\begin{tabular}{l}\n",
       " Resample1\\\\\n",
       "\\hline\n",
       "\t 1\\\\\n",
       "\t 3\\\\\n",
       "\t 4\\\\\n",
       "\t 6\\\\\n",
       "\t 7\\\\\n",
       "\t 9\\\\\n",
       "\\end{tabular}\n"
      ],
      "text/markdown": [
       "\n",
       "| Resample1 |\n",
       "|---|\n",
       "| 1 |\n",
       "| 3 |\n",
       "| 4 |\n",
       "| 6 |\n",
       "| 7 |\n",
       "| 9 |\n",
       "\n"
      ],
      "text/plain": [
       "     Resample1\n",
       "[1,] 1        \n",
       "[2,] 3        \n",
       "[3,] 4        \n",
       "[4,] 6        \n",
       "[5,] 7        \n",
       "[6,] 9        "
      ]
     },
     "metadata": {},
     "output_type": "display_data"
    }
   ],
   "source": [
    "sampling1() \n",
    "head(samp1)"
   ]
  },
  {
   "cell_type": "code",
   "execution_count": 6,
   "id": "95052542",
   "metadata": {},
   "outputs": [],
   "source": [
    "# 샘플나누기2 : 인공신경망,SVM,다항 로지스틱 분석. 즉, 표준화한 iris2\n",
    "\n",
    "sampling2 <- function(){\n",
    "samp2 <<- createDataPartition(iris2$Species , p = 0.7,list = F) #<<-를 하는 이유는 외부데이터를 손상되게 하지 않기 위함이다.\n",
    "data.tr2 <<- iris2[samp2,]                                       #단, function내에서만 가능하다.\n",
    "data.test2 <<- iris2[-samp2,]\n",
    "\n",
    "x2 <<- subset(data.test2, select = -Species)\n",
    "y2 <<- data.test2$Species\n",
    "    \n",
    "}    \n"
   ]
  },
  {
   "cell_type": "code",
   "execution_count": 7,
   "id": "0946de61",
   "metadata": {},
   "outputs": [
    {
     "data": {
      "text/html": [
       "<table>\n",
       "<thead><tr><th scope=col>Resample1</th></tr></thead>\n",
       "<tbody>\n",
       "\t<tr><td>1</td></tr>\n",
       "\t<tr><td>2</td></tr>\n",
       "\t<tr><td>3</td></tr>\n",
       "\t<tr><td>4</td></tr>\n",
       "\t<tr><td>5</td></tr>\n",
       "\t<tr><td>6</td></tr>\n",
       "</tbody>\n",
       "</table>\n"
      ],
      "text/latex": [
       "\\begin{tabular}{l}\n",
       " Resample1\\\\\n",
       "\\hline\n",
       "\t 1\\\\\n",
       "\t 2\\\\\n",
       "\t 3\\\\\n",
       "\t 4\\\\\n",
       "\t 5\\\\\n",
       "\t 6\\\\\n",
       "\\end{tabular}\n"
      ],
      "text/markdown": [
       "\n",
       "| Resample1 |\n",
       "|---|\n",
       "| 1 |\n",
       "| 2 |\n",
       "| 3 |\n",
       "| 4 |\n",
       "| 5 |\n",
       "| 6 |\n",
       "\n"
      ],
      "text/plain": [
       "     Resample1\n",
       "[1,] 1        \n",
       "[2,] 2        \n",
       "[3,] 3        \n",
       "[4,] 4        \n",
       "[5,] 5        \n",
       "[6,] 6        "
      ]
     },
     "metadata": {},
     "output_type": "display_data"
    }
   ],
   "source": [
    "sampling2() \n",
    "head(samp2)"
   ]
  },
  {
   "cell_type": "markdown",
   "id": "89b3d210",
   "metadata": {},
   "source": [
    "---\n",
    "# 1. 인공 신경망-표준화"
   ]
  },
  {
   "cell_type": "code",
   "execution_count": 8,
   "id": "8994d2e9",
   "metadata": {},
   "outputs": [],
   "source": [
    "#인공신경망 테스트\n",
    "ANN <- function(data.tr2 , data.test2 , x2 , y2 ){\n",
    "    model.nnet <- nnet(Species ~. , data = data.tr2 , size = 3)\n",
    "    pred <- predict(model.nnet , x2 , type = \"class\")\n",
    "    cat(\"예측력\" ,mean(pred == y2), \"입니다.\")\n",
    "    table(pred,y2)\n",
    "    return(mean(pred == y2))\n",
    "}"
   ]
  },
  {
   "cell_type": "code",
   "execution_count": 9,
   "id": "e456846a",
   "metadata": {},
   "outputs": [
    {
     "name": "stdout",
     "output_type": "stream",
     "text": [
      "# weights:  27\n",
      "initial  value 124.346007 \n",
      "iter  10 value 27.279952\n",
      "iter  20 value 7.892428\n",
      "iter  30 value 4.932753\n",
      "iter  40 value 4.736111\n",
      "iter  50 value 4.663517\n",
      "iter  60 value 4.572233\n",
      "iter  70 value 4.571241\n",
      "iter  80 value 4.570765\n",
      "iter  90 value 4.569917\n",
      "iter 100 value 4.569628\n",
      "final  value 4.569628 \n",
      "stopped after 100 iterations\n",
      "예측력 1 입니다."
     ]
    },
    {
     "data": {
      "text/html": [
       "1"
      ],
      "text/latex": [
       "1"
      ],
      "text/markdown": [
       "1"
      ],
      "text/plain": [
       "[1] 1"
      ]
     },
     "metadata": {},
     "output_type": "display_data"
    }
   ],
   "source": [
    "ANN(data.tr2 , data.test2 , x2 , y2 )"
   ]
  },
  {
   "cell_type": "markdown",
   "id": "1481eb0e",
   "metadata": {},
   "source": [
    "---\n",
    "# 2. 의사결정나무"
   ]
  },
  {
   "cell_type": "code",
   "execution_count": 10,
   "id": "6de47715",
   "metadata": {
    "scrolled": true
   },
   "outputs": [],
   "source": [
    "#의사결정 나무 \n",
    "CTREE <-function(data.tr1 , data.test1 , x1 , y1 ){\n",
    "    model.ctree <- ctree(Species ~ . , data=data.tr1)\n",
    "    pred <- predict(model.ctree , x1 )\n",
    "    cat(\"예측력\" ,mean(pred == y1), \"입니다.\")\n",
    "    table(pred,y1)\n",
    "    return(mean(pred == y1))\n",
    "}"
   ]
  },
  {
   "cell_type": "code",
   "execution_count": 11,
   "id": "67df19f6",
   "metadata": {},
   "outputs": [
    {
     "name": "stdout",
     "output_type": "stream",
     "text": [
      "예측력 0.9777778 입니다."
     ]
    },
    {
     "data": {
      "text/html": [
       "0.977777777777778"
      ],
      "text/latex": [
       "0.977777777777778"
      ],
      "text/markdown": [
       "0.977777777777778"
      ],
      "text/plain": [
       "[1] 0.9777778"
      ]
     },
     "metadata": {},
     "output_type": "display_data"
    }
   ],
   "source": [
    "CTREE(data.tr1 , data.test1 , x1 , y1 )"
   ]
  },
  {
   "cell_type": "markdown",
   "id": "aff7183b",
   "metadata": {},
   "source": [
    "---\n",
    "# 3. RandomForest"
   ]
  },
  {
   "cell_type": "code",
   "execution_count": 12,
   "id": "2fd61d4f",
   "metadata": {},
   "outputs": [],
   "source": [
    "#RandomForesst\n",
    "RandomForest<-function(data.tr1 , data.test1 , x1 , y1 ){\n",
    "    model.rf <- randomForest(Species ~ . , data=data.tr1, ntree = 100)\n",
    "    pred <- predict(model.rf , x1 )\n",
    "    cat(\"예측력\" ,mean(pred == y1), \"입니다.\")\n",
    "    table(pred,y1)\n",
    "    return(mean(pred == y1))\n",
    "} "
   ]
  },
  {
   "cell_type": "code",
   "execution_count": 13,
   "id": "44beae3f",
   "metadata": {},
   "outputs": [
    {
     "name": "stdout",
     "output_type": "stream",
     "text": [
      "예측력 1 입니다."
     ]
    },
    {
     "data": {
      "text/html": [
       "1"
      ],
      "text/latex": [
       "1"
      ],
      "text/markdown": [
       "1"
      ],
      "text/plain": [
       "[1] 1"
      ]
     },
     "metadata": {},
     "output_type": "display_data"
    }
   ],
   "source": [
    "RandomForest(data.tr1 , data.test1 , x1 , y1 )"
   ]
  },
  {
   "cell_type": "markdown",
   "id": "6612d0b8",
   "metadata": {},
   "source": [
    "---\n",
    "# 4. SVM-표준화"
   ]
  },
  {
   "cell_type": "code",
   "execution_count": 14,
   "id": "7d8edd57",
   "metadata": {},
   "outputs": [],
   "source": [
    "#SVM\n",
    "SVM <-function(data.tr2 , data.test2 , x2 , y2 ){\n",
    "    model.svm <- svm(Species ~ . , data=data.tr2)\n",
    "    pred <- predict(model.svm , x2 )\n",
    "    cat(\"예측력\" ,mean(pred == y2), \"입니다.\")\n",
    "    table(pred,y2)\n",
    "    return(mean(pred == y2))\n",
    "} "
   ]
  },
  {
   "cell_type": "code",
   "execution_count": 15,
   "id": "6b772881",
   "metadata": {},
   "outputs": [
    {
     "name": "stdout",
     "output_type": "stream",
     "text": [
      "예측력 0.9777778 입니다."
     ]
    },
    {
     "data": {
      "text/html": [
       "0.977777777777778"
      ],
      "text/latex": [
       "0.977777777777778"
      ],
      "text/markdown": [
       "0.977777777777778"
      ],
      "text/plain": [
       "[1] 0.9777778"
      ]
     },
     "metadata": {},
     "output_type": "display_data"
    }
   ],
   "source": [
    "SVM(data.tr2 , data.test2 , x2 , y2 )"
   ]
  },
  {
   "cell_type": "markdown",
   "id": "8f17d995",
   "metadata": {},
   "source": [
    "---\n",
    "# 5. 로지스틱회귀분석-표준화"
   ]
  },
  {
   "cell_type": "code",
   "execution_count": 16,
   "id": "f4d8dabb",
   "metadata": {},
   "outputs": [],
   "source": [
    "#Logistic regression\n",
    "Logisticreg <-function(data.tr2 , data.test2 , x2 , y2 ){\n",
    "    model.log <- multinom(Species ~ . , data=data.tr2)\n",
    "    pred <- predict(model.log , x2 )\n",
    "    cat(\"예측력\" ,mean(pred == y2), \"입니다.\")\n",
    "    table(pred,y2)\n",
    "    return(mean(pred == y2))\n",
    "} "
   ]
  },
  {
   "cell_type": "code",
   "execution_count": 17,
   "id": "060ecf2c",
   "metadata": {},
   "outputs": [
    {
     "name": "stdout",
     "output_type": "stream",
     "text": [
      "# weights:  18 (10 variable)\n",
      "initial  value 115.354290 \n",
      "iter  10 value 11.096359\n",
      "iter  20 value 5.502204\n",
      "iter  30 value 5.466094\n",
      "iter  40 value 5.461424\n",
      "iter  50 value 5.460505\n",
      "iter  60 value 5.459325\n",
      "iter  70 value 5.459011\n",
      "iter  80 value 5.458771\n",
      "iter  90 value 5.458735\n",
      "iter 100 value 5.458706\n",
      "final  value 5.458706 \n",
      "stopped after 100 iterations\n",
      "예측력 1 입니다."
     ]
    },
    {
     "data": {
      "text/html": [
       "1"
      ],
      "text/latex": [
       "1"
      ],
      "text/markdown": [
       "1"
      ],
      "text/plain": [
       "[1] 1"
      ]
     },
     "metadata": {},
     "output_type": "display_data"
    }
   ],
   "source": [
    "Logisticreg(data.tr2 , data.test2 , x2 , y2 )"
   ]
  },
  {
   "cell_type": "code",
   "execution_count": 18,
   "id": "4d426205",
   "metadata": {},
   "outputs": [
    {
     "name": "stdout",
     "output_type": "stream",
     "text": [
      "# weights:  27\n",
      "initial  value 116.625330 \n",
      "iter  10 value 7.806520\n",
      "iter  20 value 5.729919\n",
      "iter  30 value 5.516131\n",
      "iter  40 value 5.491545\n",
      "iter  50 value 5.469742\n",
      "iter  60 value 5.465697\n",
      "iter  70 value 5.463267\n",
      "iter  80 value 5.452012\n",
      "iter  90 value 5.444582\n",
      "iter 100 value 5.441780\n",
      "final  value 5.441780 \n",
      "stopped after 100 iterations\n",
      "예측력 1 입니다.예측력 0.9777778 입니다.예측력 0.9777778 입니다.예측력 0.9777778 입니다.# weights:  18 (10 variable)\n",
      "initial  value 115.354290 \n",
      "iter  10 value 11.096359\n",
      "iter  20 value 5.502204\n",
      "iter  30 value 5.466094\n",
      "iter  40 value 5.461424\n",
      "iter  50 value 5.460505\n",
      "iter  60 value 5.459325\n",
      "iter  70 value 5.459011\n",
      "iter  80 value 5.458771\n",
      "iter  90 value 5.458735\n",
      "iter 100 value 5.458706\n",
      "final  value 5.458706 \n",
      "stopped after 100 iterations\n",
      "예측력 1 입니다.# weights:  27\n",
      "initial  value 115.283549 \n",
      "iter  10 value 18.996527\n",
      "iter  20 value 5.881789\n",
      "iter  30 value 5.579936\n",
      "iter  40 value 4.927613\n",
      "iter  50 value 4.803497\n",
      "iter  60 value 4.250891\n",
      "iter  70 value 3.574240\n",
      "iter  80 value 2.233856\n",
      "iter  90 value 1.049782\n",
      "iter 100 value 0.732744\n",
      "final  value 0.732744 \n",
      "stopped after 100 iterations\n",
      "예측력 1 입니다.예측력 0.9777778 입니다.예측력 1 입니다.예측력 0.9777778 입니다.# weights:  18 (10 variable)\n",
      "initial  value 115.354290 \n",
      "iter  10 value 11.096359\n",
      "iter  20 value 5.502204\n",
      "iter  30 value 5.466094\n",
      "iter  40 value 5.461424\n",
      "iter  50 value 5.460505\n",
      "iter  60 value 5.459325\n",
      "iter  70 value 5.459011\n",
      "iter  80 value 5.458771\n",
      "iter  90 value 5.458735\n",
      "iter 100 value 5.458706\n",
      "final  value 5.458706 \n",
      "stopped after 100 iterations\n",
      "예측력 1 입니다.# weights:  27\n",
      "initial  value 122.532848 \n",
      "iter  10 value 16.719287\n",
      "iter  20 value 5.795226\n",
      "iter  30 value 5.534918\n",
      "iter  40 value 5.468849\n",
      "iter  50 value 5.445156\n",
      "iter  60 value 5.443877\n",
      "iter  70 value 5.443805\n",
      "iter  80 value 5.436743\n",
      "iter  90 value 5.310648\n",
      "iter 100 value 4.894387\n",
      "final  value 4.894387 \n",
      "stopped after 100 iterations\n",
      "예측력 0.9777778 입니다.예측력 0.9777778 입니다.예측력 0.9777778 입니다.예측력 0.9777778 입니다.# weights:  18 (10 variable)\n",
      "initial  value 115.354290 \n",
      "iter  10 value 11.096359\n",
      "iter  20 value 5.502204\n",
      "iter  30 value 5.466094\n",
      "iter  40 value 5.461424\n",
      "iter  50 value 5.460505\n",
      "iter  60 value 5.459325\n",
      "iter  70 value 5.459011\n",
      "iter  80 value 5.458771\n",
      "iter  90 value 5.458735\n",
      "iter 100 value 5.458706\n",
      "final  value 5.458706 \n",
      "stopped after 100 iterations\n",
      "예측력 1 입니다.# weights:  27\n",
      "initial  value 103.385456 \n",
      "iter  10 value 16.598638\n",
      "iter  20 value 4.953959\n",
      "iter  30 value 3.806376\n",
      "iter  40 value 2.531860\n",
      "iter  50 value 2.267216\n",
      "iter  60 value 2.253357\n",
      "iter  70 value 2.250398\n",
      "iter  80 value 2.250169\n",
      "iter  90 value 2.249932\n",
      "iter 100 value 2.249907\n",
      "final  value 2.249907 \n",
      "stopped after 100 iterations\n",
      "예측력 1 입니다.예측력 0.9777778 입니다.예측력 1 입니다.예측력 0.9777778 입니다.# weights:  18 (10 variable)\n",
      "initial  value 115.354290 \n",
      "iter  10 value 11.096359\n",
      "iter  20 value 5.502204\n",
      "iter  30 value 5.466094\n",
      "iter  40 value 5.461424\n",
      "iter  50 value 5.460505\n",
      "iter  60 value 5.459325\n",
      "iter  70 value 5.459011\n",
      "iter  80 value 5.458771\n",
      "iter  90 value 5.458735\n",
      "iter 100 value 5.458706\n",
      "final  value 5.458706 \n",
      "stopped after 100 iterations\n",
      "예측력 1 입니다.# weights:  27\n",
      "initial  value 114.128787 \n",
      "iter  10 value 9.354645\n",
      "iter  20 value 5.489258\n",
      "iter  30 value 5.065850\n",
      "iter  40 value 4.881177\n",
      "iter  50 value 4.836089\n",
      "iter  60 value 4.831312\n",
      "iter  70 value 4.830074\n",
      "iter  80 value 4.829845\n",
      "iter  90 value 4.825989\n",
      "iter 100 value 4.823252\n",
      "final  value 4.823252 \n",
      "stopped after 100 iterations\n",
      "예측력 0.9777778 입니다.예측력 0.9777778 입니다.예측력 1 입니다.예측력 0.9777778 입니다.# weights:  18 (10 variable)\n",
      "initial  value 115.354290 \n",
      "iter  10 value 11.096359\n",
      "iter  20 value 5.502204\n",
      "iter  30 value 5.466094\n",
      "iter  40 value 5.461424\n",
      "iter  50 value 5.460505\n",
      "iter  60 value 5.459325\n",
      "iter  70 value 5.459011\n",
      "iter  80 value 5.458771\n",
      "iter  90 value 5.458735\n",
      "iter 100 value 5.458706\n",
      "final  value 5.458706 \n",
      "stopped after 100 iterations\n",
      "예측력 1 입니다."
     ]
    },
    {
     "data": {
      "text/html": [
       "<table>\n",
       "<thead><tr><th></th><th scope=col>예측력</th></tr></thead>\n",
       "<tbody>\n",
       "\t<tr><th scope=row>인공신경망</th><td>0.9911111</td></tr>\n",
       "\t<tr><th scope=row>의사결정나무</th><td>0.9777778</td></tr>\n",
       "\t<tr><th scope=row>RandomForest</th><td>0.9911111</td></tr>\n",
       "\t<tr><th scope=row>SVM</th><td>0.9777778</td></tr>\n",
       "\t<tr><th scope=row>로지스틱회귀분석</th><td>1.0000000</td></tr>\n",
       "</tbody>\n",
       "</table>\n"
      ],
      "text/latex": [
       "\\begin{tabular}{r|l}\n",
       "  & 예측력\\\\\n",
       "\\hline\n",
       "\t인공신경망 & 0.9911111\\\\\n",
       "\t의사결정나무 & 0.9777778\\\\\n",
       "\tRandomForest & 0.9911111\\\\\n",
       "\tSVM & 0.9777778\\\\\n",
       "\t로지스틱회귀분석 & 1.0000000\\\\\n",
       "\\end{tabular}\n"
      ],
      "text/markdown": [
       "\n",
       "| <!--/--> | 예측력 |\n",
       "|---|---|\n",
       "| 인공신경망 | 0.9911111 |\n",
       "| 의사결정나무 | 0.9777778 |\n",
       "| RandomForest | 0.9911111 |\n",
       "| SVM | 0.9777778 |\n",
       "| 로지스틱회귀분석 | 1.0000000 |\n",
       "\n"
      ],
      "text/plain": [
       "                 예측력   \n",
       "인공신경망       0.9911111\n",
       "의사결정나무     0.9777778\n",
       "RandomForest     0.9911111\n",
       "SVM              0.9777778\n",
       "로지스틱회귀분석 1.0000000"
      ]
     },
     "metadata": {},
     "output_type": "display_data"
    }
   ],
   "source": [
    "a <- rep(0,5)\n",
    "iteration <- 5\n",
    "for(i in 1:iteration){\n",
    "    \n",
    "    a = a + c(\n",
    "            ANN(data.tr2 , data.test2 , x2 , y2 ),\n",
    "            CTREE(data.tr1 , data.test1 , x1 , y1 ),\n",
    "            RandomForest(data.tr1 , data.test1 , x1 , y1 ),\n",
    "            SVM(data.tr2 , data.test2 , x2 , y2 ),\n",
    "            Logisticreg(data.tr2 , data.test2 , x2 , y2 )\n",
    "    )\n",
    "    \n",
    "}\n",
    "a<- a/iteration\n",
    "\n",
    "result<-data.frame(예측력 = a)\n",
    "rownames(result) = c(\"인공신경망\",\"의사결정나무\",\"RandomForest\",\"SVM\",\"로지스틱회귀분석\")\n",
    "result"
   ]
  },
  {
   "cell_type": "code",
   "execution_count": 19,
   "id": "0ca0110e",
   "metadata": {},
   "outputs": [
    {
     "data": {
      "text/html": [
       "<table>\n",
       "<thead><tr><th></th><th scope=col>예측력</th></tr></thead>\n",
       "<tbody>\n",
       "\t<tr><th scope=row>인공신경망</th><td>0.9911111</td></tr>\n",
       "\t<tr><th scope=row>의사결정나무</th><td>0.9777778</td></tr>\n",
       "\t<tr><th scope=row>RandomForest</th><td>0.9911111</td></tr>\n",
       "\t<tr><th scope=row>SVM</th><td>0.9777778</td></tr>\n",
       "\t<tr><th scope=row>로지스틱회귀분석</th><td>1.0000000</td></tr>\n",
       "</tbody>\n",
       "</table>\n"
      ],
      "text/latex": [
       "\\begin{tabular}{r|l}\n",
       "  & 예측력\\\\\n",
       "\\hline\n",
       "\t인공신경망 & 0.9911111\\\\\n",
       "\t의사결정나무 & 0.9777778\\\\\n",
       "\tRandomForest & 0.9911111\\\\\n",
       "\tSVM & 0.9777778\\\\\n",
       "\t로지스틱회귀분석 & 1.0000000\\\\\n",
       "\\end{tabular}\n"
      ],
      "text/markdown": [
       "\n",
       "| <!--/--> | 예측력 |\n",
       "|---|---|\n",
       "| 인공신경망 | 0.9911111 |\n",
       "| 의사결정나무 | 0.9777778 |\n",
       "| RandomForest | 0.9911111 |\n",
       "| SVM | 0.9777778 |\n",
       "| 로지스틱회귀분석 | 1.0000000 |\n",
       "\n"
      ],
      "text/plain": [
       "                 예측력   \n",
       "인공신경망       0.9911111\n",
       "의사결정나무     0.9777778\n",
       "RandomForest     0.9911111\n",
       "SVM              0.9777778\n",
       "로지스틱회귀분석 1.0000000"
      ]
     },
     "metadata": {},
     "output_type": "display_data"
    }
   ],
   "source": [
    "result"
   ]
  },
  {
   "cell_type": "code",
   "execution_count": null,
   "id": "99947ce8",
   "metadata": {},
   "outputs": [],
   "source": []
  }
 ],
 "metadata": {
  "kernelspec": {
   "display_name": "R",
   "language": "R",
   "name": "ir"
  },
  "language_info": {
   "codemirror_mode": "r",
   "file_extension": ".r",
   "mimetype": "text/x-r-source",
   "name": "R",
   "pygments_lexer": "r",
   "version": "3.6.1"
  }
 },
 "nbformat": 4,
 "nbformat_minor": 5
}

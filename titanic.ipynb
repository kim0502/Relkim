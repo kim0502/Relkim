{
 "cells": [
  {
   "cell_type": "code",
   "execution_count": 1,
   "id": "43dab090",
   "metadata": {},
   "outputs": [
    {
     "data": {
      "text/html": [
       "<table>\n",
       "<thead><tr><th scope=col>PassengerId</th><th scope=col>Survived</th><th scope=col>Pclass</th><th scope=col>Name</th><th scope=col>Sex</th><th scope=col>Age</th><th scope=col>SibSp</th><th scope=col>Parch</th><th scope=col>Ticket</th><th scope=col>Fare</th><th scope=col>Cabin</th><th scope=col>Embarked</th></tr></thead>\n",
       "<tbody>\n",
       "\t<tr><td>1                                                  </td><td>0                                                  </td><td>3                                                  </td><td>Braund, Mr. Owen Harris                            </td><td>male                                               </td><td>22                                                 </td><td>1                                                  </td><td>0                                                  </td><td>A/5 21171                                          </td><td> 7.2500                                            </td><td>                                                   </td><td>S                                                  </td></tr>\n",
       "\t<tr><td>2                                                  </td><td>1                                                  </td><td>1                                                  </td><td>Cumings, Mrs. John Bradley (Florence Briggs Thayer)</td><td>female                                             </td><td>38                                                 </td><td>1                                                  </td><td>0                                                  </td><td>PC 17599                                           </td><td>71.2833                                            </td><td>C85                                                </td><td>C                                                  </td></tr>\n",
       "\t<tr><td>3                                                  </td><td>1                                                  </td><td>3                                                  </td><td>Heikkinen, Miss. Laina                             </td><td>female                                             </td><td>26                                                 </td><td>0                                                  </td><td>0                                                  </td><td>STON/O2. 3101282                                   </td><td> 7.9250                                            </td><td>                                                   </td><td>S                                                  </td></tr>\n",
       "\t<tr><td>4                                                  </td><td>1                                                  </td><td>1                                                  </td><td>Futrelle, Mrs. Jacques Heath (Lily May Peel)       </td><td>female                                             </td><td>35                                                 </td><td>1                                                  </td><td>0                                                  </td><td>113803                                             </td><td>53.1000                                            </td><td>C123                                               </td><td>S                                                  </td></tr>\n",
       "\t<tr><td>5                                                  </td><td>0                                                  </td><td>3                                                  </td><td>Allen, Mr. William Henry                           </td><td>male                                               </td><td>35                                                 </td><td>0                                                  </td><td>0                                                  </td><td>373450                                             </td><td> 8.0500                                            </td><td>                                                   </td><td>S                                                  </td></tr>\n",
       "\t<tr><td>6                                                  </td><td>0                                                  </td><td>3                                                  </td><td>Moran, Mr. James                                   </td><td>male                                               </td><td>NA                                                 </td><td>0                                                  </td><td>0                                                  </td><td>330877                                             </td><td> 8.4583                                            </td><td>                                                   </td><td>Q                                                  </td></tr>\n",
       "</tbody>\n",
       "</table>\n"
      ],
      "text/latex": [
       "\\begin{tabular}{r|llllllllllll}\n",
       " PassengerId & Survived & Pclass & Name & Sex & Age & SibSp & Parch & Ticket & Fare & Cabin & Embarked\\\\\n",
       "\\hline\n",
       "\t 1                                                   & 0                                                   & 3                                                   & Braund, Mr. Owen Harris                             & male                                                & 22                                                  & 1                                                   & 0                                                   & A/5 21171                                           &  7.2500                                             &                                                     & S                                                  \\\\\n",
       "\t 2                                                   & 1                                                   & 1                                                   & Cumings, Mrs. John Bradley (Florence Briggs Thayer) & female                                              & 38                                                  & 1                                                   & 0                                                   & PC 17599                                            & 71.2833                                             & C85                                                 & C                                                  \\\\\n",
       "\t 3                                                   & 1                                                   & 3                                                   & Heikkinen, Miss. Laina                              & female                                              & 26                                                  & 0                                                   & 0                                                   & STON/O2. 3101282                                    &  7.9250                                             &                                                     & S                                                  \\\\\n",
       "\t 4                                                   & 1                                                   & 1                                                   & Futrelle, Mrs. Jacques Heath (Lily May Peel)        & female                                              & 35                                                  & 1                                                   & 0                                                   & 113803                                              & 53.1000                                             & C123                                                & S                                                  \\\\\n",
       "\t 5                                                   & 0                                                   & 3                                                   & Allen, Mr. William Henry                            & male                                                & 35                                                  & 0                                                   & 0                                                   & 373450                                              &  8.0500                                             &                                                     & S                                                  \\\\\n",
       "\t 6                                                   & 0                                                   & 3                                                   & Moran, Mr. James                                    & male                                                & NA                                                  & 0                                                   & 0                                                   & 330877                                              &  8.4583                                             &                                                     & Q                                                  \\\\\n",
       "\\end{tabular}\n"
      ],
      "text/markdown": [
       "\n",
       "| PassengerId | Survived | Pclass | Name | Sex | Age | SibSp | Parch | Ticket | Fare | Cabin | Embarked |\n",
       "|---|---|---|---|---|---|---|---|---|---|---|---|\n",
       "| 1                                                   | 0                                                   | 3                                                   | Braund, Mr. Owen Harris                             | male                                                | 22                                                  | 1                                                   | 0                                                   | A/5 21171                                           |  7.2500                                             |                                                     | S                                                   |\n",
       "| 2                                                   | 1                                                   | 1                                                   | Cumings, Mrs. John Bradley (Florence Briggs Thayer) | female                                              | 38                                                  | 1                                                   | 0                                                   | PC 17599                                            | 71.2833                                             | C85                                                 | C                                                   |\n",
       "| 3                                                   | 1                                                   | 3                                                   | Heikkinen, Miss. Laina                              | female                                              | 26                                                  | 0                                                   | 0                                                   | STON/O2. 3101282                                    |  7.9250                                             |                                                     | S                                                   |\n",
       "| 4                                                   | 1                                                   | 1                                                   | Futrelle, Mrs. Jacques Heath (Lily May Peel)        | female                                              | 35                                                  | 1                                                   | 0                                                   | 113803                                              | 53.1000                                             | C123                                                | S                                                   |\n",
       "| 5                                                   | 0                                                   | 3                                                   | Allen, Mr. William Henry                            | male                                                | 35                                                  | 0                                                   | 0                                                   | 373450                                              |  8.0500                                             |                                                     | S                                                   |\n",
       "| 6                                                   | 0                                                   | 3                                                   | Moran, Mr. James                                    | male                                                | NA                                                  | 0                                                   | 0                                                   | 330877                                              |  8.4583                                             |                                                     | Q                                                   |\n",
       "\n"
      ],
      "text/plain": [
       "  PassengerId Survived Pclass\n",
       "1 1           0        3     \n",
       "2 2           1        1     \n",
       "3 3           1        3     \n",
       "4 4           1        1     \n",
       "5 5           0        3     \n",
       "6 6           0        3     \n",
       "  Name                                                Sex    Age SibSp Parch\n",
       "1 Braund, Mr. Owen Harris                             male   22  1     0    \n",
       "2 Cumings, Mrs. John Bradley (Florence Briggs Thayer) female 38  1     0    \n",
       "3 Heikkinen, Miss. Laina                              female 26  0     0    \n",
       "4 Futrelle, Mrs. Jacques Heath (Lily May Peel)        female 35  1     0    \n",
       "5 Allen, Mr. William Henry                            male   35  0     0    \n",
       "6 Moran, Mr. James                                    male   NA  0     0    \n",
       "  Ticket           Fare    Cabin Embarked\n",
       "1 A/5 21171         7.2500       S       \n",
       "2 PC 17599         71.2833 C85   C       \n",
       "3 STON/O2. 3101282  7.9250       S       \n",
       "4 113803           53.1000 C123  S       \n",
       "5 373450            8.0500       S       \n",
       "6 330877            8.4583       Q       "
      ]
     },
     "metadata": {},
     "output_type": "display_data"
    },
    {
     "data": {
      "text/html": [
       "<table>\n",
       "<thead><tr><th></th><th scope=col>PassengerId</th><th scope=col>Survived</th><th scope=col>Pclass</th><th scope=col>Name</th><th scope=col>Sex</th><th scope=col>Age</th><th scope=col>SibSp</th><th scope=col>Parch</th><th scope=col>Ticket</th><th scope=col>Fare</th><th scope=col>Cabin</th><th scope=col>Embarked</th></tr></thead>\n",
       "<tbody>\n",
       "\t<tr><th scope=row>886</th><td>886                                     </td><td>0                                       </td><td>3                                       </td><td>Rice, Mrs. William (Margaret Norton)    </td><td>female                                  </td><td>39                                      </td><td>0                                       </td><td>5                                       </td><td>382652                                  </td><td>29.125                                  </td><td>                                        </td><td>Q                                       </td></tr>\n",
       "\t<tr><th scope=row>887</th><td>887                                     </td><td>0                                       </td><td>2                                       </td><td>Montvila, Rev. Juozas                   </td><td>male                                    </td><td>27                                      </td><td>0                                       </td><td>0                                       </td><td>211536                                  </td><td>13.000                                  </td><td>                                        </td><td>S                                       </td></tr>\n",
       "\t<tr><th scope=row>888</th><td>888                                     </td><td>1                                       </td><td>1                                       </td><td>Graham, Miss. Margaret Edith            </td><td>female                                  </td><td>19                                      </td><td>0                                       </td><td>0                                       </td><td>112053                                  </td><td>30.000                                  </td><td>B42                                     </td><td>S                                       </td></tr>\n",
       "\t<tr><th scope=row>889</th><td>889                                     </td><td>0                                       </td><td>3                                       </td><td>Johnston, Miss. Catherine Helen \"Carrie\"</td><td>female                                  </td><td>NA                                      </td><td>1                                       </td><td>2                                       </td><td>W./C. 6607                              </td><td>23.450                                  </td><td>                                        </td><td>S                                       </td></tr>\n",
       "\t<tr><th scope=row>890</th><td>890                                     </td><td>1                                       </td><td>1                                       </td><td>Behr, Mr. Karl Howell                   </td><td>male                                    </td><td>26                                      </td><td>0                                       </td><td>0                                       </td><td>111369                                  </td><td>30.000                                  </td><td>C148                                    </td><td>C                                       </td></tr>\n",
       "\t<tr><th scope=row>891</th><td>891                                     </td><td>0                                       </td><td>3                                       </td><td>Dooley, Mr. Patrick                     </td><td>male                                    </td><td>32                                      </td><td>0                                       </td><td>0                                       </td><td>370376                                  </td><td> 7.750                                  </td><td>                                        </td><td>Q                                       </td></tr>\n",
       "</tbody>\n",
       "</table>\n"
      ],
      "text/latex": [
       "\\begin{tabular}{r|llllllllllll}\n",
       "  & PassengerId & Survived & Pclass & Name & Sex & Age & SibSp & Parch & Ticket & Fare & Cabin & Embarked\\\\\n",
       "\\hline\n",
       "\t886 & 886                                      & 0                                        & 3                                        & Rice, Mrs. William (Margaret Norton)     & female                                   & 39                                       & 0                                        & 5                                        & 382652                                   & 29.125                                   &                                          & Q                                       \\\\\n",
       "\t887 & 887                                      & 0                                        & 2                                        & Montvila, Rev. Juozas                    & male                                     & 27                                       & 0                                        & 0                                        & 211536                                   & 13.000                                   &                                          & S                                       \\\\\n",
       "\t888 & 888                                      & 1                                        & 1                                        & Graham, Miss. Margaret Edith             & female                                   & 19                                       & 0                                        & 0                                        & 112053                                   & 30.000                                   & B42                                      & S                                       \\\\\n",
       "\t889 & 889                                      & 0                                        & 3                                        & Johnston, Miss. Catherine Helen \"Carrie\" & female                                   & NA                                       & 1                                        & 2                                        & W./C. 6607                               & 23.450                                   &                                          & S                                       \\\\\n",
       "\t890 & 890                                      & 1                                        & 1                                        & Behr, Mr. Karl Howell                    & male                                     & 26                                       & 0                                        & 0                                        & 111369                                   & 30.000                                   & C148                                     & C                                       \\\\\n",
       "\t891 & 891                                      & 0                                        & 3                                        & Dooley, Mr. Patrick                      & male                                     & 32                                       & 0                                        & 0                                        & 370376                                   &  7.750                                   &                                          & Q                                       \\\\\n",
       "\\end{tabular}\n"
      ],
      "text/markdown": [
       "\n",
       "| <!--/--> | PassengerId | Survived | Pclass | Name | Sex | Age | SibSp | Parch | Ticket | Fare | Cabin | Embarked |\n",
       "|---|---|---|---|---|---|---|---|---|---|---|---|---|\n",
       "| 886 | 886                                      | 0                                        | 3                                        | Rice, Mrs. William (Margaret Norton)     | female                                   | 39                                       | 0                                        | 5                                        | 382652                                   | 29.125                                   |                                          | Q                                        |\n",
       "| 887 | 887                                      | 0                                        | 2                                        | Montvila, Rev. Juozas                    | male                                     | 27                                       | 0                                        | 0                                        | 211536                                   | 13.000                                   |                                          | S                                        |\n",
       "| 888 | 888                                      | 1                                        | 1                                        | Graham, Miss. Margaret Edith             | female                                   | 19                                       | 0                                        | 0                                        | 112053                                   | 30.000                                   | B42                                      | S                                        |\n",
       "| 889 | 889                                      | 0                                        | 3                                        | Johnston, Miss. Catherine Helen \"Carrie\" | female                                   | NA                                       | 1                                        | 2                                        | W./C. 6607                               | 23.450                                   |                                          | S                                        |\n",
       "| 890 | 890                                      | 1                                        | 1                                        | Behr, Mr. Karl Howell                    | male                                     | 26                                       | 0                                        | 0                                        | 111369                                   | 30.000                                   | C148                                     | C                                        |\n",
       "| 891 | 891                                      | 0                                        | 3                                        | Dooley, Mr. Patrick                      | male                                     | 32                                       | 0                                        | 0                                        | 370376                                   |  7.750                                   |                                          | Q                                        |\n",
       "\n"
      ],
      "text/plain": [
       "    PassengerId Survived Pclass Name                                     Sex   \n",
       "886 886         0        3      Rice, Mrs. William (Margaret Norton)     female\n",
       "887 887         0        2      Montvila, Rev. Juozas                    male  \n",
       "888 888         1        1      Graham, Miss. Margaret Edith             female\n",
       "889 889         0        3      Johnston, Miss. Catherine Helen \"Carrie\" female\n",
       "890 890         1        1      Behr, Mr. Karl Howell                    male  \n",
       "891 891         0        3      Dooley, Mr. Patrick                      male  \n",
       "    Age SibSp Parch Ticket     Fare   Cabin Embarked\n",
       "886 39  0     5     382652     29.125       Q       \n",
       "887 27  0     0     211536     13.000       S       \n",
       "888 19  0     0     112053     30.000 B42   S       \n",
       "889 NA  1     2     W./C. 6607 23.450       S       \n",
       "890 26  0     0     111369     30.000 C148  C       \n",
       "891 32  0     0     370376      7.750       Q       "
      ]
     },
     "metadata": {},
     "output_type": "display_data"
    }
   ],
   "source": [
    "train_df<-read.csv(\"../Data/Titanic_train.csv\")\n",
    "head(train_df)\n",
    "tail(train_df)"
   ]
  },
  {
   "cell_type": "code",
   "execution_count": 2,
   "id": "e0561c3b",
   "metadata": {},
   "outputs": [
    {
     "data": {
      "text/html": [
       "<table>\n",
       "<thead><tr><th scope=col>Survived</th><th scope=col>Sex</th><th scope=col>Pclass</th><th scope=col>Embarked</th></tr></thead>\n",
       "<tbody>\n",
       "\t<tr><td>0     </td><td>male  </td><td>3     </td><td>S     </td></tr>\n",
       "\t<tr><td>1     </td><td>female</td><td>1     </td><td>C     </td></tr>\n",
       "\t<tr><td>1     </td><td>female</td><td>3     </td><td>S     </td></tr>\n",
       "\t<tr><td>1     </td><td>female</td><td>1     </td><td>S     </td></tr>\n",
       "\t<tr><td>0     </td><td>male  </td><td>3     </td><td>S     </td></tr>\n",
       "\t<tr><td>0     </td><td>male  </td><td>3     </td><td>Q     </td></tr>\n",
       "</tbody>\n",
       "</table>\n"
      ],
      "text/latex": [
       "\\begin{tabular}{r|llll}\n",
       " Survived & Sex & Pclass & Embarked\\\\\n",
       "\\hline\n",
       "\t 0      & male   & 3      & S     \\\\\n",
       "\t 1      & female & 1      & C     \\\\\n",
       "\t 1      & female & 3      & S     \\\\\n",
       "\t 1      & female & 1      & S     \\\\\n",
       "\t 0      & male   & 3      & S     \\\\\n",
       "\t 0      & male   & 3      & Q     \\\\\n",
       "\\end{tabular}\n"
      ],
      "text/markdown": [
       "\n",
       "| Survived | Sex | Pclass | Embarked |\n",
       "|---|---|---|---|\n",
       "| 0      | male   | 3      | S      |\n",
       "| 1      | female | 1      | C      |\n",
       "| 1      | female | 3      | S      |\n",
       "| 1      | female | 1      | S      |\n",
       "| 0      | male   | 3      | S      |\n",
       "| 0      | male   | 3      | Q      |\n",
       "\n"
      ],
      "text/plain": [
       "  Survived Sex    Pclass Embarked\n",
       "1 0        male   3      S       \n",
       "2 1        female 1      C       \n",
       "3 1        female 3      S       \n",
       "4 1        female 1      S       \n",
       "5 0        male   3      S       \n",
       "6 0        male   3      Q       "
      ]
     },
     "metadata": {},
     "output_type": "display_data"
    },
    {
     "data": {
      "text/html": [
       "<table>\n",
       "<thead><tr><th scope=col>PassengerId</th><th scope=col>Survived</th><th scope=col>Pclass</th><th scope=col>Name</th><th scope=col>Age</th><th scope=col>SibSp</th><th scope=col>Parch</th><th scope=col>Ticket</th><th scope=col>Fare</th><th scope=col>Cabin</th><th scope=col>Embarked</th><th scope=col>SexCode</th></tr></thead>\n",
       "<tbody>\n",
       "\t<tr><td> 1                                                       </td><td>0                                                        </td><td>3                                                        </td><td>Braund, Mr. Owen Harris                                  </td><td>22                                                       </td><td>1                                                        </td><td>0                                                        </td><td>A/5 21171                                                </td><td>  7.2500                                                 </td><td>                                                         </td><td>S                                                        </td><td>0                                                        </td></tr>\n",
       "\t<tr><td> 2                                                       </td><td>1                                                        </td><td>1                                                        </td><td>Cumings, Mrs. John Bradley (Florence Briggs Thayer)      </td><td>38                                                       </td><td>1                                                        </td><td>0                                                        </td><td>PC 17599                                                 </td><td> 71.2833                                                 </td><td>C85                                                      </td><td>C                                                        </td><td>1                                                        </td></tr>\n",
       "\t<tr><td> 3                                                       </td><td>1                                                        </td><td>3                                                        </td><td>Heikkinen, Miss. Laina                                   </td><td>26                                                       </td><td>0                                                        </td><td>0                                                        </td><td>STON/O2. 3101282                                         </td><td>  7.9250                                                 </td><td>                                                         </td><td>S                                                        </td><td>1                                                        </td></tr>\n",
       "\t<tr><td> 4                                                       </td><td>1                                                        </td><td>1                                                        </td><td>Futrelle, Mrs. Jacques Heath (Lily May Peel)             </td><td>35                                                       </td><td>1                                                        </td><td>0                                                        </td><td>113803                                                   </td><td> 53.1000                                                 </td><td>C123                                                     </td><td>S                                                        </td><td>1                                                        </td></tr>\n",
       "\t<tr><td> 5                                                       </td><td>0                                                        </td><td>3                                                        </td><td>Allen, Mr. William Henry                                 </td><td>35                                                       </td><td>0                                                        </td><td>0                                                        </td><td>373450                                                   </td><td>  8.0500                                                 </td><td>                                                         </td><td>S                                                        </td><td>0                                                        </td></tr>\n",
       "\t<tr><td> 6                                                       </td><td>0                                                        </td><td>3                                                        </td><td>Moran, Mr. James                                         </td><td>NA                                                       </td><td>0                                                        </td><td>0                                                        </td><td>330877                                                   </td><td>  8.4583                                                 </td><td>                                                         </td><td>Q                                                        </td><td>0                                                        </td></tr>\n",
       "\t<tr><td> 7                                                       </td><td>0                                                        </td><td>1                                                        </td><td>McCarthy, Mr. Timothy J                                  </td><td>54                                                       </td><td>0                                                        </td><td>0                                                        </td><td>17463                                                    </td><td> 51.8625                                                 </td><td>E46                                                      </td><td>S                                                        </td><td>0                                                        </td></tr>\n",
       "\t<tr><td> 8                                                       </td><td>0                                                        </td><td>3                                                        </td><td>Palsson, Master. Gosta Leonard                           </td><td> 2                                                       </td><td>3                                                        </td><td>1                                                        </td><td>349909                                                   </td><td> 21.0750                                                 </td><td>                                                         </td><td>S                                                        </td><td>0                                                        </td></tr>\n",
       "\t<tr><td> 9                                                       </td><td>1                                                        </td><td>3                                                        </td><td>Johnson, Mrs. Oscar W (Elisabeth Vilhelmina Berg)        </td><td>27                                                       </td><td>0                                                        </td><td>2                                                        </td><td>347742                                                   </td><td> 11.1333                                                 </td><td>                                                         </td><td>S                                                        </td><td>1                                                        </td></tr>\n",
       "\t<tr><td>10                                                       </td><td>1                                                        </td><td>2                                                        </td><td>Nasser, Mrs. Nicholas (Adele Achem)                      </td><td>14                                                       </td><td>1                                                        </td><td>0                                                        </td><td>237736                                                   </td><td> 30.0708                                                 </td><td>                                                         </td><td>C                                                        </td><td>1                                                        </td></tr>\n",
       "\t<tr><td>11                                                       </td><td>1                                                        </td><td>3                                                        </td><td>Sandstrom, Miss. Marguerite Rut                          </td><td> 4                                                       </td><td>1                                                        </td><td>1                                                        </td><td>PP 9549                                                  </td><td> 16.7000                                                 </td><td>G6                                                       </td><td>S                                                        </td><td>1                                                        </td></tr>\n",
       "\t<tr><td>12                                                       </td><td>1                                                        </td><td>1                                                        </td><td>Bonnell, Miss. Elizabeth                                 </td><td>58                                                       </td><td>0                                                        </td><td>0                                                        </td><td>113783                                                   </td><td> 26.5500                                                 </td><td>C103                                                     </td><td>S                                                        </td><td>1                                                        </td></tr>\n",
       "\t<tr><td>13                                                       </td><td>0                                                        </td><td>3                                                        </td><td>Saundercock, Mr. William Henry                           </td><td>20                                                       </td><td>0                                                        </td><td>0                                                        </td><td>A/5. 2151                                                </td><td>  8.0500                                                 </td><td>                                                         </td><td>S                                                        </td><td>0                                                        </td></tr>\n",
       "\t<tr><td>14                                                       </td><td>0                                                        </td><td>3                                                        </td><td>Andersson, Mr. Anders Johan                              </td><td>39                                                       </td><td>1                                                        </td><td>5                                                        </td><td>347082                                                   </td><td> 31.2750                                                 </td><td>                                                         </td><td>S                                                        </td><td>0                                                        </td></tr>\n",
       "\t<tr><td>15                                                       </td><td>0                                                        </td><td>3                                                        </td><td>Vestrom, Miss. Hulda Amanda Adolfina                     </td><td>14                                                       </td><td>0                                                        </td><td>0                                                        </td><td>350406                                                   </td><td>  7.8542                                                 </td><td>                                                         </td><td>S                                                        </td><td>1                                                        </td></tr>\n",
       "\t<tr><td>16                                                       </td><td>1                                                        </td><td>2                                                        </td><td>Hewlett, Mrs. (Mary D Kingcome)                          </td><td>55                                                       </td><td>0                                                        </td><td>0                                                        </td><td>248706                                                   </td><td> 16.0000                                                 </td><td>                                                         </td><td>S                                                        </td><td>1                                                        </td></tr>\n",
       "\t<tr><td>17                                                       </td><td>0                                                        </td><td>3                                                        </td><td>Rice, Master. Eugene                                     </td><td> 2                                                       </td><td>4                                                        </td><td>1                                                        </td><td>382652                                                   </td><td> 29.1250                                                 </td><td>                                                         </td><td>Q                                                        </td><td>0                                                        </td></tr>\n",
       "\t<tr><td>18                                                       </td><td>1                                                        </td><td>2                                                        </td><td>Williams, Mr. Charles Eugene                             </td><td>NA                                                       </td><td>0                                                        </td><td>0                                                        </td><td>244373                                                   </td><td> 13.0000                                                 </td><td>                                                         </td><td>S                                                        </td><td>0                                                        </td></tr>\n",
       "\t<tr><td>19                                                       </td><td>0                                                        </td><td>3                                                        </td><td>Vander Planke, Mrs. Julius (Emelia Maria Vandemoortele)  </td><td>31                                                       </td><td>1                                                        </td><td>0                                                        </td><td>345763                                                   </td><td> 18.0000                                                 </td><td>                                                         </td><td>S                                                        </td><td>1                                                        </td></tr>\n",
       "\t<tr><td>20                                                       </td><td>1                                                        </td><td>3                                                        </td><td>Masselmani, Mrs. Fatima                                  </td><td>NA                                                       </td><td>0                                                        </td><td>0                                                        </td><td>2649                                                     </td><td>  7.2250                                                 </td><td>                                                         </td><td>C                                                        </td><td>1                                                        </td></tr>\n",
       "\t<tr><td>21                                                       </td><td>0                                                        </td><td>2                                                        </td><td>Fynney, Mr. Joseph J                                     </td><td>35                                                       </td><td>0                                                        </td><td>0                                                        </td><td>239865                                                   </td><td> 26.0000                                                 </td><td>                                                         </td><td>S                                                        </td><td>0                                                        </td></tr>\n",
       "\t<tr><td>22                                                       </td><td>1                                                        </td><td>2                                                        </td><td>Beesley, Mr. Lawrence                                    </td><td>34                                                       </td><td>0                                                        </td><td>0                                                        </td><td>248698                                                   </td><td> 13.0000                                                 </td><td>D56                                                      </td><td>S                                                        </td><td>0                                                        </td></tr>\n",
       "\t<tr><td>23                                                       </td><td>1                                                        </td><td>3                                                        </td><td>McGowan, Miss. Anna \"Annie\"                              </td><td>15                                                       </td><td>0                                                        </td><td>0                                                        </td><td>330923                                                   </td><td>  8.0292                                                 </td><td>                                                         </td><td>Q                                                        </td><td>1                                                        </td></tr>\n",
       "\t<tr><td>24                                                       </td><td>1                                                        </td><td>1                                                        </td><td>Sloper, Mr. William Thompson                             </td><td>28                                                       </td><td>0                                                        </td><td>0                                                        </td><td>113788                                                   </td><td> 35.5000                                                 </td><td>A6                                                       </td><td>S                                                        </td><td>0                                                        </td></tr>\n",
       "\t<tr><td>25                                                       </td><td>0                                                        </td><td>3                                                        </td><td>Palsson, Miss. Torborg Danira                            </td><td> 8                                                       </td><td>3                                                        </td><td>1                                                        </td><td>349909                                                   </td><td> 21.0750                                                 </td><td>                                                         </td><td>S                                                        </td><td>1                                                        </td></tr>\n",
       "\t<tr><td>26                                                       </td><td>1                                                        </td><td>3                                                        </td><td>Asplund, Mrs. Carl Oscar (Selma Augusta Emilia Johansson)</td><td>38                                                       </td><td>1                                                        </td><td>5                                                        </td><td>347077                                                   </td><td> 31.3875                                                 </td><td>                                                         </td><td>S                                                        </td><td>1                                                        </td></tr>\n",
       "\t<tr><td>27                                                       </td><td>0                                                        </td><td>3                                                        </td><td>Emir, Mr. Farred Chehab                                  </td><td>NA                                                       </td><td>0                                                        </td><td>0                                                        </td><td>2631                                                     </td><td>  7.2250                                                 </td><td>                                                         </td><td>C                                                        </td><td>0                                                        </td></tr>\n",
       "\t<tr><td>28                                                       </td><td>0                                                        </td><td>1                                                        </td><td>Fortune, Mr. Charles Alexander                           </td><td>19                                                       </td><td>3                                                        </td><td>2                                                        </td><td>19950                                                    </td><td>263.0000                                                 </td><td>C23 C25 C27                                              </td><td>S                                                        </td><td>0                                                        </td></tr>\n",
       "\t<tr><td>29                                                       </td><td>1                                                        </td><td>3                                                        </td><td>O'Dwyer, Miss. Ellen \"Nellie\"                            </td><td>NA                                                       </td><td>0                                                        </td><td>0                                                        </td><td>330959                                                   </td><td>  7.8792                                                 </td><td>                                                         </td><td>Q                                                        </td><td>1                                                        </td></tr>\n",
       "\t<tr><td>30                                                       </td><td>0                                                        </td><td>3                                                        </td><td>Todoroff, Mr. Lalio                                      </td><td>NA                                                       </td><td>0                                                        </td><td>0                                                        </td><td>349216                                                   </td><td>  7.8958                                                 </td><td>                                                         </td><td>S                                                        </td><td>0                                                        </td></tr>\n",
       "\t<tr><td>...</td><td>...</td><td>...</td><td>...</td><td>...</td><td>...</td><td>...</td><td>...</td><td>...</td><td>...</td><td>...</td><td>...</td></tr>\n",
       "\t<tr><td>862                                                </td><td>0                                                  </td><td>2                                                  </td><td>Giles, Mr. Frederick Edward                        </td><td>21                                                 </td><td>1                                                  </td><td>0                                                  </td><td>28134                                              </td><td>11.5000                                            </td><td>                                                   </td><td>S                                                  </td><td>0                                                  </td></tr>\n",
       "\t<tr><td>863                                                </td><td>1                                                  </td><td>1                                                  </td><td>Swift, Mrs. Frederick Joel (Margaret Welles Barron)</td><td>48                                                 </td><td>0                                                  </td><td>0                                                  </td><td>17466                                              </td><td>25.9292                                            </td><td>D17                                                </td><td>S                                                  </td><td>1                                                  </td></tr>\n",
       "\t<tr><td>864                                                </td><td>0                                                  </td><td>3                                                  </td><td>Sage, Miss. Dorothy Edith \"Dolly\"                  </td><td>NA                                                 </td><td>8                                                  </td><td>2                                                  </td><td>CA. 2343                                           </td><td>69.5500                                            </td><td>                                                   </td><td>S                                                  </td><td>1                                                  </td></tr>\n",
       "\t<tr><td>865                                                </td><td>0                                                  </td><td>2                                                  </td><td>Gill, Mr. John William                             </td><td>24                                                 </td><td>0                                                  </td><td>0                                                  </td><td>233866                                             </td><td>13.0000                                            </td><td>                                                   </td><td>S                                                  </td><td>0                                                  </td></tr>\n",
       "\t<tr><td>866                                                </td><td>1                                                  </td><td>2                                                  </td><td>Bystrom, Mrs. (Karolina)                           </td><td>42                                                 </td><td>0                                                  </td><td>0                                                  </td><td>236852                                             </td><td>13.0000                                            </td><td>                                                   </td><td>S                                                  </td><td>1                                                  </td></tr>\n",
       "\t<tr><td>867                                                </td><td>1                                                  </td><td>2                                                  </td><td>Duran y More, Miss. Asuncion                       </td><td>27                                                 </td><td>1                                                  </td><td>0                                                  </td><td>SC/PARIS 2149                                      </td><td>13.8583                                            </td><td>                                                   </td><td>C                                                  </td><td>1                                                  </td></tr>\n",
       "\t<tr><td>868                                                </td><td>0                                                  </td><td>1                                                  </td><td>Roebling, Mr. Washington Augustus II               </td><td>31                                                 </td><td>0                                                  </td><td>0                                                  </td><td>PC 17590                                           </td><td>50.4958                                            </td><td>A24                                                </td><td>S                                                  </td><td>0                                                  </td></tr>\n",
       "\t<tr><td>869                                                </td><td>0                                                  </td><td>3                                                  </td><td>van Melkebeke, Mr. Philemon                        </td><td>NA                                                 </td><td>0                                                  </td><td>0                                                  </td><td>345777                                             </td><td> 9.5000                                            </td><td>                                                   </td><td>S                                                  </td><td>0                                                  </td></tr>\n",
       "\t<tr><td>870                                                </td><td>1                                                  </td><td>3                                                  </td><td>Johnson, Master. Harold Theodor                    </td><td> 4                                                 </td><td>1                                                  </td><td>1                                                  </td><td>347742                                             </td><td>11.1333                                            </td><td>                                                   </td><td>S                                                  </td><td>0                                                  </td></tr>\n",
       "\t<tr><td>871                                                </td><td>0                                                  </td><td>3                                                  </td><td>Balkic, Mr. Cerin                                  </td><td>26                                                 </td><td>0                                                  </td><td>0                                                  </td><td>349248                                             </td><td> 7.8958                                            </td><td>                                                   </td><td>S                                                  </td><td>0                                                  </td></tr>\n",
       "\t<tr><td>872                                                </td><td>1                                                  </td><td>1                                                  </td><td>Beckwith, Mrs. Richard Leonard (Sallie Monypeny)   </td><td>47                                                 </td><td>1                                                  </td><td>1                                                  </td><td>11751                                              </td><td>52.5542                                            </td><td>D35                                                </td><td>S                                                  </td><td>1                                                  </td></tr>\n",
       "\t<tr><td>873                                                </td><td>0                                                  </td><td>1                                                  </td><td>Carlsson, Mr. Frans Olof                           </td><td>33                                                 </td><td>0                                                  </td><td>0                                                  </td><td>695                                                </td><td> 5.0000                                            </td><td>B51 B53 B55                                        </td><td>S                                                  </td><td>0                                                  </td></tr>\n",
       "\t<tr><td>874                                                </td><td>0                                                  </td><td>3                                                  </td><td>Vander Cruyssen, Mr. Victor                        </td><td>47                                                 </td><td>0                                                  </td><td>0                                                  </td><td>345765                                             </td><td> 9.0000                                            </td><td>                                                   </td><td>S                                                  </td><td>0                                                  </td></tr>\n",
       "\t<tr><td>875                                                </td><td>1                                                  </td><td>2                                                  </td><td>Abelson, Mrs. Samuel (Hannah Wizosky)              </td><td>28                                                 </td><td>1                                                  </td><td>0                                                  </td><td>P/PP 3381                                          </td><td>24.0000                                            </td><td>                                                   </td><td>C                                                  </td><td>1                                                  </td></tr>\n",
       "\t<tr><td>876                                                </td><td>1                                                  </td><td>3                                                  </td><td>Najib, Miss. Adele Kiamie \"Jane\"                   </td><td>15                                                 </td><td>0                                                  </td><td>0                                                  </td><td>2667                                               </td><td> 7.2250                                            </td><td>                                                   </td><td>C                                                  </td><td>1                                                  </td></tr>\n",
       "\t<tr><td>877                                                </td><td>0                                                  </td><td>3                                                  </td><td>Gustafsson, Mr. Alfred Ossian                      </td><td>20                                                 </td><td>0                                                  </td><td>0                                                  </td><td>7534                                               </td><td> 9.8458                                            </td><td>                                                   </td><td>S                                                  </td><td>0                                                  </td></tr>\n",
       "\t<tr><td>878                                                </td><td>0                                                  </td><td>3                                                  </td><td>Petroff, Mr. Nedelio                               </td><td>19                                                 </td><td>0                                                  </td><td>0                                                  </td><td>349212                                             </td><td> 7.8958                                            </td><td>                                                   </td><td>S                                                  </td><td>0                                                  </td></tr>\n",
       "\t<tr><td>879                                                </td><td>0                                                  </td><td>3                                                  </td><td>Laleff, Mr. Kristo                                 </td><td>NA                                                 </td><td>0                                                  </td><td>0                                                  </td><td>349217                                             </td><td> 7.8958                                            </td><td>                                                   </td><td>S                                                  </td><td>0                                                  </td></tr>\n",
       "\t<tr><td>880                                                </td><td>1                                                  </td><td>1                                                  </td><td>Potter, Mrs. Thomas Jr (Lily Alexenia Wilson)      </td><td>56                                                 </td><td>0                                                  </td><td>1                                                  </td><td>11767                                              </td><td>83.1583                                            </td><td>C50                                                </td><td>C                                                  </td><td>1                                                  </td></tr>\n",
       "\t<tr><td>881                                                </td><td>1                                                  </td><td>2                                                  </td><td>Shelley, Mrs. William (Imanita Parrish Hall)       </td><td>25                                                 </td><td>0                                                  </td><td>1                                                  </td><td>230433                                             </td><td>26.0000                                            </td><td>                                                   </td><td>S                                                  </td><td>1                                                  </td></tr>\n",
       "\t<tr><td>882                                                </td><td>0                                                  </td><td>3                                                  </td><td>Markun, Mr. Johann                                 </td><td>33                                                 </td><td>0                                                  </td><td>0                                                  </td><td>349257                                             </td><td> 7.8958                                            </td><td>                                                   </td><td>S                                                  </td><td>0                                                  </td></tr>\n",
       "\t<tr><td>883                                                </td><td>0                                                  </td><td>3                                                  </td><td>Dahlberg, Miss. Gerda Ulrika                       </td><td>22                                                 </td><td>0                                                  </td><td>0                                                  </td><td>7552                                               </td><td>10.5167                                            </td><td>                                                   </td><td>S                                                  </td><td>1                                                  </td></tr>\n",
       "\t<tr><td>884                                                </td><td>0                                                  </td><td>2                                                  </td><td>Banfield, Mr. Frederick James                      </td><td>28                                                 </td><td>0                                                  </td><td>0                                                  </td><td>C.A./SOTON 34068                                   </td><td>10.5000                                            </td><td>                                                   </td><td>S                                                  </td><td>0                                                  </td></tr>\n",
       "\t<tr><td>885                                                </td><td>0                                                  </td><td>3                                                  </td><td>Sutehall, Mr. Henry Jr                             </td><td>25                                                 </td><td>0                                                  </td><td>0                                                  </td><td>SOTON/OQ 392076                                    </td><td> 7.0500                                            </td><td>                                                   </td><td>S                                                  </td><td>0                                                  </td></tr>\n",
       "\t<tr><td>886                                                </td><td>0                                                  </td><td>3                                                  </td><td>Rice, Mrs. William (Margaret Norton)               </td><td>39                                                 </td><td>0                                                  </td><td>5                                                  </td><td>382652                                             </td><td>29.1250                                            </td><td>                                                   </td><td>Q                                                  </td><td>1                                                  </td></tr>\n",
       "\t<tr><td>887                                                </td><td>0                                                  </td><td>2                                                  </td><td>Montvila, Rev. Juozas                              </td><td>27                                                 </td><td>0                                                  </td><td>0                                                  </td><td>211536                                             </td><td>13.0000                                            </td><td>                                                   </td><td>S                                                  </td><td>0                                                  </td></tr>\n",
       "\t<tr><td>888                                                </td><td>1                                                  </td><td>1                                                  </td><td>Graham, Miss. Margaret Edith                       </td><td>19                                                 </td><td>0                                                  </td><td>0                                                  </td><td>112053                                             </td><td>30.0000                                            </td><td>B42                                                </td><td>S                                                  </td><td>1                                                  </td></tr>\n",
       "\t<tr><td>889                                                </td><td>0                                                  </td><td>3                                                  </td><td>Johnston, Miss. Catherine Helen \"Carrie\"           </td><td>NA                                                 </td><td>1                                                  </td><td>2                                                  </td><td>W./C. 6607                                         </td><td>23.4500                                            </td><td>                                                   </td><td>S                                                  </td><td>1                                                  </td></tr>\n",
       "\t<tr><td>890                                                </td><td>1                                                  </td><td>1                                                  </td><td>Behr, Mr. Karl Howell                              </td><td>26                                                 </td><td>0                                                  </td><td>0                                                  </td><td>111369                                             </td><td>30.0000                                            </td><td>C148                                               </td><td>C                                                  </td><td>0                                                  </td></tr>\n",
       "\t<tr><td>891                                                </td><td>0                                                  </td><td>3                                                  </td><td>Dooley, Mr. Patrick                                </td><td>32                                                 </td><td>0                                                  </td><td>0                                                  </td><td>370376                                             </td><td> 7.7500                                            </td><td>                                                   </td><td>Q                                                  </td><td>0                                                  </td></tr>\n",
       "</tbody>\n",
       "</table>\n"
      ],
      "text/latex": [
       "\\begin{tabular}{r|llllllllllll}\n",
       " PassengerId & Survived & Pclass & Name & Age & SibSp & Parch & Ticket & Fare & Cabin & Embarked & SexCode\\\\\n",
       "\\hline\n",
       "\t  1                                                        & 0                                                         & 3                                                         & Braund, Mr. Owen Harris                                   & 22                                                        & 1                                                         & 0                                                         & A/5 21171                                                 &   7.2500                                                  &                                                           & S                                                         & 0                                                        \\\\\n",
       "\t  2                                                        & 1                                                         & 1                                                         & Cumings, Mrs. John Bradley (Florence Briggs Thayer)       & 38                                                        & 1                                                         & 0                                                         & PC 17599                                                  &  71.2833                                                  & C85                                                       & C                                                         & 1                                                        \\\\\n",
       "\t  3                                                        & 1                                                         & 3                                                         & Heikkinen, Miss. Laina                                    & 26                                                        & 0                                                         & 0                                                         & STON/O2. 3101282                                          &   7.9250                                                  &                                                           & S                                                         & 1                                                        \\\\\n",
       "\t  4                                                        & 1                                                         & 1                                                         & Futrelle, Mrs. Jacques Heath (Lily May Peel)              & 35                                                        & 1                                                         & 0                                                         & 113803                                                    &  53.1000                                                  & C123                                                      & S                                                         & 1                                                        \\\\\n",
       "\t  5                                                        & 0                                                         & 3                                                         & Allen, Mr. William Henry                                  & 35                                                        & 0                                                         & 0                                                         & 373450                                                    &   8.0500                                                  &                                                           & S                                                         & 0                                                        \\\\\n",
       "\t  6                                                        & 0                                                         & 3                                                         & Moran, Mr. James                                          & NA                                                        & 0                                                         & 0                                                         & 330877                                                    &   8.4583                                                  &                                                           & Q                                                         & 0                                                        \\\\\n",
       "\t  7                                                        & 0                                                         & 1                                                         & McCarthy, Mr. Timothy J                                   & 54                                                        & 0                                                         & 0                                                         & 17463                                                     &  51.8625                                                  & E46                                                       & S                                                         & 0                                                        \\\\\n",
       "\t  8                                                        & 0                                                         & 3                                                         & Palsson, Master. Gosta Leonard                            &  2                                                        & 3                                                         & 1                                                         & 349909                                                    &  21.0750                                                  &                                                           & S                                                         & 0                                                        \\\\\n",
       "\t  9                                                        & 1                                                         & 3                                                         & Johnson, Mrs. Oscar W (Elisabeth Vilhelmina Berg)         & 27                                                        & 0                                                         & 2                                                         & 347742                                                    &  11.1333                                                  &                                                           & S                                                         & 1                                                        \\\\\n",
       "\t 10                                                        & 1                                                         & 2                                                         & Nasser, Mrs. Nicholas (Adele Achem)                       & 14                                                        & 1                                                         & 0                                                         & 237736                                                    &  30.0708                                                  &                                                           & C                                                         & 1                                                        \\\\\n",
       "\t 11                                                        & 1                                                         & 3                                                         & Sandstrom, Miss. Marguerite Rut                           &  4                                                        & 1                                                         & 1                                                         & PP 9549                                                   &  16.7000                                                  & G6                                                        & S                                                         & 1                                                        \\\\\n",
       "\t 12                                                        & 1                                                         & 1                                                         & Bonnell, Miss. Elizabeth                                  & 58                                                        & 0                                                         & 0                                                         & 113783                                                    &  26.5500                                                  & C103                                                      & S                                                         & 1                                                        \\\\\n",
       "\t 13                                                        & 0                                                         & 3                                                         & Saundercock, Mr. William Henry                            & 20                                                        & 0                                                         & 0                                                         & A/5. 2151                                                 &   8.0500                                                  &                                                           & S                                                         & 0                                                        \\\\\n",
       "\t 14                                                        & 0                                                         & 3                                                         & Andersson, Mr. Anders Johan                               & 39                                                        & 1                                                         & 5                                                         & 347082                                                    &  31.2750                                                  &                                                           & S                                                         & 0                                                        \\\\\n",
       "\t 15                                                        & 0                                                         & 3                                                         & Vestrom, Miss. Hulda Amanda Adolfina                      & 14                                                        & 0                                                         & 0                                                         & 350406                                                    &   7.8542                                                  &                                                           & S                                                         & 1                                                        \\\\\n",
       "\t 16                                                        & 1                                                         & 2                                                         & Hewlett, Mrs. (Mary D Kingcome)                           & 55                                                        & 0                                                         & 0                                                         & 248706                                                    &  16.0000                                                  &                                                           & S                                                         & 1                                                        \\\\\n",
       "\t 17                                                        & 0                                                         & 3                                                         & Rice, Master. Eugene                                      &  2                                                        & 4                                                         & 1                                                         & 382652                                                    &  29.1250                                                  &                                                           & Q                                                         & 0                                                        \\\\\n",
       "\t 18                                                        & 1                                                         & 2                                                         & Williams, Mr. Charles Eugene                              & NA                                                        & 0                                                         & 0                                                         & 244373                                                    &  13.0000                                                  &                                                           & S                                                         & 0                                                        \\\\\n",
       "\t 19                                                        & 0                                                         & 3                                                         & Vander Planke, Mrs. Julius (Emelia Maria Vandemoortele)   & 31                                                        & 1                                                         & 0                                                         & 345763                                                    &  18.0000                                                  &                                                           & S                                                         & 1                                                        \\\\\n",
       "\t 20                                                        & 1                                                         & 3                                                         & Masselmani, Mrs. Fatima                                   & NA                                                        & 0                                                         & 0                                                         & 2649                                                      &   7.2250                                                  &                                                           & C                                                         & 1                                                        \\\\\n",
       "\t 21                                                        & 0                                                         & 2                                                         & Fynney, Mr. Joseph J                                      & 35                                                        & 0                                                         & 0                                                         & 239865                                                    &  26.0000                                                  &                                                           & S                                                         & 0                                                        \\\\\n",
       "\t 22                                                        & 1                                                         & 2                                                         & Beesley, Mr. Lawrence                                     & 34                                                        & 0                                                         & 0                                                         & 248698                                                    &  13.0000                                                  & D56                                                       & S                                                         & 0                                                        \\\\\n",
       "\t 23                                                        & 1                                                         & 3                                                         & McGowan, Miss. Anna \"Annie\"                               & 15                                                        & 0                                                         & 0                                                         & 330923                                                    &   8.0292                                                  &                                                           & Q                                                         & 1                                                        \\\\\n",
       "\t 24                                                        & 1                                                         & 1                                                         & Sloper, Mr. William Thompson                              & 28                                                        & 0                                                         & 0                                                         & 113788                                                    &  35.5000                                                  & A6                                                        & S                                                         & 0                                                        \\\\\n",
       "\t 25                                                        & 0                                                         & 3                                                         & Palsson, Miss. Torborg Danira                             &  8                                                        & 3                                                         & 1                                                         & 349909                                                    &  21.0750                                                  &                                                           & S                                                         & 1                                                        \\\\\n",
       "\t 26                                                        & 1                                                         & 3                                                         & Asplund, Mrs. Carl Oscar (Selma Augusta Emilia Johansson) & 38                                                        & 1                                                         & 5                                                         & 347077                                                    &  31.3875                                                  &                                                           & S                                                         & 1                                                        \\\\\n",
       "\t 27                                                        & 0                                                         & 3                                                         & Emir, Mr. Farred Chehab                                   & NA                                                        & 0                                                         & 0                                                         & 2631                                                      &   7.2250                                                  &                                                           & C                                                         & 0                                                        \\\\\n",
       "\t 28                                                        & 0                                                         & 1                                                         & Fortune, Mr. Charles Alexander                            & 19                                                        & 3                                                         & 2                                                         & 19950                                                     & 263.0000                                                  & C23 C25 C27                                               & S                                                         & 0                                                        \\\\\n",
       "\t 29                                                        & 1                                                         & 3                                                         & O'Dwyer, Miss. Ellen \"Nellie\"                             & NA                                                        & 0                                                         & 0                                                         & 330959                                                    &   7.8792                                                  &                                                           & Q                                                         & 1                                                        \\\\\n",
       "\t 30                                                        & 0                                                         & 3                                                         & Todoroff, Mr. Lalio                                       & NA                                                        & 0                                                         & 0                                                         & 349216                                                    &   7.8958                                                  &                                                           & S                                                         & 0                                                        \\\\\n",
       "\t ... & ... & ... & ... & ... & ... & ... & ... & ... & ... & ... & ...\\\\\n",
       "\t 862                                                 & 0                                                   & 2                                                   & Giles, Mr. Frederick Edward                         & 21                                                  & 1                                                   & 0                                                   & 28134                                               & 11.5000                                             &                                                     & S                                                   & 0                                                  \\\\\n",
       "\t 863                                                 & 1                                                   & 1                                                   & Swift, Mrs. Frederick Joel (Margaret Welles Barron) & 48                                                  & 0                                                   & 0                                                   & 17466                                               & 25.9292                                             & D17                                                 & S                                                   & 1                                                  \\\\\n",
       "\t 864                                                 & 0                                                   & 3                                                   & Sage, Miss. Dorothy Edith \"Dolly\"                   & NA                                                  & 8                                                   & 2                                                   & CA. 2343                                            & 69.5500                                             &                                                     & S                                                   & 1                                                  \\\\\n",
       "\t 865                                                 & 0                                                   & 2                                                   & Gill, Mr. John William                              & 24                                                  & 0                                                   & 0                                                   & 233866                                              & 13.0000                                             &                                                     & S                                                   & 0                                                  \\\\\n",
       "\t 866                                                 & 1                                                   & 2                                                   & Bystrom, Mrs. (Karolina)                            & 42                                                  & 0                                                   & 0                                                   & 236852                                              & 13.0000                                             &                                                     & S                                                   & 1                                                  \\\\\n",
       "\t 867                                                 & 1                                                   & 2                                                   & Duran y More, Miss. Asuncion                        & 27                                                  & 1                                                   & 0                                                   & SC/PARIS 2149                                       & 13.8583                                             &                                                     & C                                                   & 1                                                  \\\\\n",
       "\t 868                                                 & 0                                                   & 1                                                   & Roebling, Mr. Washington Augustus II                & 31                                                  & 0                                                   & 0                                                   & PC 17590                                            & 50.4958                                             & A24                                                 & S                                                   & 0                                                  \\\\\n",
       "\t 869                                                 & 0                                                   & 3                                                   & van Melkebeke, Mr. Philemon                         & NA                                                  & 0                                                   & 0                                                   & 345777                                              &  9.5000                                             &                                                     & S                                                   & 0                                                  \\\\\n",
       "\t 870                                                 & 1                                                   & 3                                                   & Johnson, Master. Harold Theodor                     &  4                                                  & 1                                                   & 1                                                   & 347742                                              & 11.1333                                             &                                                     & S                                                   & 0                                                  \\\\\n",
       "\t 871                                                 & 0                                                   & 3                                                   & Balkic, Mr. Cerin                                   & 26                                                  & 0                                                   & 0                                                   & 349248                                              &  7.8958                                             &                                                     & S                                                   & 0                                                  \\\\\n",
       "\t 872                                                 & 1                                                   & 1                                                   & Beckwith, Mrs. Richard Leonard (Sallie Monypeny)    & 47                                                  & 1                                                   & 1                                                   & 11751                                               & 52.5542                                             & D35                                                 & S                                                   & 1                                                  \\\\\n",
       "\t 873                                                 & 0                                                   & 1                                                   & Carlsson, Mr. Frans Olof                            & 33                                                  & 0                                                   & 0                                                   & 695                                                 &  5.0000                                             & B51 B53 B55                                         & S                                                   & 0                                                  \\\\\n",
       "\t 874                                                 & 0                                                   & 3                                                   & Vander Cruyssen, Mr. Victor                         & 47                                                  & 0                                                   & 0                                                   & 345765                                              &  9.0000                                             &                                                     & S                                                   & 0                                                  \\\\\n",
       "\t 875                                                 & 1                                                   & 2                                                   & Abelson, Mrs. Samuel (Hannah Wizosky)               & 28                                                  & 1                                                   & 0                                                   & P/PP 3381                                           & 24.0000                                             &                                                     & C                                                   & 1                                                  \\\\\n",
       "\t 876                                                 & 1                                                   & 3                                                   & Najib, Miss. Adele Kiamie \"Jane\"                    & 15                                                  & 0                                                   & 0                                                   & 2667                                                &  7.2250                                             &                                                     & C                                                   & 1                                                  \\\\\n",
       "\t 877                                                 & 0                                                   & 3                                                   & Gustafsson, Mr. Alfred Ossian                       & 20                                                  & 0                                                   & 0                                                   & 7534                                                &  9.8458                                             &                                                     & S                                                   & 0                                                  \\\\\n",
       "\t 878                                                 & 0                                                   & 3                                                   & Petroff, Mr. Nedelio                                & 19                                                  & 0                                                   & 0                                                   & 349212                                              &  7.8958                                             &                                                     & S                                                   & 0                                                  \\\\\n",
       "\t 879                                                 & 0                                                   & 3                                                   & Laleff, Mr. Kristo                                  & NA                                                  & 0                                                   & 0                                                   & 349217                                              &  7.8958                                             &                                                     & S                                                   & 0                                                  \\\\\n",
       "\t 880                                                 & 1                                                   & 1                                                   & Potter, Mrs. Thomas Jr (Lily Alexenia Wilson)       & 56                                                  & 0                                                   & 1                                                   & 11767                                               & 83.1583                                             & C50                                                 & C                                                   & 1                                                  \\\\\n",
       "\t 881                                                 & 1                                                   & 2                                                   & Shelley, Mrs. William (Imanita Parrish Hall)        & 25                                                  & 0                                                   & 1                                                   & 230433                                              & 26.0000                                             &                                                     & S                                                   & 1                                                  \\\\\n",
       "\t 882                                                 & 0                                                   & 3                                                   & Markun, Mr. Johann                                  & 33                                                  & 0                                                   & 0                                                   & 349257                                              &  7.8958                                             &                                                     & S                                                   & 0                                                  \\\\\n",
       "\t 883                                                 & 0                                                   & 3                                                   & Dahlberg, Miss. Gerda Ulrika                        & 22                                                  & 0                                                   & 0                                                   & 7552                                                & 10.5167                                             &                                                     & S                                                   & 1                                                  \\\\\n",
       "\t 884                                                 & 0                                                   & 2                                                   & Banfield, Mr. Frederick James                       & 28                                                  & 0                                                   & 0                                                   & C.A./SOTON 34068                                    & 10.5000                                             &                                                     & S                                                   & 0                                                  \\\\\n",
       "\t 885                                                 & 0                                                   & 3                                                   & Sutehall, Mr. Henry Jr                              & 25                                                  & 0                                                   & 0                                                   & SOTON/OQ 392076                                     &  7.0500                                             &                                                     & S                                                   & 0                                                  \\\\\n",
       "\t 886                                                 & 0                                                   & 3                                                   & Rice, Mrs. William (Margaret Norton)                & 39                                                  & 0                                                   & 5                                                   & 382652                                              & 29.1250                                             &                                                     & Q                                                   & 1                                                  \\\\\n",
       "\t 887                                                 & 0                                                   & 2                                                   & Montvila, Rev. Juozas                               & 27                                                  & 0                                                   & 0                                                   & 211536                                              & 13.0000                                             &                                                     & S                                                   & 0                                                  \\\\\n",
       "\t 888                                                 & 1                                                   & 1                                                   & Graham, Miss. Margaret Edith                        & 19                                                  & 0                                                   & 0                                                   & 112053                                              & 30.0000                                             & B42                                                 & S                                                   & 1                                                  \\\\\n",
       "\t 889                                                 & 0                                                   & 3                                                   & Johnston, Miss. Catherine Helen \"Carrie\"            & NA                                                  & 1                                                   & 2                                                   & W./C. 6607                                          & 23.4500                                             &                                                     & S                                                   & 1                                                  \\\\\n",
       "\t 890                                                 & 1                                                   & 1                                                   & Behr, Mr. Karl Howell                               & 26                                                  & 0                                                   & 0                                                   & 111369                                              & 30.0000                                             & C148                                                & C                                                   & 0                                                  \\\\\n",
       "\t 891                                                 & 0                                                   & 3                                                   & Dooley, Mr. Patrick                                 & 32                                                  & 0                                                   & 0                                                   & 370376                                              &  7.7500                                             &                                                     & Q                                                   & 0                                                  \\\\\n",
       "\\end{tabular}\n"
      ],
      "text/markdown": [
       "\n",
       "| PassengerId | Survived | Pclass | Name | Age | SibSp | Parch | Ticket | Fare | Cabin | Embarked | SexCode |\n",
       "|---|---|---|---|---|---|---|---|---|---|---|---|\n",
       "|  1                                                        | 0                                                         | 3                                                         | Braund, Mr. Owen Harris                                   | 22                                                        | 1                                                         | 0                                                         | A/5 21171                                                 |   7.2500                                                  |                                                           | S                                                         | 0                                                         |\n",
       "|  2                                                        | 1                                                         | 1                                                         | Cumings, Mrs. John Bradley (Florence Briggs Thayer)       | 38                                                        | 1                                                         | 0                                                         | PC 17599                                                  |  71.2833                                                  | C85                                                       | C                                                         | 1                                                         |\n",
       "|  3                                                        | 1                                                         | 3                                                         | Heikkinen, Miss. Laina                                    | 26                                                        | 0                                                         | 0                                                         | STON/O2. 3101282                                          |   7.9250                                                  |                                                           | S                                                         | 1                                                         |\n",
       "|  4                                                        | 1                                                         | 1                                                         | Futrelle, Mrs. Jacques Heath (Lily May Peel)              | 35                                                        | 1                                                         | 0                                                         | 113803                                                    |  53.1000                                                  | C123                                                      | S                                                         | 1                                                         |\n",
       "|  5                                                        | 0                                                         | 3                                                         | Allen, Mr. William Henry                                  | 35                                                        | 0                                                         | 0                                                         | 373450                                                    |   8.0500                                                  |                                                           | S                                                         | 0                                                         |\n",
       "|  6                                                        | 0                                                         | 3                                                         | Moran, Mr. James                                          | NA                                                        | 0                                                         | 0                                                         | 330877                                                    |   8.4583                                                  |                                                           | Q                                                         | 0                                                         |\n",
       "|  7                                                        | 0                                                         | 1                                                         | McCarthy, Mr. Timothy J                                   | 54                                                        | 0                                                         | 0                                                         | 17463                                                     |  51.8625                                                  | E46                                                       | S                                                         | 0                                                         |\n",
       "|  8                                                        | 0                                                         | 3                                                         | Palsson, Master. Gosta Leonard                            |  2                                                        | 3                                                         | 1                                                         | 349909                                                    |  21.0750                                                  |                                                           | S                                                         | 0                                                         |\n",
       "|  9                                                        | 1                                                         | 3                                                         | Johnson, Mrs. Oscar W (Elisabeth Vilhelmina Berg)         | 27                                                        | 0                                                         | 2                                                         | 347742                                                    |  11.1333                                                  |                                                           | S                                                         | 1                                                         |\n",
       "| 10                                                        | 1                                                         | 2                                                         | Nasser, Mrs. Nicholas (Adele Achem)                       | 14                                                        | 1                                                         | 0                                                         | 237736                                                    |  30.0708                                                  |                                                           | C                                                         | 1                                                         |\n",
       "| 11                                                        | 1                                                         | 3                                                         | Sandstrom, Miss. Marguerite Rut                           |  4                                                        | 1                                                         | 1                                                         | PP 9549                                                   |  16.7000                                                  | G6                                                        | S                                                         | 1                                                         |\n",
       "| 12                                                        | 1                                                         | 1                                                         | Bonnell, Miss. Elizabeth                                  | 58                                                        | 0                                                         | 0                                                         | 113783                                                    |  26.5500                                                  | C103                                                      | S                                                         | 1                                                         |\n",
       "| 13                                                        | 0                                                         | 3                                                         | Saundercock, Mr. William Henry                            | 20                                                        | 0                                                         | 0                                                         | A/5. 2151                                                 |   8.0500                                                  |                                                           | S                                                         | 0                                                         |\n",
       "| 14                                                        | 0                                                         | 3                                                         | Andersson, Mr. Anders Johan                               | 39                                                        | 1                                                         | 5                                                         | 347082                                                    |  31.2750                                                  |                                                           | S                                                         | 0                                                         |\n",
       "| 15                                                        | 0                                                         | 3                                                         | Vestrom, Miss. Hulda Amanda Adolfina                      | 14                                                        | 0                                                         | 0                                                         | 350406                                                    |   7.8542                                                  |                                                           | S                                                         | 1                                                         |\n",
       "| 16                                                        | 1                                                         | 2                                                         | Hewlett, Mrs. (Mary D Kingcome)                           | 55                                                        | 0                                                         | 0                                                         | 248706                                                    |  16.0000                                                  |                                                           | S                                                         | 1                                                         |\n",
       "| 17                                                        | 0                                                         | 3                                                         | Rice, Master. Eugene                                      |  2                                                        | 4                                                         | 1                                                         | 382652                                                    |  29.1250                                                  |                                                           | Q                                                         | 0                                                         |\n",
       "| 18                                                        | 1                                                         | 2                                                         | Williams, Mr. Charles Eugene                              | NA                                                        | 0                                                         | 0                                                         | 244373                                                    |  13.0000                                                  |                                                           | S                                                         | 0                                                         |\n",
       "| 19                                                        | 0                                                         | 3                                                         | Vander Planke, Mrs. Julius (Emelia Maria Vandemoortele)   | 31                                                        | 1                                                         | 0                                                         | 345763                                                    |  18.0000                                                  |                                                           | S                                                         | 1                                                         |\n",
       "| 20                                                        | 1                                                         | 3                                                         | Masselmani, Mrs. Fatima                                   | NA                                                        | 0                                                         | 0                                                         | 2649                                                      |   7.2250                                                  |                                                           | C                                                         | 1                                                         |\n",
       "| 21                                                        | 0                                                         | 2                                                         | Fynney, Mr. Joseph J                                      | 35                                                        | 0                                                         | 0                                                         | 239865                                                    |  26.0000                                                  |                                                           | S                                                         | 0                                                         |\n",
       "| 22                                                        | 1                                                         | 2                                                         | Beesley, Mr. Lawrence                                     | 34                                                        | 0                                                         | 0                                                         | 248698                                                    |  13.0000                                                  | D56                                                       | S                                                         | 0                                                         |\n",
       "| 23                                                        | 1                                                         | 3                                                         | McGowan, Miss. Anna \"Annie\"                               | 15                                                        | 0                                                         | 0                                                         | 330923                                                    |   8.0292                                                  |                                                           | Q                                                         | 1                                                         |\n",
       "| 24                                                        | 1                                                         | 1                                                         | Sloper, Mr. William Thompson                              | 28                                                        | 0                                                         | 0                                                         | 113788                                                    |  35.5000                                                  | A6                                                        | S                                                         | 0                                                         |\n",
       "| 25                                                        | 0                                                         | 3                                                         | Palsson, Miss. Torborg Danira                             |  8                                                        | 3                                                         | 1                                                         | 349909                                                    |  21.0750                                                  |                                                           | S                                                         | 1                                                         |\n",
       "| 26                                                        | 1                                                         | 3                                                         | Asplund, Mrs. Carl Oscar (Selma Augusta Emilia Johansson) | 38                                                        | 1                                                         | 5                                                         | 347077                                                    |  31.3875                                                  |                                                           | S                                                         | 1                                                         |\n",
       "| 27                                                        | 0                                                         | 3                                                         | Emir, Mr. Farred Chehab                                   | NA                                                        | 0                                                         | 0                                                         | 2631                                                      |   7.2250                                                  |                                                           | C                                                         | 0                                                         |\n",
       "| 28                                                        | 0                                                         | 1                                                         | Fortune, Mr. Charles Alexander                            | 19                                                        | 3                                                         | 2                                                         | 19950                                                     | 263.0000                                                  | C23 C25 C27                                               | S                                                         | 0                                                         |\n",
       "| 29                                                        | 1                                                         | 3                                                         | O'Dwyer, Miss. Ellen \"Nellie\"                             | NA                                                        | 0                                                         | 0                                                         | 330959                                                    |   7.8792                                                  |                                                           | Q                                                         | 1                                                         |\n",
       "| 30                                                        | 0                                                         | 3                                                         | Todoroff, Mr. Lalio                                       | NA                                                        | 0                                                         | 0                                                         | 349216                                                    |   7.8958                                                  |                                                           | S                                                         | 0                                                         |\n",
       "| ... | ... | ... | ... | ... | ... | ... | ... | ... | ... | ... | ... |\n",
       "| 862                                                 | 0                                                   | 2                                                   | Giles, Mr. Frederick Edward                         | 21                                                  | 1                                                   | 0                                                   | 28134                                               | 11.5000                                             |                                                     | S                                                   | 0                                                   |\n",
       "| 863                                                 | 1                                                   | 1                                                   | Swift, Mrs. Frederick Joel (Margaret Welles Barron) | 48                                                  | 0                                                   | 0                                                   | 17466                                               | 25.9292                                             | D17                                                 | S                                                   | 1                                                   |\n",
       "| 864                                                 | 0                                                   | 3                                                   | Sage, Miss. Dorothy Edith \"Dolly\"                   | NA                                                  | 8                                                   | 2                                                   | CA. 2343                                            | 69.5500                                             |                                                     | S                                                   | 1                                                   |\n",
       "| 865                                                 | 0                                                   | 2                                                   | Gill, Mr. John William                              | 24                                                  | 0                                                   | 0                                                   | 233866                                              | 13.0000                                             |                                                     | S                                                   | 0                                                   |\n",
       "| 866                                                 | 1                                                   | 2                                                   | Bystrom, Mrs. (Karolina)                            | 42                                                  | 0                                                   | 0                                                   | 236852                                              | 13.0000                                             |                                                     | S                                                   | 1                                                   |\n",
       "| 867                                                 | 1                                                   | 2                                                   | Duran y More, Miss. Asuncion                        | 27                                                  | 1                                                   | 0                                                   | SC/PARIS 2149                                       | 13.8583                                             |                                                     | C                                                   | 1                                                   |\n",
       "| 868                                                 | 0                                                   | 1                                                   | Roebling, Mr. Washington Augustus II                | 31                                                  | 0                                                   | 0                                                   | PC 17590                                            | 50.4958                                             | A24                                                 | S                                                   | 0                                                   |\n",
       "| 869                                                 | 0                                                   | 3                                                   | van Melkebeke, Mr. Philemon                         | NA                                                  | 0                                                   | 0                                                   | 345777                                              |  9.5000                                             |                                                     | S                                                   | 0                                                   |\n",
       "| 870                                                 | 1                                                   | 3                                                   | Johnson, Master. Harold Theodor                     |  4                                                  | 1                                                   | 1                                                   | 347742                                              | 11.1333                                             |                                                     | S                                                   | 0                                                   |\n",
       "| 871                                                 | 0                                                   | 3                                                   | Balkic, Mr. Cerin                                   | 26                                                  | 0                                                   | 0                                                   | 349248                                              |  7.8958                                             |                                                     | S                                                   | 0                                                   |\n",
       "| 872                                                 | 1                                                   | 1                                                   | Beckwith, Mrs. Richard Leonard (Sallie Monypeny)    | 47                                                  | 1                                                   | 1                                                   | 11751                                               | 52.5542                                             | D35                                                 | S                                                   | 1                                                   |\n",
       "| 873                                                 | 0                                                   | 1                                                   | Carlsson, Mr. Frans Olof                            | 33                                                  | 0                                                   | 0                                                   | 695                                                 |  5.0000                                             | B51 B53 B55                                         | S                                                   | 0                                                   |\n",
       "| 874                                                 | 0                                                   | 3                                                   | Vander Cruyssen, Mr. Victor                         | 47                                                  | 0                                                   | 0                                                   | 345765                                              |  9.0000                                             |                                                     | S                                                   | 0                                                   |\n",
       "| 875                                                 | 1                                                   | 2                                                   | Abelson, Mrs. Samuel (Hannah Wizosky)               | 28                                                  | 1                                                   | 0                                                   | P/PP 3381                                           | 24.0000                                             |                                                     | C                                                   | 1                                                   |\n",
       "| 876                                                 | 1                                                   | 3                                                   | Najib, Miss. Adele Kiamie \"Jane\"                    | 15                                                  | 0                                                   | 0                                                   | 2667                                                |  7.2250                                             |                                                     | C                                                   | 1                                                   |\n",
       "| 877                                                 | 0                                                   | 3                                                   | Gustafsson, Mr. Alfred Ossian                       | 20                                                  | 0                                                   | 0                                                   | 7534                                                |  9.8458                                             |                                                     | S                                                   | 0                                                   |\n",
       "| 878                                                 | 0                                                   | 3                                                   | Petroff, Mr. Nedelio                                | 19                                                  | 0                                                   | 0                                                   | 349212                                              |  7.8958                                             |                                                     | S                                                   | 0                                                   |\n",
       "| 879                                                 | 0                                                   | 3                                                   | Laleff, Mr. Kristo                                  | NA                                                  | 0                                                   | 0                                                   | 349217                                              |  7.8958                                             |                                                     | S                                                   | 0                                                   |\n",
       "| 880                                                 | 1                                                   | 1                                                   | Potter, Mrs. Thomas Jr (Lily Alexenia Wilson)       | 56                                                  | 0                                                   | 1                                                   | 11767                                               | 83.1583                                             | C50                                                 | C                                                   | 1                                                   |\n",
       "| 881                                                 | 1                                                   | 2                                                   | Shelley, Mrs. William (Imanita Parrish Hall)        | 25                                                  | 0                                                   | 1                                                   | 230433                                              | 26.0000                                             |                                                     | S                                                   | 1                                                   |\n",
       "| 882                                                 | 0                                                   | 3                                                   | Markun, Mr. Johann                                  | 33                                                  | 0                                                   | 0                                                   | 349257                                              |  7.8958                                             |                                                     | S                                                   | 0                                                   |\n",
       "| 883                                                 | 0                                                   | 3                                                   | Dahlberg, Miss. Gerda Ulrika                        | 22                                                  | 0                                                   | 0                                                   | 7552                                                | 10.5167                                             |                                                     | S                                                   | 1                                                   |\n",
       "| 884                                                 | 0                                                   | 2                                                   | Banfield, Mr. Frederick James                       | 28                                                  | 0                                                   | 0                                                   | C.A./SOTON 34068                                    | 10.5000                                             |                                                     | S                                                   | 0                                                   |\n",
       "| 885                                                 | 0                                                   | 3                                                   | Sutehall, Mr. Henry Jr                              | 25                                                  | 0                                                   | 0                                                   | SOTON/OQ 392076                                     |  7.0500                                             |                                                     | S                                                   | 0                                                   |\n",
       "| 886                                                 | 0                                                   | 3                                                   | Rice, Mrs. William (Margaret Norton)                | 39                                                  | 0                                                   | 5                                                   | 382652                                              | 29.1250                                             |                                                     | Q                                                   | 1                                                   |\n",
       "| 887                                                 | 0                                                   | 2                                                   | Montvila, Rev. Juozas                               | 27                                                  | 0                                                   | 0                                                   | 211536                                              | 13.0000                                             |                                                     | S                                                   | 0                                                   |\n",
       "| 888                                                 | 1                                                   | 1                                                   | Graham, Miss. Margaret Edith                        | 19                                                  | 0                                                   | 0                                                   | 112053                                              | 30.0000                                             | B42                                                 | S                                                   | 1                                                   |\n",
       "| 889                                                 | 0                                                   | 3                                                   | Johnston, Miss. Catherine Helen \"Carrie\"            | NA                                                  | 1                                                   | 2                                                   | W./C. 6607                                          | 23.4500                                             |                                                     | S                                                   | 1                                                   |\n",
       "| 890                                                 | 1                                                   | 1                                                   | Behr, Mr. Karl Howell                               | 26                                                  | 0                                                   | 0                                                   | 111369                                              | 30.0000                                             | C148                                                | C                                                   | 0                                                   |\n",
       "| 891                                                 | 0                                                   | 3                                                   | Dooley, Mr. Patrick                                 | 32                                                  | 0                                                   | 0                                                   | 370376                                              |  7.7500                                             |                                                     | Q                                                   | 0                                                   |\n",
       "\n"
      ],
      "text/plain": [
       "    PassengerId Survived Pclass\n",
       "1    1          0        3     \n",
       "2    2          1        1     \n",
       "3    3          1        3     \n",
       "4    4          1        1     \n",
       "5    5          0        3     \n",
       "6    6          0        3     \n",
       "7    7          0        1     \n",
       "8    8          0        3     \n",
       "9    9          1        3     \n",
       "10  10          1        2     \n",
       "11  11          1        3     \n",
       "12  12          1        1     \n",
       "13  13          0        3     \n",
       "14  14          0        3     \n",
       "15  15          0        3     \n",
       "16  16          1        2     \n",
       "17  17          0        3     \n",
       "18  18          1        2     \n",
       "19  19          0        3     \n",
       "20  20          1        3     \n",
       "21  21          0        2     \n",
       "22  22          1        2     \n",
       "23  23          1        3     \n",
       "24  24          1        1     \n",
       "25  25          0        3     \n",
       "26  26          1        3     \n",
       "27  27          0        3     \n",
       "28  28          0        1     \n",
       "29  29          1        3     \n",
       "30  30          0        3     \n",
       "... ...         ...      ...   \n",
       "862 862         0        2     \n",
       "863 863         1        1     \n",
       "864 864         0        3     \n",
       "865 865         0        2     \n",
       "866 866         1        2     \n",
       "867 867         1        2     \n",
       "868 868         0        1     \n",
       "869 869         0        3     \n",
       "870 870         1        3     \n",
       "871 871         0        3     \n",
       "872 872         1        1     \n",
       "873 873         0        1     \n",
       "874 874         0        3     \n",
       "875 875         1        2     \n",
       "876 876         1        3     \n",
       "877 877         0        3     \n",
       "878 878         0        3     \n",
       "879 879         0        3     \n",
       "880 880         1        1     \n",
       "881 881         1        2     \n",
       "882 882         0        3     \n",
       "883 883         0        3     \n",
       "884 884         0        2     \n",
       "885 885         0        3     \n",
       "886 886         0        3     \n",
       "887 887         0        2     \n",
       "888 888         1        1     \n",
       "889 889         0        3     \n",
       "890 890         1        1     \n",
       "891 891         0        3     \n",
       "    Name                                                      Age SibSp Parch\n",
       "1   Braund, Mr. Owen Harris                                   22  1     0    \n",
       "2   Cumings, Mrs. John Bradley (Florence Briggs Thayer)       38  1     0    \n",
       "3   Heikkinen, Miss. Laina                                    26  0     0    \n",
       "4   Futrelle, Mrs. Jacques Heath (Lily May Peel)              35  1     0    \n",
       "5   Allen, Mr. William Henry                                  35  0     0    \n",
       "6   Moran, Mr. James                                          NA  0     0    \n",
       "7   McCarthy, Mr. Timothy J                                   54  0     0    \n",
       "8   Palsson, Master. Gosta Leonard                             2  3     1    \n",
       "9   Johnson, Mrs. Oscar W (Elisabeth Vilhelmina Berg)         27  0     2    \n",
       "10  Nasser, Mrs. Nicholas (Adele Achem)                       14  1     0    \n",
       "11  Sandstrom, Miss. Marguerite Rut                            4  1     1    \n",
       "12  Bonnell, Miss. Elizabeth                                  58  0     0    \n",
       "13  Saundercock, Mr. William Henry                            20  0     0    \n",
       "14  Andersson, Mr. Anders Johan                               39  1     5    \n",
       "15  Vestrom, Miss. Hulda Amanda Adolfina                      14  0     0    \n",
       "16  Hewlett, Mrs. (Mary D Kingcome)                           55  0     0    \n",
       "17  Rice, Master. Eugene                                       2  4     1    \n",
       "18  Williams, Mr. Charles Eugene                              NA  0     0    \n",
       "19  Vander Planke, Mrs. Julius (Emelia Maria Vandemoortele)   31  1     0    \n",
       "20  Masselmani, Mrs. Fatima                                   NA  0     0    \n",
       "21  Fynney, Mr. Joseph J                                      35  0     0    \n",
       "22  Beesley, Mr. Lawrence                                     34  0     0    \n",
       "23  McGowan, Miss. Anna \"Annie\"                               15  0     0    \n",
       "24  Sloper, Mr. William Thompson                              28  0     0    \n",
       "25  Palsson, Miss. Torborg Danira                              8  3     1    \n",
       "26  Asplund, Mrs. Carl Oscar (Selma Augusta Emilia Johansson) 38  1     5    \n",
       "27  Emir, Mr. Farred Chehab                                   NA  0     0    \n",
       "28  Fortune, Mr. Charles Alexander                            19  3     2    \n",
       "29  O'Dwyer, Miss. Ellen \"Nellie\"                             NA  0     0    \n",
       "30  Todoroff, Mr. Lalio                                       NA  0     0    \n",
       "... ...                                                       ... ...   ...  \n",
       "862 Giles, Mr. Frederick Edward                               21  1     0    \n",
       "863 Swift, Mrs. Frederick Joel (Margaret Welles Barron)       48  0     0    \n",
       "864 Sage, Miss. Dorothy Edith \"Dolly\"                         NA  8     2    \n",
       "865 Gill, Mr. John William                                    24  0     0    \n",
       "866 Bystrom, Mrs. (Karolina)                                  42  0     0    \n",
       "867 Duran y More, Miss. Asuncion                              27  1     0    \n",
       "868 Roebling, Mr. Washington Augustus II                      31  0     0    \n",
       "869 van Melkebeke, Mr. Philemon                               NA  0     0    \n",
       "870 Johnson, Master. Harold Theodor                            4  1     1    \n",
       "871 Balkic, Mr. Cerin                                         26  0     0    \n",
       "872 Beckwith, Mrs. Richard Leonard (Sallie Monypeny)          47  1     1    \n",
       "873 Carlsson, Mr. Frans Olof                                  33  0     0    \n",
       "874 Vander Cruyssen, Mr. Victor                               47  0     0    \n",
       "875 Abelson, Mrs. Samuel (Hannah Wizosky)                     28  1     0    \n",
       "876 Najib, Miss. Adele Kiamie \"Jane\"                          15  0     0    \n",
       "877 Gustafsson, Mr. Alfred Ossian                             20  0     0    \n",
       "878 Petroff, Mr. Nedelio                                      19  0     0    \n",
       "879 Laleff, Mr. Kristo                                        NA  0     0    \n",
       "880 Potter, Mrs. Thomas Jr (Lily Alexenia Wilson)             56  0     1    \n",
       "881 Shelley, Mrs. William (Imanita Parrish Hall)              25  0     1    \n",
       "882 Markun, Mr. Johann                                        33  0     0    \n",
       "883 Dahlberg, Miss. Gerda Ulrika                              22  0     0    \n",
       "884 Banfield, Mr. Frederick James                             28  0     0    \n",
       "885 Sutehall, Mr. Henry Jr                                    25  0     0    \n",
       "886 Rice, Mrs. William (Margaret Norton)                      39  0     5    \n",
       "887 Montvila, Rev. Juozas                                     27  0     0    \n",
       "888 Graham, Miss. Margaret Edith                              19  0     0    \n",
       "889 Johnston, Miss. Catherine Helen \"Carrie\"                  NA  1     2    \n",
       "890 Behr, Mr. Karl Howell                                     26  0     0    \n",
       "891 Dooley, Mr. Patrick                                       32  0     0    \n",
       "    Ticket           Fare     Cabin       Embarked SexCode\n",
       "1   A/5 21171          7.2500             S        0      \n",
       "2   PC 17599          71.2833 C85         C        1      \n",
       "3   STON/O2. 3101282   7.9250             S        1      \n",
       "4   113803            53.1000 C123        S        1      \n",
       "5   373450             8.0500             S        0      \n",
       "6   330877             8.4583             Q        0      \n",
       "7   17463             51.8625 E46         S        0      \n",
       "8   349909            21.0750             S        0      \n",
       "9   347742            11.1333             S        1      \n",
       "10  237736            30.0708             C        1      \n",
       "11  PP 9549           16.7000 G6          S        1      \n",
       "12  113783            26.5500 C103        S        1      \n",
       "13  A/5. 2151          8.0500             S        0      \n",
       "14  347082            31.2750             S        0      \n",
       "15  350406             7.8542             S        1      \n",
       "16  248706            16.0000             S        1      \n",
       "17  382652            29.1250             Q        0      \n",
       "18  244373            13.0000             S        0      \n",
       "19  345763            18.0000             S        1      \n",
       "20  2649               7.2250             C        1      \n",
       "21  239865            26.0000             S        0      \n",
       "22  248698            13.0000 D56         S        0      \n",
       "23  330923             8.0292             Q        1      \n",
       "24  113788            35.5000 A6          S        0      \n",
       "25  349909            21.0750             S        1      \n",
       "26  347077            31.3875             S        1      \n",
       "27  2631               7.2250             C        0      \n",
       "28  19950            263.0000 C23 C25 C27 S        0      \n",
       "29  330959             7.8792             Q        1      \n",
       "30  349216             7.8958             S        0      \n",
       "... ...              ...      ...         ...      ...    \n",
       "862 28134            11.5000              S        0      \n",
       "863 17466            25.9292  D17         S        1      \n",
       "864 CA. 2343         69.5500              S        1      \n",
       "865 233866           13.0000              S        0      \n",
       "866 236852           13.0000              S        1      \n",
       "867 SC/PARIS 2149    13.8583              C        1      \n",
       "868 PC 17590         50.4958  A24         S        0      \n",
       "869 345777            9.5000              S        0      \n",
       "870 347742           11.1333              S        0      \n",
       "871 349248            7.8958              S        0      \n",
       "872 11751            52.5542  D35         S        1      \n",
       "873 695               5.0000  B51 B53 B55 S        0      \n",
       "874 345765            9.0000              S        0      \n",
       "875 P/PP 3381        24.0000              C        1      \n",
       "876 2667              7.2250              C        1      \n",
       "877 7534              9.8458              S        0      \n",
       "878 349212            7.8958              S        0      \n",
       "879 349217            7.8958              S        0      \n",
       "880 11767            83.1583  C50         C        1      \n",
       "881 230433           26.0000              S        1      \n",
       "882 349257            7.8958              S        0      \n",
       "883 7552             10.5167              S        1      \n",
       "884 C.A./SOTON 34068 10.5000              S        0      \n",
       "885 SOTON/OQ 392076   7.0500              S        0      \n",
       "886 382652           29.1250              Q        1      \n",
       "887 211536           13.0000              S        0      \n",
       "888 112053           30.0000  B42         S        1      \n",
       "889 W./C. 6607       23.4500              S        1      \n",
       "890 111369           30.0000  C148        C        0      \n",
       "891 370376            7.7500              Q        0      "
      ]
     },
     "metadata": {},
     "output_type": "display_data"
    },
    {
     "data": {
      "text/html": [
       "<table>\n",
       "<thead><tr><th scope=col>PassengerId</th><th scope=col>Survived</th><th scope=col>Pclass</th><th scope=col>Name</th><th scope=col>Sex</th><th scope=col>Age</th><th scope=col>SibSp</th><th scope=col>Parch</th><th scope=col>Ticket</th><th scope=col>Fare</th><th scope=col>Cabin</th><th scope=col>Embarked</th><th scope=col>SexCode</th></tr></thead>\n",
       "<tbody>\n",
       "\t<tr><td>1                                                  </td><td>0                                                  </td><td>3                                                  </td><td>Braund, Mr. Owen Harris                            </td><td>male                                               </td><td>22                                                 </td><td>1                                                  </td><td>0                                                  </td><td>A/5 21171                                          </td><td> 7.2500                                            </td><td>                                                   </td><td>S                                                  </td><td>0                                                  </td></tr>\n",
       "\t<tr><td>2                                                  </td><td>1                                                  </td><td>1                                                  </td><td>Cumings, Mrs. John Bradley (Florence Briggs Thayer)</td><td>female                                             </td><td>38                                                 </td><td>1                                                  </td><td>0                                                  </td><td>PC 17599                                           </td><td>71.2833                                            </td><td>C85                                                </td><td>C                                                  </td><td>1                                                  </td></tr>\n",
       "\t<tr><td>3                                                  </td><td>1                                                  </td><td>3                                                  </td><td>Heikkinen, Miss. Laina                             </td><td>female                                             </td><td>26                                                 </td><td>0                                                  </td><td>0                                                  </td><td>STON/O2. 3101282                                   </td><td> 7.9250                                            </td><td>                                                   </td><td>S                                                  </td><td>1                                                  </td></tr>\n",
       "\t<tr><td>4                                                  </td><td>1                                                  </td><td>1                                                  </td><td>Futrelle, Mrs. Jacques Heath (Lily May Peel)       </td><td>female                                             </td><td>35                                                 </td><td>1                                                  </td><td>0                                                  </td><td>113803                                             </td><td>53.1000                                            </td><td>C123                                               </td><td>S                                                  </td><td>1                                                  </td></tr>\n",
       "\t<tr><td>5                                                  </td><td>0                                                  </td><td>3                                                  </td><td>Allen, Mr. William Henry                           </td><td>male                                               </td><td>35                                                 </td><td>0                                                  </td><td>0                                                  </td><td>373450                                             </td><td> 8.0500                                            </td><td>                                                   </td><td>S                                                  </td><td>0                                                  </td></tr>\n",
       "\t<tr><td>6                                                  </td><td>0                                                  </td><td>3                                                  </td><td>Moran, Mr. James                                   </td><td>male                                               </td><td>NA                                                 </td><td>0                                                  </td><td>0                                                  </td><td>330877                                             </td><td> 8.4583                                            </td><td>                                                   </td><td>Q                                                  </td><td>0                                                  </td></tr>\n",
       "</tbody>\n",
       "</table>\n"
      ],
      "text/latex": [
       "\\begin{tabular}{r|lllllllllllll}\n",
       " PassengerId & Survived & Pclass & Name & Sex & Age & SibSp & Parch & Ticket & Fare & Cabin & Embarked & SexCode\\\\\n",
       "\\hline\n",
       "\t 1                                                   & 0                                                   & 3                                                   & Braund, Mr. Owen Harris                             & male                                                & 22                                                  & 1                                                   & 0                                                   & A/5 21171                                           &  7.2500                                             &                                                     & S                                                   & 0                                                  \\\\\n",
       "\t 2                                                   & 1                                                   & 1                                                   & Cumings, Mrs. John Bradley (Florence Briggs Thayer) & female                                              & 38                                                  & 1                                                   & 0                                                   & PC 17599                                            & 71.2833                                             & C85                                                 & C                                                   & 1                                                  \\\\\n",
       "\t 3                                                   & 1                                                   & 3                                                   & Heikkinen, Miss. Laina                              & female                                              & 26                                                  & 0                                                   & 0                                                   & STON/O2. 3101282                                    &  7.9250                                             &                                                     & S                                                   & 1                                                  \\\\\n",
       "\t 4                                                   & 1                                                   & 1                                                   & Futrelle, Mrs. Jacques Heath (Lily May Peel)        & female                                              & 35                                                  & 1                                                   & 0                                                   & 113803                                              & 53.1000                                             & C123                                                & S                                                   & 1                                                  \\\\\n",
       "\t 5                                                   & 0                                                   & 3                                                   & Allen, Mr. William Henry                            & male                                                & 35                                                  & 0                                                   & 0                                                   & 373450                                              &  8.0500                                             &                                                     & S                                                   & 0                                                  \\\\\n",
       "\t 6                                                   & 0                                                   & 3                                                   & Moran, Mr. James                                    & male                                                & NA                                                  & 0                                                   & 0                                                   & 330877                                              &  8.4583                                             &                                                     & Q                                                   & 0                                                  \\\\\n",
       "\\end{tabular}\n"
      ],
      "text/markdown": [
       "\n",
       "| PassengerId | Survived | Pclass | Name | Sex | Age | SibSp | Parch | Ticket | Fare | Cabin | Embarked | SexCode |\n",
       "|---|---|---|---|---|---|---|---|---|---|---|---|---|\n",
       "| 1                                                   | 0                                                   | 3                                                   | Braund, Mr. Owen Harris                             | male                                                | 22                                                  | 1                                                   | 0                                                   | A/5 21171                                           |  7.2500                                             |                                                     | S                                                   | 0                                                   |\n",
       "| 2                                                   | 1                                                   | 1                                                   | Cumings, Mrs. John Bradley (Florence Briggs Thayer) | female                                              | 38                                                  | 1                                                   | 0                                                   | PC 17599                                            | 71.2833                                             | C85                                                 | C                                                   | 1                                                   |\n",
       "| 3                                                   | 1                                                   | 3                                                   | Heikkinen, Miss. Laina                              | female                                              | 26                                                  | 0                                                   | 0                                                   | STON/O2. 3101282                                    |  7.9250                                             |                                                     | S                                                   | 1                                                   |\n",
       "| 4                                                   | 1                                                   | 1                                                   | Futrelle, Mrs. Jacques Heath (Lily May Peel)        | female                                              | 35                                                  | 1                                                   | 0                                                   | 113803                                              | 53.1000                                             | C123                                                | S                                                   | 1                                                   |\n",
       "| 5                                                   | 0                                                   | 3                                                   | Allen, Mr. William Henry                            | male                                                | 35                                                  | 0                                                   | 0                                                   | 373450                                              |  8.0500                                             |                                                     | S                                                   | 0                                                   |\n",
       "| 6                                                   | 0                                                   | 3                                                   | Moran, Mr. James                                    | male                                                | NA                                                  | 0                                                   | 0                                                   | 330877                                              |  8.4583                                             |                                                     | Q                                                   | 0                                                   |\n",
       "\n"
      ],
      "text/plain": [
       "  PassengerId Survived Pclass\n",
       "1 1           0        3     \n",
       "2 2           1        1     \n",
       "3 3           1        3     \n",
       "4 4           1        1     \n",
       "5 5           0        3     \n",
       "6 6           0        3     \n",
       "  Name                                                Sex    Age SibSp Parch\n",
       "1 Braund, Mr. Owen Harris                             male   22  1     0    \n",
       "2 Cumings, Mrs. John Bradley (Florence Briggs Thayer) female 38  1     0    \n",
       "3 Heikkinen, Miss. Laina                              female 26  0     0    \n",
       "4 Futrelle, Mrs. Jacques Heath (Lily May Peel)        female 35  1     0    \n",
       "5 Allen, Mr. William Henry                            male   35  0     0    \n",
       "6 Moran, Mr. James                                    male   NA  0     0    \n",
       "  Ticket           Fare    Cabin Embarked SexCode\n",
       "1 A/5 21171         7.2500       S        0      \n",
       "2 PC 17599         71.2833 C85   C        1      \n",
       "3 STON/O2. 3101282  7.9250       S        1      \n",
       "4 113803           53.1000 C123  S        1      \n",
       "5 373450            8.0500       S        0      \n",
       "6 330877            8.4583       Q        0      "
      ]
     },
     "metadata": {},
     "output_type": "display_data"
    },
    {
     "data": {
      "text/html": [
       "<table>\n",
       "<thead><tr><th scope=col>Survived</th><th scope=col>Sex</th><th scope=col>Pclass</th><th scope=col>Embarked</th></tr></thead>\n",
       "<tbody>\n",
       "\t<tr><td>0     </td><td>male  </td><td>3     </td><td>S     </td></tr>\n",
       "\t<tr><td>1     </td><td>female</td><td>1     </td><td>C     </td></tr>\n",
       "\t<tr><td>1     </td><td>female</td><td>3     </td><td>S     </td></tr>\n",
       "\t<tr><td>1     </td><td>female</td><td>1     </td><td>S     </td></tr>\n",
       "\t<tr><td>0     </td><td>male  </td><td>3     </td><td>S     </td></tr>\n",
       "\t<tr><td>0     </td><td>male  </td><td>3     </td><td>Q     </td></tr>\n",
       "</tbody>\n",
       "</table>\n"
      ],
      "text/latex": [
       "\\begin{tabular}{r|llll}\n",
       " Survived & Sex & Pclass & Embarked\\\\\n",
       "\\hline\n",
       "\t 0      & male   & 3      & S     \\\\\n",
       "\t 1      & female & 1      & C     \\\\\n",
       "\t 1      & female & 3      & S     \\\\\n",
       "\t 1      & female & 1      & S     \\\\\n",
       "\t 0      & male   & 3      & S     \\\\\n",
       "\t 0      & male   & 3      & Q     \\\\\n",
       "\\end{tabular}\n"
      ],
      "text/markdown": [
       "\n",
       "| Survived | Sex | Pclass | Embarked |\n",
       "|---|---|---|---|\n",
       "| 0      | male   | 3      | S      |\n",
       "| 1      | female | 1      | C      |\n",
       "| 1      | female | 3      | S      |\n",
       "| 1      | female | 1      | S      |\n",
       "| 0      | male   | 3      | S      |\n",
       "| 0      | male   | 3      | Q      |\n",
       "\n"
      ],
      "text/plain": [
       "  Survived Sex    Pclass Embarked\n",
       "1 0        male   3      S       \n",
       "2 1        female 1      C       \n",
       "3 1        female 3      S       \n",
       "4 1        female 1      S       \n",
       "5 0        male   3      S       \n",
       "6 0        male   3      Q       "
      ]
     },
     "metadata": {},
     "output_type": "display_data"
    },
    {
     "data": {
      "text/html": [
       "<table>\n",
       "<thead><tr><th scope=col>Embarked</th><th scope=col>Embarked_C</th><th scope=col>Embarked_S</th><th scope=col>Embarked_Q</th></tr></thead>\n",
       "<tbody>\n",
       "\t<tr><td>S    </td><td>FALSE</td><td> TRUE</td><td>FALSE</td></tr>\n",
       "\t<tr><td>C    </td><td> TRUE</td><td>FALSE</td><td>FALSE</td></tr>\n",
       "\t<tr><td>S    </td><td>FALSE</td><td> TRUE</td><td>FALSE</td></tr>\n",
       "\t<tr><td>S    </td><td>FALSE</td><td> TRUE</td><td>FALSE</td></tr>\n",
       "\t<tr><td>S    </td><td>FALSE</td><td> TRUE</td><td>FALSE</td></tr>\n",
       "\t<tr><td>Q    </td><td>FALSE</td><td>FALSE</td><td> TRUE</td></tr>\n",
       "</tbody>\n",
       "</table>\n"
      ],
      "text/latex": [
       "\\begin{tabular}{r|llll}\n",
       " Embarked & Embarked\\_C & Embarked\\_S & Embarked\\_Q\\\\\n",
       "\\hline\n",
       "\t S     & FALSE &  TRUE & FALSE\\\\\n",
       "\t C     &  TRUE & FALSE & FALSE\\\\\n",
       "\t S     & FALSE &  TRUE & FALSE\\\\\n",
       "\t S     & FALSE &  TRUE & FALSE\\\\\n",
       "\t S     & FALSE &  TRUE & FALSE\\\\\n",
       "\t Q     & FALSE & FALSE &  TRUE\\\\\n",
       "\\end{tabular}\n"
      ],
      "text/markdown": [
       "\n",
       "| Embarked | Embarked_C | Embarked_S | Embarked_Q |\n",
       "|---|---|---|---|\n",
       "| S     | FALSE |  TRUE | FALSE |\n",
       "| C     |  TRUE | FALSE | FALSE |\n",
       "| S     | FALSE |  TRUE | FALSE |\n",
       "| S     | FALSE |  TRUE | FALSE |\n",
       "| S     | FALSE |  TRUE | FALSE |\n",
       "| Q     | FALSE | FALSE |  TRUE |\n",
       "\n"
      ],
      "text/plain": [
       "  Embarked Embarked_C Embarked_S Embarked_Q\n",
       "1 S        FALSE       TRUE      FALSE     \n",
       "2 C         TRUE      FALSE      FALSE     \n",
       "3 S        FALSE       TRUE      FALSE     \n",
       "4 S        FALSE       TRUE      FALSE     \n",
       "5 S        FALSE       TRUE      FALSE     \n",
       "6 Q        FALSE      FALSE       TRUE     "
      ]
     },
     "metadata": {},
     "output_type": "display_data"
    },
    {
     "data": {
      "text/html": [
       "<table>\n",
       "<thead><tr><th scope=col>Survived</th><th scope=col>Pclass</th><th scope=col>SexCode</th><th scope=col>Embarked_C</th><th scope=col>Embarked_S</th><th scope=col>Embarked_Q</th></tr></thead>\n",
       "<tbody>\n",
       "\t<tr><td>0    </td><td>3    </td><td>0    </td><td>FALSE</td><td> TRUE</td><td>FALSE</td></tr>\n",
       "\t<tr><td>1    </td><td>1    </td><td>1    </td><td> TRUE</td><td>FALSE</td><td>FALSE</td></tr>\n",
       "\t<tr><td>1    </td><td>3    </td><td>1    </td><td>FALSE</td><td> TRUE</td><td>FALSE</td></tr>\n",
       "\t<tr><td>1    </td><td>1    </td><td>1    </td><td>FALSE</td><td> TRUE</td><td>FALSE</td></tr>\n",
       "\t<tr><td>0    </td><td>3    </td><td>0    </td><td>FALSE</td><td> TRUE</td><td>FALSE</td></tr>\n",
       "\t<tr><td>0    </td><td>3    </td><td>0    </td><td>FALSE</td><td>FALSE</td><td> TRUE</td></tr>\n",
       "</tbody>\n",
       "</table>\n"
      ],
      "text/latex": [
       "\\begin{tabular}{r|llllll}\n",
       " Survived & Pclass & SexCode & Embarked\\_C & Embarked\\_S & Embarked\\_Q\\\\\n",
       "\\hline\n",
       "\t 0     & 3     & 0     & FALSE &  TRUE & FALSE\\\\\n",
       "\t 1     & 1     & 1     &  TRUE & FALSE & FALSE\\\\\n",
       "\t 1     & 3     & 1     & FALSE &  TRUE & FALSE\\\\\n",
       "\t 1     & 1     & 1     & FALSE &  TRUE & FALSE\\\\\n",
       "\t 0     & 3     & 0     & FALSE &  TRUE & FALSE\\\\\n",
       "\t 0     & 3     & 0     & FALSE & FALSE &  TRUE\\\\\n",
       "\\end{tabular}\n"
      ],
      "text/markdown": [
       "\n",
       "| Survived | Pclass | SexCode | Embarked_C | Embarked_S | Embarked_Q |\n",
       "|---|---|---|---|---|---|\n",
       "| 0     | 3     | 0     | FALSE |  TRUE | FALSE |\n",
       "| 1     | 1     | 1     |  TRUE | FALSE | FALSE |\n",
       "| 1     | 3     | 1     | FALSE |  TRUE | FALSE |\n",
       "| 1     | 1     | 1     | FALSE |  TRUE | FALSE |\n",
       "| 0     | 3     | 0     | FALSE |  TRUE | FALSE |\n",
       "| 0     | 3     | 0     | FALSE | FALSE |  TRUE |\n",
       "\n"
      ],
      "text/plain": [
       "  Survived Pclass SexCode Embarked_C Embarked_S Embarked_Q\n",
       "1 0        3      0       FALSE       TRUE      FALSE     \n",
       "2 1        1      1        TRUE      FALSE      FALSE     \n",
       "3 1        3      1       FALSE       TRUE      FALSE     \n",
       "4 1        1      1       FALSE       TRUE      FALSE     \n",
       "5 0        3      0       FALSE       TRUE      FALSE     \n",
       "6 0        3      0       FALSE      FALSE       TRUE     "
      ]
     },
     "metadata": {},
     "output_type": "display_data"
    }
   ],
   "source": [
    "train_df_T <-train_df\n",
    "\n",
    "target_col <- c(\"Survived\",\"Sex\",\"Pclass\",\"Embarked\")\n",
    "head(train_df_T[,target_col])\n",
    "\n",
    "train_df_T$SexCode[train_df_T$Sex==\"male\"] <-0\n",
    "train_df_T$SexCode[train_df_T$Sex==\"female\"] <-1\n",
    "\n",
    "subset(train_df_T, select= -Sex)\n",
    "head(train_df_T)\n",
    "\n",
    "target_col <-c(\"Survived\",\"Sex\",\"Pclass\",\"Embarked\")\n",
    "head(train_df_T[target_col])\n",
    "\n",
    "train_df_T$Embarked_C = train_df_T$Embarked ==\"C\"\n",
    "train_df_T$Embarked_S = train_df_T$Embarked ==\"S\"\n",
    "train_df_T$Embarked_Q = train_df_T$Embarked ==\"Q\"\n",
    "\n",
    "head(train_df_T[c(\"Embarked\",'Embarked_C','Embarked_S','Embarked_Q')])\n",
    "\n",
    "target_col = c(\"Survived\", \"Pclass\",\"SexCode\",'Embarked_C','Embarked_S','Embarked_Q')\n",
    "head(train_df_T[,target_col])"
   ]
  },
  {
   "cell_type": "markdown",
   "id": "ce956462",
   "metadata": {},
   "source": []
  },
  {
   "cell_type": "code",
   "execution_count": 3,
   "id": "217f52c1",
   "metadata": {},
   "outputs": [],
   "source": [
    "train_df_T<-subset(train_df_T, !is.na(train_df_T$Age))"
   ]
  },
  {
   "cell_type": "code",
   "execution_count": 4,
   "id": "ede02599",
   "metadata": {},
   "outputs": [
    {
     "data": {
      "text/html": [
       "<table>\n",
       "<thead><tr><th></th><th scope=col>PassengerId</th><th scope=col>Survived</th><th scope=col>Pclass</th><th scope=col>Name</th><th scope=col>Sex</th><th scope=col>Age</th><th scope=col>SibSp</th><th scope=col>Parch</th><th scope=col>Ticket</th><th scope=col>Fare</th><th scope=col>Cabin</th><th scope=col>Embarked</th><th scope=col>SexCode</th><th scope=col>Embarked_C</th><th scope=col>Embarked_S</th><th scope=col>Embarked_Q</th><th scope=col>AgeCode_0</th><th scope=col>AgeCode_1</th></tr></thead>\n",
       "<tbody>\n",
       "\t<tr><th scope=row>1</th><td>1                                                  </td><td>0                                                  </td><td>3                                                  </td><td>Braund, Mr. Owen Harris                            </td><td>male                                               </td><td>22                                                 </td><td>1                                                  </td><td>0                                                  </td><td>A/5 21171                                          </td><td> 7.2500                                            </td><td>                                                   </td><td>S                                                  </td><td>0                                                  </td><td>FALSE                                              </td><td> TRUE                                              </td><td>FALSE                                              </td><td>FALSE                                              </td><td>TRUE                                               </td></tr>\n",
       "\t<tr><th scope=row>2</th><td>2                                                  </td><td>1                                                  </td><td>1                                                  </td><td>Cumings, Mrs. John Bradley (Florence Briggs Thayer)</td><td>female                                             </td><td>38                                                 </td><td>1                                                  </td><td>0                                                  </td><td>PC 17599                                           </td><td>71.2833                                            </td><td>C85                                                </td><td>C                                                  </td><td>1                                                  </td><td> TRUE                                              </td><td>FALSE                                              </td><td>FALSE                                              </td><td>FALSE                                              </td><td>TRUE                                               </td></tr>\n",
       "\t<tr><th scope=row>3</th><td>3                                                  </td><td>1                                                  </td><td>3                                                  </td><td>Heikkinen, Miss. Laina                             </td><td>female                                             </td><td>26                                                 </td><td>0                                                  </td><td>0                                                  </td><td>STON/O2. 3101282                                   </td><td> 7.9250                                            </td><td>                                                   </td><td>S                                                  </td><td>1                                                  </td><td>FALSE                                              </td><td> TRUE                                              </td><td>FALSE                                              </td><td>FALSE                                              </td><td>TRUE                                               </td></tr>\n",
       "\t<tr><th scope=row>4</th><td>4                                                  </td><td>1                                                  </td><td>1                                                  </td><td>Futrelle, Mrs. Jacques Heath (Lily May Peel)       </td><td>female                                             </td><td>35                                                 </td><td>1                                                  </td><td>0                                                  </td><td>113803                                             </td><td>53.1000                                            </td><td>C123                                               </td><td>S                                                  </td><td>1                                                  </td><td>FALSE                                              </td><td> TRUE                                              </td><td>FALSE                                              </td><td>FALSE                                              </td><td>TRUE                                               </td></tr>\n",
       "\t<tr><th scope=row>5</th><td>5                                                  </td><td>0                                                  </td><td>3                                                  </td><td>Allen, Mr. William Henry                           </td><td>male                                               </td><td>35                                                 </td><td>0                                                  </td><td>0                                                  </td><td>373450                                             </td><td> 8.0500                                            </td><td>                                                   </td><td>S                                                  </td><td>0                                                  </td><td>FALSE                                              </td><td> TRUE                                              </td><td>FALSE                                              </td><td>FALSE                                              </td><td>TRUE                                               </td></tr>\n",
       "\t<tr><th scope=row>7</th><td>7                                                  </td><td>0                                                  </td><td>1                                                  </td><td>McCarthy, Mr. Timothy J                            </td><td>male                                               </td><td>54                                                 </td><td>0                                                  </td><td>0                                                  </td><td>17463                                              </td><td>51.8625                                            </td><td>E46                                                </td><td>S                                                  </td><td>0                                                  </td><td>FALSE                                              </td><td> TRUE                                              </td><td>FALSE                                              </td><td>FALSE                                              </td><td>TRUE                                               </td></tr>\n",
       "</tbody>\n",
       "</table>\n"
      ],
      "text/latex": [
       "\\begin{tabular}{r|llllllllllllllllll}\n",
       "  & PassengerId & Survived & Pclass & Name & Sex & Age & SibSp & Parch & Ticket & Fare & Cabin & Embarked & SexCode & Embarked\\_C & Embarked\\_S & Embarked\\_Q & AgeCode\\_0 & AgeCode\\_1\\\\\n",
       "\\hline\n",
       "\t1 & 1                                                   & 0                                                   & 3                                                   & Braund, Mr. Owen Harris                             & male                                                & 22                                                  & 1                                                   & 0                                                   & A/5 21171                                           &  7.2500                                             &                                                     & S                                                   & 0                                                   & FALSE                                               &  TRUE                                               & FALSE                                               & FALSE                                               & TRUE                                               \\\\\n",
       "\t2 & 2                                                   & 1                                                   & 1                                                   & Cumings, Mrs. John Bradley (Florence Briggs Thayer) & female                                              & 38                                                  & 1                                                   & 0                                                   & PC 17599                                            & 71.2833                                             & C85                                                 & C                                                   & 1                                                   &  TRUE                                               & FALSE                                               & FALSE                                               & FALSE                                               & TRUE                                               \\\\\n",
       "\t3 & 3                                                   & 1                                                   & 3                                                   & Heikkinen, Miss. Laina                              & female                                              & 26                                                  & 0                                                   & 0                                                   & STON/O2. 3101282                                    &  7.9250                                             &                                                     & S                                                   & 1                                                   & FALSE                                               &  TRUE                                               & FALSE                                               & FALSE                                               & TRUE                                               \\\\\n",
       "\t4 & 4                                                   & 1                                                   & 1                                                   & Futrelle, Mrs. Jacques Heath (Lily May Peel)        & female                                              & 35                                                  & 1                                                   & 0                                                   & 113803                                              & 53.1000                                             & C123                                                & S                                                   & 1                                                   & FALSE                                               &  TRUE                                               & FALSE                                               & FALSE                                               & TRUE                                               \\\\\n",
       "\t5 & 5                                                   & 0                                                   & 3                                                   & Allen, Mr. William Henry                            & male                                                & 35                                                  & 0                                                   & 0                                                   & 373450                                              &  8.0500                                             &                                                     & S                                                   & 0                                                   & FALSE                                               &  TRUE                                               & FALSE                                               & FALSE                                               & TRUE                                               \\\\\n",
       "\t7 & 7                                                   & 0                                                   & 1                                                   & McCarthy, Mr. Timothy J                             & male                                                & 54                                                  & 0                                                   & 0                                                   & 17463                                               & 51.8625                                             & E46                                                 & S                                                   & 0                                                   & FALSE                                               &  TRUE                                               & FALSE                                               & FALSE                                               & TRUE                                               \\\\\n",
       "\\end{tabular}\n"
      ],
      "text/markdown": [
       "\n",
       "| <!--/--> | PassengerId | Survived | Pclass | Name | Sex | Age | SibSp | Parch | Ticket | Fare | Cabin | Embarked | SexCode | Embarked_C | Embarked_S | Embarked_Q | AgeCode_0 | AgeCode_1 |\n",
       "|---|---|---|---|---|---|---|---|---|---|---|---|---|---|---|---|---|---|---|\n",
       "| 1 | 1                                                   | 0                                                   | 3                                                   | Braund, Mr. Owen Harris                             | male                                                | 22                                                  | 1                                                   | 0                                                   | A/5 21171                                           |  7.2500                                             |                                                     | S                                                   | 0                                                   | FALSE                                               |  TRUE                                               | FALSE                                               | FALSE                                               | TRUE                                                |\n",
       "| 2 | 2                                                   | 1                                                   | 1                                                   | Cumings, Mrs. John Bradley (Florence Briggs Thayer) | female                                              | 38                                                  | 1                                                   | 0                                                   | PC 17599                                            | 71.2833                                             | C85                                                 | C                                                   | 1                                                   |  TRUE                                               | FALSE                                               | FALSE                                               | FALSE                                               | TRUE                                                |\n",
       "| 3 | 3                                                   | 1                                                   | 3                                                   | Heikkinen, Miss. Laina                              | female                                              | 26                                                  | 0                                                   | 0                                                   | STON/O2. 3101282                                    |  7.9250                                             |                                                     | S                                                   | 1                                                   | FALSE                                               |  TRUE                                               | FALSE                                               | FALSE                                               | TRUE                                                |\n",
       "| 4 | 4                                                   | 1                                                   | 1                                                   | Futrelle, Mrs. Jacques Heath (Lily May Peel)        | female                                              | 35                                                  | 1                                                   | 0                                                   | 113803                                              | 53.1000                                             | C123                                                | S                                                   | 1                                                   | FALSE                                               |  TRUE                                               | FALSE                                               | FALSE                                               | TRUE                                                |\n",
       "| 5 | 5                                                   | 0                                                   | 3                                                   | Allen, Mr. William Henry                            | male                                                | 35                                                  | 0                                                   | 0                                                   | 373450                                              |  8.0500                                             |                                                     | S                                                   | 0                                                   | FALSE                                               |  TRUE                                               | FALSE                                               | FALSE                                               | TRUE                                                |\n",
       "| 7 | 7                                                   | 0                                                   | 1                                                   | McCarthy, Mr. Timothy J                             | male                                                | 54                                                  | 0                                                   | 0                                                   | 17463                                               | 51.8625                                             | E46                                                 | S                                                   | 0                                                   | FALSE                                               |  TRUE                                               | FALSE                                               | FALSE                                               | TRUE                                                |\n",
       "\n"
      ],
      "text/plain": [
       "  PassengerId Survived Pclass\n",
       "1 1           0        3     \n",
       "2 2           1        1     \n",
       "3 3           1        3     \n",
       "4 4           1        1     \n",
       "5 5           0        3     \n",
       "7 7           0        1     \n",
       "  Name                                                Sex    Age SibSp Parch\n",
       "1 Braund, Mr. Owen Harris                             male   22  1     0    \n",
       "2 Cumings, Mrs. John Bradley (Florence Briggs Thayer) female 38  1     0    \n",
       "3 Heikkinen, Miss. Laina                              female 26  0     0    \n",
       "4 Futrelle, Mrs. Jacques Heath (Lily May Peel)        female 35  1     0    \n",
       "5 Allen, Mr. William Henry                            male   35  0     0    \n",
       "7 McCarthy, Mr. Timothy J                             male   54  0     0    \n",
       "  Ticket           Fare    Cabin Embarked SexCode Embarked_C Embarked_S\n",
       "1 A/5 21171         7.2500       S        0       FALSE       TRUE     \n",
       "2 PC 17599         71.2833 C85   C        1        TRUE      FALSE     \n",
       "3 STON/O2. 3101282  7.9250       S        1       FALSE       TRUE     \n",
       "4 113803           53.1000 C123  S        1       FALSE       TRUE     \n",
       "5 373450            8.0500       S        0       FALSE       TRUE     \n",
       "7 17463            51.8625 E46   S        0       FALSE       TRUE     \n",
       "  Embarked_Q AgeCode_0 AgeCode_1\n",
       "1 FALSE      FALSE     TRUE     \n",
       "2 FALSE      FALSE     TRUE     \n",
       "3 FALSE      FALSE     TRUE     \n",
       "4 FALSE      FALSE     TRUE     \n",
       "5 FALSE      FALSE     TRUE     \n",
       "7 FALSE      FALSE     TRUE     "
      ]
     },
     "metadata": {},
     "output_type": "display_data"
    }
   ],
   "source": [
    "train_df_T$AgeCode_0 = train_df_T$Age<=5\n",
    "train_df_T$AgeCode_1= train_df_T$Age >5\n",
    "head((train_df_T))"
   ]
  },
  {
   "cell_type": "code",
   "execution_count": 5,
   "id": "334d431d",
   "metadata": {},
   "outputs": [
    {
     "data": {
      "text/html": [
       "<table>\n",
       "<thead><tr><th></th><th scope=col>Age</th><th scope=col>AgeCode_0</th><th scope=col>AgeCode_1</th></tr></thead>\n",
       "<tbody>\n",
       "\t<tr><th scope=row>1</th><td>22   </td><td>FALSE</td><td>TRUE </td></tr>\n",
       "\t<tr><th scope=row>2</th><td>38   </td><td>FALSE</td><td>TRUE </td></tr>\n",
       "\t<tr><th scope=row>3</th><td>26   </td><td>FALSE</td><td>TRUE </td></tr>\n",
       "\t<tr><th scope=row>4</th><td>35   </td><td>FALSE</td><td>TRUE </td></tr>\n",
       "\t<tr><th scope=row>5</th><td>35   </td><td>FALSE</td><td>TRUE </td></tr>\n",
       "\t<tr><th scope=row>7</th><td>54   </td><td>FALSE</td><td>TRUE </td></tr>\n",
       "</tbody>\n",
       "</table>\n"
      ],
      "text/latex": [
       "\\begin{tabular}{r|lll}\n",
       "  & Age & AgeCode\\_0 & AgeCode\\_1\\\\\n",
       "\\hline\n",
       "\t1 & 22    & FALSE & TRUE \\\\\n",
       "\t2 & 38    & FALSE & TRUE \\\\\n",
       "\t3 & 26    & FALSE & TRUE \\\\\n",
       "\t4 & 35    & FALSE & TRUE \\\\\n",
       "\t5 & 35    & FALSE & TRUE \\\\\n",
       "\t7 & 54    & FALSE & TRUE \\\\\n",
       "\\end{tabular}\n"
      ],
      "text/markdown": [
       "\n",
       "| <!--/--> | Age | AgeCode_0 | AgeCode_1 |\n",
       "|---|---|---|---|\n",
       "| 1 | 22    | FALSE | TRUE  |\n",
       "| 2 | 38    | FALSE | TRUE  |\n",
       "| 3 | 26    | FALSE | TRUE  |\n",
       "| 4 | 35    | FALSE | TRUE  |\n",
       "| 5 | 35    | FALSE | TRUE  |\n",
       "| 7 | 54    | FALSE | TRUE  |\n",
       "\n"
      ],
      "text/plain": [
       "  Age AgeCode_0 AgeCode_1\n",
       "1 22  FALSE     TRUE     \n",
       "2 38  FALSE     TRUE     \n",
       "3 26  FALSE     TRUE     \n",
       "4 35  FALSE     TRUE     \n",
       "5 35  FALSE     TRUE     \n",
       "7 54  FALSE     TRUE     "
      ]
     },
     "metadata": {},
     "output_type": "display_data"
    },
    {
     "data": {
      "text/html": [
       "<table>\n",
       "<thead><tr><th></th><th scope=col>Age</th><th scope=col>AgeCode_0</th><th scope=col>AgeCode_1</th></tr></thead>\n",
       "<tbody>\n",
       "\t<tr><th scope=row>885</th><td>25   </td><td>FALSE</td><td>TRUE </td></tr>\n",
       "\t<tr><th scope=row>886</th><td>39   </td><td>FALSE</td><td>TRUE </td></tr>\n",
       "\t<tr><th scope=row>887</th><td>27   </td><td>FALSE</td><td>TRUE </td></tr>\n",
       "\t<tr><th scope=row>888</th><td>19   </td><td>FALSE</td><td>TRUE </td></tr>\n",
       "\t<tr><th scope=row>890</th><td>26   </td><td>FALSE</td><td>TRUE </td></tr>\n",
       "\t<tr><th scope=row>891</th><td>32   </td><td>FALSE</td><td>TRUE </td></tr>\n",
       "</tbody>\n",
       "</table>\n"
      ],
      "text/latex": [
       "\\begin{tabular}{r|lll}\n",
       "  & Age & AgeCode\\_0 & AgeCode\\_1\\\\\n",
       "\\hline\n",
       "\t885 & 25    & FALSE & TRUE \\\\\n",
       "\t886 & 39    & FALSE & TRUE \\\\\n",
       "\t887 & 27    & FALSE & TRUE \\\\\n",
       "\t888 & 19    & FALSE & TRUE \\\\\n",
       "\t890 & 26    & FALSE & TRUE \\\\\n",
       "\t891 & 32    & FALSE & TRUE \\\\\n",
       "\\end{tabular}\n"
      ],
      "text/markdown": [
       "\n",
       "| <!--/--> | Age | AgeCode_0 | AgeCode_1 |\n",
       "|---|---|---|---|\n",
       "| 885 | 25    | FALSE | TRUE  |\n",
       "| 886 | 39    | FALSE | TRUE  |\n",
       "| 887 | 27    | FALSE | TRUE  |\n",
       "| 888 | 19    | FALSE | TRUE  |\n",
       "| 890 | 26    | FALSE | TRUE  |\n",
       "| 891 | 32    | FALSE | TRUE  |\n",
       "\n"
      ],
      "text/plain": [
       "    Age AgeCode_0 AgeCode_1\n",
       "885 25  FALSE     TRUE     \n",
       "886 39  FALSE     TRUE     \n",
       "887 27  FALSE     TRUE     \n",
       "888 19  FALSE     TRUE     \n",
       "890 26  FALSE     TRUE     \n",
       "891 32  FALSE     TRUE     "
      ]
     },
     "metadata": {},
     "output_type": "display_data"
    }
   ],
   "source": [
    "head(train_df_T[c(\"Age\",'AgeCode_0','AgeCode_1')])\n",
    "tail(train_df_T[c(\"Age\",'AgeCode_0','AgeCode_1')])"
   ]
  },
  {
   "cell_type": "code",
   "execution_count": 6,
   "id": "4b645bf2",
   "metadata": {},
   "outputs": [
    {
     "data": {
      "text/html": [
       "<table>\n",
       "<thead><tr><th></th><th scope=col>Survived</th><th scope=col>Pclass</th><th scope=col>SexCode</th><th scope=col>Embarked_C</th><th scope=col>Embarked_S</th><th scope=col>Embarked_Q</th><th scope=col>AgeCode_0</th><th scope=col>AgeCode_1</th></tr></thead>\n",
       "<tbody>\n",
       "\t<tr><th scope=row>1</th><td>0    </td><td>3    </td><td>0    </td><td>FALSE</td><td> TRUE</td><td>FALSE</td><td>FALSE</td><td>TRUE </td></tr>\n",
       "\t<tr><th scope=row>2</th><td>1    </td><td>1    </td><td>1    </td><td> TRUE</td><td>FALSE</td><td>FALSE</td><td>FALSE</td><td>TRUE </td></tr>\n",
       "\t<tr><th scope=row>3</th><td>1    </td><td>3    </td><td>1    </td><td>FALSE</td><td> TRUE</td><td>FALSE</td><td>FALSE</td><td>TRUE </td></tr>\n",
       "\t<tr><th scope=row>4</th><td>1    </td><td>1    </td><td>1    </td><td>FALSE</td><td> TRUE</td><td>FALSE</td><td>FALSE</td><td>TRUE </td></tr>\n",
       "\t<tr><th scope=row>5</th><td>0    </td><td>3    </td><td>0    </td><td>FALSE</td><td> TRUE</td><td>FALSE</td><td>FALSE</td><td>TRUE </td></tr>\n",
       "\t<tr><th scope=row>7</th><td>0    </td><td>1    </td><td>0    </td><td>FALSE</td><td> TRUE</td><td>FALSE</td><td>FALSE</td><td>TRUE </td></tr>\n",
       "</tbody>\n",
       "</table>\n"
      ],
      "text/latex": [
       "\\begin{tabular}{r|llllllll}\n",
       "  & Survived & Pclass & SexCode & Embarked\\_C & Embarked\\_S & Embarked\\_Q & AgeCode\\_0 & AgeCode\\_1\\\\\n",
       "\\hline\n",
       "\t1 & 0     & 3     & 0     & FALSE &  TRUE & FALSE & FALSE & TRUE \\\\\n",
       "\t2 & 1     & 1     & 1     &  TRUE & FALSE & FALSE & FALSE & TRUE \\\\\n",
       "\t3 & 1     & 3     & 1     & FALSE &  TRUE & FALSE & FALSE & TRUE \\\\\n",
       "\t4 & 1     & 1     & 1     & FALSE &  TRUE & FALSE & FALSE & TRUE \\\\\n",
       "\t5 & 0     & 3     & 0     & FALSE &  TRUE & FALSE & FALSE & TRUE \\\\\n",
       "\t7 & 0     & 1     & 0     & FALSE &  TRUE & FALSE & FALSE & TRUE \\\\\n",
       "\\end{tabular}\n"
      ],
      "text/markdown": [
       "\n",
       "| <!--/--> | Survived | Pclass | SexCode | Embarked_C | Embarked_S | Embarked_Q | AgeCode_0 | AgeCode_1 |\n",
       "|---|---|---|---|---|---|---|---|---|\n",
       "| 1 | 0     | 3     | 0     | FALSE |  TRUE | FALSE | FALSE | TRUE  |\n",
       "| 2 | 1     | 1     | 1     |  TRUE | FALSE | FALSE | FALSE | TRUE  |\n",
       "| 3 | 1     | 3     | 1     | FALSE |  TRUE | FALSE | FALSE | TRUE  |\n",
       "| 4 | 1     | 1     | 1     | FALSE |  TRUE | FALSE | FALSE | TRUE  |\n",
       "| 5 | 0     | 3     | 0     | FALSE |  TRUE | FALSE | FALSE | TRUE  |\n",
       "| 7 | 0     | 1     | 0     | FALSE |  TRUE | FALSE | FALSE | TRUE  |\n",
       "\n"
      ],
      "text/plain": [
       "  Survived Pclass SexCode Embarked_C Embarked_S Embarked_Q AgeCode_0 AgeCode_1\n",
       "1 0        3      0       FALSE       TRUE      FALSE      FALSE     TRUE     \n",
       "2 1        1      1        TRUE      FALSE      FALSE      FALSE     TRUE     \n",
       "3 1        3      1       FALSE       TRUE      FALSE      FALSE     TRUE     \n",
       "4 1        1      1       FALSE       TRUE      FALSE      FALSE     TRUE     \n",
       "5 0        3      0       FALSE       TRUE      FALSE      FALSE     TRUE     \n",
       "7 0        1      0       FALSE       TRUE      FALSE      FALSE     TRUE     "
      ]
     },
     "metadata": {},
     "output_type": "display_data"
    }
   ],
   "source": [
    "target_col = c(\"Survived\", \"Pclass\",\"SexCode\",'Embarked_C','Embarked_S','Embarked_Q','AgeCode_0','AgeCode_1')\n",
    "head(train_df_T[,target_col])"
   ]
  },
  {
   "cell_type": "code",
   "execution_count": 7,
   "id": "dee73e9e",
   "metadata": {},
   "outputs": [],
   "source": [
    "train_data <- train_df_T[,target_col]"
   ]
  },
  {
   "cell_type": "code",
   "execution_count": 8,
   "id": "0d356831",
   "metadata": {},
   "outputs": [
    {
     "data": {
      "text/html": [
       "<table>\n",
       "<thead><tr><th></th><th scope=col>Survived</th><th scope=col>Pclass</th><th scope=col>SexCode</th><th scope=col>Embarked_C</th><th scope=col>Embarked_S</th><th scope=col>Embarked_Q</th><th scope=col>AgeCode_0</th><th scope=col>AgeCode_1</th></tr></thead>\n",
       "<tbody>\n",
       "\t<tr><th scope=row>1</th><td>0    </td><td>3    </td><td>0    </td><td>FALSE</td><td> TRUE</td><td>FALSE</td><td>FALSE</td><td>TRUE </td></tr>\n",
       "\t<tr><th scope=row>2</th><td>1    </td><td>1    </td><td>1    </td><td> TRUE</td><td>FALSE</td><td>FALSE</td><td>FALSE</td><td>TRUE </td></tr>\n",
       "\t<tr><th scope=row>3</th><td>1    </td><td>3    </td><td>1    </td><td>FALSE</td><td> TRUE</td><td>FALSE</td><td>FALSE</td><td>TRUE </td></tr>\n",
       "\t<tr><th scope=row>4</th><td>1    </td><td>1    </td><td>1    </td><td>FALSE</td><td> TRUE</td><td>FALSE</td><td>FALSE</td><td>TRUE </td></tr>\n",
       "\t<tr><th scope=row>5</th><td>0    </td><td>3    </td><td>0    </td><td>FALSE</td><td> TRUE</td><td>FALSE</td><td>FALSE</td><td>TRUE </td></tr>\n",
       "\t<tr><th scope=row>7</th><td>0    </td><td>1    </td><td>0    </td><td>FALSE</td><td> TRUE</td><td>FALSE</td><td>FALSE</td><td>TRUE </td></tr>\n",
       "</tbody>\n",
       "</table>\n"
      ],
      "text/latex": [
       "\\begin{tabular}{r|llllllll}\n",
       "  & Survived & Pclass & SexCode & Embarked\\_C & Embarked\\_S & Embarked\\_Q & AgeCode\\_0 & AgeCode\\_1\\\\\n",
       "\\hline\n",
       "\t1 & 0     & 3     & 0     & FALSE &  TRUE & FALSE & FALSE & TRUE \\\\\n",
       "\t2 & 1     & 1     & 1     &  TRUE & FALSE & FALSE & FALSE & TRUE \\\\\n",
       "\t3 & 1     & 3     & 1     & FALSE &  TRUE & FALSE & FALSE & TRUE \\\\\n",
       "\t4 & 1     & 1     & 1     & FALSE &  TRUE & FALSE & FALSE & TRUE \\\\\n",
       "\t5 & 0     & 3     & 0     & FALSE &  TRUE & FALSE & FALSE & TRUE \\\\\n",
       "\t7 & 0     & 1     & 0     & FALSE &  TRUE & FALSE & FALSE & TRUE \\\\\n",
       "\\end{tabular}\n"
      ],
      "text/markdown": [
       "\n",
       "| <!--/--> | Survived | Pclass | SexCode | Embarked_C | Embarked_S | Embarked_Q | AgeCode_0 | AgeCode_1 |\n",
       "|---|---|---|---|---|---|---|---|---|\n",
       "| 1 | 0     | 3     | 0     | FALSE |  TRUE | FALSE | FALSE | TRUE  |\n",
       "| 2 | 1     | 1     | 1     |  TRUE | FALSE | FALSE | FALSE | TRUE  |\n",
       "| 3 | 1     | 3     | 1     | FALSE |  TRUE | FALSE | FALSE | TRUE  |\n",
       "| 4 | 1     | 1     | 1     | FALSE |  TRUE | FALSE | FALSE | TRUE  |\n",
       "| 5 | 0     | 3     | 0     | FALSE |  TRUE | FALSE | FALSE | TRUE  |\n",
       "| 7 | 0     | 1     | 0     | FALSE |  TRUE | FALSE | FALSE | TRUE  |\n",
       "\n"
      ],
      "text/plain": [
       "  Survived Pclass SexCode Embarked_C Embarked_S Embarked_Q AgeCode_0 AgeCode_1\n",
       "1 0        3      0       FALSE       TRUE      FALSE      FALSE     TRUE     \n",
       "2 1        1      1        TRUE      FALSE      FALSE      FALSE     TRUE     \n",
       "3 1        3      1       FALSE       TRUE      FALSE      FALSE     TRUE     \n",
       "4 1        1      1       FALSE       TRUE      FALSE      FALSE     TRUE     \n",
       "5 0        3      0       FALSE       TRUE      FALSE      FALSE     TRUE     \n",
       "7 0        1      0       FALSE       TRUE      FALSE      FALSE     TRUE     "
      ]
     },
     "metadata": {},
     "output_type": "display_data"
    }
   ],
   "source": [
    "head(train_data )"
   ]
  },
  {
   "cell_type": "code",
   "execution_count": 9,
   "id": "e536e313",
   "metadata": {},
   "outputs": [
    {
     "name": "stderr",
     "output_type": "stream",
     "text": [
      "Loading required package: lattice\n",
      "Loading required package: ggplot2\n",
      "Registered S3 methods overwritten by 'ggplot2':\n",
      "  method         from \n",
      "  [.quosures     rlang\n",
      "  c.quosures     rlang\n",
      "  print.quosures rlang\n"
     ]
    }
   ],
   "source": [
    "set.seed(1234)\n",
    "library(caret)\n",
    "samp<-createDataPartition(train_data$Survived, p=0.7, list=F)"
   ]
  },
  {
   "cell_type": "code",
   "execution_count": 10,
   "id": "5960eace",
   "metadata": {},
   "outputs": [],
   "source": [
    "data.train<-train_data[samp,]\n",
    "data.test<-train_data[-samp,]"
   ]
  },
  {
   "cell_type": "code",
   "execution_count": 11,
   "id": "ef311c62",
   "metadata": {},
   "outputs": [
    {
     "name": "stderr",
     "output_type": "stream",
     "text": [
      "randomForest 4.6-14\n",
      "Type rfNews() to see new features/changes/bug fixes.\n",
      "\n",
      "Attaching package: ‘randomForest’\n",
      "\n",
      "The following object is masked from ‘package:ggplot2’:\n",
      "\n",
      "    margin\n",
      "\n"
     ]
    }
   ],
   "source": [
    "library(randomForest)"
   ]
  },
  {
   "cell_type": "code",
   "execution_count": 12,
   "id": "12d005f9",
   "metadata": {},
   "outputs": [
    {
     "name": "stderr",
     "output_type": "stream",
     "text": [
      "Warning message in randomForest.default(m, y, ...):\n",
      "“The response has five or fewer unique values.  Are you sure you want to do regression?”"
     ]
    }
   ],
   "source": [
    "model.rf<-randomForest(Survived~., data=data.train, ntree=100)"
   ]
  },
  {
   "cell_type": "code",
   "execution_count": 13,
   "id": "7cc8b09d",
   "metadata": {},
   "outputs": [],
   "source": [
    "x <- subset(data.test, select=-Survived)\n",
    "y <- data.test$Survived"
   ]
  },
  {
   "cell_type": "code",
   "execution_count": 14,
   "id": "524dade9",
   "metadata": {},
   "outputs": [
    {
     "data": {
      "text/html": [
       "<dl class=dl-horizontal>\n",
       "\t<dt>3</dt>\n",
       "\t\t<dd>0.421460366256047</dd>\n",
       "\t<dt>5</dt>\n",
       "\t\t<dd>0.175588958167634</dd>\n",
       "\t<dt>7</dt>\n",
       "\t\t<dd>0.36186746962657</dd>\n",
       "\t<dt>8</dt>\n",
       "\t\t<dd>0.525694168798354</dd>\n",
       "\t<dt>9</dt>\n",
       "\t\t<dd>0.421460366256047</dd>\n",
       "\t<dt>10</dt>\n",
       "\t\t<dd>0.829340267619122</dd>\n",
       "</dl>\n"
      ],
      "text/latex": [
       "\\begin{description*}\n",
       "\\item[3] 0.421460366256047\n",
       "\\item[5] 0.175588958167634\n",
       "\\item[7] 0.36186746962657\n",
       "\\item[8] 0.525694168798354\n",
       "\\item[9] 0.421460366256047\n",
       "\\item[10] 0.829340267619122\n",
       "\\end{description*}\n"
      ],
      "text/markdown": [
       "3\n",
       ":   0.4214603662560475\n",
       ":   0.1755889581676347\n",
       ":   0.361867469626578\n",
       ":   0.5256941687983549\n",
       ":   0.42146036625604710\n",
       ":   0.829340267619122\n",
       "\n"
      ],
      "text/plain": [
       "        3         5         7         8         9        10 \n",
       "0.4214604 0.1755890 0.3618675 0.5256942 0.4214604 0.8293403 "
      ]
     },
     "metadata": {},
     "output_type": "display_data"
    }
   ],
   "source": [
    "pred <- predict(model.rf, x)\n",
    "head(pred)"
   ]
  },
  {
   "cell_type": "code",
   "execution_count": 15,
   "id": "a3e599d8",
   "metadata": {},
   "outputs": [
    {
     "data": {
      "text/html": [
       "0"
      ],
      "text/latex": [
       "0"
      ],
      "text/markdown": [
       "0"
      ],
      "text/plain": [
       "[1] 0"
      ]
     },
     "metadata": {},
     "output_type": "display_data"
    }
   ],
   "source": [
    "mean(pred==y)"
   ]
  },
  {
   "cell_type": "code",
   "execution_count": 16,
   "id": "0e904353",
   "metadata": {},
   "outputs": [],
   "source": [
    "data.train$Survived <-as.factor(data.train$Survived)\n",
    "data.test$Survived <-as.factor(data.test$Survived)"
   ]
  },
  {
   "cell_type": "code",
   "execution_count": 17,
   "id": "0fe2b7e3",
   "metadata": {},
   "outputs": [],
   "source": [
    "rf <- randomForest(Survived~., data=data.train, ntree=100)"
   ]
  },
  {
   "cell_type": "code",
   "execution_count": 18,
   "id": "647d11e4",
   "metadata": {},
   "outputs": [],
   "source": [
    "x<-subset(data.test, select = -Survived)\n",
    "y<- data.test$Survived"
   ]
  },
  {
   "cell_type": "code",
   "execution_count": 19,
   "id": "de30dd60",
   "metadata": {},
   "outputs": [],
   "source": [
    "pred <- predict(rf, x)"
   ]
  },
  {
   "cell_type": "code",
   "execution_count": 20,
   "id": "2bb4518d",
   "metadata": {},
   "outputs": [
    {
     "data": {
      "text/html": [
       "0.845794392523365"
      ],
      "text/latex": [
       "0.845794392523365"
      ],
      "text/markdown": [
       "0.845794392523365"
      ],
      "text/plain": [
       "[1] 0.8457944"
      ]
     },
     "metadata": {},
     "output_type": "display_data"
    }
   ],
   "source": [
    "mean(pred==y)"
   ]
  },
  {
   "cell_type": "code",
   "execution_count": 21,
   "id": "c8027973",
   "metadata": {},
   "outputs": [
    {
     "name": "stderr",
     "output_type": "stream",
     "text": [
      "Loading required package: grid\n",
      "Loading required package: mvtnorm\n",
      "Loading required package: modeltools\n",
      "Loading required package: stats4\n",
      "Loading required package: strucchange\n",
      "Loading required package: zoo\n",
      "\n",
      "Attaching package: ‘zoo’\n",
      "\n",
      "The following objects are masked from ‘package:base’:\n",
      "\n",
      "    as.Date, as.Date.numeric\n",
      "\n",
      "Loading required package: sandwich\n"
     ]
    }
   ],
   "source": [
    "library(party)"
   ]
  },
  {
   "cell_type": "code",
   "execution_count": 22,
   "id": "9c79c0b8",
   "metadata": {},
   "outputs": [],
   "source": [
    "model.ctree <-ctree(Survived~., data=data.train)"
   ]
  },
  {
   "cell_type": "code",
   "execution_count": 23,
   "id": "021bfef7",
   "metadata": {},
   "outputs": [],
   "source": [
    "pred <- predict(model.ctree , x)"
   ]
  },
  {
   "cell_type": "code",
   "execution_count": 24,
   "id": "5ec16f2c",
   "metadata": {},
   "outputs": [
    {
     "data": {
      "text/html": [
       "0.827102803738318"
      ],
      "text/latex": [
       "0.827102803738318"
      ],
      "text/markdown": [
       "0.827102803738318"
      ],
      "text/plain": [
       "[1] 0.8271028"
      ]
     },
     "metadata": {},
     "output_type": "display_data"
    }
   ],
   "source": [
    "mean(pred==y)"
   ]
  },
  {
   "cell_type": "code",
   "execution_count": 25,
   "id": "c2470ff5",
   "metadata": {},
   "outputs": [],
   "source": [
    "library(e1071)"
   ]
  },
  {
   "cell_type": "code",
   "execution_count": 26,
   "id": "2fb9092a",
   "metadata": {},
   "outputs": [
    {
     "data": {
      "text/html": [
       "0.841121495327103"
      ],
      "text/latex": [
       "0.841121495327103"
      ],
      "text/markdown": [
       "0.841121495327103"
      ],
      "text/plain": [
       "[1] 0.8411215"
      ]
     },
     "metadata": {},
     "output_type": "display_data"
    }
   ],
   "source": [
    "model.svm <-svm(Survived~., data=data.train)\n",
    "pred <- predict(model.svm, x)\n",
    "mean(pred==y)"
   ]
  },
  {
   "cell_type": "code",
   "execution_count": 27,
   "id": "e38d9cff",
   "metadata": {},
   "outputs": [
    {
     "data": {
      "text/html": [
       "<ol class=list-inline>\n",
       "\t<li>0.84</li>\n",
       "\t<li>0.84</li>\n",
       "\t<li>0.84</li>\n",
       "\t<li>0.84</li>\n",
       "\t<li>0.84</li>\n",
       "</ol>\n"
      ],
      "text/latex": [
       "\\begin{enumerate*}\n",
       "\\item 0.84\n",
       "\\item 0.84\n",
       "\\item 0.84\n",
       "\\item 0.84\n",
       "\\item 0.84\n",
       "\\end{enumerate*}\n"
      ],
      "text/markdown": [
       "1. 0.84\n",
       "2. 0.84\n",
       "3. 0.84\n",
       "4. 0.84\n",
       "5. 0.84\n",
       "\n",
       "\n"
      ],
      "text/plain": [
       "[1] 0.84 0.84 0.84 0.84 0.84"
      ]
     },
     "metadata": {},
     "output_type": "display_data"
    },
    {
     "data": {
      "text/html": [
       "0.84"
      ],
      "text/latex": [
       "0.84"
      ],
      "text/markdown": [
       "0.84"
      ],
      "text/plain": [
       "[1] 0.84"
      ]
     },
     "metadata": {},
     "output_type": "display_data"
    }
   ],
   "source": [
    "test<-c()\n",
    "\n",
    "for(i in 1:5){\n",
    "    \n",
    "    model.svm <-svm(Survived~., data=data.train)\n",
    "    pred <- predict(model.svm, x)\n",
    "    test<-append(test,round(mean(pred==y),2))\n",
    "    \n",
    "}\n",
    "test\n",
    "mean(test)"
   ]
  },
  {
   "cell_type": "code",
   "execution_count": 28,
   "id": "b29f782e",
   "metadata": {},
   "outputs": [
    {
     "data": {
      "text/html": [
       "<ol class=list-inline>\n",
       "\t<li>0.83</li>\n",
       "\t<li>0.83</li>\n",
       "\t<li>0.83</li>\n",
       "\t<li>0.83</li>\n",
       "\t<li>0.83</li>\n",
       "</ol>\n"
      ],
      "text/latex": [
       "\\begin{enumerate*}\n",
       "\\item 0.83\n",
       "\\item 0.83\n",
       "\\item 0.83\n",
       "\\item 0.83\n",
       "\\item 0.83\n",
       "\\end{enumerate*}\n"
      ],
      "text/markdown": [
       "1. 0.83\n",
       "2. 0.83\n",
       "3. 0.83\n",
       "4. 0.83\n",
       "5. 0.83\n",
       "\n",
       "\n"
      ],
      "text/plain": [
       "[1] 0.83 0.83 0.83 0.83 0.83"
      ]
     },
     "metadata": {},
     "output_type": "display_data"
    },
    {
     "data": {
      "text/html": [
       "0.83"
      ],
      "text/latex": [
       "0.83"
      ],
      "text/markdown": [
       "0.83"
      ],
      "text/plain": [
       "[1] 0.83"
      ]
     },
     "metadata": {},
     "output_type": "display_data"
    }
   ],
   "source": [
    "test<-c()\n",
    "\n",
    "for(i in 1:5){\n",
    "    \n",
    "    model.ctree <-ctree(Survived~., data=data.train)\n",
    "    pred <- predict(model.ctree , x)\n",
    "    test<-append(test,round(mean(pred==y),2))\n",
    "    \n",
    "}\n",
    "test\n",
    "mean(test)"
   ]
  },
  {
   "cell_type": "code",
   "execution_count": 29,
   "id": "49f8fda0",
   "metadata": {},
   "outputs": [
    {
     "name": "stdout",
     "output_type": "stream",
     "text": [
      "0.82710280.82710280.82710280.82710280.8271028"
     ]
    },
    {
     "data": {
      "text/plain": [
       "NULL"
      ]
     },
     "metadata": {},
     "output_type": "display_data"
    },
    {
     "name": "stderr",
     "output_type": "stream",
     "text": [
      "Warning message in mean.default(test):\n",
      "“argument is not numeric or logical: returning NA”"
     ]
    },
    {
     "data": {
      "text/html": [
       "&lt;NA&gt;"
      ],
      "text/latex": [
       "<NA>"
      ],
      "text/markdown": [
       "&lt;NA&gt;"
      ],
      "text/plain": [
       "[1] NA"
      ]
     },
     "metadata": {},
     "output_type": "display_data"
    }
   ],
   "source": [
    "test<-c()\n",
    "\n",
    "for(i in 1:5){\n",
    "    \n",
    "    model.ctree <-ctree(Survived~., data=data.train)\n",
    "    pred <- predict(model.ctree , x)\n",
    "    cat(mean(pred==y))\n",
    "    \n",
    "}\n",
    "test\n",
    "mean(test)"
   ]
  },
  {
   "cell_type": "code",
   "execution_count": 30,
   "id": "7f05d6ba",
   "metadata": {},
   "outputs": [
    {
     "data": {
      "text/html": [
       "<ol class=list-inline>\n",
       "\t<li>0.83</li>\n",
       "\t<li>0.84</li>\n",
       "\t<li>0.85</li>\n",
       "\t<li>0.84</li>\n",
       "\t<li>0.84</li>\n",
       "</ol>\n"
      ],
      "text/latex": [
       "\\begin{enumerate*}\n",
       "\\item 0.83\n",
       "\\item 0.84\n",
       "\\item 0.85\n",
       "\\item 0.84\n",
       "\\item 0.84\n",
       "\\end{enumerate*}\n"
      ],
      "text/markdown": [
       "1. 0.83\n",
       "2. 0.84\n",
       "3. 0.85\n",
       "4. 0.84\n",
       "5. 0.84\n",
       "\n",
       "\n"
      ],
      "text/plain": [
       "[1] 0.83 0.84 0.85 0.84 0.84"
      ]
     },
     "metadata": {},
     "output_type": "display_data"
    },
    {
     "data": {
      "text/html": [
       "0.84"
      ],
      "text/latex": [
       "0.84"
      ],
      "text/markdown": [
       "0.84"
      ],
      "text/plain": [
       "[1] 0.84"
      ]
     },
     "metadata": {},
     "output_type": "display_data"
    }
   ],
   "source": [
    "test<-c()\n",
    "for(i in 1:5){\n",
    "    \n",
    "rf <- randomForest(Survived~., data=data.train, ntree=100)\n",
    "pred <- predict(rf, x)\n",
    "test<-append(test,round(mean(pred==y),2))\n",
    "}\n",
    "\n",
    "    test\n",
    "mean(test)"
   ]
  },
  {
   "cell_type": "code",
   "execution_count": 31,
   "id": "773a9731",
   "metadata": {},
   "outputs": [
    {
     "name": "stdout",
     "output_type": "stream",
     "text": [
      "'data.frame':\t500 obs. of  8 variables:\n",
      " $ Survived  : Factor w/ 2 levels \"0\",\"1\": 1 2 2 2 2 1 1 1 2 1 ...\n",
      " $ Pclass    : int  3 1 1 3 1 3 3 3 2 2 ...\n",
      " $ SexCode   : num  0 1 1 1 1 0 0 1 1 0 ...\n",
      " $ Embarked_C: logi  FALSE TRUE FALSE FALSE FALSE FALSE ...\n",
      " $ Embarked_S: logi  TRUE FALSE TRUE TRUE TRUE TRUE ...\n",
      " $ Embarked_Q: logi  FALSE FALSE FALSE FALSE FALSE FALSE ...\n",
      " $ AgeCode_0 : logi  FALSE FALSE FALSE TRUE FALSE FALSE ...\n",
      " $ AgeCode_1 : logi  TRUE TRUE TRUE FALSE TRUE TRUE ...\n"
     ]
    }
   ],
   "source": [
    "str(data.train)"
   ]
  },
  {
   "cell_type": "code",
   "execution_count": null,
   "id": "957562ae",
   "metadata": {},
   "outputs": [],
   "source": []
  }
 ],
 "metadata": {
  "kernelspec": {
   "display_name": "R",
   "language": "R",
   "name": "ir"
  },
  "language_info": {
   "codemirror_mode": "r",
   "file_extension": ".r",
   "mimetype": "text/x-r-source",
   "name": "R",
   "pygments_lexer": "r",
   "version": "3.6.1"
  }
 },
 "nbformat": 4,
 "nbformat_minor": 5
}
